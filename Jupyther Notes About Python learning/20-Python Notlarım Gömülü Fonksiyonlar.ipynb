{
 "cells": [
  {
   "cell_type": "markdown",
   "metadata": {},
   "source": [
    "# GÖMÜLÜ FONKSİYONLAR"
   ]
  },
  {
   "cell_type": "markdown",
   "metadata": {},
   "source": [
    "Python'da halihazırda bulunan, python geliştiricileri tarafından hazırlanmış olan fonksiyonlara gömülü (built-in) fonksiyonlar denir."
   ]
  },
  {
   "cell_type": "markdown",
   "metadata": {},
   "source": [
    "## abs() fonksiyonu"
   ]
  },
  {
   "cell_type": "markdown",
   "metadata": {},
   "source": [
    "Bu fonksiyon tek bir parametre alır ve bu parametrenin (bu parametre int, float veya complex olabilir) mutlak değerini döndürür."
   ]
  },
  {
   "cell_type": "code",
   "execution_count": 2,
   "metadata": {},
   "outputs": [
    {
     "data": {
      "text/plain": [
       "234.03418553707064"
      ]
     },
     "execution_count": 2,
     "metadata": {},
     "output_type": "execute_result"
    }
   ],
   "source": [
    "abs(-234+4j)"
   ]
  },
  {
   "cell_type": "markdown",
   "metadata": {},
   "source": [
    "## round() fonksiyonu"
   ]
  },
  {
   "cell_type": "markdown",
   "metadata": {},
   "source": [
    "Bu fonksiyon sayıları belli ölçütlere göre en aşağı veya yukarı yuvarlamaya yarar. İki parametre alır, ilk parametre yuvarlanacak sayıdır, ikinci parametre ise yuvarlama hane sayısıdır. Burada dikkat edilecek önemli bir husus eğer ondalıklı sayı aşağı ve yukarı tam saynın tam ortasında bir değerse bu fonksiyon sayıyı çift sayıya doğru yuvarlar."
   ]
  },
  {
   "cell_type": "code",
   "execution_count": 3,
   "metadata": {},
   "outputs": [
    {
     "name": "stdout",
     "output_type": "stream",
     "text": [
      "3.142857142857143\n"
     ]
    },
    {
     "data": {
      "text/plain": [
       "3.1429"
      ]
     },
     "execution_count": 3,
     "metadata": {},
     "output_type": "execute_result"
    }
   ],
   "source": [
    "pi=22/7\n",
    "print(pi)\n",
    "round(pi,4)"
   ]
  },
  {
   "cell_type": "code",
   "execution_count": 4,
   "metadata": {},
   "outputs": [
    {
     "data": {
      "text/plain": [
       "43"
      ]
     },
     "execution_count": 4,
     "metadata": {},
     "output_type": "execute_result"
    }
   ],
   "source": [
    "round(43,4)"
   ]
  },
  {
   "cell_type": "code",
   "execution_count": 10,
   "metadata": {},
   "outputs": [
    {
     "data": {
      "text/plain": [
       "46"
      ]
     },
     "execution_count": 10,
     "metadata": {},
     "output_type": "execute_result"
    }
   ],
   "source": [
    "round(45.5) # yukarı yuvarlar çünkü çift sayı"
   ]
  },
  {
   "cell_type": "code",
   "execution_count": 9,
   "metadata": {},
   "outputs": [
    {
     "data": {
      "text/plain": [
       "32"
      ]
     },
     "execution_count": 9,
     "metadata": {},
     "output_type": "execute_result"
    }
   ],
   "source": [
    "round(32.5) # aşağı yuvarlar çünkü çift sayı"
   ]
  },
  {
   "cell_type": "markdown",
   "metadata": {},
   "source": [
    "## all() fonksiyonu"
   ]
  },
  {
   "cell_type": "markdown",
   "metadata": {},
   "source": [
    "Bu fonksiyon bir dizi içindeki bütün değerler True ise True, aksi durumda False döndürür."
   ]
  },
  {
   "cell_type": "code",
   "execution_count": 67,
   "metadata": {},
   "outputs": [
    {
     "data": {
      "text/plain": [
       "True"
      ]
     },
     "execution_count": 67,
     "metadata": {},
     "output_type": "execute_result"
    }
   ],
   "source": [
    "#Aynı işlemi yapan fonksiyonumuzu kendimiz tanımlayalım:\n",
    "def hepsi(x):\n",
    "    for i in x:\n",
    "        if not i:\n",
    "            return False\n",
    "    return True\n",
    "liste=[2,34,5,\"7\",\"ahmet\",\"elma\"]\n",
    "hepsi(liste)"
   ]
  },
  {
   "cell_type": "code",
   "execution_count": 38,
   "metadata": {},
   "outputs": [
    {
     "data": {
      "text/plain": [
       "True"
      ]
     },
     "execution_count": 38,
     "metadata": {},
     "output_type": "execute_result"
    }
   ],
   "source": [
    "liste=[2,34,5,7,\"ahmet\",\"elma\"]\n",
    "all(liste)"
   ]
  },
  {
   "cell_type": "code",
   "execution_count": 24,
   "metadata": {},
   "outputs": [
    {
     "data": {
      "text/plain": [
       "False"
      ]
     },
     "execution_count": 24,
     "metadata": {},
     "output_type": "execute_result"
    }
   ],
   "source": [
    "liste=[2,34,5,0,7]\n",
    "all(liste)"
   ]
  },
  {
   "cell_type": "code",
   "execution_count": 15,
   "metadata": {},
   "outputs": [
    {
     "data": {
      "text/plain": [
       "False"
      ]
     },
     "execution_count": 15,
     "metadata": {},
     "output_type": "execute_result"
    }
   ],
   "source": [
    "liste=[2,34,5,7,\"ahmet\",\"elma\",\"\"]\n",
    "all(liste)"
   ]
  },
  {
   "cell_type": "code",
   "execution_count": 17,
   "metadata": {},
   "outputs": [
    {
     "data": {
      "text/plain": [
       "True"
      ]
     },
     "execution_count": 17,
     "metadata": {},
     "output_type": "execute_result"
    }
   ],
   "source": [
    "a = 3\n",
    "t1 = a == 3         #sayı 3 mü?\n",
    "t2 = a < 4          #sayı 4'ten küçük mü?\n",
    "t3 = a % 2 == 1     #sayı bir tek sayı mı?\n",
    "all([t1, t2, t3])   #sayı bu özelliklerin hepsine sahip mi?"
   ]
  },
  {
   "cell_type": "code",
   "execution_count": 22,
   "metadata": {},
   "outputs": [
    {
     "data": {
      "text/plain": [
       "True"
      ]
     },
     "execution_count": 22,
     "metadata": {},
     "output_type": "execute_result"
    }
   ],
   "source": [
    "b=4\n",
    "all([b==4,b<6,b>0,b!=\"\"])"
   ]
  },
  {
   "cell_type": "markdown",
   "metadata": {},
   "source": [
    "## any() fonksiyonu"
   ]
  },
  {
   "cell_type": "markdown",
   "metadata": {},
   "source": [
    "Bu fonksiyon da all() fonksiyonun değilidir. Yani, dizideki herhangi bir bool değeri True ise True verir, hepsi False ise False veirir."
   ]
  },
  {
   "cell_type": "code",
   "execution_count": 69,
   "metadata": {},
   "outputs": [
    {
     "data": {
      "text/plain": [
       "True"
      ]
     },
     "execution_count": 69,
     "metadata": {},
     "output_type": "execute_result"
    }
   ],
   "source": [
    "def herhangi(x):\n",
    "    for i in x:\n",
    "        if i:\n",
    "            return True\n",
    "    return False\n",
    "liste=[0,\"\",\"\",0,\"a\"]\n",
    "herhangi(liste)"
   ]
  },
  {
   "cell_type": "code",
   "execution_count": 23,
   "metadata": {},
   "outputs": [
    {
     "data": {
      "text/plain": [
       "True"
      ]
     },
     "execution_count": 23,
     "metadata": {},
     "output_type": "execute_result"
    }
   ],
   "source": [
    "liste=[2,34,5,7,\"ahmet\",\"elma\",\"\"]\n",
    "any(liste)"
   ]
  },
  {
   "cell_type": "code",
   "execution_count": 25,
   "metadata": {},
   "outputs": [
    {
     "data": {
      "text/plain": [
       "True"
      ]
     },
     "execution_count": 25,
     "metadata": {},
     "output_type": "execute_result"
    }
   ],
   "source": [
    "liste=[2,34,5,0,7]\n",
    "any(liste)"
   ]
  },
  {
   "cell_type": "code",
   "execution_count": 27,
   "metadata": {},
   "outputs": [
    {
     "data": {
      "text/plain": [
       "True"
      ]
     },
     "execution_count": 27,
     "metadata": {},
     "output_type": "execute_result"
    }
   ],
   "source": [
    "a = 3\n",
    "t1 = a == 0         #sayı 0 mı? False\n",
    "t2 = a < 1          #sayı 1'den küçük mü? False\n",
    "t3 = a % 2 == 1     #sayı bir tek sayı mı? True\n",
    "any([t1, t2, t3])"
   ]
  },
  {
   "cell_type": "markdown",
   "metadata": {},
   "source": [
    "# repr()"
   ]
  },
  {
   "cell_type": "markdown",
   "metadata": {},
   "source": [
    "Bu fonksiyon bize bir çıktının kaçış dizileri, tırnaklar vs. ile birlikte programın anlayacağı hali ile olduğu gibi çıktısını verir. ASCII tablosunda olmayan karakterleri de karakter görüntüsü ile verir."
   ]
  },
  {
   "cell_type": "code",
   "execution_count": 8,
   "metadata": {},
   "outputs": [
    {
     "name": "stdout",
     "output_type": "stream",
     "text": [
      "Elma,Armut,Karpuz\n",
      "Portakal,Kavun,Çilek\n",
      "Muz,Erik,Üzüm\n"
     ]
    }
   ],
   "source": [
    "print(\"Elma,Armut,Karpuz\\nPortakal,Kavun,Çilek\\nMuz,Erik,Üzüm\")"
   ]
  },
  {
   "cell_type": "code",
   "execution_count": 9,
   "metadata": {},
   "outputs": [
    {
     "name": "stdout",
     "output_type": "stream",
     "text": [
      "'Elma,Armut,Karpuz\\nPortakal,Kavun,Çilek\\nMuz,Erik,Üzüm'\n"
     ]
    }
   ],
   "source": [
    "print(repr(\"Elma,Armut,Karpuz\\nPortakal,Kavun,Çilek\\nMuz,Erik,Üzüm\"))"
   ]
  },
  {
   "cell_type": "markdown",
   "metadata": {},
   "source": [
    "Görüldüğü Gibi tırnaklar da dahil olmak üzere bize pythonun bunu nasıl algıladığını yazdırıyor."
   ]
  },
  {
   "cell_type": "code",
   "execution_count": 10,
   "metadata": {},
   "outputs": [
    {
     "name": "stdout",
     "output_type": "stream",
     "text": [
      "\n",
      "\n"
     ]
    }
   ],
   "source": [
    "print(\"\\n\")"
   ]
  },
  {
   "cell_type": "code",
   "execution_count": 11,
   "metadata": {},
   "outputs": [
    {
     "name": "stdout",
     "output_type": "stream",
     "text": [
      "'\\n'\n"
     ]
    }
   ],
   "source": [
    "print(repr(\"\\n\"))"
   ]
  },
  {
   "cell_type": "markdown",
   "metadata": {},
   "source": [
    "# ascii()"
   ]
  },
  {
   "cell_type": "markdown",
   "metadata": {},
   "source": [
    "repr() fonksiyonuna çok benzer, farkları ASCII tablosunda yer almayan karakterler karşısındaki davranışlarıdır. repr() fonksiyonu ascii tablosunda olmayan karakterleri de göründükleri gibi verirken, ascii fonksiyonu bunları unicode konumlarını gösterir."
   ]
  },
  {
   "cell_type": "code",
   "execution_count": 28,
   "metadata": {},
   "outputs": [
    {
     "name": "stdout",
     "output_type": "stream",
     "text": [
      "Murat\n",
      "'Murat'\n"
     ]
    }
   ],
   "source": [
    "isim=\"Murat\"\n",
    "print(isim)\n",
    "print(ascii(isim))"
   ]
  },
  {
   "cell_type": "code",
   "execution_count": 29,
   "metadata": {},
   "outputs": [
    {
     "name": "stdout",
     "output_type": "stream",
     "text": [
      "'\\n!'\n"
     ]
    }
   ],
   "source": [
    "print(ascii(\"\\n!\"))"
   ]
  },
  {
   "cell_type": "code",
   "execution_count": 31,
   "metadata": {},
   "outputs": [
    {
     "name": "stdout",
     "output_type": "stream",
     "text": [
      "ışık\n",
      "'\\u0131\\u015f\\u0131k'\n"
     ]
    }
   ],
   "source": [
    "a = 'ışık'\n",
    "print(a)\n",
    "print(ascii(a))#ascii tablosunda olmayan karakterlerin uncide konumlarını verir."
   ]
  },
  {
   "cell_type": "code",
   "execution_count": 34,
   "metadata": {},
   "outputs": [
    {
     "name": "stdout",
     "output_type": "stream",
     "text": [
      "['elma', 'armut', 'erik']\n",
      "<class 'str'>\n",
      "[\n"
     ]
    }
   ],
   "source": [
    "liste = ['elma', 'armut', 'erik']\n",
    "temsil = ascii(liste) #burada artık listemiz parantezleriyle, tırnak işaretleriyle olduğu gibi bir stringe dönüşmüş oldu.\n",
    "print(temsil)\n",
    "print(type(temsil))\n",
    "print(temsil[0])"
   ]
  },
  {
   "cell_type": "code",
   "execution_count": 12,
   "metadata": {},
   "outputs": [
    {
     "data": {
      "text/plain": [
       "\"'İ'\""
      ]
     },
     "execution_count": 12,
     "metadata": {},
     "output_type": "execute_result"
    }
   ],
   "source": [
    "repr(\"İ\")"
   ]
  },
  {
   "cell_type": "code",
   "execution_count": 13,
   "metadata": {},
   "outputs": [
    {
     "data": {
      "text/plain": [
       "\"'\\\\u0130'\""
      ]
     },
     "execution_count": 13,
     "metadata": {},
     "output_type": "execute_result"
    }
   ],
   "source": [
    "ascii(\"İ\")"
   ]
  },
  {
   "cell_type": "code",
   "execution_count": 14,
   "metadata": {},
   "outputs": [
    {
     "data": {
      "text/plain": [
       "\"'€'\""
      ]
     },
     "execution_count": 14,
     "metadata": {},
     "output_type": "execute_result"
    }
   ],
   "source": [
    "repr(\"€\")"
   ]
  },
  {
   "cell_type": "code",
   "execution_count": 15,
   "metadata": {},
   "outputs": [
    {
     "data": {
      "text/plain": [
       "\"'\\\\u20ac'\""
      ]
     },
     "execution_count": 15,
     "metadata": {},
     "output_type": "execute_result"
    }
   ],
   "source": [
    "ascii(\"€\")"
   ]
  },
  {
   "cell_type": "markdown",
   "metadata": {},
   "source": [
    "## bool() fonksiyonu"
   ]
  },
  {
   "cell_type": "markdown",
   "metadata": {},
   "source": [
    "Bu fonksiyon verilen nesnenin bool değerini döndürür, yani True ya da False"
   ]
  },
  {
   "cell_type": "markdown",
   "metadata": {},
   "source": [
    "## bin () fonksiyonu"
   ]
  },
  {
   "cell_type": "markdown",
   "metadata": {},
   "source": [
    "Bir sayının ikili düzendeki karşılığını karakter dizisi olarak verir."
   ]
  },
  {
   "cell_type": "code",
   "execution_count": 36,
   "metadata": {},
   "outputs": [
    {
     "data": {
      "text/plain": [
       "'0b1111'"
      ]
     },
     "execution_count": 36,
     "metadata": {},
     "output_type": "execute_result"
    }
   ],
   "source": [
    "bin(15)"
   ]
  },
  {
   "cell_type": "markdown",
   "metadata": {},
   "source": [
    "## bytes() fonksiyonu"
   ]
  },
  {
   "cell_type": "markdown",
   "metadata": {},
   "source": [
    "Bu fonksiyon farklı veri tiplerini bytes adlı veri tipine dönüştürür. Fonksiyona tam sayı verirsek o tamsayı miktarı kadar bytes nesnesi verir. Bu fonksiyon ve bytes veri tipi ile ilgili daha detaylı bilgi 16 nolu Baytlar ve Bayt dizileri konusunda da verilmiştir."
   ]
  },
  {
   "cell_type": "code",
   "execution_count": 40,
   "metadata": {},
   "outputs": [
    {
     "name": "stdout",
     "output_type": "stream",
     "text": [
      "<class 'bytes'>\n",
      "b'\\x00\\x00\\x00\\x00\\x00\\x00\\x00\\x00\\x00\\x00'\n"
     ]
    }
   ],
   "source": [
    "a=bytes(10)\n",
    "print(type(a))\n",
    "print(a)"
   ]
  },
  {
   "cell_type": "code",
   "execution_count": 41,
   "metadata": {},
   "outputs": [
    {
     "name": "stdout",
     "output_type": "stream",
     "text": [
      "0\n",
      "0\n",
      "0\n"
     ]
    }
   ],
   "source": [
    "# Yukarıdaki işlem bize her bir öğesinin değeri 0 olan 10 baytlık bir veri döndürdü.\n",
    "print(a[0],a[1],a[5],sep=\"\\n\")"
   ]
  },
  {
   "cell_type": "markdown",
   "metadata": {},
   "source": [
    "Bu fonksiyona bir karakter dizisi verirdiğimizde bunu da bytes tipine dönüştürecektir ancak her kod çözücü işlemi farklı şekilde yapacağı için kod çözücüyü de bu fonksiyonun argümanlarında belirtmemiz gerekir."
   ]
  },
  {
   "cell_type": "code",
   "execution_count": 43,
   "metadata": {},
   "outputs": [
    {
     "ename": "TypeError",
     "evalue": "string argument without an encoding",
     "output_type": "error",
     "traceback": [
      "\u001b[1;31m---------------------------------------------------------------------------\u001b[0m",
      "\u001b[1;31mTypeError\u001b[0m                                 Traceback (most recent call last)",
      "\u001b[1;32m<ipython-input-43-26cf86fc0213>\u001b[0m in \u001b[0;36m<module>\u001b[1;34m\u001b[0m\n\u001b[1;32m----> 1\u001b[1;33m \u001b[0mbytes\u001b[0m\u001b[1;33m(\u001b[0m\u001b[1;34m\"murat\"\u001b[0m\u001b[1;33m)\u001b[0m \u001b[1;31m#bu satırı çalıştırdığımızda encoding argümanı olmadan string verilmiş diye TypeError hatası verir.\u001b[0m\u001b[1;33m\u001b[0m\u001b[1;33m\u001b[0m\u001b[0m\n\u001b[0m",
      "\u001b[1;31mTypeError\u001b[0m: string argument without an encoding"
     ]
    }
   ],
   "source": [
    "bytes(\"murat\") #bu satırı çalıştırdığımızda encoding argümanı olmadan string verilmiş diye TypeError hatası verir."
   ]
  },
  {
   "cell_type": "code",
   "execution_count": 49,
   "metadata": {},
   "outputs": [
    {
     "data": {
      "text/plain": [
       "b'murat'"
      ]
     },
     "execution_count": 49,
     "metadata": {},
     "output_type": "execute_result"
    }
   ],
   "source": [
    "bytes('murat', 'utf-8')"
   ]
  },
  {
   "cell_type": "code",
   "execution_count": 51,
   "metadata": {},
   "outputs": [
    {
     "data": {
      "text/plain": [
       "b'\\x87i\\x87ek'"
      ]
     },
     "execution_count": 51,
     "metadata": {},
     "output_type": "execute_result"
    }
   ],
   "source": [
    "bytes('çiçek', 'cp857')"
   ]
  },
  {
   "cell_type": "code",
   "execution_count": 58,
   "metadata": {},
   "outputs": [
    {
     "data": {
      "text/plain": [
       "b'\\xfe\\xf6biyet'"
      ]
     },
     "execution_count": 58,
     "metadata": {},
     "output_type": "execute_result"
    }
   ],
   "source": [
    "bytes('şöbiyet', encoding='cp1254') #Bu şekilde isimli parametre olarak da belirtilebilir."
   ]
  },
  {
   "cell_type": "markdown",
   "metadata": {},
   "source": [
    "Eğer çevirmek istediğimiz stringde belirttiğimiz kod çözücüde karşılığı bulunmayan karakterler olması durumunda programın hata verip çökmesini engellemek için errors parametresine \"ignore,replace,xmlcharrefreplace\" değerlerinden birini verebileceğimizi hatırlatalım."
   ]
  },
  {
   "cell_type": "code",
   "execution_count": 59,
   "metadata": {},
   "outputs": [
    {
     "ename": "UnicodeEncodeError",
     "evalue": "'ascii' codec can't encode characters in position 0-2: ordinal not in range(128)",
     "output_type": "error",
     "traceback": [
      "\u001b[1;31m---------------------------------------------------------------------------\u001b[0m",
      "\u001b[1;31mUnicodeEncodeError\u001b[0m                        Traceback (most recent call last)",
      "\u001b[1;32m<ipython-input-59-3141657811d9>\u001b[0m in \u001b[0;36m<module>\u001b[1;34m\u001b[0m\n\u001b[1;32m----> 1\u001b[1;33m \u001b[0mbytes\u001b[0m\u001b[1;33m(\u001b[0m\u001b[1;34m\"ışık\"\u001b[0m\u001b[1;33m,\u001b[0m\u001b[0mencoding\u001b[0m\u001b[1;33m=\u001b[0m\u001b[1;34m\"ascii\"\u001b[0m\u001b[1;33m)\u001b[0m\u001b[1;33m\u001b[0m\u001b[1;33m\u001b[0m\u001b[0m\n\u001b[0m",
      "\u001b[1;31mUnicodeEncodeError\u001b[0m: 'ascii' codec can't encode characters in position 0-2: ordinal not in range(128)"
     ]
    }
   ],
   "source": [
    "bytes(\"ışık\",encoding=\"ascii\")"
   ]
  },
  {
   "cell_type": "code",
   "execution_count": 60,
   "metadata": {},
   "outputs": [
    {
     "data": {
      "text/plain": [
       "b'???k'"
      ]
     },
     "execution_count": 60,
     "metadata": {},
     "output_type": "execute_result"
    }
   ],
   "source": [
    "bytes(\"ışık\",encoding=\"ascii\",errors=\"replace\")"
   ]
  },
  {
   "cell_type": "markdown",
   "metadata": {},
   "source": [
    "Son olarak bu fonksiyona 0-256 aralığında sayılardan oluşan diziler de verebiliriz, bu durumda 127 ye kadar olan sayıları ascii karşılıklarına, 127den büyük olanları latin-1 karşılıklarına göre her birini birer bayta çevirecektir."
   ]
  },
  {
   "cell_type": "code",
   "execution_count": 63,
   "metadata": {},
   "outputs": [
    {
     "data": {
      "text/plain": [
       "b'CX\\x8a\\xffz'"
      ]
     },
     "execution_count": 63,
     "metadata": {},
     "output_type": "execute_result"
    }
   ],
   "source": [
    "liste=[67,88,138,255,122]\n",
    "bytes(liste)"
   ]
  },
  {
   "cell_type": "markdown",
   "metadata": {},
   "source": [
    "## bytearray() Fonksiyonu"
   ]
  },
  {
   "cell_type": "markdown",
   "metadata": {},
   "source": [
    "Bu fonksiyon bytes fonksiyonuna çok benzer ancak bytes fonksiyonu ile oluşturulan baytlar immutable oldukları için üzerlerinde değişiklik yapma şansımız olmaz. Ancak bytearray bize baytlardan oluşan bir listeye benzer bir yapı vereceği için üzerlerinde değişiklik yapma imkanımız olur."
   ]
  },
  {
   "cell_type": "code",
   "execution_count": 69,
   "metadata": {},
   "outputs": [],
   "source": [
    "a = bytearray('ışık', 'utf-8')"
   ]
  },
  {
   "cell_type": "code",
   "execution_count": 70,
   "metadata": {},
   "outputs": [
    {
     "name": "stdout",
     "output_type": "stream",
     "text": [
      "bytearray(b'\\xc4\\xb1\\xc5\\x9f\\xc4\\xb1k')\n"
     ]
    },
    {
     "data": {
      "text/plain": [
       "196"
      ]
     },
     "execution_count": 70,
     "metadata": {},
     "output_type": "execute_result"
    }
   ],
   "source": [
    "print(a)\n",
    "a[0]"
   ]
  },
  {
   "cell_type": "code",
   "execution_count": 66,
   "metadata": {},
   "outputs": [],
   "source": [
    "a[0]=220"
   ]
  },
  {
   "cell_type": "code",
   "execution_count": 68,
   "metadata": {},
   "outputs": [
    {
     "name": "stdout",
     "output_type": "stream",
     "text": [
      "bytearray(b'\\xdc\\xb1\\xc5\\x9f\\xc4\\xb1k')\n"
     ]
    }
   ],
   "source": [
    "print(a)"
   ]
  },
  {
   "cell_type": "code",
   "execution_count": 71,
   "metadata": {},
   "outputs": [
    {
     "name": "stdout",
     "output_type": "stream",
     "text": [
      "bytearray(b'adana')\n",
      "bytearray(b'Adana')\n"
     ]
    }
   ],
   "source": [
    "a = bytearray('adana', 'ascii')\n",
    "print(a)\n",
    "a[0] = 65\n",
    "print(a)"
   ]
  },
  {
   "cell_type": "markdown",
   "metadata": {},
   "source": [
    "# chr() fonksiyonu"
   ]
  },
  {
   "cell_type": "markdown",
   "metadata": {},
   "source": [
    "Bu fonksiyon bir tam sayının karakter karşılığını verir. Bu işlemi yaparken unicode kullanır, dolayısıyla gireceğimiz tamsayılar 127 veya 255 ile sınırlı değildir."
   ]
  },
  {
   "cell_type": "code",
   "execution_count": 20,
   "metadata": {},
   "outputs": [
    {
     "data": {
      "text/plain": [
       "'൵'"
      ]
     },
     "execution_count": 20,
     "metadata": {},
     "output_type": "execute_result"
    }
   ],
   "source": [
    "chr(3445)"
   ]
  },
  {
   "cell_type": "code",
   "execution_count": 25,
   "metadata": {},
   "outputs": [
    {
     "data": {
      "text/plain": [
       "'ł'"
      ]
     },
     "execution_count": 25,
     "metadata": {},
     "output_type": "execute_result"
    }
   ],
   "source": [
    "chr(322)"
   ]
  },
  {
   "cell_type": "code",
   "execution_count": 26,
   "metadata": {},
   "outputs": [
    {
     "data": {
      "text/plain": [
       "'Ā'"
      ]
     },
     "execution_count": 26,
     "metadata": {},
     "output_type": "execute_result"
    }
   ],
   "source": [
    "chr(256)"
   ]
  },
  {
   "cell_type": "markdown",
   "metadata": {},
   "source": [
    "# ord() fonksiyonu"
   ]
  },
  {
   "cell_type": "markdown",
   "metadata": {},
   "source": [
    "chr () fonksiyonun tersidir. Bir karakterin sayı karşılığını verir."
   ]
  },
  {
   "cell_type": "code",
   "execution_count": 16,
   "metadata": {},
   "outputs": [
    {
     "data": {
      "text/plain": [
       "97"
      ]
     },
     "execution_count": 16,
     "metadata": {},
     "output_type": "execute_result"
    }
   ],
   "source": [
    "ord(\"a\")"
   ]
  },
  {
   "cell_type": "code",
   "execution_count": 17,
   "metadata": {},
   "outputs": [
    {
     "data": {
      "text/plain": [
       "231"
      ]
     },
     "execution_count": 17,
     "metadata": {},
     "output_type": "execute_result"
    }
   ],
   "source": [
    "ord(\"ç\")"
   ]
  },
  {
   "cell_type": "code",
   "execution_count": 18,
   "metadata": {},
   "outputs": [
    {
     "data": {
      "text/plain": [
       "8378"
      ]
     },
     "execution_count": 18,
     "metadata": {},
     "output_type": "execute_result"
    }
   ],
   "source": [
    "ord(\"₺\")"
   ]
  },
  {
   "cell_type": "markdown",
   "metadata": {},
   "source": [
    "## list() fonsiyonu"
   ]
  },
  {
   "cell_type": "markdown",
   "metadata": {},
   "source": [
    "Liste tipi veri oluşturmak ya da farkli bir veri tipini listeye dönüştürmek"
   ]
  },
  {
   "cell_type": "code",
   "execution_count": 81,
   "metadata": {},
   "outputs": [
    {
     "name": "stdout",
     "output_type": "stream",
     "text": [
      "[]\n",
      "\n",
      "[0, 1, 2, 3, 4, 5, 6, 7, 8, 9, 10, 11, 12, 13, 14, 15, 16, 17, 18, 19, 20, 21, 22]\n",
      "\n",
      "['M', 'u', 'r', 'a', 't']\n",
      "\n",
      "['ali', 'mehmet', 'fatma', 'zeki']\n",
      "\n",
      "[30, 22, 24, 28]\n"
     ]
    }
   ],
   "source": [
    "l = list() #liste oluşturma boş\n",
    "l2=list(range(23)) #liste oluşturma\n",
    "l3=list(\"Murat\") #stringi listeye dönüştürme\n",
    "s={\"ali\":30,\"mehmet\":22,\"fatma\":24,\"zeki\":28}\n",
    "l4=list(s) #sözlüğü listeye dönüştürme, sadece anahtarlarlı alır\n",
    "l5=list(s.values()) #sadece değerleri alır.\n",
    "print(l,l2,l3,l4,l5,sep=\"\\n\"*2)"
   ]
  },
  {
   "cell_type": "markdown",
   "metadata": {},
   "source": [
    "## set() fonksiyonu"
   ]
  },
  {
   "cell_type": "markdown",
   "metadata": {},
   "source": [
    "Bu fonksiyon da list( fonksiyonu gibidir ancak listeye değil kümeye dönüştürür ya da küme oluşturur.)"
   ]
  },
  {
   "cell_type": "code",
   "execution_count": 83,
   "metadata": {},
   "outputs": [],
   "source": [
    "s=set()"
   ]
  },
  {
   "cell_type": "code",
   "execution_count": 85,
   "metadata": {},
   "outputs": [
    {
     "data": {
      "text/plain": [
       "{'a', 'm', 'r', 't', 'u'}"
      ]
     },
     "execution_count": 85,
     "metadata": {},
     "output_type": "execute_result"
    }
   ],
   "source": [
    "s=set(\"murat\")\n",
    "s"
   ]
  },
  {
   "cell_type": "code",
   "execution_count": 88,
   "metadata": {},
   "outputs": [
    {
     "data": {
      "text/plain": [
       "{'ali', 'fatma', 'mehmet', 'zeki'}"
      ]
     },
     "execution_count": 88,
     "metadata": {},
     "output_type": "execute_result"
    }
   ],
   "source": [
    "sozluk={\"ali\":30,\"mehmet\":22,\"fatma\":24,\"zeki\":28}\n",
    "s=set(sozluk)\n",
    "s"
   ]
  },
  {
   "cell_type": "markdown",
   "metadata": {},
   "source": [
    "## frozenset() fonksiyonu"
   ]
  },
  {
   "cell_type": "markdown",
   "metadata": {},
   "source": [
    "Bu fonksiyon da farklı veri tiplerini dondurulmuş kümeye dönüştürmeye ya da dondurulmuş küme oluşturmaya yarar."
   ]
  },
  {
   "cell_type": "code",
   "execution_count": 92,
   "metadata": {},
   "outputs": [
    {
     "data": {
      "text/plain": [
       "frozenset()"
      ]
     },
     "execution_count": 92,
     "metadata": {},
     "output_type": "execute_result"
    }
   ],
   "source": [
    "fs=frozenset()\n",
    "fs"
   ]
  },
  {
   "cell_type": "code",
   "execution_count": 95,
   "metadata": {},
   "outputs": [
    {
     "data": {
      "text/plain": [
       "frozenset({'A', 'M', 'r', 't', 'u'})"
      ]
     },
     "execution_count": 95,
     "metadata": {},
     "output_type": "execute_result"
    }
   ],
   "source": [
    "fs=frozenset(\"MurAt\")\n",
    "fs"
   ]
  },
  {
   "cell_type": "markdown",
   "metadata": {},
   "source": [
    "## tuple() fonksiyonu"
   ]
  },
  {
   "cell_type": "markdown",
   "metadata": {},
   "source": [
    "Demetler için kullanılır."
   ]
  },
  {
   "cell_type": "markdown",
   "metadata": {},
   "source": [
    "## complex() fonksiyonu"
   ]
  },
  {
   "cell_type": "markdown",
   "metadata": {},
   "source": [
    "Karmaşık sayıya dönüştürmek için kullanılan fonksiyon\n",
    "tek parametre varsa sanal kısmı 0j olarak kendi ekler, iki parametresi varsa ilk parametre gerçek, ikinci parametre sanal kısmı temsil eder."
   ]
  },
  {
   "cell_type": "markdown",
   "metadata": {},
   "source": [
    "## float() fonksiyonu"
   ]
  },
  {
   "cell_type": "markdown",
   "metadata": {},
   "source": [
    "Ondalıklı sayı"
   ]
  },
  {
   "cell_type": "markdown",
   "metadata": {},
   "source": [
    "## int() fonksiyonu"
   ]
  },
  {
   "cell_type": "markdown",
   "metadata": {},
   "source": [
    "Bu fonksiyon bir string ya da float sayısını eğer mümkünse tam sayıya dönüştürmeye yarar. Ayrıca farklı sayma sistemlerindeki sayıları onluk sayma sistemine dönüştürmeye de yarar."
   ]
  },
  {
   "cell_type": "code",
   "execution_count": 99,
   "metadata": {},
   "outputs": [
    {
     "name": "stdout",
     "output_type": "stream",
     "text": [
      "234567\n",
      "324\n"
     ]
    }
   ],
   "source": [
    "a=int(\"234567\")\n",
    "b=int(324.23)\n",
    "print(a,b,sep=\"\\n\")"
   ]
  },
  {
   "cell_type": "code",
   "execution_count": 103,
   "metadata": {},
   "outputs": [
    {
     "name": "stdout",
     "output_type": "stream",
     "text": [
      "3436\n",
      "63434\n",
      "3157\n"
     ]
    }
   ],
   "source": [
    "a=int(\"6554\",8) # 8li sistemdeki sayıyı onlu sisteme çevirir\n",
    "b=int(\"f7ca\",16) #16lı sistemdeki sayıyı onlu sisteme çevirir\n",
    "c=int(\"0110001010101\",2) #2li sistemdeki sayıyı onlu sisteme çevirir.\n",
    "print(a,b,c,sep=\"\\n\")"
   ]
  },
  {
   "cell_type": "markdown",
   "metadata": {},
   "source": [
    "## str() fonksiyonu"
   ]
  },
  {
   "cell_type": "markdown",
   "metadata": {},
   "source": [
    "Farklı veri tiplerini stringe dönüştürdüğünü zaten biliyoruz."
   ]
  },
  {
   "cell_type": "code",
   "execution_count": 108,
   "metadata": {},
   "outputs": [
    {
     "data": {
      "text/plain": [
       "'murat'"
      ]
     },
     "execution_count": 108,
     "metadata": {},
     "output_type": "execute_result"
    }
   ],
   "source": [
    "bayt=b\"murat\"\n",
    "metin=str(bayt,encoding=\"utf-8\")\n",
    "metin"
   ]
  },
  {
   "cell_type": "code",
   "execution_count": 130,
   "metadata": {},
   "outputs": [
    {
     "data": {
      "text/plain": [
       "'EEźs4'"
      ]
     },
     "execution_count": 130,
     "metadata": {},
     "output_type": "execute_result"
    }
   ],
   "source": [
    "bayt=b\"\\x45\\x45\\xc5\\xba\\x73\\x34\"\n",
    "metin=str(bayt,encoding=\"utf-8\")\n",
    "metin"
   ]
  },
  {
   "cell_type": "markdown",
   "metadata": {},
   "source": [
    "Burada da aynı bytes fonksiyonunda olduğu gibi kod çözücü tipi verildiğinde eğer bu kodlama sisteminde karşılığı yoksa errors parametresinin \"ignore,replace,xmlcharrefreplace\" gibi değerlerini kullanabiliriz."
   ]
  },
  {
   "cell_type": "markdown",
   "metadata": {},
   "source": [
    "## dict() fonksiyonu"
   ]
  },
  {
   "cell_type": "code",
   "execution_count": 6,
   "metadata": {},
   "outputs": [
    {
     "ename": "SyntaxError",
     "evalue": "keyword can't be an expression (<ipython-input-6-6452e5bbd44b>, line 4)",
     "output_type": "error",
     "traceback": [
      "\u001b[1;36m  File \u001b[1;32m\"<ipython-input-6-6452e5bbd44b>\"\u001b[1;36m, line \u001b[1;32m4\u001b[0m\n\u001b[1;33m    g=dict(\"a\"=2,\"b\"=45,\"c\"=\"murat\") #anahtarlar ve değerlerinden oluşan bir sözlük\u001b[0m\n\u001b[1;37m          ^\u001b[0m\n\u001b[1;31mSyntaxError\u001b[0m\u001b[1;31m:\u001b[0m keyword can't be an expression\n"
     ]
    }
   ],
   "source": [
    "#Sözlükler için kullanılan fonksiyondur.\n",
    "s={} #boş sözlük\n",
    "s=dict() #boş sözlük\n",
    "g=dict(\"a\"=2,\"b\"=45,\"c\"=\"murat\") #anahtarlar ve değerlerinden oluşan bir sözlük \n",
    "s={\"a\":3,\"b\":45,\"c\":9} #süslü parantezle sözlük\n",
    "s=dict(([\"a\",1],[\"murat\",32],[\"c\",\"C\"])) #demet içinde ikili listelerden sözlük"
   ]
  },
  {
   "cell_type": "markdown",
   "metadata": {},
   "source": [
    "## callable() fonksiyonu"
   ]
  },
  {
   "cell_type": "markdown",
   "metadata": {},
   "source": [
    "Nesnelerin çağırılabilir olup olmadığını inceler, True ya da False verir. Fonksiyonlar çağırılabilir, değişkenler çağırılabilir olmayan nesnelerdir."
   ]
  },
  {
   "cell_type": "code",
   "execution_count": 138,
   "metadata": {},
   "outputs": [
    {
     "data": {
      "text/plain": [
       "True"
      ]
     },
     "execution_count": 138,
     "metadata": {},
     "output_type": "execute_result"
    }
   ],
   "source": [
    "callable(print)"
   ]
  },
  {
   "cell_type": "code",
   "execution_count": 139,
   "metadata": {},
   "outputs": [
    {
     "data": {
      "text/plain": [
       "True"
      ]
     },
     "execution_count": 139,
     "metadata": {},
     "output_type": "execute_result"
    }
   ],
   "source": [
    "callable(open)"
   ]
  },
  {
   "cell_type": "code",
   "execution_count": 140,
   "metadata": {},
   "outputs": [
    {
     "data": {
      "text/plain": [
       "True"
      ]
     },
     "execution_count": 140,
     "metadata": {},
     "output_type": "execute_result"
    }
   ],
   "source": [
    "callable(dict)"
   ]
  },
  {
   "cell_type": "code",
   "execution_count": 141,
   "metadata": {},
   "outputs": [
    {
     "data": {
      "text/plain": [
       "False"
      ]
     },
     "execution_count": 141,
     "metadata": {},
     "output_type": "execute_result"
    }
   ],
   "source": [
    "import sys\n",
    "callable(sys.version)"
   ]
  },
  {
   "cell_type": "markdown",
   "metadata": {},
   "source": [
    "## oct(), hex() fonksiyonları"
   ]
  },
  {
   "cell_type": "markdown",
   "metadata": {},
   "source": [
    "Bu fonksiyonlar parametrelerine girdiğimiz sayıları 8 li ve 16 lı sayma sistemine str olarak çevirmemizi sağlar."
   ]
  },
  {
   "cell_type": "code",
   "execution_count": 144,
   "metadata": {},
   "outputs": [
    {
     "data": {
      "text/plain": [
       "'0x7c'"
      ]
     },
     "execution_count": 144,
     "metadata": {},
     "output_type": "execute_result"
    }
   ],
   "source": [
    "a=hex(124)\n",
    "a"
   ]
  },
  {
   "cell_type": "markdown",
   "metadata": {},
   "source": [
    "## eval(), exec(), globals(), locals() fonksiyonları"
   ]
  },
  {
   "cell_type": "markdown",
   "metadata": {},
   "source": [
    "Bu beş fonksiyon birbirleriyle yakından ilgili olduğu için birlikte ele alacağız. Bu arada ifade ve deyim kavramlarını tanımlayalım."
   ]
  },
  {
   "cell_type": "markdown",
   "metadata": {},
   "source": [
    "### ifade"
   ]
  },
  {
   "cell_type": "markdown",
   "metadata": {},
   "source": [
    "İngilizcesi expression olan ifadeler, python da değer üretmek için kullanılan kod parçalarıdır. Karakter dizileri, listeler, fonksiyonlar, liste üreteçleri, sözlük üreteçleri, küme üreteçleri, diğer veri tipleri, işleçler her biri birer ifadedir."
   ]
  },
  {
   "cell_type": "code",
   "execution_count": 146,
   "metadata": {},
   "outputs": [
    {
     "data": {
      "text/plain": [
       "3"
      ]
     },
     "execution_count": 146,
     "metadata": {},
     "output_type": "execute_result"
    }
   ],
   "source": [
    "#Bu satırların her biri birer ifadedir.\n",
    "5\n",
    "23 + 4\n",
    "[i for i in range(10)]\n",
    "len([1, 2, 3])"
   ]
  },
  {
   "cell_type": "markdown",
   "metadata": {},
   "source": [
    "### deyim"
   ]
  },
  {
   "cell_type": "markdown",
   "metadata": {},
   "source": [
    "İngilizcesi statement olan deyimler ise ifadeleri de içine alan daha geniş bir kavramdır. Bütün ifadeler aynı zamanda birer deyimdir veya ifadeler bir araya gelerek deyimleri oluşturur."
   ]
  },
  {
   "cell_type": "code",
   "execution_count": 148,
   "metadata": {},
   "outputs": [
    {
     "name": "stdout",
     "output_type": "stream",
     "text": [
      "5\n",
      "0\n",
      "1\n",
      "2\n",
      "3\n",
      "4\n",
      "5\n",
      "6\n",
      "7\n",
      "8\n",
      "9\n"
     ]
    }
   ],
   "source": [
    "#aşağıda gördüğümüz tanımlama, if bloğu, for döngüsü birer deyimdir.\n",
    "a = 5\n",
    "\n",
    "if a:\n",
    "    print(a)\n",
    "\n",
    "for i in range(10):\n",
    "    print(i)"
   ]
  },
  {
   "cell_type": "markdown",
   "metadata": {},
   "source": [
    "#### ifade ve deyimleri ayırt etmenin en kolay yolu eval() fonksiyonudur. Bu fonksiyon sadece ifadeleri çalıştırır; deyimleri çalıştırmaz, deyimleri bu fonksiyona göndermemiz durumunda hata alırız."
   ]
  },
  {
   "cell_type": "code",
   "execution_count": 155,
   "metadata": {},
   "outputs": [
    {
     "ename": "SyntaxError",
     "evalue": "invalid syntax (<string>, line 1)",
     "output_type": "error",
     "traceback": [
      "Traceback \u001b[1;36m(most recent call last)\u001b[0m:\n",
      "  File \u001b[0;32m\"C:\\ProgramData\\Anaconda3\\lib\\site-packages\\IPython\\core\\interactiveshell.py\"\u001b[0m, line \u001b[0;32m3267\u001b[0m, in \u001b[0;35mrun_code\u001b[0m\n    exec(code_obj, self.user_global_ns, self.user_ns)\n",
      "\u001b[1;36m  File \u001b[1;32m\"<ipython-input-155-3d3202dcc5f4>\"\u001b[1;36m, line \u001b[1;32m1\u001b[1;36m, in \u001b[1;35m<module>\u001b[1;36m\u001b[0m\n\u001b[1;33m    eval(\"a=5\")\u001b[0m\n",
      "\u001b[1;36m  File \u001b[1;32m\"<string>\"\u001b[1;36m, line \u001b[1;32m1\u001b[0m\n\u001b[1;33m    a=5\u001b[0m\n\u001b[1;37m     ^\u001b[0m\n\u001b[1;31mSyntaxError\u001b[0m\u001b[1;31m:\u001b[0m invalid syntax\n"
     ]
    }
   ],
   "source": [
    "eval(\"a=5\")#burada eval() fonksiyonuna arguman olarak bir tanımlama gönderdik, tanımlama bir deyimdir, ifade değildir."
   ]
  },
  {
   "cell_type": "code",
   "execution_count": 158,
   "metadata": {},
   "outputs": [
    {
     "data": {
      "text/plain": [
       "5"
      ]
     },
     "execution_count": 158,
     "metadata": {},
     "output_type": "execute_result"
    }
   ],
   "source": [
    "a=4 \n",
    "eval(\"a+1\") #burada ise a+1 bir ifade olduğu için hata ile karşılaşmıyoruz"
   ]
  },
  {
   "cell_type": "markdown",
   "metadata": {},
   "source": [
    "#### Hem deyimleri hem ifadeleri çalıştırabilen fonksiyon exec() fonksiyonudur."
   ]
  },
  {
   "cell_type": "code",
   "execution_count": 162,
   "metadata": {},
   "outputs": [
    {
     "data": {
      "text/plain": [
       "4"
      ]
     },
     "execution_count": 162,
     "metadata": {},
     "output_type": "execute_result"
    }
   ],
   "source": [
    "exec(\"a=4\")#Bu şekilde exec() fonksiyonu mevcut isim alanı içine bir a değişkeni tanımlayacak\n",
    "a"
   ]
  },
  {
   "cell_type": "markdown",
   "metadata": {},
   "source": [
    "Burada dikkat edilmesi gereken durum, bu fonksiyonun mevcut isim alanında bir değişken tanımladığıdır. Eğer mevcut isim alanında aynı isimle tanımlı bir değişken zaten varsa o değişkenin değeri değişecektir. Bu istenmeyen bir durum olabilir."
   ]
  },
  {
   "cell_type": "code",
   "execution_count": 2,
   "metadata": {},
   "outputs": [
    {
     "data": {
      "text/plain": [
       "10"
      ]
     },
     "execution_count": 2,
     "metadata": {},
     "output_type": "execute_result"
    }
   ],
   "source": [
    "a=20\n",
    "exec(\"a=10\")\n",
    "a"
   ]
  },
  {
   "cell_type": "markdown",
   "metadata": {},
   "source": [
    "#### exec() fonksiyonu ile oluşturacağımız değişkenleri global isim alanına değil de başka bir isim alanına göndermek isteyebiliriz. Bunun için önce globals() ve locals() fonksiyonlarına bakalım."
   ]
  },
  {
   "cell_type": "markdown",
   "metadata": {},
   "source": [
    "Python'da isim alanları sözlük tipinde verilerdir. Aslında global ve local isim alanları basit birer sözlükten ibarettir, Bir isim alanı içinde tanımladığımız değişkenler o isim alanının sözlüğüne eklenerek kullanılır. global isim alanındaki mevcut anahtar ve değerlere bakalım:"
   ]
  },
  {
   "cell_type": "code",
   "execution_count": 3,
   "metadata": {},
   "outputs": [
    {
     "data": {
      "text/plain": [
       "{'__name__': '__main__',\n",
       " '__doc__': 'Automatically created module for IPython interactive environment',\n",
       " '__package__': None,\n",
       " '__loader__': None,\n",
       " '__spec__': None,\n",
       " '__builtin__': <module 'builtins' (built-in)>,\n",
       " '__builtins__': <module 'builtins' (built-in)>,\n",
       " '_ih': ['', 'globals()', 'a=20\\nexec(\"a=10\")\\na', 'globals()'],\n",
       " '_oh': {1: {...}, 2: 10},\n",
       " '_dh': ['C:\\\\Users\\\\kurtm\\\\Desktop\\\\Python çalışma notlarım'],\n",
       " 'In': ['', 'globals()', 'a=20\\nexec(\"a=10\")\\na', 'globals()'],\n",
       " 'Out': {1: {...}, 2: 10},\n",
       " 'get_ipython': <bound method InteractiveShell.get_ipython of <ipykernel.zmqshell.ZMQInteractiveShell object at 0x000001C15F693358>>,\n",
       " 'exit': <IPython.core.autocall.ZMQExitAutocall at 0x1c15f703128>,\n",
       " 'quit': <IPython.core.autocall.ZMQExitAutocall at 0x1c15f703128>,\n",
       " '_': 10,\n",
       " '__': {...},\n",
       " '___': '',\n",
       " '_i': 'a=20\\nexec(\"a=10\")\\na',\n",
       " '_ii': 'globals()',\n",
       " '_iii': '',\n",
       " '_i1': 'globals()',\n",
       " '_1': {...},\n",
       " '_i2': 'a=20\\nexec(\"a=10\")\\na',\n",
       " 'a': 10,\n",
       " '_2': 10,\n",
       " '_i3': 'globals()'}"
      ]
     },
     "execution_count": 3,
     "metadata": {},
     "output_type": "execute_result"
    }
   ],
   "source": [
    "globals()"
   ]
  },
  {
   "cell_type": "markdown",
   "metadata": {},
   "source": [
    "Yukarıda görüldüğü gibi global isim alanı bir sözlüktür içinde ise o ana kadar tanımladıklarımız yer alır. Bir sözlükle neler yapabiliyorsak bu sözlükle de aynılarını yapabiliriz. Örneğin bir değişken tanımlamak için kullanalım:"
   ]
  },
  {
   "cell_type": "code",
   "execution_count": 6,
   "metadata": {},
   "outputs": [],
   "source": [
    "globals()[\"z\"]=(5) #görüldüğü gibi sözlüklere nasıl item ekleniyorsa aynı şekilde bir değişken tanımlamış olduk."
   ]
  },
  {
   "cell_type": "code",
   "execution_count": 5,
   "metadata": {},
   "outputs": [
    {
     "data": {
      "text/plain": [
       "{'__name__': '__main__',\n",
       " '__doc__': 'Automatically created module for IPython interactive environment',\n",
       " '__package__': None,\n",
       " '__loader__': None,\n",
       " '__spec__': None,\n",
       " '__builtin__': <module 'builtins' (built-in)>,\n",
       " '__builtins__': <module 'builtins' (built-in)>,\n",
       " '_ih': ['',\n",
       "  'globals()',\n",
       "  'a=20\\nexec(\"a=10\")\\na',\n",
       "  'globals()',\n",
       "  'globals()[\"z\"]=(5)',\n",
       "  'globals()'],\n",
       " '_oh': {1: {...}, 2: 10, 3: {...}},\n",
       " '_dh': ['C:\\\\Users\\\\kurtm\\\\Desktop\\\\Python çalışma notlarım'],\n",
       " 'In': ['',\n",
       "  'globals()',\n",
       "  'a=20\\nexec(\"a=10\")\\na',\n",
       "  'globals()',\n",
       "  'globals()[\"z\"]=(5)',\n",
       "  'globals()'],\n",
       " 'Out': {1: {...}, 2: 10, 3: {...}},\n",
       " 'get_ipython': <bound method InteractiveShell.get_ipython of <ipykernel.zmqshell.ZMQInteractiveShell object at 0x000001C15F693358>>,\n",
       " 'exit': <IPython.core.autocall.ZMQExitAutocall at 0x1c15f703128>,\n",
       " 'quit': <IPython.core.autocall.ZMQExitAutocall at 0x1c15f703128>,\n",
       " '_': {...},\n",
       " '__': 10,\n",
       " '___': {...},\n",
       " '_i': 'globals()[\"z\"]=(5)',\n",
       " '_ii': 'globals()',\n",
       " '_iii': 'a=20\\nexec(\"a=10\")\\na',\n",
       " '_i1': 'globals()',\n",
       " '_1': {...},\n",
       " '_i2': 'a=20\\nexec(\"a=10\")\\na',\n",
       " 'a': 10,\n",
       " '_2': 10,\n",
       " '_i3': 'globals()',\n",
       " '_3': {...},\n",
       " '_i4': 'globals()[\"z\"]=(5)',\n",
       " 'z': 5,\n",
       " '_i5': 'globals()'}"
      ]
     },
     "execution_count": 5,
     "metadata": {},
     "output_type": "execute_result"
    }
   ],
   "source": [
    "globals()"
   ]
  },
  {
   "cell_type": "markdown",
   "metadata": {},
   "source": [
    "#### Fonksiyonlara ve sınıflara ait isim alanı ise local isim alanıdır. Bu isim alanı da globals() gibi bir sözlükten ibarettir ve locals() fonksiyonu ile kullanılır."
   ]
  },
  {
   "cell_type": "code",
   "execution_count": 9,
   "metadata": {},
   "outputs": [
    {
     "name": "stdout",
     "output_type": "stream",
     "text": [
      "{'param1': 10, 'param2': 20, 'x': 10}\n"
     ]
    }
   ],
   "source": [
    "def fonksiyon(param1, param2):\n",
    "    x = 10\n",
    "    print(locals())\n",
    "\n",
    "fonksiyon(10, 20)"
   ]
  },
  {
   "cell_type": "markdown",
   "metadata": {},
   "source": [
    "Görüldüğü gibi fonksiyon fonksiyonumuza ait değişkenlerin bulunduğu isim alanı da bir sözlükten ibaret."
   ]
  },
  {
   "cell_type": "markdown",
   "metadata": {},
   "source": [
    "#### İşte exec() fonksiyonu kullanırken tanımlayacağımız değişkenlerin global değişkenler isim alanını kirletmesini ya da bu alandaki değişkenler üzerinde bir değişiklik yapmasını istemiyorsak, burada kullanacağımız değişkenleri local bir isim alanında tanımlayıp işlemeliyiz."
   ]
  },
  {
   "cell_type": "code",
   "execution_count": 12,
   "metadata": {},
   "outputs": [
    {
     "data": {
      "text/plain": [
       "20"
      ]
     },
     "execution_count": 12,
     "metadata": {},
     "output_type": "execute_result"
    }
   ],
   "source": [
    "isim_alanım={} #boş bir sözlük oluşturduk, bu bizim local isim alanımız olacak\n",
    "a=20 # global isim alanında tanımlı bir a değişkeni\n",
    "exec(\"a=10\",isim_alanım) #fonksiyonumuza değişken tanımlarken hangi isim alanını kullanacağını ikinci parametre ile belirttik\n",
    "a"
   ]
  },
  {
   "cell_type": "markdown",
   "metadata": {},
   "source": [
    "## copyright() fonksiyonu"
   ]
  },
  {
   "cell_type": "markdown",
   "metadata": {},
   "source": [
    "Bu fonksiyon ile Python'un telif hakları ile ilgili belgelere erişilir."
   ]
  },
  {
   "cell_type": "markdown",
   "metadata": {},
   "source": [
    "## credits() fonksiyonu"
   ]
  },
  {
   "cell_type": "markdown",
   "metadata": {},
   "source": [
    "Pyhton geliştiricilerinin katkıda bulunanlara teşekkür metni."
   ]
  },
  {
   "cell_type": "markdown",
   "metadata": {},
   "source": [
    "## license() fonksiyonu"
   ]
  },
  {
   "cell_type": "markdown",
   "metadata": {},
   "source": [
    "Python'un lisansına ilişkin ayrıntılı metinler."
   ]
  },
  {
   "cell_type": "markdown",
   "metadata": {},
   "source": [
    "## dir() fonksiyonu"
   ]
  },
  {
   "cell_type": "markdown",
   "metadata": {},
   "source": [
    "Bu fonksiyonu parametresiz kullandığımızda mevcut isim alanındaki öğeleri listeler. Bu kullanımıyla globals() ve locals() fonksiyonlarına benzese de dir() fonksiyonu sözlük olarak değil liste olarak döner."
   ]
  },
  {
   "cell_type": "markdown",
   "metadata": {},
   "source": [
    "dir() fonksiyonuna argüman olarak bir nesne gönderdiğimizde ise o nesye ait metod ve attribute listesi ile döner."
   ]
  },
  {
   "cell_type": "markdown",
   "metadata": {},
   "source": [
    "## divmod() fonksiyonu"
   ]
  },
  {
   "cell_type": "markdown",
   "metadata": {},
   "source": [
    "İki adet argüman alır, ilk argümanı ikinci argümana böler, bölümü ve kalanı demet olarak döndürür. Yani // ile % işlemlerini birlikte yapar"
   ]
  },
  {
   "cell_type": "markdown",
   "metadata": {},
   "source": [
    "## enumerate() fonksiyonu"
   ]
  },
  {
   "cell_type": "markdown",
   "metadata": {},
   "source": [
    "Nesnelerin içeriğini numaralandırmaya yarayan bu fonksiyon enumerate tipinde bir çıktı döndürür. Nesne içeriği bildiğimiz yöntemlerle (range() fonksiyonu gibi) diğer veri tiplerinde kullanılır. İki parametre alabilir, ilk parametre numaralandırılacak veri iken ikinci parametre ise numaralandırmaya kaçtan başlanacağıdır. İkinci parametre verilmezse 0 ile başlar."
   ]
  },
  {
   "cell_type": "code",
   "execution_count": 24,
   "metadata": {},
   "outputs": [
    {
     "name": "stdout",
     "output_type": "stream",
     "text": [
      "[(1, 'İhsan'), (2, 'Ayşe'), (3, 'Hanım'), (4, 'Mehmet'), (5, 'Hikmet'), (6, 'Ercan'), (7, 'Murat'), (8, 'Şafak'), (9, 'Rojhat')]\n"
     ]
    }
   ],
   "source": [
    "#Öncelikle bu işlemi while ile yapalım:\n",
    "li=[\"İhsan\",\"Ayşe\",\"Hanım\",\"Mehmet\",\"Hikmet\",\"Ercan\",\"Murat\",\"Şafak\",\"Rojhat\"]\n",
    "sıraliste=[]\n",
    "for i in range(1,len(li)+1):\n",
    "    sıraliste.append((i,li[i-1]))\n",
    "print(sıraliste)"
   ]
  },
  {
   "cell_type": "code",
   "execution_count": 25,
   "metadata": {},
   "outputs": [
    {
     "data": {
      "text/plain": [
       "[(1, 'İhsan'),\n",
       " (2, 'Ayşe'),\n",
       " (3, 'Hanım'),\n",
       " (4, 'Mehmet'),\n",
       " (5, 'Hikmet'),\n",
       " (6, 'Ercan'),\n",
       " (7, 'Murat'),\n",
       " (8, 'Şafak'),\n",
       " (9, 'Rojhat')]"
      ]
     },
     "execution_count": 25,
     "metadata": {},
     "output_type": "execute_result"
    }
   ],
   "source": [
    "#Şimdi de enumerate ile yapalım:\n",
    "li=[\"İhsan\",\"Ayşe\",\"Hanım\",\"Mehmet\",\"Hikmet\",\"Ercan\",\"Murat\",\"Şafak\",\"Rojhat\"]\n",
    "list(enumerate(li,1))"
   ]
  },
  {
   "cell_type": "code",
   "execution_count": 28,
   "metadata": {},
   "outputs": [
    {
     "name": "stdout",
     "output_type": "stream",
     "text": [
      "1 : İhsan\n",
      "2 : Ayşe\n",
      "3 : Hanım\n",
      "4 : Mehmet\n",
      "5 : Hikmet\n",
      "6 : Ercan\n",
      "7 : Murat\n",
      "8 : Şafak\n",
      "9 : Rojhat\n"
     ]
    }
   ],
   "source": [
    "for i,j in enumerate(li,1):\n",
    "    print(i,\":\",j)"
   ]
  },
  {
   "cell_type": "code",
   "execution_count": 24,
   "metadata": {},
   "outputs": [
    {
     "data": {
      "text/plain": [
       "enumerate"
      ]
     },
     "execution_count": 24,
     "metadata": {},
     "output_type": "execute_result"
    }
   ],
   "source": [
    "nesne=enumerate(\"Murat\")\n",
    "type(nesne)"
   ]
  },
  {
   "cell_type": "code",
   "execution_count": 28,
   "metadata": {},
   "outputs": [
    {
     "data": {
      "text/plain": [
       "{0: 'M', 1: 'u', 2: 'r', 3: 'a', 4: 't'}"
      ]
     },
     "execution_count": 28,
     "metadata": {},
     "output_type": "execute_result"
    }
   ],
   "source": [
    "s=dict(enumerate(\"Murat\"))\n",
    "s"
   ]
  },
  {
   "cell_type": "code",
   "execution_count": 30,
   "metadata": {},
   "outputs": [
    {
     "data": {
      "text/plain": [
       "[(0, 'm'), (1, 'u'), (2, 'r'), (3, 'a'), (4, 't')]"
      ]
     },
     "execution_count": 30,
     "metadata": {},
     "output_type": "execute_result"
    }
   ],
   "source": [
    "l=list(enumerate(\"murat\"))\n",
    "l"
   ]
  },
  {
   "cell_type": "code",
   "execution_count": 31,
   "metadata": {},
   "outputs": [
    {
     "name": "stdout",
     "output_type": "stream",
     "text": [
      "(0, 'M') (1, 'u') (2, 'r') (3, 'a') (4, 't')\n"
     ]
    }
   ],
   "source": [
    "print(*enumerate(\"Murat\"))"
   ]
  },
  {
   "cell_type": "code",
   "execution_count": 47,
   "metadata": {},
   "outputs": [
    {
     "name": "stdout",
     "output_type": "stream",
     "text": [
      "(10, 'm')\n",
      "(11, 'u')\n",
      "(12, 'r')\n",
      "(13, 'a')\n",
      "(14, 't')\n"
     ]
    }
   ],
   "source": [
    "print(*[(i,j) for i,j in enumerate(\"murat\",10)],sep=\"\\n\")"
   ]
  },
  {
   "cell_type": "markdown",
   "metadata": {},
   "source": [
    "## exit() ve quit() fonksiyonları"
   ]
  },
  {
   "cell_type": "markdown",
   "metadata": {},
   "source": [
    "İki fonksiyon da birebir aynıdır. Python bu fonksiyonu gördüğü yerde programdan çıkacaktır."
   ]
  },
  {
   "cell_type": "markdown",
   "metadata": {},
   "source": [
    "## help() fonksiyonu"
   ]
  },
  {
   "cell_type": "markdown",
   "metadata": {},
   "source": [
    "Python dilindeki öğelere ait yardım bilgilerini döndürür. Eğer parametresiz kullanırsak etkileşimli yardım ekranı gelir, parametre olarak hakkında bilgi edinmek istediğimiz objeyi girersek o objenin kullanımı ile ilgili bilgilere ulaşılır."
   ]
  },
  {
   "cell_type": "markdown",
   "metadata": {},
   "source": [
    "## id() fonksiyonu"
   ]
  },
  {
   "cell_type": "markdown",
   "metadata": {},
   "source": [
    "Python'da her nesnenin bir benzersiz kimlik numarası vardır. Bu kimlik numarasına erişmemizi sağlayan fonksiyondur."
   ]
  },
  {
   "cell_type": "markdown",
   "metadata": {},
   "source": [
    "## format() fonksiyonu"
   ]
  },
  {
   "cell_type": "markdown",
   "metadata": {},
   "source": [
    "stringlerin .format() metoduna benzese de çok daha kısıtlı bir kullanım alanı vardır. Bu fonksiyon yalnızca tek bir değeri biçimlendirmek için kullanılır."
   ]
  },
  {
   "cell_type": "code",
   "execution_count": 65,
   "metadata": {},
   "outputs": [
    {
     "data": {
      "text/plain": [
       "'3.14286'"
      ]
     },
     "execution_count": 65,
     "metadata": {},
     "output_type": "execute_result"
    }
   ],
   "source": [
    "format(22/7,\".5f\")"
   ]
  },
  {
   "cell_type": "markdown",
   "metadata": {},
   "source": [
    "## filter() fonksiyonu"
   ]
  },
  {
   "cell_type": "markdown",
   "metadata": {},
   "source": [
    "Dizi niteliği taşıyan nesneler üzerinde belli ölçütlere göre süzme işlemi yapar. Bu fonksiyon toplam iki argüman alır. İlki Ölçü tanımlayan fonksiyon, ikincisi ise ölçütün uygulanacağı veridir. Kullanımı map() ve reduce() fonksiyonları gibidir. \n",
    "Yani:"
   ]
  },
  {
   "cell_type": "raw",
   "metadata": {},
   "source": [
    "filter(fonksiyon,iterasyon yapılabilecek veri tipi)"
   ]
  },
  {
   "cell_type": "markdown",
   "metadata": {},
   "source": [
    "Ancak burada çok önemli bir detay vardır, filter parametresine göndereceğimiz fonksiyon bir bool değeri döndüren bir fonksiyon olmalıdır. filter() fonksiyonu, listedeki her öğeyi parametresindeki fonkisyona gönderir ve yalnızca True aldığı değerlerden oluşan bir filter objesi oluşturur."
   ]
  },
  {
   "cell_type": "code",
   "execution_count": 66,
   "metadata": {},
   "outputs": [
    {
     "name": "stdout",
     "output_type": "stream",
     "text": [
      "175 355 13 207 397 31 241 123 249 153\n"
     ]
    }
   ],
   "source": [
    "liste=[400, 176, 64, 175, 355, 13, 207, 298, 397, 386, 31, 120, 120, 236,\n",
    "   241, 123, 249, 364, 292, 153]\n",
    "def teksayi(x):\n",
    "    return x%2==1\n",
    "print(*filter(teksayi,liste))"
   ]
  },
  {
   "cell_type": "code",
   "execution_count": 70,
   "metadata": {},
   "outputs": [
    {
     "data": {
      "text/plain": [
       "<filter at 0x1c1601bcc88>"
      ]
     },
     "execution_count": 70,
     "metadata": {},
     "output_type": "execute_result"
    }
   ],
   "source": [
    "filter(teksayi,liste)\n",
    "#görüleceği üzere filter tipinde bir nesne oluşturdu. Bu nesne içindeki öğelere nasıl erişeceğimizi biliyoruz"
   ]
  },
  {
   "cell_type": "code",
   "execution_count": 76,
   "metadata": {},
   "outputs": [
    {
     "name": "stdout",
     "output_type": "stream",
     "text": [
      "87 99 98 100 80\n"
     ]
    }
   ],
   "source": [
    "#Örnek olarak bir sınıftaki öğrencilerin notları içinden harf notu A ve B  olanları süzelim:\n",
    "puanlar = {'Ahmet'   : 60,\n",
    "           'Sinan'   : 50,\n",
    "           'Mehmet'  : 45,\n",
    "           'Ceren'   : 87,\n",
    "           'Selen'   : 99,\n",
    "           'Cem'     : 98,\n",
    "           'Can'     : 51,\n",
    "           'Kezban'  : 100,\n",
    "           'Hakan'   : 66,\n",
    "           'Mahmut'  : 80}\n",
    "\n",
    "def notlar(p):\n",
    "    if p in range(0, 40): return 'F'\n",
    "    if p in range(40, 55): return 'D'\n",
    "    if p in range(55, 70): return 'C'\n",
    "    if p in range(70, 85): return 'B'\n",
    "    if p in range(85, 101): return 'A'\n",
    "def süz(p):\n",
    "    return notlar(p)==\"B\" or notlar(p)== \"A\"\n",
    "print(*filter(süz,puanlar.values()))"
   ]
  },
  {
   "cell_type": "markdown",
   "metadata": {},
   "source": [
    "## hash() fonksiyonu"
   ]
  },
  {
   "cell_type": "markdown",
   "metadata": {},
   "source": [
    "Bu fonksiyon belirli türdeki nesnelere bir karma değeri vermemizi sağlar..."
   ]
  },
  {
   "cell_type": "code",
   "execution_count": 77,
   "metadata": {},
   "outputs": [
    {
     "data": {
      "text/plain": [
       "-4056023572755621078"
      ]
     },
     "execution_count": 77,
     "metadata": {},
     "output_type": "execute_result"
    }
   ],
   "source": [
    "hash(\"murat\")"
   ]
  },
  {
   "cell_type": "code",
   "execution_count": 80,
   "metadata": {},
   "outputs": [
    {
     "data": {
      "text/plain": [
       "1609726844115539373"
      ]
     },
     "execution_count": 80,
     "metadata": {},
     "output_type": "execute_result"
    }
   ],
   "source": [
    "hash(\"Murat\")"
   ]
  },
  {
   "cell_type": "code",
   "execution_count": 79,
   "metadata": {},
   "outputs": [
    {
     "data": {
      "text/plain": [
       "-3596710046925840896"
      ]
     },
     "execution_count": 79,
     "metadata": {},
     "output_type": "execute_result"
    }
   ],
   "source": [
    "hash(\"python\")"
   ]
  },
  {
   "cell_type": "markdown",
   "metadata": {},
   "source": [
    "## isinstance() fonksiyonu"
   ]
  },
  {
   "cell_type": "markdown",
   "metadata": {},
   "source": [
    "Bir nesnenin tipini ikinci argümana vereceğimiz tip olup olmadığını döndürür."
   ]
  },
  {
   "cell_type": "code",
   "execution_count": 82,
   "metadata": {},
   "outputs": [
    {
     "data": {
      "text/plain": [
       "True"
      ]
     },
     "execution_count": 82,
     "metadata": {},
     "output_type": "execute_result"
    }
   ],
   "source": [
    "isinstance(\"murat\",str)"
   ]
  },
  {
   "cell_type": "markdown",
   "metadata": {},
   "source": [
    "## len() fonksiyonu"
   ]
  },
  {
   "cell_type": "markdown",
   "metadata": {},
   "source": [
    "iterable(öğeleri olan) nesnelerin uzunluklarını döndürdüğünü biliyoruz."
   ]
  },
  {
   "cell_type": "markdown",
   "metadata": {},
   "source": [
    "## map() fonksiyonu"
   ]
  },
  {
   "cell_type": "raw",
   "metadata": {},
   "source": [
    "Kullanımı şu şekildedir:\n",
    "\n",
    "map(fonksiyon,iterasyon yapılabilecek bir veri tipi)\n",
    "\n",
    "Bu fonksiyon sonucunda bir map objesi oluşur ve bunu liste olarak yazdırabiliriz."
   ]
  },
  {
   "cell_type": "markdown",
   "metadata": {},
   "source": [
    "for döngüsüne benzer bir işlevi olan bu fonksiyonu örnekle açıklamak daha kolay olacaktır."
   ]
  },
  {
   "cell_type": "code",
   "execution_count": 5,
   "metadata": {},
   "outputs": [
    {
     "name": "stdout",
     "output_type": "stream",
     "text": [
      "75 345 320 290 25 180 95 135\n"
     ]
    }
   ],
   "source": [
    "#Elimizde sayılardan oluşan bir liste olsun:\n",
    "li1=[15,69,64,58,5,36,19,27]\n",
    "\n",
    "#bir de tek parametresi olan ve girilen sayıyı 5 ile çarpan bir fonksiyonumuz olsa:\n",
    "def carpı5(sayı):\n",
    "    return sayı*5\n",
    "\n",
    "#bu listedeki her sayıyı 5 ile çarpıp sonuçlardan yeni bir liste yapacak olsak:\n",
    "liste=map(carpı5, li1)\n",
    "print(*liste)"
   ]
  },
  {
   "cell_type": "code",
   "execution_count": 6,
   "metadata": {},
   "outputs": [
    {
     "name": "stdout",
     "output_type": "stream",
     "text": [
      "4 6 10 [3, 8, 3, 8] 14 [5, 10, 5, 10]\n"
     ]
    }
   ],
   "source": [
    "def double(x):\n",
    "    return x*2\n",
    "li=[2,3,5,[3,8,],7,[5,10]]\n",
    "liste=map(double,li)\n",
    "print(*liste)"
   ]
  },
  {
   "cell_type": "code",
   "execution_count": 1,
   "metadata": {},
   "outputs": [
    {
     "data": {
      "text/plain": [
       "[225, 4761, 4096, 3364, 25, 1296, 361, 729]"
      ]
     },
     "execution_count": 1,
     "metadata": {},
     "output_type": "execute_result"
    }
   ],
   "source": [
    "#map içine göndereceğimiz fonksiyon lambda fonksiyonu da olabilir:\n",
    "de=(15,69,64,58,5,36,19,27)\n",
    "list(map(lambda x : x ** 2, de))"
   ]
  },
  {
   "cell_type": "code",
   "execution_count": 2,
   "metadata": {},
   "outputs": [
    {
     "data": {
      "text/plain": [
       "[15625, 1048576, 11390625, 5476, 21, 17249876309]"
      ]
     },
     "execution_count": 2,
     "metadata": {},
     "output_type": "execute_result"
    }
   ],
   "source": [
    "#map fonksiyonuna birden fazla iterable de verebiliriz.\n",
    "#Ancak bunu yapabilmemiz için parametre fonksiyonun da uygun olması gerekir.\n",
    "li1=[25,32,15,74,21,29]\n",
    "li2=[3,4,6,2,1,7]\n",
    "list(map(lambda x,y:x**y,li1,li2))"
   ]
  },
  {
   "cell_type": "code",
   "execution_count": 5,
   "metadata": {},
   "outputs": [
    {
     "data": {
      "text/plain": [
       "[12.5, 13.5, 0.05, 4.9, 0.125, 1594323.0]"
      ]
     },
     "execution_count": 5,
     "metadata": {},
     "output_type": "execute_result"
    }
   ],
   "source": [
    "li1=[5,3,1,7,2,9]\n",
    "li2=[3,4,6,2,1,7]\n",
    "li3=[10,6,20,10,16,3,22]\n",
    "list(map(lambda x,y,z:x**y/z,li1,li2,li3))"
   ]
  },
  {
   "cell_type": "markdown",
   "metadata": {},
   "source": [
    "## max() ve min() fonksiyonları"
   ]
  },
  {
   "cell_type": "markdown",
   "metadata": {},
   "source": [
    "Bu iki fonksiyon adından da anlaşılacağı gibi maximum ve minimum kelimelerinden geliyor ve birbirinin zıddı işlem yapıyor. Kullanımları aynı olduğu için biz max() fonksiyonu üzerinden gidelim."
   ]
  },
  {
   "cell_type": "markdown",
   "metadata": {},
   "source": [
    "max() fonksiyonu bir dizi içindeki en büyük öğeyi verir. Birkaç parametre alır ve vereceği çıktılar parametrelere göre değişir."
   ]
  },
  {
   "cell_type": "code",
   "execution_count": 3,
   "metadata": {},
   "outputs": [
    {
     "data": {
      "text/plain": [
       "7"
      ]
     },
     "execution_count": 3,
     "metadata": {},
     "output_type": "execute_result"
    }
   ],
   "source": [
    "#Argüman olarak birden fazla sayı alabilir:\n",
    "max(1,2,4,5,-3,7)"
   ]
  },
  {
   "cell_type": "code",
   "execution_count": 5,
   "metadata": {},
   "outputs": [
    {
     "data": {
      "text/plain": [
       "34"
      ]
     },
     "execution_count": 5,
     "metadata": {},
     "output_type": "execute_result"
    }
   ],
   "source": [
    "#liste gibi öğeli bir veriyi de argüman olarak alabilir:\n",
    "liste=[3,8,-46,12,34]\n",
    "max(liste)"
   ]
  },
  {
   "cell_type": "code",
   "execution_count": 6,
   "metadata": {},
   "outputs": [
    {
     "data": {
      "text/plain": [
       "'abdullah'"
      ]
     },
     "execution_count": 6,
     "metadata": {},
     "output_type": "execute_result"
    }
   ],
   "source": [
    "#key adlı isimli bir argümanı kullanarak büyüklüğü hangi ölçüte göre seçeceğini belileyebiliriz:\n",
    "isimler = ['ahmet', 'can', 'mehmet', 'selin', 'abdullah', 'kezban']\n",
    "max(isimler, key=len) #len burada uzunluğu temsil ediyor."
   ]
  },
  {
   "cell_type": "markdown",
   "metadata": {},
   "source": [
    "key argümanının varsayılan değeri en büyük sayıyı bulmaktır. Yukarıdaki örnekte key argümanına uzunluk değerine göre seçim yapması için len değerini verdik."
   ]
  },
  {
   "cell_type": "code",
   "execution_count": 8,
   "metadata": {},
   "outputs": [
    {
     "name": "stdout",
     "output_type": "stream",
     "text": [
      "albay\n"
     ]
    }
   ],
   "source": [
    "#bir sözlükte tanımlı askerlerin en yüksek rütbelisini veren bir örnek yapalım.\n",
    "#bunun için her rütbeye seviyesine göre bir sayı değeri verecek şekilde bir fonksiyon tanımlayalım.\n",
    "def rütbe_seviye(rütbe):\n",
    "    rütbeler = {'er'        : 0,\n",
    "                'onbaşı'    : 1,\n",
    "                'çavuş'     : 2,\n",
    "                'asteğmen'  : 3,\n",
    "                'teğmen'    : 4,\n",
    "                'üsteğmen'  : 5,\n",
    "                'yüzbaşı'   : 6,\n",
    "                'binbaşı'   : 7,\n",
    "                'yarbay'    : 8,\n",
    "                'albay'     : 9}\n",
    "#Bu fonksiyonumuz kendisine rütbe parametresi ile verilecek değeri keylerde bulup denk gelen sayıyı verecek.\n",
    "    return rütbeler[rütbe]\n",
    "\n",
    "#aralarından en yüksek rütbeli askeri bulacağı veritabanımız askerler kümesi olsun.\n",
    "askerler = {'ahmet': 'onbaşı',\n",
    "            'mehmet': 'teğmen',\n",
    "            'ali': 'yüzbaşı',\n",
    "            'cevat': 'albay',\n",
    "            'berkay': 'üsteğmen',\n",
    "            'mahmut': 'binbaşı'}\n",
    "\n",
    "#max() fonksiyonumuzu yazabiliriz artık\n",
    "print(max(askerler.values(), key=rütbe_seviye)) #işte bu ifade bize askerler sözlüğündeki en yüksek rütbeti verecek\n",
    "#ama burada bir sıkıntı var, evet en yüksek rütbe bu, ama kim bu rütbedeki asker?"
   ]
  },
  {
   "cell_type": "code",
   "execution_count": 12,
   "metadata": {},
   "outputs": [
    {
     "name": "stdout",
     "output_type": "stream",
     "text": [
      "albay cevat\n"
     ]
    }
   ],
   "source": [
    "def rütbe_seviye(rütbe):\n",
    "    rütbeler = {'er'        : 0,\n",
    "                'onbaşı'    : 1,\n",
    "                'çavuş'     : 2,\n",
    "                'asteğmen'  : 3,\n",
    "                'teğmen'    : 4,\n",
    "                'üsteğmen'  : 5,\n",
    "                'yüzbaşı'   : 6,\n",
    "                'binbaşı'   : 7,\n",
    "                'yarbay'    : 8,\n",
    "                'albay'     : 9}\n",
    "    return rütbeler[rütbe]\n",
    "\n",
    "askerler = {'ahmet': 'onbaşı',\n",
    "            'mehmet': 'teğmen',\n",
    "            'ali': 'yüzbaşı',\n",
    "            'cevat': 'albay',\n",
    "            'berkay': 'üsteğmen',\n",
    "            'mahmut': 'binbaşı'}\n",
    "#kodumuzun sonunu bu şekilde değiştirirsek, hem en yüksek rütbeyi hem de bu rütbeye sahip askeri yazdırmış oluruz.\n",
    "for k, v in askerler.items():\n",
    "    if askerler[k] in max(askerler.values(), key=rütbe_seviye):\n",
    "#    if askerler[k]==max(askerler.values(),key=rütbe_seviye): #alternatif if satırı. in yerine == kullandık\n",
    "        print(v, k)"
   ]
  },
  {
   "cell_type": "markdown",
   "metadata": {},
   "source": [
    "## open() fonksiyonu"
   ]
  },
  {
   "cell_type": "markdown",
   "metadata": {},
   "source": [
    "Bu fonksiyonun argümanlarına verilen değerlere göre çeşitli şekillerde dosya oluşturup açtığını ya da mevcut bir dosyayı açtığını zaten biliyoruz."
   ]
  },
  {
   "cell_type": "raw",
   "metadata": {},
   "source": [
    "open(dosya_adi, mode='r', buffering=-1, encoding=None, errors=None, newline=None, closefd=True, opener=None)"
   ]
  },
  {
   "cell_type": "markdown",
   "metadata": {},
   "source": [
    "Görüldüğü gibi çeşitli parametrelere ve varsayılan değerlere sahip bir fonksiyonumuzun parametrelerine bakalım:"
   ]
  },
  {
   "cell_type": "markdown",
   "metadata": {},
   "source": [
    "#### dosya_adı"
   ]
  },
  {
   "cell_type": "raw",
   "metadata": {},
   "source": [
    "dosya_adi: açmak istediğimiz dosyanın adını ve uzantısını string olarak giriyoruz, eğer dosya çalıştığımız dizinde değilse tam adresini de giriyoruz.\n",
    "open('d:/belgeler/dosya.txt') (Burada / yerine \\ kullanacaksak kaçış dizilerine dikkar etmek gerek)\n",
    "open(\"dosya.pdf\")"
   ]
  },
  {
   "cell_type": "markdown",
   "metadata": {},
   "source": [
    "#### mode argümanı"
   ]
  },
  {
   "cell_type": "raw",
   "metadata": {},
   "source": [
    "Dosya açma kipleri:\n",
    "r okuma kipi var olan bir dosyayı açar, dosya yoksa IOError verir. Varsayılan kiptir.\n",
    "w yazma kipi (eğer o isimde bir dosya zaten varsa dosyanın tüm içeriği silinir)\n",
    "a ekleme kipi var olan bir dosyanın sonuna ekleme yapar, dosya yoksa yazma kipinde açmış oluruz.\n",
    "x eğer aynı isimde bir dosya varsa hata verir açmaz, yoksa oluşturup yazma kipinde açar.\n",
    "b dosyaları binary kipinde açar, diğer dört kiple birlikte br, bx, bw, ba gibi kullanılır.\n",
    "t dosyaları metin kipinde açmak için kullanılır, ön tanımlıdır, binary kipte açmadıysak zaten bu kipte açılır.\n",
    "+ diğer dört kipten birine eklenerek kullanılır, yazma kiplerinden birine eklenince okuma özelliği ekler, okuma kipine eklenince yazma özelliği ekler."
   ]
  },
  {
   "cell_type": "markdown",
   "metadata": {},
   "source": [
    "#### buffering"
   ]
  },
  {
   "cell_type": "raw",
   "metadata": {},
   "source": [
    "Bir verinin dosyaya yazılmadan önce tampon bellekte ne kadar biriktirileceğini belirler. Bu argüman üç tip değer alabilir;\n",
    "0 değeri sadece binary kipte verilebilir ve her veriyi anında tampona almadan dosyaya yazılmasını sağlar\n",
    "1 değeri sadece metin dosyalarında verilebilir ve veriyi satır satır yazar, dosyaya \\n dizisini gördüğü anda o ana kadar biriktirdiği veriyi dosyaya aktarır.\n",
    "1 den büyükdeğerler verdiğmizde ise tampon boyutunu belirlemiş oluruz. Ancak bu tercih edilmeyen bir durumdur, bunun kararını işletim sisteminin kendisine bırakmak genel yöntemdir. Bu argümanın varsayılanı da bu şekildedir zaten."
   ]
  },
  {
   "cell_type": "code",
   "execution_count": 13,
   "metadata": {},
   "outputs": [
    {
     "data": {
      "text/plain": [
       "8192"
      ]
     },
     "execution_count": 13,
     "metadata": {},
     "output_type": "execute_result"
    }
   ],
   "source": [
    "#sistemimizin tamponda ne kadar bilgi tuttuğunu öğrenmek için\n",
    "import io\n",
    "io.DEFAULT_BUFFER_SIZE"
   ]
  },
  {
   "cell_type": "markdown",
   "metadata": {},
   "source": [
    "#### encoding"
   ]
  },
  {
   "cell_type": "raw",
   "metadata": {},
   "source": [
    "Dosyanın hangi karakter kodlama sistemi ile açılacağını belirtmek için kullanılır.\n",
    "open(\"dosya.txt\",mode=\"r\",encoding=\"utf-8\") gibi..."
   ]
  },
  {
   "cell_type": "markdown",
   "metadata": {},
   "source": [
    "#### errrors"
   ]
  },
  {
   "cell_type": "raw",
   "metadata": {},
   "source": [
    "Encoding argümanında belirttiğimiz kodlama sisteminde karakterlerin kodlaması yapılamadığı zaman, pythonun ne yapacağını belirttiğimiz argümandır.\n",
    "\"strict\" varsayılan değerdir, program ValueError ile çöker\n",
    "\"ignore\" görmezden gel, çözülemeyen karakterleri yoksayar\n",
    "\"replace\" çözülemeyen karakterlerin yerlerine soru işareti koyar\n",
    "\"xmlcharrefreplace\" çözülemeyen karakterlerin yerlerine xml karşılığını koyar"
   ]
  },
  {
   "cell_type": "markdown",
   "metadata": {},
   "source": [
    "#### newline"
   ]
  },
  {
   "cell_type": "raw",
   "metadata": {},
   "source": [
    "Argümanı satırsonu karakterinin hangi kaçış dizisi ile belirtildiğini belirttiğimiz argümandır. Böyle bir argümana ihtiyaç olmasının sebebi ise GNU/Linux ta satır sonu \\n ile temisl edilirken Windows ta satır sonu \\r\\n ile temsil edilir. İki sistem arasındaki dosya alışverişlerinde sorun olmaması açısından bu argüman kullanılır."
   ]
  },
  {
   "cell_type": "raw",
   "metadata": {},
   "source": [
    "f = open('dosya', newline='\\n') #bu kodu kullandığımızda dosya hangi işletim sisteminde olursa olsun \\n kullanacaktır."
   ]
  },
  {
   "cell_type": "markdown",
   "metadata": {},
   "source": [
    "#### closefd"
   ]
  },
  {
   "cell_type": "raw",
   "metadata": {},
   "source": [
    "dosyaların fileno() adında bir metodu vardır. Bu metod açılan dosyaların her birine benzersiz bir numara (file definition) verir. Hatta istersek biz ifadelerimizde dosya adı ya da atadığımız değişkenin adı yerine bu numarayı kullanarak işlem yapabiliriz. Dosyayı kapattığımızda o dosyanın numarası boşa çıkar ve başka bir dosya açma işleminde başka dosyaya verilebilir. Bir dosyayı birden fazla değişkene verdiğimizi düşünelim, ya da dosyalarla daha detaylı çalışmalar yaptığımızı düşünelim, bir dosyayı kapattığımızda o dosyaya ait numaranın boşa çıkıp başka bir dosyaya verilmesini engellemek istiyorsak, dosyayı kapatır ama closefd parametresine False değeri verebiliriz. Böylece o dosyanın numarası yani fdsi boşa çıkmaz aynı dosya için rezerve gibi birşey olur."
   ]
  },
  {
   "cell_type": "code",
   "execution_count": 17,
   "metadata": {},
   "outputs": [],
   "source": [
    "f=open(\"tahsilatlar.txt\")"
   ]
  },
  {
   "cell_type": "code",
   "execution_count": 18,
   "metadata": {},
   "outputs": [
    {
     "data": {
      "text/plain": [
       "4"
      ]
     },
     "execution_count": 18,
     "metadata": {},
     "output_type": "execute_result"
    }
   ],
   "source": [
    "f.fileno()"
   ]
  },
  {
   "cell_type": "code",
   "execution_count": 19,
   "metadata": {},
   "outputs": [],
   "source": [
    "g=open(4)"
   ]
  },
  {
   "cell_type": "code",
   "execution_count": 20,
   "metadata": {},
   "outputs": [],
   "source": [
    "h=open(g.fileno())"
   ]
  },
  {
   "cell_type": "code",
   "execution_count": 21,
   "metadata": {},
   "outputs": [],
   "source": [
    "c = open(g.fileno(), closefd=False)"
   ]
  },
  {
   "cell_type": "code",
   "execution_count": 23,
   "metadata": {},
   "outputs": [],
   "source": [
    "f.close()"
   ]
  },
  {
   "cell_type": "markdown",
   "metadata": {},
   "source": [
    "# pow() fonksiyonu"
   ]
  },
  {
   "cell_type": "markdown",
   "metadata": {},
   "source": [
    "Daha önceden de bildiğimiz bu fonksiyon esasında kuvvet hesaplamak için kullanılır. Esasında 3 parametresi olan bu fonksiyon birinci argümanın, ikinci argümandaki kuvvetini alarak eğer varsa üçüncü argümana böler ve kalanı verir (modülüs işlemi)"
   ]
  },
  {
   "cell_type": "code",
   "execution_count": 24,
   "metadata": {},
   "outputs": [
    {
     "data": {
      "text/plain": [
       "8"
      ]
     },
     "execution_count": 24,
     "metadata": {},
     "output_type": "execute_result"
    }
   ],
   "source": [
    "pow(2,3)"
   ]
  },
  {
   "cell_type": "code",
   "execution_count": 26,
   "metadata": {},
   "outputs": [
    {
     "data": {
      "text/plain": [
       "3"
      ]
     },
     "execution_count": 26,
     "metadata": {},
     "output_type": "execute_result"
    }
   ],
   "source": [
    "pow(2,3,5)"
   ]
  },
  {
   "cell_type": "markdown",
   "metadata": {},
   "source": [
    "# print() fonksiyonu"
   ]
  },
  {
   "cell_type": "raw",
   "metadata": {},
   "source": [
    "print(*değerler, sep=' ', end='\\n', file=sys.stdout, flush=False)"
   ]
  },
  {
   "cell_type": "raw",
   "metadata": {},
   "source": [
    "değerler: yazdırmak istediğimiz şeyleri , ile ayırarak en fazla 256 farklı şey girebiliriz.\n",
    "sep: varsayılan değeri \" \" bir boşluk olan bu argüman her bir değer arasına ne yerleştirileceğini belirtmek için kullanılır.\n",
    "end: varsayılan değeri satırbaşı yani \"\\n\" olan bu argüman yazdırılacak şeylerin en sonuna iliştirilecek şeyi belirtmek için kullanılır.\n",
    "file yazdırılacak şeylerin nereye, hangi dosyaya yazdırılacağını belirtmek için kullanılır, varsayılan değeri sys.stdout olmakla birlikte sys.stdout ise ekranı gösterir.\n",
    "flush yazdırılacak şeyleri tamponda tutmadan anında dosyaya yazdırıp yazdırmayacağımızı belirtmek için kullanılır."
   ]
  },
  {
   "cell_type": "markdown",
   "metadata": {},
   "source": [
    "# range() fonksiyonu"
   ]
  },
  {
   "cell_type": "markdown",
   "metadata": {},
   "source": [
    "Bu fonksiyon bir aralıktaki sayıları üç parametreye göre listeler. Bu fonksiyonla oluşturulan liste doğrudan kullanılamaz, range tipinde bir veri döndürür. Bu veriyi listeye, demete, sözlük veya küme gibi veri tiplerine çevirip sonrasında istediğimiz gibi kullanabiliriz. Ayrıca *'lı ifade şeklinde de kullanabilir ya da for döngüsünde de kullanabiliriz."
   ]
  },
  {
   "cell_type": "raw",
   "metadata": {},
   "source": [
    "range(başlangıçdeğer, bitişdeğeri, atlama_değeri)"
   ]
  },
  {
   "cell_type": "markdown",
   "metadata": {},
   "source": [
    "Aralıktaki ilk sayı dahil son sayı dahil değildir. Tek bir parametre girilirse 0'dan başlar 1'er sayar, atlama değeri \"-\" bir sayı olursa büyükten küçüğe sayar."
   ]
  },
  {
   "cell_type": "code",
   "execution_count": 30,
   "metadata": {},
   "outputs": [
    {
     "data": {
      "text/plain": [
       "range"
      ]
     },
     "execution_count": 30,
     "metadata": {},
     "output_type": "execute_result"
    }
   ],
   "source": [
    "a=range(5,15,2)\n",
    "type(a)"
   ]
  },
  {
   "cell_type": "code",
   "execution_count": 31,
   "metadata": {},
   "outputs": [
    {
     "name": "stdout",
     "output_type": "stream",
     "text": [
      "range(5, 15, 2)\n"
     ]
    }
   ],
   "source": [
    "print(a)"
   ]
  },
  {
   "cell_type": "code",
   "execution_count": 33,
   "metadata": {},
   "outputs": [
    {
     "name": "stdout",
     "output_type": "stream",
     "text": [
      "5 7 9 11 13\n"
     ]
    }
   ],
   "source": [
    "print(*a)"
   ]
  },
  {
   "cell_type": "code",
   "execution_count": 34,
   "metadata": {},
   "outputs": [
    {
     "name": "stdout",
     "output_type": "stream",
     "text": [
      "5\n",
      "7\n",
      "9\n",
      "11\n",
      "13\n"
     ]
    }
   ],
   "source": [
    "for i in a:\n",
    "    print(i)"
   ]
  },
  {
   "cell_type": "code",
   "execution_count": 36,
   "metadata": {},
   "outputs": [
    {
     "data": {
      "text/plain": [
       "[5, 7, 9, 11, 13]"
      ]
     },
     "execution_count": 36,
     "metadata": {},
     "output_type": "execute_result"
    }
   ],
   "source": [
    "liste=list(a)\n",
    "liste"
   ]
  },
  {
   "cell_type": "code",
   "execution_count": 40,
   "metadata": {},
   "outputs": [
    {
     "data": {
      "text/plain": [
       "{5, 7, 9, 11, 13}"
      ]
     },
     "execution_count": 40,
     "metadata": {},
     "output_type": "execute_result"
    }
   ],
   "source": [
    "küme=set(a)\n",
    "küme"
   ]
  },
  {
   "cell_type": "code",
   "execution_count": 41,
   "metadata": {},
   "outputs": [
    {
     "name": "stdout",
     "output_type": "stream",
     "text": [
      "0,1,2,3,4,5,6,7,8,9\n"
     ]
    }
   ],
   "source": [
    "print(*range(10),sep=\",\")"
   ]
  },
  {
   "cell_type": "code",
   "execution_count": 45,
   "metadata": {},
   "outputs": [
    {
     "name": "stdout",
     "output_type": "stream",
     "text": [
      "10,8,6,4,2\n"
     ]
    }
   ],
   "source": [
    "print(*range(10,0,-2),sep=\",\")"
   ]
  },
  {
   "cell_type": "markdown",
   "metadata": {},
   "source": [
    "# reversed() fonksiyonu"
   ]
  },
  {
   "cell_type": "markdown",
   "metadata": {},
   "source": [
    "Bu fonksiyon adından da anlaşılacağı gibi öğelerden oluşan veri tiplerinin öğelerinin sıralamasını tersine çevirir. Ancak bu da range() fonksiyonu gibi bir reversed() nesnesi oluşturur. Öğelerde oluşan diğer veri tiplerine çevrilerek, for döngüsü, *'lı kullanım gibi yöntemlerle faydalanılır."
   ]
  },
  {
   "cell_type": "code",
   "execution_count": 55,
   "metadata": {},
   "outputs": [
    {
     "name": "stdout",
     "output_type": "stream",
     "text": [
      "1 4 3 2\n"
     ]
    }
   ],
   "source": [
    "a=reversed((2,3,4,1))\n",
    "print(*a)"
   ]
  },
  {
   "cell_type": "code",
   "execution_count": 54,
   "metadata": {},
   "outputs": [
    {
     "name": "stdout",
     "output_type": "stream",
     "text": [
      "t a r u M\n"
     ]
    }
   ],
   "source": [
    "b=reversed(\"Murat\")\n",
    "print(*b)"
   ]
  },
  {
   "cell_type": "code",
   "execution_count": 57,
   "metadata": {},
   "outputs": [
    {
     "name": "stdout",
     "output_type": "stream",
     "text": [
      "['nar', 'üzüm', 'erik', 'elma']\n"
     ]
    }
   ],
   "source": [
    "liste=[\"elma\",\"erik\",\"üzüm\",\"nar\"]\n",
    "c=reversed(liste)\n",
    "print(list(c))"
   ]
  },
  {
   "cell_type": "markdown",
   "metadata": {},
   "source": [
    "# sorted() fonksiyonu"
   ]
  },
  {
   "cell_type": "markdown",
   "metadata": {},
   "source": [
    "Öğelerden oluşan bir veri içindeki öğeleri veri tipine göre alfabetik ya da sayısal olarak sıraya dizer. reverse adında isimli bir parametresi vardır ve varsayılan değeri False'dir. True değeri verirsek sıralamayı tersine, yani büyükten küçüğe yapar. Bu fonksiyon her zaman liste tipi döndürür."
   ]
  },
  {
   "cell_type": "code",
   "execution_count": 58,
   "metadata": {},
   "outputs": [
    {
     "data": {
      "text/plain": [
       "['a', 'm', 'r', 't', 'u']"
      ]
     },
     "execution_count": 58,
     "metadata": {},
     "output_type": "execute_result"
    }
   ],
   "source": [
    "sorted(\"murat\")"
   ]
  },
  {
   "cell_type": "code",
   "execution_count": 59,
   "metadata": {},
   "outputs": [
    {
     "data": {
      "text/plain": [
       "['u', 't', 'r', 'm', 'a']"
      ]
     },
     "execution_count": 59,
     "metadata": {},
     "output_type": "execute_result"
    }
   ],
   "source": [
    "sorted(\"murat\",reverse=True)"
   ]
  },
  {
   "cell_type": "code",
   "execution_count": 60,
   "metadata": {},
   "outputs": [
    {
     "data": {
      "text/plain": [
       "[2, 3, 5, 7, 8, 9]"
      ]
     },
     "execution_count": 60,
     "metadata": {},
     "output_type": "execute_result"
    }
   ],
   "source": [
    "a=[5,3,8,2,9,7]\n",
    "sorted(a)"
   ]
  },
  {
   "cell_type": "code",
   "execution_count": 61,
   "metadata": {},
   "outputs": [
    {
     "data": {
      "text/plain": [
       "[9, 8, 7, 5, 3, 2]"
      ]
     },
     "execution_count": 61,
     "metadata": {},
     "output_type": "execute_result"
    }
   ],
   "source": [
    "sorted(a, reverse=True)"
   ]
  },
  {
   "cell_type": "markdown",
   "metadata": {},
   "source": [
    "Bu fonksiyonun bir de key argümanı vardır. Bu argüman min() ve max() fonksiyonlarına benzer şekilde, özel bir sıralama tanımlamak için kullanılır."
   ]
  },
  {
   "cell_type": "code",
   "execution_count": 77,
   "metadata": {},
   "outputs": [
    {
     "data": {
      "text/plain": [
       "['a', 'b', 'g', 'i', 'l', 'n', 'p', 'r', 't', 'ç', 'ö', 'ü', 'ğ', 'ı', 'ş']"
      ]
     },
     "execution_count": 77,
     "metadata": {},
     "output_type": "execute_result"
    }
   ],
   "source": [
    "#Örneğin Türkçe karakterler içeren liste üzerinde sorted() fonksiyonunu uygulayalım ve sıralamayı yanlış yaptığını görelim:\n",
    "harfler=[\"g\",\"a\",\"ç\",\"b\",\"i\",\"n\",\"ö\",\"l\",\"ş\",\"t\",\"ı\",\"p\",\"ü\",\"r\",\"ğ\"]\n",
    "sorted(harfler)"
   ]
  },
  {
   "cell_type": "code",
   "execution_count": 75,
   "metadata": {},
   "outputs": [
    {
     "data": {
      "text/plain": [
       "['a', 'b', 'ç', 'g', 'ğ', 'i', 'ı', 'l', 'n', 'ö', 'p', 'r', 'ş', 't', 'ü']"
      ]
     },
     "execution_count": 75,
     "metadata": {},
     "output_type": "execute_result"
    }
   ],
   "source": [
    "#yukarıdaki çıktıda görüldüğü gibi bazı harfler yanlış sıralanmış, bunu düzeltmek için key parametresini kullanacağız:\n",
    "import locale #önce locale adında bir modülümüzü alalım\n",
    "locale.setlocale(locale.LC_ALL, 'Turkish_Turkey.1254') #Windows için modülün alfabe seçimi ile ilgili ayar\n",
    "harfler=[\"g\",\"a\",\"ç\",\"b\",\"i\",\"n\",\"ö\",\"l\",\"ş\",\"t\",\"ı\",\"p\",\"ü\",\"r\",\"ğ\"]\n",
    "sorted(harfler, key=locale.strxfrm) #şimdi key parametresine locale modülünden strxfrm adlı bir fonksiyon ile düzeltelim"
   ]
  },
  {
   "cell_type": "code",
   "execution_count": 78,
   "metadata": {},
   "outputs": [
    {
     "name": "stdout",
     "output_type": "stream",
     "text": [
      "{'a': 0, 'b': 1, 'c': 2, 'ç': 3, 'd': 4, 'e': 5, 'f': 6, 'g': 7, 'ğ': 8, 'h': 9, 'ı': 10, 'i': 11, 'j': 12, 'k': 13, 'l': 14, 'm': 15, 'n': 16, 'o': 17, 'ö': 18, 'p': 19, 'r': 20, 's': 21, 'ş': 22, 't': 23, 'u': 24, 'ü': 25, 'v': 26, 'y': 27, 'z': 28}\n"
     ]
    }
   ],
   "source": [
    "#Sorunu büyük ölçüde çözdük ama ı ve i harflerine bakılırsa tam olarak çözüm olmadı, o zaman kendi sıralamamızı yazmalıyız:\n",
    "alfabe = \"abcçdefgğhıijklmnoöprsştuüvyz\" #önce alfabeyi doğru sıralama ile yazalım.\n",
    "sözlük={i: alfabe.index(i) for i in alfabe} #bir sözlük üreteci ile her harfin sırasını bir sözlükte tutalım.\n",
    "print(sözlük)"
   ]
  },
  {
   "cell_type": "code",
   "execution_count": 79,
   "metadata": {},
   "outputs": [
    {
     "data": {
      "text/plain": [
       "['a', 'b', 'ç', 'g', 'ğ', 'ı', 'i', 'l', 'n', 'ö', 'p', 'r', 'ş', 't', 'ü']"
      ]
     },
     "execution_count": 79,
     "metadata": {},
     "output_type": "execute_result"
    }
   ],
   "source": [
    "sorted(harfler, key=lambda x: sözlük.get(x[0])) #artık sözlüğümüzdeki key:value yapısını sorted fonksiyonuna entegre ederek\n",
    "#doğru sıralamayı yapabiliriz."
   ]
  },
  {
   "cell_type": "code",
   "execution_count": 165,
   "metadata": {},
   "outputs": [
    {
     "data": {
      "text/plain": [
       "['ahmet', 'can', 'çiğdem', 'ışık', 'ismail', 'iskender', 'şule']"
      ]
     },
     "execution_count": 165,
     "metadata": {},
     "output_type": "execute_result"
    }
   ],
   "source": [
    "#Aynı kodları kelimeler için deneyelim, bakalım kelimeler içinde aynı harfle başlayan kelimeleri de doğru sıralayacak mı?\n",
    "isimler = [\"ahmet\", \"ışık\", \"ismail\", \"çiğdem\",\n",
    "           \"can\", \"şule\", \"iskender\"]\n",
    "alfabe = \"abcçdefgğhıijklmnoöprsştuüvyz\"\n",
    "sözlük={i: alfabe.index(i) for i in alfabe}\n",
    "sorted(isimler, key=lambda x: sözlük.get(x[0]))"
   ]
  },
  {
   "cell_type": "markdown",
   "metadata": {},
   "source": [
    "Görüyoruz ki maalesef ilk harfe göre sıralama doğru olsa da aynı harfle başlayan kelimeler için sıralama yetersiz,ismail ve iskender kelimelerinin sıralaması yanlış, o zaman ilk harfi aynı olan kelimeler için ikinci harfe ve sonra gerekirse 3.,4..... harflere göre sıralama yapmamız gerekir."
   ]
  },
  {
   "cell_type": "code",
   "execution_count": 4,
   "metadata": {},
   "outputs": [
    {
     "name": "stdout",
     "output_type": "stream",
     "text": [
      "ahmet\n",
      "can\n",
      "cigdem\n",
      "çığdem\n",
      "çiğdem\n",
      "ışık\n",
      "iskender\n",
      "ismail\n",
      "ismet\n",
      "ismıt\n",
      "ismit\n",
      "şule\n"
     ]
    }
   ],
   "source": [
    "#kelime_sıra fonksiyonu ile kelimelerdeki harf sayısı kadar sıralama kriteri oluşturalım.\n",
    "isimler = ['ahmet', 'can', 'iskender', 'cigdem',\n",
    "           'ismet', 'ismail','çığdem', 'ismit', 'çiğdem',\n",
    "           'ismıt', 'ışık', 'şule']\n",
    "alfabe = \"abcçdefgğhıijklmnoöprsştuüvyz\"\n",
    "sözlük={i: alfabe.index(i) for i in alfabe}\n",
    "def kelime_sıra(kelime):\n",
    "    sıralist=[sözlük.get(kelime[i]) for i in range(len(kelime))]\n",
    "    return sıralist\n",
    "print(*sorted(isimler, key=kelime_sıra),sep=\"\\n\")"
   ]
  },
  {
   "cell_type": "markdown",
   "metadata": {},
   "source": [
    "# slice() fonksiyonu"
   ]
  },
  {
   "cell_type": "markdown",
   "metadata": {},
   "source": [
    "Bu fonksiyon öğelerden oluşan veri tiplerini index metoduyla parçalarken yaptığımız işin aynısını yapar."
   ]
  },
  {
   "cell_type": "raw",
   "metadata": {},
   "source": [
    "slice(başlangıç, bitiş, atlama)"
   ]
  },
  {
   "cell_type": "code",
   "execution_count": 6,
   "metadata": {},
   "outputs": [
    {
     "data": {
      "text/plain": [
       "[3, 4, 5]"
      ]
     },
     "execution_count": 6,
     "metadata": {},
     "output_type": "execute_result"
    }
   ],
   "source": [
    "liste=[1,2,3,4,5,6,7,8,9]\n",
    "liste2=liste[2:5]\n",
    "liste2"
   ]
  },
  {
   "cell_type": "code",
   "execution_count": 7,
   "metadata": {},
   "outputs": [],
   "source": [
    "li=slice(3,6,2)"
   ]
  },
  {
   "cell_type": "code",
   "execution_count": 8,
   "metadata": {},
   "outputs": [
    {
     "data": {
      "text/plain": [
       "[4, 6]"
      ]
     },
     "execution_count": 8,
     "metadata": {},
     "output_type": "execute_result"
    }
   ],
   "source": [
    "liste[li]"
   ]
  },
  {
   "cell_type": "markdown",
   "metadata": {},
   "source": [
    "# sum() fonksiyonu"
   ]
  },
  {
   "cell_type": "markdown",
   "metadata": {},
   "source": [
    "Bu fonksiyonun iki parametresi vardır, ilk parametresi bir dizidir, ikinci parametresi ise bir sayıdır. Fonksiyon ilk parametreye girilen dizi içindeki sayıların toplamını hesaplar, eğer ikinci parametre girilmişse toplama bu ikinci parametreyi ekler ve sonucu döndürür."
   ]
  },
  {
   "cell_type": "code",
   "execution_count": 186,
   "metadata": {},
   "outputs": [
    {
     "data": {
      "text/plain": [
       "60"
      ]
     },
     "execution_count": 186,
     "metadata": {},
     "output_type": "execute_result"
    }
   ],
   "source": [
    "liste=[5,10,15,30]\n",
    "sum(liste)"
   ]
  },
  {
   "cell_type": "code",
   "execution_count": 187,
   "metadata": {},
   "outputs": [
    {
     "data": {
      "text/plain": [
       "65"
      ]
     },
     "execution_count": 187,
     "metadata": {},
     "output_type": "execute_result"
    }
   ],
   "source": [
    "sum(liste,5)"
   ]
  },
  {
   "cell_type": "markdown",
   "metadata": {},
   "source": [
    "# type() fonksiyonu"
   ]
  },
  {
   "cell_type": "markdown",
   "metadata": {},
   "source": [
    "Bir nesnenin veri tipini döndüren fonksiyondur."
   ]
  },
  {
   "cell_type": "markdown",
   "metadata": {},
   "source": [
    "# zip() fonksiyonu"
   ]
  },
  {
   "cell_type": "markdown",
   "metadata": {},
   "source": [
    "Bu fonksiyon iki dizinin öğelerini aynı indeks numarasıyla birbirine eşleştirerek bir zip nesnesi oluşturur."
   ]
  },
  {
   "cell_type": "code",
   "execution_count": 18,
   "metadata": {},
   "outputs": [
    {
     "name": "stdout",
     "output_type": "stream",
     "text": [
      "[(1, 6), (2, 7), (3, 8), (4, 9), (5, 10)]\n",
      "[(1, 6), (2, 7), (3, 8), (4, 9), (5, 10)]\n"
     ]
    }
   ],
   "source": [
    "#zip() fonksiyonuna girmeden önce elimizdeki iki listeyi kendimiz eşleştirelim:\n",
    "liste1=[1,2,3,4,5]\n",
    "liste2=[6,7,8,9,10,11,12,13]\n",
    "listesonuc=[]\n",
    "if len(liste1)<=len(liste2):\n",
    "    kısa=len(liste1)\n",
    "else:\n",
    "    kısa=len(liste2)\n",
    "for i in range(kısa):\n",
    "    listesonuc.append((liste1[i],liste2[i]))\n",
    "print(listesonuc)\n",
    "\n",
    "#şimdi de aynı işlemi zip() fonksiyonu ile yapalım.\n",
    "listesonuczip=zip(liste1,liste2)\n",
    "print(list(listesonuczip))"
   ]
  },
  {
   "cell_type": "code",
   "execution_count": 19,
   "metadata": {},
   "outputs": [
    {
     "data": {
      "text/plain": [
       "[(1, 6, 'ahmet'), (2, 7, 'mehmet'), (3, 8, 'kamil'), (4, 9, 'zeynep')]"
      ]
     },
     "execution_count": 19,
     "metadata": {},
     "output_type": "execute_result"
    }
   ],
   "source": [
    "liste1=[1,2,3,4,5]\n",
    "liste2=[6,7,8,9,10,11,12,13]\n",
    "liste3=[\"ahmet\",\"mehmet\",\"kamil\",\"zeynep\"]\n",
    "list(zip(liste1,liste2,liste3))"
   ]
  },
  {
   "cell_type": "code",
   "execution_count": 21,
   "metadata": {},
   "outputs": [
    {
     "name": "stdout",
     "output_type": "stream",
     "text": [
      "1 : ahmet\n",
      "2 : mehmet\n",
      "3 : kamil\n",
      "4 : zeynep\n"
     ]
    }
   ],
   "source": [
    "#for döngüsünde aynı anda iki liste üzerinde gezinmemizi sağlaması açısından çok kullanışlıdır.\n",
    "liste1=[1,2,3,4,5]\n",
    "liste2=[\"ahmet\",\"mehmet\",\"kamil\",\"zeynep\"]\n",
    "for i,j in zip(liste1,liste2):\n",
    "    print(i,\":\",j)"
   ]
  },
  {
   "cell_type": "code",
   "execution_count": 193,
   "metadata": {},
   "outputs": [
    {
     "name": "stdout",
     "output_type": "stream",
     "text": [
      "isim: ahmet\tyaş: 33\n",
      "isim: hasan\tyaş: 23\n",
      "isim: zeynep\tyaş: 52\n",
      "isim: kamil\tyaş: 44\n",
      "isim: ali\tyaş: 34\n",
      "isim: ökkeş\tyaş: 37\n"
     ]
    }
   ],
   "source": [
    "isimler=[\"ahmet\",\"hasan\",\"zeynep\",\"kamil\",\"ali\",\"ökkeş\"]\n",
    "yaşlar=[33,23,52,44,34,37,36]\n",
    "a=zip(isimler,yaşlar)\n",
    "for i,j in a:\n",
    "    print(\"isim: {}\\tyaş: {}\".format(i,j))"
   ]
  },
  {
   "cell_type": "markdown",
   "metadata": {},
   "source": [
    "# vars() fonsiyonu"
   ]
  },
  {
   "cell_type": "markdown",
   "metadata": {},
   "source": [
    "Mevcut isim alanındaki değişken,metod, fonksiyon ve nitelikleri listeler. Eğer parametresiz kullanılırsa locals() fonksiyonu ile aynı işlevi görür. İstersek parametre olarak veri tipi girerek o veritipinin metodlarını listeleyebiliriz."
   ]
  },
  {
   "cell_type": "markdown",
   "metadata": {},
   "source": [
    "# reduce() fonksiyonu"
   ]
  },
  {
   "cell_type": "markdown",
   "metadata": {},
   "source": [
    "Bu fonksiyon Python'un son sürümlerinden itibaren functools adlı bir modülün içine taşınmıştır. Fonksiyon map fonksiyonu gibi ilk parametresine bir fonksiyon alır, ikinci parametreye iteratif bir veri tipi alır."
   ]
  },
  {
   "cell_type": "raw",
   "metadata": {},
   "source": [
    "reduce(fonkisyon,iterasyon yapılabilecek bir veri tipi)"
   ]
  },
  {
   "cell_type": "markdown",
   "metadata": {},
   "source": [
    "Fonksyionun yaptığı şey ise, listedeki ilk iki öğeyi fonksiyona gönderir, fonksiyonun döndürdüğü değeri listenin 3. öğesine uygular dönen değeri listenin bir sonraki öğesine uygular ve bu böyle liste sonuna kadar gider, en sonunda bize bir değer döndürür."
   ]
  },
  {
   "cell_type": "code",
   "execution_count": 8,
   "metadata": {},
   "outputs": [
    {
     "data": {
      "text/plain": [
       "70"
      ]
     },
     "execution_count": 8,
     "metadata": {},
     "output_type": "execute_result"
    }
   ],
   "source": [
    "import functools\n",
    "\n",
    "def toplama(a,b):\n",
    "    return a+b\n",
    "liste=[17,13,25,10,5]\n",
    "functools.reduce(toplama,liste) #burada yapılan işlem=17+13=30,   30+25=55,  55+10=65,   65+5=70"
   ]
  },
  {
   "cell_type": "code",
   "execution_count": 12,
   "metadata": {},
   "outputs": [
    {
     "data": {
      "text/plain": [
       "95"
      ]
     },
     "execution_count": 12,
     "metadata": {},
     "output_type": "execute_result"
    }
   ],
   "source": [
    "#mesela reduce fonksiyonu ile bir listedeki en büyük sayıyı bulalım.\n",
    "import functools\n",
    "\n",
    "def büyük_olan(x,y):\n",
    "    if x>=y:\n",
    "        return x\n",
    "    else:\n",
    "        return y\n",
    "liste=[33,23,52,44,34,-83,37,23,36,95,-19,0] \n",
    "functools.reduce(büyük_olan,liste) #Burada yapılan işlem 33>23=33, 33<52=52,  52>44=52, 52>34=52, 52>-83=52, ...52<95=95...95"
   ]
  },
  {
   "cell_type": "markdown",
   "metadata": {},
   "source": [
    "# Diğer gömülü fonksiyonlar"
   ]
  },
  {
   "cell_type": "raw",
   "metadata": {},
   "source": [
    "memoryview()\n",
    "iter()\n",
    "next()\n",
    "object()\n",
    "property()\n",
    "staticmethod()\n",
    "super()\n",
    "getattr()\n",
    "hasattr()\n",
    "delattr()\n",
    "classmethod()\n",
    "issubclass()\n",
    "setattr()\n",
    "__import()"
   ]
  },
  {
   "cell_type": "code",
   "execution_count": null,
   "metadata": {},
   "outputs": [],
   "source": []
  }
 ],
 "metadata": {
  "kernelspec": {
   "display_name": "Python 3",
   "language": "python",
   "name": "python3"
  },
  "language_info": {
   "codemirror_mode": {
    "name": "ipython",
    "version": 3
   },
   "file_extension": ".py",
   "mimetype": "text/x-python",
   "name": "python",
   "nbconvert_exporter": "python",
   "pygments_lexer": "ipython3",
   "version": "3.7.6"
  }
 },
 "nbformat": 4,
 "nbformat_minor": 2
}
