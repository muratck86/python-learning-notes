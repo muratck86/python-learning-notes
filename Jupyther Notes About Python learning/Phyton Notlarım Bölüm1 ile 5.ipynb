{
 "cells": [
  {
   "cell_type": "markdown",
   "metadata": {},
   "source": [
    "# Dört İşlem Nasıl yapılır?"
   ]
  },
  {
   "cell_type": "code",
   "execution_count": 1,
   "metadata": {},
   "outputs": [
    {
     "data": {
      "text/plain": [
       "7"
      ]
     },
     "execution_count": 1,
     "metadata": {},
     "output_type": "execute_result"
    }
   ],
   "source": [
    "3+4"
   ]
  },
  {
   "cell_type": "code",
   "execution_count": 2,
   "metadata": {},
   "outputs": [
    {
     "data": {
      "text/plain": [
       "12"
      ]
     },
     "execution_count": 2,
     "metadata": {},
     "output_type": "execute_result"
    }
   ],
   "source": [
    "3*4"
   ]
  },
  {
   "cell_type": "code",
   "execution_count": 3,
   "metadata": {},
   "outputs": [
    {
     "data": {
      "text/plain": [
       "64"
      ]
     },
     "execution_count": 3,
     "metadata": {},
     "output_type": "execute_result"
    }
   ],
   "source": [
    "4*4*4"
   ]
  },
  {
   "cell_type": "code",
   "execution_count": 4,
   "metadata": {},
   "outputs": [
    {
     "data": {
      "text/plain": [
       "-2"
      ]
     },
     "execution_count": 4,
     "metadata": {},
     "output_type": "execute_result"
    }
   ],
   "source": [
    "-5+3"
   ]
  },
  {
   "cell_type": "code",
   "execution_count": 5,
   "metadata": {},
   "outputs": [
    {
     "data": {
      "text/plain": [
       "5.25"
      ]
     },
     "execution_count": 5,
     "metadata": {},
     "output_type": "execute_result"
    }
   ],
   "source": [
    "2.5*2.1"
   ]
  },
  {
   "cell_type": "code",
   "execution_count": 6,
   "metadata": {},
   "outputs": [
    {
     "data": {
      "text/plain": [
       "(2, 5, 2)"
      ]
     },
     "execution_count": 6,
     "metadata": {},
     "output_type": "execute_result"
    }
   ],
   "source": [
    "2,1+4,2"
   ]
  },
  {
   "cell_type": "code",
   "execution_count": 7,
   "metadata": {},
   "outputs": [
    {
     "data": {
      "text/plain": [
       "7.300000000000001"
      ]
     },
     "execution_count": 7,
     "metadata": {},
     "output_type": "execute_result"
    }
   ],
   "source": [
    "2.1+5.2"
   ]
  },
  {
   "cell_type": "code",
   "execution_count": 9,
   "metadata": {},
   "outputs": [
    {
     "data": {
      "text/plain": [
       "18.333333333333332"
      ]
     },
     "execution_count": 9,
     "metadata": {},
     "output_type": "execute_result"
    }
   ],
   "source": [
    "55/3"
   ]
  },
  {
   "cell_type": "markdown",
   "metadata": {},
   "source": [
    "# Değişkenler tanımlama"
   ]
  },
  {
   "cell_type": "code",
   "execution_count": 10,
   "metadata": {},
   "outputs": [],
   "source": [
    "murat=10"
   ]
  },
  {
   "cell_type": "code",
   "execution_count": 11,
   "metadata": {},
   "outputs": [],
   "source": [
    "murat=murat+5"
   ]
  },
  {
   "cell_type": "code",
   "execution_count": 12,
   "metadata": {},
   "outputs": [
    {
     "data": {
      "text/plain": [
       "15"
      ]
     },
     "execution_count": 12,
     "metadata": {},
     "output_type": "execute_result"
    }
   ],
   "source": [
    "murat"
   ]
  },
  {
   "cell_type": "code",
   "execution_count": 15,
   "metadata": {},
   "outputs": [],
   "source": [
    "murat=15"
   ]
  },
  {
   "cell_type": "code",
   "execution_count": 16,
   "metadata": {},
   "outputs": [],
   "source": [
    "murat=3.4"
   ]
  },
  {
   "cell_type": "code",
   "execution_count": 17,
   "metadata": {},
   "outputs": [
    {
     "ename": "SyntaxError",
     "evalue": "invalid syntax (<ipython-input-17-8d1a79175ff1>, line 1)",
     "output_type": "error",
     "traceback": [
      "\u001b[1;36m  File \u001b[1;32m\"<ipython-input-17-8d1a79175ff1>\"\u001b[1;36m, line \u001b[1;32m1\u001b[0m\n\u001b[1;33m    a=4 b=2\u001b[0m\n\u001b[1;37m        ^\u001b[0m\n\u001b[1;31mSyntaxError\u001b[0m\u001b[1;31m:\u001b[0m invalid syntax\n"
     ]
    }
   ],
   "source": [
    "a=4 b=2\n",
    "#Bu şekilde tanımlama yapılamıyor."
   ]
  },
  {
   "cell_type": "code",
   "execution_count": 157,
   "metadata": {},
   "outputs": [
    {
     "ename": "SyntaxError",
     "evalue": "can't assign to literal (<ipython-input-157-30c7ab9b42ab>, line 1)",
     "output_type": "error",
     "traceback": [
      "\u001b[1;36m  File \u001b[1;32m\"<ipython-input-157-30c7ab9b42ab>\"\u001b[1;36m, line \u001b[1;32m1\u001b[0m\n\u001b[1;33m    a=4,b=2\u001b[0m\n\u001b[1;37m     ^\u001b[0m\n\u001b[1;31mSyntaxError\u001b[0m\u001b[1;31m:\u001b[0m can't assign to literal\n"
     ]
    }
   ],
   "source": [
    "a=4,b=2\n",
    "#Bu şekilde de tanımlama yapılamıyor"
   ]
  },
  {
   "cell_type": "code",
   "execution_count": 21,
   "metadata": {},
   "outputs": [],
   "source": [
    "a=4\n",
    "b=2"
   ]
  },
  {
   "cell_type": "code",
   "execution_count": 22,
   "metadata": {},
   "outputs": [
    {
     "data": {
      "text/plain": [
       "8"
      ]
     },
     "execution_count": 22,
     "metadata": {},
     "output_type": "execute_result"
    }
   ],
   "source": [
    "a+2*b"
   ]
  },
  {
   "cell_type": "code",
   "execution_count": 26,
   "metadata": {},
   "outputs": [
    {
     "data": {
      "text/plain": [
       "3.142857142857143"
      ]
     },
     "execution_count": 26,
     "metadata": {},
     "output_type": "execute_result"
    }
   ],
   "source": [
    "pi_say=22/7\n",
    "pi_say"
   ]
  },
  {
   "cell_type": "code",
   "execution_count": 158,
   "metadata": {},
   "outputs": [
    {
     "ename": "NameError",
     "evalue": "name 'cevre' is not defined",
     "output_type": "error",
     "traceback": [
      "\u001b[1;31m---------------------------------------------------------------------------\u001b[0m",
      "\u001b[1;31mNameError\u001b[0m                                 Traceback (most recent call last)",
      "\u001b[1;32m<ipython-input-158-31fa0f6a037a>\u001b[0m in \u001b[0;36m<module>\u001b[1;34m\u001b[0m\n\u001b[0;32m      1\u001b[0m \u001b[0mr\u001b[0m\u001b[1;33m=\u001b[0m\u001b[1;36m4\u001b[0m\u001b[1;33m\u001b[0m\u001b[1;33m\u001b[0m\u001b[0m\n\u001b[0;32m      2\u001b[0m \u001b[0mCevre\u001b[0m\u001b[1;33m=\u001b[0m\u001b[0mpi_say\u001b[0m\u001b[1;33m*\u001b[0m\u001b[0mr\u001b[0m\u001b[1;33m\u001b[0m\u001b[1;33m\u001b[0m\u001b[0m\n\u001b[1;32m----> 3\u001b[1;33m \u001b[0mcevre\u001b[0m\u001b[1;33m\u001b[0m\u001b[1;33m\u001b[0m\u001b[0m\n\u001b[0m\u001b[0;32m      4\u001b[0m \u001b[1;31m#Büyük harf ve küçük harf ayrı birer karakter olduğu için hata veriyor.\u001b[0m\u001b[1;33m\u001b[0m\u001b[1;33m\u001b[0m\u001b[1;33m\u001b[0m\u001b[0m\n",
      "\u001b[1;31mNameError\u001b[0m: name 'cevre' is not defined"
     ]
    }
   ],
   "source": [
    "r=4\n",
    "Cevre=pi_say*r\n",
    "cevre\n",
    "#Büyük harf ve küçük harf ayrı birer karakter olduğu için hata veriyor."
   ]
  },
  {
   "cell_type": "code",
   "execution_count": 159,
   "metadata": {},
   "outputs": [
    {
     "data": {
      "text/plain": [
       "12.571428571428571"
      ]
     },
     "execution_count": 159,
     "metadata": {},
     "output_type": "execute_result"
    }
   ],
   "source": [
    "Cevre"
   ]
  },
  {
   "cell_type": "code",
   "execution_count": 30,
   "metadata": {},
   "outputs": [
    {
     "data": {
      "text/plain": [
       "(4, 3)"
      ]
     },
     "execution_count": 30,
     "metadata": {},
     "output_type": "execute_result"
    }
   ],
   "source": [
    "a=4\n",
    "b=3\n",
    "a,b"
   ]
  },
  {
   "cell_type": "markdown",
   "metadata": {},
   "source": [
    "#### değişkenlerin değerlerini birbiriyle değiştirme"
   ]
  },
  {
   "cell_type": "code",
   "execution_count": 31,
   "metadata": {},
   "outputs": [
    {
     "data": {
      "text/plain": [
       "(3, 4)"
      ]
     },
     "execution_count": 31,
     "metadata": {},
     "output_type": "execute_result"
    }
   ],
   "source": [
    "a,b=b,a\n",
    "a,b"
   ]
  },
  {
   "cell_type": "markdown",
   "metadata": {},
   "source": [
    "#### Değişkenlerin değerlerini kendilerine bağlı olarak değiştirme(a=a+1, b=b-2,a=a*b,a=a/2) gibi"
   ]
  },
  {
   "cell_type": "code",
   "execution_count": 33,
   "metadata": {},
   "outputs": [
    {
     "data": {
      "text/plain": [
       "(4, 7)"
      ]
     },
     "execution_count": 33,
     "metadata": {},
     "output_type": "execute_result"
    }
   ],
   "source": [
    "a+=1\n",
    "b+=3\n",
    "a,b"
   ]
  },
  {
   "cell_type": "code",
   "execution_count": 35,
   "metadata": {},
   "outputs": [
    {
     "data": {
      "text/plain": [
       "2"
      ]
     },
     "execution_count": 35,
     "metadata": {},
     "output_type": "execute_result"
    }
   ],
   "source": [
    "a-=2\n",
    "a"
   ]
  },
  {
   "cell_type": "code",
   "execution_count": 36,
   "metadata": {},
   "outputs": [
    {
     "data": {
      "text/plain": [
       "14"
      ]
     },
     "execution_count": 36,
     "metadata": {},
     "output_type": "execute_result"
    }
   ],
   "source": [
    "a*=b\n",
    "a"
   ]
  },
  {
   "cell_type": "code",
   "execution_count": 37,
   "metadata": {},
   "outputs": [],
   "source": [
    "a/=2"
   ]
  },
  {
   "cell_type": "code",
   "execution_count": 38,
   "metadata": {},
   "outputs": [
    {
     "data": {
      "text/plain": [
       "7.0"
      ]
     },
     "execution_count": 38,
     "metadata": {},
     "output_type": "execute_result"
    }
   ],
   "source": [
    "a"
   ]
  },
  {
   "cell_type": "markdown",
   "metadata": {},
   "source": [
    "# print() fonksiyonu"
   ]
  },
  {
   "cell_type": "code",
   "execution_count": 420,
   "metadata": {},
   "outputs": [
    {
     "name": "stdout",
     "output_type": "stream",
     "text": [
      "Help on built-in function print in module builtins:\n",
      "\n",
      "print(...)\n",
      "    print(value, ..., sep=' ', end='\\n', file=sys.stdout, flush=False)\n",
      "    \n",
      "    Prints the values to a stream, or to sys.stdout by default.\n",
      "    Optional keyword arguments:\n",
      "    file:  a file-like object (stream); defaults to the current sys.stdout.\n",
      "    sep:   string inserted between values, default a space.\n",
      "    end:   string appended after the last value, default a newline.\n",
      "    flush: whether to forcibly flush the stream.\n",
      "\n"
     ]
    }
   ],
   "source": [
    "help(print)"
   ]
  },
  {
   "cell_type": "code",
   "execution_count": 41,
   "metadata": {},
   "outputs": [
    {
     "name": "stdout",
     "output_type": "stream",
     "text": [
      "7.0\n"
     ]
    }
   ],
   "source": [
    "print(a)"
   ]
  },
  {
   "cell_type": "code",
   "execution_count": 44,
   "metadata": {},
   "outputs": [],
   "source": [
    "k=54\n",
    "l=33\n",
    "m=89"
   ]
  },
  {
   "cell_type": "code",
   "execution_count": 45,
   "metadata": {},
   "outputs": [
    {
     "data": {
      "text/plain": [
       "176"
      ]
     },
     "execution_count": 45,
     "metadata": {},
     "output_type": "execute_result"
    }
   ],
   "source": [
    "k+l+m"
   ]
  },
  {
   "cell_type": "code",
   "execution_count": 46,
   "metadata": {},
   "outputs": [
    {
     "name": "stdout",
     "output_type": "stream",
     "text": [
      "176\n"
     ]
    }
   ],
   "source": [
    "print(k+l+m)"
   ]
  },
  {
   "cell_type": "code",
   "execution_count": 49,
   "metadata": {},
   "outputs": [
    {
     "name": "stdout",
     "output_type": "stream",
     "text": [
      "k+l+m=\n",
      "176\n"
     ]
    },
    {
     "data": {
      "text/plain": [
       "(None, None)"
      ]
     },
     "execution_count": 49,
     "metadata": {},
     "output_type": "execute_result"
    }
   ],
   "source": [
    "print(\"k+l+m=\"),print(k+l+m)"
   ]
  },
  {
   "cell_type": "markdown",
   "metadata": {},
   "source": [
    "### Tam bölümü verme operatörü //"
   ]
  },
  {
   "cell_type": "code",
   "execution_count": 8,
   "metadata": {},
   "outputs": [
    {
     "data": {
      "text/plain": [
       "18"
      ]
     },
     "execution_count": 8,
     "metadata": {},
     "output_type": "execute_result"
    }
   ],
   "source": [
    "55//3"
   ]
  },
  {
   "cell_type": "code",
   "execution_count": 51,
   "metadata": {},
   "outputs": [
    {
     "data": {
      "text/plain": [
       "9"
      ]
     },
     "execution_count": 51,
     "metadata": {},
     "output_type": "execute_result"
    }
   ],
   "source": [
    "345//36"
   ]
  },
  {
   "cell_type": "code",
   "execution_count": 52,
   "metadata": {},
   "outputs": [
    {
     "data": {
      "text/plain": [
       "9.583333333333334"
      ]
     },
     "execution_count": 52,
     "metadata": {},
     "output_type": "execute_result"
    }
   ],
   "source": [
    "345/36"
   ]
  },
  {
   "cell_type": "code",
   "execution_count": 53,
   "metadata": {},
   "outputs": [
    {
     "data": {
      "text/plain": [
       "1.9912280701754386"
      ]
     },
     "execution_count": 53,
     "metadata": {},
     "output_type": "execute_result"
    }
   ],
   "source": [
    "22.7/11.4"
   ]
  },
  {
   "cell_type": "code",
   "execution_count": 54,
   "metadata": {},
   "outputs": [
    {
     "data": {
      "text/plain": [
       "1.0"
      ]
     },
     "execution_count": 54,
     "metadata": {},
     "output_type": "execute_result"
    }
   ],
   "source": [
    "22.7//11.4"
   ]
  },
  {
   "cell_type": "markdown",
   "metadata": {},
   "source": [
    "### kalanı verme operatörü %"
   ]
  },
  {
   "cell_type": "code",
   "execution_count": 55,
   "metadata": {},
   "outputs": [
    {
     "data": {
      "text/plain": [
       "11.299999999999999"
      ]
     },
     "execution_count": 55,
     "metadata": {},
     "output_type": "execute_result"
    }
   ],
   "source": [
    "22.7%11.4"
   ]
  },
  {
   "cell_type": "code",
   "execution_count": 56,
   "metadata": {},
   "outputs": [
    {
     "data": {
      "text/plain": [
       "1"
      ]
     },
     "execution_count": 56,
     "metadata": {},
     "output_type": "execute_result"
    }
   ],
   "source": [
    "13%4"
   ]
  },
  {
   "cell_type": "markdown",
   "metadata": {},
   "source": [
    "### Üs veya kök alma operatörü **"
   ]
  },
  {
   "cell_type": "code",
   "execution_count": 57,
   "metadata": {},
   "outputs": [
    {
     "data": {
      "text/plain": [
       "64"
      ]
     },
     "execution_count": 57,
     "metadata": {},
     "output_type": "execute_result"
    }
   ],
   "source": [
    "2**6"
   ]
  },
  {
   "cell_type": "code",
   "execution_count": 58,
   "metadata": {},
   "outputs": [
    {
     "data": {
      "text/plain": [
       "369729637649726772657187905628805440595668764281741102430259972423552570455277523421410650010128232727940978889548326540119429996769494359451621570193644014418071060667659301384999779999159200499899"
      ]
     },
     "execution_count": 58,
     "metadata": {},
     "output_type": "execute_result"
    }
   ],
   "source": [
    "99**99"
   ]
  },
  {
   "cell_type": "code",
   "execution_count": 59,
   "metadata": {},
   "outputs": [
    {
     "data": {
      "text/plain": [
       "98901"
      ]
     },
     "execution_count": 59,
     "metadata": {},
     "output_type": "execute_result"
    }
   ],
   "source": [
    "999*99"
   ]
  },
  {
   "cell_type": "code",
   "execution_count": 66,
   "metadata": {},
   "outputs": [
    {
     "data": {
      "text/plain": [
       "3.7792773709464154"
      ]
     },
     "execution_count": 66,
     "metadata": {},
     "output_type": "execute_result"
    }
   ],
   "source": [
    "121261445**(1/14)"
   ]
  },
  {
   "cell_type": "code",
   "execution_count": 67,
   "metadata": {},
   "outputs": [
    {
     "data": {
      "text/plain": [
       "2.0"
      ]
     },
     "execution_count": 67,
     "metadata": {},
     "output_type": "execute_result"
    }
   ],
   "source": [
    "4**(1/2)"
   ]
  },
  {
   "cell_type": "code",
   "execution_count": 68,
   "metadata": {},
   "outputs": [
    {
     "data": {
      "text/plain": [
       "2.0"
      ]
     },
     "execution_count": 68,
     "metadata": {},
     "output_type": "execute_result"
    }
   ],
   "source": [
    "8**(1/3)"
   ]
  },
  {
   "cell_type": "code",
   "execution_count": 167,
   "metadata": {},
   "outputs": [
    {
     "data": {
      "text/plain": [
       "4"
      ]
     },
     "execution_count": 167,
     "metadata": {},
     "output_type": "execute_result"
    }
   ],
   "source": [
    "a=4\n",
    "a"
   ]
  },
  {
   "cell_type": "code",
   "execution_count": 168,
   "metadata": {},
   "outputs": [
    {
     "data": {
      "text/plain": [
       "-4"
      ]
     },
     "execution_count": 168,
     "metadata": {},
     "output_type": "execute_result"
    }
   ],
   "source": [
    "a=-a\n",
    "a"
   ]
  },
  {
   "cell_type": "markdown",
   "metadata": {},
   "source": [
    "# Stringler"
   ]
  },
  {
   "cell_type": "markdown",
   "metadata": {},
   "source": [
    "#### Stringler, yani metin dizileri \" \" arasına ' ' arasına ya da \"\"\" \"\"\" arasına veya ''' ''' arasına tanımlanabilir. Neyle açtıysan onunla kapamalısın."
   ]
  },
  {
   "cell_type": "code",
   "execution_count": 75,
   "metadata": {},
   "outputs": [
    {
     "data": {
      "text/plain": [
       "'murat can kurt'"
      ]
     },
     "execution_count": 75,
     "metadata": {},
     "output_type": "execute_result"
    }
   ],
   "source": [
    "\"\"\"murat can kurt\"\"\""
   ]
  },
  {
   "cell_type": "code",
   "execution_count": 76,
   "metadata": {},
   "outputs": [
    {
     "ename": "SyntaxError",
     "evalue": "invalid syntax (<ipython-input-76-ba3626f96c8b>, line 1)",
     "output_type": "error",
     "traceback": [
      "\u001b[1;36m  File \u001b[1;32m\"<ipython-input-76-ba3626f96c8b>\"\u001b[1;36m, line \u001b[1;32m1\u001b[0m\n\u001b[1;33m    \"\"murat can kurt\"\"\u001b[0m\n\u001b[1;37m          ^\u001b[0m\n\u001b[1;31mSyntaxError\u001b[0m\u001b[1;31m:\u001b[0m invalid syntax\n"
     ]
    }
   ],
   "source": [
    "\"\"murat can kurt\"\""
   ]
  },
  {
   "cell_type": "code",
   "execution_count": 77,
   "metadata": {},
   "outputs": [
    {
     "data": {
      "text/plain": [
       "'murat can kurt'"
      ]
     },
     "execution_count": 77,
     "metadata": {},
     "output_type": "execute_result"
    }
   ],
   "source": [
    "'''murat can kurt'''"
   ]
  },
  {
   "cell_type": "code",
   "execution_count": 78,
   "metadata": {},
   "outputs": [
    {
     "data": {
      "text/plain": [
       "'murat  can kurt'"
      ]
     },
     "execution_count": 78,
     "metadata": {},
     "output_type": "execute_result"
    }
   ],
   "source": [
    "'murat  can kurt'"
   ]
  },
  {
   "cell_type": "code",
   "execution_count": 79,
   "metadata": {},
   "outputs": [
    {
     "data": {
      "text/plain": [
       "'murat can kurt'"
      ]
     },
     "execution_count": 79,
     "metadata": {},
     "output_type": "execute_result"
    }
   ],
   "source": [
    "\"murat can kurt\""
   ]
  },
  {
   "cell_type": "code",
   "execution_count": 80,
   "metadata": {},
   "outputs": [
    {
     "ename": "SyntaxError",
     "evalue": "EOL while scanning string literal (<ipython-input-80-68ced431c18a>, line 1)",
     "output_type": "error",
     "traceback": [
      "\u001b[1;36m  File \u001b[1;32m\"<ipython-input-80-68ced431c18a>\"\u001b[1;36m, line \u001b[1;32m1\u001b[0m\n\u001b[1;33m    \"murat can kurt\u001b[0m\n\u001b[1;37m                   ^\u001b[0m\n\u001b[1;31mSyntaxError\u001b[0m\u001b[1;31m:\u001b[0m EOL while scanning string literal\n"
     ]
    }
   ],
   "source": [
    "\"murat can kurt\n",
    "\""
   ]
  },
  {
   "cell_type": "code",
   "execution_count": 1,
   "metadata": {},
   "outputs": [
    {
     "data": {
      "text/plain": [
       "'\"Seni seviyorum!\" dedi'"
      ]
     },
     "execution_count": 1,
     "metadata": {},
     "output_type": "execute_result"
    }
   ],
   "source": [
    "# aşağıdaki gibi, işlevi olan bir karakteri işlevsizleştirmek için önüne \\ koyulur. Koymasaydık Alıntı anlamındaki\n",
    "#tırnak işaretlerini yazdırmazdı.\n",
    "\"\\\"Seni seviyorum!\\\" dedi\""
   ]
  },
  {
   "cell_type": "markdown",
   "metadata": {},
   "source": [
    "### Str indexleri (karakter veya eleman1 sıra numarası)"
   ]
  },
  {
   "cell_type": "markdown",
   "metadata": {},
   "source": [
    "#### String indexleri: Bir stingdeki her karekterin numarası var. Soldan sağa 0 dan başlar, sağdan sola -1 den başlar. Bir stringi karakter karakter tanımlayamazsın, bir stringi index bazında değiştiremezsin."
   ]
  },
  {
   "cell_type": "code",
   "execution_count": 87,
   "metadata": {},
   "outputs": [
    {
     "ename": "TypeError",
     "evalue": "'int' object does not support item assignment",
     "output_type": "error",
     "traceback": [
      "\u001b[1;31m---------------------------------------------------------------------------\u001b[0m",
      "\u001b[1;31mTypeError\u001b[0m                                 Traceback (most recent call last)",
      "\u001b[1;32m<ipython-input-87-70e2d5296c3d>\u001b[0m in \u001b[0;36m<module>\u001b[1;34m\u001b[0m\n\u001b[1;32m----> 1\u001b[1;33m \u001b[0ma\u001b[0m\u001b[1;33m[\u001b[0m\u001b[1;36m0\u001b[0m\u001b[1;33m]\u001b[0m\u001b[1;33m=\u001b[0m\u001b[1;34m\"M\"\u001b[0m\u001b[1;33m\u001b[0m\u001b[1;33m\u001b[0m\u001b[0m\n\u001b[0m\u001b[0;32m      2\u001b[0m \u001b[0ma\u001b[0m\u001b[1;33m[\u001b[0m\u001b[1;36m1\u001b[0m\u001b[1;33m]\u001b[0m\u001b[1;33m=\u001b[0m\u001b[1;34m\"u\"\u001b[0m\u001b[1;33m\u001b[0m\u001b[1;33m\u001b[0m\u001b[0m\n\u001b[0;32m      3\u001b[0m \u001b[0ma\u001b[0m\u001b[1;33m[\u001b[0m\u001b[1;36m2\u001b[0m\u001b[1;33m]\u001b[0m\u001b[1;33m=\u001b[0m\u001b[1;34m\"r\"\u001b[0m\u001b[1;33m\u001b[0m\u001b[1;33m\u001b[0m\u001b[0m\n\u001b[0;32m      4\u001b[0m \u001b[0ma\u001b[0m\u001b[1;33m[\u001b[0m\u001b[1;36m3\u001b[0m\u001b[1;33m]\u001b[0m\u001b[1;33m=\u001b[0m\u001b[1;34m\"a\"\u001b[0m\u001b[1;33m\u001b[0m\u001b[1;33m\u001b[0m\u001b[0m\n\u001b[0;32m      5\u001b[0m \u001b[0ma\u001b[0m\u001b[1;33m[\u001b[0m\u001b[1;36m4\u001b[0m\u001b[1;33m]\u001b[0m\u001b[1;33m=\u001b[0m\u001b[1;34m't'\u001b[0m\u001b[1;33m\u001b[0m\u001b[1;33m\u001b[0m\u001b[0m\n",
      "\u001b[1;31mTypeError\u001b[0m: 'int' object does not support item assignment"
     ]
    }
   ],
   "source": [
    "a[0]=\"M\"\n",
    "a[1]=\"u\"\n",
    "a[2]=\"r\"\n",
    "a[3]=\"a\"\n",
    "a[4]='t'\n",
    "a"
   ]
  },
  {
   "cell_type": "code",
   "execution_count": 83,
   "metadata": {},
   "outputs": [
    {
     "ename": "NameError",
     "evalue": "name 'Murat' is not defined",
     "output_type": "error",
     "traceback": [
      "\u001b[1;31m---------------------------------------------------------------------------\u001b[0m",
      "\u001b[1;31mNameError\u001b[0m                                 Traceback (most recent call last)",
      "\u001b[1;32m<ipython-input-83-4699059c87fc>\u001b[0m in \u001b[0;36m<module>\u001b[1;34m\u001b[0m\n\u001b[1;32m----> 1\u001b[1;33m \u001b[0ma\u001b[0m\u001b[1;33m=\u001b[0m\u001b[0mMurat\u001b[0m\u001b[1;33m\u001b[0m\u001b[1;33m\u001b[0m\u001b[0m\n\u001b[0m\u001b[0;32m      2\u001b[0m \u001b[0ma\u001b[0m\u001b[1;33m\u001b[0m\u001b[1;33m\u001b[0m\u001b[0m\n",
      "\u001b[1;31mNameError\u001b[0m: name 'Murat' is not defined"
     ]
    }
   ],
   "source": [
    "a=Murat\n",
    "a"
   ]
  },
  {
   "cell_type": "code",
   "execution_count": 90,
   "metadata": {},
   "outputs": [],
   "source": [
    "isim=\"Murat\""
   ]
  },
  {
   "cell_type": "code",
   "execution_count": 91,
   "metadata": {},
   "outputs": [
    {
     "data": {
      "text/plain": [
       "'M'"
      ]
     },
     "execution_count": 91,
     "metadata": {},
     "output_type": "execute_result"
    }
   ],
   "source": [
    "isim[0]"
   ]
  },
  {
   "cell_type": "code",
   "execution_count": 92,
   "metadata": {},
   "outputs": [
    {
     "data": {
      "text/plain": [
       "'t'"
      ]
     },
     "execution_count": 92,
     "metadata": {},
     "output_type": "execute_result"
    }
   ],
   "source": [
    "isim[4]"
   ]
  },
  {
   "cell_type": "code",
   "execution_count": 93,
   "metadata": {},
   "outputs": [
    {
     "data": {
      "text/plain": [
       "' '"
      ]
     },
     "execution_count": 93,
     "metadata": {},
     "output_type": "execute_result"
    }
   ],
   "source": [
    "isim=\"Murat Can Kurt\"\n",
    "isim[5]"
   ]
  },
  {
   "cell_type": "code",
   "execution_count": 94,
   "metadata": {},
   "outputs": [
    {
     "data": {
      "text/plain": [
       "'t'"
      ]
     },
     "execution_count": 94,
     "metadata": {},
     "output_type": "execute_result"
    }
   ],
   "source": [
    "isim[-1]"
   ]
  },
  {
   "cell_type": "code",
   "execution_count": 95,
   "metadata": {},
   "outputs": [
    {
     "data": {
      "text/plain": [
       "'Murat Can Kurt'"
      ]
     },
     "execution_count": 95,
     "metadata": {},
     "output_type": "execute_result"
    }
   ],
   "source": [
    "isim"
   ]
  },
  {
   "cell_type": "code",
   "execution_count": 96,
   "metadata": {},
   "outputs": [
    {
     "data": {
      "text/plain": [
       "'K'"
      ]
     },
     "execution_count": 96,
     "metadata": {},
     "output_type": "execute_result"
    }
   ],
   "source": [
    "isim[-4]"
   ]
  },
  {
   "cell_type": "code",
   "execution_count": 97,
   "metadata": {},
   "outputs": [
    {
     "ename": "IndexError",
     "evalue": "string index out of range",
     "output_type": "error",
     "traceback": [
      "\u001b[1;31m---------------------------------------------------------------------------\u001b[0m",
      "\u001b[1;31mIndexError\u001b[0m                                Traceback (most recent call last)",
      "\u001b[1;32m<ipython-input-97-38b5435a1bb0>\u001b[0m in \u001b[0;36m<module>\u001b[1;34m\u001b[0m\n\u001b[1;32m----> 1\u001b[1;33m \u001b[0misim\u001b[0m\u001b[1;33m[\u001b[0m\u001b[1;33m-\u001b[0m\u001b[1;36m15\u001b[0m\u001b[1;33m]\u001b[0m\u001b[1;33m\u001b[0m\u001b[1;33m\u001b[0m\u001b[0m\n\u001b[0m",
      "\u001b[1;31mIndexError\u001b[0m: string index out of range"
     ]
    }
   ],
   "source": [
    "isim[-15]"
   ]
  },
  {
   "cell_type": "code",
   "execution_count": 98,
   "metadata": {},
   "outputs": [
    {
     "data": {
      "text/plain": [
       "'Murat Can Kurt'"
      ]
     },
     "execution_count": 98,
     "metadata": {},
     "output_type": "execute_result"
    }
   ],
   "source": [
    "isim"
   ]
  },
  {
   "cell_type": "code",
   "execution_count": 101,
   "metadata": {},
   "outputs": [
    {
     "data": {
      "text/plain": [
       "' '"
      ]
     },
     "execution_count": 101,
     "metadata": {},
     "output_type": "execute_result"
    }
   ],
   "source": [
    "ad=isim[5]\n",
    "ad"
   ]
  },
  {
   "cell_type": "code",
   "execution_count": 103,
   "metadata": {},
   "outputs": [
    {
     "data": {
      "text/plain": [
       "'Murat'"
      ]
     },
     "execution_count": 103,
     "metadata": {},
     "output_type": "execute_result"
    }
   ],
   "source": [
    "ad=isim[:5]\n",
    "ad"
   ]
  },
  {
   "cell_type": "code",
   "execution_count": 104,
   "metadata": {},
   "outputs": [
    {
     "data": {
      "text/plain": [
       "'Can Kurt'"
      ]
     },
     "execution_count": 104,
     "metadata": {},
     "output_type": "execute_result"
    }
   ],
   "source": [
    "soyad=isim[6:]\n",
    "soyad"
   ]
  },
  {
   "cell_type": "code",
   "execution_count": 105,
   "metadata": {},
   "outputs": [
    {
     "data": {
      "text/plain": [
       "'Murat Can'"
      ]
     },
     "execution_count": 105,
     "metadata": {},
     "output_type": "execute_result"
    }
   ],
   "source": [
    "ad=isim[:9]\n",
    "ad"
   ]
  },
  {
   "cell_type": "code",
   "execution_count": 107,
   "metadata": {},
   "outputs": [
    {
     "data": {
      "text/plain": [
       "'Kurt'"
      ]
     },
     "execution_count": 107,
     "metadata": {},
     "output_type": "execute_result"
    }
   ],
   "source": [
    "soyad=isim[10:]\n",
    "soyad"
   ]
  },
  {
   "cell_type": "code",
   "execution_count": 108,
   "metadata": {},
   "outputs": [
    {
     "data": {
      "text/plain": [
       "('Murat Can', 'Kurt')"
      ]
     },
     "execution_count": 108,
     "metadata": {},
     "output_type": "execute_result"
    }
   ],
   "source": [
    "ad,soyad"
   ]
  },
  {
   "cell_type": "code",
   "execution_count": 109,
   "metadata": {},
   "outputs": [
    {
     "name": "stdout",
     "output_type": "stream",
     "text": [
      "Murat Can Kurt\n"
     ]
    }
   ],
   "source": [
    "print(ad,soyad)"
   ]
  },
  {
   "cell_type": "code",
   "execution_count": 112,
   "metadata": {},
   "outputs": [
    {
     "name": "stdout",
     "output_type": "stream",
     "text": [
      "Kurt , Murat Can\n"
     ]
    }
   ],
   "source": [
    "print(soyad,\",\",ad)"
   ]
  },
  {
   "cell_type": "code",
   "execution_count": 113,
   "metadata": {},
   "outputs": [
    {
     "data": {
      "text/plain": [
       "('Kurt', ',', 'Murat Can')"
      ]
     },
     "execution_count": 113,
     "metadata": {},
     "output_type": "execute_result"
    }
   ],
   "source": [
    "soyad,\",\",ad"
   ]
  },
  {
   "cell_type": "code",
   "execution_count": 116,
   "metadata": {},
   "outputs": [
    {
     "name": "stdout",
     "output_type": "stream",
     "text": [
      "Kurt Murat Can\n"
     ]
    }
   ],
   "source": [
    "print(soyad ,    ad)"
   ]
  },
  {
   "cell_type": "code",
   "execution_count": 119,
   "metadata": {},
   "outputs": [],
   "source": [
    "ikinciad=isim[6:9]"
   ]
  },
  {
   "cell_type": "code",
   "execution_count": 120,
   "metadata": {},
   "outputs": [
    {
     "data": {
      "text/plain": [
       "'Can'"
      ]
     },
     "execution_count": 120,
     "metadata": {},
     "output_type": "execute_result"
    }
   ],
   "source": [
    "ikinciad"
   ]
  },
  {
   "cell_type": "code",
   "execution_count": 122,
   "metadata": {},
   "outputs": [
    {
     "data": {
      "text/plain": [
       "'Murat'"
      ]
     },
     "execution_count": 122,
     "metadata": {},
     "output_type": "execute_result"
    }
   ],
   "source": [
    "isim[:5]"
   ]
  },
  {
   "cell_type": "code",
   "execution_count": 123,
   "metadata": {},
   "outputs": [
    {
     "data": {
      "text/plain": [
       "'Murat Can Kurt'"
      ]
     },
     "execution_count": 123,
     "metadata": {},
     "output_type": "execute_result"
    }
   ],
   "source": [
    "isim[:]"
   ]
  },
  {
   "cell_type": "code",
   "execution_count": 126,
   "metadata": {},
   "outputs": [
    {
     "data": {
      "text/plain": [
       "'Murat CanCanKurt'"
      ]
     },
     "execution_count": 126,
     "metadata": {},
     "output_type": "execute_result"
    }
   ],
   "source": [
    "tamisim=ad+ikinciad+soyad\n",
    "tamisim"
   ]
  },
  {
   "cell_type": "code",
   "execution_count": 127,
   "metadata": {},
   "outputs": [
    {
     "data": {
      "text/plain": [
       "'Kurt'"
      ]
     },
     "execution_count": 127,
     "metadata": {},
     "output_type": "execute_result"
    }
   ],
   "source": [
    "soyad"
   ]
  },
  {
   "cell_type": "code",
   "execution_count": 128,
   "metadata": {},
   "outputs": [
    {
     "data": {
      "text/plain": [
       "'Can'"
      ]
     },
     "execution_count": 128,
     "metadata": {},
     "output_type": "execute_result"
    }
   ],
   "source": [
    "ikinciad"
   ]
  },
  {
   "cell_type": "markdown",
   "metadata": {},
   "source": [
    "#### indexleme mantığı şu şekildedir [başlama no (dahil):bitiş no(dahil değil):atlama miktarı(başında \"-\" olursa sağdan sola gider)]"
   ]
  },
  {
   "cell_type": "code",
   "execution_count": 173,
   "metadata": {},
   "outputs": [
    {
     "data": {
      "text/plain": [
       "'abcdefghijklmnopqrstuvwxyz'"
      ]
     },
     "execution_count": 173,
     "metadata": {},
     "output_type": "execute_result"
    }
   ],
   "source": [
    "alfabe=\"abcdefghijklmnopqrstuvwxyz\"\n",
    "alfabe"
   ]
  },
  {
   "cell_type": "code",
   "execution_count": 174,
   "metadata": {},
   "outputs": [
    {
     "data": {
      "text/plain": [
       "'acegikmoqsuwy'"
      ]
     },
     "execution_count": 174,
     "metadata": {},
     "output_type": "execute_result"
    }
   ],
   "source": [
    "alfabe[::2]"
   ]
  },
  {
   "cell_type": "code",
   "execution_count": 176,
   "metadata": {},
   "outputs": [
    {
     "data": {
      "text/plain": [
       "'zyxwvutsrqponmlkjihgfedcba'"
      ]
     },
     "execution_count": 176,
     "metadata": {},
     "output_type": "execute_result"
    }
   ],
   "source": [
    "alfabe[::-1]"
   ]
  },
  {
   "cell_type": "code",
   "execution_count": 177,
   "metadata": {},
   "outputs": [
    {
     "data": {
      "text/plain": [
       "'defghij'"
      ]
     },
     "execution_count": 177,
     "metadata": {},
     "output_type": "execute_result"
    }
   ],
   "source": [
    "alfabe[3:10]"
   ]
  },
  {
   "cell_type": "code",
   "execution_count": 178,
   "metadata": {},
   "outputs": [
    {
     "data": {
      "text/plain": [
       "'dfhj'"
      ]
     },
     "execution_count": 178,
     "metadata": {},
     "output_type": "execute_result"
    }
   ],
   "source": [
    "alfabe[3:10:2]"
   ]
  },
  {
   "cell_type": "code",
   "execution_count": 125,
   "metadata": {},
   "outputs": [
    {
     "data": {
      "text/plain": [
       "'truK naC taruM'"
      ]
     },
     "execution_count": 125,
     "metadata": {},
     "output_type": "execute_result"
    }
   ],
   "source": [
    "isim[::-1]"
   ]
  },
  {
   "cell_type": "code",
   "execution_count": 129,
   "metadata": {},
   "outputs": [
    {
     "data": {
      "text/plain": [
       "'MuratCanKurt'"
      ]
     },
     "execution_count": 129,
     "metadata": {},
     "output_type": "execute_result"
    }
   ],
   "source": [
    "ad[:5]+ikinciad+soyad"
   ]
  },
  {
   "cell_type": "code",
   "execution_count": 135,
   "metadata": {},
   "outputs": [
    {
     "name": "stdout",
     "output_type": "stream",
     "text": [
      "Kurt, Murat Can\n"
     ]
    }
   ],
   "source": [
    "print(soyad+\", \"+ad[:5]+\" \" +ikinciad)"
   ]
  },
  {
   "cell_type": "markdown",
   "metadata": {},
   "source": [
    "#### Str ile int arasında çarpma, str ile str arasında toplama işlemi yapılabilir."
   ]
  },
  {
   "cell_type": "code",
   "execution_count": 136,
   "metadata": {},
   "outputs": [
    {
     "data": {
      "text/plain": [
       "'Murat CanMurat Can'"
      ]
     },
     "execution_count": 136,
     "metadata": {},
     "output_type": "execute_result"
    }
   ],
   "source": [
    "ad*2"
   ]
  },
  {
   "cell_type": "code",
   "execution_count": 137,
   "metadata": {},
   "outputs": [
    {
     "ename": "TypeError",
     "evalue": "can't multiply sequence by non-int of type 'str'",
     "output_type": "error",
     "traceback": [
      "\u001b[1;31m---------------------------------------------------------------------------\u001b[0m",
      "\u001b[1;31mTypeError\u001b[0m                                 Traceback (most recent call last)",
      "\u001b[1;32m<ipython-input-137-1ed319772aac>\u001b[0m in \u001b[0;36m<module>\u001b[1;34m\u001b[0m\n\u001b[1;32m----> 1\u001b[1;33m \u001b[0mad\u001b[0m\u001b[1;33m*\u001b[0m\u001b[0msoyad\u001b[0m\u001b[1;33m\u001b[0m\u001b[1;33m\u001b[0m\u001b[0m\n\u001b[0m",
      "\u001b[1;31mTypeError\u001b[0m: can't multiply sequence by non-int of type 'str'"
     ]
    }
   ],
   "source": [
    "ad*soyad"
   ]
  },
  {
   "cell_type": "code",
   "execution_count": 138,
   "metadata": {},
   "outputs": [
    {
     "data": {
      "text/plain": [
       "'Murat Can KurtMurat Can KurtMurat Can KurtMurat Can KurtMurat Can Kurt'"
      ]
     },
     "execution_count": 138,
     "metadata": {},
     "output_type": "execute_result"
    }
   ],
   "source": [
    "isim*5"
   ]
  },
  {
   "cell_type": "code",
   "execution_count": 139,
   "metadata": {},
   "outputs": [
    {
     "data": {
      "text/plain": [
       "'Murat Can Kurt Murat Can Kurt Murat Can Kurt Murat Can Kurt Murat Can Kurt '"
      ]
     },
     "execution_count": 139,
     "metadata": {},
     "output_type": "execute_result"
    }
   ],
   "source": [
    "(isim+\" \")*5"
   ]
  },
  {
   "cell_type": "code",
   "execution_count": 141,
   "metadata": {},
   "outputs": [
    {
     "name": "stdout",
     "output_type": "stream",
     "text": [
      "Murat Can KurtMurat Can KurtMurat Can KurtMurat Can KurtMurat Can Kurt\n"
     ]
    }
   ],
   "source": [
    "print(isim*5)"
   ]
  },
  {
   "cell_type": "code",
   "execution_count": 142,
   "metadata": {},
   "outputs": [
    {
     "name": "stdout",
     "output_type": "stream",
     "text": [
      "Murat Can Kurt     \n"
     ]
    }
   ],
   "source": [
    "print(isim+\" \"*5)"
   ]
  },
  {
   "cell_type": "code",
   "execution_count": 143,
   "metadata": {},
   "outputs": [
    {
     "name": "stdout",
     "output_type": "stream",
     "text": [
      "Murat Can Kurt Murat Can Kurt Murat Can Kurt Murat Can Kurt Murat Can Kurt Murat Can Kurt Murat Can Kurt Murat Can Kurt \n"
     ]
    }
   ],
   "source": [
    "print((isim+\" \")*8)"
   ]
  },
  {
   "cell_type": "markdown",
   "metadata": {},
   "source": [
    "### Stringlerin (veya indexlenebilen verilerin) uzunluğu len() fonksiyonu"
   ]
  },
  {
   "cell_type": "code",
   "execution_count": 148,
   "metadata": {},
   "outputs": [
    {
     "data": {
      "text/plain": [
       "14"
      ]
     },
     "execution_count": 148,
     "metadata": {},
     "output_type": "execute_result"
    }
   ],
   "source": [
    "len(isim)"
   ]
  },
  {
   "cell_type": "code",
   "execution_count": 150,
   "metadata": {},
   "outputs": [
    {
     "data": {
      "text/plain": [
       "13"
      ]
     },
     "execution_count": 150,
     "metadata": {},
     "output_type": "execute_result"
    }
   ],
   "source": [
    "len(ad)+len(soyad)\n",
    "#Burada isim ve soyisim arasındaki boşluk karakterinin eksikliğinden dolayı 1 eksik çıkacak"
   ]
  },
  {
   "cell_type": "markdown",
   "metadata": {},
   "source": [
    "### Kod yazarken işleme alınmasını istemediğimiz açıklama veya notlar..."
   ]
  },
  {
   "cell_type": "code",
   "execution_count": 144,
   "metadata": {},
   "outputs": [],
   "source": [
    "#Tek satırlık açıklamadır!!"
   ]
  },
  {
   "cell_type": "code",
   "execution_count": 147,
   "metadata": {},
   "outputs": [
    {
     "data": {
      "text/plain": [
       "'\\nÇok satırlı açıklama için kullanılan yöntemdir.\\nBirden çok satıra açıklamalar yazıldıktan sonra yine aynı şekilde \\nbitirilmesi gerekir.\\n'"
      ]
     },
     "execution_count": 147,
     "metadata": {},
     "output_type": "execute_result"
    }
   ],
   "source": [
    "\"\"\"\n",
    "Çok satırlı açıklama için kullanılan yöntemdir.\n",
    "Birden çok satıra açıklamalar yazıldıktan sonra yine aynı şekilde \n",
    "bitirilmesi gerekir.\n",
    "\"\"\""
   ]
  },
  {
   "cell_type": "markdown",
   "metadata": {},
   "source": [
    "## veri Tipleri, integer(tamsayı), float (ondalıklı sayı) "
   ]
  },
  {
   "cell_type": "markdown",
   "metadata": {},
   "source": [
    "### Veri tipi dönüşümleri"
   ]
  },
  {
   "cell_type": "code",
   "execution_count": 182,
   "metadata": {},
   "outputs": [
    {
     "data": {
      "text/plain": [
       "45"
      ]
     },
     "execution_count": 182,
     "metadata": {},
     "output_type": "execute_result"
    }
   ],
   "source": [
    "a=45\n",
    "a"
   ]
  },
  {
   "cell_type": "code",
   "execution_count": 183,
   "metadata": {},
   "outputs": [
    {
     "data": {
      "text/plain": [
       "45"
      ]
     },
     "execution_count": 183,
     "metadata": {},
     "output_type": "execute_result"
    }
   ],
   "source": [
    "float(a)\n",
    "a"
   ]
  },
  {
   "cell_type": "code",
   "execution_count": 184,
   "metadata": {},
   "outputs": [],
   "source": [
    "#yukarıdaki kullanım yanlıştır."
   ]
  },
  {
   "cell_type": "code",
   "execution_count": 185,
   "metadata": {},
   "outputs": [
    {
     "data": {
      "text/plain": [
       "45.0"
      ]
     },
     "execution_count": 185,
     "metadata": {},
     "output_type": "execute_result"
    }
   ],
   "source": [
    "a=float(a)\n",
    "a"
   ]
  },
  {
   "cell_type": "code",
   "execution_count": 186,
   "metadata": {},
   "outputs": [
    {
     "data": {
      "text/plain": [
       "45.8"
      ]
     },
     "execution_count": 186,
     "metadata": {},
     "output_type": "execute_result"
    }
   ],
   "source": [
    "a=45.8\n",
    "a"
   ]
  },
  {
   "cell_type": "code",
   "execution_count": 187,
   "metadata": {},
   "outputs": [
    {
     "data": {
      "text/plain": [
       "45"
      ]
     },
     "execution_count": 187,
     "metadata": {},
     "output_type": "execute_result"
    }
   ],
   "source": [
    "a=int(a)\n",
    "a"
   ]
  },
  {
   "cell_type": "code",
   "execution_count": 188,
   "metadata": {},
   "outputs": [
    {
     "data": {
      "text/plain": [
       "-12.6"
      ]
     },
     "execution_count": 188,
     "metadata": {},
     "output_type": "execute_result"
    }
   ],
   "source": [
    "float(-12.6)"
   ]
  },
  {
   "cell_type": "code",
   "execution_count": 189,
   "metadata": {},
   "outputs": [
    {
     "data": {
      "text/plain": [
       "-12"
      ]
     },
     "execution_count": 189,
     "metadata": {},
     "output_type": "execute_result"
    }
   ],
   "source": [
    "int(-12.65)"
   ]
  },
  {
   "cell_type": "code",
   "execution_count": 190,
   "metadata": {},
   "outputs": [
    {
     "data": {
      "text/plain": [
       "325"
      ]
     },
     "execution_count": 190,
     "metadata": {},
     "output_type": "execute_result"
    }
   ],
   "source": [
    "b=325.57\n",
    "int(b)"
   ]
  },
  {
   "cell_type": "code",
   "execution_count": 191,
   "metadata": {},
   "outputs": [
    {
     "data": {
      "text/plain": [
       "'2545674'"
      ]
     },
     "execution_count": 191,
     "metadata": {},
     "output_type": "execute_result"
    }
   ],
   "source": [
    "a=2545674\n",
    "str(a)"
   ]
  },
  {
   "cell_type": "code",
   "execution_count": 192,
   "metadata": {},
   "outputs": [
    {
     "data": {
      "text/plain": [
       "2545674"
      ]
     },
     "execution_count": 192,
     "metadata": {},
     "output_type": "execute_result"
    }
   ],
   "source": [
    "a"
   ]
  },
  {
   "cell_type": "code",
   "execution_count": 193,
   "metadata": {},
   "outputs": [
    {
     "ename": "TypeError",
     "evalue": "object of type 'int' has no len()",
     "output_type": "error",
     "traceback": [
      "\u001b[1;31m---------------------------------------------------------------------------\u001b[0m",
      "\u001b[1;31mTypeError\u001b[0m                                 Traceback (most recent call last)",
      "\u001b[1;32m<ipython-input-193-b2303413ce63>\u001b[0m in \u001b[0;36m<module>\u001b[1;34m\u001b[0m\n\u001b[0;32m      1\u001b[0m \u001b[0ma\u001b[0m\u001b[1;33m=\u001b[0m\u001b[1;36m465945\u001b[0m\u001b[1;33m\u001b[0m\u001b[1;33m\u001b[0m\u001b[0m\n\u001b[1;32m----> 2\u001b[1;33m \u001b[0mlen\u001b[0m\u001b[1;33m(\u001b[0m\u001b[0ma\u001b[0m\u001b[1;33m)\u001b[0m\u001b[1;33m\u001b[0m\u001b[1;33m\u001b[0m\u001b[0m\n\u001b[0m",
      "\u001b[1;31mTypeError\u001b[0m: object of type 'int' has no len()"
     ]
    }
   ],
   "source": [
    "a=465945\n",
    "len(a)"
   ]
  },
  {
   "cell_type": "code",
   "execution_count": 194,
   "metadata": {},
   "outputs": [],
   "source": [
    "a=465945\n",
    "a=str(a)"
   ]
  },
  {
   "cell_type": "code",
   "execution_count": 195,
   "metadata": {},
   "outputs": [
    {
     "data": {
      "text/plain": [
       "'465945'"
      ]
     },
     "execution_count": 195,
     "metadata": {},
     "output_type": "execute_result"
    }
   ],
   "source": [
    "a"
   ]
  },
  {
   "cell_type": "code",
   "execution_count": 196,
   "metadata": {},
   "outputs": [
    {
     "data": {
      "text/plain": [
       "6"
      ]
     },
     "execution_count": 196,
     "metadata": {},
     "output_type": "execute_result"
    }
   ],
   "source": [
    "len(a)"
   ]
  },
  {
   "cell_type": "code",
   "execution_count": 197,
   "metadata": {},
   "outputs": [
    {
     "data": {
      "text/plain": [
       "'3.14'"
      ]
     },
     "execution_count": 197,
     "metadata": {},
     "output_type": "execute_result"
    }
   ],
   "source": [
    "a=str(3.14)\n",
    "a"
   ]
  },
  {
   "cell_type": "code",
   "execution_count": 198,
   "metadata": {},
   "outputs": [
    {
     "data": {
      "text/plain": [
       "4"
      ]
     },
     "execution_count": 198,
     "metadata": {},
     "output_type": "execute_result"
    }
   ],
   "source": [
    "len(a)"
   ]
  },
  {
   "cell_type": "code",
   "execution_count": 199,
   "metadata": {},
   "outputs": [],
   "source": [
    "a=\"421475murat\""
   ]
  },
  {
   "cell_type": "code",
   "execution_count": 200,
   "metadata": {},
   "outputs": [
    {
     "ename": "ValueError",
     "evalue": "invalid literal for int() with base 10: '421475murat'",
     "output_type": "error",
     "traceback": [
      "\u001b[1;31m---------------------------------------------------------------------------\u001b[0m",
      "\u001b[1;31mValueError\u001b[0m                                Traceback (most recent call last)",
      "\u001b[1;32m<ipython-input-200-8b2ab3991dae>\u001b[0m in \u001b[0;36m<module>\u001b[1;34m\u001b[0m\n\u001b[1;32m----> 1\u001b[1;33m \u001b[0mint\u001b[0m\u001b[1;33m(\u001b[0m\u001b[0ma\u001b[0m\u001b[1;33m)\u001b[0m\u001b[1;33m\u001b[0m\u001b[1;33m\u001b[0m\u001b[0m\n\u001b[0m",
      "\u001b[1;31mValueError\u001b[0m: invalid literal for int() with base 10: '421475murat'"
     ]
    }
   ],
   "source": [
    "int(a)"
   ]
  },
  {
   "cell_type": "code",
   "execution_count": 201,
   "metadata": {},
   "outputs": [
    {
     "data": {
      "text/plain": [
       "'54895446'"
      ]
     },
     "execution_count": 201,
     "metadata": {},
     "output_type": "execute_result"
    }
   ],
   "source": [
    "a=\"54895446\"\n",
    "a"
   ]
  },
  {
   "cell_type": "code",
   "execution_count": 202,
   "metadata": {},
   "outputs": [
    {
     "data": {
      "text/plain": [
       "54895446"
      ]
     },
     "execution_count": 202,
     "metadata": {},
     "output_type": "execute_result"
    }
   ],
   "source": [
    "int(a)"
   ]
  },
  {
   "cell_type": "code",
   "execution_count": 203,
   "metadata": {},
   "outputs": [
    {
     "data": {
      "text/plain": [
       "54895446.0"
      ]
     },
     "execution_count": 203,
     "metadata": {},
     "output_type": "execute_result"
    }
   ],
   "source": [
    "float(a)"
   ]
  },
  {
   "cell_type": "markdown",
   "metadata": {},
   "source": [
    "#### Stringleri integer veya floata çevirebilmek için stringdeki tüm karakterlerin rakam olması, ya da float (ondalıklı sayı formunda) olması gerekir."
   ]
  },
  {
   "cell_type": "code",
   "execution_count": 206,
   "metadata": {},
   "outputs": [
    {
     "data": {
      "text/plain": [
       "'26541.545514'"
      ]
     },
     "execution_count": 206,
     "metadata": {},
     "output_type": "execute_result"
    }
   ],
   "source": [
    "a=\"26541.545514\"\n",
    "a"
   ]
  },
  {
   "cell_type": "code",
   "execution_count": 207,
   "metadata": {},
   "outputs": [
    {
     "data": {
      "text/plain": [
       "26541.545514"
      ]
     },
     "execution_count": 207,
     "metadata": {},
     "output_type": "execute_result"
    }
   ],
   "source": [
    "float(a)"
   ]
  },
  {
   "cell_type": "code",
   "execution_count": 208,
   "metadata": {},
   "outputs": [
    {
     "ename": "ValueError",
     "evalue": "invalid literal for int() with base 10: '26541.545514'",
     "output_type": "error",
     "traceback": [
      "\u001b[1;31m---------------------------------------------------------------------------\u001b[0m",
      "\u001b[1;31mValueError\u001b[0m                                Traceback (most recent call last)",
      "\u001b[1;32m<ipython-input-208-8b2ab3991dae>\u001b[0m in \u001b[0;36m<module>\u001b[1;34m\u001b[0m\n\u001b[1;32m----> 1\u001b[1;33m \u001b[0mint\u001b[0m\u001b[1;33m(\u001b[0m\u001b[0ma\u001b[0m\u001b[1;33m)\u001b[0m\u001b[1;33m\u001b[0m\u001b[1;33m\u001b[0m\u001b[0m\n\u001b[0m",
      "\u001b[1;31mValueError\u001b[0m: invalid literal for int() with base 10: '26541.545514'"
     ]
    }
   ],
   "source": [
    "int(a)"
   ]
  },
  {
   "cell_type": "markdown",
   "metadata": {},
   "source": [
    "### Print fonksiyonu ve Formatlama"
   ]
  },
  {
   "cell_type": "code",
   "execution_count": 210,
   "metadata": {},
   "outputs": [
    {
     "name": "stdout",
     "output_type": "stream",
     "text": [
      "35\n"
     ]
    }
   ],
   "source": [
    "print(35)"
   ]
  },
  {
   "cell_type": "code",
   "execution_count": 211,
   "metadata": {},
   "outputs": [
    {
     "name": "stdout",
     "output_type": "stream",
     "text": [
      "3.14\n"
     ]
    }
   ],
   "source": [
    "print(3.14)"
   ]
  },
  {
   "cell_type": "code",
   "execution_count": 212,
   "metadata": {},
   "outputs": [
    {
     "name": "stdout",
     "output_type": "stream",
     "text": [
      "Murat\n"
     ]
    }
   ],
   "source": [
    "print(\"Murat\")"
   ]
  },
  {
   "cell_type": "code",
   "execution_count": 213,
   "metadata": {},
   "outputs": [
    {
     "ename": "NameError",
     "evalue": "name 'Murat' is not defined",
     "output_type": "error",
     "traceback": [
      "\u001b[1;31m---------------------------------------------------------------------------\u001b[0m",
      "\u001b[1;31mNameError\u001b[0m                                 Traceback (most recent call last)",
      "\u001b[1;32m<ipython-input-213-edcb9480e4dc>\u001b[0m in \u001b[0;36m<module>\u001b[1;34m\u001b[0m\n\u001b[1;32m----> 1\u001b[1;33m \u001b[0mprint\u001b[0m\u001b[1;33m(\u001b[0m\u001b[0mMurat\u001b[0m\u001b[1;33m)\u001b[0m\u001b[1;33m\u001b[0m\u001b[1;33m\u001b[0m\u001b[0m\n\u001b[0m",
      "\u001b[1;31mNameError\u001b[0m: name 'Murat' is not defined"
     ]
    }
   ],
   "source": [
    "print(Murat)"
   ]
  },
  {
   "cell_type": "code",
   "execution_count": 214,
   "metadata": {},
   "outputs": [
    {
     "ename": "SyntaxError",
     "evalue": "invalid syntax (<ipython-input-214-99052abf8cf1>, line 1)",
     "output_type": "error",
     "traceback": [
      "\u001b[1;36m  File \u001b[1;32m\"<ipython-input-214-99052abf8cf1>\"\u001b[1;36m, line \u001b[1;32m1\u001b[0m\n\u001b[1;33m    Print \"Murat\"\u001b[0m\n\u001b[1;37m                ^\u001b[0m\n\u001b[1;31mSyntaxError\u001b[0m\u001b[1;31m:\u001b[0m invalid syntax\n"
     ]
    }
   ],
   "source": [
    "Print \"Murat\""
   ]
  },
  {
   "cell_type": "code",
   "execution_count": 216,
   "metadata": {},
   "outputs": [
    {
     "name": "stdout",
     "output_type": "stream",
     "text": [
      "47\n"
     ]
    }
   ],
   "source": [
    "a=15\n",
    "b=32\n",
    "print(a+b)"
   ]
  },
  {
   "cell_type": "code",
   "execution_count": 217,
   "metadata": {},
   "outputs": [
    {
     "name": "stdout",
     "output_type": "stream",
     "text": [
      "Ahmet Kaya'yı sevenler iyidir.\n",
      "\"Ahmet Kaya Severim\" dedi.\n",
      "Sen misin Murat'ı seven\n"
     ]
    }
   ],
   "source": [
    "print(\"Ahmet Kaya'yı sevenler iyidir.\")\n",
    "print('\"Ahmet Kaya Severim\" dedi.')\n",
    "print('Sen misin Murat\\'ı seven')"
   ]
  },
  {
   "cell_type": "code",
   "execution_count": 220,
   "metadata": {},
   "outputs": [
    {
     "name": "stdout",
     "output_type": "stream",
     "text": [
      "Bu nottaki iki değişken değeri  15 ve 32\n"
     ]
    }
   ],
   "source": [
    "print(\"Bu nottaki iki değişken değeri \",a,\"ve\",b )"
   ]
  },
  {
   "cell_type": "markdown",
   "metadata": {},
   "source": [
    "#### \\n satır aşağı işlemi yapar"
   ]
  },
  {
   "cell_type": "code",
   "execution_count": 221,
   "metadata": {},
   "outputs": [
    {
     "name": "stdout",
     "output_type": "stream",
     "text": [
      "-Merhaba\n",
      "-Selam\n",
      "-Nasılsın?\n",
      "-İyiyim\n"
     ]
    }
   ],
   "source": [
    "print(\"-Merhaba\\n-Selam\\n-Nasılsın?\\n-İyiyim\")"
   ]
  },
  {
   "cell_type": "markdown",
   "metadata": {},
   "source": [
    "#### \\t word programında tab tuşuna basmak gibi atlama yapar"
   ]
  },
  {
   "cell_type": "code",
   "execution_count": 222,
   "metadata": {},
   "outputs": [
    {
     "name": "stdout",
     "output_type": "stream",
     "text": [
      "Ocak\tŞubat\tMart\tNisan\n"
     ]
    }
   ],
   "source": [
    "print(\"Ocak\\tŞubat\\tMart\\tNisan\")"
   ]
  },
  {
   "cell_type": "code",
   "execution_count": 223,
   "metadata": {},
   "outputs": [
    {
     "name": "stdout",
     "output_type": "stream",
     "text": [
      "Ocak\t\t\t\tŞubat\t\t\t\tMart\n"
     ]
    }
   ],
   "source": [
    "print(\"Ocak\\t\\t\\t\\tŞubat\\t\\t\\t\\tMart\")"
   ]
  },
  {
   "cell_type": "markdown",
   "metadata": {},
   "source": [
    "### type() fonksiyonu kullanıldığı verinin tipini belirtir."
   ]
  },
  {
   "cell_type": "code",
   "execution_count": 225,
   "metadata": {},
   "outputs": [],
   "source": [
    "a=35\n",
    "b=12.45\n",
    "c=\"Murat\""
   ]
  },
  {
   "cell_type": "code",
   "execution_count": 228,
   "metadata": {},
   "outputs": [
    {
     "data": {
      "text/plain": [
       "int"
      ]
     },
     "execution_count": 228,
     "metadata": {},
     "output_type": "execute_result"
    }
   ],
   "source": [
    "type(a)"
   ]
  },
  {
   "cell_type": "code",
   "execution_count": 229,
   "metadata": {},
   "outputs": [
    {
     "data": {
      "text/plain": [
       "float"
      ]
     },
     "execution_count": 229,
     "metadata": {},
     "output_type": "execute_result"
    }
   ],
   "source": [
    "type(b)"
   ]
  },
  {
   "cell_type": "code",
   "execution_count": 230,
   "metadata": {},
   "outputs": [
    {
     "data": {
      "text/plain": [
       "str"
      ]
     },
     "execution_count": 230,
     "metadata": {},
     "output_type": "execute_result"
    }
   ],
   "source": [
    "type(c)"
   ]
  },
  {
   "cell_type": "code",
   "execution_count": 232,
   "metadata": {},
   "outputs": [
    {
     "name": "stdout",
     "output_type": "stream",
     "text": [
      "<class 'int'>\n"
     ]
    }
   ],
   "source": [
    "print(type(a))"
   ]
  },
  {
   "cell_type": "code",
   "execution_count": 233,
   "metadata": {},
   "outputs": [
    {
     "name": "stdout",
     "output_type": "stream",
     "text": [
      "<class 'str'>\n"
     ]
    }
   ],
   "source": [
    "print(type(c))"
   ]
  },
  {
   "cell_type": "markdown",
   "metadata": {},
   "source": [
    "#### Print Fonksiyonunun sep parametresi, print edilecek değerlerin aralarına ne koyulacağını belirler, kullanılmadığı zaman standart olarak boşluk kullanılır."
   ]
  },
  {
   "cell_type": "code",
   "execution_count": 235,
   "metadata": {},
   "outputs": [
    {
     "name": "stdout",
     "output_type": "stream",
     "text": [
      "35 12.45 Murat\n"
     ]
    }
   ],
   "source": [
    "print(a,b,c)"
   ]
  },
  {
   "cell_type": "code",
   "execution_count": 236,
   "metadata": {},
   "outputs": [
    {
     "name": "stdout",
     "output_type": "stream",
     "text": [
      "35-12.45-Murat\n"
     ]
    }
   ],
   "source": [
    "print(a,b,c,sep=\"-\")"
   ]
  },
  {
   "cell_type": "code",
   "execution_count": 237,
   "metadata": {},
   "outputs": [
    {
     "name": "stdout",
     "output_type": "stream",
     "text": [
      "3512.45Murat\n"
     ]
    }
   ],
   "source": [
    "print(a,b,c,sep=\"\")"
   ]
  },
  {
   "cell_type": "code",
   "execution_count": 240,
   "metadata": {},
   "outputs": [
    {
     "name": "stdout",
     "output_type": "stream",
     "text": [
      "35\n",
      "12.45\n",
      "Murat\n"
     ]
    }
   ],
   "source": [
    "print(a,b,c,sep=\"\\n\")"
   ]
  },
  {
   "cell_type": "code",
   "execution_count": 244,
   "metadata": {},
   "outputs": [
    {
     "name": "stdout",
     "output_type": "stream",
     "text": [
      "35\\n12.45\\nMurat\n"
     ]
    }
   ],
   "source": [
    "print(a,b,c,sep=\"\\\\n\")"
   ]
  },
  {
   "cell_type": "code",
   "execution_count": 245,
   "metadata": {},
   "outputs": [
    {
     "name": "stdout",
     "output_type": "stream",
     "text": [
      "35\t12.45\tMurat\n"
     ]
    }
   ],
   "source": [
    "print(a,b,c,sep=\"\\t\")"
   ]
  },
  {
   "cell_type": "code",
   "execution_count": 246,
   "metadata": {},
   "outputs": [
    {
     "name": "stdout",
     "output_type": "stream",
     "text": [
      "G E L İ B O L U\n"
     ]
    }
   ],
   "source": [
    "print(*\"GELİBOLU\")"
   ]
  },
  {
   "cell_type": "code",
   "execution_count": 248,
   "metadata": {},
   "outputs": [
    {
     "name": "stdout",
     "output_type": "stream",
     "text": [
      "GELİBOLU\n"
     ]
    }
   ],
   "source": [
    "print(\"GELİBOLU\")"
   ]
  },
  {
   "cell_type": "code",
   "execution_count": 249,
   "metadata": {},
   "outputs": [
    {
     "name": "stdout",
     "output_type": "stream",
     "text": [
      "G-E-L-İ-B-O-L-U\n"
     ]
    }
   ],
   "source": [
    "print(*\"GELİBOLU\",sep=\"-\")"
   ]
  },
  {
   "cell_type": "code",
   "execution_count": 267,
   "metadata": {},
   "outputs": [
    {
     "name": "stdout",
     "output_type": "stream",
     "text": [
      "BaaBaaBaaBaaBaaBaaBaaBaaBaaBaaBaaBaaBaaBaaBaaBaaBaaBaaBaaBaaBaaBaaBaaBaaBaaBaaBaaBaaBaaBaaBaaBaaBaaBaaBaaBaaBaaBaaBaaBaaBaaBaaBaaBaaBaaBaaBaaBaaBaaBaaBaaBaaBaaBaaBaaB\n"
     ]
    }
   ],
   "source": [
    "print(*\"BBBBBBBBBBBBBBBBBBBBBBBBBBBBBBBBBBBBBBBBBBBBBBBBBBBBBBBB\",sep=\"aa\")"
   ]
  },
  {
   "cell_type": "markdown",
   "metadata": {},
   "source": [
    "# format() fonksiyonu"
   ]
  },
  {
   "cell_type": "markdown",
   "metadata": {},
   "source": [
    "#### format() fonksiyonu bir çok özelliği olan bir fonksiyon, bunlardan bir tanesi, string içine değer yerleştirme. Bu fonksiyon {} gördüğü yere değer yerleştirme mantığı ile çalışır."
   ]
  },
  {
   "cell_type": "code",
   "execution_count": 273,
   "metadata": {},
   "outputs": [
    {
     "data": {
      "text/plain": [
       "'12 ahmet 56.5          asdasd'"
      ]
     },
     "execution_count": 273,
     "metadata": {},
     "output_type": "execute_result"
    }
   ],
   "source": [
    "\"{} {} {}          {}\".format(12,\"ahmet\",56.5,\"asdasd\")"
   ]
  },
  {
   "cell_type": "code",
   "execution_count": 276,
   "metadata": {},
   "outputs": [
    {
     "name": "stdout",
     "output_type": "stream",
     "text": [
      "İki basamaklı 12 sayısı ile tek basamaklı 6 sayısının toplamı 18 eder.\n"
     ]
    }
   ],
   "source": [
    "a=12\n",
    "b=6\n",
    "print(\"İki basamaklı {} sayısı ile tek basamaklı {} sayısının toplamı {} eder.\".format(a,b,a+b))"
   ]
  },
  {
   "cell_type": "code",
   "execution_count": 277,
   "metadata": {},
   "outputs": [
    {
     "name": "stdout",
     "output_type": "stream",
     "text": [
      "72 sayısı 12 ile 6 sayılarının çarpımıdır.\n"
     ]
    }
   ],
   "source": [
    "#Burada süslü parantez içindeki sayılar format fonksiyonundaki değerlerin hangi sıraya göre yerleşeceğini söyler.\n",
    "print(\"{2} sayısı {0} ile {1} sayılarının çarpımıdır.\".format(a,b,a*b))"
   ]
  },
  {
   "cell_type": "code",
   "execution_count": 278,
   "metadata": {},
   "outputs": [
    {
     "name": "stdout",
     "output_type": "stream",
     "text": [
      "72 sayısı 6 ile 12 sayılarının çarpımıdır.\n"
     ]
    }
   ],
   "source": [
    "print(\"{2} sayısı {1} ile {0} sayılarının çarpımıdır.\".format(a,b,a*b))"
   ]
  },
  {
   "cell_type": "code",
   "execution_count": 279,
   "metadata": {},
   "outputs": [],
   "source": [
    "a=22/7\n",
    "b=10/3"
   ]
  },
  {
   "cell_type": "code",
   "execution_count": 280,
   "metadata": {},
   "outputs": [
    {
     "data": {
      "text/plain": [
       "(3.142857142857143, 3.3333333333333335)"
      ]
     },
     "execution_count": 280,
     "metadata": {},
     "output_type": "execute_result"
    }
   ],
   "source": [
    "a,b"
   ]
  },
  {
   "cell_type": "code",
   "execution_count": 286,
   "metadata": {},
   "outputs": [
    {
     "name": "stdout",
     "output_type": "stream",
     "text": [
      "Pi sayısı 3.33333 gibi devirli bir sayı olmamasına rağmen sonsuzdur, ancak genelde 3.14 olarak alırız.\n",
      "Ondalıklı sayıların yuvarlanmasına örnek 2.16\n"
     ]
    }
   ],
   "source": [
    "#Burada süslü parantez içindeki kullanım; .2f noktadan sonra 2 hane almasını söyler. Ondalık hanesini matematik\n",
    "#kurallarında göre yuvarlama yapar.\n",
    "print(\"Pi sayısı {1:.5f} gibi devirli bir sayı olmamasına rağmen sonsuzdur, ancak genelde {0:.2f} olarak alırız.\".format(a,b))\n",
    "print(\"Ondalıklı sayıların yuvarlanmasına örnek {:.2f}\".format(2.15689546))"
   ]
  },
  {
   "cell_type": "markdown",
   "metadata": {},
   "source": [
    "#### format() fonksiyonunun detaylı kullanımı https://pyformat.info"
   ]
  },
  {
   "cell_type": "code",
   "execution_count": 284,
   "metadata": {},
   "outputs": [
    {
     "name": "stdout",
     "output_type": "stream",
     "text": [
      "Matematikte genelde kullanılan parantezler (),[] ve {} tipleridir..\n"
     ]
    }
   ],
   "source": [
    "print(\"Matematikte genelde kullanılan parantezler (),[] ve {} tipleridir..\")"
   ]
  },
  {
   "cell_type": "markdown",
   "metadata": {},
   "source": [
    "# Listeler"
   ]
  },
  {
   "cell_type": "markdown",
   "metadata": {},
   "source": [
    "Listeler de Stringlere benzerler ancak içlerinde her tipten veri barındırabilirler. Stringler gibi indexlenirler. Stringler değiştirilemez ancak listeler değiştirilebilir."
   ]
  },
  {
   "cell_type": "code",
   "execution_count": 287,
   "metadata": {},
   "outputs": [],
   "source": [
    "liste1=[\"Ahmet\",\"Mehmet\",\"Ayşe\",18,19,17,2.56,85.7,-25.3,-16]"
   ]
  },
  {
   "cell_type": "code",
   "execution_count": 288,
   "metadata": {},
   "outputs": [
    {
     "data": {
      "text/plain": [
       "['Ahmet', 'Mehmet', 'Ayşe', 18, 19, 17, 2.56, 85.7, -25.3, -16]"
      ]
     },
     "execution_count": 288,
     "metadata": {},
     "output_type": "execute_result"
    }
   ],
   "source": [
    "liste1"
   ]
  },
  {
   "cell_type": "code",
   "execution_count": 289,
   "metadata": {},
   "outputs": [
    {
     "data": {
      "text/plain": [
       "list"
      ]
     },
     "execution_count": 289,
     "metadata": {},
     "output_type": "execute_result"
    }
   ],
   "source": [
    "type(liste1)"
   ]
  },
  {
   "cell_type": "code",
   "execution_count": 290,
   "metadata": {},
   "outputs": [
    {
     "data": {
      "text/plain": [
       "10"
      ]
     },
     "execution_count": 290,
     "metadata": {},
     "output_type": "execute_result"
    }
   ],
   "source": [
    "len(liste1)"
   ]
  },
  {
   "cell_type": "code",
   "execution_count": 291,
   "metadata": {},
   "outputs": [],
   "source": [
    "#Boş liste tipi veri oluşturma\n",
    "liste2=[]\n",
    "liste3=list()"
   ]
  },
  {
   "cell_type": "code",
   "execution_count": 292,
   "metadata": {},
   "outputs": [
    {
     "data": {
      "text/plain": [
       "[]"
      ]
     },
     "execution_count": 292,
     "metadata": {},
     "output_type": "execute_result"
    }
   ],
   "source": [
    "liste2"
   ]
  },
  {
   "cell_type": "code",
   "execution_count": 293,
   "metadata": {},
   "outputs": [
    {
     "data": {
      "text/plain": [
       "[]"
      ]
     },
     "execution_count": 293,
     "metadata": {},
     "output_type": "execute_result"
    }
   ],
   "source": [
    "liste3"
   ]
  },
  {
   "cell_type": "code",
   "execution_count": 294,
   "metadata": {},
   "outputs": [
    {
     "data": {
      "text/plain": [
       "list"
      ]
     },
     "execution_count": 294,
     "metadata": {},
     "output_type": "execute_result"
    }
   ],
   "source": [
    "type(liste2)"
   ]
  },
  {
   "cell_type": "code",
   "execution_count": 295,
   "metadata": {},
   "outputs": [
    {
     "data": {
      "text/plain": [
       "list"
      ]
     },
     "execution_count": 295,
     "metadata": {},
     "output_type": "execute_result"
    }
   ],
   "source": [
    "type(liste3)"
   ]
  },
  {
   "cell_type": "code",
   "execution_count": 300,
   "metadata": {},
   "outputs": [],
   "source": [
    "#Stringi listeye çevirebiliriz.\n",
    "liste4=list(\"MERHABA\")"
   ]
  },
  {
   "cell_type": "code",
   "execution_count": 301,
   "metadata": {},
   "outputs": [
    {
     "data": {
      "text/plain": [
       "['M', 'E', 'R', 'H', 'A', 'B', 'A']"
      ]
     },
     "execution_count": 301,
     "metadata": {},
     "output_type": "execute_result"
    }
   ],
   "source": [
    "liste4"
   ]
  },
  {
   "cell_type": "code",
   "execution_count": 302,
   "metadata": {},
   "outputs": [
    {
     "data": {
      "text/plain": [
       "7"
      ]
     },
     "execution_count": 302,
     "metadata": {},
     "output_type": "execute_result"
    }
   ],
   "source": [
    "len(liste4)"
   ]
  },
  {
   "cell_type": "code",
   "execution_count": 306,
   "metadata": {},
   "outputs": [
    {
     "data": {
      "text/plain": [
       "('R', 'B', 'A')"
      ]
     },
     "execution_count": 306,
     "metadata": {},
     "output_type": "execute_result"
    }
   ],
   "source": [
    "#Listedeki elemanlara ulaşma\n",
    "liste4[2],liste4[5],liste4[-1]"
   ]
  },
  {
   "cell_type": "code",
   "execution_count": 308,
   "metadata": {},
   "outputs": [
    {
     "data": {
      "text/plain": [
       "['M', 'E', 'R', 'H']"
      ]
     },
     "execution_count": 308,
     "metadata": {},
     "output_type": "execute_result"
    }
   ],
   "source": [
    "#listeyi parçalama, ilk 4 elemanı alma\n",
    "liste4[:4]"
   ]
  },
  {
   "cell_type": "code",
   "execution_count": 313,
   "metadata": {},
   "outputs": [
    {
     "data": {
      "text/plain": [
       "['M', 'E', 'R', 'H']"
      ]
     },
     "execution_count": 313,
     "metadata": {},
     "output_type": "execute_result"
    }
   ],
   "source": [
    "liste4[:-3]"
   ]
  },
  {
   "cell_type": "code",
   "execution_count": 314,
   "metadata": {},
   "outputs": [
    {
     "data": {
      "text/plain": [
       "['R', 'H', 'A']"
      ]
     },
     "execution_count": 314,
     "metadata": {},
     "output_type": "execute_result"
    }
   ],
   "source": [
    "liste4[2:5]"
   ]
  },
  {
   "cell_type": "code",
   "execution_count": 316,
   "metadata": {},
   "outputs": [
    {
     "data": {
      "text/plain": [
       "['B', 'A']"
      ]
     },
     "execution_count": 316,
     "metadata": {},
     "output_type": "execute_result"
    }
   ],
   "source": [
    "#sağdan sola parçalama\n",
    "liste4[-2:]"
   ]
  },
  {
   "cell_type": "code",
   "execution_count": 317,
   "metadata": {},
   "outputs": [
    {
     "data": {
      "text/plain": [
       "[1, 3, 5, 7, 9]"
      ]
     },
     "execution_count": 317,
     "metadata": {},
     "output_type": "execute_result"
    }
   ],
   "source": [
    "liste5=[1,2,3,4,5,6,7,8,9]\n",
    "#baştan başlayıp birer atlayarak parçalama\n",
    "liste5[::2]"
   ]
  },
  {
   "cell_type": "code",
   "execution_count": 318,
   "metadata": {},
   "outputs": [
    {
     "data": {
      "text/plain": [
       "[1, 2, 3, 4, 5, 6]"
      ]
     },
     "execution_count": 318,
     "metadata": {},
     "output_type": "execute_result"
    }
   ],
   "source": [
    "liste6=[1,2,3]\n",
    "liste7=[4,5,6]\n",
    "liste6+liste7"
   ]
  },
  {
   "cell_type": "code",
   "execution_count": 319,
   "metadata": {},
   "outputs": [],
   "source": [
    "liste7=[3,4,5,6]"
   ]
  },
  {
   "cell_type": "code",
   "execution_count": 320,
   "metadata": {},
   "outputs": [
    {
     "data": {
      "text/plain": [
       "[1, 2, 3, 3, 4, 5, 6]"
      ]
     },
     "execution_count": 320,
     "metadata": {},
     "output_type": "execute_result"
    }
   ],
   "source": [
    "liste6+liste7"
   ]
  },
  {
   "cell_type": "code",
   "execution_count": 321,
   "metadata": {},
   "outputs": [
    {
     "data": {
      "text/plain": [
       "[1, 2, 3, 3, 4, 5, 6]"
      ]
     },
     "execution_count": 321,
     "metadata": {},
     "output_type": "execute_result"
    }
   ],
   "source": [
    "liste8=liste6+liste7\n",
    "liste8"
   ]
  },
  {
   "cell_type": "code",
   "execution_count": 322,
   "metadata": {},
   "outputs": [
    {
     "data": {
      "text/plain": [
       "[1, 2, 3, 1, 2, 3, 1, 2, 3]"
      ]
     },
     "execution_count": 322,
     "metadata": {},
     "output_type": "execute_result"
    }
   ],
   "source": [
    "liste6*3"
   ]
  },
  {
   "cell_type": "code",
   "execution_count": 323,
   "metadata": {},
   "outputs": [
    {
     "data": {
      "text/plain": [
       "[1, 2, 3]"
      ]
     },
     "execution_count": 323,
     "metadata": {},
     "output_type": "execute_result"
    }
   ],
   "source": [
    "liste6"
   ]
  },
  {
   "cell_type": "code",
   "execution_count": 324,
   "metadata": {},
   "outputs": [],
   "source": [
    "liste6*=3"
   ]
  },
  {
   "cell_type": "code",
   "execution_count": 325,
   "metadata": {},
   "outputs": [
    {
     "data": {
      "text/plain": [
       "[1, 2, 3, 1, 2, 3, 1, 2, 3]"
      ]
     },
     "execution_count": 325,
     "metadata": {},
     "output_type": "execute_result"
    }
   ],
   "source": [
    "liste6"
   ]
  },
  {
   "cell_type": "code",
   "execution_count": 327,
   "metadata": {},
   "outputs": [],
   "source": [
    "liste9=[1,2,3,4,5,6,7,8]"
   ]
  },
  {
   "cell_type": "code",
   "execution_count": 328,
   "metadata": {},
   "outputs": [],
   "source": [
    "liste9[0]=9"
   ]
  },
  {
   "cell_type": "code",
   "execution_count": 329,
   "metadata": {},
   "outputs": [
    {
     "data": {
      "text/plain": [
       "[9, 2, 3, 4, 5, 6, 7, 8]"
      ]
     },
     "execution_count": 329,
     "metadata": {},
     "output_type": "execute_result"
    }
   ],
   "source": [
    "liste9"
   ]
  },
  {
   "cell_type": "code",
   "execution_count": 332,
   "metadata": {},
   "outputs": [
    {
     "data": {
      "text/plain": [
       "[9, 1, 3, 4, 5, 6, 7, 8]"
      ]
     },
     "execution_count": 332,
     "metadata": {},
     "output_type": "execute_result"
    }
   ],
   "source": [
    "liste9[1]=1\n",
    "liste9"
   ]
  },
  {
   "cell_type": "code",
   "execution_count": 333,
   "metadata": {},
   "outputs": [
    {
     "data": {
      "text/plain": [
       "[9, 1]"
      ]
     },
     "execution_count": 333,
     "metadata": {},
     "output_type": "execute_result"
    }
   ],
   "source": [
    "liste9[:2]"
   ]
  },
  {
   "cell_type": "code",
   "execution_count": 334,
   "metadata": {},
   "outputs": [],
   "source": [
    "liste9[:2]=[0,1,2]"
   ]
  },
  {
   "cell_type": "code",
   "execution_count": 335,
   "metadata": {},
   "outputs": [
    {
     "data": {
      "text/plain": [
       "[0, 1, 2, 3, 4, 5, 6, 7, 8]"
      ]
     },
     "execution_count": 335,
     "metadata": {},
     "output_type": "execute_result"
    }
   ],
   "source": [
    "liste9"
   ]
  },
  {
   "cell_type": "markdown",
   "metadata": {},
   "source": [
    "### append metodu listeye istediğimiz veriyi ekler"
   ]
  },
  {
   "cell_type": "code",
   "execution_count": 336,
   "metadata": {},
   "outputs": [
    {
     "data": {
      "text/plain": [
       "[0, 1, 2, 3, 4, 5, 6, 7, 8]"
      ]
     },
     "execution_count": 336,
     "metadata": {},
     "output_type": "execute_result"
    }
   ],
   "source": [
    "liste9"
   ]
  },
  {
   "cell_type": "code",
   "execution_count": 337,
   "metadata": {},
   "outputs": [],
   "source": [
    "liste9.append(9)"
   ]
  },
  {
   "cell_type": "code",
   "execution_count": 338,
   "metadata": {},
   "outputs": [
    {
     "data": {
      "text/plain": [
       "[0, 1, 2, 3, 4, 5, 6, 7, 8, 9]"
      ]
     },
     "execution_count": 338,
     "metadata": {},
     "output_type": "execute_result"
    }
   ],
   "source": [
    "liste9"
   ]
  },
  {
   "cell_type": "code",
   "execution_count": 361,
   "metadata": {},
   "outputs": [
    {
     "ename": "TypeError",
     "evalue": "append() takes exactly one argument (3 given)",
     "output_type": "error",
     "traceback": [
      "\u001b[1;31m---------------------------------------------------------------------------\u001b[0m",
      "\u001b[1;31mTypeError\u001b[0m                                 Traceback (most recent call last)",
      "\u001b[1;32m<ipython-input-361-363efebb197e>\u001b[0m in \u001b[0;36m<module>\u001b[1;34m\u001b[0m\n\u001b[0;32m      1\u001b[0m \u001b[1;31m#.append ile sadece 1 veri eklenebilir.\u001b[0m\u001b[1;33m\u001b[0m\u001b[1;33m\u001b[0m\u001b[1;33m\u001b[0m\u001b[0m\n\u001b[1;32m----> 2\u001b[1;33m \u001b[0mliste9\u001b[0m\u001b[1;33m.\u001b[0m\u001b[0mappend\u001b[0m\u001b[1;33m(\u001b[0m\u001b[1;36m10\u001b[0m\u001b[1;33m,\u001b[0m\u001b[1;36m11\u001b[0m\u001b[1;33m,\u001b[0m\u001b[1;36m12\u001b[0m\u001b[1;33m)\u001b[0m\u001b[1;33m\u001b[0m\u001b[1;33m\u001b[0m\u001b[0m\n\u001b[0m",
      "\u001b[1;31mTypeError\u001b[0m: append() takes exactly one argument (3 given)"
     ]
    }
   ],
   "source": [
    "#.append ile sadece 1 veri eklenebilir.\n",
    "liste9.append(10,11,12)"
   ]
  },
  {
   "cell_type": "markdown",
   "metadata": {},
   "source": [
    "### pop ile listenin sonundaki elemanı çıkarırız."
   ]
  },
  {
   "cell_type": "code",
   "execution_count": 339,
   "metadata": {},
   "outputs": [
    {
     "data": {
      "text/plain": [
       "9"
      ]
     },
     "execution_count": 339,
     "metadata": {},
     "output_type": "execute_result"
    }
   ],
   "source": [
    "liste9.pop()"
   ]
  },
  {
   "cell_type": "code",
   "execution_count": 340,
   "metadata": {},
   "outputs": [
    {
     "data": {
      "text/plain": [
       "[0, 1, 2, 3, 4, 5, 6, 7, 8]"
      ]
     },
     "execution_count": 340,
     "metadata": {},
     "output_type": "execute_result"
    }
   ],
   "source": [
    "liste9"
   ]
  },
  {
   "cell_type": "markdown",
   "metadata": {},
   "source": [
    "### pop ile çıkarmak istediğimiz veri indexini belirterek o elemanı çıkarabiiriz."
   ]
  },
  {
   "cell_type": "code",
   "execution_count": 341,
   "metadata": {},
   "outputs": [
    {
     "data": {
      "text/plain": [
       "4"
      ]
     },
     "execution_count": 341,
     "metadata": {},
     "output_type": "execute_result"
    }
   ],
   "source": [
    "liste9.pop(4)"
   ]
  },
  {
   "cell_type": "code",
   "execution_count": 362,
   "metadata": {},
   "outputs": [
    {
     "data": {
      "text/plain": [
       "[0, 1, 2, 3, 5, 6, 7, 8]"
      ]
     },
     "execution_count": 362,
     "metadata": {},
     "output_type": "execute_result"
    }
   ],
   "source": [
    "liste9"
   ]
  },
  {
   "cell_type": "markdown",
   "metadata": {},
   "source": [
    "### sort metodu ile listedeki elemanları sıralayabiliriz."
   ]
  },
  {
   "cell_type": "code",
   "execution_count": 345,
   "metadata": {},
   "outputs": [
    {
     "data": {
      "text/plain": [
       "[3, 2, 5, 9, 1, 8, 7, 4, 6]"
      ]
     },
     "execution_count": 345,
     "metadata": {},
     "output_type": "execute_result"
    }
   ],
   "source": [
    "liste10=[3,2,5,9,1,8,7,4,6]\n",
    "liste10"
   ]
  },
  {
   "cell_type": "code",
   "execution_count": 349,
   "metadata": {},
   "outputs": [
    {
     "data": {
      "text/plain": [
       "[1, 2, 3, 4, 5, 6, 7, 8, 9]"
      ]
     },
     "execution_count": 349,
     "metadata": {},
     "output_type": "execute_result"
    }
   ],
   "source": [
    "liste10.sort()\n",
    "liste10\n",
    "#küçükten büyüğe"
   ]
  },
  {
   "cell_type": "code",
   "execution_count": 350,
   "metadata": {},
   "outputs": [
    {
     "data": {
      "text/plain": [
       "[9, 8, 7, 6, 5, 4, 3, 2, 1]"
      ]
     },
     "execution_count": 350,
     "metadata": {},
     "output_type": "execute_result"
    }
   ],
   "source": [
    "liste10.sort(reverse=True)\n",
    "liste10\n",
    "#büyükten küçüğe sıralama"
   ]
  },
  {
   "cell_type": "code",
   "execution_count": 351,
   "metadata": {},
   "outputs": [
    {
     "data": {
      "text/plain": [
       "['cemil', 'mehmet', 'muhammet', 'mahmut', 'ali', 'cüneyt']"
      ]
     },
     "execution_count": 351,
     "metadata": {},
     "output_type": "execute_result"
    }
   ],
   "source": [
    "liste11=[\"cemil\",\"mehmet\",\"muhammet\",\"mahmut\",\"ali\",\"cüneyt\"]\n",
    "liste11"
   ]
  },
  {
   "cell_type": "code",
   "execution_count": 352,
   "metadata": {},
   "outputs": [],
   "source": [
    "liste11.sort()"
   ]
  },
  {
   "cell_type": "code",
   "execution_count": 353,
   "metadata": {},
   "outputs": [
    {
     "data": {
      "text/plain": [
       "['ali', 'cemil', 'cüneyt', 'mahmut', 'mehmet', 'muhammet']"
      ]
     },
     "execution_count": 353,
     "metadata": {},
     "output_type": "execute_result"
    }
   ],
   "source": [
    "liste11"
   ]
  },
  {
   "cell_type": "markdown",
   "metadata": {},
   "source": [
    "### Liste içinde liste oluşturma işlemleri"
   ]
  },
  {
   "cell_type": "code",
   "execution_count": 354,
   "metadata": {},
   "outputs": [],
   "source": [
    "liste1=[[1,2,3],[\"ahmet\",\"ali\",\"murat\"],[85,46]]"
   ]
  },
  {
   "cell_type": "code",
   "execution_count": 355,
   "metadata": {},
   "outputs": [
    {
     "data": {
      "text/plain": [
       "[[1, 2, 3], ['ahmet', 'ali', 'murat'], [85, 46]]"
      ]
     },
     "execution_count": 355,
     "metadata": {},
     "output_type": "execute_result"
    }
   ],
   "source": [
    "liste1"
   ]
  },
  {
   "cell_type": "code",
   "execution_count": 356,
   "metadata": {},
   "outputs": [
    {
     "data": {
      "text/plain": [
       "[85, 46]"
      ]
     },
     "execution_count": 356,
     "metadata": {},
     "output_type": "execute_result"
    }
   ],
   "source": [
    "#liste elemanlarına erişim\n",
    "liste1[2]"
   ]
  },
  {
   "cell_type": "code",
   "execution_count": 357,
   "metadata": {},
   "outputs": [
    {
     "data": {
      "text/plain": [
       "'ahmet'"
      ]
     },
     "execution_count": 357,
     "metadata": {},
     "output_type": "execute_result"
    }
   ],
   "source": [
    "liste1[1][0]"
   ]
  },
  {
   "cell_type": "markdown",
   "metadata": {},
   "source": [
    "# Demetler (tuple)"
   ]
  },
  {
   "cell_type": "markdown",
   "metadata": {},
   "source": [
    "### Listelere benzerler ancak listeler gibi değiştirilemezler."
   ]
  },
  {
   "cell_type": "code",
   "execution_count": 365,
   "metadata": {},
   "outputs": [],
   "source": [
    "demet=(1,2,3,4,5,6,7,8,9)"
   ]
  },
  {
   "cell_type": "code",
   "execution_count": 366,
   "metadata": {},
   "outputs": [
    {
     "data": {
      "text/plain": [
       "(1, 2, 3, 4, 5, 6, 7, 8, 9)"
      ]
     },
     "execution_count": 366,
     "metadata": {},
     "output_type": "execute_result"
    }
   ],
   "source": [
    "demet"
   ]
  },
  {
   "cell_type": "code",
   "execution_count": 367,
   "metadata": {},
   "outputs": [
    {
     "data": {
      "text/plain": [
       "tuple"
      ]
     },
     "execution_count": 367,
     "metadata": {},
     "output_type": "execute_result"
    }
   ],
   "source": [
    "type(demet)"
   ]
  },
  {
   "cell_type": "code",
   "execution_count": 375,
   "metadata": {},
   "outputs": [
    {
     "data": {
      "text/plain": [
       "1"
      ]
     },
     "execution_count": 375,
     "metadata": {},
     "output_type": "execute_result"
    }
   ],
   "source": [
    "#indexe ulaşma\n",
    "demet[0]"
   ]
  },
  {
   "cell_type": "code",
   "execution_count": 376,
   "metadata": {},
   "outputs": [
    {
     "data": {
      "text/plain": [
       "5"
      ]
     },
     "execution_count": 376,
     "metadata": {},
     "output_type": "execute_result"
    }
   ],
   "source": [
    "demet[4]"
   ]
  },
  {
   "cell_type": "code",
   "execution_count": 377,
   "metadata": {},
   "outputs": [
    {
     "data": {
      "text/plain": [
       "(1, 2, 3, 4)"
      ]
     },
     "execution_count": 377,
     "metadata": {},
     "output_type": "execute_result"
    }
   ],
   "source": [
    "demet[:4]"
   ]
  },
  {
   "cell_type": "code",
   "execution_count": 378,
   "metadata": {},
   "outputs": [
    {
     "data": {
      "text/plain": [
       "8"
      ]
     },
     "execution_count": 378,
     "metadata": {},
     "output_type": "execute_result"
    }
   ],
   "source": [
    "demet[-2]"
   ]
  },
  {
   "cell_type": "code",
   "execution_count": 370,
   "metadata": {},
   "outputs": [],
   "source": [
    "#tek elemanlı demet tanımlama\n",
    "demet0=(1,)"
   ]
  },
  {
   "cell_type": "code",
   "execution_count": 371,
   "metadata": {},
   "outputs": [
    {
     "data": {
      "text/plain": [
       "tuple"
      ]
     },
     "execution_count": 371,
     "metadata": {},
     "output_type": "execute_result"
    }
   ],
   "source": [
    "type(demet0)"
   ]
  },
  {
   "cell_type": "code",
   "execution_count": 372,
   "metadata": {},
   "outputs": [
    {
     "data": {
      "text/plain": [
       "(1,)"
      ]
     },
     "execution_count": 372,
     "metadata": {},
     "output_type": "execute_result"
    }
   ],
   "source": [
    "demet0"
   ]
  },
  {
   "cell_type": "code",
   "execution_count": 373,
   "metadata": {},
   "outputs": [
    {
     "data": {
      "text/plain": [
       "(1, 2, 3, 4, 5, 6, 7, 8, 9)"
      ]
     },
     "execution_count": 373,
     "metadata": {},
     "output_type": "execute_result"
    }
   ],
   "source": [
    "demet"
   ]
  },
  {
   "cell_type": "markdown",
   "metadata": {},
   "source": [
    "### .index özelliği"
   ]
  },
  {
   "cell_type": "code",
   "execution_count": 82,
   "metadata": {},
   "outputs": [
    {
     "data": {
      "text/plain": [
       "(1, 2, 'ahmet', 'ali', 'fatma', 5, 8)"
      ]
     },
     "execution_count": 82,
     "metadata": {},
     "output_type": "execute_result"
    }
   ],
   "source": [
    "#elemandan indexe ulaşma\n",
    "demet1=(1,2,\"ahmet\",\"ali\",\"fatma\",5,8)\n",
    "demet1"
   ]
  },
  {
   "cell_type": "code",
   "execution_count": 83,
   "metadata": {},
   "outputs": [
    {
     "ename": "AttributeError",
     "evalue": "'tuple' object has no attribute 'pop'",
     "output_type": "error",
     "traceback": [
      "\u001b[1;31m---------------------------------------------------------------------------\u001b[0m",
      "\u001b[1;31mAttributeError\u001b[0m                            Traceback (most recent call last)",
      "\u001b[1;32m<ipython-input-83-56cd22be6858>\u001b[0m in \u001b[0;36m<module>\u001b[1;34m\u001b[0m\n\u001b[1;32m----> 1\u001b[1;33m \u001b[0mdemet1\u001b[0m\u001b[1;33m.\u001b[0m\u001b[0mpop\u001b[0m\u001b[1;33m(\u001b[0m\u001b[1;36m1\u001b[0m\u001b[1;33m)\u001b[0m\u001b[1;33m\u001b[0m\u001b[1;33m\u001b[0m\u001b[0m\n\u001b[0m",
      "\u001b[1;31mAttributeError\u001b[0m: 'tuple' object has no attribute 'pop'"
     ]
    }
   ],
   "source": [
    "demet1.pop(1)"
   ]
  },
  {
   "cell_type": "code",
   "execution_count": 380,
   "metadata": {},
   "outputs": [
    {
     "data": {
      "text/plain": [
       "3"
      ]
     },
     "execution_count": 380,
     "metadata": {},
     "output_type": "execute_result"
    }
   ],
   "source": [
    "demet1.index(\"ali\")"
   ]
  },
  {
   "cell_type": "code",
   "execution_count": 381,
   "metadata": {},
   "outputs": [
    {
     "data": {
      "text/plain": [
       "5"
      ]
     },
     "execution_count": 381,
     "metadata": {},
     "output_type": "execute_result"
    }
   ],
   "source": [
    "demet1.index(5)"
   ]
  },
  {
   "cell_type": "code",
   "execution_count": 383,
   "metadata": {},
   "outputs": [
    {
     "data": {
      "text/plain": [
       "6"
      ]
     },
     "execution_count": 383,
     "metadata": {},
     "output_type": "execute_result"
    }
   ],
   "source": [
    "demet1.index(8)"
   ]
  },
  {
   "cell_type": "markdown",
   "metadata": {},
   "source": [
    "### .count özelliği"
   ]
  },
  {
   "cell_type": "code",
   "execution_count": 384,
   "metadata": {},
   "outputs": [
    {
     "data": {
      "text/plain": [
       "(1, 2, 0, 2, 5, 3, 2, 6, 2, 7, 8, 4, 2, 6)"
      ]
     },
     "execution_count": 384,
     "metadata": {},
     "output_type": "execute_result"
    }
   ],
   "source": [
    "#bir demette bir elemanın kaç tane olduğunu sayar\n",
    "demet2=(1,2,0,2,5,3,2,6,2,7,8,4,2,6)\n",
    "demet2"
   ]
  },
  {
   "cell_type": "code",
   "execution_count": 386,
   "metadata": {},
   "outputs": [
    {
     "data": {
      "text/plain": [
       "5"
      ]
     },
     "execution_count": 386,
     "metadata": {},
     "output_type": "execute_result"
    }
   ],
   "source": [
    "#2 elemanının kaç tane olduğuna bakalım\n",
    "demet2.count(2)"
   ]
  },
  {
   "cell_type": "code",
   "execution_count": 387,
   "metadata": {},
   "outputs": [
    {
     "data": {
      "text/plain": [
       "[1, 2, 2, 3, 1, 2, 2, 5, 6]"
      ]
     },
     "execution_count": 387,
     "metadata": {},
     "output_type": "execute_result"
    }
   ],
   "source": [
    "liste15=[1,2,2,3,1,2,2,5,6]\n",
    "liste15"
   ]
  },
  {
   "cell_type": "code",
   "execution_count": 390,
   "metadata": {},
   "outputs": [
    {
     "data": {
      "text/plain": [
       "1"
      ]
     },
     "execution_count": 390,
     "metadata": {},
     "output_type": "execute_result"
    }
   ],
   "source": [
    "#.index ve .count özellikleri listeler için de kullanılabilir mi?\n",
    "liste15.index(2)"
   ]
  },
  {
   "cell_type": "code",
   "execution_count": 392,
   "metadata": {},
   "outputs": [
    {
     "data": {
      "text/plain": [
       "0"
      ]
     },
     "execution_count": 392,
     "metadata": {},
     "output_type": "execute_result"
    }
   ],
   "source": [
    "liste15.index(1)"
   ]
  },
  {
   "cell_type": "code",
   "execution_count": 393,
   "metadata": {},
   "outputs": [
    {
     "data": {
      "text/plain": [
       "4"
      ]
     },
     "execution_count": 393,
     "metadata": {},
     "output_type": "execute_result"
    }
   ],
   "source": [
    "liste15.count(2)"
   ]
  },
  {
   "cell_type": "markdown",
   "metadata": {},
   "source": [
    "# Sözlükler (dictionaries)"
   ]
  },
  {
   "cell_type": "markdown",
   "metadata": {},
   "source": [
    "### Bir anahtara karşılık gelen değerleri vardır. Key-value"
   ]
  },
  {
   "cell_type": "code",
   "execution_count": 394,
   "metadata": {},
   "outputs": [],
   "source": [
    "sözlük0={\"bir\":1,\"iki\":2,\"üç\":3,\"dört\":4,\"beş\":5}"
   ]
  },
  {
   "cell_type": "code",
   "execution_count": 395,
   "metadata": {},
   "outputs": [
    {
     "data": {
      "text/plain": [
       "{'bir': 1, 'iki': 2, 'üç': 3, 'dört': 4, 'beş': 5}"
      ]
     },
     "execution_count": 395,
     "metadata": {},
     "output_type": "execute_result"
    }
   ],
   "source": [
    "sözlük0"
   ]
  },
  {
   "cell_type": "code",
   "execution_count": 396,
   "metadata": {},
   "outputs": [
    {
     "data": {
      "text/plain": [
       "dict"
      ]
     },
     "execution_count": 396,
     "metadata": {},
     "output_type": "execute_result"
    }
   ],
   "source": [
    "type(sözlük0)"
   ]
  },
  {
   "cell_type": "code",
   "execution_count": 400,
   "metadata": {},
   "outputs": [],
   "source": [
    "#Boş sözlük oluşturma\n",
    "boşsozluk1={}\n",
    "boşsozluk2=dict()"
   ]
  },
  {
   "cell_type": "code",
   "execution_count": 398,
   "metadata": {},
   "outputs": [
    {
     "data": {
      "text/plain": [
       "{}"
      ]
     },
     "execution_count": 398,
     "metadata": {},
     "output_type": "execute_result"
    }
   ],
   "source": [
    "boşsozluk1"
   ]
  },
  {
   "cell_type": "code",
   "execution_count": 401,
   "metadata": {},
   "outputs": [
    {
     "data": {
      "text/plain": [
       "{}"
      ]
     },
     "execution_count": 401,
     "metadata": {},
     "output_type": "execute_result"
    }
   ],
   "source": [
    "boşsozluk2"
   ]
  },
  {
   "cell_type": "code",
   "execution_count": 402,
   "metadata": {},
   "outputs": [],
   "source": [
    "#bir sözlükteki anahtarın değerini öğrenme"
   ]
  },
  {
   "cell_type": "code",
   "execution_count": 404,
   "metadata": {},
   "outputs": [
    {
     "data": {
      "text/plain": [
       "2"
      ]
     },
     "execution_count": 404,
     "metadata": {},
     "output_type": "execute_result"
    }
   ],
   "source": [
    "sözlük0[\"iki\"]"
   ]
  },
  {
   "cell_type": "code",
   "execution_count": 405,
   "metadata": {},
   "outputs": [
    {
     "data": {
      "text/plain": [
       "5"
      ]
     },
     "execution_count": 405,
     "metadata": {},
     "output_type": "execute_result"
    }
   ],
   "source": [
    "sözlük0[\"beş\"]"
   ]
  },
  {
   "cell_type": "code",
   "execution_count": 406,
   "metadata": {},
   "outputs": [],
   "source": [
    "#sözlüğe anahtar ve değer ekleme\n",
    "sözlük0[\"altı\"]=6"
   ]
  },
  {
   "cell_type": "code",
   "execution_count": 407,
   "metadata": {},
   "outputs": [
    {
     "data": {
      "text/plain": [
       "{'bir': 1, 'iki': 2, 'üç': 3, 'dört': 4, 'beş': 5, 'altı': 6}"
      ]
     },
     "execution_count": 407,
     "metadata": {},
     "output_type": "execute_result"
    }
   ],
   "source": [
    "sözlük0"
   ]
  },
  {
   "cell_type": "markdown",
   "metadata": {},
   "source": [
    "#### sözüklerde indexleme yoktur. sıralamanın önemi yoktur "
   ]
  },
  {
   "cell_type": "code",
   "execution_count": 413,
   "metadata": {},
   "outputs": [],
   "source": [
    "#sözlük içinde liste, int, float, str olabilir.\n",
    "sözlük01={\"bir\":[1,2,3],\"iki\":12,\"üç\":[[4,5],[6,7,8],[9,10,0]],6:\"altı\"}"
   ]
  },
  {
   "cell_type": "code",
   "execution_count": 414,
   "metadata": {},
   "outputs": [
    {
     "data": {
      "text/plain": [
       "{'bir': [1, 2, 3], 'iki': 12, 'üç': [[4, 5], [6, 7, 8], [9, 10, 0]], 6: 'altı'}"
      ]
     },
     "execution_count": 414,
     "metadata": {},
     "output_type": "execute_result"
    }
   ],
   "source": [
    "sözlük01"
   ]
  },
  {
   "cell_type": "code",
   "execution_count": 410,
   "metadata": {},
   "outputs": [
    {
     "data": {
      "text/plain": [
       "[1, 2, 3]"
      ]
     },
     "execution_count": 410,
     "metadata": {},
     "output_type": "execute_result"
    }
   ],
   "source": [
    "sözlük01[\"bir\"]"
   ]
  },
  {
   "cell_type": "code",
   "execution_count": 415,
   "metadata": {},
   "outputs": [
    {
     "data": {
      "text/plain": [
       "[6, 7, 8]"
      ]
     },
     "execution_count": 415,
     "metadata": {},
     "output_type": "execute_result"
    }
   ],
   "source": [
    "#\"bir\" anahtarına karşılık değer bir listedir, bu listeden bir eleman çağırabiliriz, ya da bir eleman içinden bir eleman...\n",
    "sözlük01[\"üç\"][1]"
   ]
  },
  {
   "cell_type": "code",
   "execution_count": 374,
   "metadata": {},
   "outputs": [
    {
     "data": {
      "text/plain": [
       "5"
      ]
     },
     "execution_count": 374,
     "metadata": {},
     "output_type": "execute_result"
    }
   ],
   "source": [
    "demet[4]"
   ]
  },
  {
   "cell_type": "code",
   "execution_count": 416,
   "metadata": {},
   "outputs": [
    {
     "data": {
      "text/plain": [
       "9"
      ]
     },
     "execution_count": 416,
     "metadata": {},
     "output_type": "execute_result"
    }
   ],
   "source": [
    "sözlük01[\"üç\"][2][0]"
   ]
  },
  {
   "cell_type": "markdown",
   "metadata": {},
   "source": [
    "#### herhangi bir anahtarın değerini değiştirme"
   ]
  },
  {
   "cell_type": "code",
   "execution_count": 422,
   "metadata": {},
   "outputs": [
    {
     "data": {
      "text/plain": [
       "{'bir': [1, 2, 3], 'iki': 12, 'üç': [[4, 5], [6, 7, 8], [9, 10, 0]], 6: 'altı'}"
      ]
     },
     "execution_count": 422,
     "metadata": {},
     "output_type": "execute_result"
    }
   ],
   "source": [
    "sözlük01"
   ]
  },
  {
   "cell_type": "code",
   "execution_count": 423,
   "metadata": {},
   "outputs": [],
   "source": [
    "sözlük01[\"iki\"]=2"
   ]
  },
  {
   "cell_type": "code",
   "execution_count": 424,
   "metadata": {},
   "outputs": [
    {
     "data": {
      "text/plain": [
       "{'bir': [1, 2, 3], 'iki': 2, 'üç': [[4, 5], [6, 7, 8], [9, 10, 0]], 6: 'altı'}"
      ]
     },
     "execution_count": 424,
     "metadata": {},
     "output_type": "execute_result"
    }
   ],
   "source": [
    "sözlük01"
   ]
  },
  {
   "cell_type": "code",
   "execution_count": 425,
   "metadata": {},
   "outputs": [],
   "source": [
    "sözlük01[\"bir\"][0]=5"
   ]
  },
  {
   "cell_type": "code",
   "execution_count": 426,
   "metadata": {},
   "outputs": [
    {
     "data": {
      "text/plain": [
       "{'bir': [5, 2, 3], 'iki': 2, 'üç': [[4, 5], [6, 7, 8], [9, 10, 0]], 6: 'altı'}"
      ]
     },
     "execution_count": 426,
     "metadata": {},
     "output_type": "execute_result"
    }
   ],
   "source": [
    "sözlük01"
   ]
  },
  {
   "cell_type": "code",
   "execution_count": 427,
   "metadata": {},
   "outputs": [],
   "source": [
    "sözlük01[\"iki\"]+=1"
   ]
  },
  {
   "cell_type": "code",
   "execution_count": 428,
   "metadata": {},
   "outputs": [
    {
     "data": {
      "text/plain": [
       "{'bir': [5, 2, 3], 'iki': 3, 'üç': [[4, 5], [6, 7, 8], [9, 10, 0]], 6: 'altı'}"
      ]
     },
     "execution_count": 428,
     "metadata": {},
     "output_type": "execute_result"
    }
   ],
   "source": [
    "sözlük01"
   ]
  },
  {
   "cell_type": "code",
   "execution_count": 429,
   "metadata": {},
   "outputs": [
    {
     "ename": "TypeError",
     "evalue": "'int' object is not iterable",
     "output_type": "error",
     "traceback": [
      "\u001b[1;31m---------------------------------------------------------------------------\u001b[0m",
      "\u001b[1;31mTypeError\u001b[0m                                 Traceback (most recent call last)",
      "\u001b[1;32m<ipython-input-429-b6fc8373b4b7>\u001b[0m in \u001b[0;36m<module>\u001b[1;34m\u001b[0m\n\u001b[1;32m----> 1\u001b[1;33m \u001b[0msözlük01\u001b[0m\u001b[1;33m[\u001b[0m\u001b[1;34m\"üç\"\u001b[0m\u001b[1;33m]\u001b[0m\u001b[1;33m+=\u001b[0m\u001b[1;36m1\u001b[0m\u001b[1;33m\u001b[0m\u001b[1;33m\u001b[0m\u001b[0m\n\u001b[0m",
      "\u001b[1;31mTypeError\u001b[0m: 'int' object is not iterable"
     ]
    }
   ],
   "source": [
    "sözlük01[\"üç\"]+=1"
   ]
  },
  {
   "cell_type": "code",
   "execution_count": 430,
   "metadata": {},
   "outputs": [],
   "source": [
    "sözlük01[\"üç\"][0][0]+=1"
   ]
  },
  {
   "cell_type": "code",
   "execution_count": 431,
   "metadata": {},
   "outputs": [
    {
     "data": {
      "text/plain": [
       "{'bir': [5, 2, 3], 'iki': 3, 'üç': [[5, 5], [6, 7, 8], [9, 10, 0]], 6: 'altı'}"
      ]
     },
     "execution_count": 431,
     "metadata": {},
     "output_type": "execute_result"
    }
   ],
   "source": [
    "sözlük01"
   ]
  },
  {
   "cell_type": "markdown",
   "metadata": {},
   "source": [
    "#### üç keyine karşılık gelen değer, yine 3 elemanlı bir listedir ve her bir eleman da birer listedir. Bu Key değerinin 0 indexindeki listede kaç adet 5 değeri bulunduğunu saydırmayı deneyelim"
   ]
  },
  {
   "cell_type": "code",
   "execution_count": 433,
   "metadata": {},
   "outputs": [
    {
     "data": {
      "text/plain": [
       "2"
      ]
     },
     "execution_count": 433,
     "metadata": {},
     "output_type": "execute_result"
    }
   ],
   "source": [
    "sözlük01[\"üç\"][0].count(5)"
   ]
  },
  {
   "cell_type": "code",
   "execution_count": 435,
   "metadata": {},
   "outputs": [
    {
     "data": {
      "text/plain": [
       "1"
      ]
     },
     "execution_count": 435,
     "metadata": {},
     "output_type": "execute_result"
    }
   ],
   "source": [
    "sözlük01[\"bir\"].count(5)"
   ]
  },
  {
   "cell_type": "code",
   "execution_count": 436,
   "metadata": {},
   "outputs": [],
   "source": [
    "sözlük01[\"bir\"].append(4)"
   ]
  },
  {
   "cell_type": "code",
   "execution_count": 437,
   "metadata": {},
   "outputs": [
    {
     "data": {
      "text/plain": [
       "{'bir': [5, 2, 3, 4],\n",
       " 'iki': 3,\n",
       " 'üç': [[5, 5], [6, 7, 8], [9, 10, 0]],\n",
       " 6: 'altı'}"
      ]
     },
     "execution_count": 437,
     "metadata": {},
     "output_type": "execute_result"
    }
   ],
   "source": [
    "sözlük01"
   ]
  },
  {
   "cell_type": "code",
   "execution_count": 439,
   "metadata": {},
   "outputs": [
    {
     "data": {
      "text/plain": [
       "5"
      ]
     },
     "execution_count": 439,
     "metadata": {},
     "output_type": "execute_result"
    }
   ],
   "source": [
    "sözlük01[\"bir\"].pop(0)"
   ]
  },
  {
   "cell_type": "code",
   "execution_count": 440,
   "metadata": {},
   "outputs": [
    {
     "data": {
      "text/plain": [
       "{'bir': [2, 3, 4], 'iki': 3, 'üç': [[5, 5], [6, 7, 8], [9, 10, 0]], 6: 'altı'}"
      ]
     },
     "execution_count": 440,
     "metadata": {},
     "output_type": "execute_result"
    }
   ],
   "source": [
    "sözlük01"
   ]
  },
  {
   "cell_type": "markdown",
   "metadata": {},
   "source": [
    "#### iç içe sözlükler ve diğer veri tipleri"
   ]
  },
  {
   "cell_type": "code",
   "execution_count": 442,
   "metadata": {},
   "outputs": [],
   "source": [
    "sözlük02={\"sayılar\":{\"bir\":1,\"iki\":2,\"üç\":3,\"dört\":4},\"meyveler\":{\"kiraz\":\"yaz\",\"portakal\":\"kış\",\"erik\":\"yaz\"}}"
   ]
  },
  {
   "cell_type": "code",
   "execution_count": 443,
   "metadata": {},
   "outputs": [
    {
     "data": {
      "text/plain": [
       "{'sayılar': {'bir': 1, 'iki': 2, 'üç': 3, 'dört': 4},\n",
       " 'meyveler': {'kiraz': 'yaz', 'portakal': 'kış', 'erik': 'yaz'}}"
      ]
     },
     "execution_count": 443,
     "metadata": {},
     "output_type": "execute_result"
    }
   ],
   "source": [
    "sözlük02"
   ]
  },
  {
   "cell_type": "code",
   "execution_count": 444,
   "metadata": {},
   "outputs": [
    {
     "data": {
      "text/plain": [
       "{'bir': 1, 'iki': 2, 'üç': 3, 'dört': 4}"
      ]
     },
     "execution_count": 444,
     "metadata": {},
     "output_type": "execute_result"
    }
   ],
   "source": [
    "sözlük02[\"sayılar\"]"
   ]
  },
  {
   "cell_type": "code",
   "execution_count": 445,
   "metadata": {},
   "outputs": [
    {
     "data": {
      "text/plain": [
       "'yaz'"
      ]
     },
     "execution_count": 445,
     "metadata": {},
     "output_type": "execute_result"
    }
   ],
   "source": [
    "sözlük02[\"meyveler\"][\"kiraz\"]"
   ]
  },
  {
   "cell_type": "markdown",
   "metadata": {},
   "source": [
    "### sözlüklerin temel metodları"
   ]
  },
  {
   "cell_type": "markdown",
   "metadata": {},
   "source": [
    "#### .values sözlüklerin sadece değerlerini liste olarak getirir, .keys sadece anahtarları liste olarak getirir"
   ]
  },
  {
   "cell_type": "code",
   "execution_count": 446,
   "metadata": {},
   "outputs": [
    {
     "data": {
      "text/plain": [
       "dict_values([{'bir': 1, 'iki': 2, 'üç': 3, 'dört': 4}, {'kiraz': 'yaz', 'portakal': 'kış', 'erik': 'yaz'}])"
      ]
     },
     "execution_count": 446,
     "metadata": {},
     "output_type": "execute_result"
    }
   ],
   "source": [
    "sözlük02.values()"
   ]
  },
  {
   "cell_type": "code",
   "execution_count": 447,
   "metadata": {},
   "outputs": [
    {
     "data": {
      "text/plain": [
       "dict_values([[2, 3, 4], 3, [[5, 5], [6, 7, 8], [9, 10, 0]], 'altı'])"
      ]
     },
     "execution_count": 447,
     "metadata": {},
     "output_type": "execute_result"
    }
   ],
   "source": [
    "sözlük01.values()"
   ]
  },
  {
   "cell_type": "code",
   "execution_count": 449,
   "metadata": {},
   "outputs": [
    {
     "data": {
      "text/plain": [
       "dict_keys(['sayılar', 'meyveler'])"
      ]
     },
     "execution_count": 449,
     "metadata": {},
     "output_type": "execute_result"
    }
   ],
   "source": [
    "sözlük02.keys()"
   ]
  },
  {
   "cell_type": "code",
   "execution_count": 451,
   "metadata": {},
   "outputs": [
    {
     "data": {
      "text/plain": [
       "dict_keys(['bir', 'iki', 'üç', 6])"
      ]
     },
     "execution_count": 451,
     "metadata": {},
     "output_type": "execute_result"
    }
   ],
   "source": [
    "sözlük01.keys()"
   ]
  },
  {
   "cell_type": "code",
   "execution_count": 455,
   "metadata": {},
   "outputs": [
    {
     "data": {
      "text/plain": [
       "dict_values([1, 2, 3, 4, 5, 6])"
      ]
     },
     "execution_count": 455,
     "metadata": {},
     "output_type": "execute_result"
    }
   ],
   "source": [
    "sözlük0.values()"
   ]
  },
  {
   "cell_type": "code",
   "execution_count": 456,
   "metadata": {},
   "outputs": [
    {
     "data": {
      "text/plain": [
       "dict_keys(['bir', 'iki', 'üç', 'dört', 'beş', 'altı'])"
      ]
     },
     "execution_count": 456,
     "metadata": {},
     "output_type": "execute_result"
    }
   ],
   "source": [
    "sözlük0.keys()"
   ]
  },
  {
   "cell_type": "markdown",
   "metadata": {},
   "source": [
    "#### .items ise sözlüklerdeki anahtar ve değerleri liste içinde demet olarak getirir"
   ]
  },
  {
   "cell_type": "code",
   "execution_count": 452,
   "metadata": {},
   "outputs": [
    {
     "data": {
      "text/plain": [
       "dict_items([('sayılar', {'bir': 1, 'iki': 2, 'üç': 3, 'dört': 4}), ('meyveler', {'kiraz': 'yaz', 'portakal': 'kış', 'erik': 'yaz'})])"
      ]
     },
     "execution_count": 452,
     "metadata": {},
     "output_type": "execute_result"
    }
   ],
   "source": [
    "sözlük02.items()"
   ]
  },
  {
   "cell_type": "code",
   "execution_count": 453,
   "metadata": {},
   "outputs": [
    {
     "data": {
      "text/plain": [
       "dict_items([('bir', [2, 3, 4]), ('iki', 3), ('üç', [[5, 5], [6, 7, 8], [9, 10, 0]]), (6, 'altı')])"
      ]
     },
     "execution_count": 453,
     "metadata": {},
     "output_type": "execute_result"
    }
   ],
   "source": [
    "sözlük01.items()"
   ]
  },
  {
   "cell_type": "code",
   "execution_count": 454,
   "metadata": {},
   "outputs": [
    {
     "data": {
      "text/plain": [
       "dict_items([('bir', 1), ('iki', 2), ('üç', 3), ('dört', 4), ('beş', 5), ('altı', 6)])"
      ]
     },
     "execution_count": 454,
     "metadata": {},
     "output_type": "execute_result"
    }
   ],
   "source": [
    "sözlük0.items()"
   ]
  },
  {
   "cell_type": "markdown",
   "metadata": {},
   "source": [
    "# input() fonksiyonu"
   ]
  },
  {
   "cell_type": "markdown",
   "metadata": {},
   "source": [
    "#### programın kullanıcıdan girdi almasına yarayan fonksiyon, bu fonksiyon çalıştığında kullanıcıdan girdi beklenir."
   ]
  },
  {
   "cell_type": "code",
   "execution_count": 457,
   "metadata": {},
   "outputs": [
    {
     "name": "stdout",
     "output_type": "stream",
     "text": [
      "32\n"
     ]
    },
    {
     "data": {
      "text/plain": [
       "'32'"
      ]
     },
     "execution_count": 457,
     "metadata": {},
     "output_type": "execute_result"
    }
   ],
   "source": [
    "input()"
   ]
  },
  {
   "cell_type": "code",
   "execution_count": 458,
   "metadata": {},
   "outputs": [
    {
     "name": "stdout",
     "output_type": "stream",
     "text": [
      "Lütfen bir değer giriniz:4\n"
     ]
    },
    {
     "data": {
      "text/plain": [
       "'4'"
      ]
     },
     "execution_count": 458,
     "metadata": {},
     "output_type": "execute_result"
    }
   ],
   "source": [
    "input(\"Lütfen bir değer giriniz:\")"
   ]
  },
  {
   "cell_type": "code",
   "execution_count": 459,
   "metadata": {},
   "outputs": [
    {
     "name": "stdout",
     "output_type": "stream",
     "text": [
      "Lütfen bir sayı girin:4\n",
      "444\n"
     ]
    }
   ],
   "source": [
    "#input fonksiyonu standart olarak verileri str olarak algılar.\n",
    "a=input(\"Lütfen bir sayı girin:\")\n",
    "print(a*3)"
   ]
  },
  {
   "cell_type": "code",
   "execution_count": 460,
   "metadata": {},
   "outputs": [],
   "source": [
    "#görüldüğü gibi 4*3=12 çıktı vermek yerine 3 adet 4 sayısı yazdı."
   ]
  },
  {
   "cell_type": "code",
   "execution_count": 462,
   "metadata": {},
   "outputs": [
    {
     "name": "stdout",
     "output_type": "stream",
     "text": [
      "Sayıyı giriniz:4\n",
      "Girilen sayının 3 katı: 12\n"
     ]
    }
   ],
   "source": [
    "a=int(input(\"Sayıyı giriniz:\"))\n",
    "print(\"Girilen sayının 3 katı:\",a*3)"
   ]
  },
  {
   "cell_type": "code",
   "execution_count": 463,
   "metadata": {},
   "outputs": [
    {
     "name": "stdout",
     "output_type": "stream",
     "text": [
      "Üslü sayı hesaplama programı\n",
      "Taban değerini giriniz:2\n",
      "Üs değerini giriniz:3\n",
      "2 ^ 3.0 = 8.0\n"
     ]
    }
   ],
   "source": [
    "print(\"Üslü sayı hesaplama programı\")\n",
    "a=int(input(\"Taban değerini giriniz:\"))\n",
    "b=float(input(\"Üs değerini giriniz:\"))\n",
    "print(a,\"^\",b,\"=\",a**b)"
   ]
  },
  {
   "cell_type": "code",
   "execution_count": 464,
   "metadata": {},
   "outputs": [
    {
     "name": "stdout",
     "output_type": "stream",
     "text": [
      "Üslü sayı hesaplama programı\n",
      "Taban değerini giriniz:8\n",
      "Üs değerini giriniz:2.8\n",
      "8 ^ 2.8 = 337.7940251578608\n"
     ]
    }
   ],
   "source": [
    "print(\"Üslü sayı hesaplama programı\")\n",
    "a=int(input(\"Taban değerini giriniz:\"))\n",
    "b=float(input(\"Üs değerini giriniz:\"))\n",
    "print(a,\"^\",b,\"=\",a**b)"
   ]
  },
  {
   "cell_type": "code",
   "execution_count": 465,
   "metadata": {},
   "outputs": [
    {
     "name": "stdout",
     "output_type": "stream",
     "text": [
      "Üslü sayı hesaplama programı\n",
      "Taban değerini giriniz:2.5\n"
     ]
    },
    {
     "ename": "ValueError",
     "evalue": "invalid literal for int() with base 10: '2.5'",
     "output_type": "error",
     "traceback": [
      "\u001b[1;31m---------------------------------------------------------------------------\u001b[0m",
      "\u001b[1;31mValueError\u001b[0m                                Traceback (most recent call last)",
      "\u001b[1;32m<ipython-input-465-4f0e81bb53c6>\u001b[0m in \u001b[0;36m<module>\u001b[1;34m\u001b[0m\n\u001b[0;32m      1\u001b[0m \u001b[0mprint\u001b[0m\u001b[1;33m(\u001b[0m\u001b[1;34m\"Üslü sayı hesaplama programı\"\u001b[0m\u001b[1;33m)\u001b[0m\u001b[1;33m\u001b[0m\u001b[1;33m\u001b[0m\u001b[0m\n\u001b[1;32m----> 2\u001b[1;33m \u001b[0ma\u001b[0m\u001b[1;33m=\u001b[0m\u001b[0mint\u001b[0m\u001b[1;33m(\u001b[0m\u001b[0minput\u001b[0m\u001b[1;33m(\u001b[0m\u001b[1;34m\"Taban değerini giriniz:\"\u001b[0m\u001b[1;33m)\u001b[0m\u001b[1;33m)\u001b[0m\u001b[1;33m\u001b[0m\u001b[1;33m\u001b[0m\u001b[0m\n\u001b[0m\u001b[0;32m      3\u001b[0m \u001b[0mb\u001b[0m\u001b[1;33m=\u001b[0m\u001b[0mfloat\u001b[0m\u001b[1;33m(\u001b[0m\u001b[0minput\u001b[0m\u001b[1;33m(\u001b[0m\u001b[1;34m\"Üs değerini giriniz:\"\u001b[0m\u001b[1;33m)\u001b[0m\u001b[1;33m)\u001b[0m\u001b[1;33m\u001b[0m\u001b[1;33m\u001b[0m\u001b[0m\n\u001b[0;32m      4\u001b[0m \u001b[0mprint\u001b[0m\u001b[1;33m(\u001b[0m\u001b[0ma\u001b[0m\u001b[1;33m,\u001b[0m\u001b[1;34m\"^\"\u001b[0m\u001b[1;33m,\u001b[0m\u001b[0mb\u001b[0m\u001b[1;33m,\u001b[0m\u001b[1;34m\"=\"\u001b[0m\u001b[1;33m,\u001b[0m\u001b[0ma\u001b[0m\u001b[1;33m**\u001b[0m\u001b[0mb\u001b[0m\u001b[1;33m)\u001b[0m\u001b[1;33m\u001b[0m\u001b[1;33m\u001b[0m\u001b[0m\n",
      "\u001b[1;31mValueError\u001b[0m: invalid literal for int() with base 10: '2.5'"
     ]
    }
   ],
   "source": [
    "print(\"Üslü sayı hesaplama programı\")\n",
    "a=int(input(\"Taban değerini giriniz:\"))\n",
    "b=float(input(\"Üs değerini giriniz:\"))\n",
    "print(a,\"^\",b,\"=\",a**b)"
   ]
  },
  {
   "cell_type": "code",
   "execution_count": 466,
   "metadata": {},
   "outputs": [
    {
     "name": "stdout",
     "output_type": "stream",
     "text": [
      "Kök hesaplama programı\n",
      "Kökünü hesaplamak istediğiniz değeri giriniz:36\n",
      "Kök derecesini giriniz:2\n",
      "36 sayısının 2.0 dereceden kökü = 6.0\n"
     ]
    }
   ],
   "source": [
    "print(\"Kök hesaplama programı\")\n",
    "a=int(input(\"Kökünü hesaplamak istediğiniz değeri giriniz:\"))\n",
    "b=float(input(\"Kök derecesini giriniz:\"))\n",
    "print(a,\"sayısının\",b,\"dereceden kökü =\",a**(1/b))"
   ]
  },
  {
   "cell_type": "code",
   "execution_count": 470,
   "metadata": {},
   "outputs": [
    {
     "name": "stdout",
     "output_type": "stream",
     "text": [
      "Sayıyı giriniz:54s\n"
     ]
    },
    {
     "ename": "ValueError",
     "evalue": "invalid literal for int() with base 10: '54s'",
     "output_type": "error",
     "traceback": [
      "\u001b[1;31m---------------------------------------------------------------------------\u001b[0m",
      "\u001b[1;31mValueError\u001b[0m                                Traceback (most recent call last)",
      "\u001b[1;32m<ipython-input-470-78af577801b2>\u001b[0m in \u001b[0;36m<module>\u001b[1;34m\u001b[0m\n\u001b[0;32m      1\u001b[0m \u001b[1;31m#hata durumu- input değeri int tipine dönüşemeyecek bir değer...\u001b[0m\u001b[1;33m\u001b[0m\u001b[1;33m\u001b[0m\u001b[1;33m\u001b[0m\u001b[0m\n\u001b[1;32m----> 2\u001b[1;33m \u001b[0ma\u001b[0m\u001b[1;33m=\u001b[0m\u001b[0mint\u001b[0m\u001b[1;33m(\u001b[0m\u001b[0minput\u001b[0m\u001b[1;33m(\u001b[0m\u001b[1;34m\"Sayıyı giriniz:\"\u001b[0m\u001b[1;33m)\u001b[0m\u001b[1;33m)\u001b[0m\u001b[1;33m\u001b[0m\u001b[1;33m\u001b[0m\u001b[0m\n\u001b[0m\u001b[0;32m      3\u001b[0m \u001b[0mprint\u001b[0m\u001b[1;33m(\u001b[0m\u001b[1;34m\"Girdiğiniz Sayı:\"\u001b[0m\u001b[1;33m,\u001b[0m\u001b[0ma\u001b[0m\u001b[1;33m)\u001b[0m\u001b[1;33m\u001b[0m\u001b[1;33m\u001b[0m\u001b[0m\n",
      "\u001b[1;31mValueError\u001b[0m: invalid literal for int() with base 10: '54s'"
     ]
    }
   ],
   "source": [
    "#hata durumu- input değeri int tipine dönüşemeyecek bir değer...\n",
    "a=int(input(\"Sayıyı giriniz:\"))\n",
    "print(\"Girdiğiniz Sayı:\",a)"
   ]
  },
  {
   "cell_type": "markdown",
   "metadata": {},
   "source": [
    "# KOŞULLU DURUMLAR"
   ]
  },
  {
   "cell_type": "markdown",
   "metadata": {},
   "source": [
    "# Mantıksal değerler ve karşılaştırma operatörleri"
   ]
  },
  {
   "cell_type": "markdown",
   "metadata": {},
   "source": [
    "## Mantıksal Değerler (Boolean Değerleri)"
   ]
  },
  {
   "cell_type": "markdown",
   "metadata": {},
   "source": [
    "#### Sonucu True veya False olan değerlerdir. (dikkat! başharfleri büyük)"
   ]
  },
  {
   "cell_type": "markdown",
   "metadata": {},
   "source": [
    "##### Burada da matematikte olduğu gibi bir değişkenin değeri 0 ise False, 0'dan farklı bir değerse True değerini alır."
   ]
  },
  {
   "cell_type": "code",
   "execution_count": 472,
   "metadata": {},
   "outputs": [
    {
     "data": {
      "text/plain": [
       "bool"
      ]
     },
     "execution_count": 472,
     "metadata": {},
     "output_type": "execute_result"
    }
   ],
   "source": [
    "a=True\n",
    "type(a)"
   ]
  },
  {
   "cell_type": "code",
   "execution_count": 473,
   "metadata": {},
   "outputs": [
    {
     "data": {
      "text/plain": [
       "bool"
      ]
     },
     "execution_count": 473,
     "metadata": {},
     "output_type": "execute_result"
    }
   ],
   "source": [
    "b=False\n",
    "type(b)"
   ]
  },
  {
   "cell_type": "code",
   "execution_count": 474,
   "metadata": {},
   "outputs": [
    {
     "data": {
      "text/plain": [
       "True"
      ]
     },
     "execution_count": 474,
     "metadata": {},
     "output_type": "execute_result"
    }
   ],
   "source": [
    "bool(13.89254556)"
   ]
  },
  {
   "cell_type": "code",
   "execution_count": 475,
   "metadata": {},
   "outputs": [
    {
     "data": {
      "text/plain": [
       "True"
      ]
     },
     "execution_count": 475,
     "metadata": {},
     "output_type": "execute_result"
    }
   ],
   "source": [
    "bool(-852)"
   ]
  },
  {
   "cell_type": "code",
   "execution_count": 476,
   "metadata": {},
   "outputs": [
    {
     "data": {
      "text/plain": [
       "True"
      ]
     },
     "execution_count": 476,
     "metadata": {},
     "output_type": "execute_result"
    }
   ],
   "source": [
    "bool(0.000000000000001)"
   ]
  },
  {
   "cell_type": "code",
   "execution_count": 477,
   "metadata": {},
   "outputs": [
    {
     "data": {
      "text/plain": [
       "False"
      ]
     },
     "execution_count": 477,
     "metadata": {},
     "output_type": "execute_result"
    }
   ],
   "source": [
    "bool(0)"
   ]
  },
  {
   "cell_type": "code",
   "execution_count": 490,
   "metadata": {},
   "outputs": [
    {
     "name": "stdout",
     "output_type": "stream",
     "text": [
      "True True True True False\n"
     ]
    }
   ],
   "source": [
    "a=154\n",
    "b=\"murat\"\n",
    "c=0.54\n",
    "d=-46812\n",
    "e=0\n",
    "print(bool(a),bool(b),bool(c),bool(d),bool(e))\n"
   ]
  },
  {
   "cell_type": "code",
   "execution_count": 492,
   "metadata": {},
   "outputs": [
    {
     "data": {
      "text/plain": [
       "'murat'"
      ]
     },
     "execution_count": 492,
     "metadata": {},
     "output_type": "execute_result"
    }
   ],
   "source": [
    "b"
   ]
  },
  {
   "cell_type": "code",
   "execution_count": 485,
   "metadata": {},
   "outputs": [
    {
     "data": {
      "text/plain": [
       "True"
      ]
     },
     "execution_count": 485,
     "metadata": {},
     "output_type": "execute_result"
    }
   ],
   "source": [
    "a>c"
   ]
  },
  {
   "cell_type": "code",
   "execution_count": 493,
   "metadata": {},
   "outputs": [
    {
     "ename": "TypeError",
     "evalue": "'>' not supported between instances of 'int' and 'str'",
     "output_type": "error",
     "traceback": [
      "\u001b[1;31m---------------------------------------------------------------------------\u001b[0m",
      "\u001b[1;31mTypeError\u001b[0m                                 Traceback (most recent call last)",
      "\u001b[1;32m<ipython-input-493-b72c5f2557dd>\u001b[0m in \u001b[0;36m<module>\u001b[1;34m\u001b[0m\n\u001b[1;32m----> 1\u001b[1;33m \u001b[0ma\u001b[0m\u001b[1;33m>\u001b[0m\u001b[0mb\u001b[0m\u001b[1;33m\u001b[0m\u001b[1;33m\u001b[0m\u001b[0m\n\u001b[0m",
      "\u001b[1;31mTypeError\u001b[0m: '>' not supported between instances of 'int' and 'str'"
     ]
    }
   ],
   "source": [
    "a>b"
   ]
  },
  {
   "cell_type": "code",
   "execution_count": 494,
   "metadata": {},
   "outputs": [
    {
     "data": {
      "text/plain": [
       "True"
      ]
     },
     "execution_count": 494,
     "metadata": {},
     "output_type": "execute_result"
    }
   ],
   "source": [
    "c>d"
   ]
  },
  {
   "cell_type": "code",
   "execution_count": 495,
   "metadata": {},
   "outputs": [
    {
     "data": {
      "text/plain": [
       "False"
      ]
     },
     "execution_count": 495,
     "metadata": {},
     "output_type": "execute_result"
    }
   ],
   "source": [
    "e>a"
   ]
  },
  {
   "cell_type": "code",
   "execution_count": 499,
   "metadata": {},
   "outputs": [],
   "source": [
    "a=None\n",
    "#bir değişken tanımlayıp buna değer atamamak için..."
   ]
  },
  {
   "cell_type": "markdown",
   "metadata": {},
   "source": [
    "### Karşılaştırma Operatörleri"
   ]
  },
  {
   "cell_type": "raw",
   "metadata": {},
   "source": [
    "== eşit olup olmadığına bakar, eşitse True değilse False"
   ]
  },
  {
   "cell_type": "code",
   "execution_count": 501,
   "metadata": {},
   "outputs": [
    {
     "data": {
      "text/plain": [
       "False"
      ]
     },
     "execution_count": 501,
     "metadata": {},
     "output_type": "execute_result"
    }
   ],
   "source": [
    "3==5"
   ]
  },
  {
   "cell_type": "code",
   "execution_count": 502,
   "metadata": {},
   "outputs": [
    {
     "data": {
      "text/plain": [
       "True"
      ]
     },
     "execution_count": 502,
     "metadata": {},
     "output_type": "execute_result"
    }
   ],
   "source": [
    "0==0"
   ]
  },
  {
   "cell_type": "code",
   "execution_count": 507,
   "metadata": {},
   "outputs": [
    {
     "data": {
      "text/plain": [
       "True"
      ]
     },
     "execution_count": 507,
     "metadata": {},
     "output_type": "execute_result"
    }
   ],
   "source": [
    "\"ahmet\"==\"ahmet\""
   ]
  },
  {
   "cell_type": "raw",
   "metadata": {},
   "source": [
    "!= Eşitlik sınamasının değilidir. İki değer eşitse False, eşit değilse True"
   ]
  },
  {
   "cell_type": "code",
   "execution_count": 508,
   "metadata": {},
   "outputs": [
    {
     "data": {
      "text/plain": [
       "False"
      ]
     },
     "execution_count": 508,
     "metadata": {},
     "output_type": "execute_result"
    }
   ],
   "source": [
    "3!=3"
   ]
  },
  {
   "cell_type": "code",
   "execution_count": 509,
   "metadata": {},
   "outputs": [
    {
     "data": {
      "text/plain": [
       "True"
      ]
     },
     "execution_count": 509,
     "metadata": {},
     "output_type": "execute_result"
    }
   ],
   "source": [
    "3!=0"
   ]
  },
  {
   "cell_type": "raw",
   "metadata": {},
   "source": [
    "Diğerleri: <,>,>= (büyük veya eşit),<=(küçük veya eşit)"
   ]
  },
  {
   "cell_type": "code",
   "execution_count": 511,
   "metadata": {},
   "outputs": [
    {
     "data": {
      "text/plain": [
       "False"
      ]
     },
     "execution_count": 511,
     "metadata": {},
     "output_type": "execute_result"
    }
   ],
   "source": [
    "\"ali\">\"zeynep\" #alfabetik olarak karşılaştırır"
   ]
  },
  {
   "cell_type": "code",
   "execution_count": 513,
   "metadata": {},
   "outputs": [
    {
     "data": {
      "text/plain": [
       "True"
      ]
     },
     "execution_count": 513,
     "metadata": {},
     "output_type": "execute_result"
    }
   ],
   "source": [
    "\"ayhan\">\"abdullah\""
   ]
  },
  {
   "cell_type": "code",
   "execution_count": 514,
   "metadata": {},
   "outputs": [
    {
     "data": {
      "text/plain": [
       "True"
      ]
     },
     "execution_count": 514,
     "metadata": {},
     "output_type": "execute_result"
    }
   ],
   "source": [
    "12>=12"
   ]
  },
  {
   "cell_type": "code",
   "execution_count": 515,
   "metadata": {},
   "outputs": [
    {
     "data": {
      "text/plain": [
       "True"
      ]
     },
     "execution_count": 515,
     "metadata": {},
     "output_type": "execute_result"
    }
   ],
   "source": [
    "12<=12"
   ]
  },
  {
   "cell_type": "code",
   "execution_count": 516,
   "metadata": {},
   "outputs": [],
   "source": [
    "x=None"
   ]
  },
  {
   "cell_type": "code",
   "execution_count": 517,
   "metadata": {},
   "outputs": [],
   "source": [
    "y=5"
   ]
  },
  {
   "cell_type": "code",
   "execution_count": 518,
   "metadata": {},
   "outputs": [
    {
     "data": {
      "text/plain": [
       "False"
      ]
     },
     "execution_count": 518,
     "metadata": {},
     "output_type": "execute_result"
    }
   ],
   "source": [
    "x==y"
   ]
  },
  {
   "cell_type": "code",
   "execution_count": 519,
   "metadata": {},
   "outputs": [
    {
     "data": {
      "text/plain": [
       "True"
      ]
     },
     "execution_count": 519,
     "metadata": {},
     "output_type": "execute_result"
    }
   ],
   "source": [
    "x!=y"
   ]
  },
  {
   "cell_type": "code",
   "execution_count": 520,
   "metadata": {},
   "outputs": [
    {
     "data": {
      "text/plain": [
       "False"
      ]
     },
     "execution_count": 520,
     "metadata": {},
     "output_type": "execute_result"
    }
   ],
   "source": [
    "bool(x)"
   ]
  },
  {
   "cell_type": "code",
   "execution_count": 521,
   "metadata": {},
   "outputs": [
    {
     "data": {
      "text/plain": [
       "True"
      ]
     },
     "execution_count": 521,
     "metadata": {},
     "output_type": "execute_result"
    }
   ],
   "source": [
    "bool(y)"
   ]
  },
  {
   "cell_type": "markdown",
   "metadata": {},
   "source": [
    "### Mantıksal Bağlaçlar"
   ]
  },
  {
   "cell_type": "markdown",
   "metadata": {},
   "source": [
    "#### and ve  or  operatörleri vardır. Bunlar matematikteki kurallarla aynı işlev görürler. Bu iki bağlaç birlikte veya ayrı ayrı birden fazla defa kullanılabilirler"
   ]
  },
  {
   "cell_type": "code",
   "execution_count": 522,
   "metadata": {},
   "outputs": [
    {
     "data": {
      "text/plain": [
       "True"
      ]
     },
     "execution_count": 522,
     "metadata": {},
     "output_type": "execute_result"
    }
   ],
   "source": [
    "2>1 and 3>0"
   ]
  },
  {
   "cell_type": "code",
   "execution_count": 523,
   "metadata": {},
   "outputs": [
    {
     "data": {
      "text/plain": [
       "True"
      ]
     },
     "execution_count": 523,
     "metadata": {},
     "output_type": "execute_result"
    }
   ],
   "source": [
    "0==0.0 and -5<-1"
   ]
  },
  {
   "cell_type": "code",
   "execution_count": 526,
   "metadata": {},
   "outputs": [
    {
     "data": {
      "text/plain": [
       "True"
      ]
     },
     "execution_count": 526,
     "metadata": {},
     "output_type": "execute_result"
    }
   ],
   "source": [
    "4!=1 and 2==1+1"
   ]
  },
  {
   "cell_type": "code",
   "execution_count": 528,
   "metadata": {},
   "outputs": [
    {
     "data": {
      "text/plain": [
       "False"
      ]
     },
     "execution_count": 528,
     "metadata": {},
     "output_type": "execute_result"
    }
   ],
   "source": [
    "3==6-3 and 8==1+1"
   ]
  },
  {
   "cell_type": "code",
   "execution_count": 529,
   "metadata": {},
   "outputs": [
    {
     "data": {
      "text/plain": [
       "False"
      ]
     },
     "execution_count": 529,
     "metadata": {},
     "output_type": "execute_result"
    }
   ],
   "source": [
    "18==\"a\" and  \"murat\" >= \"zeki\""
   ]
  },
  {
   "cell_type": "code",
   "execution_count": 536,
   "metadata": {},
   "outputs": [
    {
     "data": {
      "text/plain": [
       "False"
      ]
     },
     "execution_count": 536,
     "metadata": {},
     "output_type": "execute_result"
    }
   ],
   "source": [
    "10==8 and 12>5 and \"murat\" < \"zeki\" and 64==2**6"
   ]
  },
  {
   "cell_type": "code",
   "execution_count": 531,
   "metadata": {},
   "outputs": [
    {
     "data": {
      "text/plain": [
       "True"
      ]
     },
     "execution_count": 531,
     "metadata": {},
     "output_type": "execute_result"
    }
   ],
   "source": [
    "2>1 or 1>2"
   ]
  },
  {
   "cell_type": "code",
   "execution_count": 537,
   "metadata": {},
   "outputs": [
    {
     "data": {
      "text/plain": [
       "True"
      ]
     },
     "execution_count": 537,
     "metadata": {},
     "output_type": "execute_result"
    }
   ],
   "source": [
    "34==68/2 or 10==2*2 or 3==0 or 8!=4+4"
   ]
  },
  {
   "cell_type": "code",
   "execution_count": 549,
   "metadata": {},
   "outputs": [
    {
     "data": {
      "text/plain": [
       "True"
      ]
     },
     "execution_count": 549,
     "metadata": {},
     "output_type": "execute_result"
    }
   ],
   "source": [
    "(6==1+2+3 and 8>=-16+8) and \"murat\" > \"ali\" or bool(0) or 65>64 and [1,2,3]"
   ]
  },
  {
   "cell_type": "markdown",
   "metadata": {},
   "source": [
    "#### not operatörü herhangi bir mantıksal sınamanın sonucunu tersine çevirir."
   ]
  },
  {
   "cell_type": "code",
   "execution_count": 546,
   "metadata": {},
   "outputs": [
    {
     "data": {
      "text/plain": [
       "False"
      ]
     },
     "execution_count": 546,
     "metadata": {},
     "output_type": "execute_result"
    }
   ],
   "source": [
    "not (6==1+2+3 and 8>=-16+8 and \"murat\" > \"ali\" or bool(0) or 65>64 and [1,2,3])"
   ]
  },
  {
   "cell_type": "code",
   "execution_count": 547,
   "metadata": {},
   "outputs": [
    {
     "data": {
      "text/plain": [
       "False"
      ]
     },
     "execution_count": 547,
     "metadata": {},
     "output_type": "execute_result"
    }
   ],
   "source": [
    "not 2==2"
   ]
  },
  {
   "cell_type": "code",
   "execution_count": 548,
   "metadata": {},
   "outputs": [
    {
     "data": {
      "text/plain": [
       "False"
      ]
     },
     "execution_count": 548,
     "metadata": {},
     "output_type": "execute_result"
    }
   ],
   "source": [
    "not 10>9"
   ]
  },
  {
   "cell_type": "markdown",
   "metadata": {},
   "source": [
    "## if ve else blokları"
   ]
  },
  {
   "cell_type": "markdown",
   "metadata": {},
   "source": [
    "### if bloğu belirli bir mantıksal sınama sonucu True olduğu zaman çalışan bloktur."
   ]
  },
  {
   "cell_type": "code",
   "execution_count": 554,
   "metadata": {},
   "outputs": [
    {
     "name": "stdout",
     "output_type": "stream",
     "text": [
      "2\n",
      "Merhaba\n"
     ]
    }
   ],
   "source": [
    "a=2\n",
    "if (a==2):\n",
    "    print(a)\n",
    "print(\"Merhaba\")\n",
    "#İf koşulu sağlandığı için print(a) komutu çalıştırılacak ve program kodları çalıştırmaya devam ederek print(\"Merhaba\")\n",
    "#komutu da çalışacak."
   ]
  },
  {
   "cell_type": "code",
   "execution_count": 553,
   "metadata": {},
   "outputs": [
    {
     "name": "stdout",
     "output_type": "stream",
     "text": [
      "Merhaba\n"
     ]
    }
   ],
   "source": [
    "a=3\n",
    "if(a==2):\n",
    "    print(a)\n",
    "print(\"Merhaba\")\n",
    "#if koşulu sağlanmadığı için ona bağlı print(a) komutu çalışmadan sıradaki komuta devam edecek."
   ]
  },
  {
   "cell_type": "code",
   "execution_count": 555,
   "metadata": {},
   "outputs": [
    {
     "name": "stdout",
     "output_type": "stream",
     "text": [
      "Yaşınızı giriniz: 15\n",
      "Siteye giremezsiniz\n"
     ]
    }
   ],
   "source": [
    "#18 yaşından küçüklerin giremediği bir web sitesi olsun.\n",
    "yaş=int(input(\"Yaşınızı giriniz: \"))\n",
    "if(yaş>=18):\n",
    "    print(\"Hoşgeldiniz!\")\n",
    "print(\"Siteye giremezsiniz\")"
   ]
  },
  {
   "cell_type": "raw",
   "metadata": {},
   "source": [
    "Burada if bloğundaki koşul sağlanmadığı için o bloktaki fonksiyonları çalıştırılmadan sonraki fonksiyonlara geçilmiştir."
   ]
  },
  {
   "cell_type": "code",
   "execution_count": 556,
   "metadata": {},
   "outputs": [
    {
     "name": "stdout",
     "output_type": "stream",
     "text": [
      "Yaşınızı giriniz: 18\n",
      "Hoşgeldiniz!\n",
      "Siteye giremezsiniz\n"
     ]
    }
   ],
   "source": [
    "#18 yaşından küçüklerin giremediği bir web sitesi olsun.\n",
    "yaş=int(input(\"Yaşınızı giriniz: \"))\n",
    "if(yaş>=18):\n",
    "    print(\"Hoşgeldiniz!\")\n",
    "print(\"Siteye giremezsiniz\")"
   ]
  },
  {
   "cell_type": "raw",
   "metadata": {},
   "source": [
    "Burada da görüldüğü gibi if koşulu sağlandığı için if bloğundaki \"Hoşgeldiniz!\" yazısı çalıştırılmış ve sonraki komutlara devam edildiği için de \"Siteye giremezsiniz\" yazısı da print edildi. Demek ki if koşulunun sağlanmadığı durumda da yapılması gerekenle ilgili ek girdi gerekmekte."
   ]
  },
  {
   "cell_type": "markdown",
   "metadata": {},
   "source": [
    "### else fonksiyonu ise sadece if sınamasının False olduğu durumda çalışan bir bloktur."
   ]
  },
  {
   "cell_type": "markdown",
   "metadata": {},
   "source": [
    "#### Sonuç olarak bu iki blok birlikte çalışır, if bloğu bir koşulu sınar; True durumunda çalışır, else bloğu çalışmaz, if bloğunun sınamasında False durumu oluştuğunda ise else bloğu çaşacaktır. Else bloğunda mantıksal sınamaya bu nedenle gerek yoktur."
   ]
  },
  {
   "cell_type": "code",
   "execution_count": 557,
   "metadata": {},
   "outputs": [
    {
     "name": "stdout",
     "output_type": "stream",
     "text": [
      "Yaşınızı giriniz: 17\n",
      "Siteye giremezsiniz\n"
     ]
    }
   ],
   "source": [
    "#18 yaşından küçüklerin giremediği bir web sitesi olsun.\n",
    "yaş=int(input(\"Yaşınızı giriniz: \"))\n",
    "if(yaş>=18):\n",
    "    print(\"Hoşgeldiniz!\")\n",
    "else:\n",
    "    print(\"Siteye giremezsiniz\")"
   ]
  },
  {
   "cell_type": "code",
   "execution_count": 558,
   "metadata": {},
   "outputs": [
    {
     "name": "stdout",
     "output_type": "stream",
     "text": [
      "Yaşınızı giriniz: 19\n",
      "Hoşgeldiniz!\n"
     ]
    }
   ],
   "source": [
    "#18 yaşından küçüklerin giremediği bir web sitesi olsun.\n",
    "yaş=int(input(\"Yaşınızı giriniz: \"))\n",
    "if(yaş>=18):\n",
    "    print(\"Hoşgeldiniz!\")\n",
    "else:\n",
    "    print(\"Siteye giremezsiniz\")"
   ]
  },
  {
   "cell_type": "code",
   "execution_count": 560,
   "metadata": {},
   "outputs": [
    {
     "name": "stdout",
     "output_type": "stream",
     "text": [
      "Karekökünü almak istediğiniz sayıyı girin: 16\n",
      "4.0\n"
     ]
    }
   ],
   "source": [
    "#Karekök alan bir basit hesaplama programı yazalım. Girilecek değer negatifse uyarı versin.\n",
    "a=float(input(\"Karekökünü almak istediğiniz sayıyı girin: \"))\n",
    "if(a<0):\n",
    "    print(\"Girdiğiniz sayı negatiftir!\")\n",
    "else:\n",
    "    print(a**0.5)"
   ]
  },
  {
   "cell_type": "code",
   "execution_count": 561,
   "metadata": {},
   "outputs": [
    {
     "name": "stdout",
     "output_type": "stream",
     "text": [
      "Karekökünü almak istediğiniz sayıyı girin: -4\n",
      "Girdiğiniz sayı negatiftir!\n"
     ]
    }
   ],
   "source": [
    "#Karekök alan bir basit hesaplama programı yazalım. Girilecek değer negatifse uyarı versin.\n",
    "a=float(input(\"Karekökünü almak istediğiniz sayıyı girin: \"))\n",
    "if(a<0):\n",
    "    print(\"Girdiğiniz sayı negatiftir!\")\n",
    "else:\n",
    "    print(a**0.5)"
   ]
  },
  {
   "cell_type": "raw",
   "metadata": {},
   "source": [
    "Bir üçgenin kenar ölçülerini toplayarak çevresini hesaplayan bir program yazalım, ama bu program girilen sayıları kontrol ederek üçgen oluşturma koşullarını sağlamayan veriler olduğunda uyarı versin."
   ]
  },
  {
   "cell_type": "code",
   "execution_count": 564,
   "metadata": {},
   "outputs": [
    {
     "name": "stdout",
     "output_type": "stream",
     "text": [
      "a kenarı: 2\n",
      "b kenarı: 1\n",
      "c kenarı: 4\n",
      "Bu kenar ölçülerinde bir üçgen oluşamaz!\n"
     ]
    }
   ],
   "source": [
    "a=float(input(\"a kenarı: \"))\n",
    "b=float(input(\"b kenarı: \"))\n",
    "c=float(input(\"c kenarı: \"))\n",
    "#kenar ölçülerine göre üçgen oluşturabilme koşulları:\n",
    "if((a+b)>c and (b+c)>a and (a+c)>b and a>((b-c)**2)**0.5 and b>((a-c)**2)**0.5 and c>((b-c)**2)**0.5):\n",
    "\n",
    "#herhangi iki kenarın uzunlukları toplamı diğer kenardan büyük olmalı.\n",
    "#herhangi iki kenarın farkı diğer kenardan küçük ollmalı\n",
    "    print(\"Çevre=\",a+b+c)\n",
    "else:\n",
    "    print(\"Bu kenar ölçülerinde bir üçgen oluşamaz!\")"
   ]
  },
  {
   "cell_type": "code",
   "execution_count": 565,
   "metadata": {},
   "outputs": [
    {
     "name": "stdout",
     "output_type": "stream",
     "text": [
      "a kenarı: 5\n",
      "b kenarı: 6\n",
      "c kenarı: 12\n",
      "Bu kenar ölçülerinde bir üçgen oluşamaz!\n"
     ]
    }
   ],
   "source": [
    "a=float(input(\"a kenarı: \"))\n",
    "b=float(input(\"b kenarı: \"))\n",
    "c=float(input(\"c kenarı: \"))\n",
    "#kenar ölçülerine göre üçgen oluşturabilme koşulları:\n",
    "if((a+b)>c and (b+c)>a and (a+c)>b and a>((b-c)**2)**0.5 and b>((a-c)**2)**0.5 and c>((b-c)**2)**0.5):\n",
    "\n",
    "#herhangi iki kenarın uzunlukları toplamı diğer kenardan büyük olmalı.\n",
    "#herhangi iki kenarın farkı diğer kenardan küçük ollmalı\n",
    "    print(\"Çevre=\",a+b+c)\n",
    "else:\n",
    "    print(\"Bu kenar ölçülerinde bir üçgen oluşamaz!\")\n"
   ]
  },
  {
   "cell_type": "code",
   "execution_count": 566,
   "metadata": {},
   "outputs": [
    {
     "name": "stdout",
     "output_type": "stream",
     "text": [
      "a kenarı: 15\n",
      "b kenarı: 15\n",
      "c kenarı: 15\n",
      "Çevre= 45.0\n"
     ]
    }
   ],
   "source": [
    "a=float(input(\"a kenarı: \"))\n",
    "b=float(input(\"b kenarı: \"))\n",
    "c=float(input(\"c kenarı: \"))\n",
    "#kenar ölçülerine göre üçgen oluşturabilme koşulları:\n",
    "if((a+b)>c and (b+c)>a and (a+c)>b and a>((b-c)**2)**0.5 and b>((a-c)**2)**0.5 and c>((b-c)**2)**0.5):\n",
    "\n",
    "#herhangi iki kenarın uzunlukları toplamı diğer kenardan büyük olmalı.\n",
    "#herhangi iki kenarın farkı diğer kenardan küçük ollmalı\n",
    "    print(\"Çevre=\",a+b+c)\n",
    "else:\n",
    "    print(\"Bu kenar ölçülerinde bir üçgen oluşamaz!\")\n"
   ]
  },
  {
   "cell_type": "code",
   "execution_count": 567,
   "metadata": {},
   "outputs": [
    {
     "name": "stdout",
     "output_type": "stream",
     "text": [
      "a kenarı: 3\n",
      "b kenarı: 4\n",
      "c kenarı: 5\n",
      "Çevre= 12.0\n",
      "Teşekkürler\n"
     ]
    }
   ],
   "source": [
    "a=float(input(\"a kenarı: \"))\n",
    "b=float(input(\"b kenarı: \"))\n",
    "c=float(input(\"c kenarı: \"))\n",
    "#kenar ölçülerine göre üçgen oluşturabilme koşulları:\n",
    "if((a+b)>c and (b+c)>a and (a+c)>b and a>((b-c)**2)**0.5 and b>((a-c)**2)**0.5 and c>((b-c)**2)**0.5):\n",
    "\n",
    "#herhangi iki kenarın uzunlukları toplamı diğer kenardan büyük olmalı.\n",
    "#herhangi iki kenarın farkı diğer kenardan küçük ollmalı\n",
    "    print(\"Çevre=\",a+b+c)\n",
    "else:\n",
    "    print(\"Bu kenar ölçülerinde bir üçgen oluşamaz!\")\n",
    "print(\"Teşekkürler\")"
   ]
  },
  {
   "cell_type": "code",
   "execution_count": 568,
   "metadata": {},
   "outputs": [
    {
     "name": "stdout",
     "output_type": "stream",
     "text": [
      "a kenarı: 3\n",
      "b kenarı: 4\n",
      "c kenarı: 8\n",
      "Bu kenar ölçülerinde bir üçgen oluşamaz!\n",
      "Teşekkürler\n"
     ]
    }
   ],
   "source": [
    "a=float(input(\"a kenarı: \"))\n",
    "b=float(input(\"b kenarı: \"))\n",
    "c=float(input(\"c kenarı: \"))\n",
    "#kenar ölçülerine göre üçgen oluşturabilme koşulları:\n",
    "if((a+b)>c and (b+c)>a and (a+c)>b and a>((b-c)**2)**0.5 and b>((a-c)**2)**0.5 and c>((b-c)**2)**0.5):\n",
    "\n",
    "#herhangi iki kenarın uzunlukları toplamı diğer kenardan büyük olmalı.\n",
    "#herhangi iki kenarın farkı diğer kenardan küçük ollmalı\n",
    "    print(\"Çevre=\",a+b+c)\n",
    "else:\n",
    "    print(\"Bu kenar ölçülerinde bir üçgen oluşamaz!\")\n",
    "print(\"Teşekkürler\")"
   ]
  },
  {
   "cell_type": "markdown",
   "metadata": {},
   "source": [
    "### if, elif, else blokları"
   ]
  },
  {
   "cell_type": "markdown",
   "metadata": {},
   "source": [
    "#### İkiden fazla koşul olduğu durumlarda her koşul için ayrı işlem yapılacaksa kullanılır. if ile başlar, elif ile devam eder ve en son opsiyonel olarak else ile biter. else kullanımı zorunlu değildir, zaten tüm koşullar içinde phyton else kullanılmasa bile kalan son koşulu uygulayacaktır. Biz son koşulu else ile yazsak da yazmasak da sonuç değişmeyecektir."
   ]
  },
  {
   "cell_type": "code",
   "execution_count": 576,
   "metadata": {},
   "outputs": [
    {
     "name": "stdout",
     "output_type": "stream",
     "text": [
      "Harf Notu Hesaplama Programı\n",
      "Sayısal Notunuzu Girin: 105\n",
      "Notunuz 100'den büyük olamaz!\n"
     ]
    }
   ],
   "source": [
    "print(\"Harf Notu Hesaplama Programı\")\n",
    "Not=float(input(\"Sayısal Notunuzu Girin: \"))\n",
    "if Not>100:\n",
    "    print(\"Notunuz 100'den büyük olamaz!\")\n",
    "elif Not>=90:\n",
    "    print(\"AA\")\n",
    "elif Not>=85:\n",
    "    print(\"BA\")\n",
    "elif Not>=80:\n",
    "    print(\"BB\")\n",
    "elif Not>=75:\n",
    "    print(\"BC\")\n",
    "elif Not>=70:\n",
    "    print(\"CC\")\n",
    "elif Not>=60:\n",
    "    print(\"CD\")\n",
    "elif Not>=50:\n",
    "    print(\"DD\")\n",
    "elif Not>=30:\n",
    "    print(\"FD\")\n",
    "elif Not>=0:\n",
    "    print(\"FF\")\n",
    "else:\n",
    "    print(\"Geçersiz Not!\")"
   ]
  },
  {
   "cell_type": "code",
   "execution_count": 577,
   "metadata": {},
   "outputs": [
    {
     "name": "stdout",
     "output_type": "stream",
     "text": [
      "Harf Notu Hesaplama Programı\n",
      "Sayısal Notunuzu Girin: 98\n",
      "AA\n"
     ]
    }
   ],
   "source": [
    "print(\"Harf Notu Hesaplama Programı\")\n",
    "Not=float(input(\"Sayısal Notunuzu Girin: \"))\n",
    "if Not>100:\n",
    "    print(\"Notunuz 100'den büyük olamaz!\")\n",
    "elif Not>=90:\n",
    "    print(\"AA\")\n",
    "elif Not>=85:\n",
    "    print(\"BA\")\n",
    "elif Not>=80:\n",
    "    print(\"BB\")\n",
    "elif Not>=75:\n",
    "    print(\"BC\")\n",
    "elif Not>=70:\n",
    "    print(\"CC\")\n",
    "elif Not>=60:\n",
    "    print(\"CD\")\n",
    "elif Not>=50:\n",
    "    print(\"DD\")\n",
    "elif Not>=30:\n",
    "    print(\"FD\")\n",
    "elif Not>=0:\n",
    "    print(\"FF\")\n",
    "else:\n",
    "    print(\"Geçersiz Not!\")"
   ]
  },
  {
   "cell_type": "code",
   "execution_count": 578,
   "metadata": {},
   "outputs": [
    {
     "name": "stdout",
     "output_type": "stream",
     "text": [
      "Harf Notu Hesaplama Programı\n",
      "Sayısal Notunuzu Girin: 45\n",
      "FD\n"
     ]
    }
   ],
   "source": [
    "print(\"Harf Notu Hesaplama Programı\")\n",
    "Not=float(input(\"Sayısal Notunuzu Girin: \"))\n",
    "if Not>100:\n",
    "    print(\"Notunuz 100'den büyük olamaz!\")\n",
    "elif Not>=90:\n",
    "    print(\"AA\")\n",
    "elif Not>=85:\n",
    "    print(\"BA\")\n",
    "elif Not>=80:\n",
    "    print(\"BB\")\n",
    "elif Not>=75:\n",
    "    print(\"BC\")\n",
    "elif Not>=70:\n",
    "    print(\"CC\")\n",
    "elif Not>=60:\n",
    "    print(\"CD\")\n",
    "elif Not>=50:\n",
    "    print(\"DD\")\n",
    "elif Not>=30:\n",
    "    print(\"FD\")\n",
    "elif Not>=0:\n",
    "    print(\"FF\")\n",
    "else:\n",
    "    print(\"Geçersiz Not!\")"
   ]
  },
  {
   "cell_type": "code",
   "execution_count": 579,
   "metadata": {},
   "outputs": [
    {
     "name": "stdout",
     "output_type": "stream",
     "text": [
      "Harf Notu Hesaplama Programı\n",
      "Sayısal Notunuzu Girin: -2\n",
      "Geçersiz Not!\n"
     ]
    }
   ],
   "source": [
    "print(\"Harf Notu Hesaplama Programı\")\n",
    "Not=float(input(\"Sayısal Notunuzu Girin: \"))\n",
    "if Not>100:\n",
    "    print(\"Notunuz 100'den büyük olamaz!\")\n",
    "elif Not>=90:\n",
    "    print(\"AA\")\n",
    "elif Not>=85:\n",
    "    print(\"BA\")\n",
    "elif Not>=80:\n",
    "    print(\"BB\")\n",
    "elif Not>=75:\n",
    "    print(\"BC\")\n",
    "elif Not>=70:\n",
    "    print(\"CC\")\n",
    "elif Not>=60:\n",
    "    print(\"CD\")\n",
    "elif Not>=50:\n",
    "    print(\"DD\")\n",
    "elif Not>=30:\n",
    "    print(\"FD\")\n",
    "elif Not>=0:\n",
    "    print(\"FF\")\n",
    "else:\n",
    "    print(\"Geçersiz Not!\")"
   ]
  },
  {
   "cell_type": "markdown",
   "metadata": {},
   "source": [
    "#### elif yerine if kullandığımızda ne oluyor?"
   ]
  },
  {
   "cell_type": "code",
   "execution_count": 580,
   "metadata": {},
   "outputs": [
    {
     "name": "stdout",
     "output_type": "stream",
     "text": [
      "Harf Notu Hesaplama Programı\n",
      "Sayısal Notunuzu Girin: 105\n",
      "Notunuz 100'den büyük olamaz!\n",
      "AA\n",
      "BA\n",
      "BB\n",
      "BC\n",
      "CC\n",
      "CD\n",
      "DD\n",
      "FD\n",
      "FF\n"
     ]
    }
   ],
   "source": [
    "print(\"Harf Notu Hesaplama Programı\")\n",
    "Not=float(input(\"Sayısal Notunuzu Girin: \"))\n",
    "if Not>100:\n",
    "    print(\"Notunuz 100'den büyük olamaz!\")\n",
    "if Not>=90:\n",
    "    print(\"AA\")\n",
    "if Not>=85:\n",
    "    print(\"BA\")\n",
    "if Not>=80:\n",
    "    print(\"BB\")\n",
    "if Not>=75:\n",
    "    print(\"BC\")\n",
    "if Not>=70:\n",
    "    print(\"CC\")\n",
    "if Not>=60:\n",
    "    print(\"CD\")\n",
    "if Not>=50:\n",
    "    print(\"DD\")\n",
    "if Not>=30:\n",
    "    print(\"FD\")\n",
    "if Not>=0:\n",
    "    print(\"FF\")\n",
    "else:\n",
    "    print(\"Geçersiz Not!\")"
   ]
  },
  {
   "cell_type": "code",
   "execution_count": 581,
   "metadata": {},
   "outputs": [
    {
     "name": "stdout",
     "output_type": "stream",
     "text": [
      "Harf Notu Hesaplama Programı\n",
      "Sayısal Notunuzu Girin: 62\n",
      "CD\n",
      "DD\n",
      "FD\n",
      "FF\n"
     ]
    }
   ],
   "source": [
    "print(\"Harf Notu Hesaplama Programı\")\n",
    "Not=float(input(\"Sayısal Notunuzu Girin: \"))\n",
    "if Not>100:\n",
    "    print(\"Notunuz 100'den büyük olamaz!\")\n",
    "if Not>=90:\n",
    "    print(\"AA\")\n",
    "if Not>=85:\n",
    "    print(\"BA\")\n",
    "if Not>=80:\n",
    "    print(\"BB\")\n",
    "if Not>=75:\n",
    "    print(\"BC\")\n",
    "if Not>=70:\n",
    "    print(\"CC\")\n",
    "if Not>=60:\n",
    "    print(\"CD\")\n",
    "if Not>=50:\n",
    "    print(\"DD\")\n",
    "if Not>=30:\n",
    "    print(\"FD\")\n",
    "if Not>=0:\n",
    "    print(\"FF\")\n",
    "else:\n",
    "    print(\"Geçersiz Not!\")"
   ]
  },
  {
   "cell_type": "markdown",
   "metadata": {},
   "source": [
    "#### Aynı programı elif kullanmadan sadece if ve else ile yazacak olursak:"
   ]
  },
  {
   "cell_type": "code",
   "execution_count": 582,
   "metadata": {},
   "outputs": [
    {
     "name": "stdout",
     "output_type": "stream",
     "text": [
      "Harf Notu Hesaplama Programı\n",
      "Sayısal Notunuzu Girin: 150\n",
      "Notunuz 0 ile 100 arasında olmalı!\n",
      "Geçersiz Not!\n"
     ]
    }
   ],
   "source": [
    "print(\"Harf Notu Hesaplama Programı\")\n",
    "Not=float(input(\"Sayısal Notunuzu Girin: \"))\n",
    "if Not>100 or Not<0:\n",
    "    print(\"Notunuz 0 ile 100 arasında olmalı!\")\n",
    "if Not>=90 and Not<=100:\n",
    "    print(\"AA\")\n",
    "if Not>=85 and Not<90:\n",
    "    print(\"BA\")\n",
    "if Not>=80 and Not<85:\n",
    "    print(\"BB\")\n",
    "if Not>=75 and Not<80:\n",
    "    print(\"BC\")\n",
    "if Not>=70 and Not<75:\n",
    "    print(\"CC\")\n",
    "if Not>=60 and Not<70:\n",
    "    print(\"CD\")\n",
    "if Not>=50 and Not<60:\n",
    "    print(\"DD\")\n",
    "if Not>=30 and Not<50:\n",
    "    print(\"FD\")\n",
    "if Not>=0 and Not<30:\n",
    "    print(\"FF\")\n",
    "else:\n",
    "    print(\"Geçersiz Not!\")"
   ]
  },
  {
   "cell_type": "raw",
   "metadata": {},
   "source": [
    "0 - 100 arası olmayan bir sayı girildiğinde hem en baştaki if hem de en sondaki if bloğuna ait else komutu çalıştırılıyor..."
   ]
  },
  {
   "cell_type": "code",
   "execution_count": 584,
   "metadata": {},
   "outputs": [
    {
     "name": "stdout",
     "output_type": "stream",
     "text": [
      "Harf Notu Hesaplama Programı\n",
      "Sayısal Notunuzu Girin: 85\n",
      "BA\n"
     ]
    }
   ],
   "source": [
    "print(\"Harf Notu Hesaplama Programı\")\n",
    "Not=float(input(\"Sayısal Notunuzu Girin: \"))\n",
    "if Not>100 or Not<0:\n",
    "    print(\"Notunuz 0 ile 100 arasında olmalı!\")\n",
    "if Not>=90 and Not<=100:\n",
    "    print(\"AA\")\n",
    "if Not>=85 and Not<90:\n",
    "    print(\"BA\")\n",
    "if Not>=80 and Not<85:\n",
    "    print(\"BB\")\n",
    "if Not>=75 and Not<80:\n",
    "    print(\"BC\")\n",
    "if Not>=70 and Not<75:\n",
    "    print(\"CC\")\n",
    "if Not>=60 and Not<70:\n",
    "    print(\"CD\")\n",
    "if Not>=50 and Not<60:\n",
    "    print(\"DD\")\n",
    "if Not>=30 and Not<50:\n",
    "    print(\"FD\")\n",
    "if Not>=0 and Not<30:\n",
    "    print(\"FF\")\n",
    "#else kullanmak zorunda değiliz."
   ]
  },
  {
   "cell_type": "code",
   "execution_count": 585,
   "metadata": {},
   "outputs": [
    {
     "name": "stdout",
     "output_type": "stream",
     "text": [
      "Harf Notu Hesaplama Programı\n",
      "Sayısal Notunuzu Girin: 10\n",
      "FF\n"
     ]
    }
   ],
   "source": [
    "print(\"Harf Notu Hesaplama Programı\")\n",
    "Not=float(input(\"Sayısal Notunuzu Girin: \"))\n",
    "if Not>100 or Not<0:\n",
    "    print(\"Notunuz 0 ile 100 arasında olmalı!\")\n",
    "if Not>=90 and Not<=100:\n",
    "    print(\"AA\")\n",
    "if Not>=85 and Not<90:\n",
    "    print(\"BA\")\n",
    "if Not>=80 and Not<85:\n",
    "    print(\"BB\")\n",
    "if Not>=75 and Not<80:\n",
    "    print(\"BC\")\n",
    "if Not>=70 and Not<75:\n",
    "    print(\"CC\")\n",
    "if Not>=60 and Not<70:\n",
    "    print(\"CD\")\n",
    "if Not>=50 and Not<60:\n",
    "    print(\"DD\")\n",
    "if Not>=30 and Not<50:\n",
    "    print(\"FD\")\n",
    "if Not>=0 and Not<30:\n",
    "    print(\"FF\")"
   ]
  },
  {
   "cell_type": "code",
   "execution_count": 586,
   "metadata": {},
   "outputs": [
    {
     "name": "stdout",
     "output_type": "stream",
     "text": [
      "Harf Notu Hesaplama Programı\n",
      "Sayısal Notunuzu Girin: -5\n",
      "Notunuz 0 ile 100 arasında olmalı!\n"
     ]
    }
   ],
   "source": [
    "print(\"Harf Notu Hesaplama Programı\")\n",
    "Not=float(input(\"Sayısal Notunuzu Girin: \"))\n",
    "if Not>100 or Not<0:\n",
    "    print(\"Notunuz 0 ile 100 arasında olmalı!\")\n",
    "if Not>=90 and Not<=100:\n",
    "    print(\"AA\")\n",
    "if Not>=85 and Not<90:\n",
    "    print(\"BA\")\n",
    "if Not>=80 and Not<85:\n",
    "    print(\"BB\")\n",
    "if Not>=75 and Not<80:\n",
    "    print(\"BC\")\n",
    "if Not>=70 and Not<75:\n",
    "    print(\"CC\")\n",
    "if Not>=60 and Not<70:\n",
    "    print(\"CD\")\n",
    "if Not>=50 and Not<60:\n",
    "    print(\"DD\")\n",
    "if Not>=30 and Not<50:\n",
    "    print(\"FD\")\n",
    "if Not>=0 and Not<30:\n",
    "    print(\"FF\")"
   ]
  },
  {
   "cell_type": "markdown",
   "metadata": {},
   "source": [
    "### Basit Bir Hesap Makinesi Programı"
   ]
  },
  {
   "cell_type": "code",
   "execution_count": 627,
   "metadata": {},
   "outputs": [
    {
     "name": "stdout",
     "output_type": "stream",
     "text": [
      "BASİT HESAP MAKİNEM\n",
      "İlk sayıyı giriniz.2\n",
      "İşlem listesi: Toplama: + Çıkarma: - Bölme: / Çarpma: * Üs: **\n",
      "Yapılacak işlemi giriniz:**\n",
      "İkinci Sayıyı giriniz:3\n",
      "2.0 ** 3.0 = 8.0\n"
     ]
    }
   ],
   "source": [
    "print(\"BASİT HESAP MAKİNEM\")\n",
    "ilk=float(input(\"İlk sayıyı giriniz.\"))\n",
    "print(\"İşlem listesi: Toplama: + Çıkarma: - Bölme: / Çarpma: * Üs: **\")\n",
    "operatör=str(input(\"Yapılacak işlemi giriniz:\"))\n",
    "if (operatör==\"+\" or operatör==\"-\" or operatör==\"/\" or operatör==\"*\" or operatör==\"**\"):\n",
    "    iki=float(input(\"İkinci Sayıyı giriniz:\"))\n",
    "    if operatör==\"+\":\n",
    "        print(\"{} {} {} = {}\".format(ilk,operatör,iki,ilk+iki))\n",
    "    elif operatör==\"-\":\n",
    "        print(\"{} {} {} = {}\".format(ilk,operatör,iki,ilk-iki))\n",
    "    elif operatör==\"/\":\n",
    "        print(\"{} {} {} = {}\".format(ilk,operatör,iki,ilk/iki))\n",
    "    elif operatör==\"*\":\n",
    "        print(\"{} {} {} = {}\".format(ilk,operatör,iki,ilk*iki))\n",
    "    elif operatör==\"**\":\n",
    "        print(\"{} {} {} = {}\".format(ilk,operatör,iki,ilk**iki))\n",
    "else:\n",
    "    print(\"Hatalı İşlem!\")"
   ]
  },
  {
   "cell_type": "code",
   "execution_count": 628,
   "metadata": {},
   "outputs": [
    {
     "name": "stdout",
     "output_type": "stream",
     "text": [
      "BASİT HESAP MAKİNEM\n",
      "İlk sayıyı giriniz.15\n",
      "İşlem listesi: Toplama: + Çıkarma: - Bölme: / Çarpma: * Üs: **\n",
      "Yapılacak işlemi giriniz:*\n",
      "İkinci Sayıyı giriniz:3\n",
      "15.0 * 3.0 = 45.0\n"
     ]
    }
   ],
   "source": [
    "print(\"BASİT HESAP MAKİNEM\")\n",
    "ilk=float(input(\"İlk sayıyı giriniz.\"))\n",
    "print(\"İşlem listesi: Toplama: + Çıkarma: - Bölme: / Çarpma: * Üs: **\")\n",
    "operatör=str(input(\"Yapılacak işlemi giriniz:\"))\n",
    "if (operatör==\"+\" or operatör==\"-\" or operatör==\"/\" or operatör==\"*\" or operatör==\"**\"):\n",
    "    iki=float(input(\"İkinci Sayıyı giriniz:\"))\n",
    "    if operatör==\"+\":\n",
    "        print(\"{} {} {} = {}\".format(ilk,operatör,iki,ilk+iki))\n",
    "    elif operatör==\"-\":\n",
    "        print(\"{} {} {} = {}\".format(ilk,operatör,iki,ilk-iki))\n",
    "    elif operatör==\"/\":\n",
    "        print(\"{} {} {} = {}\".format(ilk,operatör,iki,ilk/iki))\n",
    "    elif operatör==\"*\":\n",
    "        print(\"{} {} {} = {}\".format(ilk,operatör,iki,ilk*iki))\n",
    "    elif operatör==\"**\":\n",
    "        print(\"{} {} {} = {}\".format(ilk,operatör,iki,ilk**iki))\n",
    "else:\n",
    "    print(\"Hatalı İşlem!\")"
   ]
  },
  {
   "cell_type": "code",
   "execution_count": 630,
   "metadata": {},
   "outputs": [
    {
     "name": "stdout",
     "output_type": "stream",
     "text": [
      "BASİT HESAP MAKİNEM\n",
      "İlk sayıyı giriniz.25\n",
      "İşlem listesi: Toplama: + Çıkarma: - Bölme: / Çarpma: * Üs: **\n",
      "Yapılacak işlemi giriniz:/\n",
      "İkinci Sayıyı giriniz:5\n",
      "25.0 / 5.0 = 5.0\n"
     ]
    }
   ],
   "source": [
    "print(\"BASİT HESAP MAKİNEM\")\n",
    "ilk=float(input(\"İlk sayıyı giriniz.\"))\n",
    "print(\"İşlem listesi: Toplama: + Çıkarma: - Bölme: / Çarpma: * Üs: **\")\n",
    "operatör=str(input(\"Yapılacak işlemi giriniz:\"))\n",
    "if (operatör==\"+\" or operatör==\"-\" or operatör==\"/\" or operatör==\"*\" or operatör==\"**\"):\n",
    "    iki=float(input(\"İkinci Sayıyı giriniz:\"))\n",
    "    if operatör==\"+\":\n",
    "        print(\"{} {} {} = {}\".format(ilk,operatör,iki,ilk+iki))\n",
    "    elif operatör==\"-\":\n",
    "        print(\"{} {} {} = {}\".format(ilk,operatör,iki,ilk-iki))\n",
    "    elif operatör==\"/\":\n",
    "        print(\"{} {} {} = {}\".format(ilk,operatör,iki,ilk/iki))\n",
    "    elif operatör==\"*\":\n",
    "        print(\"{} {} {} = {}\".format(ilk,operatör,iki,ilk*iki))\n",
    "    elif operatör==\"**\":\n",
    "        print(\"{} {} {} = {}\".format(ilk,operatör,iki,ilk**iki))\n",
    "else:\n",
    "    print(\"Hatalı İşlem!\")"
   ]
  },
  {
   "cell_type": "code",
   "execution_count": 631,
   "metadata": {},
   "outputs": [
    {
     "name": "stdout",
     "output_type": "stream",
     "text": [
      "BASİT HESAP MAKİNEM\n",
      "İlk sayıyı giriniz.45\n",
      "İşlem listesi: Toplama: + Çıkarma: - Bölme: / Çarpma: * Üs: **\n",
      "Yapılacak işlemi giriniz:q\n",
      "Hatalı İşlem!\n"
     ]
    }
   ],
   "source": [
    "print(\"BASİT HESAP MAKİNEM\")\n",
    "ilk=float(input(\"İlk sayıyı giriniz.\"))\n",
    "print(\"İşlem listesi: Toplama: + Çıkarma: - Bölme: / Çarpma: * Üs: **\")\n",
    "operatör=str(input(\"Yapılacak işlemi giriniz:\"))\n",
    "if (operatör==\"+\" or operatör==\"-\" or operatör==\"/\" or operatör==\"*\" or operatör==\"**\"):\n",
    "    iki=float(input(\"İkinci Sayıyı giriniz:\"))\n",
    "    if operatör==\"+\":\n",
    "        print(\"{} {} {} = {}\".format(ilk,operatör,iki,ilk+iki))\n",
    "    elif operatör==\"-\":\n",
    "        print(\"{} {} {} = {}\".format(ilk,operatör,iki,ilk-iki))\n",
    "    elif operatör==\"/\":\n",
    "        print(\"{} {} {} = {}\".format(ilk,operatör,iki,ilk/iki))\n",
    "    elif operatör==\"*\":\n",
    "        print(\"{} {} {} = {}\".format(ilk,operatör,iki,ilk*iki))\n",
    "    elif operatör==\"**\":\n",
    "        print(\"{} {} {} = {}\".format(ilk,operatör,iki,ilk**iki))\n",
    "else:\n",
    "    print(\"Hatalı İşlem!\")"
   ]
  },
  {
   "cell_type": "markdown",
   "metadata": {},
   "source": [
    "### Küçük bir kullanıcı giriş uygulaması yazalım"
   ]
  },
  {
   "cell_type": "code",
   "execution_count": 632,
   "metadata": {},
   "outputs": [
    {
     "name": "stdout",
     "output_type": "stream",
     "text": [
      "Kullanıcı adını girin:murat\n",
      "Parolayı girin: 1234\n",
      "Giriş Başarılı!\n"
     ]
    }
   ],
   "source": [
    "sys_kullanıcı=\"murat\"\n",
    "sys_parola=\"1234\"\n",
    "kullanıcı=input(\"Kullanıcı adını girin:\")\n",
    "parola=input(\"Parolayı girin: \")\n",
    "if sys_kullanıcı==kullanıcı and sys_parola!=parola:\n",
    "    print(\"Yanlış Parola!\")\n",
    "elif sys_kullanıcı!=kullanıcı and sys_parola==parola:\n",
    "    print(\"Böyle Bir Kullanıcı Bulunamadı!\")\n",
    "elif sys_kullanıcı!=kullanıcı and sys_parola!=parola:\n",
    "    print(\"Kullanıcı adı ve Parola Yanlış!\")\n",
    "else:\n",
    "    print(\"Giriş Başarılı!\")"
   ]
  },
  {
   "cell_type": "code",
   "execution_count": 633,
   "metadata": {},
   "outputs": [
    {
     "name": "stdout",
     "output_type": "stream",
     "text": [
      "Kullanıcı adını girin:ahmet\n",
      "Parolayı girin: 1234\n",
      "Böyle Bir Kullanıcı Bulunamadı!\n"
     ]
    }
   ],
   "source": [
    "sys_kullanıcı=\"murat\"\n",
    "sys_parola=\"1234\"\n",
    "kullanıcı=input(\"Kullanıcı adını girin:\")\n",
    "parola=input(\"Parolayı girin: \")\n",
    "if sys_kullanıcı==kullanıcı and sys_parola!=parola:\n",
    "    print(\"Yanlış Parola!\")\n",
    "elif sys_kullanıcı!=kullanıcı and sys_parola==parola:\n",
    "    print(\"Böyle Bir Kullanıcı Bulunamadı!\")\n",
    "elif sys_kullanıcı!=kullanıcı and sys_parola!=parola:\n",
    "    print(\"Kullanıcı adı ve Parola Yanlış!\")\n",
    "else:\n",
    "    print(\"Giriş Başarılı!\")"
   ]
  },
  {
   "cell_type": "code",
   "execution_count": 634,
   "metadata": {},
   "outputs": [
    {
     "name": "stdout",
     "output_type": "stream",
     "text": [
      "Kullanıcı adını girin:murat\n",
      "Parolayı girin: 2\n",
      "Yanlış Parola!\n"
     ]
    }
   ],
   "source": [
    "sys_kullanıcı=\"murat\"\n",
    "sys_parola=\"1234\"\n",
    "kullanıcı=input(\"Kullanıcı adını girin:\")\n",
    "parola=input(\"Parolayı girin: \")\n",
    "if sys_kullanıcı==kullanıcı and sys_parola!=parola:\n",
    "    print(\"Yanlış Parola!\")\n",
    "elif sys_kullanıcı!=kullanıcı and sys_parola==parola:\n",
    "    print(\"Böyle Bir Kullanıcı Bulunamadı!\")\n",
    "elif sys_kullanıcı!=kullanıcı and sys_parola!=parola:\n",
    "    print(\"Kullanıcı adı ve Parola Yanlış!\")\n",
    "else:\n",
    "    print(\"Giriş Başarılı!\")"
   ]
  },
  {
   "cell_type": "code",
   "execution_count": 635,
   "metadata": {},
   "outputs": [
    {
     "name": "stdout",
     "output_type": "stream",
     "text": [
      "Kullanıcı adını girin:\n",
      "Parolayı girin: \n",
      "Kullanıcı adı ve Parola Yanlış!\n"
     ]
    }
   ],
   "source": [
    "sys_kullanıcı=\"murat\"\n",
    "sys_parola=\"1234\"\n",
    "kullanıcı=input(\"Kullanıcı adını girin:\")\n",
    "parola=input(\"Parolayı girin: \")\n",
    "if sys_kullanıcı==kullanıcı and sys_parola!=parola:\n",
    "    print(\"Yanlış Parola!\")\n",
    "elif sys_kullanıcı!=kullanıcı and sys_parola==parola:\n",
    "    print(\"Böyle Bir Kullanıcı Bulunamadı!\")\n",
    "elif sys_kullanıcı!=kullanıcı and sys_parola!=parola:\n",
    "    print(\"Kullanıcı adı ve Parola Yanlış!\")\n",
    "else:\n",
    "    print(\"Giriş Başarılı!\")"
   ]
  },
  {
   "cell_type": "markdown",
   "metadata": {},
   "source": [
    "#### Beden kitle endeksini hesaplayıp yorumlayan bir uygulama yazalım"
   ]
  },
  {
   "cell_type": "code",
   "execution_count": 636,
   "metadata": {},
   "outputs": [
    {
     "name": "stdout",
     "output_type": "stream",
     "text": [
      "*******************************\n",
      "Beden Kitle Endeksi Hesaplama\n",
      "*******************************\n",
      "Boyunuzu cm olarak giriniz: 177\n",
      "Kilonuzu kg olarak giriniz: 80\n",
      "Beden Kitle Endexiniz: 25.54\n",
      "Fazla Kilolu Kategorisindesiniz.\n"
     ]
    }
   ],
   "source": [
    "print(\"\"\"*******************************\n",
    "Beden Kitle Endeksi Hesaplama\n",
    "*******************************\"\"\")\n",
    "boy=int(input(\"Boyunuzu cm olarak giriniz: \"))\n",
    "kilo=float(input(\"Kilonuzu kg olarak giriniz: \"))\n",
    "endex=kilo/((boy/100)**2)\n",
    "print(\"Beden Kitle Endexiniz: {:.2f}\".format(endex))\n",
    "if endex<18.50:\n",
    "    print(\"Zayıf Kategorisindesiniz.\")\n",
    "elif endex>=18.50 and endex<25:\n",
    "    print(\"Normal Kategorisindesiniz.\")\n",
    "elif endex>=25 and endex<30:\n",
    "    print(\"Fazla Kilolu Kategorisindesiniz.\")\n",
    "else:\n",
    "    print(\"Obez Kategorisindesiniz.\")"
   ]
  },
  {
   "cell_type": "code",
   "execution_count": 637,
   "metadata": {},
   "outputs": [
    {
     "name": "stdout",
     "output_type": "stream",
     "text": [
      "*******************************\n",
      "Beden Kitle Endeksi Hesaplama\n",
      "*******************************\n",
      "Boyunuzu cm olarak giriniz: 177\n",
      "Kilonuzu kg olarak giriniz: 45\n",
      "Beden Kitle Endexiniz: 14.36\n",
      "Zayıf Kategorisindesiniz.\n"
     ]
    }
   ],
   "source": [
    "print(\"\"\"*******************************\n",
    "Beden Kitle Endeksi Hesaplama\n",
    "*******************************\"\"\")\n",
    "boy=int(input(\"Boyunuzu cm olarak giriniz: \"))\n",
    "kilo=float(input(\"Kilonuzu kg olarak giriniz: \"))\n",
    "endex=kilo/((boy/100)**2)\n",
    "print(\"Beden Kitle Endexiniz: {:.2f}\".format(endex))\n",
    "if endex<18.50:\n",
    "    print(\"Zayıf Kategorisindesiniz.\")\n",
    "elif endex>=18.50 and endex<25:\n",
    "    print(\"Normal Kategorisindesiniz.\")\n",
    "elif endex>=25 and endex<30:\n",
    "    print(\"Fazla Kilolu Kategorisindesiniz.\")\n",
    "else:\n",
    "    print(\"Obez Kategorisindesiniz.\")"
   ]
  },
  {
   "cell_type": "markdown",
   "metadata": {},
   "source": [
    "#### Girilen 5 sayıdan en büyüğünü bulan uygulama yazalım"
   ]
  },
  {
   "cell_type": "code",
   "execution_count": 1,
   "metadata": {},
   "outputs": [
    {
     "name": "stdout",
     "output_type": "stream",
     "text": [
      "*******************************\n",
      "En Büyük Sayıyı Bulma\n",
      "*******************************\n",
      "Birinci Sayı: 55\n",
      "İkinci Sayı: 49\n",
      "Üçüncü Sayı: -5\n",
      "Dördüncü Sayı: 60\n",
      "Beşinci Sayı: 4\n",
      "En büyük Sayı: 60.0\n"
     ]
    }
   ],
   "source": [
    "print(\"\"\"*******************************\n",
    "En Büyük Sayıyı Bulma\n",
    "*******************************\"\"\")\n",
    "sayi1=float(input(\"Birinci Sayı: \"))\n",
    "sayi2=float(input(\"İkinci Sayı: \"))\n",
    "sayi3=float(input(\"Üçüncü Sayı: \"))\n",
    "sayi4=float(input(\"Dördüncü Sayı: \"))\n",
    "sayi5=float(input(\"Beşinci Sayı: \"))\n",
    "\n",
    "if (sayi1>=sayi2 and sayi1>=sayi3 and sayi1>=sayi4 and sayi1>=sayi5):\n",
    "    print(\"En büyük Sayı:\", sayi1)\n",
    "elif (sayi2>=sayi1 and sayi2>=sayi3 and sayi2>=sayi4 and sayi2>=sayi5):\n",
    "    print (\"En büyük Sayı:\", sayi2)\n",
    "elif (sayi3>=sayi1 and sayi3>=sayi2 and sayi3>=sayi4 and sayi3>=sayi5):\n",
    "    print(\"En büyük Sayı:\", sayi3)\n",
    "elif (sayi4>=sayi1 and sayi4>=sayi2 and sayi4>=sayi3 and sayi4>=sayi5):\n",
    "    print(\"En büyük Sayı:\", sayi4)\n",
    "else:\n",
    "    print(\"En büyük Sayı:\",sayi5)"
   ]
  },
  {
   "cell_type": "markdown",
   "metadata": {},
   "source": [
    "#### Vize1 vize2 ve final puanlarının ağırlıklı ortalamalarını alıp, harf notuna çeviren, aynı zamanda muzıp kişilerin numaralarını yemeyen (sınav puanlarını 0-100 aralığı dışında girşi kabul etmeyen) bir uygulama yazalım..."
   ]
  },
  {
   "cell_type": "code",
   "execution_count": 2,
   "metadata": {},
   "outputs": [
    {
     "name": "stdout",
     "output_type": "stream",
     "text": [
      "*******************************\n",
      "Harf Notu Hesaplama\n",
      "*******************************\n",
      "Vize 1 Sınav Puanınızı Girin: 98\n",
      "Vize 2 Sınav Puanınızı Girin: 52\n",
      "Final Sınav Puanınızı Girin: 66\n",
      "Not Ortalamanız: 71.4\n",
      "Harf Notunuz: CC\n"
     ]
    }
   ],
   "source": [
    "print(\"\"\"*******************************\n",
    "Harf Notu Hesaplama\n",
    "*******************************\"\"\")\n",
    "vize1=int(input(\"Vize 1 Sınav Puanınızı Girin: \"))\n",
    "if (vize1>100 or vize1<0):\n",
    "    print(\"Notunuz 0 ile 100 arasında olmalı!\")\n",
    "else:\n",
    "    vize2=int(input(\"Vize 2 Sınav Puanınızı Girin: \"))\n",
    "    if (vize2>100 or vize2<0):\n",
    "        print(\"Notunuz 0 ile 100 arasında olmalı!\")\n",
    "    else:\n",
    "        final=int(input(\"Final Sınav Puanınızı Girin: \"))\n",
    "        if (final>100 or final<0):\n",
    "            print(\"Notunuz 0 ile 100 arasında olmalı!\")\n",
    "        else:\n",
    "            ort=(vize1*0.3+vize2*0.3+final*0.4)\n",
    "            print(\"Not Ortalamanız:\",ort)\n",
    "            if ort>=90:\n",
    "                print(\"Harf Notunuz: AA\")\n",
    "            elif ort>=85:\n",
    "                print(\"Harf Notunuz: BA\")\n",
    "            elif ort>=80:\n",
    "                print(\"Harf Notunuz: BB\")\n",
    "            elif ort>=75:\n",
    "                print(\"Harf Notunuz: CB\")\n",
    "            elif ort>=70:\n",
    "                print(\"Harf Notunuz: CC\")\n",
    "            elif ort>=65:\n",
    "                print(\"Harf Notunuz: CD\")\n",
    "            elif ort>=60:\n",
    "                print(\"Harf Notunuz: DD\")\n",
    "            elif ort>=55:\n",
    "                print(\"Harf Notunuz: FD\")\n",
    "            else:\n",
    "                print(\"Harf Notunuz: FF\")"
   ]
  },
  {
   "cell_type": "code",
   "execution_count": 3,
   "metadata": {},
   "outputs": [
    {
     "name": "stdout",
     "output_type": "stream",
     "text": [
      "*******************************\n",
      "Harf Notu Hesaplama\n",
      "*******************************\n",
      "Vize 1 Sınav Puanınızı Girin: 110\n",
      "Notunuz 0 ile 100 arasında olmalı!\n"
     ]
    }
   ],
   "source": [
    "print(\"\"\"*******************************\n",
    "Harf Notu Hesaplama\n",
    "*******************************\"\"\")\n",
    "vize1=int(input(\"Vize 1 Sınav Puanınızı Girin: \"))\n",
    "if (vize1>100 or vize1<0):\n",
    "    print(\"Notunuz 0 ile 100 arasında olmalı!\")\n",
    "else:\n",
    "    vize2=int(input(\"Vize 2 Sınav Puanınızı Girin: \"))\n",
    "    if (vize2>100 or vize2<0):\n",
    "        print(\"Notunuz 0 ile 100 arasında olmalı!\")\n",
    "    else:\n",
    "        final=int(input(\"Final Sınav Puanınızı Girin: \"))\n",
    "        if (final>100 or final<0):\n",
    "            print(\"Notunuz 0 ile 100 arasında olmalı!\")\n",
    "        else:\n",
    "            ort=(vize1*0.3+vize2*0.3+final*0.4)\n",
    "            print(\"Not Ortalamanız:\",ort)\n",
    "            if ort>=90:\n",
    "                print(\"Harf Notunuz: AA\")\n",
    "            elif ort>=85:\n",
    "                print(\"Harf Notunuz: BA\")\n",
    "            elif ort>=80:\n",
    "                print(\"Harf Notunuz: BB\")\n",
    "            elif ort>=75:\n",
    "                print(\"Harf Notunuz: CB\")\n",
    "            elif ort>=70:\n",
    "                print(\"Harf Notunuz: CC\")\n",
    "            elif ort>=65:\n",
    "                print(\"Harf Notunuz: CD\")\n",
    "            elif ort>=60:\n",
    "                print(\"Harf Notunuz: DD\")\n",
    "            elif ort>=55:\n",
    "                print(\"Harf Notunuz: FD\")\n",
    "            else:\n",
    "                print(\"Harf Notunuz: FF\")"
   ]
  },
  {
   "cell_type": "code",
   "execution_count": 4,
   "metadata": {},
   "outputs": [
    {
     "name": "stdout",
     "output_type": "stream",
     "text": [
      "*******************************\n",
      "Harf Notu Hesaplama\n",
      "*******************************\n",
      "Vize 1 Sınav Puanınızı Girin: 97\n",
      "Vize 2 Sınav Puanınızı Girin: 63\n",
      "Final Sınav Puanınızı Girin: -15\n",
      "Notunuz 0 ile 100 arasında olmalı!\n"
     ]
    }
   ],
   "source": [
    "print(\"\"\"*******************************\n",
    "Harf Notu Hesaplama\n",
    "*******************************\"\"\")\n",
    "vize1=int(input(\"Vize 1 Sınav Puanınızı Girin: \"))\n",
    "if (vize1>100 or vize1<0):\n",
    "    print(\"Notunuz 0 ile 100 arasında olmalı!\")\n",
    "else:\n",
    "    vize2=int(input(\"Vize 2 Sınav Puanınızı Girin: \"))\n",
    "    if (vize2>100 or vize2<0):\n",
    "        print(\"Notunuz 0 ile 100 arasında olmalı!\")\n",
    "    else:\n",
    "        final=int(input(\"Final Sınav Puanınızı Girin: \"))\n",
    "        if (final>100 or final<0):\n",
    "            print(\"Notunuz 0 ile 100 arasında olmalı!\")\n",
    "        else:\n",
    "            ort=(vize1*0.3+vize2*0.3+final*0.4)\n",
    "            print(\"Not Ortalamanız:\",ort)\n",
    "            if ort>=90:\n",
    "                print(\"Harf Notunuz: AA\")\n",
    "            elif ort>=85:\n",
    "                print(\"Harf Notunuz: BA\")\n",
    "            elif ort>=80:\n",
    "                print(\"Harf Notunuz: BB\")\n",
    "            elif ort>=75:\n",
    "                print(\"Harf Notunuz: CB\")\n",
    "            elif ort>=70:\n",
    "                print(\"Harf Notunuz: CC\")\n",
    "            elif ort>=65:\n",
    "                print(\"Harf Notunuz: CD\")\n",
    "            elif ort>=60:\n",
    "                print(\"Harf Notunuz: DD\")\n",
    "            elif ort>=55:\n",
    "                print(\"Harf Notunuz: FD\")\n",
    "            else:\n",
    "                print(\"Harf Notunuz: FF\")"
   ]
  },
  {
   "cell_type": "markdown",
   "metadata": {},
   "source": [
    "#### üçgen ve dörtgen şeklin  kenar uzunluklarını alarak değerlendiren bir uygulama"
   ]
  },
  {
   "cell_type": "code",
   "execution_count": 639,
   "metadata": {},
   "outputs": [
    {
     "name": "stdout",
     "output_type": "stream",
     "text": [
      "\n",
      "1. Üçgen\n",
      "2. Dörtgen\n",
      "\n",
      "Şekli seçiniz: 1\n",
      "Üçgenin a kenarı: 15\n",
      "Üçgenin b kenarı: 5\n",
      "Üçgenin c kenarı: 8\n",
      "Girilen kenar uzunlukları üçgen oluşturmaz\n"
     ]
    }
   ],
   "source": [
    "print(\"\"\"\n",
    "1. Üçgen\n",
    "2. Dörtgen\n",
    "\"\"\")\n",
    "sekil=input(\"Şekli seçiniz: \")\n",
    "if sekil==\"1\":\n",
    "    a=float(input(\"Üçgenin a kenarı: \"))\n",
    "    b=float(input(\"Üçgenin b kenarı: \"))\n",
    "    c=float(input(\"Üçgenin c kenarı: \"))\n",
    "    if (((a+b)<c or (a+c)<b or (b+c)<a) or (abs(a-b)>c or abs(a-c)>b or abs(b-c)>a)):\n",
    "        print(\"Girilen kenar uzunlukları üçgen oluşturmaz\")\n",
    "    elif (a==b and b==c):\n",
    "        print(\"Bu bir eşkenar Üçgendir.\")\n",
    "    elif ((a==b and b!=c) or (a==c and b!=a) or (b==c and a!=c)):\n",
    "        print (\"Bu bir ikizkenar üçgendir.\")\n",
    "    else:\n",
    "        print (\"Bu bir çeşitkenar üçgendir.\")\n",
    "elif sekil==\"2\":\n",
    "    a = float(input(\"Dörtgenin a kenarı: \"))\n",
    "    b = float(input(\"Dörtgenin b kenarı: \"))\n",
    "    c = float(input(\"Dörtgenin c kenarı: \"))\n",
    "    d = float(input(\"Dörtgenin d kenarı: \"))\n",
    "    if (a==b)and (b==c) and (c==d):\n",
    "        print(\"Bu bir karedir.\")\n",
    "    elif a==c and b==d and a!=b:\n",
    "        print(\"Bu bir dikdörtgendir.\")\n",
    "    else:\n",
    "        print(\"Bu bir dörtgendir.\")\n",
    "else:\n",
    "    print(\"Hatalı Giriş Yaptınız.\")"
   ]
  },
  {
   "cell_type": "code",
   "execution_count": 7,
   "metadata": {},
   "outputs": [
    {
     "name": "stdout",
     "output_type": "stream",
     "text": [
      "\n",
      "1. Üçgen\n",
      "2. Dörtgen\n",
      "\n",
      "Şekli seçiniz: 1\n",
      "Üçgenin a kenarı: 45\n",
      "Üçgenin b kenarı: 6\n",
      "Üçgenin c kenarı: 32\n",
      "Girilen kenar uzunlukları üçgen oluşturmaz\n"
     ]
    }
   ],
   "source": [
    "print(\"\"\"\n",
    "1. Üçgen\n",
    "2. Dörtgen\n",
    "\"\"\")\n",
    "sekil=input(\"Şekli seçiniz: \")\n",
    "if sekil==\"1\":\n",
    "    a=float(input(\"Üçgenin a kenarı: \"))\n",
    "    b=float(input(\"Üçgenin b kenarı: \"))\n",
    "    c=float(input(\"Üçgenin c kenarı: \"))\n",
    "    if (((a+b)<c or (a+c)<b or (b+c)<a) or (abs(a-b)>c or abs(a-c)>b or abs(b-c)>a)):\n",
    "        print(\"Girilen kenar uzunlukları üçgen oluşturmaz\")\n",
    "    elif (a==b and b==c):\n",
    "        print(\"Bu bir eşkenar Üçgendir.\")\n",
    "    elif ((a==b and b!=c) or (a==c and b!=a) or (b==c and a!=c)):\n",
    "        print (\"Bu bir ikizkenar üçgendir.\")\n",
    "    else:\n",
    "        print (\"Bu bir çeşitkenar üçgendir.\")\n",
    "elif sekil==\"2\":\n",
    "    a = float(input(\"Dörtgenin a kenarı: \"))\n",
    "    b = float(input(\"Dörtgenin b kenarı: \"))\n",
    "    c = float(input(\"Dörtgenin c kenarı: \"))\n",
    "    d = float(input(\"Dörtgenin d kenarı: \"))\n",
    "    if (a==b)and (b==c) and (c==d):\n",
    "        print(\"Bu bir karedir.\")\n",
    "    elif a==c and b==d and a!=b:\n",
    "        print(\"Bu bir dikdörtgendir.\")\n",
    "    else:\n",
    "        print(\"Bu bir dörtgendir.\")\n",
    "else:\n",
    "    print(\"Hatalı Giriş Yaptınız.\")"
   ]
  },
  {
   "cell_type": "markdown",
   "metadata": {},
   "source": [
    "# Döngü Yapıları, for ve while"
   ]
  },
  {
   "cell_type": "markdown",
   "metadata": {},
   "source": [
    "## in operatörü"
   ]
  },
  {
   "cell_type": "raw",
   "metadata": {},
   "source": [
    "in operatörü karakterin veya elamanın, sayının belirteceğimiz bir stringin içinde geçip geçmediğini, bir list te veya demette olup olmadığını kontrol eder"
   ]
  },
  {
   "cell_type": "code",
   "execution_count": 8,
   "metadata": {},
   "outputs": [
    {
     "data": {
      "text/plain": [
       "True"
      ]
     },
     "execution_count": 8,
     "metadata": {},
     "output_type": "execute_result"
    }
   ],
   "source": [
    "\"t\" in \"murat\""
   ]
  },
  {
   "cell_type": "code",
   "execution_count": 9,
   "metadata": {},
   "outputs": [
    {
     "data": {
      "text/plain": [
       "True"
      ]
     },
     "execution_count": 9,
     "metadata": {},
     "output_type": "execute_result"
    }
   ],
   "source": [
    "\"mur\" in \"murat\""
   ]
  },
  {
   "cell_type": "code",
   "execution_count": 10,
   "metadata": {},
   "outputs": [
    {
     "data": {
      "text/plain": [
       "False"
      ]
     },
     "execution_count": 10,
     "metadata": {},
     "output_type": "execute_result"
    }
   ],
   "source": [
    "\"ta\" in \"murat\""
   ]
  },
  {
   "cell_type": "code",
   "execution_count": 11,
   "metadata": {},
   "outputs": [
    {
     "data": {
      "text/plain": [
       "True"
      ]
     },
     "execution_count": 11,
     "metadata": {},
     "output_type": "execute_result"
    }
   ],
   "source": [
    "5 in [3,4,5,6]"
   ]
  },
  {
   "cell_type": "code",
   "execution_count": 12,
   "metadata": {},
   "outputs": [
    {
     "data": {
      "text/plain": [
       "False"
      ]
     },
     "execution_count": 12,
     "metadata": {},
     "output_type": "execute_result"
    }
   ],
   "source": [
    "8 in [3,4,5,6]"
   ]
  },
  {
   "cell_type": "code",
   "execution_count": 22,
   "metadata": {},
   "outputs": [
    {
     "data": {
      "text/plain": [
       "True"
      ]
     },
     "execution_count": 22,
     "metadata": {},
     "output_type": "execute_result"
    }
   ],
   "source": [
    "not 8 in [3,4,5,6]"
   ]
  },
  {
   "cell_type": "code",
   "execution_count": 13,
   "metadata": {},
   "outputs": [
    {
     "data": {
      "text/plain": [
       "True"
      ]
     },
     "execution_count": 13,
     "metadata": {},
     "output_type": "execute_result"
    }
   ],
   "source": [
    "3 in (1,2,3)"
   ]
  },
  {
   "cell_type": "code",
   "execution_count": 16,
   "metadata": {},
   "outputs": [
    {
     "name": "stdout",
     "output_type": "stream",
     "text": [
      "{'selami': 1, 'ahmet': 2, 'murat': 3, 'bekir': 4}\n"
     ]
    }
   ],
   "source": [
    "sozl={\"selami\":1,\"ahmet\":2, \"murat\":3, \"bekir\":4}\n",
    "print(sozl)"
   ]
  },
  {
   "cell_type": "code",
   "execution_count": 18,
   "metadata": {},
   "outputs": [
    {
     "data": {
      "text/plain": [
       "True"
      ]
     },
     "execution_count": 18,
     "metadata": {},
     "output_type": "execute_result"
    }
   ],
   "source": [
    "\"selami\" in sozl"
   ]
  },
  {
   "cell_type": "code",
   "execution_count": 19,
   "metadata": {},
   "outputs": [
    {
     "data": {
      "text/plain": [
       "False"
      ]
     },
     "execution_count": 19,
     "metadata": {},
     "output_type": "execute_result"
    }
   ],
   "source": [
    "1 in sozl"
   ]
  },
  {
   "cell_type": "code",
   "execution_count": 21,
   "metadata": {},
   "outputs": [
    {
     "data": {
      "text/plain": [
       "True"
      ]
     },
     "execution_count": 21,
     "metadata": {},
     "output_type": "execute_result"
    }
   ],
   "source": [
    "1 in sozl.values()"
   ]
  },
  {
   "cell_type": "code",
   "execution_count": 26,
   "metadata": {},
   "outputs": [
    {
     "data": {
      "text/plain": [
       "False"
      ]
     },
     "execution_count": 26,
     "metadata": {},
     "output_type": "execute_result"
    }
   ],
   "source": [
    "3 in sozl.items()"
   ]
  },
  {
   "cell_type": "code",
   "execution_count": 27,
   "metadata": {},
   "outputs": [
    {
     "data": {
      "text/plain": [
       "False"
      ]
     },
     "execution_count": 27,
     "metadata": {},
     "output_type": "execute_result"
    }
   ],
   "source": [
    "\"selami\" in sozl.items()"
   ]
  },
  {
   "cell_type": "markdown",
   "metadata": {},
   "source": [
    "## for döngüsü"
   ]
  },
  {
   "cell_type": "raw",
   "metadata": {},
   "source": [
    "for eleman in veriyapisi[]\n",
    "    yapılacak işlem\n",
    "yukarıdaki şekilde kullanılan for döngüsünde, eleman kelimesi bizim seçeceğimiz bir karakter ya da kelime vs. olup string, demet, liste, sözlük gibi herhangi bir veri yapısı içindeki her bir elemana kendisini eşitler.\n",
    "Alt satırda girinti ile işlem tanımlanır ve veri yapısındaki her eleman için işlem tekrarlanır."
   ]
  },
  {
   "cell_type": "code",
   "execution_count": 31,
   "metadata": {},
   "outputs": [
    {
     "name": "stdout",
     "output_type": "stream",
     "text": [
      "M\n",
      "E\n",
      "R\n",
      "H\n",
      "A\n",
      "B\n",
      "A\n"
     ]
    }
   ],
   "source": [
    "for harf in \"MERHABA\":\n",
    "    print(harf)"
   ]
  },
  {
   "cell_type": "code",
   "execution_count": 32,
   "metadata": {},
   "outputs": [
    {
     "name": "stdout",
     "output_type": "stream",
     "text": [
      "MMMMM\n",
      "EEEEE\n",
      "RRRRR\n",
      "HHHHH\n",
      "AAAAA\n",
      "BBBBB\n",
      "AAAAA\n"
     ]
    }
   ],
   "source": [
    "for harf in \"MERHABA\":\n",
    "    print(harf*5)"
   ]
  },
  {
   "cell_type": "code",
   "execution_count": 33,
   "metadata": {},
   "outputs": [
    {
     "name": "stdout",
     "output_type": "stream",
     "text": [
      "1\n",
      "4\n",
      "9\n",
      "16\n",
      "25\n",
      "36\n"
     ]
    }
   ],
   "source": [
    "orneklist=[1,2,3,4,5,6]\n",
    "for i in orneklist:\n",
    "    print(i**2)"
   ]
  },
  {
   "cell_type": "code",
   "execution_count": 46,
   "metadata": {},
   "outputs": [
    {
     "name": "stdout",
     "output_type": "stream",
     "text": [
      "1\n",
      "2\n",
      "3\n",
      "4\n",
      "5\n",
      "6\n"
     ]
    }
   ],
   "source": [
    "orneklist=[1,2,3,4,5,6]\n",
    "for i in orneklist:\n",
    "    toplam=0\n",
    "    toplam +=i\n",
    "    print(toplam)\n",
    "#burada dikkat edileceği üzere toplam değişkenini işlemden önce tanımalamamız gerekiyor. toplam değişkenini for döngüsü\n",
    "#içinde tanımlaığımızda önce ilk değer olan 0 a liste ilk elemanı 1 ekliyor, print(toplam) girintili ise (for döngüsü\n",
    "#içindeyse) print çalıştırıyor ve sonuç 1. Sonra başa dönünce toplam=0 tekrar tanımlayıp ikinci i değeri olan 2 yi ekliyor\n",
    "# print ediyor sonuç 2. Listede 6 elemanına kadar bu şekilde gidiyor."
   ]
  },
  {
   "cell_type": "code",
   "execution_count": 47,
   "metadata": {},
   "outputs": [
    {
     "name": "stdout",
     "output_type": "stream",
     "text": [
      "6\n"
     ]
    }
   ],
   "source": [
    "orneklist=[1,2,3,4,5,6]\n",
    "for i in orneklist:\n",
    "    toplam=0\n",
    "    toplam +=i\n",
    "print(toplam)\n",
    "#print komutunu for döngüsü dışına alınca, toplam=0 tanımlayıp sonra ilk i değeri 1 ekliyor, sonra geri dönüp tekrar\n",
    "# toplam=0 yapıp ikinci i değeri olan 2 ekliyor ve tekrar başa dönüyor, döngü bu şekilde en son toplam=0+6 dan\n",
    "#toplam=6 olunca döngü bitiyor ve sonraki fonksiyon print(toplam) ile 6 yazdırılmış oluyor."
   ]
  },
  {
   "cell_type": "code",
   "execution_count": 49,
   "metadata": {
    "scrolled": true
   },
   "outputs": [
    {
     "name": "stdout",
     "output_type": "stream",
     "text": [
      "1\n",
      "3\n",
      "6\n",
      "10\n",
      "15\n",
      "21\n"
     ]
    }
   ],
   "source": [
    "orneklist=[1,2,3,4,5,6]\n",
    "toplam=0\n",
    "for i in orneklist:\n",
    "    toplam +=i\n",
    "    print(toplam)\n",
    "#buradan anlaşılacağı üzere her seferinde toplam değişkenini tekrar 0 a eşitlememesi için bu değişkeni döngüden önce\n",
    "#tanımlayalım. Bu defa da print(toplam) döngü içinde olduğu için 0+1=1, 1+2=3,3+4=7.....15+6=21 sonucu çıkıyor."
   ]
  },
  {
   "cell_type": "code",
   "execution_count": 53,
   "metadata": {},
   "outputs": [
    {
     "name": "stdout",
     "output_type": "stream",
     "text": [
      "Toplam: 1 Eleman: 1\n",
      "Toplam: 3 Eleman: 2\n",
      "Toplam: 6 Eleman: 3\n",
      "Toplam: 10 Eleman: 4\n",
      "Toplam: 15 Eleman: 5\n",
      "Toplam: 21 Eleman: 6\n"
     ]
    }
   ],
   "source": [
    "orneklist=[1,2,3,4,5,6]\n",
    "toplam=0\n",
    "for i in orneklist:\n",
    "    toplam +=i\n",
    "    print(\"Toplam: {} Eleman: {}\".format(toplam,i))\n",
    "#daha açıklayıcı bir kullanım"
   ]
  },
  {
   "cell_type": "code",
   "execution_count": 50,
   "metadata": {},
   "outputs": [
    {
     "name": "stdout",
     "output_type": "stream",
     "text": [
      "21\n"
     ]
    }
   ],
   "source": [
    "orneklist=[1,2,3,4,5,6]\n",
    "toplam=0\n",
    "for i in orneklist:\n",
    "    toplam +=i\n",
    "print(toplam)\n",
    "#print fonksiyonunu da for döngüsü dışına alıdığımızda, phyton önce orneklist tanımlıyor, sonra toplam tanımlıyor,\n",
    "#sonra for döngüsü başlatıp toplam değişkeni=0 değerine sırayla tüm i değerlerini ekleyerek sonuçta\n",
    "#liste içindeki tüm elemanların toplamına ulaşmış oluyor ve döngü bitiyor. print(toplam) ile son değer yazdırılıyor."
   ]
  },
  {
   "cell_type": "code",
   "execution_count": 51,
   "metadata": {},
   "outputs": [
    {
     "name": "stdout",
     "output_type": "stream",
     "text": [
      "21\n"
     ]
    }
   ],
   "source": [
    "orneklist=[1,2,3,4,5,6]\n",
    "toplam=0\n",
    "for i in orneklist:\n",
    "    toplam = toplam+i\n",
    "print(toplam)\n",
    "#aynı şeyin laciverti"
   ]
  },
  {
   "cell_type": "code",
   "execution_count": 61,
   "metadata": {},
   "outputs": [
    {
     "name": "stdout",
     "output_type": "stream",
     "text": [
      "23/4 kalanı: 3\n",
      "45/4 kalanı: 1\n",
      "2/4 kalanı: 2\n",
      "6/4 kalanı: 2\n",
      "36/4 kalanı: 0\n",
      "396/4 kalanı: 0\n",
      "98/4 kalanı: 2\n",
      "577/4 kalanı: 1\n",
      "43/4 kalanı: 3\n"
     ]
    }
   ],
   "source": [
    "orneklist1=[23,45,2,6,36,396,98,577,43]\n",
    "kalan=0\n",
    "for i in orneklist1:\n",
    "    kalan=i%4\n",
    "    print(\"{}/4 kalanı: {}\".format(i,kalan))\n",
    "#listedeki her bir elemanın 4e bölümünden kalanı yazdıralım."
   ]
  },
  {
   "cell_type": "code",
   "execution_count": 71,
   "metadata": {},
   "outputs": [
    {
     "name": "stdout",
     "output_type": "stream",
     "text": [
      "Listedeki Çift Sayılar: 2\n",
      "Listedeki Çift Sayılar: 6\n",
      "Listedeki Çift Sayılar: 36\n",
      "Listedeki Çift Sayılar: 396\n",
      "Listedeki Çift Sayılar: 98\n"
     ]
    }
   ],
   "source": [
    "orneklist1=[23,45,2,6,36,396,98,577,43]\n",
    "for i in orneklist1:\n",
    "    if (i%2)==0:\n",
    "        print(\"Listedeki Çift Sayılar: {}\".format(i))\n",
    "#listedeki çift sayıları yazdıralım."
   ]
  },
  {
   "cell_type": "raw",
   "metadata": {},
   "source": [
    "Aynı şeyler demetler (tuple) için de geçerli ancak, liste içinde demet, liste içinde liste, sözlükler içinde for nasıl çalışır?\n",
    "for eleman in liste dediğimiz zaman eleman=listedeki her elemanı sırayla temsil ediyor, ancak liste içindeki elemanlar da birer liste veya demetse?"
   ]
  },
  {
   "cell_type": "code",
   "execution_count": 75,
   "metadata": {},
   "outputs": [
    {
     "name": "stdout",
     "output_type": "stream",
     "text": [
      "(1, 2)\n",
      "(3, 4)\n",
      "(5, 6)\n",
      "(7, 8)\n"
     ]
    }
   ],
   "source": [
    "ornekliste2=[(1,2),(3,4),(5,6),(7,8)]\n",
    "for i in ornekliste2:\n",
    "    print (i)\n",
    "#görüldüğü gibi her bir demet bir eleman"
   ]
  },
  {
   "cell_type": "code",
   "execution_count": 78,
   "metadata": {},
   "outputs": [
    {
     "name": "stdout",
     "output_type": "stream",
     "text": [
      "x= 1 y= 2\n",
      "x= 3 y= 4\n",
      "x= 5 y= 6\n",
      "x= 7 y= 8\n"
     ]
    }
   ],
   "source": [
    "ornekliste2=[(1,2),(3,4),(5,6),(7,8)]\n",
    "for (x,y) in ornekliste2:\n",
    "    print(\"x=\",x, \"y=\",y)\n",
    "#bu şekilde bir tanımlamayla eleman içinde elemanları da işleme tabi tutabiliriz."
   ]
  },
  {
   "cell_type": "code",
   "execution_count": 82,
   "metadata": {},
   "outputs": [
    {
     "name": "stdout",
     "output_type": "stream",
     "text": [
      "x= 1 y= 2\n",
      "x= 3 y= 4\n",
      "x= 5 y= 6\n",
      "x= 7 y= 8\n"
     ]
    },
    {
     "ename": "ValueError",
     "evalue": "too many values to unpack (expected 2)",
     "output_type": "error",
     "traceback": [
      "\u001b[1;31m---------------------------------------------------------------------------\u001b[0m",
      "\u001b[1;31mValueError\u001b[0m                                Traceback (most recent call last)",
      "\u001b[1;32m<ipython-input-82-9d07fa1bfa67>\u001b[0m in \u001b[0;36m<module>\u001b[1;34m\u001b[0m\n\u001b[0;32m      1\u001b[0m \u001b[0mornekliste2\u001b[0m\u001b[1;33m=\u001b[0m\u001b[1;33m[\u001b[0m\u001b[1;33m[\u001b[0m\u001b[1;36m1\u001b[0m\u001b[1;33m,\u001b[0m\u001b[1;36m2\u001b[0m\u001b[1;33m]\u001b[0m\u001b[1;33m,\u001b[0m\u001b[1;33m[\u001b[0m\u001b[1;36m3\u001b[0m\u001b[1;33m,\u001b[0m\u001b[1;36m4\u001b[0m\u001b[1;33m,\u001b[0m\u001b[1;33m]\u001b[0m\u001b[1;33m,\u001b[0m\u001b[1;33m[\u001b[0m\u001b[1;36m5\u001b[0m\u001b[1;33m,\u001b[0m\u001b[1;36m6\u001b[0m\u001b[1;33m]\u001b[0m\u001b[1;33m,\u001b[0m\u001b[1;33m(\u001b[0m\u001b[1;36m7\u001b[0m\u001b[1;33m,\u001b[0m\u001b[1;36m8\u001b[0m\u001b[1;33m)\u001b[0m\u001b[1;33m,\u001b[0m\u001b[1;33m[\u001b[0m\u001b[1;36m9\u001b[0m\u001b[1;33m,\u001b[0m\u001b[1;36m10\u001b[0m\u001b[1;33m,\u001b[0m\u001b[1;36m11\u001b[0m\u001b[1;33m]\u001b[0m\u001b[1;33m]\u001b[0m\u001b[1;33m\u001b[0m\u001b[1;33m\u001b[0m\u001b[0m\n\u001b[1;32m----> 2\u001b[1;33m \u001b[1;32mfor\u001b[0m \u001b[1;33m[\u001b[0m\u001b[0mx\u001b[0m\u001b[1;33m,\u001b[0m\u001b[0my\u001b[0m\u001b[1;33m]\u001b[0m \u001b[1;32min\u001b[0m \u001b[0mornekliste2\u001b[0m\u001b[1;33m:\u001b[0m\u001b[1;33m\u001b[0m\u001b[1;33m\u001b[0m\u001b[0m\n\u001b[0m\u001b[0;32m      3\u001b[0m     \u001b[0mprint\u001b[0m\u001b[1;33m(\u001b[0m\u001b[1;34m\"x=\"\u001b[0m\u001b[1;33m,\u001b[0m\u001b[0mx\u001b[0m\u001b[1;33m,\u001b[0m \u001b[1;34m\"y=\"\u001b[0m\u001b[1;33m,\u001b[0m\u001b[0my\u001b[0m\u001b[1;33m)\u001b[0m\u001b[1;33m\u001b[0m\u001b[1;33m\u001b[0m\u001b[0m\n",
      "\u001b[1;31mValueError\u001b[0m: too many values to unpack (expected 2)"
     ]
    }
   ],
   "source": [
    "ornekliste2=[[1,2],[3,4,],[5,6],(7,8),[9,10,11]]\n",
    "for [x,y] in ornekliste2:\n",
    "    print(\"x=\",x, \"y=\",y)"
   ]
  },
  {
   "cell_type": "code",
   "execution_count": 83,
   "metadata": {},
   "outputs": [
    {
     "name": "stdout",
     "output_type": "stream",
     "text": [
      "x= 1 y= 2 z= 12\n",
      "x= 3 y= 4 z= 13\n",
      "x= 5 y= 6 z= 14\n",
      "x= 7 y= 8 z= 15\n",
      "x= 9 y= 10 z= 11\n"
     ]
    }
   ],
   "source": [
    "ornekliste2=[[1,2,12],[3,4,13],[5,6,14],(7,8,15),[9,10,11]]\n",
    "for [x,y,z] in ornekliste2:\n",
    "    print(\"x=\",x, \"y=\",y,\"z=\",z)"
   ]
  },
  {
   "cell_type": "code",
   "execution_count": 85,
   "metadata": {},
   "outputs": [
    {
     "ename": "ValueError",
     "evalue": "not enough values to unpack (expected 3, got 2)",
     "output_type": "error",
     "traceback": [
      "\u001b[1;31m---------------------------------------------------------------------------\u001b[0m",
      "\u001b[1;31mValueError\u001b[0m                                Traceback (most recent call last)",
      "\u001b[1;32m<ipython-input-85-7f5aefdf74d7>\u001b[0m in \u001b[0;36m<module>\u001b[1;34m\u001b[0m\n\u001b[0;32m      1\u001b[0m \u001b[0mornekliste2\u001b[0m\u001b[1;33m=\u001b[0m\u001b[1;33m[\u001b[0m\u001b[1;33m[\u001b[0m\u001b[1;36m1\u001b[0m\u001b[1;33m,\u001b[0m\u001b[1;36m2\u001b[0m\u001b[1;33m]\u001b[0m\u001b[1;33m,\u001b[0m\u001b[1;33m[\u001b[0m\u001b[1;36m3\u001b[0m\u001b[1;33m,\u001b[0m\u001b[1;36m4\u001b[0m\u001b[1;33m]\u001b[0m\u001b[1;33m,\u001b[0m\u001b[1;33m[\u001b[0m\u001b[1;36m5\u001b[0m\u001b[1;33m,\u001b[0m\u001b[1;36m6\u001b[0m\u001b[1;33m]\u001b[0m\u001b[1;33m,\u001b[0m\u001b[1;33m(\u001b[0m\u001b[1;36m7\u001b[0m\u001b[1;33m,\u001b[0m\u001b[1;36m8\u001b[0m\u001b[1;33m,\u001b[0m\u001b[1;36m15\u001b[0m\u001b[1;33m)\u001b[0m\u001b[1;33m,\u001b[0m\u001b[1;33m[\u001b[0m\u001b[1;36m9\u001b[0m\u001b[1;33m,\u001b[0m\u001b[1;36m10\u001b[0m\u001b[1;33m,\u001b[0m\u001b[1;36m11\u001b[0m\u001b[1;33m]\u001b[0m\u001b[1;33m]\u001b[0m\u001b[1;33m\u001b[0m\u001b[1;33m\u001b[0m\u001b[0m\n\u001b[1;32m----> 2\u001b[1;33m \u001b[1;32mfor\u001b[0m \u001b[1;33m[\u001b[0m\u001b[0mx\u001b[0m\u001b[1;33m,\u001b[0m\u001b[0my\u001b[0m\u001b[1;33m,\u001b[0m\u001b[0mz\u001b[0m\u001b[1;33m]\u001b[0m \u001b[1;32min\u001b[0m \u001b[0mornekliste2\u001b[0m\u001b[1;33m:\u001b[0m\u001b[1;33m\u001b[0m\u001b[1;33m\u001b[0m\u001b[0m\n\u001b[0m\u001b[0;32m      3\u001b[0m     \u001b[0mprint\u001b[0m\u001b[1;33m(\u001b[0m\u001b[1;34m\"x=\"\u001b[0m\u001b[1;33m,\u001b[0m\u001b[0mx\u001b[0m\u001b[1;33m,\u001b[0m \u001b[1;34m\"y=\"\u001b[0m\u001b[1;33m,\u001b[0m\u001b[0my\u001b[0m\u001b[1;33m,\u001b[0m\u001b[1;34m\"z=\"\u001b[0m\u001b[1;33m,\u001b[0m\u001b[0mz\u001b[0m\u001b[1;33m)\u001b[0m\u001b[1;33m\u001b[0m\u001b[1;33m\u001b[0m\u001b[0m\n\u001b[0;32m      4\u001b[0m \u001b[1;31m#üç değişkenli tanımlama yapabilmek için liste içindeki elemanların her biri en az üç değişkenli olmak zorunda.\u001b[0m\u001b[1;33m\u001b[0m\u001b[1;33m\u001b[0m\u001b[1;33m\u001b[0m\u001b[0m\n",
      "\u001b[1;31mValueError\u001b[0m: not enough values to unpack (expected 3, got 2)"
     ]
    }
   ],
   "source": [
    "ornekliste2=[[1,2],[3,4],[5,6],(7,8,15),[9,10,11]]\n",
    "for [x,y,z] in ornekliste2:\n",
    "    print(\"x=\",x, \"y=\",y,\"z=\",z)\n",
    "#üç değişkenli tanımlama yapabilmek için liste içindeki elemanların her biri en az üç değişkenli olmak zorunda."
   ]
  },
  {
   "cell_type": "code",
   "execution_count": 89,
   "metadata": {},
   "outputs": [
    {
     "name": "stdout",
     "output_type": "stream",
     "text": [
      "bir\n",
      "iki\n",
      "üç\n",
      "dört\n"
     ]
    }
   ],
   "source": [
    "orneksozluk={\"bir\":1,\"iki\":2,\"üç\":3,\"dört\":4}\n",
    "for i in orneksozluk:\n",
    "    print(i)\n",
    "#sadece key ler çıkar."
   ]
  },
  {
   "cell_type": "code",
   "execution_count": 91,
   "metadata": {},
   "outputs": [
    {
     "name": "stdout",
     "output_type": "stream",
     "text": [
      "bir\n",
      "iki\n",
      "üç\n",
      "dört\n"
     ]
    }
   ],
   "source": [
    "orneksozluk={\"bir\":1,\"iki\":2,\"üç\":3,\"dört\":4}\n",
    "for i in orneksozluk.keys():\n",
    "    print(i)\n",
    "#yine sadece key ler çıkar."
   ]
  },
  {
   "cell_type": "code",
   "execution_count": 93,
   "metadata": {},
   "outputs": [
    {
     "name": "stdout",
     "output_type": "stream",
     "text": [
      "1\n",
      "2\n",
      "3\n",
      "4\n"
     ]
    }
   ],
   "source": [
    "orneksozluk={\"bir\":1,\"iki\":2,\"üç\":3,\"dört\":4}\n",
    "for i in orneksozluk.values():\n",
    "    print(i)\n",
    "#sadece değer(value)ler çıkar."
   ]
  },
  {
   "cell_type": "code",
   "execution_count": 94,
   "metadata": {},
   "outputs": [
    {
     "name": "stdout",
     "output_type": "stream",
     "text": [
      "Anahtar: bir, Değer: 1\n",
      "Anahtar: iki, Değer: 2\n",
      "Anahtar: üç, Değer: 3\n",
      "Anahtar: dört, Değer: 4\n"
     ]
    }
   ],
   "source": [
    "orneksozluk={\"bir\":1,\"iki\":2,\"üç\":3,\"dört\":4}\n",
    "for (i,j) in orneksozluk.items():\n",
    "    print(\"Anahtar: {}, Değer: {}\".format(i,j))"
   ]
  },
  {
   "cell_type": "markdown",
   "metadata": {},
   "source": [
    "## while döngüsü"
   ]
  },
  {
   "cell_type": "code",
   "execution_count": 117,
   "metadata": {},
   "outputs": [
    {
     "name": "stdout",
     "output_type": "stream",
     "text": [
      "İndex no: 0  Harf: M\n",
      "İndex no: 1  Harf: E\n",
      "İndex no: 2  Harf: R\n",
      "İndex no: 3  Harf: H\n",
      "İndex no: 4  Harf: A\n",
      "İndex no: 5  Harf: B\n",
      "İndex no: 6  Harf: A\n"
     ]
    }
   ],
   "source": [
    "#bir stringdeki her karakterin index numarasını yazıdralım\n",
    "metin=\"MERHABA\"\n",
    "x=0\n",
    "for i in metin:\n",
    "    print(\"İndex no: {}  Harf: {}\".format(x,i))\n",
    "    x+=1"
   ]
  },
  {
   "cell_type": "raw",
   "metadata": {},
   "source": [
    "while (sınama):\n",
    "    işlem1\n",
    "    işlem2\n",
    "    işlem3\n",
    "Şeklinde kullanılan bu döngüde sınama durumu true olduğu sürece bloktaki işlemler sırayla yapılmaya devam eder ve bitince blok içindeki ilk işleme geri dönerek baştan devam eder. Sınama durumu False durumuna geçmezse sonsuz döngü olur."
   ]
  },
  {
   "cell_type": "code",
   "execution_count": 98,
   "metadata": {},
   "outputs": [
    {
     "name": "stdout",
     "output_type": "stream",
     "text": [
      "1\n",
      "2\n",
      "3\n",
      "4\n",
      "5\n",
      "6\n",
      "7\n",
      "8\n",
      "9\n",
      "10\n"
     ]
    }
   ],
   "source": [
    "#phytona 10a kadar saydıralım\n",
    "i=0\n",
    "while i<10:\n",
    "    i +=1\n",
    "    print(i)"
   ]
  },
  {
   "cell_type": "code",
   "execution_count": 99,
   "metadata": {},
   "outputs": [
    {
     "name": "stdout",
     "output_type": "stream",
     "text": [
      "2\n",
      "4\n",
      "6\n",
      "8\n",
      "10\n"
     ]
    }
   ],
   "source": [
    "#phytona 10a kadar ikişer saydıralım\n",
    "i=0\n",
    "while i<10:\n",
    "    i +=2\n",
    "    print(i)"
   ]
  },
  {
   "cell_type": "code",
   "execution_count": 119,
   "metadata": {},
   "outputs": [
    {
     "name": "stdout",
     "output_type": "stream",
     "text": [
      "Merhaba\n",
      "Merhaba\n",
      "Merhaba\n",
      "Merhaba\n",
      "Merhaba\n",
      "Merhaba\n",
      "Merhaba\n",
      "Merhaba\n",
      "Merhaba\n",
      "Merhaba\n"
     ]
    }
   ],
   "source": [
    "#bir metni 10 kere yazdıralım\n",
    "yazi=\"Merhaba\"\n",
    "i=0\n",
    "while i<10:\n",
    "    print(yazi)\n",
    "    i+=1"
   ]
  },
  {
   "cell_type": "code",
   "execution_count": 122,
   "metadata": {},
   "outputs": [
    {
     "name": "stdout",
     "output_type": "stream",
     "text": [
      "İndex no: 0, Eleman: a\n",
      "İndex no: 1, Eleman: b\n",
      "İndex no: 2, Eleman: 4\n",
      "İndex no: 3, Eleman: v\n",
      "İndex no: 4, Eleman: 3\n",
      "İndex no: 5, Eleman: n\n",
      "İndex no: 6, Eleman: 8\n"
     ]
    }
   ],
   "source": [
    "#Bir listedeki elemanların index numarasını tek tek yazdıralım\n",
    "orlist=[\"a\",\"b\",4,\"v\",3,\"n\",8]\n",
    "i=0\n",
    "while i<len(orlist):\n",
    "    print(\"İndex no: {}, Eleman: {}\".format(i,orlist[i]))\n",
    "    i+=1"
   ]
  },
  {
   "cell_type": "code",
   "execution_count": 124,
   "metadata": {},
   "outputs": [
    {
     "name": "stdout",
     "output_type": "stream",
     "text": [
      "İndex no: 0, Eleman: m\n",
      "İndex no: 1, Eleman: e\n",
      "İndex no: 2, Eleman: r\n",
      "İndex no: 3, Eleman: h\n",
      "İndex no: 4, Eleman: a\n",
      "İndex no: 5, Eleman: b\n",
      "İndex no: 6, Eleman: a\n"
     ]
    }
   ],
   "source": [
    "#Bir stringdeki elemanların index numarasını tek tek yazdıralım\n",
    "str1=\"merhaba\"\n",
    "i=0\n",
    "while i<len(str1):\n",
    "    print(\"İndex no: {}, Eleman: {}\".format(i,str1[i]))\n",
    "    i+=1"
   ]
  },
  {
   "cell_type": "markdown",
   "metadata": {},
   "source": [
    "# range () fonksiyonu"
   ]
  },
  {
   "cell_type": "raw",
   "metadata": {},
   "source": [
    "Bu fonksiyon listelere benzer bir yapı oluşturur.\n",
    "range(başlangıç,bitiş, artış miktarı) burada oluşacak liste başlangıçtan bitişe kadar (bitiş dahil değil) artış miktarı kadar atlayarak bir liste oluşturur. Stringlerle çalışmaz."
   ]
  },
  {
   "cell_type": "code",
   "execution_count": 1,
   "metadata": {},
   "outputs": [
    {
     "data": {
      "text/plain": [
       "range(4, 20, 3)"
      ]
     },
     "execution_count": 1,
     "metadata": {},
     "output_type": "execute_result"
    }
   ],
   "source": [
    "range(4,20,3)"
   ]
  },
  {
   "cell_type": "code",
   "execution_count": 2,
   "metadata": {},
   "outputs": [
    {
     "name": "stdout",
     "output_type": "stream",
     "text": [
      "4 7 10 13 16 19\n"
     ]
    }
   ],
   "source": [
    "print(*range(4,20,3)) #yazdırmak için başına * konulmalıdır."
   ]
  },
  {
   "cell_type": "code",
   "execution_count": 3,
   "metadata": {},
   "outputs": [
    {
     "name": "stdout",
     "output_type": "stream",
     "text": [
      "range(4, 20, 3)\n"
     ]
    }
   ],
   "source": [
    "print(range(4,20,3))"
   ]
  },
  {
   "cell_type": "code",
   "execution_count": 7,
   "metadata": {},
   "outputs": [
    {
     "name": "stdout",
     "output_type": "stream",
     "text": [
      "1 2 3 4 5 6 7 8 9 10 11 12 13 14\n"
     ]
    }
   ],
   "source": [
    "print(*range(1,15)) #aralık vermeden de yapılabilir, dikkat edilirse 15 dahil değildir."
   ]
  },
  {
   "cell_type": "code",
   "execution_count": 84,
   "metadata": {},
   "outputs": [
    {
     "ename": "TypeError",
     "evalue": "'str' object cannot be interpreted as an integer",
     "output_type": "error",
     "traceback": [
      "\u001b[1;31m---------------------------------------------------------------------------\u001b[0m",
      "\u001b[1;31mTypeError\u001b[0m                                 Traceback (most recent call last)",
      "\u001b[1;32m<ipython-input-84-8e6eed0503c9>\u001b[0m in \u001b[0;36m<module>\u001b[1;34m\u001b[0m\n\u001b[1;32m----> 1\u001b[1;33m \u001b[0mprint\u001b[0m\u001b[1;33m(\u001b[0m\u001b[1;33m*\u001b[0m\u001b[0mrange\u001b[0m\u001b[1;33m(\u001b[0m\u001b[1;34m\"a\"\u001b[0m\u001b[1;33m,\u001b[0m\u001b[1;34m\"k\"\u001b[0m\u001b[1;33m)\u001b[0m\u001b[1;33m)\u001b[0m \u001b[1;31m#stringlerde geçersizdir.\u001b[0m\u001b[1;33m\u001b[0m\u001b[1;33m\u001b[0m\u001b[0m\n\u001b[0m",
      "\u001b[1;31mTypeError\u001b[0m: 'str' object cannot be interpreted as an integer"
     ]
    }
   ],
   "source": [
    "print(*range(\"a\",\"k\")) #stringlerde geçersizdir."
   ]
  },
  {
   "cell_type": "code",
   "execution_count": 11,
   "metadata": {},
   "outputs": [
    {
     "name": "stdout",
     "output_type": "stream",
     "text": [
      "\n"
     ]
    }
   ],
   "source": [
    "print(*range(20,5)) #geriye doğru oluşturmaz"
   ]
  },
  {
   "cell_type": "code",
   "execution_count": 12,
   "metadata": {},
   "outputs": [
    {
     "name": "stdout",
     "output_type": "stream",
     "text": [
      "20 19 18 17 16 15 14 13 12 11 10 9 8 7 6 5\n"
     ]
    }
   ],
   "source": [
    "print(*range(20,4,-1)) #geriye doğru oluşturur"
   ]
  },
  {
   "cell_type": "code",
   "execution_count": 17,
   "metadata": {},
   "outputs": [
    {
     "data": {
      "text/plain": [
       "[0, 5, 10, 15, 20, 25, 30, 35, 40, 45, 50]"
      ]
     },
     "execution_count": 17,
     "metadata": {},
     "output_type": "execute_result"
    }
   ],
   "source": [
    "liste20=list(range(0,55,5)) #bu şekilde liste de oluşturulabilir.\n",
    "liste20"
   ]
  },
  {
   "cell_type": "code",
   "execution_count": 19,
   "metadata": {},
   "outputs": [
    {
     "name": "stdout",
     "output_type": "stream",
     "text": [
      "1\n",
      "2\n",
      "3\n",
      "4\n",
      "5\n",
      "6\n",
      "7\n",
      "8\n",
      "9\n",
      "10\n",
      "11\n",
      "12\n",
      "13\n",
      "14\n",
      "15\n",
      "16\n",
      "17\n",
      "18\n",
      "19\n",
      "20\n"
     ]
    }
   ],
   "source": [
    "for sayı in range(1,21):\n",
    "    print(sayı)"
   ]
  },
  {
   "cell_type": "code",
   "execution_count": 23,
   "metadata": {},
   "outputs": [
    {
     "name": "stdout",
     "output_type": "stream",
     "text": [
      "* \n",
      "* * \n",
      "* * * \n",
      "* * * * \n",
      "* * * * * \n",
      "* * * * * * \n",
      "* * * * * * * \n",
      "* * * * * * * * \n",
      "* * * * * * * * * \n",
      "* * * * * * * * * * \n",
      "* * * * * * * * * * * \n",
      "* * * * * * * * * * * * \n",
      "* * * * * * * * * * * * * \n",
      "* * * * * * * * * * * * * * \n",
      "* * * * * * * * * * * * * * * \n",
      "* * * * * * * * * * * * * * * * \n",
      "* * * * * * * * * * * * * * * * * \n",
      "* * * * * * * * * * * * * * * * * * \n",
      "* * * * * * * * * * * * * * * * * * * \n",
      "* * * * * * * * * * * * * * * * * * * * \n"
     ]
    }
   ],
   "source": [
    "for sayı in range(1,21):\n",
    "    print(\"* \"*sayı)"
   ]
  },
  {
   "cell_type": "markdown",
   "metadata": {},
   "source": [
    "# #Döngülerde break ve continue ifadeleri"
   ]
  },
  {
   "cell_type": "raw",
   "metadata": {},
   "source": [
    "break ve continue ifadeleri bir blokta bir koşulun sağlanmasına bağlı olarak çalışır. Eğer koşul sağlanırsa break ifadesi bloğun geri kalanını ve döngüyü durdurur, continue ifadesi ise koşulun sağlanması durumunda bloğun geri kalanını durdurup döngüyü devam ettirir. Her iki ifade de sadece bulundukları blok içinde geçerlidir. Break, döngüyü durdurur, continue sadece o adımda döngü içindeki geri kalan adımları iptal edip döngüyü bir sonraki turdan başlatır."
   ]
  },
  {
   "cell_type": "code",
   "execution_count": 1,
   "metadata": {},
   "outputs": [
    {
     "name": "stdout",
     "output_type": "stream",
     "text": [
      "i=  0\n",
      "i=  1\n",
      "i=  2\n",
      "i=  3\n",
      "i=  4\n",
      "i=  5\n",
      "i=  6\n",
      "i=  7\n",
      "i=  8\n",
      "i=  9\n",
      "i=  10\n",
      "i=  11\n",
      "i=  12\n",
      "i=  13\n",
      "i=  14\n",
      "i=  15\n",
      "i=  16\n",
      "i=  17\n",
      "i=  18\n",
      "i=  19\n",
      "i=  20\n"
     ]
    }
   ],
   "source": [
    "i=0\n",
    "while (i<=20):\n",
    "    print(\"i= \",i)\n",
    "    i +=1"
   ]
  },
  {
   "cell_type": "code",
   "execution_count": 2,
   "metadata": {},
   "outputs": [
    {
     "name": "stdout",
     "output_type": "stream",
     "text": [
      "i=  0\n",
      "i=  1\n",
      "i=  2\n",
      "i=  3\n"
     ]
    }
   ],
   "source": [
    "i=0\n",
    "while (i<=20):\n",
    "    if (i==4):\n",
    "        break\n",
    "    print(\"i= \",i)\n",
    "    i +=1"
   ]
  },
  {
   "cell_type": "code",
   "execution_count": 4,
   "metadata": {},
   "outputs": [
    {
     "name": "stdout",
     "output_type": "stream",
     "text": [
      "i=  1\n",
      "i=  2\n",
      "i=  3\n",
      "i=  4\n",
      "i=  5\n"
     ]
    }
   ],
   "source": [
    "liste30=[1,2,3,4,5,6,7,8,9]\n",
    "\n",
    "for i in liste30:\n",
    "    if i==6:\n",
    "        break\n",
    "    print(\"i= \",i)"
   ]
  },
  {
   "cell_type": "code",
   "execution_count": 5,
   "metadata": {},
   "outputs": [
    {
     "name": "stdout",
     "output_type": "stream",
     "text": [
      "İsminizi girin(Çıkmak için q): Murat\n",
      "İsminizi: Murat\n",
      "İsminizi girin(Çıkmak için q): Can\n",
      "İsminizi: Can\n",
      "İsminizi girin(Çıkmak için q): Kurt\n",
      "İsminizi: Kurt\n",
      "İsminizi girin(Çıkmak için q): q\n",
      "Programdan Çıkıldı.\n"
     ]
    }
   ],
   "source": [
    "while True:\n",
    "    isim=input(\"İsminizi girin(Çıkmak için q): \")\n",
    "    if isim==\"q\":\n",
    "        print(\"Programdan Çıkıldı.\")\n",
    "        break\n",
    "    print(\"İsminizi:\",isim)\n",
    "    "
   ]
  },
  {
   "cell_type": "code",
   "execution_count": 7,
   "metadata": {},
   "outputs": [
    {
     "name": "stdout",
     "output_type": "stream",
     "text": [
      "i=  1\n",
      "i=  2\n",
      "i=  3\n",
      "i=  4\n",
      "i=  5\n",
      "i=  7\n",
      "i=  8\n",
      "i=  9\n"
     ]
    }
   ],
   "source": [
    "liste30=[1,2,3,4,5,6,7,8,9]\n",
    "\n",
    "for i in liste30:\n",
    "    if i==6:\n",
    "        continue\n",
    "    print(\"i= \",i)\n",
    "# görüleceği üzere continue operatörü dolayısıyla i=6 yazılmadan döngü devam eder"
   ]
  },
  {
   "cell_type": "code",
   "execution_count": 9,
   "metadata": {},
   "outputs": [
    {
     "name": "stdout",
     "output_type": "stream",
     "text": [
      "i=  0\n",
      "i=  1\n",
      "i=  2\n",
      "i=  3\n",
      "i=  5\n",
      "i=  6\n",
      "i=  7\n",
      "i=  8\n",
      "i=  9\n",
      "i=  10\n",
      "i=  11\n",
      "i=  12\n",
      "i=  13\n",
      "i=  14\n",
      "i=  15\n",
      "i=  16\n",
      "i=  17\n",
      "i=  18\n",
      "i=  19\n",
      "i=  20\n"
     ]
    }
   ],
   "source": [
    "#i=0\n",
    "#while (i<=20):\n",
    "#    if (i==4):\n",
    "#        continue\n",
    "#    print(\"i= \",i)\n",
    "#    i +=1\n",
    "#yukarıdaki kod çalıştırılırsa döngü sonsuza gidecektir. Çünkü phyton i=0 ile başlayacak, while True olduğu için\n",
    "#if i==4 False olduğu için print ve i=1 olacak. Tekrar dönecek i=2 olacak ve nihayet i=4 olduğunda if i==4 True\n",
    "# olacağı için continue döngüyü başa döndürecek. while i<=20 True olacak ve if i==4 True olacak continue ile bir \n",
    "#daha başa dönecek bu böyle sonsuza kadar gidecek. Bundan kurtulmak için kodu aşağıdaki gibi düzenleyelim:\n",
    "i=0\n",
    "while (i<=20):\n",
    "    if (i==4):\n",
    "        i+=1\n",
    "        continue\n",
    "    print(\"i= \",i)\n",
    "    i +=1\n",
    "#bu kodda ise i=4 olduğunda while i<=20 true olacak ve if i==4 True olacağı için if bloğuna girecek, ilk olarak\n",
    "#i +=1 ile i=5 olacak ve sonra döngü başa alınacağı için artık if i==4 False olacağından döngüye girmeyecek\n",
    "#böylece i=20 olduğunda program bitecek. Görüleceği üzere i= 4 değeri yine print edilmeyecek."
   ]
  },
  {
   "cell_type": "code",
   "execution_count": 13,
   "metadata": {},
   "outputs": [
    {
     "name": "stdout",
     "output_type": "stream",
     "text": [
      "i=  0\n",
      "i=  1\n",
      "i=  2\n",
      "i=  3\n",
      "i=  5\n",
      "i=  6\n",
      "i=  7\n",
      "i=  8\n",
      "i=  9\n",
      "i=  10\n",
      "i=  11\n",
      "i=  12\n",
      "i=  13\n",
      "i=  14\n",
      "i=  15\n",
      "i=  16\n",
      "i=  17\n",
      "i=  18\n",
      "i=  19\n",
      "i=  20\n"
     ]
    }
   ],
   "source": [
    "#aynı örneği bir de for ile yapalım.\n",
    "liste33=list(range(21))\n",
    "for i in liste33:\n",
    "    if (i==4):\n",
    "        continue\n",
    "    print(\"i= \",i) # for döngüsünde i her turda kendiliğinden arttığı için ekstradan birşeye gerek yok"
   ]
  },
  {
   "cell_type": "markdown",
   "metadata": {},
   "source": [
    "# list comprehension"
   ]
  },
  {
   "cell_type": "raw",
   "metadata": {},
   "source": [
    "list comprehension metodu listeleri oluşturmak ve düzenlemek için pratik ve daha kısa bir yoldur."
   ]
  },
  {
   "cell_type": "code",
   "execution_count": 17,
   "metadata": {},
   "outputs": [
    {
     "name": "stdout",
     "output_type": "stream",
     "text": [
      "[1, 2, 3, 4, 5, 6, 7, 8]\n",
      "[1, 2, 3, 4, 5, 6, 7, 8, 9]\n"
     ]
    }
   ],
   "source": [
    "#önce bir listeden başka bir listeyi oluşturmaya bakalım.\n",
    "liste1=[1,2,3,4,5,6,7,8]\n",
    "print(liste1)\n",
    "liste1.append(9) #append komutunu hatırlayalım\n",
    "print(liste1)"
   ]
  },
  {
   "cell_type": "code",
   "execution_count": 19,
   "metadata": {},
   "outputs": [
    {
     "data": {
      "text/plain": [
       "[1, 2, 3, 4, 5, 6, 7, 8, 9]"
      ]
     },
     "execution_count": 19,
     "metadata": {},
     "output_type": "execute_result"
    }
   ],
   "source": [
    "liste1=[1,2,3,4,5,6,7,8,9]\n",
    "liste2=list() #boş liste oluşturduk liste2=list[] şeklinde de oluşturabilirdik.\n",
    "for x in liste1:\n",
    "    liste2.append(x) #her bir elemanı liste2 ye ekliyoruz.\n",
    "liste2"
   ]
  },
  {
   "cell_type": "code",
   "execution_count": 21,
   "metadata": {},
   "outputs": [
    {
     "data": {
      "text/plain": [
       "[1, 2, 3, 4, 5, 6, 7, 8, 9]"
      ]
     },
     "execution_count": 21,
     "metadata": {},
     "output_type": "execute_result"
    }
   ],
   "source": [
    "liste1=[1,2,3,4,5,6,7,8,9]\n",
    "liste2=[x for x in liste1] #işte bu list comprehesion\n",
    "liste2"
   ]
  },
  {
   "cell_type": "code",
   "execution_count": 22,
   "metadata": {},
   "outputs": [
    {
     "data": {
      "text/plain": [
       "[2, 4, 6, 8, 10, 12, 14, 16, 18]"
      ]
     },
     "execution_count": 22,
     "metadata": {},
     "output_type": "execute_result"
    }
   ],
   "source": [
    "liste1=[1,2,3,4,5,6,7,8,9]\n",
    "liste2=[x*2 for x in liste1] # ya da list comprehesion ile liste1in her elemanının 2 katından oluşan liste2\n",
    "liste2"
   ]
  },
  {
   "cell_type": "code",
   "execution_count": 24,
   "metadata": {},
   "outputs": [
    {
     "data": {
      "text/plain": [
       "['M', 'E', 'R', 'H', 'A', 'B', 'A']"
      ]
     },
     "execution_count": 24,
     "metadata": {},
     "output_type": "execute_result"
    }
   ],
   "source": [
    "s=\"MERHABA\"\n",
    "liste3=list(x for x in s) #s stringindeki indexlerden oluşan bir liste\n",
    "liste3"
   ]
  },
  {
   "cell_type": "code",
   "execution_count": 43,
   "metadata": {},
   "outputs": [
    {
     "data": {
      "text/plain": [
       "['MMMMM', 'EEEEE', 'RRRRR', 'HHHHH', 'AAAAA', 'BBBBB', 'AAAAA', 'AAAAA']"
      ]
     },
     "execution_count": 43,
     "metadata": {},
     "output_type": "execute_result"
    }
   ],
   "source": [
    "s=\"MERHABAA\"\n",
    "liste=[x*5 for x in s]\n",
    "liste"
   ]
  },
  {
   "cell_type": "code",
   "execution_count": 27,
   "metadata": {},
   "outputs": [
    {
     "data": {
      "text/plain": [
       "(1, 2, 3, 4, 5, 6)"
      ]
     },
     "execution_count": 27,
     "metadata": {},
     "output_type": "execute_result"
    }
   ],
   "source": [
    "demet1=(1,2,3,4,5,6)\n",
    "demet2=tuple(x for x in demet1) #bakalım demetlerde de çalışıyoru mu?\n",
    "demet2"
   ]
  },
  {
   "cell_type": "code",
   "execution_count": 37,
   "metadata": {},
   "outputs": [
    {
     "data": {
      "text/plain": [
       "[2, 12, 30]"
      ]
     },
     "execution_count": 37,
     "metadata": {},
     "output_type": "execute_result"
    }
   ],
   "source": [
    "liste1=[(1,2),(3,4),(5,6)]\n",
    "liste2=[(x*y) for (x,y) in liste1] #liste 1 deki her bir ikilinin birbiriyle çarpımından oluşan yeni bir liste\n",
    "liste2"
   ]
  },
  {
   "cell_type": "code",
   "execution_count": 41,
   "metadata": {},
   "outputs": [
    {
     "data": {
      "text/plain": [
       "[1, 2, 3, 7, 8, 9]"
      ]
     },
     "execution_count": 41,
     "metadata": {},
     "output_type": "execute_result"
    }
   ],
   "source": [
    "liste1=[1,2,3,4,5,6,7,8,9]\n",
    "liste2=[i for i in liste1 if not (i==4 or i==5 or i==6)] #liste 1 deki 4,5,6 hariç diğer elemanlarıdan oluşan ibr liste\n",
    "liste2"
   ]
  },
  {
   "cell_type": "code",
   "execution_count": 45,
   "metadata": {},
   "outputs": [
    {
     "data": {
      "text/plain": [
       "[[1, 2, 3], [4, 5, 6, 7], [8, 9, 10], [11, 12], 13, [14, 15]]"
      ]
     },
     "execution_count": 45,
     "metadata": {},
     "output_type": "execute_result"
    }
   ],
   "source": [
    "liste1=[[1,2,3],[4,5,6,7],[8,9,10],[11,12],13,[14,15]]\n",
    "liste2=[x for x in liste1]\n",
    "liste2"
   ]
  },
  {
   "cell_type": "code",
   "execution_count": 81,
   "metadata": {},
   "outputs": [
    {
     "name": "stdout",
     "output_type": "stream",
     "text": [
      "[1, 2, 3, 4, 5, 6, 7, 8, 9, 10, 11, 12, 13, 14, 15]\n"
     ]
    }
   ],
   "source": [
    "liste1 = [[1,2,3],[4,5,6,7],[8,9,10],[11,12],[13],[14,15]]\n",
    "liste2 = [x for i in liste1 for x in i] \n",
    "print(liste2)"
   ]
  },
  {
   "cell_type": "code",
   "execution_count": 68,
   "metadata": {},
   "outputs": [
    {
     "name": "stdout",
     "output_type": "stream",
     "text": [
      "[1]\n",
      "[1, 2]\n",
      "[1, 2, 3]\n",
      "[1, 2, 3, 4]\n",
      "[1, 2, 3, 4, 5]\n",
      "[1, 2, 3, 4, 5, 6]\n",
      "[1, 2, 3, 4, 5, 6, 7]\n",
      "[1, 2, 3, 4, 5, 6, 7, 8]\n",
      "[1, 2, 3, 4, 5, 6, 7, 8, 9]\n",
      "[1, 2, 3, 4, 5, 6, 7, 8, 9, 10]\n",
      "[1, 2, 3, 4, 5, 6, 7, 8, 9, 10, 11]\n",
      "[1, 2, 3, 4, 5, 6, 7, 8, 9, 10, 11, 12]\n",
      "[1, 2, 3, 4, 5, 6, 7, 8, 9, 10, 11, 12, 13]\n",
      "[1, 2, 3, 4, 5, 6, 7, 8, 9, 10, 11, 12, 13, 14]\n",
      "[1, 2, 3, 4, 5, 6, 7, 8, 9, 10, 11, 12, 13, 14, 15]\n"
     ]
    }
   ],
   "source": [
    "# list comprehension kullanmadan nasıl yapacaktık?\n",
    "liste1 = [[1,2,3],[4,5,6,7],[8,9,10],[11,12],[13],[14,15]]\n",
    "liste2=list()\n",
    "for x in liste1:\n",
    "    for i in x:\n",
    "        liste2.append(i)\n",
    "        print(liste2)"
   ]
  },
  {
   "cell_type": "code",
   "execution_count": null,
   "metadata": {},
   "outputs": [],
   "source": []
  },
  {
   "cell_type": "code",
   "execution_count": 69,
   "metadata": {},
   "outputs": [
    {
     "name": "stdout",
     "output_type": "stream",
     "text": [
      "[1, 2, 3]\n",
      "[1, 2, 3, 4, 5, 6, 7]\n",
      "[1, 2, 3, 4, 5, 6, 7, 8, 9, 10]\n",
      "[1, 2, 3, 4, 5, 6, 7, 8, 9, 10, 11, 12]\n",
      "[1, 2, 3, 4, 5, 6, 7, 8, 9, 10, 11, 12, 13]\n",
      "[1, 2, 3, 4, 5, 6, 7, 8, 9, 10, 11, 12, 13, 14, 15]\n"
     ]
    }
   ],
   "source": [
    "# list comprehension kullanmadan nasıl yapacaktık?\n",
    "liste1 = [[1,2,3],[4,5,6,7],[8,9,10],[11,12],[13],[14,15]]\n",
    "liste2=list()\n",
    "for x in liste1:\n",
    "    for i in x:\n",
    "        liste2.append(i)\n",
    "    print(liste2)"
   ]
  },
  {
   "cell_type": "code",
   "execution_count": 70,
   "metadata": {},
   "outputs": [
    {
     "name": "stdout",
     "output_type": "stream",
     "text": [
      "[1, 2, 3, 4, 5, 6, 7, 8, 9, 10, 11, 12, 13, 14, 15]\n"
     ]
    }
   ],
   "source": [
    "# list comprehension kullanmadan nasıl yapacaktık?\n",
    "liste1 = [[1,2,3],[4,5,6,7],[8,9,10],[11,12],[13],[14,15]]\n",
    "liste2=list()\n",
    "for x in liste1:\n",
    "    for i in x:\n",
    "        liste2.append(i)\n",
    "print(liste2)"
   ]
  },
  {
   "cell_type": "code",
   "execution_count": 77,
   "metadata": {},
   "outputs": [
    {
     "data": {
      "text/plain": [
       "[(1, 2), (3, 4), (5, 6)]"
      ]
     },
     "execution_count": 77,
     "metadata": {},
     "output_type": "execute_result"
    }
   ],
   "source": [
    "liste1=[(1,2),(3,4),(5,6)]\n",
    "liste2= [(i,j) for i,j in liste1]\n",
    "liste2"
   ]
  },
  {
   "cell_type": "code",
   "execution_count": 79,
   "metadata": {},
   "outputs": [
    {
     "data": {
      "text/plain": [
       "[2, 12, 30]"
      ]
     },
     "execution_count": 79,
     "metadata": {},
     "output_type": "execute_result"
    }
   ],
   "source": [
    "liste1=[(1,2),(3,4),(5,6)]\n",
    "liste2= [i*j for i,j in liste1]\n",
    "liste2"
   ]
  },
  {
   "cell_type": "code",
   "execution_count": 80,
   "metadata": {},
   "outputs": [
    {
     "data": {
      "text/plain": [
       "[1, 3, 5]"
      ]
     },
     "execution_count": 80,
     "metadata": {},
     "output_type": "execute_result"
    }
   ],
   "source": [
    "liste1=[(1,2),(3,4),(5,6)]\n",
    "liste2= [i for i,j in liste1]\n",
    "liste2"
   ]
  },
  {
   "cell_type": "markdown",
   "metadata": {},
   "source": [
    "### Genel Egzersiz çalışmaları"
   ]
  },
  {
   "cell_type": "raw",
   "metadata": {},
   "source": [
    "Kullanıcı adı ve parola ile giriş sistemi yazalım, 3 deneme hakkı olsun"
   ]
  },
  {
   "cell_type": "code",
   "execution_count": 2,
   "metadata": {},
   "outputs": [
    {
     "name": "stdout",
     "output_type": "stream",
     "text": [
      "\n",
      "********************\n",
      "Kullanıcı Girişi\n",
      "********************\n",
      "\n",
      "Kullanıcı Adı: murat\n",
      "Parola: 1\n",
      "Parola Yanlış!\n",
      "2 Hakkınız kaldı\n",
      "Kullanıcı Adı: mu\n",
      "Parola: ee\n",
      "Kullanıcı adı ve Parola yanlış!\n",
      "1 Hakkınız kaldı\n",
      "Kullanıcı Adı: murat\n",
      "Parola: 12345\n",
      "Başarıyla Giriş Yapıldı\n"
     ]
    }
   ],
   "source": [
    "#bir sistemde kullanıcı adı ve parola ile giriş yapılacağına dair bir uygulama yazalım\n",
    "print(\"\"\"\n",
    "********************\n",
    "Kullanıcı Girişi\n",
    "********************\n",
    "\"\"\")\n",
    "\n",
    "sys_kul=\"murat\"\n",
    "sys_par=\"12345\"\n",
    "giriskalan=3\n",
    "while True:\n",
    "    kullanıcı=input(\"Kullanıcı Adı: \")\n",
    "    parola=input(\"Parola: \")\n",
    "    if (sys_kul==kullanıcı and sys_par==parola):\n",
    "        print(\"Başarıyla Giriş Yapıldı\")\n",
    "        break\n",
    "    elif (sys_par!=parola and sys_kul==kullanıcı):\n",
    "        print (\"Parola Yanlış!\")\n",
    "    elif (sys_par==parola and sys_kul!=kullanıcı):\n",
    "        print(\"Kullanıcı adı yanlış!\")\n",
    "    elif (sys_par!=parola and sys_kul!=kullanıcı):\n",
    "        print (\"Kullanıcı adı ve Parola yanlış!\")\n",
    "    giriskalan -=1\n",
    "    if giriskalan>0:\n",
    "        print(giriskalan,\"Hakkınız kaldı\")\n",
    "    elif giriskalan==0:\n",
    "        print(\"Giriş Hakkınız Kalmadı\\nGiriş Yapamazsınız\")\n",
    "        break\n",
    "    "
   ]
  },
  {
   "cell_type": "code",
   "execution_count": 3,
   "metadata": {},
   "outputs": [
    {
     "name": "stdout",
     "output_type": "stream",
     "text": [
      "\n",
      "********************\n",
      "Kullanıcı Girişi\n",
      "********************\n",
      "\n",
      "Kullanıcı adı: murat\n",
      "Parola: 2345\n",
      "Kullanıcı adı veya parola hatalı\n",
      "Kalan giriş hakkınız: 2\n",
      "Kullanıcı adı: mura\n",
      "Parola: 22\n",
      "Kullanıcı adı veya parola hatalı\n",
      "Kalan giriş hakkınız: 1\n",
      "Kullanıcı adı: mur\n",
      "Parola: 12345\n",
      "Kullanıcı adı veya parola hatalı\n",
      "Giriş Hakkınız Kalmadı.\n",
      "Giriş yapamazsınız...\n"
     ]
    }
   ],
   "source": [
    "#aynı uygulamayı for döngüsü kullanarak yazalım\n",
    "print(\"\"\"\n",
    "********************\n",
    "Kullanıcı Girişi\n",
    "********************\n",
    "\"\"\")\n",
    "\n",
    "sys_kul=\"murat\"\n",
    "sys_par=\"12345\"\n",
    "for i in [1,2,3]:\n",
    "    kul=input(\"Kullanıcı adı: \")\n",
    "    par=input(\"Parola: \")\n",
    "    if kul==sys_kul and par==sys_par:\n",
    "        print(\"Başarıyla Giriş Yapıldı\")\n",
    "        break\n",
    "    elif (kul!=sys_kul or par!=sys_par)and i!=3:\n",
    "        print(\"Kullanıcı adı veya parola hatalı\\nKalan giriş hakkınız:\",3-i)\n",
    "    else:\n",
    "        print(\"Kullanıcı adı veya parola hatalı\\nGiriş Hakkınız Kalmadı.\\nGiriş yapamazsınız...\")\n",
    "        break"
   ]
  },
  {
   "cell_type": "raw",
   "metadata": {},
   "source": [
    "Banka ATMsine benzer bir menü yapalım."
   ]
  },
  {
   "cell_type": "code",
   "execution_count": 4,
   "metadata": {},
   "outputs": [
    {
     "name": "stdout",
     "output_type": "stream",
     "text": [
      "********************\n",
      "MURATBANK HOŞGELDİNİZ\n",
      "********************\n",
      "İşlem Seçiminizi yapınız.\n",
      "1-Bakiye Sorgulama\n",
      "2-Para Yatırma\n",
      "3-Para Çekme\n",
      "4-Çıkış\n",
      "Yapmak istediğiniz işlem numarasını giriniz: 1\n",
      "Hesap Bakiyeniz: 1000 TL\n",
      "Yeni bir işlem seçiniz.\n",
      "\n",
      "\n",
      "Yapmak istediğiniz işlem numarasını giriniz: 2\n",
      "Lütfen yatırmak istediğiniz tutarı giriniz: 500\n",
      "Hesabınızın yeni bakiyesi:  1500 TL\n",
      "Yeni bir işlem seçiniz.\n",
      "\n",
      "\n",
      "Yapmak istediğiniz işlem numarasını giriniz: 3\n",
      "Bakiyeniz: 1500 TL\n",
      "Çekmek istediğiniz tutar: 1600\n",
      "1600 TL çekmek için bakiyeniz yetersiz\n",
      "Yeni bir Tutar Belirleyiniz: \n",
      "Çekmek istediğiniz tutar: 1000\n",
      "Kalan bakiyeniz: 500 TL\n",
      "Yeni bir işlem seçiniz.\n",
      "\n",
      "\n",
      "Yapmak istediğiniz işlem numarasını giriniz: 3\n",
      "Bakiyeniz: 500 TL\n",
      "Çekmek istediğiniz tutar: 500\n",
      "Kalan bakiyeniz: 0 TL\n",
      "Yeni bir işlem seçiniz.\n",
      "\n",
      "\n",
      "Yapmak istediğiniz işlem numarasını giriniz: 3\n",
      "Bakiyeniz: 0 TL\n",
      "Bakiyeniz para çekmek için müsait değildir.\n",
      "Yeni bir işlem seçiniz.\n",
      "\n",
      "\n",
      "Yapmak istediğiniz işlem numarasını giriniz: 4\n",
      "İşleminiz sonlandırılmıştır. Yine Bekleriz...\n"
     ]
    }
   ],
   "source": [
    "#bankaların atm makinesine benzer bir uygulama yazalım\n",
    "print(\"********************\\nMURATBANK HOŞGELDİNİZ\\n********************\")\n",
    "print(\"\"\"İşlem Seçiminizi yapınız.\n",
    "1-Bakiye Sorgulama\n",
    "2-Para Yatırma\n",
    "3-Para Çekme\n",
    "4-Çıkış\"\"\")\n",
    "bakiye=int(1000) #bakiyemiz bu kadar olsun.\n",
    "while True:\n",
    "    islem = input(\"Yapmak istediğiniz işlem numarasını giriniz: \")\n",
    "    if islem==\"4\":\n",
    "        print(\"İşleminiz sonlandırılmıştır. Yine Bekleriz...\")\n",
    "        break\n",
    "    elif islem==\"1\":\n",
    "        print(\"Hesap Bakiyeniz: {} TL\\nYeni bir işlem seçiniz.\\n\\n\".format(bakiye))\n",
    "    elif islem==\"2\":\n",
    "        miktar=int(input(\"Lütfen yatırmak istediğiniz tutarı giriniz: \"))\n",
    "        bakiye+=miktar\n",
    "        print(\"Hesabınızın yeni bakiyesi: \",bakiye,\"TL\\nYeni bir işlem seçiniz.\\n\\n\")\n",
    "    elif islem==\"3\":\n",
    "        print(\"Bakiyeniz:\", bakiye, \"TL\")\n",
    "        if bakiye==0:\n",
    "            print(\"Bakiyeniz para çekmek için müsait değildir.\\nYeni bir işlem seçiniz.\\n\\n\")\n",
    "        else:\n",
    "            while True:\n",
    "                miktar=int(input(\"Çekmek istediğiniz tutar: \"))\n",
    "                if bakiye-miktar<0:\n",
    "                    print(miktar,\"TL çekmek için bakiyeniz yetersiz\\nYeni bir Tutar Belirleyiniz: \")\n",
    "                    continue\n",
    "                else:\n",
    "                    bakiye-=miktar\n",
    "                    print(\"Kalan bakiyeniz:\",bakiye,\"TL\\nYeni bir işlem seçiniz.\\n\\n\")\n",
    "                    break\n",
    "    else:\n",
    "        print(\"Hatalı seçim!\")\n"
   ]
  },
  {
   "cell_type": "raw",
   "metadata": {},
   "source": [
    "for ve while döngüleri ile faktöriyel hesaplayan bir kod yazalım"
   ]
  },
  {
   "cell_type": "code",
   "execution_count": 2,
   "metadata": {},
   "outputs": [
    {
     "name": "stdout",
     "output_type": "stream",
     "text": [
      "Faktöriyel alınacak sayıyı \n",
      "girin veya çıkmak için 'q' girin: 0\n",
      "0!=1\n",
      "Faktöriyel alınacak sayıyı \n",
      "girin veya çıkmak için 'q' girin: 1\n",
      "1!=1\n",
      "Faktöriyel alınacak sayıyı \n",
      "girin veya çıkmak için 'q' girin: 2\n",
      "2!=2\n",
      "Faktöriyel alınacak sayıyı \n",
      "girin veya çıkmak için 'q' girin: 5\n",
      "5!=120\n",
      "Faktöriyel alınacak sayıyı \n",
      "girin veya çıkmak için 'q' girin: 4\n",
      "4!=24\n",
      "Faktöriyel alınacak sayıyı \n",
      "girin veya çıkmak için 'q' girin: q\n",
      "Çıkış yapıldı.\n"
     ]
    }
   ],
   "source": [
    "# Faktöriyel hesapı yapan bir uygulama yazalım\n",
    "#faktöriyel nedir? i sayısı için; 1*2*3*.......*(i-1)*i\n",
    "while True:\n",
    "    fak=input(\"Faktöriyel alınacak sayıyı \\ngirin veya çıkmak için 'q' girin: \")\n",
    "    j=1\n",
    "    if fak==\"q\":\n",
    "        print(\"Çıkış yapıldı.\")\n",
    "        break\n",
    "    else:\n",
    "        fak=int(fak)\n",
    "        liste1=list(range(1,fak+1))\n",
    "        for i in liste1:\n",
    "            if fak==0:\n",
    "                print(\"0!=1\")\n",
    "                continue\n",
    "            else:\n",
    "                j*=i\n",
    "    print(\"{}!={}\".format(fak,j))"
   ]
  },
  {
   "cell_type": "code",
   "execution_count": 3,
   "metadata": {},
   "outputs": [
    {
     "name": "stdout",
     "output_type": "stream",
     "text": [
      "Faktöriyel alınacak sayıyı \n",
      "girin veya çıkmak için 'q' girin: -6\n",
      "Negatif sayı!\n",
      "Faktöriyel alınacak sayıyı \n",
      "girin veya çıkmak için 'q' girin: 0\n",
      "0!=1\n",
      "Faktöriyel alınacak sayıyı \n",
      "girin veya çıkmak için 'q' girin: 5\n",
      "5!=120\n",
      "Faktöriyel alınacak sayıyı \n",
      "girin veya çıkmak için 'q' girin: 1\n",
      "1!=1\n",
      "Faktöriyel alınacak sayıyı \n",
      "girin veya çıkmak için 'q' girin: q\n",
      "Çıkış yapıldı.\n"
     ]
    }
   ],
   "source": [
    "#aynı uygulamayı while döngüsü ile yazabilir miyim?\n",
    "while True:\n",
    "    faktoriyel=input(\"Faktöriyel alınacak sayıyı \\ngirin veya çıkmak için 'q' girin: \")\n",
    "    j=1\n",
    "    if faktoriyel==\"q\":\n",
    "        print(\"Çıkış yapıldı.\")\n",
    "        break\n",
    "    else:\n",
    "        faktoriyel=int(faktoriyel)\n",
    "        i=1\n",
    "        if faktoriyel==0:\n",
    "            print(\"0!=1\")\n",
    "            continue\n",
    "        elif faktoriyel<0:\n",
    "            print(\"Negatif sayı!\")\n",
    "            continue\n",
    "        else:\n",
    "            while (i<= faktoriyel):\n",
    "                j*=i\n",
    "                i+=1\n",
    "        print(\"{}!={}\".format(faktoriyel,j))"
   ]
  },
  {
   "cell_type": "raw",
   "metadata": {},
   "source": [
    "Fibonacci serisi oluşturmak için bir kod yazalım\n",
    "Fibonacci serisi: 1,1,2,3,5,8,13,21,34,55................."
   ]
  },
  {
   "cell_type": "code",
   "execution_count": 70,
   "metadata": {},
   "outputs": [
    {
     "name": "stdout",
     "output_type": "stream",
     "text": [
      "N elemanlı bir Fibonacci serisi oluşturma\n",
      "Fibonacci serisinin eleman sayısını giriniz: 10\n",
      "1 2\n",
      "2 3\n",
      "3 5\n",
      "5 8\n",
      "8 13\n",
      "13 21\n",
      "21 34\n",
      "34 55\n",
      "[1, 1, 2, 3, 5, 8, 13, 21, 34, 55]\n"
     ]
    }
   ],
   "source": [
    "print(\"N elemanlı bir Fibonacci serisi oluşturma\")\n",
    "n=int(input(\"Fibonacci serisinin eleman sayısını giriniz: \"))\n",
    "a=1\n",
    "b=1\n",
    "Fibonacci=[a,b]\n",
    "for i in range(2,n):\n",
    "    a,b=b,a+b   \n",
    "    print(a,b)\n",
    "    Fibonacci.append(b)\n",
    "print(Fibonacci)"
   ]
  },
  {
   "cell_type": "markdown",
   "metadata": {},
   "source": [
    "# ödevler"
   ]
  },
  {
   "cell_type": "markdown",
   "metadata": {},
   "source": [
    "## Mükemmel Sayı olup olmadığını bulma programı"
   ]
  },
  {
   "cell_type": "code",
   "execution_count": 1,
   "metadata": {},
   "outputs": [
    {
     "name": "stdout",
     "output_type": "stream",
     "text": [
      "Programı sonlandırmak için 'q' girin.\n",
      "Sayıyı girin: 588\n",
      "Bölenler toplamı. 1008\n",
      "588 Sayısı mükemmel sayı değildir.\n",
      "\n",
      "\n",
      "Programı sonlandırmak için 'q' girin.\n",
      "Sayıyı girin: 28\n",
      "Bölenler toplamı. 28\n",
      "28 sayısı mükemmel sayıdır.\n",
      "\n",
      "\n",
      "Programı sonlandırmak için 'q' girin.\n",
      "Sayıyı girin: 96\n",
      "Bölenler toplamı. 156\n",
      "96 Sayısı mükemmel sayı değildir.\n",
      "\n",
      "\n",
      "Programı sonlandırmak için 'q' girin.\n",
      "Sayıyı girin: 496\n",
      "Bölenler toplamı. 496\n",
      "496 sayısı mükemmel sayıdır.\n",
      "\n",
      "\n",
      "Programı sonlandırmak için 'q' girin.\n",
      "Sayıyı girin: 8128\n",
      "Bölenler toplamı. 8128\n",
      "8128 sayısı mükemmel sayıdır.\n",
      "\n",
      "\n",
      "Programı sonlandırmak için 'q' girin.\n",
      "Sayıyı girin: q\n",
      "Çıkış Yapıldı...\n"
     ]
    }
   ],
   "source": [
    "while True:\n",
    "    print(\"Programı sonlandırmak için 'q' girin.\")\n",
    "    sayi=(input(\"Sayıyı girin: \"))\n",
    "    if sayi==\"q\":\n",
    "        print(\"Çıkış Yapıldı...\")\n",
    "        break\n",
    "    else:\n",
    "        sayi=int(sayi)\n",
    "        liste= list(range(sayi//2+2))\n",
    "        bolenler=list()\n",
    "        for i in liste:\n",
    "            if i==0:\n",
    "                continue\n",
    "            elif sayi %i==0:\n",
    "                bolenler.append(i)\n",
    "        toplam=0\n",
    "        for x in bolenler:\n",
    "            toplam +=x\n",
    "        print (\"Bölenler toplamı.\",toplam)\n",
    "        if toplam==sayi:\n",
    "            print(sayi,\"sayısı mükemmel sayıdır.\\n\\n\")\n",
    "        else:\n",
    "            print(sayi,\"Sayısı mükemmel sayı değildir.\\n\\n\")"
   ]
  },
  {
   "cell_type": "code",
   "execution_count": 11,
   "metadata": {},
   "outputs": [
    {
     "data": {
      "text/plain": [
       "3"
      ]
     },
     "execution_count": 11,
     "metadata": {},
     "output_type": "execute_result"
    }
   ],
   "source": [
    "liste35=[\"g\",\"h\",\"a\",\"b\",\"u\",\"z\"]\n",
    "liste35.index(\"b\",2,)"
   ]
  },
  {
   "cell_type": "code",
   "execution_count": null,
   "metadata": {},
   "outputs": [],
   "source": []
  }
 ],
 "metadata": {
  "kernelspec": {
   "display_name": "Python 3",
   "language": "python",
   "name": "python3"
  },
  "language_info": {
   "codemirror_mode": {
    "name": "ipython",
    "version": 3
   },
   "file_extension": ".py",
   "mimetype": "text/x-python",
   "name": "python",
   "nbconvert_exporter": "python",
   "pygments_lexer": "ipython3",
   "version": "3.7.6"
  }
 },
 "nbformat": 4,
 "nbformat_minor": 2
}
