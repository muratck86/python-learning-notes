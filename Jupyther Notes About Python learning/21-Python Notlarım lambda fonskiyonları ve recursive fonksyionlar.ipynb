{
 "cells": [
  {
   "cell_type": "markdown",
   "metadata": {},
   "source": [
    "# lambda fonksiyonları"
   ]
  },
  {
   "cell_type": "markdown",
   "metadata": {},
   "source": [
    "##### İki parametresi olan ve bu parametrelere verilen iki değerin toplamını döndüren bir fonksiyon yazalım."
   ]
  },
  {
   "cell_type": "code",
   "execution_count": 1,
   "metadata": {},
   "outputs": [
    {
     "data": {
      "text/plain": [
       "68"
      ]
     },
     "execution_count": 1,
     "metadata": {},
     "output_type": "execute_result"
    }
   ],
   "source": [
    "# def ile fonksiyon tanımlama:\n",
    "def topla(a,b):\n",
    "    return a+b\n",
    "topla(43,25)"
   ]
  },
  {
   "cell_type": "code",
   "execution_count": 3,
   "metadata": {},
   "outputs": [
    {
     "data": {
      "text/plain": [
       "177"
      ]
     },
     "execution_count": 3,
     "metadata": {},
     "output_type": "execute_result"
    }
   ],
   "source": [
    "#Aynı fonksiyonu lambda ile tanımlama\n",
    "topla=lambda a,b:a+b\n",
    "topla(132,45)"
   ]
  },
  {
   "cell_type": "markdown",
   "metadata": {},
   "source": [
    "##### Bir sayının çift mi olduğunu döndüren bir fonksiyonu yazalım:"
   ]
  },
  {
   "cell_type": "code",
   "execution_count": 4,
   "metadata": {},
   "outputs": [
    {
     "data": {
      "text/plain": [
       "True"
      ]
     },
     "execution_count": 4,
     "metadata": {},
     "output_type": "execute_result"
    }
   ],
   "source": [
    "# def ile tanımlama\n",
    "def çift_mi(sayı):\n",
    "    return sayı % 2 == 0\n",
    "çift_mi(234)"
   ]
  },
  {
   "cell_type": "code",
   "execution_count": 15,
   "metadata": {},
   "outputs": [
    {
     "data": {
      "text/plain": [
       "False"
      ]
     },
     "execution_count": 15,
     "metadata": {},
     "output_type": "execute_result"
    }
   ],
   "source": [
    "#lambda ile tanımlama\n",
    "çift_mi=lambda sayı:sayı%2==0\n",
    "çift_mi(33)"
   ]
  },
  {
   "cell_type": "markdown",
   "metadata": {},
   "source": [
    "##### Bir listedeki sayıların karelerini hesaplayan bir fonksiyon yazalım:"
   ]
  },
  {
   "cell_type": "code",
   "execution_count": 16,
   "metadata": {},
   "outputs": [
    {
     "data": {
      "text/plain": [
       "[9, 441, 256, 1024, 289, 169]"
      ]
     },
     "execution_count": 16,
     "metadata": {},
     "output_type": "execute_result"
    }
   ],
   "source": [
    "#def ile tanımlama\n",
    "l=[3,21,16,32,17,13]\n",
    "def kareleri(l):\n",
    "    return[x**2 for x in l]\n",
    "kareleri(l)"
   ]
  },
  {
   "cell_type": "code",
   "execution_count": 18,
   "metadata": {},
   "outputs": [
    {
     "data": {
      "text/plain": [
       "[9, 441, 256, 1024, 289, 169]"
      ]
     },
     "execution_count": 18,
     "metadata": {},
     "output_type": "execute_result"
    }
   ],
   "source": [
    "#lambda ile tanımlama:\n",
    "l=[3,21,16,32,17,13]\n",
    "kareleri1=lambda li:[x*2 for x in li]\n",
    "kareleri(l)"
   ]
  },
  {
   "cell_type": "code",
   "execution_count": 19,
   "metadata": {},
   "outputs": [
    {
     "name": "stdout",
     "output_type": "stream",
     "text": [
      "9 441 256 1024 289 169\n"
     ]
    }
   ],
   "source": [
    "#map() fonksiyonu ile lambda birlikte kullanarak tanımlama:\n",
    "l=[3,21,16,32,17,13]\n",
    "print(*map(lambda sayı: sayı ** 2, l))"
   ]
  },
  {
   "cell_type": "markdown",
   "metadata": {},
   "source": [
    "Lambda fonksiyonlarını, bir fonksiyonun işlevselliğine ihtiyaç duyduğumuz, ama konum olarak bir fonksiyon tanımlayamayacağımız veya fonksiyon tanımlamanın zor ya da meşakkatli olduğu durumlarda kullanabiliriz."
   ]
  },
  {
   "cell_type": "markdown",
   "metadata": {},
   "source": [
    "##### verilen bir metnin kelime aralarına istediğimiz işareti koyan bir fonksiyon yazalım"
   ]
  },
  {
   "cell_type": "code",
   "execution_count": 23,
   "metadata": {},
   "outputs": [
    {
     "data": {
      "text/plain": [
       "'Built-in'"
      ]
     },
     "execution_count": 23,
     "metadata": {},
     "output_type": "execute_result"
    }
   ],
   "source": [
    "arayaekle=lambda ifade,karakter: karakter.join(ifade.split())\n",
    "arayaekle(\"Built in\",\"-\")"
   ]
  },
  {
   "cell_type": "code",
   "execution_count": 24,
   "metadata": {},
   "outputs": [
    {
     "data": {
      "text/plain": [
       "'ahmet, mehmet, hasan, fatma, emine, zülküf'"
      ]
     },
     "execution_count": 24,
     "metadata": {},
     "output_type": "execute_result"
    }
   ],
   "source": [
    "arayaekle(\"ahmet mehmet hasan fatma emine zülküf\",\", \")"
   ]
  },
  {
   "cell_type": "code",
   "execution_count": 1,
   "metadata": {},
   "outputs": [
    {
     "name": "stdout",
     "output_type": "stream",
     "text": [
      "Selam\n",
      "Selam\n",
      "Selam\n"
     ]
    }
   ],
   "source": [
    "import tkinter\n",
    "import tkinter.ttk as ttk\n",
    "\n",
    "pen = tkinter.Tk()\n",
    "\n",
    "btn = ttk.Button(text='merhaba', command=lambda:print(\"Selam\"))\n",
    "btn.pack(padx=20, pady=20)\n",
    "\n",
    "pen.mainloop()"
   ]
  },
  {
   "cell_type": "markdown",
   "metadata": {},
   "source": [
    "# Özyinelemeli (Recursive) fonksiyonlar"
   ]
  },
  {
   "cell_type": "markdown",
   "metadata": {},
   "source": [
    "Tanımladığımız bir fonksiyonun altında  başka built in ya da özel fonksiyonlar çağırdığımızı biliyoruz. Eğer bir fonksiyon bloğunda kendi kendini çağırıyorsa işte burada özyinelemeli fonksiyon oluyor."
   ]
  },
  {
   "cell_type": "code",
   "execution_count": 40,
   "metadata": {},
   "outputs": [
    {
     "name": "stdout",
     "output_type": "stream",
     "text": [
      "Abdülcabbar\n",
      "bdülcabbar\n",
      "dülcabbar\n",
      "ülcabbar\n",
      "lcabbar\n",
      "cabbar\n",
      "abbar\n",
      "bbar\n",
      "bar\n",
      "ar\n",
      "r\n"
     ]
    }
   ],
   "source": [
    "def azalt(s):\n",
    "    if len(s) == 1:\n",
    "        return s\n",
    "    else:\n",
    "        print(s)\n",
    "        return azalt(s[1:])\n",
    "\n",
    "print(azalt('Abdülcabbar'))"
   ]
  },
  {
   "cell_type": "code",
   "execution_count": 42,
   "metadata": {},
   "outputs": [
    {
     "name": "stdout",
     "output_type": "stream",
     "text": [
      "Abdülcabbar\n",
      "Abdülcabba\n",
      "Abdülcabb\n",
      "Abdülcab\n",
      "Abdülca\n",
      "Abdülc\n",
      "Abdül\n",
      "Abdü\n",
      "Abd\n",
      "Ab\n",
      "A\n"
     ]
    }
   ],
   "source": [
    "def azalt(s):\n",
    "    if len(s) == 1:\n",
    "        return s\n",
    "    else:\n",
    "        print(s)\n",
    "        return azalt(s[:-1])\n",
    "\n",
    "print(azalt('Abdülcabbar'))"
   ]
  },
  {
   "cell_type": "code",
   "execution_count": 6,
   "metadata": {},
   "outputs": [
    {
     "name": "stdout",
     "output_type": "stream",
     "text": [
      "özyineleme sürecine girerken: abcd\n",
      "özyineleme sürecine girerken: bcd\n",
      "özyineleme sürecine girerken: cd\n",
      "özyineleme sürecine girerken: d\n",
      "özyineleme sürecinden çıkarken: d\n",
      "özyineleme sürecinden çıkarken: cd\n",
      "özyineleme sürecinden çıkarken: bcd\n",
      "özyineleme sürecinden çıkarken: abcd\n"
     ]
    }
   ],
   "source": [
    "def azalt(s):\n",
    "    if len(s) < 1:\n",
    "        return s\n",
    "    else:\n",
    "        print('özyineleme sürecine girerken:', s)\n",
    "        azalt(s[1:])\n",
    "        print('özyineleme sürecinden çıkarken:', s)\n",
    "\n",
    "azalt('abcd')"
   ]
  },
  {
   "cell_type": "markdown",
   "metadata": {},
   "source": [
    "Yukarıdaki fonksiyon neden böyle bir çıktı verdi?"
   ]
  },
  {
   "cell_type": "code",
   "execution_count": 64,
   "metadata": {},
   "outputs": [
    {
     "name": "stdout",
     "output_type": "stream",
     "text": [
      "özyineleme sürecine girerken: cem\n",
      "özyineleme sürecine girerken: em\n",
      "özyineleme sürecine girerken: m\n",
      "özyineleme sürecinden çıkarken: m\n",
      "özyineleme sürecinden çıkarken: em\n",
      "özyineleme sürecinden çıkarken: cem\n"
     ]
    }
   ],
   "source": [
    "#Yukarıdaki foksiyonun yaptığı işi açalım:\n",
    "def azalt1(s):\n",
    "    if len(s) < 1: #False\n",
    "        return s\n",
    "    else:\n",
    "        x=s[1:]\n",
    "        print('özyineleme sürecine girerken:', s) #1. satır\n",
    "        if len(x) < 1: #False\n",
    "            return x\n",
    "        else:\n",
    "            print('özyineleme sürecine girerken:', x) #2. satır\n",
    "            if len(x) < 1: #False\n",
    "                return x\n",
    "            else:\n",
    "                y=x[1:]\n",
    "                print('özyineleme sürecine girerken:', y) #3. satır\n",
    "                if len(y) < 1: #True\n",
    "                    print(y)\n",
    "                    return y #y nedir? Yoktur.\n",
    "                print('özyineleme sürecinden çıkarken:',y) #4. satır\n",
    "            print('özyineleme sürecinden çıkarken:',x) #5. satır\n",
    "        print('özyineleme sürecinden çıkarken:', s)#6. satır\n",
    "\n",
    "azalt1('cem')"
   ]
  },
  {
   "cell_type": "code",
   "execution_count": 68,
   "metadata": {},
   "outputs": [
    {
     "name": "stdout",
     "output_type": "stream",
     "text": [
      "kelime girin: murat\n",
      "Girdiğiniz kelimenin tersi: tarum\n"
     ]
    }
   ],
   "source": [
    "#Başka bir örnek\n",
    "def ters_çevir(s):\n",
    "    if len(s) < 1:\n",
    "        return s\n",
    "    else:\n",
    "        return ters_çevir(s[1:])+s[0]\n",
    "\n",
    "kelime = input('kelime girin: ')\n",
    "print('Girdiğiniz kelimenin tersi: {}'.format(ters_çevir(kelime)))"
   ]
  },
  {
   "cell_type": "code",
   "execution_count": 74,
   "metadata": {},
   "outputs": [
    {
     "name": "stdout",
     "output_type": "stream",
     "text": [
      "Girdiğiniz kelimenin tersi: nac\n"
     ]
    }
   ],
   "source": [
    "#Bunu da açalım:\n",
    "def ters_çevir(s):\n",
    "    if len(s) < 1:#False\n",
    "        return s\n",
    "    else:\n",
    "        x=s[1:]\n",
    "        if len(x) < 1:#False\n",
    "            return x\n",
    "        else:\n",
    "            y=x[1:]\n",
    "            if len(y) < 1:#False\n",
    "                return y\n",
    "            else:\n",
    "                z=y[1:]\n",
    "                if len(z) < 1:#True\n",
    "                    return z+y[0]+x[0]+s[0] #Z nedir? Boş...\n",
    "\n",
    "kelime=\"can\"\n",
    "#kelime = \"input('kelime girin: ')\"\n",
    "print('Girdiğiniz kelimenin tersi: {}'.format(ters_çevir(kelime)))"
   ]
  },
  {
   "cell_type": "code",
   "execution_count": 79,
   "metadata": {},
   "outputs": [
    {
     "name": "stdout",
     "output_type": "stream",
     "text": [
      "tarum\n"
     ]
    }
   ],
   "source": [
    "#girilen kelimenin tersini döndüren başka bir örnek:\n",
    "def ters_çevir(s):\n",
    "    if not s: # her döngüde s değeri bir karakter azalacağı için bir yerde s değeri boş str olacak ve bu satır True olacak\n",
    "        return s\n",
    "    else:\n",
    "        return s[-1] + ters_çevir(s[:-1]) #ilk turda s[-1]=t ve s[:-1]=mura ikinci turda a ve mur üçüncü turda r ve mu\n",
    "#4. turda u ve m 5. turda m ve boş. Yani her turda kelimenin son karakterini yazıp, son karakteri atarak kelimeyi bir harf\n",
    "#kısaltıyoruz. Birsonraki turda bu kelimenın yine son harfini yazıp kelimeyi bir harf daha kısaltıyoruz....\n",
    "\n",
    "print(ters_çevir('murat'))"
   ]
  },
  {
   "cell_type": "code",
   "execution_count": 85,
   "metadata": {},
   "outputs": [
    {
     "name": "stdout",
     "output_type": "stream",
     "text": [
      "12\n",
      "14\n",
      "16\n",
      "18\n",
      "20\n",
      "22\n",
      "24\n",
      "26\n",
      "28\n",
      "30\n",
      "32\n",
      "34\n",
      "36\n",
      "38\n",
      "40\n",
      "42\n",
      "44\n",
      "46\n",
      "48\n"
     ]
    },
    {
     "data": {
      "text/plain": [
       "'bitti!'"
      ]
     },
     "execution_count": 85,
     "metadata": {},
     "output_type": "execute_result"
    }
   ],
   "source": [
    "#Basit bir sayaç yapalım\n",
    "def sayaç(basla, bitis, atlama):\n",
    "    if basla+atlama >= bitis:\n",
    "        return 'bitti!'\n",
    "    else:\n",
    "        print(basla)\n",
    "        return sayaç(basla+atlama, bitis,atlama)\n",
    "sayaç(12,51,2)"
   ]
  },
  {
   "cell_type": "code",
   "execution_count": 88,
   "metadata": {},
   "outputs": [
    {
     "name": "stdout",
     "output_type": "stream",
     "text": [
      "[1, 2, 3, 4, 5, 6, 7, 8, 9, 10, 11, 12, 13, 14]\n"
     ]
    }
   ],
   "source": [
    "#Farklı seviyelerde iç içe geçmiş bir listemizi tek seviyeli bir listeye çevirmek için bir örnek yapalım:\n",
    "\n",
    "l = [1, 2, 3, [4, 5, 6], [7, 8, 9, [10, 11], 12], 13, 14]\n",
    "\n",
    "def düz_liste_yap(liste):\n",
    "    if not isinstance(liste, list): #eğer verilen liste liste değilse, listeye çevir.\n",
    "        return [liste]\n",
    "    elif not liste: # eğer boş veri ise, boş liste döndür.\n",
    "        return [] \n",
    "    else:\n",
    "        return düz_liste_yap(liste[0]) + düz_liste_yap(liste[1:])\n",
    "    #verilen listenin ilk elemanı ile fonksiyondan gelen listeyi topla, bu bir döngü olduğu için dip noktaya ulaşana kadar\n",
    "    #her seferinde tek elemanlı ya da boş liste gelecek en sonunda bütün bu listeler toplanacak...\n",
    "\n",
    "print(düz_liste_yap(l))"
   ]
  },
  {
   "cell_type": "code",
   "execution_count": 91,
   "metadata": {},
   "outputs": [
    {
     "data": {
      "text/plain": [
       "55"
      ]
     },
     "execution_count": 91,
     "metadata": {},
     "output_type": "execute_result"
    }
   ],
   "source": [
    "# liste halinde verilen sayıların toplamını veren bir fonksiyon:\n",
    "def topla(sayilar):\n",
    "    if len(sayilar) < 1:\n",
    "        return 0\n",
    "    else:\n",
    "        ilk, son = sayilar[0], sayilar[1:]\n",
    "        return ilk+topla(son)\n",
    "liste = [0, 1, 2, 3, 4, 5, 6, 7, 8, 9, 10]\n",
    "topla(liste)"
   ]
  },
  {
   "cell_type": "code",
   "execution_count": null,
   "metadata": {},
   "outputs": [],
   "source": []
  }
 ],
 "metadata": {
  "kernelspec": {
   "display_name": "Python 3",
   "language": "python",
   "name": "python3"
  },
  "language_info": {
   "codemirror_mode": {
    "name": "ipython",
    "version": 3
   },
   "file_extension": ".py",
   "mimetype": "text/x-python",
   "name": "python",
   "nbconvert_exporter": "python",
   "pygments_lexer": "ipython3",
   "version": "3.7.6"
  }
 },
 "nbformat": 4,
 "nbformat_minor": 2
}
