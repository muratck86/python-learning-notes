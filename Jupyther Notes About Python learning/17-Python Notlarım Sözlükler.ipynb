{
 "cells": [
  {
   "cell_type": "markdown",
   "metadata": {},
   "source": [
    "# SÖZLÜKLERİN GENEL YAPISI"
   ]
  },
  {
   "cell_type": "markdown",
   "metadata": {},
   "source": [
    "Sözlükleri aşağıdaki şekillerde tanımlarız"
   ]
  },
  {
   "cell_type": "code",
   "execution_count": null,
   "metadata": {},
   "outputs": [],
   "source": [
    "tur_eng={\"kitap\":\"book\"}"
   ]
  },
  {
   "cell_type": "code",
   "execution_count": 3,
   "metadata": {},
   "outputs": [],
   "source": [
    "sözlük={}"
   ]
  },
  {
   "cell_type": "code",
   "execution_count": 4,
   "metadata": {},
   "outputs": [],
   "source": [
    "sözlük2=dict()"
   ]
  },
  {
   "cell_type": "code",
   "execution_count": 5,
   "metadata": {},
   "outputs": [
    {
     "data": {
      "text/plain": [
       "2"
      ]
     },
     "execution_count": 5,
     "metadata": {},
     "output_type": "execute_result"
    }
   ],
   "source": [
    "kelimeler = {\"kitap\": \"book\", \"bilgisayar\": \"computer\"}\n",
    "len(kelimeler)"
   ]
  },
  {
   "cell_type": "code",
   "execution_count": 10,
   "metadata": {},
   "outputs": [],
   "source": [
    "#uzayan sözlükleri bu şekilde tanımlamak okunaklılık açısından daha doğrudur:\n",
    "sözlük = {\"kitap\"      : \"book\",\n",
    "          \"bilgisayar\" : \"computer\",\n",
    "          \"programlama\": \"programming\",\n",
    "          \"dil\"        : \"language\",\n",
    "          \"defter\"     : \"notebook\"}"
   ]
  },
  {
   "cell_type": "code",
   "execution_count": 11,
   "metadata": {},
   "outputs": [
    {
     "data": {
      "text/plain": [
       "'language'"
      ]
     },
     "execution_count": 11,
     "metadata": {},
     "output_type": "execute_result"
    }
   ],
   "source": [
    "sözlük[\"dil\"]"
   ]
  },
  {
   "cell_type": "code",
   "execution_count": 12,
   "metadata": {},
   "outputs": [
    {
     "ename": "KeyError",
     "evalue": "'elma'",
     "output_type": "error",
     "traceback": [
      "\u001b[1;31m---------------------------------------------------------------------------\u001b[0m",
      "\u001b[1;31mKeyError\u001b[0m                                  Traceback (most recent call last)",
      "\u001b[1;32m<ipython-input-12-993b756f6138>\u001b[0m in \u001b[0;36m<module>\u001b[1;34m\u001b[0m\n\u001b[0;32m      1\u001b[0m \u001b[1;31m#Eğer bir sözlükte bulunmayan bir anahtarın değerini arıyorsak KeyError hatası döner:\u001b[0m\u001b[1;33m\u001b[0m\u001b[1;33m\u001b[0m\u001b[1;33m\u001b[0m\u001b[0m\n\u001b[1;32m----> 2\u001b[1;33m \u001b[0msözlük\u001b[0m\u001b[1;33m[\u001b[0m\u001b[1;34m\"elma\"\u001b[0m\u001b[1;33m]\u001b[0m\u001b[1;33m\u001b[0m\u001b[1;33m\u001b[0m\u001b[0m\n\u001b[0m",
      "\u001b[1;31mKeyError\u001b[0m: 'elma'"
     ]
    }
   ],
   "source": [
    "#Eğer bir sözlükte bulunmayan bir anahtarın değerini arıyorsak KeyError hatası döner:\n",
    "sözlük[\"elma\"]"
   ]
  },
  {
   "cell_type": "code",
   "execution_count": 13,
   "metadata": {},
   "outputs": [
    {
     "name": "stdout",
     "output_type": "stream",
     "text": [
      "Telefon numarasını öğrenmek için bir kişi adı girin: mehmet su\n",
      "mehmet su adlı kişinin telefon numarası: 0543 543 42 42\n"
     ]
    }
   ],
   "source": [
    "# basit bir telefon defteri uygulaması:\n",
    "telefon_defteri = {\"ahmet öz\" : \"0532 532 32 32\",\n",
    "                   \"mehmet su\": \"0543 543 42 42\",\n",
    "                   \"seda naz\" : \"0533 533 33 33\",\n",
    "                   \"eda ala\"  : \"0212 212 12 12\"}\n",
    "\n",
    "kişi = input(\"Telefon numarasını öğrenmek için bir kişi adı girin: \")\n",
    "\n",
    "if kişi in telefon_defteri:\n",
    "    cevap = \"{} adlı kişinin telefon numarası: {}\"\n",
    "    print(cevap.format(kişi, telefon_defteri[kişi]))\n",
    "else:\n",
    "    print(\"Aradığınız kişi telefon rehberinde yok!\")"
   ]
  },
  {
   "cell_type": "code",
   "execution_count": 14,
   "metadata": {},
   "outputs": [
    {
     "name": "stdout",
     "output_type": "stream",
     "text": [
      "Adana\n"
     ]
    }
   ],
   "source": [
    "# iç içe sözlük kullanımı\n",
    "kişiler = {\"Ahmet Özkoparan\": {\"Memleket\": \"İstanbul\",\n",
    "                               \"Meslek\"  : \"Öğretmen\",\n",
    "                               \"Yaş\"     : 34},\n",
    "\n",
    "           \"Mehmet Yağız\"   : {\"Memleket\": \"Adana\",\n",
    "                               \"Meslek\"  : \"Mühendis\",\n",
    "                               \"Yaş\"     : 40},\n",
    "\n",
    "           \"Seda Bayrak\"    : {\"Memleket\": \"İskenderun\",\n",
    "                               \"Meslek\"  : \"Doktor\",\n",
    "                               \"Yaş\"     : 30}}\n",
    "print(kişiler[\"Mehmet Yağız\"][\"Memleket\"])"
   ]
  },
  {
   "cell_type": "code",
   "execution_count": 16,
   "metadata": {},
   "outputs": [
    {
     "data": {
      "text/plain": [
       "'Doktor'"
      ]
     },
     "execution_count": 16,
     "metadata": {},
     "output_type": "execute_result"
    }
   ],
   "source": [
    "#sözlük içinde liste:\n",
    "sözlük = {\"Ahmet Özkoparan\": [\"İstanbul\", \"Öğretmen\", 34],\n",
    "          \"Mehmet Yağız\"   : [\"Adana\", \"Mühendis\", 40],\n",
    "          \"Seda Bayrak\"    : [\"İskenderun\", \"Doktor\", 30]}\n",
    "sözlük[\"Seda Bayrak\"][1]"
   ]
  },
  {
   "cell_type": "markdown",
   "metadata": {},
   "source": [
    "## Sözlüklere öğe ekleme"
   ]
  },
  {
   "cell_type": "code",
   "execution_count": 17,
   "metadata": {},
   "outputs": [
    {
     "data": {
      "text/plain": [
       "{'Ahmet': 'Adana', 'Mehmet': 'Kayseri'}"
      ]
     },
     "execution_count": 17,
     "metadata": {},
     "output_type": "execute_result"
    }
   ],
   "source": [
    "sözlük={}\n",
    "sözlük[\"Ahmet\"] = \"Adana\"\n",
    "sözlük[\"Mehmet\"]=\"Kayseri\"\n",
    "sözlük"
   ]
  },
  {
   "cell_type": "code",
   "execution_count": 18,
   "metadata": {},
   "outputs": [],
   "source": [
    "personel = {\"Mehmet Öz\": \"AR-GE Müdürü\",\n",
    "            \"Samet Söz\": \"Genel Direktör\",\n",
    "            \"Sedat Gün\": \"Proje Müdürü\"}"
   ]
  },
  {
   "cell_type": "code",
   "execution_count": 19,
   "metadata": {},
   "outputs": [
    {
     "data": {
      "text/plain": [
       "{'Mehmet Öz': 'AR-GE Müdürü',\n",
       " 'Samet Söz': 'Genel Direktör',\n",
       " 'Sedat Gün': 'Proje Müdürü'}"
      ]
     },
     "execution_count": 19,
     "metadata": {},
     "output_type": "execute_result"
    }
   ],
   "source": [
    "personel"
   ]
  },
  {
   "cell_type": "code",
   "execution_count": 22,
   "metadata": {},
   "outputs": [
    {
     "name": "stdout",
     "output_type": "stream",
     "text": [
      "{'Mehmet Öz': 'AR-GE Müdürü', 'Samet Söz': 'Genel Direktör', 'Sedat Gün': 'Proje Müdürü', 'Turgut Özben': 'Mühendis'}\n"
     ]
    }
   ],
   "source": [
    "personel[\"Turgut Özben\"]=\"Mühendis\"\n",
    "print(personel)"
   ]
  },
  {
   "cell_type": "markdown",
   "metadata": {},
   "source": [
    "##### Bir sözlükteki değerler her türlü veri tipini alabilirken, anahtarlar sadece immutable veri tiplerini alabilirler."
   ]
  },
  {
   "cell_type": "markdown",
   "metadata": {},
   "source": [
    "## Sözlüklerde değişiklik yapma"
   ]
  },
  {
   "cell_type": "markdown",
   "metadata": {},
   "source": [
    "Sözlüklerde değişiklik yapmak ile öğe ekleme aynı şekilde yapılır, eğer öğeye ait anahtar varsa değeri değişir, yoksa eklenir. Anahtarlar değiştirilemeyen veri tipleri olduklarından değiştirilemezler, ancak yenisini ekleyip eskiyi silebiliriz..."
   ]
  },
  {
   "cell_type": "markdown",
   "metadata": {},
   "source": [
    "## Sözlük Üreteçleri (Dictionary Comprehensions)"
   ]
  },
  {
   "cell_type": "code",
   "execution_count": 23,
   "metadata": {},
   "outputs": [],
   "source": [
    "harfler = 'abcçdefgğhıijklmnoöprsştuüvyz'\n",
    "# bu harflerin her birine bir numara vererek bir sözlük oluşturalım."
   ]
  },
  {
   "cell_type": "code",
   "execution_count": 36,
   "metadata": {},
   "outputs": [
    {
     "name": "stdout",
     "output_type": "stream",
     "text": [
      "{'a': 0, 'b': 1, 'c': 2, 'ç': 3, 'd': 4, 'e': 5, 'f': 6, 'g': 7, 'ğ': 8, 'h': 9, 'ı': 10, 'i': 11, 'j': 12, 'k': 13, 'l': 14, 'm': 15, 'n': 16, 'o': 17, 'ö': 18, 'p': 19, 'r': 20, 's': 21, 'ş': 22, 't': 23, 'u': 24, 'ü': 25, 'v': 26, 'y': 27, 'z': 28}\n"
     ]
    }
   ],
   "source": [
    "# Yöntem 1\n",
    "sözlük = {}\n",
    "for i in harfler:\n",
    "    sözlük[i] = harfler.index(i)\n",
    "print(sözlük)"
   ]
  },
  {
   "cell_type": "code",
   "execution_count": 38,
   "metadata": {},
   "outputs": [
    {
     "name": "stdout",
     "output_type": "stream",
     "text": [
      "{'a': 0, 'b': 1, 'c': 2, 'ç': 3, 'd': 4, 'e': 5, 'f': 6, 'g': 7, 'ğ': 8, 'h': 9, 'ı': 10, 'i': 11, 'j': 12, 'k': 13, 'l': 14, 'm': 15, 'n': 16, 'o': 17, 'ö': 18, 'p': 19, 'r': 20, 's': 21, 'ş': 22, 't': 23, 'u': 24, 'ü': 25, 'v': 26, 'y': 27, 'z': 28}\n"
     ]
    }
   ],
   "source": [
    "# Yöntem 2\n",
    "sözlük = {}\n",
    "for i in range(len(harfler)):\n",
    "    sözlük[harfler[i]] = i\n",
    "print(sözlük)"
   ]
  },
  {
   "cell_type": "code",
   "execution_count": 40,
   "metadata": {},
   "outputs": [
    {
     "name": "stdout",
     "output_type": "stream",
     "text": [
      "{'a': 0, 'b': 1, 'c': 2, 'ç': 3, 'd': 4, 'e': 5, 'f': 6, 'g': 7, 'ğ': 8, 'h': 9, 'ı': 10, 'i': 11, 'j': 12, 'k': 13, 'l': 14, 'm': 15, 'n': 16, 'o': 17, 'ö': 18, 'p': 19, 'r': 20, 's': 21, 'ş': 22, 't': 23, 'u': 24, 'ü': 25, 'v': 26, 'y': 27, 'z': 28}\n"
     ]
    }
   ],
   "source": [
    "# Yöntem 3: Dictionary Comprehension\n",
    "sözlük = {i: harfler.index(i) for i in harfler}\n",
    "print(sözlük)"
   ]
  },
  {
   "cell_type": "code",
   "execution_count": 42,
   "metadata": {},
   "outputs": [
    {
     "data": {
      "text/plain": [
       "{'ahmet': 5,\n",
       " 'mehmet': 6,\n",
       " 'fırat': 5,\n",
       " 'zeynep': 6,\n",
       " 'selma': 5,\n",
       " 'abdullah': 8,\n",
       " 'cem': 3}"
      ]
     },
     "execution_count": 42,
     "metadata": {},
     "output_type": "execute_result"
    }
   ],
   "source": [
    "#isimler listesindeki her ismin uzunluğunu gösteren bir sözlük oluşturalım:\n",
    "isimler = [\"ahmet\", \"mehmet\", \"fırat\", \"zeynep\", \"selma\", \"abdullah\", \"cem\"]\n",
    "isimuzunluk={i:len(i) for i in isimler}\n",
    "isimuzunluk"
   ]
  },
  {
   "cell_type": "markdown",
   "metadata": {},
   "source": [
    "# SÖZLÜKLERİN METODLARI"
   ]
  },
  {
   "cell_type": "code",
   "execution_count": 45,
   "metadata": {},
   "outputs": [
    {
     "name": "stdout",
     "output_type": "stream",
     "text": [
      "['clear', 'copy', 'fromkeys', 'get', 'items', 'keys', 'pop', 'popitem', 'setdefault', 'update', 'values']\n"
     ]
    }
   ],
   "source": [
    "metodlist=[i for i in dir(dict) if i[0]!=\"_\"]\n",
    "print(metodlist)"
   ]
  },
  {
   "cell_type": "markdown",
   "metadata": {},
   "source": [
    "# keys() metodu"
   ]
  },
  {
   "cell_type": "markdown",
   "metadata": {},
   "source": [
    "Parametresi olmayan bu metodun görevi sözlüklerin keylerini listelemektir."
   ]
  },
  {
   "cell_type": "code",
   "execution_count": 47,
   "metadata": {},
   "outputs": [
    {
     "data": {
      "text/plain": [
       "dict_keys(['kitap', 'bilgisayar', 'programlama', 'dil', 'defter'])"
      ]
     },
     "execution_count": 47,
     "metadata": {},
     "output_type": "execute_result"
    }
   ],
   "source": [
    "sözlük = {\"kitap\"      : \"book\",\n",
    "          \"bilgisayar\" : \"computer\",\n",
    "          \"programlama\": \"programming\",\n",
    "          \"dil\"        : \"language\",\n",
    "          \"defter\"     : \"notebook\"}\n",
    "sözlük.keys()"
   ]
  },
  {
   "cell_type": "code",
   "execution_count": 50,
   "metadata": {},
   "outputs": [
    {
     "name": "stdout",
     "output_type": "stream",
     "text": [
      "['kitap', 'bilgisayar', 'programlama', 'dil', 'defter']\n"
     ]
    }
   ],
   "source": [
    "trlist=list(sözlük.keys())\n",
    "print(trlist)"
   ]
  },
  {
   "cell_type": "code",
   "execution_count": 52,
   "metadata": {},
   "outputs": [
    {
     "data": {
      "text/plain": [
       "('kitap', 'bilgisayar', 'programlama', 'dil', 'defter')"
      ]
     },
     "execution_count": 52,
     "metadata": {},
     "output_type": "execute_result"
    }
   ],
   "source": [
    "trdemet=tuple(sözlük.keys())\n",
    "trdemet"
   ]
  },
  {
   "cell_type": "code",
   "execution_count": 53,
   "metadata": {},
   "outputs": [
    {
     "name": "stdout",
     "output_type": "stream",
     "text": [
      "kitap,bilgisayar,programlama,dil,defter\n"
     ]
    }
   ],
   "source": [
    "kelimeler=\",\".join(sözlük.keys())\n",
    "print(kelimeler)"
   ]
  },
  {
   "cell_type": "markdown",
   "metadata": {},
   "source": [
    "# values() metodu"
   ]
  },
  {
   "cell_type": "markdown",
   "metadata": {},
   "source": [
    "Parametresi olmayan bu metodun görevi sözlüklerin valuelerini listelemektir."
   ]
  },
  {
   "cell_type": "code",
   "execution_count": 56,
   "metadata": {},
   "outputs": [
    {
     "data": {
      "text/plain": [
       "'book, computer, programming, language, notebook'"
      ]
     },
     "execution_count": 56,
     "metadata": {},
     "output_type": "execute_result"
    }
   ],
   "source": [
    "ingkelimeler = \", \".join([str(i) for i in sözlük.values()])\n",
    "ingkelimeler"
   ]
  },
  {
   "cell_type": "markdown",
   "metadata": {},
   "source": [
    "# items() metodu"
   ]
  },
  {
   "cell_type": "markdown",
   "metadata": {},
   "source": [
    "Yine parametresi olmayan bu metod, bir sözlükteki anahtar ve değerleri ikili demetler halinde bir liste içinde verir."
   ]
  },
  {
   "cell_type": "code",
   "execution_count": 57,
   "metadata": {},
   "outputs": [
    {
     "name": "stdout",
     "output_type": "stream",
     "text": [
      "dict_items([('kitap', 'book'), ('bilgisayar', 'computer'), ('programlama', 'programming'), ('dil', 'language'), ('defter', 'notebook')])\n"
     ]
    }
   ],
   "source": [
    "print(sözlük.items())"
   ]
  },
  {
   "cell_type": "markdown",
   "metadata": {},
   "source": [
    "# get () metodu"
   ]
  },
  {
   "cell_type": "markdown",
   "metadata": {},
   "source": [
    "Bu metoda parametre olarak girilen keyin değerini verir. İki adet parametre alır birinci parametre sözlükte değeri istenen key, ikinci parametre ise eğer böyle bir key yoksa verilecek mesajdır."
   ]
  },
  {
   "cell_type": "code",
   "execution_count": 59,
   "metadata": {},
   "outputs": [
    {
     "name": "stdout",
     "output_type": "stream",
     "text": [
      "Lütfen anlamını öğrenmek istediğiniz kelimeyi yazınız:ahme\n",
      "Bu kelime veritabanımızda yoktur!\n"
     ]
    }
   ],
   "source": [
    "ing_sözlük = {\"dil\": \"language\", \"bilgisayar\": \"computer\", \"masa\": \"table\"}\n",
    "\n",
    "sorgu = input(\"Lütfen anlamını öğrenmek istediğiniz kelimeyi yazınız:\")\n",
    "\n",
    "print(ing_sözlük.get(sorgu, \"Bu kelime veritabanımızda yoktur!\"))"
   ]
  },
  {
   "cell_type": "markdown",
   "metadata": {},
   "source": [
    "# clear() metodu"
   ]
  },
  {
   "cell_type": "markdown",
   "metadata": {},
   "source": [
    "Sözlüğün içindeki tüm öğeleri siler, boş bir sözlük kalır."
   ]
  },
  {
   "cell_type": "markdown",
   "metadata": {},
   "source": [
    "# copy() metodu"
   ]
  },
  {
   "cell_type": "markdown",
   "metadata": {},
   "source": [
    "Sözlüğü kopyalamaya yarar, bir değişkene tanımlı bir veriyi başka bir adla bir değişkene daha atmak o veriyi kopyalamak olmuyor, aynı veriyi iki farklı değişken adıyla çağırmak anlamına geliyor, bu metod direkt veriyi kopyalayarak birbirinden bağımsız ama içeriği aynı iki değişken tanımlar."
   ]
  },
  {
   "cell_type": "code",
   "execution_count": 65,
   "metadata": {},
   "outputs": [
    {
     "name": "stdout",
     "output_type": "stream",
     "text": [
      "{'İstanbul': 'yağmurlu', 'Adana': 'güneşli', 'İzmir': 'bulutlu'}\n",
      "{'İstanbul': 'yağmurlu', 'Adana': 'güneşli', 'İzmir': 'bulutlu'}\n"
     ]
    }
   ],
   "source": [
    "hava_durumu1 = {\"İstanbul\": \"yağmurlu\", \"Adana\": \"güneşli\",\"İzmir\": \"bulutlu\"}\n",
    "hava_durumu2 =hava_durumu1\n",
    "print(hava_durumu1,hava_durumu2,sep=\"\\n\")"
   ]
  },
  {
   "cell_type": "code",
   "execution_count": 67,
   "metadata": {},
   "outputs": [
    {
     "name": "stdout",
     "output_type": "stream",
     "text": [
      "{'İstanbul': 'yağmurlu', 'Adana': 'güneşli', 'İzmir': 'bulutlu', 'Ankara': 'Rüzgarlı'}\n",
      "{'İstanbul': 'yağmurlu', 'Adana': 'güneşli', 'İzmir': 'bulutlu', 'Ankara': 'Rüzgarlı'}\n"
     ]
    }
   ],
   "source": [
    "hava_durumu1[\"Ankara\"]=\"Rüzgarlı\"\n",
    "print(hava_durumu1,hava_durumu2,sep=\"\\n\")"
   ]
  },
  {
   "cell_type": "markdown",
   "metadata": {},
   "source": [
    "Görüldüğü gibi biz Ankara hava durumunu sadece hava_durumu1 sözlüğüne ekledik ama hava_durumu2 sözlüğü de değişti. Çünkü tek bir sözlük verisi var ve bu iki ayrı değişkene tanımlı."
   ]
  },
  {
   "cell_type": "code",
   "execution_count": 68,
   "metadata": {},
   "outputs": [],
   "source": [
    "hava_durumu2=hava_durumu1.copy()"
   ]
  },
  {
   "cell_type": "code",
   "execution_count": 69,
   "metadata": {},
   "outputs": [],
   "source": [
    "hava_durumu1[\"Mersin\"]=\"Parçalı Bulutlu\""
   ]
  },
  {
   "cell_type": "code",
   "execution_count": 70,
   "metadata": {},
   "outputs": [
    {
     "name": "stdout",
     "output_type": "stream",
     "text": [
      "{'İstanbul': 'yağmurlu', 'Adana': 'güneşli', 'İzmir': 'bulutlu', 'Ankara': 'Rüzgarlı', 'Mersin': 'Parçalı Bulutlu'}\n",
      "{'İstanbul': 'yağmurlu', 'Adana': 'güneşli', 'İzmir': 'bulutlu', 'Ankara': 'Rüzgarlı'}\n"
     ]
    }
   ],
   "source": [
    "print(hava_durumu1,hava_durumu2,sep=\"\\n\")"
   ]
  },
  {
   "cell_type": "markdown",
   "metadata": {},
   "source": [
    "# fromkeys() metodu"
   ]
  },
  {
   "cell_type": "markdown",
   "metadata": {},
   "source": [
    "Bu Metodun görevi listelerden veya demetlerden sözlük oluşturmaktır."
   ]
  },
  {
   "cell_type": "code",
   "execution_count": 75,
   "metadata": {},
   "outputs": [
    {
     "data": {
      "text/plain": [
       "{'Adana': 'TR',\n",
       " 'Ankara': 'TR',\n",
       " 'İstanbul': 'TR',\n",
       " 'Antalya': 'TR',\n",
       " 'İzmir': 'TR'}"
      ]
     },
     "execution_count": 75,
     "metadata": {},
     "output_type": "execute_result"
    }
   ],
   "source": [
    "şehirler=(\"Adana\",\"Ankara\",\"İstanbul\",\"Antalya\",\"İzmir\")\n",
    "sözlük=dict.fromkeys(şehirler,\"TR\")\n",
    "sözlük"
   ]
  },
  {
   "cell_type": "markdown",
   "metadata": {},
   "source": [
    "# pop() metodu"
   ]
  },
  {
   "cell_type": "markdown",
   "metadata": {},
   "source": [
    "Bu metodun listelerdeki pop() metodundan farkı, index no yerine key yazıyor olmamız ve parametresiz kullanamıyor oluşumuzdur. Ayrıca silmeye çalıştığımız öğe sözlükte yoksa get() metodu gibi istediğimiz bir hata mesajını yazdırma imkanı sunar. Sildiğimiz öğenin değerini bastırır."
   ]
  },
  {
   "cell_type": "code",
   "execution_count": 76,
   "metadata": {},
   "outputs": [
    {
     "data": {
      "text/plain": [
       "'güneşli'"
      ]
     },
     "execution_count": 76,
     "metadata": {},
     "output_type": "execute_result"
    }
   ],
   "source": [
    "hava_durumu1.pop(\"Adana\")"
   ]
  },
  {
   "cell_type": "code",
   "execution_count": 78,
   "metadata": {},
   "outputs": [
    {
     "data": {
      "text/plain": [
       "'Şehir Bulunamadı'"
      ]
     },
     "execution_count": 78,
     "metadata": {},
     "output_type": "execute_result"
    }
   ],
   "source": [
    "hava_durumu1.pop(\"Aydın\",\"Şehir Bulunamadı\")"
   ]
  },
  {
   "cell_type": "markdown",
   "metadata": {},
   "source": [
    "# popitem() metodu"
   ]
  },
  {
   "cell_type": "markdown",
   "metadata": {},
   "source": [
    "Bu metod ise pop() metodunun parametresiz kullanımıdır, sözlüklerde index numarası kavramı yoktur, bu metod rastgele bir öğeyi siler."
   ]
  },
  {
   "cell_type": "code",
   "execution_count": 79,
   "metadata": {},
   "outputs": [
    {
     "data": {
      "text/plain": [
       "{'İstanbul': 'yağmurlu',\n",
       " 'İzmir': 'bulutlu',\n",
       " 'Ankara': 'Rüzgarlı',\n",
       " 'Mersin': 'Parçalı Bulutlu'}"
      ]
     },
     "execution_count": 79,
     "metadata": {},
     "output_type": "execute_result"
    }
   ],
   "source": [
    "hava_durumu1"
   ]
  },
  {
   "cell_type": "code",
   "execution_count": 81,
   "metadata": {},
   "outputs": [
    {
     "data": {
      "text/plain": [
       "('Mersin', 'Parçalı Bulutlu')"
      ]
     },
     "execution_count": 81,
     "metadata": {},
     "output_type": "execute_result"
    }
   ],
   "source": [
    "hava_durumu1.popitem()"
   ]
  },
  {
   "cell_type": "markdown",
   "metadata": {},
   "source": [
    "# setdefault() metodu"
   ]
  },
  {
   "cell_type": "markdown",
   "metadata": {},
   "source": [
    "Bu metod ilk parametreyi keylerde arar eğer yoksa ilk parametreyi yeni bir key ve ikinci parametreyi onun değeri olarak sözlüğe ekler, eğer zaten aynı key varsa mevcut keyin değerini ekrana bastırır ve değişiklik yapmaz."
   ]
  },
  {
   "cell_type": "code",
   "execution_count": 83,
   "metadata": {},
   "outputs": [
    {
     "data": {
      "text/plain": [
       "{'meyveler': ('elma', 'armut'),\n",
       " 'sebzeler': ('pırasa', 'fasulye'),\n",
       " 'içecekler': ('su', 'kola')}"
      ]
     },
     "execution_count": 83,
     "metadata": {},
     "output_type": "execute_result"
    }
   ],
   "source": [
    "sepet = {\"meyveler\": (\"elma\", \"armut\"), \"sebzeler\": (\"pırasa\", \"fasulye\")}\n",
    "sepet.setdefault(\"içecekler\", (\"su\", \"kola\"))\n",
    "sepet"
   ]
  },
  {
   "cell_type": "code",
   "execution_count": 84,
   "metadata": {},
   "outputs": [
    {
     "data": {
      "text/plain": [
       "{'meyveler': ('elma', 'armut'),\n",
       " 'sebzeler': ('pırasa', 'fasulye'),\n",
       " 'içecekler': ('su', 'kola')}"
      ]
     },
     "execution_count": 84,
     "metadata": {},
     "output_type": "execute_result"
    }
   ],
   "source": [
    "sepet.setdefault(\"meyveler\", (\"erik\", \"çilek\"))\n",
    "sepet"
   ]
  },
  {
   "cell_type": "markdown",
   "metadata": {},
   "source": [
    "# update() metodu"
   ]
  },
  {
   "cell_type": "code",
   "execution_count": 2,
   "metadata": {},
   "outputs": [
    {
     "data": {
      "text/plain": [
       "{'elma': 3, 'armut': 20, 'peynir': 8, 'sosis': 4, 'sucuk': 6}"
      ]
     },
     "execution_count": 2,
     "metadata": {},
     "output_type": "execute_result"
    }
   ],
   "source": [
    "stok = {\"elma\": 5, \"armut\": 10, \"peynir\": 6, \"sosis\": 15}\n",
    "yeni_stok = {\"elma\": 3, \"armut\": 20, \"peynir\": 8, \"sosis\": 4, \"sucuk\": 6}\n",
    "stok.update(yeni_stok)\n",
    "stok"
   ]
  },
  {
   "cell_type": "code",
   "execution_count": 5,
   "metadata": {},
   "outputs": [
    {
     "data": {
      "text/plain": [
       "{'elma': 18, 'armut': 20, 'peynir': 8, 'sosis': 4, 'sucuk': 6, 'ekmek': 3}"
      ]
     },
     "execution_count": 5,
     "metadata": {},
     "output_type": "execute_result"
    }
   ],
   "source": [
    "son_stok={\"ekmek\":3,\"elma\":18}\n",
    "stok.update(son_stok)\n",
    "stok"
   ]
  },
  {
   "cell_type": "code",
   "execution_count": null,
   "metadata": {},
   "outputs": [],
   "source": []
  }
 ],
 "metadata": {
  "kernelspec": {
   "display_name": "Python 3",
   "language": "python",
   "name": "python3"
  },
  "language_info": {
   "codemirror_mode": {
    "name": "ipython",
    "version": 3
   },
   "file_extension": ".py",
   "mimetype": "text/x-python",
   "name": "python",
   "nbconvert_exporter": "python",
   "pygments_lexer": "ipython3",
   "version": "3.7.6"
  }
 },
 "nbformat": 4,
 "nbformat_minor": 2
}
