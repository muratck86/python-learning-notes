{
 "cells": [
  {
   "cell_type": "markdown",
   "metadata": {},
   "source": [
    "# Koşul Deyimleri"
   ]
  },
  {
   "cell_type": "markdown",
   "metadata": {},
   "source": [
    "## mantıksal işleçler"
   ]
  },
  {
   "cell_type": "raw",
   "metadata": {},
   "source": [
    ">  büyüktür\n",
    "<  küçüktür\n",
    ">= büyük eşittir\n",
    "<= küçük eşittir\n",
    "== eşittir\n",
    "!= eşit değildir\n",
    "Python'da iki veri arasında bu karşılaştırmaları yaptığımızda eğer karşılaştırma doğru ise True, Yanlış ise False sonucu verir"
   ]
  },
  {
   "cell_type": "markdown",
   "metadata": {},
   "source": [
    "## if, elif ve else"
   ]
  },
  {
   "cell_type": "raw",
   "metadata": {},
   "source": [
    "if veri1 mantıksal işleç veri2:\n",
    "    yukarıdaki karşılaştırma doğruysa yapılacak olan işlemler"
   ]
  },
  {
   "cell_type": "code",
   "execution_count": 2,
   "metadata": {},
   "outputs": [
    {
     "name": "stdout",
     "output_type": "stream",
     "text": [
      "Sayı: 11\n",
      "girilen sayı 10'dan büyüktür.\n"
     ]
    }
   ],
   "source": [
    "a=input(\"Sayı: \")\n",
    "a=int(a)\n",
    "if a > 10:\n",
    "    print(\"girilen sayı 10'dan büyüktür.\")"
   ]
  },
  {
   "cell_type": "code",
   "execution_count": 5,
   "metadata": {},
   "outputs": [
    {
     "name": "stdout",
     "output_type": "stream",
     "text": [
      "Sayı: 5\n"
     ]
    }
   ],
   "source": [
    "a=input(\"Sayı: \")\n",
    "a=int(a)\n",
    "if a > 10:\n",
    "    print(\"girilen sayı 10'dan büyüktür.\")"
   ]
  },
  {
   "cell_type": "code",
   "execution_count": 2,
   "metadata": {},
   "outputs": [
    {
     "name": "stdout",
     "output_type": "stream",
     "text": [
      "a: 160\n",
      "verdiğiniz sayı 100'den büyüktür.\n"
     ]
    }
   ],
   "source": [
    "a=int(input(\"a: \"))\n",
    "if a < 100:\n",
    "    print(\"verdiğiniz sayı 100'den küçüktür.\")\n",
    "\n",
    "elif a < 50:\n",
    "    print(\"verdiğiniz sayı 50'den küçüktür.\")\n",
    "\n",
    "elif a == 100:\n",
    "    print(\"verdiğiniz sayı 100'dür.\")\n",
    "\n",
    "elif a > 100:\n",
    "    print(\"verdiğiniz sayı 100'den büyüktür.\")\n",
    "\n",
    "elif a > 150:\n",
    "    print(\"verdiğiniz sayı 150'den büyüktür.\")"
   ]
  },
  {
   "cell_type": "code",
   "execution_count": null,
   "metadata": {},
   "outputs": [],
   "source": []
  }
 ],
 "metadata": {
  "kernelspec": {
   "display_name": "Python 3",
   "language": "python",
   "name": "python3"
  },
  "language_info": {
   "codemirror_mode": {
    "name": "ipython",
    "version": 3
   },
   "file_extension": ".py",
   "mimetype": "text/x-python",
   "name": "python",
   "nbconvert_exporter": "python",
   "pygments_lexer": "ipython3",
   "version": "3.7.6"
  }
 },
 "nbformat": 4,
 "nbformat_minor": 2
}
