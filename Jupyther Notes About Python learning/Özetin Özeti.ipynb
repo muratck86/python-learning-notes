{
 "cells": [
  {
   "cell_type": "raw",
   "metadata": {},
   "source": [
    "\"_\" karakterinin bir özel görevi vardır. Komut olarak sadece bu \"_\" karakteri çalıştırdığımızda\n",
    "yapılan son işlemin değerini döndürür."
   ]
  },
  {
   "cell_type": "code",
   "execution_count": 1,
   "metadata": {},
   "outputs": [
    {
     "data": {
      "text/plain": [
       "12"
      ]
     },
     "execution_count": 1,
     "metadata": {},
     "output_type": "execute_result"
    }
   ],
   "source": [
    "a=12\n",
    "a"
   ]
  },
  {
   "cell_type": "code",
   "execution_count": 2,
   "metadata": {},
   "outputs": [
    {
     "data": {
      "text/plain": [
       "12"
      ]
     },
     "execution_count": 2,
     "metadata": {},
     "output_type": "execute_result"
    }
   ],
   "source": [
    "_"
   ]
  },
  {
   "cell_type": "code",
   "execution_count": 6,
   "metadata": {},
   "outputs": [
    {
     "name": "stdout",
     "output_type": "stream",
     "text": [
      "True\n",
      "False\n"
     ]
    }
   ],
   "source": [
    "# aitlik işleci in\n",
    "a=\"murat\"\n",
    "print(\"m\" in a)\n",
    "print(\"z\" in a)"
   ]
  },
  {
   "cell_type": "code",
   "execution_count": 9,
   "metadata": {},
   "outputs": [
    {
     "name": "stdout",
     "output_type": "stream",
     "text": [
      "3194743303952\n",
      "3194743303952\n"
     ]
    }
   ],
   "source": [
    "# id() fonksiyonu\n",
    "a=\"murat\"\n",
    "print(id(a))\n",
    "print(id(\"murat\"))"
   ]
  },
  {
   "cell_type": "code",
   "execution_count": 19,
   "metadata": {},
   "outputs": [
    {
     "name": "stdout",
     "output_type": "stream",
     "text": [
      "True\n",
      "True\n",
      "True\n",
      "False\n"
     ]
    }
   ],
   "source": [
    "# is işleci id karşılaştırır\n",
    "print(a is \"murat\")\n",
    "print(5000 is 5000)\n",
    "print(10**4 is 10**4)\n",
    "print(10**50 is 10**50) #belli bir değerden sonra bellekte tutulmaz ve her seferinde yeni bir id ile yeniden oluşturulur."
   ]
  },
  {
   "cell_type": "raw",
   "metadata": {},
   "source": [
    "if sınama:\n",
    "elif sınama:\n",
    "else:"
   ]
  },
  {
   "cell_type": "raw",
   "metadata": {},
   "source": [
    "while sınama:\n",
    "    if sınama:\n",
    "        break\n",
    "    elif sınama:\n",
    "        continue\n",
    "    else:\n",
    "        pass"
   ]
  },
  {
   "cell_type": "raw",
   "metadata": {},
   "source": [
    "for i in blabla:\n",
    "    if i in blabla\n",
    "        break\n",
    "    ...\n",
    "    ..."
   ]
  },
  {
   "cell_type": "raw",
   "metadata": {},
   "source": [
    "range(ilk,son,atlama)"
   ]
  },
  {
   "cell_type": "code",
   "execution_count": 1,
   "metadata": {},
   "outputs": [
    {
     "name": "stdout",
     "output_type": "stream",
     "text": [
      "Bir Parola Belirleyin:\n",
      "Parolayı boş geçemezsiniz...\n",
      "Bir Parola Belirleyin:ad\n",
      "Parola en az 3 en fazla 8 karakter uzunluğunda olmalıdır.\n",
      "Bir Parola Belirleyin:adana\n",
      "Parolanız: adana\n"
     ]
    }
   ],
   "source": [
    "while True:\n",
    "    parola=input(\"Bir Parola Belirleyin:\")\n",
    "    if not parola:\n",
    "        print(\"Parolayı boş geçemezsiniz...\")\n",
    "    elif len(parola) in range(3,9): #8 dahil değil\n",
    "        print (\"Parolanız:\",parola)\n",
    "        break\n",
    "    else:\n",
    "        print(\"Parola en az 3 en fazla 8 karakter uzunluğunda olmalıdır.\")"
   ]
  },
  {
   "cell_type": "code",
   "execution_count": 2,
   "metadata": {},
   "outputs": [
    {
     "name": "stdout",
     "output_type": "stream",
     "text": [
      "Parolanız:şanlı\n",
      "Parolada Türkeye özgü karakter kullanılamaz.\n",
      "Parolada Türkeye özgü karakter kullanılamaz.\n"
     ]
    }
   ],
   "source": [
    "tr_harfler=\"şçöğüİı\"\n",
    "parola=input(\"Parolanız:\")\n",
    "for karakter in parola:\n",
    "    if karakter in tr_harfler:\n",
    "        print(\"Parolada Türkeye özgü karakter kullanılamaz.\")"
   ]
  },
  {
   "cell_type": "markdown",
   "metadata": {},
   "source": [
    "## Hata Yakalama"
   ]
  },
  {
   "cell_type": "code",
   "execution_count": 5,
   "metadata": {},
   "outputs": [
    {
     "name": "stdout",
     "output_type": "stream",
     "text": [
      "ilk sayı: 25\n",
      "ikinci sayı: 0\n",
      "Hatalı işlem! Bir sayıyı 0'a bölemezsiniz. \n"
     ]
    }
   ],
   "source": [
    "a=input(\"ilk sayı: \")\n",
    "b=input(\"ikinci sayı: \")\n",
    "try:\n",
    "    a,b=int(a),int(b)\n",
    "    print(a,\"/\",b,\"=\",a/b)\n",
    "except ValueError:\n",
    "    print(\"Hatalı işlem! Lütfen sadece sayı giriniz...\")\n",
    "except ZeroDivisionError:\n",
    "    print(\"Hatalı işlem! Bir sayıyı 0'a bölemezsiniz. \")"
   ]
  },
  {
   "cell_type": "raw",
   "metadata": {},
   "source": [
    "except (ValueError,ZeroDivisionError):\n",
    "    print(\"Hatalı işlem! Lütfen geçerli değerler giriniz... \")"
   ]
  },
  {
   "cell_type": "raw",
   "metadata": {},
   "source": [
    "except ValueError as hatamesajı:\n",
    "    print(hatamesajı)\n",
    "except ZeroDivisionError as hatamesajı2:\n",
    "    print(\"Hatalı işlem! Bir sayıyı 0'a bölemezsiniz.\\nOrijinal hata mesajı:\\n\",hatamesajı2)"
   ]
  },
  {
   "cell_type": "code",
   "execution_count": 7,
   "metadata": {},
   "outputs": [
    {
     "name": "stdout",
     "output_type": "stream",
     "text": [
      "Çıkmak için 'q' girin.\n",
      "ilk sayı: 62\n",
      "ikinci sayı: a\n",
      "Hatalı işlem! Lütfen sadece sayı giriniz...\n",
      "Hata Kodu: \n",
      " invalid literal for int() with base 10: 'a'\n",
      "Çıkmak için 'q' girin.\n",
      "ilk sayı: 85\n",
      "ikinci sayı: 0\n",
      "Hatalı İşlem! Lütfen 0'dan büyük bir sayı giriniz...\n",
      "Hata Kodu: \n",
      " division by zero\n",
      "Çıkmak için 'q' girin.\n",
      "ilk sayı: 25\n",
      "ikinci sayı: 5\n",
      "25 / 5 = 5.0\n",
      "Çıkmak için 'q' girin.\n",
      "ilk sayı: q\n",
      "Çıkış Yapıldı\n"
     ]
    }
   ],
   "source": [
    "while True:\n",
    "    a=(input(\"Çıkmak için 'q' girin.\\nilk sayı: \"))\n",
    "    if a==\"q\":\n",
    "        print(\"Çıkış Yapıldı\")\n",
    "        break\n",
    "    else:# Buraya kadar olan kısmı biliyoruz, klasik if bloğu\n",
    "        try:#ilk önce a ve b yi integer yapmayı dene,\n",
    "            a=int(a)\n",
    "            b=int(input(\"ikinci sayı: \"))           \n",
    "        except (ValueError) as hata: #sayı olamıyorsa aşağıdaki işlemi yap\n",
    "            print(\"Hatalı işlem! Lütfen sadece sayı giriniz...\\nHata Kodu: \\n\",hata)\n",
    "        else:#eğer integer olabiliyorsa o zaman,\n",
    "           try:#bölme işlemini yapmayı dene\n",
    "            print(a,\"/\",b,\"=\",a/b)\n",
    "           except ZeroDivisionError as hata0:#Sıfıra bölme hatası ile karşılaşırsan aşağıdakini yap.\n",
    "            print(\"Hatalı İşlem! Lütfen 0\\'dan büyük bir sayı giriniz...\\nHata Kodu: \\n\",hata0)"
   ]
  },
  {
   "cell_type": "raw",
   "metadata": {},
   "source": [
    "try:\n",
    "    hata vermesini beklediğimiz işlemler\n",
    "except HataMesajı:\n",
    "    hata verdiğinde yapılacak işlemler\n",
    "finally:\n",
    "    hata verse de vermese de yapılacak işlemler"
   ]
  },
  {
   "cell_type": "code",
   "execution_count": 10,
   "metadata": {},
   "outputs": [
    {
     "name": "stdout",
     "output_type": "stream",
     "text": [
      "Çıkmak için 'q' girin.\n",
      "ilk sayı: 12\n",
      "ikinci sayı: 0\n"
     ]
    },
    {
     "ename": "Exception",
     "evalue": "Bir sayıyı 0'la toplayamayan kişi hesap makinesini nasıl kullanabiliyor...Yürü Git!!!",
     "output_type": "error",
     "traceback": [
      "\u001b[1;31m---------------------------------------------------------------------------\u001b[0m",
      "\u001b[1;31mException\u001b[0m                                 Traceback (most recent call last)",
      "\u001b[1;32m<ipython-input-10-8170cab047fe>\u001b[0m in \u001b[0;36m<module>\u001b[1;34m\u001b[0m\n\u001b[0;32m      7\u001b[0m     \u001b[0mb\u001b[0m\u001b[1;33m=\u001b[0m\u001b[0mint\u001b[0m\u001b[1;33m(\u001b[0m\u001b[0minput\u001b[0m\u001b[1;33m(\u001b[0m\u001b[1;34m\"ikinci sayı: \"\u001b[0m\u001b[1;33m)\u001b[0m\u001b[1;33m)\u001b[0m\u001b[1;33m\u001b[0m\u001b[1;33m\u001b[0m\u001b[0m\n\u001b[0;32m      8\u001b[0m     \u001b[1;32mif\u001b[0m \u001b[0ma\u001b[0m\u001b[1;33m==\u001b[0m\u001b[1;36m0\u001b[0m \u001b[1;32mor\u001b[0m \u001b[0mb\u001b[0m\u001b[1;33m==\u001b[0m\u001b[1;36m0\u001b[0m\u001b[1;33m:\u001b[0m\u001b[1;33m\u001b[0m\u001b[1;33m\u001b[0m\u001b[0m\n\u001b[1;32m----> 9\u001b[1;33m         \u001b[1;32mraise\u001b[0m \u001b[0mException\u001b[0m\u001b[1;33m(\u001b[0m\u001b[1;34m\"Bir sayıyı 0'la toplayamayan kişi hesap makinesini nasıl kullanabiliyor...Yürü Git!!!\"\u001b[0m\u001b[1;33m)\u001b[0m\u001b[1;33m\u001b[0m\u001b[1;33m\u001b[0m\u001b[0m\n\u001b[0m\u001b[0;32m     10\u001b[0m     \u001b[0mprint\u001b[0m\u001b[1;33m(\u001b[0m\u001b[0ma\u001b[0m\u001b[1;33m,\u001b[0m\u001b[1;34m\"+\"\u001b[0m\u001b[1;33m,\u001b[0m\u001b[0mb\u001b[0m\u001b[1;33m,\u001b[0m\u001b[1;34m\"=\"\u001b[0m\u001b[1;33m,\u001b[0m\u001b[0ma\u001b[0m\u001b[1;33m+\u001b[0m\u001b[0mb\u001b[0m\u001b[1;33m)\u001b[0m\u001b[1;33m\u001b[0m\u001b[1;33m\u001b[0m\u001b[0m\n\u001b[0;32m     11\u001b[0m \u001b[1;31m#Burada Exception adlı genel hata mesajını kullandık. Bunun yerine sadece Python'da tanımlı (ValueError,\u001b[0m\u001b[1;33m\u001b[0m\u001b[1;33m\u001b[0m\u001b[1;33m\u001b[0m\u001b[0m\n",
      "\u001b[1;31mException\u001b[0m: Bir sayıyı 0'la toplayamayan kişi hesap makinesini nasıl kullanabiliyor...Yürü Git!!!"
     ]
    }
   ],
   "source": [
    "# Kendi belirlediğimiz bir durumu hata gibi değerlendirip programı sonlandırmaya yarayan yapı.\n",
    "while True:\n",
    "    a=input(\"Çıkmak için 'q' girin.\\nilk sayı: \")\n",
    "    if a==\"q\":\n",
    "        break\n",
    "    a=int(a)\n",
    "    b=int(input(\"ikinci sayı: \"))\n",
    "    if a==0 or b==0:\n",
    "        raise Exception(\"Bir sayıyı 0'la toplayamayan kişi hesap makinesini nasıl kullanabiliyor...Yürü Git!!!\")\n",
    "    print(a,\"+\",b,\"=\",a+b)\n",
    "#Burada Exception adlı genel hata mesajını kullandık. Bunun yerine sadece Python'da tanımlı (ValueError,\n",
    "#ZeroDivisionError,IOError, TypeError vb.) hata mesajlarından birini kullanabiliriz.\n",
    "#Tanımlı olmayan başka birşey kullanamayız."
   ]
  },
  {
   "cell_type": "raw",
   "metadata": {},
   "source": [
    "Bütün hataları yakalamak...\n",
    "try:\n",
    "    birtakım işlemler\n",
    "except ValueError: #karşılaşılabileceğimizi bildiğimiz bir hata türü ve bununla ilgili yapılacak işlemler.\n",
    "    print(\"Yanlış değer\")\n",
    "except ZeroDivisionError: #karşılaşılabileceğimizi bildiğimiz bir başka  hata türü ve bununla ilgili yapılacak işlemler.\n",
    "    print(\"Sıfıra bölme hatası\")\n",
    "except: #öngöremediğimi bir başka  hata türü ve bununla ilgili yapılacak işlemler.\n",
    "    print(\"Beklenmeyen bir hata oluştu!\")"
   ]
  },
  {
   "cell_type": "markdown",
   "metadata": {},
   "source": [
    "## Stringler "
   ]
  },
  {
   "cell_type": "code",
   "execution_count": 1,
   "metadata": {},
   "outputs": [
    {
     "name": "stdout",
     "output_type": "stream",
     "text": [
      "Python\n"
     ]
    }
   ],
   "source": [
    "print(\"Pyt\"+\"hon\")"
   ]
  },
  {
   "cell_type": "code",
   "execution_count": 7,
   "metadata": {},
   "outputs": [
    {
     "name": "stdout",
     "output_type": "stream",
     "text": [
      "MuratMuratMuratMuratMurat\n",
      "M\n",
      "t\n",
      "istihza\n",
      "moc.adarubispeh.www\n",
      "adarubispeh\n",
      "13579\n",
      "97531\n"
     ]
    }
   ],
   "source": [
    "metin=\"Murat\"\n",
    "print(metin*5)\n",
    "print(metin[0])\n",
    "print(metin[-1])\n",
    "site = \"www.istihza.com\"\n",
    "print(site[4:11])\n",
    "siteadres=\"www.hepsiburada.com\"\n",
    "print(siteadres[::-1])\n",
    "print(siteadres[-5:3:-1])\n",
    "metin=\"123456789\"\n",
    "print(metin[::2])\n",
    "print(metin[::-2])"
   ]
  },
  {
   "cell_type": "code",
   "execution_count": 8,
   "metadata": {},
   "outputs": [
    {
     "data": {
      "text/plain": [
       "<reversed at 0x1e92f373cf8>"
      ]
     },
     "execution_count": 8,
     "metadata": {},
     "output_type": "execute_result"
    }
   ],
   "source": [
    "metin=\"Sana Gül Bahçesi Vadetmedim\"\n",
    "reversed(metin)"
   ]
  },
  {
   "cell_type": "code",
   "execution_count": 9,
   "metadata": {},
   "outputs": [
    {
     "name": "stdout",
     "output_type": "stream",
     "text": [
      "midemtedaV iseçhaB lüG anaS\n"
     ]
    }
   ],
   "source": [
    "print(*reversed(metin),sep=\"\")"
   ]
  },
  {
   "cell_type": "code",
   "execution_count": 11,
   "metadata": {},
   "outputs": [
    {
     "data": {
      "text/plain": [
       "['a', 'i', 'k', 'p', 't']"
      ]
     },
     "execution_count": 11,
     "metadata": {},
     "output_type": "execute_result"
    }
   ],
   "source": [
    "sorted(\"kitap\") #metindeki harfleri alfabetik sırayla liste yapar..."
   ]
  },
  {
   "cell_type": "code",
   "execution_count": 12,
   "metadata": {},
   "outputs": [
    {
     "name": "stdout",
     "output_type": "stream",
     "text": [
      "['e', 'i', 'k', 'ç', 'ç']\n"
     ]
    },
    {
     "data": {
      "text/plain": [
       "['ç', 'ç', 'e', 'i', 'k']"
      ]
     },
     "execution_count": 12,
     "metadata": {},
     "output_type": "execute_result"
    }
   ],
   "source": [
    "#bu fonksiyon Türkçe karakterlerin sıralamasını düzgün yapmaz:\n",
    "print(sorted(\"çiçek\"))\n",
    "#bu sorunu aşmak için:\n",
    "import locale\n",
    "locale.setlocale(locale.LC_ALL, \"Turkish_Turkey.1254\") #Windows için\n",
    "sorted(\"çiçek\", key=locale.strxfrm)"
   ]
  },
  {
   "cell_type": "markdown",
   "metadata": {},
   "source": [
    "Burada sorted() metodunun key adlı özel bir parametresine locale modülünden strxfrm değerini vererek Türkçeye duyarlı bir sıralama yapılmasını sağladık."
   ]
  },
  {
   "cell_type": "markdown",
   "metadata": {},
   "source": [
    "Dikkat!: Bu yöntem bile \"ı\" ve \"i\" harflerinin Türkçe'ye göre doğru sıralamasını yapmaz:"
   ]
  },
  {
   "cell_type": "code",
   "execution_count": 13,
   "metadata": {},
   "outputs": [
    {
     "data": {
      "text/plain": [
       "['a', 'd', 'f', 'g', 'h', 'ı', 'i', 'k']"
      ]
     },
     "execution_count": 13,
     "metadata": {},
     "output_type": "execute_result"
    }
   ],
   "source": [
    "# Bu sorunu aşmak için, ya da kendimize göre bir sıralama şablonu oluşturmak için:\n",
    "harfler = \"abcçdefgğhıijklmnoöprsştuüvyz\"\n",
    "çevrim = {i: harfler.index(i) for i in harfler}\n",
    "#küme tipi bir veri oluşturduk ve her harfi key alıp, sıralamasını value olarak aldık\n",
    "sorted(\"afgdhkıi\", key=çevrim.get)#fonksiyona key parametresi sayesinde çevrim kümesinden sıralamayı almasını söyledik"
   ]
  },
  {
   "cell_type": "code",
   "execution_count": 14,
   "metadata": {},
   "outputs": [
    {
     "name": "stdout",
     "output_type": "stream",
     "text": [
      "http://www.google.com\n",
      "http://www.istihza.com\n",
      "http://www.yahoo.com\n",
      "http://www.gnu.org\n"
     ]
    }
   ],
   "source": [
    "site1 = \"www.google.com\"\n",
    "site2 = \"www.istihza.com\"\n",
    "site3 = \"www.yahoo.com\"\n",
    "site4 = \"www.gnu.org\"\n",
    "for i in site1, site2, site3, site4:\n",
    "    print(\"http://\", i, sep=\"\")"
   ]
  },
  {
   "cell_type": "code",
   "execution_count": 15,
   "metadata": {},
   "outputs": [
    {
     "data": {
      "text/plain": [
       "<enumerate at 0x1e92f348990>"
      ]
     },
     "execution_count": 15,
     "metadata": {},
     "output_type": "execute_result"
    }
   ],
   "source": [
    "enumerate(\"murat\")"
   ]
  },
  {
   "cell_type": "code",
   "execution_count": 16,
   "metadata": {},
   "outputs": [
    {
     "name": "stdout",
     "output_type": "stream",
     "text": [
      "(0, 'm') (1, 'u') (2, 'r') (3, 'a') (4, 't')\n"
     ]
    }
   ],
   "source": [
    "print(*enumerate(\"murat\"))"
   ]
  },
  {
   "cell_type": "markdown",
   "metadata": {},
   "source": [
    "### String Metodları "
   ]
  },
  {
   "cell_type": "code",
   "execution_count": 18,
   "metadata": {},
   "outputs": [
    {
     "data": {
      "text/plain": [
       "'Elma'"
      ]
     },
     "execution_count": 18,
     "metadata": {},
     "output_type": "execute_result"
    }
   ],
   "source": [
    "\"elma\".replace(\"e\",\"E\")"
   ]
  },
  {
   "cell_type": "code",
   "execution_count": 19,
   "metadata": {},
   "outputs": [
    {
     "data": {
      "text/plain": [
       "['Köyden', 'indim', 'şehire']"
      ]
     },
     "execution_count": 19,
     "metadata": {},
     "output_type": "execute_result"
    }
   ],
   "source": [
    "metin=\"Köyden indim şehire\"\n",
    "metin.split()"
   ]
  },
  {
   "cell_type": "code",
   "execution_count": 30,
   "metadata": {},
   "outputs": [
    {
     "data": {
      "text/plain": [
       "['Köy', 'en indim şehire']"
      ]
     },
     "execution_count": 30,
     "metadata": {},
     "output_type": "execute_result"
    }
   ],
   "source": [
    "metin.split(\"d\",1)"
   ]
  },
  {
   "cell_type": "code",
   "execution_count": 22,
   "metadata": {},
   "outputs": [
    {
     "name": "stdout",
     "output_type": "stream",
     "text": [
      "T.B.M.M."
     ]
    }
   ],
   "source": [
    "cümle=\"Türkiye Büyük Millet Meclisi\"\n",
    "for i in cümle.split():\n",
    "    print(i[0]+\".\",end=\"\")"
   ]
  },
  {
   "cell_type": "code",
   "execution_count": 29,
   "metadata": {},
   "outputs": [
    {
     "data": {
      "text/plain": [
       "['Köyden in', 'im şehire.']"
      ]
     },
     "execution_count": 29,
     "metadata": {},
     "output_type": "execute_result"
    }
   ],
   "source": [
    "\"Köyden indim şehire.\".rsplit(\"d\",1) #splitle aynı işleve sahiptir, tek farkı sağdan sola doğru çalışmasıdır."
   ]
  },
  {
   "cell_type": "raw",
   "metadata": {},
   "source": [
    "splitlines() stringleri satır satır ayırır. Tekparametresi True/False Değerlerinden birini alır.\n",
    "Default olarak False olan bu değeri True yaparsak satır sonuna \\n kaçış dizisini ekler."
   ]
  },
  {
   "cell_type": "raw",
   "metadata": {},
   "source": [
    "islower()/isupper() metodları stringin tamamının küçük harf mi/büyük harf mi olduğunu sorgular ve True/False döndürür. "
   ]
  },
  {
   "cell_type": "raw",
   "metadata": {},
   "source": [
    "endswith()/startswith() metodları da stringin sonunda/başında verilen bir stringin olup olmadığını sorgular True/False döndürür."
   ]
  },
  {
   "cell_type": "raw",
   "metadata": {},
   "source": [
    "capitalize() metodu verilen stringin sadece baş harfini büyük yapar, başka büyük harf varsa onları küçük harfe döndürür. Her kelimenin değil, sadece stringin baş harfini büyük yapar."
   ]
  },
  {
   "cell_type": "raw",
   "metadata": {},
   "source": [
    "title() metodu stringdeki her kelimenin baş harfini büyük yapar, diğer büyük harfleri küçük harf yapar."
   ]
  },
  {
   "cell_type": "raw",
   "metadata": {},
   "source": [
    "swapcase() metodu büyük harfleri küçük, küçük harfleri de büyük harfe dönüştürür."
   ]
  },
  {
   "cell_type": "raw",
   "metadata": {},
   "source": [
    "casefold() stingin büyük küçük harf duyarsız versiyonunu oluşturur."
   ]
  },
  {
   "cell_type": "raw",
   "metadata": {},
   "source": [
    "strip(),lstrip(),rstrip() Bu metod eğer parametre verilmemişse bir stringin başında ve sonunda bulunan belli başlı kaçış dizilerini siler, eğer parametre olarak herhangi bir karakter ya da string verilmişse onları siler. strip() stringin her iki tarafı için işlemi yaparken, rstring() sağdakileri, lstring() soldakileri siler."
   ]
  },
  {
   "cell_type": "code",
   "execution_count": 46,
   "metadata": {},
   "outputs": [
    {
     "data": {
      "text/plain": [
       "'Köyden'"
      ]
     },
     "execution_count": 46,
     "metadata": {},
     "output_type": "execute_result"
    }
   ],
   "source": [
    "metin=\"\\nKöyden\\t\"\n",
    "metin.strip()"
   ]
  },
  {
   "cell_type": "raw",
   "metadata": {},
   "source": [
    "\"arada kullanılacak karakterler\".join(birleştirilecek stringler) birleştirilecek stringler demet, liste vs.."
   ]
  },
  {
   "cell_type": "raw",
   "metadata": {},
   "source": [
    "Bu sorgulayıcı metod bir string içinde bir karakter ya da stringin kaç defa geçtiğini döndürür. Kullanım Şekli:\n",
    "\"string\".count(\"sayılacak olan\",başlama indexno,bitiş indexno)"
   ]
  },
  {
   "cell_type": "raw",
   "metadata": {},
   "source": [
    "index()/rindex() metodları, bir stringde aranan karakterin index numarasını verir. Aynı karakterden birden fazla varsa, ilk bulduğu karakterin numarasını verir ve aramayı sonlandırır. 3 parametresi vardır: aranacak karakter, başlangıç no, bitiş no(dahil değil). \n",
    "rindex ise index numarası yine sabit olmak kaydıyla sağdan sola doğru arama yapar."
   ]
  },
  {
   "cell_type": "raw",
   "metadata": {},
   "source": [
    "find()/rfind() metodları index()/rindex() metodlarından tek farkları aranan karakter yoksa index ve rindex ValueError verirken bunlar -1 döndürür."
   ]
  },
  {
   "cell_type": "code",
   "execution_count": 55,
   "metadata": {},
   "outputs": [
    {
     "name": "stdout",
     "output_type": "stream",
     "text": [
      "                                 Murat Can Kurt                                 \n",
      "*********************************Murat Can Kurt*********************************\n",
      "Murat Can Kurt------------------------------------\n",
      "////////////////////////////////////Murat Can Kurt\n"
     ]
    }
   ],
   "source": [
    "isim=\"Murat Can Kurt\"\n",
    "print(\"Murat Can Kurt\".center(80,\" \"))\n",
    "print(isim.center(80,\"*\"))\n",
    "print(isim.ljust(50,\"-\"))\n",
    "print(isim.rjust(50,\"/\"))"
   ]
  },
  {
   "cell_type": "code",
   "execution_count": 56,
   "metadata": {},
   "outputs": [
    {
     "name": "stdout",
     "output_type": "stream",
     "text": [
      "15..................Fonksiyonlar\n",
      "22......................Metodlar\n",
      "36..................Veri Tipleri\n",
      "45......................Sınıflar\n"
     ]
    }
   ],
   "source": [
    "baslıklar=[\"Fonksiyonlar\",\"Metodlar\",\"Veri Tipleri\",\"Sınıflar\"]\n",
    "sayfa=[\"15\",\"22\",\"36\",\"45\"]\n",
    "y=0\n",
    "for i in baslıklar:\n",
    "    print(sayfa[y]+i.rjust(30,\".\"))\n",
    "    y+=1"
   ]
  },
  {
   "cell_type": "code",
   "execution_count": 64,
   "metadata": {},
   "outputs": [
    {
     "name": "stdout",
     "output_type": "stream",
     "text": [
      "0\t1\t2\t3\t4\t5\t6\t7\t8\t9\t10\t11\n",
      "00\t01\t02\t03\t04\t05\t06\t07\t08\t09\t10\t11\t"
     ]
    }
   ],
   "source": [
    "#Bu metod stringlerin başına 0 ekleyerek parametresine verdiğimiz karakter uzunluğuna tamamlar.\n",
    "print(*[i for i in range(12)],sep=\"\\t\")\n",
    "for i in range (12):\n",
    "    print(str(i).zfill(2),end=\"\\t\")"
   ]
  },
  {
   "cell_type": "code",
   "execution_count": 67,
   "metadata": {},
   "outputs": [
    {
     "data": {
      "text/plain": [
       "('ist', 'an', 'bul')"
      ]
     },
     "execution_count": 67,
     "metadata": {},
     "output_type": "execute_result"
    }
   ],
   "source": [
    "#partition() ve rpartition() bir stringi parametre olarak verdiğimiz stringin sağnda ve solunda kalanlar olarak üçe böler\n",
    "\"istanbul\".partition(\"an\")"
   ]
  },
  {
   "cell_type": "code",
   "execution_count": 68,
   "metadata": {},
   "outputs": [
    {
     "data": {
      "text/plain": [
       "b'\\xe7i\\xe7ek'"
      ]
     },
     "execution_count": 68,
     "metadata": {},
     "output_type": "execute_result"
    }
   ],
   "source": [
    "\"çiçek\".encode(\"cp1254\")"
   ]
  },
  {
   "cell_type": "code",
   "execution_count": 69,
   "metadata": {},
   "outputs": [
    {
     "data": {
      "text/plain": [
       "b'cicek'"
      ]
     },
     "execution_count": 69,
     "metadata": {},
     "output_type": "execute_result"
    }
   ],
   "source": [
    "\"cicek\".encode(\"ASCII\")"
   ]
  },
  {
   "cell_type": "code",
   "execution_count": 70,
   "metadata": {},
   "outputs": [
    {
     "name": "stdout",
     "output_type": "stream",
     "text": [
      "armut\tbir\tmeyvedir\n",
      "armut               bir                 meyvedir\n"
     ]
    }
   ],
   "source": [
    "print(\"armut\\tbir\\tmeyvedir\")\n",
    "print(\"armut\\tbir\\tmeyvedir\".expandtabs(20))"
   ]
  },
  {
   "cell_type": "code",
   "execution_count": 72,
   "metadata": {},
   "outputs": [
    {
     "name": "stdout",
     "output_type": "stream",
     "text": [
      "Cok guzel seyler olacak\n",
      "{231: 99, 287: 103, 305: 105, 246: 111, 351: 115, 252: 117, 199: 67, 286: 71, 304: 73, 214: 79, 350: 83, 220: 85}\n"
     ]
    }
   ],
   "source": [
    "#Bildiğiniz gibi, internet üzerinde bazen Türkçe karakterleri kullanamıyoruz.\n",
    "kaynak=\"çğıöşüÇĞİÖŞÜ\"\n",
    "hedef=\"cgiosuCGIOSU\"\n",
    "ceviri_tablosu=str.maketrans(kaynak,hedef)#bu metod {kaynak:hedef} karakter kodlarından oluşan bir küme oluşturdu\n",
    "metin=\"Çok güzel şeyler olacak\"\n",
    "print(metin.translate(ceviri_tablosu))\n",
    "print(ceviri_tablosu)"
   ]
  },
  {
   "cell_type": "raw",
   "metadata": {},
   "source": [
    "isalpha() Bir stringin içindeki tüm karakterlerin alfabetik (yani harf) olup olmadığını sorgular. True ya da False verir.\n",
    "isdigit() Bu da stringin tüm karakterlerin sayısal karakterler olup olmadığını sorgular.\n",
    "isalnum() Bir stringin tüm karakterlerinin alfanumerik, yani rakam ve harflerden oluşup oluşmadığını sorgular.\n",
    "isdecimal() Bir stringin onluk sayı olup olmadığını sorgular.\n",
    "isidentifier() Bir sitringin geçerli bir tanımlayıcı, yani değişken, fonksiyon adı, modül adı olabilmek için uygun olup olmadığını sorgular\n",
    "isnumeric() Tamamen rakamlardan oluşuyor mu?\n",
    "isspace() Tamamen boşluklardan oluşuyor mu?\n",
    "isprintable() Yazdırılabilir mi?"
   ]
  },
  {
   "cell_type": "markdown",
   "metadata": {},
   "source": [
    "### % ile biçimlendirme (eski yöntem)"
   ]
  },
  {
   "cell_type": "code",
   "execution_count": 73,
   "metadata": {},
   "outputs": [
    {
     "name": "stdout",
     "output_type": "stream",
     "text": [
      "Python ve Django iyi bir ikilidir!\n"
     ]
    }
   ],
   "source": [
    "print(\"%s ve %s iyi bir ikilidir!\" %(\"Python\", \"Django\"))"
   ]
  },
  {
   "cell_type": "code",
   "execution_count": 74,
   "metadata": {},
   "outputs": [
    {
     "name": "stdout",
     "output_type": "stream",
     "text": [
      "1. karakter: 'M'\n",
      "2. karakter: 'u'\n",
      "3. karakter: 'r'\n",
      "4. karakter: 'a'\n",
      "5. karakter: 't'\n",
      "6. karakter: 'c'\n",
      "7. karakter: 'a'\n",
      "8. karakter: 'n'\n"
     ]
    }
   ],
   "source": [
    "kardiz = \"Muratcan\"\n",
    "for sıra, karakter in enumerate(kardiz, 1):\n",
    "    print(\"%s. karakter: '%s'\" %(sıra, karakter))"
   ]
  },
  {
   "cell_type": "code",
   "execution_count": 75,
   "metadata": {},
   "outputs": [
    {
     "name": "stdout",
     "output_type": "stream",
     "text": [
      "%0\n",
      "%10\n",
      "%20\n",
      "%30\n",
      "%40\n",
      "%50\n",
      "%60\n",
      "%70\n",
      "%80\n",
      "%90\n"
     ]
    }
   ],
   "source": [
    "for i in range(10):\n",
    "    print(\"%%%s\" %int(i*10))\n",
    "#Burada % işaretini elde edebilmek için % den sonra yine % kullandık, sonra da %s geldi"
   ]
  },
  {
   "cell_type": "code",
   "execution_count": 76,
   "metadata": {},
   "outputs": [
    {
     "name": "stdout",
     "output_type": "stream",
     "text": [
      "|          murat|\n"
     ]
    }
   ],
   "source": [
    "print(\"|%15s|\" %\"murat\") #Burada % ile s arasındaki 15 sayısı bu yer tutucuya sabir 15 karakterlik yer ayırdığımızı gösterir."
   ]
  },
  {
   "cell_type": "code",
   "execution_count": 77,
   "metadata": {},
   "outputs": [
    {
     "name": "stdout",
     "output_type": "stream",
     "text": [
      "|murat          |\n"
     ]
    }
   ],
   "source": [
    "#sola yaslamak için?\n",
    "print(\"|%-15s|\" %\"murat\")"
   ]
  },
  {
   "cell_type": "code",
   "execution_count": 78,
   "metadata": {},
   "outputs": [
    {
     "name": "stdout",
     "output_type": "stream",
     "text": [
      "elma deposunda 25 kilo elma kaldı\n"
     ]
    }
   ],
   "source": [
    "print(\"%(ürün)s deposunda %(miktar)s kilo %(ürün)s kaldı\" %{\"miktar\": 25,\"ürün\": \"elma\"})"
   ]
  },
  {
   "cell_type": "raw",
   "metadata": {},
   "source": [
    "bu yöntemde s yerine integer için i veya d, float için f, tek bir karakter(ascii tablosunda olan) için c, hexadesimal sistem için x veya X gibi harfler kullanılır."
   ]
  },
  {
   "cell_type": "markdown",
   "metadata": {},
   "source": [
    "### .format() metodu ile biçimlendirme (yeni yöntem)"
   ]
  },
  {
   "cell_type": "code",
   "execution_count": 79,
   "metadata": {},
   "outputs": [
    {
     "name": "stdout",
     "output_type": "stream",
     "text": [
      "Django ve Python iyi bir ikilidir!\n"
     ]
    }
   ],
   "source": [
    "print(\"{} ve {} iyi bir ikilidir!\".format(\"Django\", \"Python\"))"
   ]
  },
  {
   "cell_type": "code",
   "execution_count": 80,
   "metadata": {},
   "outputs": [
    {
     "name": "stdout",
     "output_type": "stream",
     "text": [
      "Kalkış yeri: Antalya\n",
      "Varış yeri: İstanbul\n",
      "İsim ve soyisim: Murat Can Kurt\n",
      "Bilet sayısı: 2\n",
      "Antalya noktasından İstanbul noktasına, 14:30 hareket saatli sefer için Murat Can Kurt adına 2 adet bilet ayrılmıştır!\n"
     ]
    }
   ],
   "source": [
    "kalkış       = input(\"Kalkış yeri: \")\n",
    "varış        = input(\"Varış yeri: \")\n",
    "isim_soyisim = input(\"İsim ve soyisim: \")\n",
    "bilet_sayısı = input(\"Bilet sayısı: \")\n",
    "\n",
    "metin = \"{} noktasından {} noktasına, 14:30 hareket saatli \\\n",
    "sefer için {} adına {} adet bilet ayrılmıştır!\"\n",
    "\n",
    "print(metin.format(kalkış, varış, isim_soyisim, bilet_sayısı))"
   ]
  },
  {
   "cell_type": "code",
   "execution_count": 82,
   "metadata": {},
   "outputs": [
    {
     "data": {
      "text/plain": [
       "'Fırat Özgül (Özgül Fırat)'"
      ]
     },
     "execution_count": 82,
     "metadata": {},
     "output_type": "execute_result"
    }
   ],
   "source": [
    "\"{0} {1} ({1} {0})\".format(\"Fırat\", \"Özgül\")"
   ]
  },
  {
   "cell_type": "code",
   "execution_count": 83,
   "metadata": {},
   "outputs": [
    {
     "name": "stdout",
     "output_type": "stream",
     "text": [
      "python dersleri\n"
     ]
    }
   ],
   "source": [
    "dil=\"python\"\n",
    "print(\"{} dersleri\".format(dil)) "
   ]
  },
  {
   "cell_type": "code",
   "execution_count": 84,
   "metadata": {},
   "outputs": [
    {
     "name": "stdout",
     "output_type": "stream",
     "text": [
      "ingilizce dersleri\n"
     ]
    }
   ],
   "source": [
    "print(\"{dil} dersleri\".format(dil=\"ingilizce\"))"
   ]
  },
  {
   "cell_type": "code",
   "execution_count": 86,
   "metadata": {},
   "outputs": [
    {
     "name": "stdout",
     "output_type": "stream",
     "text": [
      "|          murat|\n",
      "|murat                         |\n",
      "|                      murat                       |\n"
     ]
    }
   ],
   "source": [
    "print(\"|{:>15}|\".format(\"murat\"))\n",
    "print(\"|{:<30}|\".format(\"murat\"))\n",
    "print(\"|{:^50}|\".format(\"murat\"))"
   ]
  },
  {
   "cell_type": "raw",
   "metadata": {},
   "source": [
    "s karakteri stringler içindir, .format metodunu stringlerle sınırlandırmış oluruz, string dışı veri hata döndürür.\n",
    "d karakteri sayılar içindir, sayı dışında kullanım hata döndürür.\n",
    "c karakteri 0 ile 256 arasındaki sayıların ASCII tablosundaki karşılıklarını verir.\n",
    "f karakteri float sayılar içindir.\n",
    "x ve X karakterleri hexadecimal sayılar\n",
    "o karakteri oktal sayılar\n",
    "b karakteri binary yani ikili sistem sayıları temsil eder.\n",
    ", karakteri sayıların basamak gruplarına ayırma işlemini yapar.\n",
    "Bunların kullanım şekilleri {:s} gibi :ardından gelir."
   ]
  },
  {
   "cell_type": "code",
   "execution_count": 87,
   "metadata": {},
   "outputs": [
    {
     "name": "stdout",
     "output_type": "stream",
     "text": [
      "karakter dizisi\n",
      "¥\n",
      "65,658,464,163,146\n",
      "'-155'\n",
      "'125854'\n",
      "'125854'\n",
      "'95.685000'\n",
      "'95.69'\n",
      "'35''\n",
      "'     -155      '\n",
      "'125854         '\n",
      "'         125854'\n",
      "'      95.685000'\n",
      "'          95.69'\n",
      "'35             ''\n"
     ]
    },
    {
     "data": {
      "text/plain": [
       "'000000000010101'"
      ]
     },
     "execution_count": 87,
     "metadata": {},
     "output_type": "execute_result"
    }
   ],
   "source": [
    "print(\"{:s}\".format(\"karakter dizisi\"))\n",
    "print(\"{:c}\".format(165))\n",
    "print(\"{:,d}\".format(65658464163146))\n",
    "print(\"'{3:}'\\n'{0:d}'\\n'{0:}'\\n'{2:f}'\\n'{2:.2f}'\\n'{1:,}''\".format(125854,35,95.685,-155))\n",
    "print(\"'{3:^15d}'\\n'{0:<15d}'\\n'{0:15}'\\n'{2:>15f}'\\n'{2:15.2f}'\\n'{1:<15,d}''\".format(125854,35,95.685,-155))\n",
    "\"{:015b}\".format(21)"
   ]
  },
  {
   "cell_type": "markdown",
   "metadata": {},
   "source": [
    "### f string "
   ]
  },
  {
   "cell_type": "code",
   "execution_count": 88,
   "metadata": {},
   "outputs": [
    {
     "name": "stdout",
     "output_type": "stream",
     "text": [
      "Selam Buğra!\n"
     ]
    }
   ],
   "source": [
    "isim = 'Buğra'\n",
    "print(f'Selam {isim}!')#.format() metoduna çok benziyor, ama görüldüğü gibi .format kısmını yazmadık..."
   ]
  },
  {
   "cell_type": "code",
   "execution_count": 89,
   "metadata": {},
   "outputs": [
    {
     "name": "stdout",
     "output_type": "stream",
     "text": [
      "Birinci sayıyı girin: 12\n",
      "İkinci sayıyı girin: 8\n"
     ]
    },
    {
     "data": {
      "text/plain": [
       "'Sayıların toplamı 20 eder.'"
      ]
     },
     "execution_count": 89,
     "metadata": {},
     "output_type": "execute_result"
    }
   ],
   "source": [
    "f'Sayıların toplamı { int(input(\"Birinci sayıyı girin: \")) + int(input(\"İkinci sayıyı girin: \")) } eder.'"
   ]
  },
  {
   "cell_type": "markdown",
   "metadata": {},
   "source": [
    "## Liste üreteci"
   ]
  },
  {
   "cell_type": "code",
   "execution_count": 90,
   "metadata": {},
   "outputs": [
    {
     "name": "stdout",
     "output_type": "stream",
     "text": [
      "[-1, -2, 0, 1, 2, 3, 4, 5, 6, 7, 8, 9, 10, 11, 12, 13, 14, 15, 16, 17, 18]\n"
     ]
    }
   ],
   "source": [
    "liste2=[[[-1,-2]],[[0],[1,2],[3,4],[5,6]],[[7,8],[9,10],[11,12]],[[13,14],[15,16],[17,18]]] #şeklinde 3 aşamalı listemiz olsun.\n",
    "#en dışdaki listenin her bir öğesine i\n",
    "#bir alt seviyedeki her bir öğeye j\n",
    "#en iç seviyedeki her bir öğeye k diyelim:\n",
    "tümü2=[k for i in liste2 for j in i for k in j]\n",
    "print(tümü2)"
   ]
  },
  {
   "cell_type": "markdown",
   "metadata": {},
   "source": [
    "## Listelerin metodları"
   ]
  },
  {
   "cell_type": "raw",
   "metadata": {},
   "source": [
    "append() bir öğe ekler\n",
    "extend() bir iterable ın tamamını ekler\n",
    "insert(indexno,öğe) bir öğeyi istediğimiz sıraya ekler\n",
    "remove(öğe) belirtilen öğeyi liseteden siler, ekrana yazdırmaz\n",
    "pop(indexno) listeden belirtilen öğeyi siler, parametresiz kullanılırsa son öğeyi siler ve listeyi ekrana yazdırır.\n",
    "sort() listeyi küçükten büyüğe ya da alfabetik olarak listeler, key parametresi verilirse ona göre sıralar, reverse=True yapılırsa tersten sıralar."
   ]
  },
  {
   "cell_type": "code",
   "execution_count": 91,
   "metadata": {},
   "outputs": [
    {
     "data": {
      "text/plain": [
       "['Ahmet', 'Can', 'Işık', 'Çiğdem', 'İsmail', 'Şule']"
      ]
     },
     "execution_count": 91,
     "metadata": {},
     "output_type": "execute_result"
    }
   ],
   "source": [
    "# sort için Türk alfabesine göre sıralama sorunu\n",
    "isimler = [\"Ahmet\", \"Işık\", \"İsmail\", \"Çiğdem\", \"Can\", \"Şule\"]\n",
    "isimler.sort()\n",
    "isimler"
   ]
  },
  {
   "cell_type": "code",
   "execution_count": 92,
   "metadata": {},
   "outputs": [
    {
     "name": "stdout",
     "output_type": "stream",
     "text": [
      "['ahmet', 'can', 'çiğdem', 'ışık', 'ismail', 'şule']\n"
     ]
    }
   ],
   "source": [
    "#key parametresi ile sort() sıralamasının düzeltilmesi\n",
    "harfler = \"abcçdefgğhıijklmnoöprsştuüvyz\"\n",
    "çevrim = {harf: harfler.index(harf) for harf in harfler}\n",
    "\n",
    "isimler = [\"ahmet\", \"ışık\", \"ismail\", \"çiğdem\", \"can\", \"şule\"]\n",
    "\n",
    "isimler.sort(key=lambda x: çevrim.get(x[0]))\n",
    "\n",
    "print(isimler)"
   ]
  },
  {
   "cell_type": "raw",
   "metadata": {},
   "source": [
    "copy() listeyi kopyalar. liste2=liste1.copy()\n",
    "clear() listenin içini boşaltır."
   ]
  },
  {
   "cell_type": "markdown",
   "metadata": {},
   "source": [
    "### Liste ve Demetlerin Ortak Metodları"
   ]
  },
  {
   "cell_type": "raw",
   "metadata": {},
   "source": [
    "count(öğe)\n",
    "index(öğe,başlangıç index,bitiş index)"
   ]
  },
  {
   "cell_type": "code",
   "execution_count": 97,
   "metadata": {},
   "outputs": [
    {
     "data": {
      "text/plain": [
       "2"
      ]
     },
     "execution_count": 97,
     "metadata": {},
     "output_type": "execute_result"
    }
   ],
   "source": [
    "demet2=('ahmet', 'can', 'çiğdem', 'ışık', 'ismail','can', 'şule')\n",
    "demet2.count(\"can\")"
   ]
  },
  {
   "cell_type": "code",
   "execution_count": 109,
   "metadata": {},
   "outputs": [
    {
     "data": {
      "text/plain": [
       "5"
      ]
     },
     "execution_count": 109,
     "metadata": {},
     "output_type": "execute_result"
    }
   ],
   "source": [
    "demet2.index(\"can\",3,6)"
   ]
  },
  {
   "cell_type": "markdown",
   "metadata": {},
   "source": [
    "## Sayılar"
   ]
  },
  {
   "cell_type": "raw",
   "metadata": {},
   "source": [
    "bit_length() Binary sistemdeki her bir basamak 1 bittir. Onluk sistemde 10 sayısı binary sistemde 1010 olur, 4 bittir. Bir sayının kaç bit olduğunu öğrenmeye yarar."
   ]
  },
  {
   "cell_type": "code",
   "execution_count": 114,
   "metadata": {},
   "outputs": [
    {
     "data": {
      "text/plain": [
       "14"
      ]
     },
     "execution_count": 114,
     "metadata": {},
     "output_type": "execute_result"
    }
   ],
   "source": [
    "(12352).bit_length() #doğrudan sayıya uygulanamaz, ya değişkene atamalı ya da parantez içinde kullanmalı"
   ]
  },
  {
   "cell_type": "markdown",
   "metadata": {},
   "source": [
    "### Ondalıklı sayıların metodları "
   ]
  },
  {
   "cell_type": "code",
   "execution_count": 115,
   "metadata": {},
   "outputs": [
    {
     "data": {
      "text/plain": [
       "(9, 2)"
      ]
     },
     "execution_count": 115,
     "metadata": {},
     "output_type": "execute_result"
    }
   ],
   "source": [
    "# as_integer_ratio() ondalıklısayıların kesir halini bir demet içinde (pay,payda) olarak verir.\n",
    "4.5.as_integer_ratio()"
   ]
  },
  {
   "cell_type": "code",
   "execution_count": 117,
   "metadata": {},
   "outputs": [
    {
     "data": {
      "text/plain": [
       "False"
      ]
     },
     "execution_count": 117,
     "metadata": {},
     "output_type": "execute_result"
    }
   ],
   "source": [
    "# is_integer() bir ondalıklı sayının, virgülden sonraki kısmının 0 olup olmadığına, yani sayının tam sayı olup olmadığına bakar.\n",
    "4.5.is_integer()"
   ]
  },
  {
   "cell_type": "code",
   "execution_count": 118,
   "metadata": {},
   "outputs": [
    {
     "data": {
      "text/plain": [
       "True"
      ]
     },
     "execution_count": 118,
     "metadata": {},
     "output_type": "execute_result"
    }
   ],
   "source": [
    "345.0.is_integer()"
   ]
  },
  {
   "cell_type": "markdown",
   "metadata": {},
   "source": [
    "## Aritmetik Fonksiyonlar"
   ]
  },
  {
   "cell_type": "code",
   "execution_count": 119,
   "metadata": {},
   "outputs": [
    {
     "data": {
      "text/plain": [
       "15"
      ]
     },
     "execution_count": 119,
     "metadata": {},
     "output_type": "execute_result"
    }
   ],
   "source": [
    "abs(-15)\n",
    "#mutlak değer"
   ]
  },
  {
   "cell_type": "code",
   "execution_count": 120,
   "metadata": {},
   "outputs": [
    {
     "data": {
      "text/plain": [
       "(4, 2)"
      ]
     },
     "execution_count": 120,
     "metadata": {},
     "output_type": "execute_result"
    }
   ],
   "source": [
    "divmod(22,5)\n",
    "#tam bölme yapar, divmod(bölünen,bölen), bölüm ve kalanı verir."
   ]
  },
  {
   "cell_type": "raw",
   "metadata": {},
   "source": [
    "max()/min() bir iterable içindeki en büyük/en küçük sayıyı veya en uzun/en kısa stringi verir"
   ]
  },
  {
   "cell_type": "raw",
   "metadata": {},
   "source": [
    "sum(dizi,a) bir dizi içindeki tüm sayıları toplar, isteğe bağlı ikinci bir parametre olarak a sayısı verilirse onu da toplama ekler."
   ]
  },
  {
   "cell_type": "raw",
   "metadata": {},
   "source": [
    "round() bildiğimiz yuvarlama işlemini yapar, ancak 5 sayısını bir üst ya da bir alt sayıdan hangisi çiftse ona yuvarlar, her zaman yukarı yuvarlamaz. İkinci parametre olarak kaç haneye indirileceği verilebilir."
   ]
  },
  {
   "cell_type": "markdown",
   "metadata": {},
   "source": [
    "## Dosyalarla çalışmak "
   ]
  },
  {
   "cell_type": "raw",
   "metadata": {},
   "source": [
    "degişken=open(\"dosyaismi\",\"kip\")\n",
    "değişken.close()"
   ]
  },
  {
   "cell_type": "raw",
   "metadata": {},
   "source": [
    "\"r\" (read)Sadece okuma Kipi, varsayılan kiptir. Kip belirtilmezse bu kipte açılır.Böyle bir dosya yoksa hata verir.\n",
    "\"w\" (write)Sadece yazma kipi, dosya oluşturur ve yazar, dosya zaten varsa içeriği tamamen silinmiş olur, üzerine yazar.\n",
    "\"a\" (append)Sadece yazma kipi, dosya varsa yazılacakları ilave eder, dosya yoksa oluşturur.\n",
    "\"x\" Sadece yazma kipi, dosya varsa hata verir, yoksa oluşturur.\n",
    "\n",
    "\"+\" Bu diğer dört kipten birine eklenerek kullanılır, yazma kiplerine okuma özelliği,okuma kipine yazma özelliği ekler. Ana kipin tüm özelliklerine ek olarak getirir.\n",
    "\n",
    "\"r+\" r kipi+yazma özelliği (r nin tüm özellikleri var yani dosya yoksa hata verir.)\n",
    "\"w+\" w kipi+okuma özelliği\n",
    "\"a+\" a kipi+okuma özelliği\n",
    "\"x+\" x kipi+okuma özelliği\n",
    "\n",
    "binary kipleri, bunlar metin dosyaları ile binary dosyaları ayırt eden sistemlerde binary dosyaları üzerinde işlem yapmak için kullanılır, mevcut kiplere \"b\" harfi eklenerek kullanılır.\n",
    "\"rb\"    \"wb\"    \"ab\"    \"xb\"    \"rb+\"    \"wb+\"    \"ab+\"    \"xb+\""
   ]
  },
  {
   "cell_type": "raw",
   "metadata": {},
   "source": [
    "tahsilat_dosyası = open(\"d:/denemepython/tahsilatlar.txt\", \"w\")"
   ]
  },
  {
   "cell_type": "raw",
   "metadata": {},
   "source": [
    "tahs.write(\"Murat Can Kurt: 1500 TL\\nHamit Kaya: 2250 TL\\nTelat Tasdemir: 5000 TL\\nYusuf Arpak: 3500 TL\\n\")"
   ]
  },
  {
   "cell_type": "raw",
   "metadata": {},
   "source": [
    "print(ths.read()) #dosyanın tamamını string olarak okumak için kullanılan fonksiyon."
   ]
  },
  {
   "cell_type": "raw",
   "metadata": {},
   "source": [
    "print(ths.readline()) dosyayı satır satır okur, imlecin kaldığı yeri hatırlar ve her defasında bir satır okur. "
   ]
  },
  {
   "cell_type": "raw",
   "metadata": {},
   "source": [
    "Python'da dosya okuma özelliği baştan sona doğru ileryen imleç şeklindedir. Sona gelindiğinde başa dönmez. Dosya kapatılmadığı sürece her bir okuma komutu bir önceki komutun kaldığı yerden devam eder."
   ]
  },
  {
   "cell_type": "raw",
   "metadata": {},
   "source": [
    "print(ths.readlines()) diğer komutlardan farklı olarak mutable halinde her satırı birer liste elemanı olarak, liste halinde verir."
   ]
  },
  {
   "cell_type": "raw",
   "metadata": {},
   "source": [
    "with open(\"dosyaadı\", \"r\") as dosya:\n",
    "    print(dosya.read())\n",
    "Dosyalar işlem sonunda mutlaka kapatılmalıdır, with kullanımı ile dosyalar otomatik olarak kapatılır."
   ]
  },
  {
   "cell_type": "raw",
   "metadata": {},
   "source": [
    "try:\n",
    "    dosya = open(\"dosyaadı\", \"r\")\n",
    "    ...burada dosyayla bazı işlemler yapıyoruz...\n",
    "    ...ve ansızın bir hata oluşuyor...\n",
    "except IOError:\n",
    "    print(\"bir hata oluştu!\")\n",
    "finally:\n",
    "    dosya.close()"
   ]
  },
  {
   "cell_type": "raw",
   "metadata": {},
   "source": [
    "seek(0) Bu fonksiyon dosyada imleci istenilen bit değerine götürür. 0 girilirse başa dönülmüş olur.\n",
    "tell() Parametresiz bir fonksiyondur, imlecin bulunduğu değeri gösterir."
   ]
  },
  {
   "cell_type": "raw",
   "metadata": {},
   "source": [
    "Mevcut bir dosyayi okuma ve içerik ekleme işlemleri için açmak için a+ kipinde açarız."
   ]
  },
  {
   "cell_type": "raw",
   "metadata": {},
   "source": [
    "writelines(liste adı) liste halindeki satırları dosyaya yazar."
   ]
  },
  {
   "cell_type": "raw",
   "metadata": {},
   "source": [
    "dosya.closed metodu, dosya kapalıysa True döndürür"
   ]
  },
  {
   "cell_type": "raw",
   "metadata": {},
   "source": [
    "readable() metodu okuma kipinde açılmışsa,writable() metodu yazma kipinde açılmışsa True döndürürler."
   ]
  },
  {
   "cell_type": "raw",
   "metadata": {},
   "source": [
    "truncate() metodu parametreye girilen değerde olana kadar dosyayı kırpar ya da sonuna 0 ekler. Parametre girilmemişse dosyayı boşaltarak 0 bayt yapar."
   ]
  },
  {
   "cell_type": "raw",
   "metadata": {},
   "source": [
    "dosya.mode Dosyanın hangi kipte açıldığını döndürür.\n",
    "dosya.name Dosyanın adını verir.\n",
    "dosya.encoding Dosyanın hangi kodlama sisteminde kodlandığını döndürür."
   ]
  },
  {
   "cell_type": "raw",
   "metadata": {},
   "source": [
    "\"bu Türkçe bir cümledir.\".encode(\"ascii\", errors=\"xmlcharrefreplace\") çözülemeyen karakterlerin xml karşılığını yazar, bunun dışında errors parametresine ignre, ve replace değeri verilebilir. Default değeri strict durumunda dosya açılmaz, program hata verir ve durur."
   ]
  },
  {
   "cell_type": "raw",
   "metadata": {},
   "source": [
    "f = open(\"tahsilatlar.txt\", encoding='utf-8', errors='ignore')"
   ]
  },
  {
   "cell_type": "markdown",
   "metadata": {},
   "source": [
    "## Sözlükler"
   ]
  },
  {
   "cell_type": "code",
   "execution_count": 7,
   "metadata": {},
   "outputs": [],
   "source": [
    "sözlük = {\"kitap\"      : \"book\",\n",
    "          \"bilgisayar\" : \"computer\",\n",
    "          \"programlama\": \"programming\",\n",
    "          \"dil\"        : \"language\",\n",
    "          \"defter\"     : \"notebook\"}\n",
    "sozluk=dict()\n",
    "sozluk3={}"
   ]
  },
  {
   "cell_type": "raw",
   "metadata": {},
   "source": [
    "sözlük içinde sözlükler, listeler vs.. kullanılabilir. İlk değer key, karşılık değeri value olarak adlandırılır."
   ]
  },
  {
   "cell_type": "code",
   "execution_count": 9,
   "metadata": {},
   "outputs": [],
   "source": [
    "sözlük[\"Ahmet\"] = \"Adana\" #öğe ekleme veya değiştirme."
   ]
  },
  {
   "cell_type": "code",
   "execution_count": 12,
   "metadata": {},
   "outputs": [],
   "source": [
    "sözlük[\"Ahmet\"] = \"Bursa\""
   ]
  },
  {
   "cell_type": "code",
   "execution_count": 14,
   "metadata": {},
   "outputs": [
    {
     "data": {
      "text/plain": [
       "{'kitap': 'book',\n",
       " 'bilgisayar': 'computer',\n",
       " 'programlama': 'programming',\n",
       " 'dil': 'language',\n",
       " 'defter': 'notebook',\n",
       " 'Ahmet': 'Bursa'}"
      ]
     },
     "execution_count": 14,
     "metadata": {},
     "output_type": "execute_result"
    }
   ],
   "source": [
    "sözlük #sözlüklerde keyler immutable olurken value ler her türlü veri olabilir."
   ]
  },
  {
   "cell_type": "code",
   "execution_count": 17,
   "metadata": {},
   "outputs": [
    {
     "ename": "AttributeError",
     "evalue": "'dict' object has no attribute 'remove'",
     "output_type": "error",
     "traceback": [
      "\u001b[1;31m---------------------------------------------------------------------------\u001b[0m",
      "\u001b[1;31mAttributeError\u001b[0m                            Traceback (most recent call last)",
      "\u001b[1;32m<ipython-input-17-ba36e251236e>\u001b[0m in \u001b[0;36m<module>\u001b[1;34m\u001b[0m\n\u001b[1;32m----> 1\u001b[1;33m \u001b[0msözlük\u001b[0m\u001b[1;33m.\u001b[0m\u001b[0mremove\u001b[0m\u001b[1;33m[\u001b[0m\u001b[1;34m\"Ahmet\"\u001b[0m\u001b[1;33m]\u001b[0m\u001b[1;33m\u001b[0m\u001b[1;33m\u001b[0m\u001b[0m\n\u001b[0m",
      "\u001b[1;31mAttributeError\u001b[0m: 'dict' object has no attribute 'remove'"
     ]
    }
   ],
   "source": [
    "sözlük.remove[\"Ahmet\"]"
   ]
  },
  {
   "cell_type": "raw",
   "metadata": {},
   "source": [
    "sözlük = {i: harfler.index(i) for i in harfler} Sözlük Üreteci"
   ]
  },
  {
   "cell_type": "code",
   "execution_count": 18,
   "metadata": {},
   "outputs": [],
   "source": [
    "#isimler listesindeki her ismin uzunluğunu gösteren bir sözlük oluşturalım:\n",
    "isimler = [\"ahmet\", \"mehmet\", \"fırat\", \"zeynep\", \"selma\", \"abdullah\", \"cem\"]\n",
    "isimuzunluk={i:len(i) for i in isimler}"
   ]
  },
  {
   "cell_type": "markdown",
   "metadata": {},
   "source": [
    "### Sözlük Metodları"
   ]
  },
  {
   "cell_type": "raw",
   "metadata": {},
   "source": [
    "keys() sözlükteki keyleri listeler parametre almaz\n",
    "values() sözlükteki value leri listeler parametre almaz\n",
    "items() sözlükteki key ve valueleri ikili demetler halinde verir, parametre almaz\n",
    "get() iki parametre alır, birinci parametreye girilen keyin değerini döndürür. İkinci parametreye ise sözlükte böyle bir key yoksa verilecek mesaj girilir.\n",
    "clear() sözlüğü boşaltır.\n",
    "copy() kopyalar\n",
    "fromkeys() İlk parametreye verilen liste ya da demetteki her bir elemanı key olarak alıp, her bir key için ikinci parametrede verilen değeri value olarak vererek bir sözlük oluşturur."
   ]
  },
  {
   "cell_type": "code",
   "execution_count": 26,
   "metadata": {},
   "outputs": [
    {
     "data": {
      "text/plain": [
       "{'Adana': 'TR',\n",
       " 'Ankara': 'TR',\n",
       " 'İstanbul': 'TR',\n",
       " 'Antalya': 'TR',\n",
       " 'İzmir': 'TR'}"
      ]
     },
     "execution_count": 26,
     "metadata": {},
     "output_type": "execute_result"
    }
   ],
   "source": [
    "şehirler=(\"Adana\",\"Ankara\",\"İstanbul\",\"Antalya\",\"İzmir\")\n",
    "sözlük=dict.fromkeys(şehirler,\"TR\")\n",
    "sözlük"
   ]
  },
  {
   "cell_type": "raw",
   "metadata": {},
   "source": [
    "pop() 2 parametre alır, get() metodu gibi çalışır, key olarak girilen öğeyi siler ve bu öğenin valuesini ekrana yazdırır.\n",
    "popitem() rastgele bir öğeyi siler parametre almaz, sildiği öğeyi yazdırır\n"
   ]
  },
  {
   "cell_type": "raw",
   "metadata": {},
   "source": [
    "setdefault() ilk parametreye key, ikinci parametre olarak value alır. Keylerde ilk parametreyi arar yoksa ekler ve ikinci parametreyi de onun valuesi olarak verir. Aranan key zaten varsa değişiklik yapmaz, ekrana yazdırır."
   ]
  },
  {
   "cell_type": "code",
   "execution_count": 29,
   "metadata": {},
   "outputs": [
    {
     "data": {
      "text/plain": [
       "{'meyveler': ('elma', 'armut'),\n",
       " 'sebzeler': ('pırasa', 'fasulye'),\n",
       " 'içecekler': ('su', 'kola')}"
      ]
     },
     "execution_count": 29,
     "metadata": {},
     "output_type": "execute_result"
    }
   ],
   "source": [
    "sepet = {\"meyveler\": (\"elma\", \"armut\"), \"sebzeler\": (\"pırasa\", \"fasulye\")}\n",
    "sepet.setdefault(\"içecekler\", (\"su\", \"kola\"))\n",
    "sepet"
   ]
  },
  {
   "cell_type": "code",
   "execution_count": 32,
   "metadata": {},
   "outputs": [
    {
     "data": {
      "text/plain": [
       "{'meyveler': ('elma', 'armut'),\n",
       " 'sebzeler': ('pırasa', 'fasulye'),\n",
       " 'içecekler': ('su', 'kola')}"
      ]
     },
     "execution_count": 32,
     "metadata": {},
     "output_type": "execute_result"
    }
   ],
   "source": [
    "sepet.setdefault(\"içecekler\", (\"ayran\", \"şarap\"))\n",
    "sepet"
   ]
  },
  {
   "cell_type": "code",
   "execution_count": 33,
   "metadata": {},
   "outputs": [
    {
     "data": {
      "text/plain": [
       "{'elma': 3, 'armut': 20, 'peynir': 8, 'sosis': 4, 'sucuk': 6}"
      ]
     },
     "execution_count": 33,
     "metadata": {},
     "output_type": "execute_result"
    }
   ],
   "source": [
    "#update() bir sözlüğü başka bir sözlükle günceller\n",
    "stok = {\"elma\": 5, \"armut\": 10, \"peynir\": 6, \"sosis\": 15}\n",
    "yeni_stok = {\"elma\": 3, \"armut\": 20, \"peynir\": 8, \"sosis\": 4, \"sucuk\": 6}\n",
    "stok.update(yeni_stok)\n",
    "stok"
   ]
  },
  {
   "cell_type": "markdown",
   "metadata": {},
   "source": [
    "## Kümeler (sets)"
   ]
  },
  {
   "cell_type": "code",
   "execution_count": 37,
   "metadata": {},
   "outputs": [],
   "source": [
    "a={1,2,3,4,5,6,} #Matematikteki kümeler gibidir, içinde her eleman sadece 1 defa bulunabilir, bir küme\n",
    "#içinde sadece immutable veri tipleri bulunabilir. Liste, sözlük gibi veri tipleri bulunmaz. İndex numarası yoktur."
   ]
  },
  {
   "cell_type": "code",
   "execution_count": 35,
   "metadata": {},
   "outputs": [
    {
     "data": {
      "text/plain": [
       "{1, 2, 3, 5, 6, 8}"
      ]
     },
     "execution_count": 35,
     "metadata": {},
     "output_type": "execute_result"
    }
   ],
   "source": [
    "veri=[1,2,3,2,2,5,3,1,6,3,2,6,8]\n",
    "veri=set(veri)\n",
    "veri"
   ]
  },
  {
   "cell_type": "code",
   "execution_count": 36,
   "metadata": {},
   "outputs": [
    {
     "data": {
      "text/plain": [
       "{'dağıtım', 'işletim sistemi', 'sistem çekirdeği'}"
      ]
     },
     "execution_count": 36,
     "metadata": {},
     "output_type": "execute_result"
    }
   ],
   "source": [
    "bilgi = {\"işletim sistemi\": \"GNU\", \"sistem çekirdeği\": \"Linux\",\"dağıtım\": \"Ubuntu GNU/Linux\"}\n",
    "küme1 = set(bilgi)\n",
    "küme1"
   ]
  },
  {
   "cell_type": "raw",
   "metadata": {},
   "source": [
    ".clear() , .copy() etodları bildiğimiz gibi\n",
    ".pop() rastgele bir eleman siler ve ekrana yazar\n",
    ".add() eleman ekler. Zaten var olan bir elemansa tepki vermez, hata vermez\n",
    "A.difference(B) A-B kümesi döndürür. Aynı ,işlem A-B ile de yapılabilir.\n",
    ".discard() eleman siler, eğer belirtilen eleman zaten yoksa hiçbir tepki vermez, hata vermez\n",
    ".remove()=discard() tek fark eğer eleman zaten yoksa remove hata verir\n",
    "A.intersection(B) = A&B kullanılabilir.\n",
    "A.intersection_update(B) A kümesini kesişim kümesi olacak şekilde günceller\n",
    ".isdisjoint() ayrık küme olup olmadığını sorgular, ayrıksa True döner\n",
    ".issubset() alt küme mi?\n",
    ".issuperset() kapsayıcı küme mi?\n",
    ".union() birleşim = A|B şeklinde de kullanılabilir\n",
    "A.update(B) A kümesini birleşim kümesi olarak günceller\n",
    ".symmetric_difference() Simetrik farkı bulur. Yani A kümesinin B kümesinden farkını, B kümesinin A kümesinden farkı ile birleştirir.\n",
    "A.symmetric_difference_update(B) A kümesini simetrik fark olarak günceller\n"
   ]
  },
  {
   "cell_type": "markdown",
   "metadata": {},
   "source": [
    "### Dondurulmuş Kümeler (Frozen Sets)"
   ]
  },
  {
   "cell_type": "raw",
   "metadata": {},
   "source": [
    "Kümeler mutable iken dondurulmuş kümeler immutable dir. Kümelerde kullanılan metodlardan değişiklik yapmayanları burada da geçerlidir."
   ]
  },
  {
   "cell_type": "code",
   "execution_count": 38,
   "metadata": {},
   "outputs": [
    {
     "data": {
      "text/plain": [
       "frozenset({1, 2, 3, 4, 5, 6})"
      ]
     },
     "execution_count": 38,
     "metadata": {},
     "output_type": "execute_result"
    }
   ],
   "source": [
    "liste=[1,2,3,4,3,2,5,3,6]\n",
    "A=frozenset(liste)\n",
    "A"
   ]
  },
  {
   "cell_type": "markdown",
   "metadata": {},
   "source": [
    "## Özel Fonksiyonlar (Custom Functions)"
   ]
  },
  {
   "cell_type": "code",
   "execution_count": 56,
   "metadata": {},
   "outputs": [
    {
     "name": "stdout",
     "output_type": "stream",
     "text": [
      "\n",
      "Sistemde kurulu Python'ın sürümü; sys.version_info(major=3, minor=7, micro=1, releaselevel='final', serial=0)\n"
     ]
    }
   ],
   "source": [
    "#parametresiz fonksion\n",
    "def sistem_bilgisi_göster():\n",
    "    import sys\n",
    "    print(\"\\nSistemde kurulu Python'ın sürümü;\",sys.version_info)\n",
    "sistem_bilgisi_göster()"
   ]
  },
  {
   "cell_type": "code",
   "execution_count": 57,
   "metadata": {},
   "outputs": [
    {
     "name": "stdout",
     "output_type": "stream",
     "text": [
      "------------------------------\n",
      "isim           :  Fırat\n",
      "soyisim        :  Özgül\n",
      "işletim sistemi:  Ubuntu\n",
      "şehir          :  Ankara\n",
      "------------------------------\n"
     ]
    }
   ],
   "source": [
    "#Sıralı isimsiz parametreli fonksiyon. Çağırırken tüm parametrelere sırasıyla ve eksiksiz olarak argüman verilmek zorundadır.\n",
    "#def anahtarından sonra oluşturulacak fonksiyonun adı ve parantez içinde oluşturmak istediğimiz parametreleri yazıp \":\" koyduk\n",
    "def kayıt_oluştur(isim, soyisim, işlsis, şehir):\n",
    "    print(\"-\"*30)\n",
    "    print(\"isim           : \", isim)\n",
    "    print(\"soyisim        : \", soyisim)\n",
    "    print(\"işletim sistemi: \", işlsis)\n",
    "    print(\"şehir          : \", şehir)\n",
    "    print(\"-\"*30)\n",
    "#girintili bir şekilde fonksiyonun yapacağı işlemleri tanımladık, parametreleri aynı değişkenleri kullanır gibi kullandık.    \n",
    "kayıt_oluştur(\"Fırat\",\"Özgül\",\"Ubuntu\",\"Ankara\")"
   ]
  },
  {
   "cell_type": "code",
   "execution_count": 62,
   "metadata": {},
   "outputs": [
    {
     "name": "stdout",
     "output_type": "stream",
     "text": [
      "------------------------------\n",
      "isim           :  Fırat\n",
      "soyisim        :  Özgül\n",
      "işletim sistemi:  Linux\n",
      "şehir          :  Ankara\n",
      "------------------------------\n"
     ]
    }
   ],
   "source": [
    "#İsimli parametre kullanımında ise sıra önemli değildir ancak parametre ismine göre argüman verilir. Eksik parametre olmaz\n",
    "kayıt_oluştur(işlsis=\"Linux\",isim=\"Fırat\",şehir=\"Ankara\",soyisim=\"Özgül\")"
   ]
  },
  {
   "cell_type": "code",
   "execution_count": 66,
   "metadata": {},
   "outputs": [
    {
     "name": "stdout",
     "output_type": "stream",
     "text": [
      "------------------------------\n",
      "isim           :  Fırat\n",
      "soyisim        :  Özgül\n",
      "işletim sistemi:  ---\n",
      "şehir          :  Ankara\n",
      "------------------------------\n"
     ]
    }
   ],
   "source": [
    "#Varsayılan değerli parametre kullanımında ise, sıra ve eksik parametre önemli değildir. Ancak argüman verilirken\n",
    "#parametre ismi belirtilir, eksik parametre için varsayılan argüman kullanılır.\n",
    "def kayıt_oluştur(isim=\"---\", soyisim=\"---\",işlsis=\"---\",şehir=\"---\"):\n",
    "    print(\"-\"*30)\n",
    "    print(\"isim           : \", isim)\n",
    "    print(\"soyisim        : \", soyisim)\n",
    "    print(\"işletim sistemi: \", işlsis)\n",
    "    print(\"şehir          : \", şehir)\n",
    "    print(\"-\"*30)\n",
    "kayıt_oluştur(isim=\"Fırat\",soyisim=\"Özgül\",şehir=\"Ankara\")"
   ]
  },
  {
   "cell_type": "code",
   "execution_count": 86,
   "metadata": {},
   "outputs": [
    {
     "name": "stdout",
     "output_type": "stream",
     "text": [
      "(1, 2, 3, 4, 5)\n",
      "1 2 3 4 5\n",
      "1-2-3-4-5\n",
      "(1, 'Murat')\n",
      "1 Murat\n",
      "1-Murat\n",
      "('adana',)\n",
      "adana\n",
      "adana\n"
     ]
    }
   ],
   "source": [
    "#Esnek sayıda isimsiz parametre kullanımı, tek yıldızlı bu ifadeler geleneksel olarak args diye adlandırılır.\n",
    "def fonksiyon(*yazdır):\n",
    "    print(yazdır) #fonksiyonun parametrelerini olduğu gibi yazdır (bir demet şeklinde olduğu için demet olarak).\n",
    "    print(*yazdır) #fonksiyonun parametrelerinin her birini ayrı ayrı yazdır.\n",
    "    print(*yazdır,sep=\"-\") #fonksiyonun parametrelerinin her birini ayrı ayrı aralarına \"-\" koyarak yazdır.\n",
    "\n",
    "fonksiyon(1, 2, 3, 4, 5)\n",
    "fonksiyon(1,\"Murat\")\n",
    "fonksiyon(\"adana\")"
   ]
  },
  {
   "cell_type": "code",
   "execution_count": 84,
   "metadata": {},
   "outputs": [
    {
     "name": "stdout",
     "output_type": "stream",
     "text": [
      "{'isim': 'Murat Can', 'Şehir': 'Diyarbakır', 'Meslek': 'Mühendis'}\n",
      "isim Şehir Meslek\n",
      "dict_values(['Murat Can', 'Diyarbakır', 'Mühendis'])\n"
     ]
    }
   ],
   "source": [
    "#Esnek sayıda isimli parametre kullanımında parametreler ver argümanları sözlük formunda saklanır. Çift yıldız=kwargs\n",
    "def kayıt(**bilgiler):\n",
    "    print(bilgiler)\n",
    "    print(*bilgiler)\n",
    "    print(bilgiler.values())\n",
    "kayıt(isim=\"Murat Can\",Şehir=\"Diyarbakır\",Meslek=\"Mühendis\")"
   ]
  },
  {
   "cell_type": "code",
   "execution_count": 87,
   "metadata": {},
   "outputs": [
    {
     "name": "stdout",
     "output_type": "stream",
     "text": [
      "kitap = book\n",
      "bilgisayar = computer\n",
      "programlama = programming\n",
      "fonksiyon kelimesi sözlükte yok!\n"
     ]
    }
   ],
   "source": [
    "def karşılık_bul(*args, **kwargs):\n",
    "    for sözcük in args:\n",
    "        if sözcük in kwargs:\n",
    "            print(\"{} = {}\".format(sözcük, kwargs[sözcük]))\n",
    "        else:\n",
    "            print(\"{} kelimesi sözlükte yok!\".format(sözcük))\n",
    "\n",
    "\n",
    "sözlük = {\"kitap\"      : \"book\",\n",
    "          \"bilgisayar\" : \"computer\",\n",
    "          \"programlama\": \"programming\"}\n",
    "\n",
    "karşılık_bul(\"kitap\", \"bilgisayar\", \"programlama\", \"fonksiyon\",**sözlük)"
   ]
  },
  {
   "cell_type": "code",
   "execution_count": 139,
   "metadata": {},
   "outputs": [
    {
     "name": "stdout",
     "output_type": "stream",
     "text": [
      "++murat\t++can\t++kurt\t++antalya\t"
     ]
    }
   ],
   "source": [
    "def yazdir(*args,baş=\"\",**kwargs):\n",
    "    for i in args:\n",
    "        print(baş+i,**kwargs)\n",
    "yazdir(\"murat\",\"can\",\"kurt\",\"antalya\",baş=\"++\",end=\"\\t\")"
   ]
  },
  {
   "cell_type": "markdown",
   "metadata": {},
   "source": [
    "### return"
   ]
  },
  {
   "cell_type": "raw",
   "metadata": {},
   "source": [
    "Bir fonksiyonun ne çıktı vereceğini belirlemek için kullanılır. Yukarıdaki örneklerde tanımladığımız fonksiyonlar ekrana birer yazı yazdırsa da aslında birer çıktı \"döndür\"memekteler. return deyiminden sonra fonksiyon durur. Son işlem return olmalıdır."
   ]
  },
  {
   "cell_type": "code",
   "execution_count": 147,
   "metadata": {},
   "outputs": [
    {
     "name": "stdout",
     "output_type": "stream",
     "text": [
      "Adınız:Murat\n",
      "Murat\n"
     ]
    },
    {
     "ename": "TypeError",
     "evalue": "object of type 'NoneType' has no len()",
     "output_type": "error",
     "traceback": [
      "\u001b[1;31m---------------------------------------------------------------------------\u001b[0m",
      "\u001b[1;31mTypeError\u001b[0m                                 Traceback (most recent call last)",
      "\u001b[1;32m<ipython-input-147-c3d38a64a5f7>\u001b[0m in \u001b[0;36m<module>\u001b[1;34m\u001b[0m\n\u001b[0;32m      2\u001b[0m     \u001b[0misim\u001b[0m\u001b[1;33m=\u001b[0m\u001b[0minput\u001b[0m\u001b[1;33m(\u001b[0m\u001b[1;34m\"Adınız:\"\u001b[0m\u001b[1;33m)\u001b[0m\u001b[1;33m\u001b[0m\u001b[1;33m\u001b[0m\u001b[0m\n\u001b[0;32m      3\u001b[0m     \u001b[0mprint\u001b[0m\u001b[1;33m(\u001b[0m\u001b[0misim\u001b[0m\u001b[1;33m)\u001b[0m\u001b[1;33m\u001b[0m\u001b[1;33m\u001b[0m\u001b[0m\n\u001b[1;32m----> 4\u001b[1;33m \u001b[0mlen\u001b[0m\u001b[1;33m(\u001b[0m\u001b[0mfonk\u001b[0m\u001b[1;33m(\u001b[0m\u001b[1;33m)\u001b[0m\u001b[1;33m)\u001b[0m\u001b[1;33m\u001b[0m\u001b[1;33m\u001b[0m\u001b[0m\n\u001b[0m",
      "\u001b[1;31mTypeError\u001b[0m: object of type 'NoneType' has no len()"
     ]
    }
   ],
   "source": [
    "def fonk():\n",
    "    isim=input(\"Adınız:\")\n",
    "    print(isim)\n",
    "len(fonk())"
   ]
  },
  {
   "cell_type": "code",
   "execution_count": 148,
   "metadata": {},
   "outputs": [
    {
     "name": "stdout",
     "output_type": "stream",
     "text": [
      "Adınız:Murat\n",
      "Murat\n"
     ]
    },
    {
     "data": {
      "text/plain": [
       "5"
      ]
     },
     "execution_count": 148,
     "metadata": {},
     "output_type": "execute_result"
    }
   ],
   "source": [
    "def fonk1():\n",
    "    isim=input(\"Adınız:\")\n",
    "    print(isim)\n",
    "    return isim\n",
    "len(fonk1())"
   ]
  },
  {
   "cell_type": "raw",
   "metadata": {},
   "source": [
    "global değişken\n",
    "#Bir fonksiyon içinde global bir değişkenle işlem yapılacaksa kullanılır."
   ]
  },
  {
   "cell_type": "markdown",
   "metadata": {},
   "source": [
    "## Gömülü (Built-in) Fonksiyonlar"
   ]
  },
  {
   "cell_type": "raw",
   "metadata": {},
   "source": [
    "abs(), round(), "
   ]
  },
  {
   "cell_type": "raw",
   "metadata": {},
   "source": [
    "all() bir dizi içindeki tüm değerler True ise True döndürür.\n",
    "any() bir dizi içindeki herhangi bir değer True ise True döndürür.\n",
    "bool() verilen bir nesnenin bool değerini gösterir.\n",
    "bin() bir sayının ikili düzendeki karşılığını verir.\n",
    "bytes() farklı veri tiplerini bytes adlı immutable veri tipine dönüştürür.\n",
    "bytearray() bytes benzeri ancak mutable bir veri tipi\n",
    "chr() bir tam sayının unicode a göre karakter karşılığını verir\n",
    "ord() bir karakterin unicode karşılığını verir\n",
    "callable() nesnelerin çağırılabilir olup olmadığına göre True/False döndürür.\n",
    "oct() ve hex() parametreye verilen değeri string olarak 8lik ve 16lık sisteme çeviren fonksiyonlar\n",
    "divmod() verilen iki parametreden ilkini ikinciye tam böler bölüm ve kalanı demet olarak verir.\n",
    "pow() iki parametre verilirse birinci parametrenin üssü ikinci parametre sonucunu verir, üçüncü parametre de verilirse, sonucu bu parametreye böler ve kalanı verir.\n",
    "range(start,end,step) burada son değer dahil değildir. Tek argüman verilirse 0 dan başlar 1er sayar, step olarak \"-\" verilirse büyükten küçüğe sayar.\n",
    "reversed() sıralamayı tersine çevirerek bir reversed nesnesi oluşturur\n",
    "sorted() veri setini alfabetik ya da sayısal sıraya sokarak bir liste biçimi verir. reverse isimli parametresine True verilirse sıralamayı büyükten küçüğe yapar. key parametresine de özel bir sıralama tanımlanabilir.\n",
    "sum() ilk parametre veri setidir, ikinci parametre sayıdır, ilk parametredeki tüm sayıları toplar ve varsa ikinci parametreyi de ekleyip sonucu döndürür.\n",
    "type() parametrenin veri tipini döndürür.\n",
    "vars() Mevcut isim alanındaki değişken,metod, fonksiyon ve nitelikleri listeler. Eğer parametresiz kullanılırsa locals() fonksiyonu ile aynı işlevi görür. İstersek parametre olarak veri tipi girerek o veritipinin metodlarını listeleyebiliriz."
   ]
  },
  {
   "cell_type": "code",
   "execution_count": 171,
   "metadata": {},
   "outputs": [
    {
     "name": "stdout",
     "output_type": "stream",
     "text": [
      "\n",
      "Murat\t\tCan\t\tKurt\n",
      "\n",
      "'\\nMurat\\t\\tCan\\t\\tKurt\\n'\n"
     ]
    }
   ],
   "source": [
    "#repr() bir çıktının kaçış dizileri vs. gibi çıktıda görünmeyen karakterler ve sembolleri ile birlikte ham halini verir.\n",
    "print(\"\\nMurat\\t\\tCan\\t\\tKurt\\n\")\n",
    "print(repr(\"\\nMurat\\t\\tCan\\t\\tKurt\\n\"))"
   ]
  },
  {
   "cell_type": "code",
   "execution_count": 172,
   "metadata": {},
   "outputs": [
    {
     "name": "stdout",
     "output_type": "stream",
     "text": [
      "'\\t\\u0131\\u015f\\u0131k'\n"
     ]
    }
   ],
   "source": [
    "#ascii() ise repr() ile aynı olmakla beraber, ascii tablosunda olmayan karakterleri göstermez, yerine üni kodunu gösterir.\n",
    "print(ascii(\"\\tışık\"))"
   ]
  },
  {
   "cell_type": "raw",
   "metadata": {},
   "source": [
    "eval() ifadeleri(expression)) çalıştıran bir fonksiyondur.\n",
    "exec() deyimleri (statement) çalıştıran bir fonksiyondur. ikinci parametrede, tanımlanan değişkenin içinde tanımlanacağı isim alanını belirtilebilir."
   ]
  },
  {
   "cell_type": "raw",
   "metadata": {},
   "source": [
    "globals() global değişkenlerin tutulduğu sözlüktür\n",
    "locals() lokal değişkenlerin tutulduğu sözlüktür."
   ]
  },
  {
   "cell_type": "raw",
   "metadata": {},
   "source": [
    "dir() parametresiz kullanıldığında mevcut isim alanındaki keyleri liste olarak verir. Bir parametreye argüman olarak bir nesne gnderilirse o nesneye ait attribute ve methodları liste olarak döndürür."
   ]
  },
  {
   "cell_type": "raw",
   "metadata": {},
   "source": [
    "exit() ve quit() fonksiyonları birebir aynıdır, bu fonksiyon çağırıldığında programdan çıkılır.\n",
    "format() tek bir değeri biçimlendirmek için kullanılır. .format metodu ayrıdır."
   ]
  },
  {
   "cell_type": "raw",
   "metadata": {},
   "source": [
    "filter(fonksiyon,iteratif veri) Bu fonksiyon ikinci parametresindeki her bir değeri ilk parametredeki fonksiyona gönderir ve bu fonksiyondan True değeri döndürenlerden oluşan bir liste verir. Yani ilk parametre her zaman bool değeri döndüren bir fonksiyon olmalıdır."
   ]
  },
  {
   "cell_type": "code",
   "execution_count": 45,
   "metadata": {},
   "outputs": [
    {
     "data": {
      "text/plain": [
       "[2, 23, 76, 21, 0, 43]"
      ]
     },
     "execution_count": 45,
     "metadata": {},
     "output_type": "execute_result"
    }
   ],
   "source": [
    "liste=[\"a\",2,\"s\",23,\"d\",76,21,0,43,\"ty\"]\n",
    "def sayimi(x):\n",
    "    try:\n",
    "        int(x)\n",
    "        return True\n",
    "    except:\n",
    "        return False\n",
    "sayilar=[*filter(sayimi,liste)]\n",
    "sayilar"
   ]
  },
  {
   "cell_type": "code",
   "execution_count": 68,
   "metadata": {},
   "outputs": [
    {
     "data": {
      "text/plain": [
       "2736212080697765347"
      ]
     },
     "execution_count": 68,
     "metadata": {},
     "output_type": "execute_result"
    }
   ],
   "source": [
    "hash(\"murat\") #verilen bir verinin sayısal bir hash numarasına dönüştürülmesi"
   ]
  },
  {
   "cell_type": "code",
   "execution_count": 69,
   "metadata": {},
   "outputs": [
    {
     "data": {
      "text/plain": [
       "True"
      ]
     },
     "execution_count": 69,
     "metadata": {},
     "output_type": "execute_result"
    }
   ],
   "source": [
    "isinstance(\"murat\",str) #\"murat\" verisinin bir str olup olmadığını döndürür"
   ]
  },
  {
   "cell_type": "code",
   "execution_count": 71,
   "metadata": {},
   "outputs": [
    {
     "data": {
      "text/plain": [
       "5"
      ]
     },
     "execution_count": 71,
     "metadata": {},
     "output_type": "execute_result"
    }
   ],
   "source": [
    "len(\"murat\") #bir nesnenin uzunluğunu döndürür."
   ]
  },
  {
   "cell_type": "raw",
   "metadata": {},
   "source": [
    "map(fonksiyon,iteratif veri) ikinci parametrederi argumanın içerdiği her bir veriyi tek tek birinci parametredeki fonksiyona gönderip döndürülen değerlerden oluşan bir map objesi elde edilir. Bu obje ise bir listeye dönüştürülebilir..."
   ]
  },
  {
   "cell_type": "code",
   "execution_count": 74,
   "metadata": {},
   "outputs": [
    {
     "data": {
      "text/plain": [
       "[False, True, False, True, False, True, True, True, True, False]"
      ]
     },
     "execution_count": 74,
     "metadata": {},
     "output_type": "execute_result"
    }
   ],
   "source": [
    "liste=[\"a\",2,\"s\",23,\"d\",76,21,0,43,\"ty\"]\n",
    "def sayimi(x):\n",
    "    try:\n",
    "        int(x)\n",
    "        return True\n",
    "    except:\n",
    "        return False\n",
    "sayilar=[*map(sayimi,liste)]\n",
    "sayilar"
   ]
  },
  {
   "cell_type": "code",
   "execution_count": 75,
   "metadata": {},
   "outputs": [
    {
     "data": {
      "text/plain": [
       "[225, 4761, 4096, 3364, 25, 1296, 361, 729]"
      ]
     },
     "execution_count": 75,
     "metadata": {},
     "output_type": "execute_result"
    }
   ],
   "source": [
    "de=(15,69,64,58,5,36,19,27)\n",
    "list(map(lambda x : x ** 2, de))"
   ]
  },
  {
   "cell_type": "code",
   "execution_count": 76,
   "metadata": {},
   "outputs": [
    {
     "data": {
      "text/plain": [
       "[12.5, 13.5, 0.05, 4.9, 0.125, 1594323.0]"
      ]
     },
     "execution_count": 76,
     "metadata": {},
     "output_type": "execute_result"
    }
   ],
   "source": [
    "li1=[5,3,1,7,2,9]\n",
    "li2=[3,4,6,2,1,7]\n",
    "li3=[10,6,20,10,16,3,22]\n",
    "list(map(lambda x,y,z:x**y/z,li1,li2,li3)) #uygun fonksiyon olduğu durumda birden fazla veri de gönderilebilir."
   ]
  },
  {
   "cell_type": "code",
   "execution_count": 78,
   "metadata": {},
   "outputs": [
    {
     "data": {
      "text/plain": [
       "[15, 12, 6, 14, 2, 63]"
      ]
     },
     "execution_count": 78,
     "metadata": {},
     "output_type": "execute_result"
    }
   ],
   "source": [
    "li1=[5,3,1,7,2,9]\n",
    "li2=[3,4,6,2,1,7]\n",
    "def çarp(x,y):\n",
    "    return x*y\n",
    "list(map(çarp,li1,li2))"
   ]
  },
  {
   "cell_type": "raw",
   "metadata": {},
   "source": [
    "min() ve max() parametre verilmezse min ve max sayısal ya da alfabetik değeri verir. ikinci parametre key için bir fonksiyon tanımlanırsa her bir değeri o fonksyiona göndererek buradan dönen değere göre sonuç döndürür."
   ]
  },
  {
   "cell_type": "code",
   "execution_count": 88,
   "metadata": {},
   "outputs": [
    {
     "name": "stdout",
     "output_type": "stream",
     "text": [
      "er\n",
      "albay\n"
     ]
    }
   ],
   "source": [
    "def rütbe_seviye(rütbe):\n",
    "    rütbeler = {'er'        : 0,\n",
    "                'onbaşı'    : 1,\n",
    "                'çavuş'     : 2,\n",
    "                'asteğmen'  : 3,\n",
    "                'teğmen'    : 4,\n",
    "                'üsteğmen'  : 5,\n",
    "                'yüzbaşı'   : 6,\n",
    "                'binbaşı'   : 7,\n",
    "                'yarbay'    : 8,\n",
    "                'albay'     : 9}\n",
    "    return rütbeler[rütbe]\n",
    "rütbe_seviye(\"yarbay\")\n",
    "rütbelist=['er', 'onbaşı', 'çavuş', 'asteğmen', 'teğmen', 'üsteğmen', 'yüzbaşı', 'binbaşı', 'yarbay', 'albay']\n",
    "print(min(rütbelist,key=rütbe_seviye))\n",
    "print(max(rütbelist,key=rütbe_seviye))"
   ]
  },
  {
   "cell_type": "raw",
   "metadata": {},
   "source": [
    "open(dosya_adi, mode='r', buffering=-1, encoding=None errors=None, newline=None, closefd=True, opener=None)\n",
    "\n",
    "osya_adi: open('d:/belgeler/dosya.txt') veya open(\"dosya.pdf\")\n",
    "\n",
    "mode: Dosya açma kipleri:\n",
    "r okuma kipi var olan bir dosyayı açar, dosya yoksa IOError verir. Varsayılan kiptir.\n",
    "w yazma kipi (eğer o isimde bir dosya zaten varsa dosyanın tüm içeriği silinir)\n",
    "a ekleme kipi var olan bir dosyanın sonuna ekleme yapar, dosya yoksa yazma kipinde açmış oluruz.\n",
    "x eğer aynı isimde bir dosya varsa hata verir açmaz, yoksa oluşturup yazma kipinde açar.\n",
    "b dosyaları binary kipinde açar, diğer dört kiple birlikte br, bx, bw, ba gibi kullanılır.\n",
    "t dosyaları metin kipinde açmak için kullanılır, ön tanımlıdır, binary kipte açmadıysak zaten bu kipte açılır.\n",
    "+ diğer dört kipten birine eklenerek kullanılır, yazma kiplerinden birine eklenince okuma özelliği ekler, okuma kipine eklenince yazma özelliği ekler.\n",
    "\n",
    "buffering:\n",
    "Bir verinin dosyaya yazılmadan önce tampon bellekte ne kadar biriktirileceğini belirler. Bu argüman üç tip değer alabilir;\n",
    "0 değeri sadece binary kipte verilebilir ve her veriyi anında tampona almadan dosyaya yazılmasını sağlar\n",
    "1 değeri sadece metin dosyalarında verilebilir ve veriyi satır satır yazar, dosyaya \\n dizisini gördüğü anda o ana kadar biriktirdiği veriyi dosyaya aktarır.\n",
    "1 den büyükdeğerler verdiğmizde ise tampon boyutunu belirlemiş oluruz. Ancak bu tercih edilmeyen bir durumdur, bunun kararını işletim sisteminin kendisine bırakmak genel yöntemdir. Bu argümanın varsayılanı da bu şekildedir zaten.\n",
    "\n",
    "encoding:\n",
    "dosyayı hangi karakter kodlama sisteminde açacağımızı belirtiriz (ascii, utf-8,..)\n",
    "\n",
    "errors:\n",
    "Encoding argümanında belirttiğimiz kodlama sisteminde karakterlerin kodlaması yapılamadığı zaman, pythonun ne yapacağını belirttiğimiz argümandır.\n",
    "\"strict\" varsayılan değerdir, program ValueError ile çöker\n",
    "\"ignore\" görmezden gel, çözülemeyen karakterleri yoksayar\n",
    "\"replace\" çözülemeyen karakterlerin yerlerine soru işareti koyar\n",
    "\"xmlcharrefreplace\" çözülemeyen karakterlerin yerlerine xml karşılığını koyar\n",
    "\n",
    "newline:\n",
    "Argümanı satırsonu karakterinin hangi kaçış dizisi ile belirtildiğini belirttiğimiz argümandır. Böyle bir argümana ihtiyaç olmasının sebebi ise GNU/Linux ta satır sonu \\n ile temisl edilirken Windows ta satır sonu \\r\\n ile temsil edilir. İki sistem arasındaki dosya alışverişlerinde sorun olmaması açısından bu argüman kullanılır.\n",
    "f = open('dosya', newline='\\n') kodu kullandığımızda dosya hangi işletim sisteminde olursa olsun \\n kullanacaktır.\n",
    "\n",
    "closefd:\n",
    "dosyaların fileno() metodu sayesinde açık olan her bir dosyaya verilen file definition numarasının dosyayı kapatsak bile başka dosyaya verilmemesini, o dosya için rezerve edilmesini sağlamak istiyorsak False değeri vermeliyiz.\n"
   ]
  },
  {
   "cell_type": "code",
   "execution_count": 89,
   "metadata": {},
   "outputs": [
    {
     "data": {
      "text/plain": [
       "4"
      ]
     },
     "execution_count": 89,
     "metadata": {},
     "output_type": "execute_result"
    }
   ],
   "source": [
    "f=open(\"tahsilatlar.txt\")\n",
    "f.fileno()"
   ]
  },
  {
   "cell_type": "code",
   "execution_count": 90,
   "metadata": {},
   "outputs": [],
   "source": [
    "g=open(4)"
   ]
  },
  {
   "cell_type": "code",
   "execution_count": 92,
   "metadata": {},
   "outputs": [],
   "source": [
    "g.close()"
   ]
  },
  {
   "cell_type": "raw",
   "metadata": {},
   "source": [
    "print(*değerler, sep=' ', end='\\n', file=sys.stdout, flush=False)\n",
    "değerler: en fazla 256 şey aralarında virgül koyarak girilebilir.\n",
    "file: nereye yazdırılacağını belirtir, default değeri ekran (sys.stdout)\n",
    "flush: True denirse yazdırılacak şeyi tampon bellekte tutmadan anında yazdırır"
   ]
  },
  {
   "cell_type": "raw",
   "metadata": {},
   "source": [
    "slice(start,end,step) listeleri index metoduyla parçalama ile aynı işleve sahiptir."
   ]
  },
  {
   "cell_type": "code",
   "execution_count": 96,
   "metadata": {},
   "outputs": [
    {
     "data": {
      "text/plain": [
       "[3, 5, 7, 9]"
      ]
     },
     "execution_count": 96,
     "metadata": {},
     "output_type": "execute_result"
    }
   ],
   "source": [
    "liste=[1,2,3,4,5,6,7,8,9,10,11,12]\n",
    "li=slice(2,9,2)\n",
    "liste[li]"
   ]
  },
  {
   "cell_type": "raw",
   "metadata": {},
   "source": [
    "zip() Bu fonksiyon iki dizinin öğelerini aynı indeks numarasıyla birbirine eşleştirerek bir zip nesnesi oluşturur."
   ]
  },
  {
   "cell_type": "code",
   "execution_count": 98,
   "metadata": {},
   "outputs": [
    {
     "data": {
      "text/plain": [
       "[(1, 6, 'ahmet'), (2, 7, 'mehmet'), (3, 8, 'kamil'), (4, 9, 'zeynep')]"
      ]
     },
     "execution_count": 98,
     "metadata": {},
     "output_type": "execute_result"
    }
   ],
   "source": [
    "liste1=[1,2,3,4,5]\n",
    "liste2=[6,7,8,9,10,11,12,13]\n",
    "liste3=[\"ahmet\",\"mehmet\",\"kamil\",\"zeynep\"]\n",
    "list(zip(liste1,liste2,liste3))"
   ]
  },
  {
   "cell_type": "code",
   "execution_count": 99,
   "metadata": {},
   "outputs": [
    {
     "name": "stdout",
     "output_type": "stream",
     "text": [
      "1 : ahmet\n",
      "2 : mehmet\n",
      "3 : kamil\n",
      "4 : zeynep\n"
     ]
    }
   ],
   "source": [
    "liste1=[1,2,3,4,5]\n",
    "liste2=[\"ahmet\",\"mehmet\",\"kamil\",\"zeynep\"]\n",
    "for i,j in zip(liste1,liste2):\n",
    "    print(i,\":\",j)"
   ]
  },
  {
   "cell_type": "raw",
   "metadata": {},
   "source": [
    "reduce() bu fonksiyon son güncellemelerle functools adlı bir modüle taşınmıştır. map() fonksiyonu gibi ilk parametresine bir fonksiyon, ikinci parametreye de bir veri seti alır. Veri setindeki ilk iki değeri fonksiyona gönderir, fonksiyonun döndürdüğü değerle veri setindeki 3. veriyi tekrar fonksiyona gönderir ve bu böyle devam eder. Sonucu verir."
   ]
  },
  {
   "cell_type": "code",
   "execution_count": 125,
   "metadata": {},
   "outputs": [
    {
     "data": {
      "text/plain": [
       "120"
      ]
     },
     "execution_count": 125,
     "metadata": {},
     "output_type": "execute_result"
    }
   ],
   "source": [
    "import functools\n",
    "def çarpma(a,b):\n",
    "    return a*b\n",
    "functools.reduce(çarpma,range(1,6))"
   ]
  },
  {
   "cell_type": "markdown",
   "metadata": {},
   "source": [
    "### Diğer Gömülü Fonksiyonlar"
   ]
  },
  {
   "cell_type": "raw",
   "metadata": {},
   "source": [
    "memoryview()\n",
    "iter()\n",
    "next()\n",
    "object()\n",
    "property()\n",
    "staticmethod()\n",
    "super()\n",
    "getattr()\n",
    "hasattr()\n",
    "delattr()\n",
    "classmethod()\n",
    "issubclass()\n",
    "setattr()\n",
    "__import()"
   ]
  },
  {
   "cell_type": "markdown",
   "metadata": {},
   "source": [
    "## lambda fonksiyonları"
   ]
  },
  {
   "cell_type": "code",
   "execution_count": 137,
   "metadata": {
    "scrolled": true
   },
   "outputs": [
    {
     "name": "stdout",
     "output_type": "stream",
     "text": [
      "25\n"
     ]
    },
    {
     "data": {
      "text/plain": [
       "25"
      ]
     },
     "execution_count": 137,
     "metadata": {},
     "output_type": "execute_result"
    }
   ],
   "source": [
    "def toplama(a,b):\n",
    "    return a+b\n",
    "topla=lambda a,b:a+b #aynı fonksiyonu lambda ile de tanımlayabiliriz.\n",
    "print(toplama(15,10))\n",
    "topla(15,10)"
   ]
  },
  {
   "cell_type": "code",
   "execution_count": 138,
   "metadata": {},
   "outputs": [
    {
     "data": {
      "text/plain": [
       "True"
      ]
     },
     "execution_count": 138,
     "metadata": {},
     "output_type": "execute_result"
    }
   ],
   "source": [
    "çift_mi=lambda sayı:sayı%2==0\n",
    "çift_mi(33+256+125)"
   ]
  },
  {
   "cell_type": "code",
   "execution_count": 143,
   "metadata": {},
   "outputs": [
    {
     "data": {
      "text/plain": [
       "[6, 42, 32, 64, 34, 26]"
      ]
     },
     "execution_count": 143,
     "metadata": {},
     "output_type": "execute_result"
    }
   ],
   "source": [
    "li=[3,21,16,32,17,13] #bu listedeki sayıların karelerinden oluşan bir liste\n",
    "kareleri=lambda li:[x*2 for x in li]\n",
    "kareleri(li)"
   ]
  },
  {
   "cell_type": "code",
   "execution_count": 144,
   "metadata": {},
   "outputs": [
    {
     "data": {
      "text/plain": [
       "'verilen_bir_metnin_kelime_aralarına_istenen_karakteri_ekleme'"
      ]
     },
     "execution_count": 144,
     "metadata": {},
     "output_type": "execute_result"
    }
   ],
   "source": [
    "a=\"verilen bir metnin kelime aralarına istenen karakteri ekleme\"\n",
    "arayaekle=lambda ifade,karakter: karakter.join(ifade.split())\n",
    "arayaekle(a,\"_\")"
   ]
  },
  {
   "cell_type": "markdown",
   "metadata": {},
   "source": [
    "## Özyinelemeli (recursive) fonksiyonlar"
   ]
  },
  {
   "cell_type": "code",
   "execution_count": 166,
   "metadata": {},
   "outputs": [
    {
     "name": "stdout",
     "output_type": "stream",
     "text": [
      "Abdülcabbar\n",
      "dülcabbar\n",
      "lcabbar\n",
      "abbar\n",
      "bar\n",
      "r\n",
      "r\n",
      "bar\n",
      "abbar\n",
      "lcabbar\n",
      "dülcabbar\n",
      "Abdülcabbar\n"
     ]
    }
   ],
   "source": [
    "def azalt(s):\n",
    "    if len(s) ==0:\n",
    "        return s\n",
    "    else:\n",
    "        print(s)\n",
    "        azalt(s[2:]) #Baştan 0 ve 1 indexlerini her seferinde atlayarak döndürür\n",
    "        print(s)\n",
    "azalt('Abdülcabbar')"
   ]
  },
  {
   "cell_type": "code",
   "execution_count": 176,
   "metadata": {},
   "outputs": [
    {
     "data": {
      "text/plain": [
       "'tarum'"
      ]
     },
     "execution_count": 176,
     "metadata": {},
     "output_type": "execute_result"
    }
   ],
   "source": [
    "def ters_çevir(s):\n",
    "    if len(s) < 1:\n",
    "        return s\n",
    "    else:\n",
    "        return ters_çevir(s[1:])+s[0]\n",
    "\n",
    "ters_çevir(\"murat\")"
   ]
  },
  {
   "cell_type": "code",
   "execution_count": 178,
   "metadata": {},
   "outputs": [
    {
     "name": "stdout",
     "output_type": "stream",
     "text": [
      "[1, 2, 3, 4, 5, 6, 7, 8, 9, 10, 11, 12, 13, 14]\n"
     ]
    }
   ],
   "source": [
    "l = [1, 2, 3, [4, 5, 6], [7, 8, 9, [10, 11], 12], 13, 14]\n",
    "\n",
    "def düz_liste_yap(liste):\n",
    "    if not isinstance(liste, list): #eğer verilen liste liste değilse, listeye çevir.\n",
    "        return [liste]\n",
    "    elif not liste: # eğer boş veri ise, boş liste döndür.\n",
    "        return [] \n",
    "    else:\n",
    "        return düz_liste_yap(liste[0]) + düz_liste_yap(liste[1:])\n",
    "    #verilen listenin ilk elemanı ile fonksiyondan gelen listeyi topla, bu bir döngü olduğu için dip noktaya ulaşana kadar\n",
    "    #her seferinde tek elemanlı ya da boş liste gelecek en sonunda bütün bu listeler toplanacak...\n",
    "\n",
    "print(düz_liste_yap(l))"
   ]
  },
  {
   "cell_type": "markdown",
   "metadata": {},
   "source": [
    "## Modüller"
   ]
  },
  {
   "cell_type": "raw",
   "metadata": {},
   "source": [
    "Hazır modüller\n",
    "https://docs.python.org/3/library/\n",
    "https://pypi.python.org/pypi bu adresteki modülleri şu komut satırını kullanarak kurabiliriz: pip3 install modül_adı"
   ]
  },
  {
   "cell_type": "raw",
   "metadata": {},
   "source": [
    "import modülismi\n",
    "dir(modülismi)\n",
    "modülismi.fonksiyon()"
   ]
  },
  {
   "cell_type": "code",
   "execution_count": 180,
   "metadata": {},
   "outputs": [
    {
     "data": {
      "text/plain": [
       "0"
      ]
     },
     "execution_count": 180,
     "metadata": {},
     "output_type": "execute_result"
    }
   ],
   "source": [
    "import subprocess as sp\n",
    "sp.call(\"notepad.exe\")"
   ]
  },
  {
   "cell_type": "code",
   "execution_count": 1,
   "metadata": {
    "scrolled": true
   },
   "outputs": [
    {
     "name": "stdout",
     "output_type": "stream",
     "text": [
      "nt\n",
      "C:\\Users\\kurtm\\Desktop\\Python çalışma notlarım\n"
     ]
    }
   ],
   "source": [
    "from os import name, listdir, getcwd\n",
    "print(name,getcwd(),sep=\"\\n\")"
   ]
  },
  {
   "cell_type": "raw",
   "metadata": {},
   "source": [
    "from modülismi import * yıldız kullanımı modülün tamamını import etmek için"
   ]
  },
  {
   "cell_type": "raw",
   "metadata": {},
   "source": [
    "from modül_adı import isim as farklı_isim"
   ]
  },
  {
   "cell_type": "raw",
   "metadata": {},
   "source": [
    "Python'a bir import komutu gönderdiğimizde ilk önce programı çalıştırdığımız dizinde o modülü arar, bulamazsa sys.path içindeki dizinlerde arar, orada da bulamazsa ImportError verir. Yani ya modülümüzün yolunu path listesine ekleyeceğiz ya da modülü python3.xx/lib klasörünün içine koyacağız"
   ]
  },
  {
   "cell_type": "code",
   "execution_count": 205,
   "metadata": {},
   "outputs": [
    {
     "data": {
      "text/plain": [
       "'modülyolu'"
      ]
     },
     "execution_count": 205,
     "metadata": {},
     "output_type": "execute_result"
    }
   ],
   "source": [
    "import sys\n",
    "sys.path.append(\"modülyolu\") #modülümüzün bulunduğu yeri bu listeye ekleyerek\n",
    "sys.path.pop()"
   ]
  },
  {
   "cell_type": "raw",
   "metadata": {},
   "source": [
    "Bazı Hazır modüller\n",
    "random:\n",
    "sample(dizi,adet) herhangi bir dizi içinden istediğimiz sayıda rastgele örnek almamızı sağlar.\n",
    "shuffle(dizi) verilen dizinin öğelerini rastgele karıştırır\n",
    "randrange(a,b) a ve b arasında rastgele bir sayı üretir\n",
    "math:\n",
    "factorial() faktoriyel\n",
    "floor() ondalıklı sayıyı alta yuvarla\n",
    "ceil() ondalıklı sayıyı yukarı yuvarla\n"
   ]
  },
  {
   "cell_type": "code",
   "execution_count": 69,
   "metadata": {},
   "outputs": [
    {
     "ename": "SyntaxError",
     "evalue": "invalid syntax (<ipython-input-69-ea62a8b436b0>, line 1)",
     "output_type": "error",
     "traceback": [
      "\u001b[1;36m  File \u001b[1;32m\"<ipython-input-69-ea62a8b436b0>\"\u001b[1;36m, line \u001b[1;32m1\u001b[0m\n\u001b[1;33m    bool(if a>5)\u001b[0m\n\u001b[1;37m          ^\u001b[0m\n\u001b[1;31mSyntaxError\u001b[0m\u001b[1;31m:\u001b[0m invalid syntax\n"
     ]
    }
   ],
   "source": []
  },
  {
   "cell_type": "code",
   "execution_count": null,
   "metadata": {},
   "outputs": [],
   "source": []
  }
 ],
 "metadata": {
  "kernelspec": {
   "display_name": "Python 3",
   "language": "python",
   "name": "python3"
  },
  "language_info": {
   "codemirror_mode": {
    "name": "ipython",
    "version": 3
   },
   "file_extension": ".py",
   "mimetype": "text/x-python",
   "name": "python",
   "nbconvert_exporter": "python",
   "pygments_lexer": "ipython3",
   "version": "3.7.6"
  }
 },
 "nbformat": 4,
 "nbformat_minor": 2
}
