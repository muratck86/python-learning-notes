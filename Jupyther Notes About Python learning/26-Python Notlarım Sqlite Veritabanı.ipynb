{
 "cells": [
  {
   "cell_type": "markdown",
   "metadata": {},
   "source": [
    "# SQLite Veritabanı (SQL=Structured Query Language)"
   ]
  },
  {
   "cell_type": "markdown",
   "metadata": {},
   "source": [
    "SQL kodları çalıştırmak için pythonda bulunan sqlite3 modülünü kullanmak gerekiyor."
   ]
  },
  {
   "cell_type": "code",
   "execution_count": 1,
   "metadata": {},
   "outputs": [],
   "source": [
    "#import sqlite3\n",
    "#con=sqlite3.connect(\"veritabani_adi.db\")"
   ]
  },
  {
   "cell_type": "markdown",
   "metadata": {},
   "source": [
    "Yukarıdaki kodu çalıştırdığımızda, veritabani_adi.db isimli bir veritabanı varsa buna bağlanır, yoksa bu isimde bir veritabanı oluşturur ve buna bağlanır, bu arada biz bu bağlantımızı \"con\" isimli bir değişkene ileriki kullanımlarda işimize yarayacağı için atadık."
   ]
  },
  {
   "cell_type": "code",
   "execution_count": 2,
   "metadata": {},
   "outputs": [],
   "source": [
    "#cursor=con.cursor()"
   ]
  },
  {
   "cell_type": "markdown",
   "metadata": {},
   "source": [
    "Şimdi de sorgulamalarımız için (veritabanına göndereceğimiz komutlara, sorgu diyoruz) bir imleç görevi görecek olan cursor değişkenimizi tanımladık."
   ]
  },
  {
   "cell_type": "code",
   "execution_count": 3,
   "metadata": {},
   "outputs": [],
   "source": [
    "#con.close()"
   ]
  },
  {
   "cell_type": "markdown",
   "metadata": {},
   "source": [
    "Yukarıdaki kodumuzla ise veritabanında gerçekleştireceğimiz çeşitli işlemlerimizin ardından aynı dosyalarla çalışırken yaptığımız gibi bağlantımızı kapatıyoruz."
   ]
  },
  {
   "cell_type": "markdown",
   "metadata": {},
   "source": [
    "Özet olarak veritabanında çalışırken oluşacak işlem adımlarımız şu şekilde olacak..."
   ]
  },
  {
   "cell_type": "code",
   "execution_count": 4,
   "metadata": {},
   "outputs": [],
   "source": [
    "#import sqlite3\n",
    "#baglanti=sqlite3.connect(\"veritabanım.db\")\n",
    "#imlec=baglanti.cursor()\n",
    "#imlec.execute(çeşitli sorgulama işlemleri...)\n",
    "#...\n",
    "#...\n",
    "#baglanti.close()"
   ]
  },
  {
   "cell_type": "markdown",
   "metadata": {},
   "source": [
    "## Veritabanında tablo oluşturma"
   ]
  },
  {
   "cell_type": "markdown",
   "metadata": {},
   "source": [
    "Tablo iki şekilde oluşturulur:"
   ]
  },
  {
   "cell_type": "code",
   "execution_count": 5,
   "metadata": {},
   "outputs": [],
   "source": [
    "#1 CREATE TABLE tablo_ismi (kolon1 TEXT, kolon2  INT, kolon3 TEXT,.......)"
   ]
  },
  {
   "cell_type": "markdown",
   "metadata": {},
   "source": [
    "Yukarıdaki sorguyu gönderdiğimizde eğer yoksa tablo_ismi adında bir tablo oluşturacak ve içinde kolon1, kolon2, kolon3 adlarında sütun isimleri oluşturacak, bu sütunlara girilecek veri tiplerini de TEXT(sql de stringler text olarak tanımlanır) ya da integer için INT olarak belirleyecektir.\n",
    "Ancak bu sorguya göre aynı isimde bir tablo zaten varsa hata verecektir."
   ]
  },
  {
   "cell_type": "code",
   "execution_count": 14,
   "metadata": {},
   "outputs": [],
   "source": [
    "#2 CREATE TABLE IF NOT EXISTS kitaplar (adı TEXT, yayınevi TEXT, yazar TEXT, baskı_sayısı INT, sayfa_sayısı INT)"
   ]
  },
  {
   "cell_type": "markdown",
   "metadata": {},
   "source": [
    "Yukarıdaki sorguyu gönderdiğimizde ise eğer yoksa tabloyu oluşturacak, varsa hata vermeyecektir."
   ]
  },
  {
   "cell_type": "code",
   "execution_count": 10,
   "metadata": {},
   "outputs": [],
   "source": [
    "#import sqlite3\n",
    "#con=sqlite3.connect(\"veritabani.db\")\n",
    "#cur=con.cursor()\n",
    "#cur.execute(\"CREATE TABLE IF NOT EXISTS kitaplar (adı TEXT, yazar TEXT, yayınevi TEXT, sayfa_sayısı INT)\")\n",
    "#con.commit()\n",
    "#con.close()"
   ]
  },
  {
   "cell_type": "markdown",
   "metadata": {},
   "source": [
    "Yukarıdaki kodları çalıştırdığımızda veritabani.db (yoksa oluşturulup) adlı veritabanına bağlanacak ve bu veritabanı içinde kitaplar adında bir tablo oluşturacak (eğer böyle bir tablo zaten varsa hata vermeyecek, hiçbir işlem yapmayacaktır.)"
   ]
  },
  {
   "cell_type": "markdown",
   "metadata": {},
   "source": [
    "#### NOT:"
   ]
  },
  {
   "cell_type": "markdown",
   "metadata": {},
   "source": [
    "***commit() metodu veritabanında değişiklik yapan sorguları veritabanına işlemek için çalıştırmamız gereken bir koddur.***"
   ]
  },
  {
   "cell_type": "markdown",
   "metadata": {},
   "source": [
    "**Veritabanı sorgularını büyük harf yapmak bir gereklilik değildir, bir alışkanlıktır.**"
   ]
  },
  {
   "cell_type": "markdown",
   "metadata": {},
   "source": [
    "## Veritabanındaki tablolara bilgi ekleme, mevcut bilgiyi değiştirme(güncelleme) ve silme"
   ]
  },
  {
   "cell_type": "markdown",
   "metadata": {},
   "source": [
    "### Tabloya veri ekleme "
   ]
  },
  {
   "cell_type": "code",
   "execution_count": 11,
   "metadata": {},
   "outputs": [],
   "source": [
    "# INSERT INTO kitaplar VALUES('İstanbul Hatırası','Ahmet Ümit','Everest',561)"
   ]
  },
  {
   "cell_type": "markdown",
   "metadata": {},
   "source": [
    "İşte yukarıdaki sorguyu execute() metodu ile gönderdiğimizde var olan tablomuza bu veriyi eklemiş oluruz. Tabi bu işlemimiz veritabanımızda değişiklik yapacak bir işlem olduğu için commit() kullanımını da unutmamak gerekir."
   ]
  },
  {
   "cell_type": "code",
   "execution_count": 13,
   "metadata": {},
   "outputs": [],
   "source": [
    "#import sqlite3\n",
    "#def kitap_ekle(tablo,isim,yazar,yayinevi,sayfa_sayisi):\n",
    "#    cur.execute(\"INSERT INTO {} VALUES('{}','{}','{}',{})\".format(tablo,isim,yazar,yayinevi,sayfa_sayisi))\n",
    "#    con.commit()\n",
    "    \n",
    "    \n",
    "#con=sqlite3.connect(\"veritabani.db\")\n",
    "#cur=con.cursor()\n",
    "#kitap_ekle(\"kitaplar\",\"Patasana\",\"Ahmet Ümit\",\"Everest\",400)\n",
    "#con.close()"
   ]
  },
  {
   "cell_type": "markdown",
   "metadata": {},
   "source": [
    "Mevcut olan **veritabani.db** adlı veritabanımızdaki yine mevcut olan **kitaplarım** adlı tabloya daha önce oluşturulmuş olan **adı** , **yazar**, **yayınevi** , **sayfa_sayısı** kolonlarına sırasıyla **Patasana**, **Ahmet Ümit**, **Everest**, **400** verilerini ekleyecek kodumuzun bir örneği yukarıdaki koddur."
   ]
  },
  {
   "cell_type": "code",
   "execution_count": 16,
   "metadata": {},
   "outputs": [],
   "source": [
    "#def kitap_ekle(isim,yazar,yayınevi,sayfa_sayısı):\n",
    "#    cur.execute(\"INSERT INTO kitaplar VALUES(?,?,?,?)\",(isim,yazar,yayınevi,sayfa_sayısı))\n",
    "#    con.commit()\n",
    "#isim = input(\"İsim:\")\n",
    "#yazar = input(\"Yazar:\")\n",
    "#yayınevi = input(\"Yayınevi:\")\n",
    "#sayfa_sayısı =  int(input(\"Sayfa Sayısı:\"))"
   ]
  },
  {
   "cell_type": "markdown",
   "metadata": {},
   "source": [
    "Yukarıda kitap_ekle fonksiyonumuza, başka bir örnek olarak değerleri input() ile alan fonksiyon verilmiştir. Ancak burada asıl dikkate değer olan:\n",
    "**cur.execute(\"INSERT INTO kitaplar VALUES(?,?,?,?)\",(isim,yazar,yayınevi,sayfa_sayısı))**   \n",
    "şeklindeki kullanımdır."
   ]
  },
  {
   "cell_type": "markdown",
   "metadata": {},
   "source": [
    "Burada **?** ile yapılan .format ya da f string benzeri kullanım sqlite3 modülünün execute() metoduna özgü bir kullanım olabilir."
   ]
  },
  {
   "cell_type": "markdown",
   "metadata": {},
   "source": [
    "### Veri güncelleme "
   ]
  },
  {
   "cell_type": "code",
   "execution_count": 17,
   "metadata": {},
   "outputs": [],
   "source": [
    "#UPDATE tablo_adı SET güncellenecek_bilginin_kolonu = 'yeni_bilgi' WHERE hangi_kolonda_arama_yapılacak = 'aranan_bilgi'"
   ]
  },
  {
   "cell_type": "markdown",
   "metadata": {},
   "source": [
    "Yukarıdaki sorgu formülü bir tablodaki bir ya da birden fazla bilgiyi değiştirmek için kullanılacak sorgudur."
   ]
  },
  {
   "cell_type": "code",
   "execution_count": 18,
   "metadata": {},
   "outputs": [],
   "source": [
    "#import sqlite3\n",
    "#con=sqlite3.connect(\"veritabani.db\")\n",
    "#cur=con.cursor()\n",
    "\n",
    "#def kitap_ekle(tablo,isim,yazar,yayinevi,sayfa_sayisi):\n",
    "#    cur.execute(\"INSERT INTO {} VALUES('{}','{}','{}',{})\".format(tablo,isim,yazar,yayinevi,sayfa_sayisi))\n",
    "#    con.commit()\n",
    "\n",
    "\n",
    "#def bilgi_guncelle():\n",
    "#    tablo_adı = input(\"Güncellenecek Tablo adı:\")\n",
    "#    değiş_sütun = input(\"Güncellenecek bilgi türü:\")\n",
    "#    yeni_bilgi = input(\"Yeni bilgi:\")\n",
    "#    arama_sütun = input(\"Aranacak bilgi Türü:\")\n",
    "#    arama_metni = input(\"Aranama metni:\")\n",
    "#    cur.execute(\"UPDATE {} SET {} ='{}' WHERE {} = '{}'\".format(tablo_adı,değiş_sütun,yeni_bilgi,arama_sütun,arama_metni))\n",
    "#    con.commit()\n",
    "\n",
    "#kitap_ekle(\"kitaplar\",\"Olasılıksız\",\"Adam Faver\",\"Metis\",475)\n",
    "#bilgi_guncelle()\n",
    "\n",
    "#con.close()"
   ]
  },
  {
   "cell_type": "markdown",
   "metadata": {},
   "source": [
    "Yukarıdaki kodu çalıştırdığımızda **kitap_ekle** fonksiyonunda görüldüğü gibi Olasılıksız kitabının yayınevinin yanlışlıkla \"metis\" olacak şekilde kitaplar tablomuza bu kitabın bilgileri eklenmiş olacak,\n",
    "Bu yanlışlığı düzeltmek istediğimizi varsayarak,\n",
    "**bilgi_güncelle** fonksiyonuna baktığımızda,\n",
    "Güncellenecek bilgi türü :yayınevi\n",
    "Yeni bilgi               :APRIL\n",
    "Aranacak bilgi Türü      :adı veya yazarı olabilir. (Değiştirmek istediğimiz bilgiye ait kitabı nasıl bulmak istediğimize)\n",
    "Arama metni              :aranacak bilgi türüne göre Olasılıksız veya Adam Faver olabilir...\n",
    "\n",
    "Bize inputla sorulacak bu bilgileri girdiğimizde sql kitaplar tablosunda aranacak bilgi türü ve arama metnine göre bulacağı bütün kitapların yayınevi bilgisini APRIL olarak değiştirecektir.\n",
    "\n",
    "Örnek olarak tablomuzda birden fazla Adam Faver varsa ve biz Bilgi türü olarak Yazara göre arama yaptıysak yazarı Adam Faver olan bütün kitapların yayınevini APRIL olarak güncelleyecektir."
   ]
  },
  {
   "cell_type": "markdown",
   "metadata": {},
   "source": [
    "### Veri Silme"
   ]
  },
  {
   "cell_type": "code",
   "execution_count": 19,
   "metadata": {},
   "outputs": [],
   "source": [
    "#DELETE FROM tablo_adı WHERE arama_kolonu = \"Arama metni\""
   ]
  },
  {
   "cell_type": "markdown",
   "metadata": {},
   "source": [
    "Yukarıdaki sorgu kalıbı da bir tablodan veri silerken execute() metoduyla göndereceğimiz sorgudur."
   ]
  },
  {
   "cell_type": "code",
   "execution_count": 20,
   "metadata": {},
   "outputs": [],
   "source": [
    "#import sqlite3\n",
    "#con=sqlite3.connect(\"veritabani.db\")\n",
    "#cur=con.cursor()\n",
    "\n",
    "#def kitap_ekle(tablo,isim,yazar,yayinevi,sayfa_sayisi):\n",
    "#    cur.execute(\"INSERT INTO {} VALUES('{}','{}','{}',{})\".format(tablo,isim,yazar,yayinevi,sayfa_sayisi))\n",
    "#    con.commit()\n",
    "\n",
    "\n",
    "#def bilgi_guncelle():\n",
    "#    tablo_adı = input(\"Güncellenecek Tablo adı:\")\n",
    "#    değiş_sütun = input(\"Güncellenecek bilgi türü:\")\n",
    "#    yeni_bilgi = input(\"Yeni bilgi:\")\n",
    "#    arama_sütun = input(\"Aranacak bilgi Türü:\")\n",
    "#    arama_metni = input(\"Aranama metni:\")\n",
    "#    cur.execute(\"UPDATE {} SET {} ='{}' WHERE {} = '{}'\".format(tablo_adı,değiş_sütun,yeni_bilgi,arama_sütun,arama_metni))\n",
    "#    con.commit()\n",
    "\n",
    "#def kitap_sil(tablo,sütun,arama):\n",
    "#    cur.execute(f\"DELETE FROM {tablo} WHERE {sütun} = '{arama}'\")\n",
    "#    con.commit()\n",
    "\n",
    "#kitap_ekle(\"kitaplar\",\"Patasana\",\"Ahmet Ümit\",\"Everest\",400)\n",
    "#kitap_ekle(\"kitaplar\",\"Olasılıksız\",\"Adam Faver\",\"APRIL\",475)\n",
    "#kitap_ekle(\"kitaplar\",\"İstanbul Hatırası\",\"Ahmet Ümit\",\"Everest\",590)\n",
    "\n",
    "#tablo_adı=input(\"Tablo Adı: \")\n",
    "#arama_yeri=input(\"Arama kriteri: \")\n",
    "#metin=input(\"Arama metni: \")\n",
    "\n",
    "#kitap_sil(tablo_adı,arama_yeri,metin)\n",
    "#con.close()"
   ]
  },
  {
   "cell_type": "markdown",
   "metadata": {},
   "source": [
    "Yukarıdaki kodlarda görüldüğü gibi **kitap_ekle** metodu ile 3 adet kitap eklediğimizi ve tablomuzda 3 kitap olduğunu varsayarsak, bunlardan Patasana'yı silmek için **Arama kriteri** inputuna yazar ve **Arama metni** inputuna da Ahmet Ümit girersek Ahmet Ümitin tablodaki her iki kitabı da silinecektir."
   ]
  },
  {
   "cell_type": "markdown",
   "metadata": {},
   "source": [
    "## Tablodan veri çekme (okuma)"
   ]
  },
  {
   "cell_type": "markdown",
   "metadata": {},
   "source": [
    "Tablolardan iki temel şekilde veri çekiyoruz,"
   ]
  },
  {
   "cell_type": "code",
   "execution_count": 21,
   "metadata": {},
   "outputs": [],
   "source": [
    "#1.a SELECT sütuni,sütunj,... FROM tabloadı\n",
    "#1.b  SELECT * FROM tabloadı"
   ]
  },
  {
   "cell_type": "markdown",
   "metadata": {},
   "source": [
    "Yukarıdaki sorgu kalıbından 1.a da tablodaki bütün verilerin sadece seçilen sütunları çekilir. Örnek olarak bizim kitaplar tablomuz için, sorguya göndereceğimiz sütun adlarına göre bütün kitapların sadece istediğimiz sütun bilgileri gelir. Mesela:\n",
    "**SELECT adı,yazar FROM kitaplar**\n",
    "sorgusunu gönderirsek bütün kitapların sadece adı ve yazarı bilgilerini çekeriz.\n",
    "Bu durumda, 1.b sorgusunda ise tablonun tamamını çekmiş oluruz."
   ]
  },
  {
   "cell_type": "code",
   "execution_count": 22,
   "metadata": {},
   "outputs": [],
   "source": [
    "#2.a SELECT sütuni,sütunj FROM tabloadı WHERE sütun = 'arama metni'\n",
    "#2.b SELECT * FROM tabloadı WHERE sütun = 'arama metni'"
   ]
  },
  {
   "cell_type": "markdown",
   "metadata": {},
   "source": [
    "Yukarıdaki sorgu kalıplarında ise çekeceğimiz verileri sütuna göre arayarak çekeriz."
   ]
  },
  {
   "cell_type": "code",
   "execution_count": 25,
   "metadata": {},
   "outputs": [],
   "source": [
    "#import sqlite3\n",
    "#con=sqlite3.connect(\"veritabani.db\")\n",
    "#cur=con.cursor()\n",
    "\n",
    "#def kitap_ekle(tablo,isim,yazar,yayinevi,sayfa_sayisi):\n",
    "#    cur.execute(\"INSERT INTO {} VALUES('{}','{}','{}',{})\".format(tablo,isim,yazar,yayinevi,sayfa_sayisi))\n",
    "#    con.commit()\n",
    "\n",
    "#def listele():\n",
    "#    tabloadı=input(\"Tablo adı: \")\n",
    "#    kriter=input(\"Listeleme Kriterleri:\\n Tümü için '*' girin \\n Belirli kriterler için virgülle ayırarak yazın\\n\")\n",
    "#    cur.execute(f\"SELECT {kriter} FROM {tabloadı}\")\n",
    "#    liste=cur.fetchall()\n",
    "#    print(*liste,sep=\"\\n\")\n",
    "\n",
    "\n",
    "#kitap_ekle(\"kitaplar\",\"Patasana\",\"Ahmet Ümit\",\"Everest\",400)\n",
    "#kitap_ekle(\"kitaplar\",\"Olasılıksız\",\"Adam Faver\",\"APRIL\",475)\n",
    "#kitap_ekle(\"kitaplar\",\"İstanbul Hatırası\",\"Ahmet Ümit\",\"Everest\",590)\n",
    "\n",
    "\n",
    "#listele()\n",
    "#con.close()"
   ]
  },
  {
   "cell_type": "markdown",
   "metadata": {},
   "source": [
    "Yukarıdaki listele fonksiyonu bize tablodaki tüm verileri istediğimiz kriterlere göre yani tüm verilerin sadece istediğimiz sütunlarını bize getirecek sorgunun kodudur."
   ]
  },
  {
   "cell_type": "markdown",
   "metadata": {},
   "source": [
    "#### NOT:"
   ]
  },
  {
   "cell_type": "markdown",
   "metadata": {},
   "source": [
    "**cur=fetchall()** fonksiyonu kullanıldı, **con.commit()** kullanılmadı.\n",
    "Veritabanımızda değişiklik yapılan durumlarda commit() kullanıyoruz. Veri çekme işlemlerinde ise fetchall() kullanıyoruz."
   ]
  },
  {
   "cell_type": "markdown",
   "metadata": {},
   "source": [
    "Ayrıca burada dikkat edilecek diğer birşey ise, tablomuzdan çektiğimiz verilerin her bir bir demet olacak şekilde liste içinde demet olarak karşımıza geliyor. Biz burada listenin içindeki her bir demeti ayrı satıra yazdırmak için (*liste,sep=\"\\n\") şeklinde kullandık."
   ]
  },
  {
   "cell_type": "code",
   "execution_count": 26,
   "metadata": {},
   "outputs": [],
   "source": [
    "#import sqlite3\n",
    "#con=sqlite3.connect(\"veritabani.db\")\n",
    "#cur=con.cursor()\n",
    "\n",
    "#def kitap_ekle(tablo,isim,yazar,yayinevi,sayfa_sayisi):\n",
    "#    cur.execute(\"INSERT INTO {} VALUES('{}','{}','{}',{})\".format(tablo,isim,yazar,yayinevi,sayfa_sayisi))\n",
    "#    con.commit()\n",
    "\n",
    "#def listele():\n",
    "#    tabloadı=input(\"Tablo adı: \")\n",
    "#    kriter=input(\"Listeleme Kriterleri:\\n Tümü için '*' girin \\n Belirli kriterler için virgülle ayırarak yazın\\n\")\n",
    "#    cur.execute(f\"SELECT {kriter} FROM {tabloadı}\")\n",
    "#    liste=cur.fetchall()\n",
    "#    print(*liste,sep=\"\\n\")\n",
    "\n",
    "#def arama_yap():\n",
    "#    tabloadı=input(\"Tablo adı:\")\n",
    "#    sutunlar=input(\"Getirilecek sütunlar:\\nTümü için '*' girin \\n Belirli kriterler için virgülle ayırarak yazın\\n\")\n",
    "#    sütunda_ara=input(\"Arama Kriteri: \")\n",
    "#    metin=input(\"Arama metni: \")\n",
    "#    cur.execute(f\"SELECT {sutunlar} FROM {tabloadı} WHERE {sütunda_ara} = '{metin}'\")\n",
    "#    liste = cur.fetchall()\n",
    "#    print(*liste, sep=\"\\n\")\n",
    "\n",
    "#kitap_ekle(\"kitaplar\",\"Patasana\",\"Ahmet Ümit\",\"Everest\",400)\n",
    "#kitap_ekle(\"kitaplar\",\"Olasılıksız\",\"Adam Faver\",\"APRIL\",475)\n",
    "#kitap_ekle(\"kitaplar\",\"İstanbul Hatırası\",\"Ahmet Ümit\",\"Everest\",590)\n",
    "\n",
    "\n",
    "#arama_yap()\n",
    "#con.close()"
   ]
  },
  {
   "cell_type": "code",
   "execution_count": null,
   "metadata": {},
   "outputs": [],
   "source": []
  }
 ],
 "metadata": {
  "kernelspec": {
   "display_name": "Python 3",
   "language": "python",
   "name": "python3"
  },
  "language_info": {
   "codemirror_mode": {
    "name": "ipython",
    "version": 3
   },
   "file_extension": ".py",
   "mimetype": "text/x-python",
   "name": "python",
   "nbconvert_exporter": "python",
   "pygments_lexer": "ipython3",
   "version": "3.7.6"
  }
 },
 "nbformat": 4,
 "nbformat_minor": 2
}
