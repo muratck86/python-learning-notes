{
 "cells": [
  {
   "cell_type": "markdown",
   "metadata": {},
   "source": [
    "# Nesne Tabanlı Programlama-Object Oriented Programming"
   ]
  },
  {
   "cell_type": "markdown",
   "metadata": {},
   "source": [
    "## class kavramı, class tanımlama ve class attribute"
   ]
  },
  {
   "cell_type": "markdown",
   "metadata": {},
   "source": [
    "#### https://python-istihza.yazbel.com/nesne_tabanli_programlama1.html"
   ]
  },
  {
   "cell_type": "markdown",
   "metadata": {},
   "source": [
    "En basit ifadeyle sınıflar nesne üretmemize yarayan veri tipleridir. Üretilecek bir çok nesnenin ortak özelliklerinden yola çıkılarak oluşturulan bir tip şablondur, bu şablondan yola çıkarak aynı ortak özelliklere ama farklı değerlere sahip neseneler üretiriz."
   ]
  },
  {
   "cell_type": "markdown",
   "metadata": {},
   "source": [
    "Sınıflar en basit ifadeyle aşağıdaki şekilde tanımlanırlar ve programcılar arasında bir gelenek olarak sınıfların isimlerinin baş harfi büyük olur, birden fazla kelime ise her kelimenin baş harfi büyük yazılıp birleştirilir (ÇalışanSınıfları gibi). "
   ]
  },
  {
   "cell_type": "raw",
   "metadata": {},
   "source": [
    "class Sınıf_adı(): #veya parantez kullanmayabiliriz.\n",
    "    işlemler...\n",
    "    işlemler..."
   ]
  },
  {
   "cell_type": "raw",
   "metadata": {},
   "source": [
    "Sınıf kavramını anlamak için, bir işletmenin işe giren çalışanlarının verilerini tuttuğu bir personel veri tabanı olsun. Bu veritabanında her çalışan için ad, soyad, yaş, memleket, departman gibi ortak özellikler, bu ortak özelliklerin de her çalışana göre farklı değerleri bulunur. Bu örnek üzerinden bir örnek yürütelim:"
   ]
  },
  {
   "cell_type": "code",
   "execution_count": 10,
   "metadata": {},
   "outputs": [
    {
     "name": "stdout",
     "output_type": "stream",
     "text": [
      "[]\n",
      "işçi\n"
     ]
    }
   ],
   "source": [
    "class Çalışan():\n",
    "    kabiliyetleri = []\n",
    "    unvanı = 'işçi' #görüleceği üzere class tanımladık ve bu class için iki adet nitelik(attribute) tanımladık\n",
    "\n",
    "print(Çalışan.kabiliyetleri)\n",
    "print(Çalışan.unvanı) #şimdi direkt bu niteliklere print fonksiyonu ile erişelim\n",
    "#Burada dikkat edilecek iki şey,\n",
    "#1. Sınıflar fonksiyonlar gibi tanımlandıklarında çağırılmayı beklemezler, tanımlandıkları anda çalışırlar\n",
    "#2. Sınıf niteliklerini kullanırken sınıf adında parantez kullanmadık direk \".\" koyup nitelik adını yazdık. Parantez\n",
    "#kullansaydık farklı bir durum olurdu. İlerde değineceğiz"
   ]
  },
  {
   "cell_type": "code",
   "execution_count": 3,
   "metadata": {},
   "outputs": [],
   "source": [
    "class Çalışan():\n",
    "    kabiliyetleri = []\n",
    "    unvanı = 'işçi'\n",
    "    maaşı = 1500\n",
    "    memleketi = ''\n",
    "    doğum_tarihi = '' #birkaç nitelik daha ekleyelim"
   ]
  },
  {
   "cell_type": "raw",
   "metadata": {},
   "source": [
    "Burada belli kabiliyetleri, unvanı, maaşı, memleketi ve doğum_tarihi olan bir Çalışan() sınıfı tanımladık. Yani ‘Çalışan’ adlı bir grubun ortak niteliklerini belirledik. Elbette her çalışanın memleketi ve doğum tarihi farklı olacağı için sınıf içinde bu değişkenlere belli bir değer atamadık. Bunların birer karakter dizisi olacağını belirten bir işaret olması için yalnızca memleketi ve doğum_tarihi adlı birer boş karakter dizisi tanımladık."
   ]
  },
  {
   "cell_type": "code",
   "execution_count": 4,
   "metadata": {},
   "outputs": [
    {
     "name": "stdout",
     "output_type": "stream",
     "text": [
      "1500\n",
      "\n",
      "\n"
     ]
    }
   ],
   "source": [
    "print(Çalışan.maaşı)\n",
    "print(Çalışan.memleketi)\n",
    "print(Çalışan.doğum_tarihi) # tanımladığımız niteliklere doğrudan sınıf adını kullanarak erişebileceğimizi biliyoruz"
   ]
  },
  {
   "cell_type": "code",
   "execution_count": 5,
   "metadata": {},
   "outputs": [],
   "source": [
    "Çalışan.ismi=\"\"\n",
    "Çalışan.yaşı=int() #istediğimiz zaman bir sınıfa nitelikler ekleyebiliyoruz."
   ]
  },
  {
   "cell_type": "code",
   "execution_count": 6,
   "metadata": {},
   "outputs": [
    {
     "name": "stdout",
     "output_type": "stream",
     "text": [
      "doğum_tarihi\n",
      "ismi\n",
      "kabiliyetleri\n",
      "maaşı\n",
      "memleketi\n",
      "unvanı\n",
      "yaşı\n"
     ]
    }
   ],
   "source": [
    "print(*[x for x in dir(Çalışan) if x[0]!=\"_\"],sep=\"\\n\")"
   ]
  },
  {
   "cell_type": "raw",
   "metadata": {},
   "source": [
    "Buradan anladığım, örnek olarak Çalışan sınıfını ele alırsak aslında bu da bir nesnedir. Ancak bir çeşit referans nesne olarak görmemiz gereken bir nesne. Eğer bu nesneden yararlanarak başka nesneler yaratma ihtiyacımız yoksa direk olarak class ismi ve bunun özellikleri ile çalışabiliriz. Ancak bu örneğimizin temsil ettiği gibi sınıfımızı şablon olarak kullanıp aynı özellikleri taşıyan çalışanlar elde edeceksek (ahmet, mehmet, ayşe gibi) başka şeyler yapmalıyız ki bunu da ileride açıklıyor."
   ]
  },
  {
   "cell_type": "markdown",
   "metadata": {},
   "source": [
    "## Sınıfların örneklenmesi (class instantiation)"
   ]
  },
  {
   "cell_type": "code",
   "execution_count": 7,
   "metadata": {},
   "outputs": [
    {
     "data": {
      "text/plain": [
       "<__main__.Çalışan at 0x1e6a92f9f08>"
      ]
     },
     "execution_count": 7,
     "metadata": {},
     "output_type": "execute_result"
    }
   ],
   "source": [
    "ahmet=Çalışan() #burada Çalışan classımızı bir ahmet değişkenine atadık, işte bu olaya örnekleme=instantiation deniyor.\n",
    "ahmet"
   ]
  },
  {
   "cell_type": "raw",
   "metadata": {},
   "source": [
    "Kısaca belirli ortak özelliklerin hepsini taşıyan her bir çalışan için, ortak özelliklere sahip Çalışan() isimli bir sınıf  tanımlamış olduk. Bu sınıfı şablon alarak bir sınıf üyesi ahmet oluşturmuş olduk.\n",
    "Bu işleme örnekleme/örneklendirme/instantiation denir."
   ]
  },
  {
   "cell_type": "code",
   "execution_count": 26,
   "metadata": {},
   "outputs": [],
   "source": [
    "#Bir oyundaki çeşitli seviyelerdeki askerler için bir class oluşturarak bir örnek daha yapalım\n",
    "class Asker:\n",
    "    rütbesi=\"er\"\n",
    "    standart_techizat=[\"G3\",\"kasatura\",\"süngü\",\"el bombası\"]\n",
    "    gücü=60\n",
    "    birliği=\"\""
   ]
  },
  {
   "cell_type": "code",
   "execution_count": 27,
   "metadata": {},
   "outputs": [],
   "source": [
    "#şimdi de bu sınıfı bir değişkene atayarak instatiation/örnekleme yapmış olalım\n",
    "mehmet=Asker()"
   ]
  },
  {
   "cell_type": "code",
   "execution_count": 15,
   "metadata": {},
   "outputs": [
    {
     "data": {
      "text/plain": [
       "'er'"
      ]
     },
     "execution_count": 15,
     "metadata": {},
     "output_type": "execute_result"
    }
   ],
   "source": [
    "mehmet.rütbesi"
   ]
  },
  {
   "cell_type": "raw",
   "metadata": {},
   "source": [
    "Burada ahmet ve mehmet, ait oldukları sınıfların birer ‘sureti’ veya başka bir deyişle ‘örneği’dir (instance). mehmet‘in, Asker() adlı sınıfın bir örneği, ahmet‘inse Çalışan() adlı sınıfın bir örneği olması demek, mehmet‘in ve ahmet‘in, ilgili sınıfların bütün özelliklerini taşıyan birer üyesi olması demektir."
   ]
  },
  {
   "cell_type": "code",
   "execution_count": 29,
   "metadata": {},
   "outputs": [],
   "source": [
    "#Yeni bir örnek verelim. Bir dükkanımız olsun ve mal aldığımız firmalar için sipariş bilgileri oluşturduğumuz bir şablon\n",
    "class Sipariş:\n",
    "    firma=\"\"\n",
    "    miktar=0\n",
    "    sipariş_tar=\"\"\n",
    "    teslim_tar=\"\"\n",
    "    stok_adedi=0 #sınıfımızı oluşturduk\n",
    "\n",
    "kalem=Sipariş() #kalem isimli bir üye oluşturmak için örnekleme yaptık"
   ]
  },
  {
   "cell_type": "markdown",
   "metadata": {},
   "source": [
    "Burada class, sınıfı tanımlamamıza yarayan bir öğedir. Tıpkı fonksiyonlardaki def gibi, sınıfları tanımlamak için de class adlı bir parçacığı kullanıyoruz.\n",
    "Sipariş ise, sınıfımızın adı oluyor. Sınıfımızın adını parantezli veya parantezsiz olarak kullanma imkanına sahibiz.\n",
    "Sınıfın gövdesinde tanımladığımız şu değişkenler birer sınıf niteliğidir (class attribute):"
   ]
  },
  {
   "cell_type": "raw",
   "metadata": {},
   "source": [
    "firma = ''\n",
    "miktar = 0\n",
    "sipariş_tar = ''\n",
    "teslim_tar = ''\n",
    "stok_adedi = 0"
   ]
  },
  {
   "cell_type": "raw",
   "metadata": {},
   "source": [
    "kalem = Sipariş() komutunu verdiğimizde ise, biraz önce tanımladığımız sınıfı örnekleyip (instantiation), bunu kalem adlı bir örneğe (instance) atamış oluyoruz."
   ]
  },
  {
   "cell_type": "code",
   "execution_count": 30,
   "metadata": {},
   "outputs": [],
   "source": [
    "defter=Sipariş()\n",
    "gofret=Sipariş()\n",
    "çikolata=Sipariş() #şeklinde istediğimiz kadar örnek çıkarabiliriz.\n",
    "#Sipariş() sınıfını üç kez örneklemiş, yani bu sınıfın bütün özelliklerini taşıyan üç farklı üye meydana getirmiş oluyoruz."
   ]
  },
  {
   "cell_type": "code",
   "execution_count": 31,
   "metadata": {},
   "outputs": [
    {
     "data": {
      "text/plain": [
       "0"
      ]
     },
     "execution_count": 31,
     "metadata": {},
     "output_type": "execute_result"
    }
   ],
   "source": [
    "kalem.firma\n",
    "kalem.miktar\n",
    "kalem.sipariş_tar\n",
    "kalem.teslim_tar\n",
    "kalem.stok_adedi #sınıf örneklerini kullanarak sınıfın herhangi bir özelliğine/niteliğine/attribute ulaşabiliriz"
   ]
  },
  {
   "cell_type": "code",
   "execution_count": 25,
   "metadata": {},
   "outputs": [
    {
     "data": {
      "text/plain": [
       "0"
      ]
     },
     "execution_count": 25,
     "metadata": {},
     "output_type": "execute_result"
    }
   ],
   "source": [
    "#Bunlar sınıf özellikleri olduğu için örnekler üzerinden değil de direk sınıf üzerinden de ulaşabiliriz.\n",
    "Sipariş.firma\n",
    "Sipariş.miktar\n",
    "Sipariş.sipariş_tar\n",
    "Sipariş.teslim_tar\n",
    "Sipariş.stok_adedi"
   ]
  },
  {
   "cell_type": "raw",
   "metadata": {},
   "source": [
    "Örneklenmesine gerek olmayan, yalnızca bir kez çalışacak sınıflarda, sınıf niteliklerine örnekler üzerinden değil de doğrudan sınıf adı üzerinden erişmek daha pratik olabilir. Ancak yukarıda olduğu gibi, tek bir sınıftan, ortak niteliklere sahip birden fazla üye oluşturmamız gereken durumlarda sınıfı bir örneğe atayıp, sınıf niteliklerine bu örnek üzerinden erişmek çok daha akıllıca olacaktır."
   ]
  },
  {
   "cell_type": "code",
   "execution_count": 32,
   "metadata": {},
   "outputs": [],
   "source": [
    "#Şimdi Sipariş() sınıfı özelinde bir örnekleme yapıp bu örnek üzerinde çalışalım:\n",
    "class Sipariş:\n",
    "    firma=\"\"\n",
    "    miktar=0\n",
    "    sipariş_tar=\"\"\n",
    "    teslim_tar=\"\"\n",
    "    stok_adedi=0 #sınıfımızı ve özelliklerini tanımladık\n",
    "\n",
    "kalem=Sipariş() #parantez kullanımına dikkat\n",
    "#kalem örneğimizi oluşturduk (Burada kalem siparişi vereceğimizi düşünelim ve özelliklerimizin değerlerini düzenleyelim)\n",
    "silgi=Sipariş() #Ek olarak silgi örneği de oluşturalım Ayrıca parantez kullanımına dikkat\n",
    "#vereceğimiz kalem siparişi için özelliklerimiz değer vererek sipariş bilgilerimizi oluşturalım\n",
    "kalem.firma=\"Öz Mektebim Kırtasiye Gereçleri Tic. Ltd. Şti.\" #hangi firmadan sipariş edileceğini belirttik.\n",
    "kalem.miktar=1500 #Sipariş miktarını da belirledik."
   ]
  },
  {
   "cell_type": "code",
   "execution_count": 33,
   "metadata": {},
   "outputs": [
    {
     "data": {
      "text/plain": [
       "'Öz Mektebim Kırtasiye Gereçleri Tic. Ltd. Şti.'"
      ]
     },
     "execution_count": 33,
     "metadata": {},
     "output_type": "execute_result"
    }
   ],
   "source": [
    "kalem.firma #kontrol edelim"
   ]
  },
  {
   "cell_type": "code",
   "execution_count": 34,
   "metadata": {},
   "outputs": [
    {
     "data": {
      "text/plain": [
       "1500"
      ]
     },
     "execution_count": 34,
     "metadata": {},
     "output_type": "execute_result"
    }
   ],
   "source": [
    "kalem.miktar"
   ]
  },
  {
   "cell_type": "code",
   "execution_count": 35,
   "metadata": {},
   "outputs": [
    {
     "data": {
      "text/plain": [
       "''"
      ]
     },
     "execution_count": 35,
     "metadata": {},
     "output_type": "execute_result"
    }
   ],
   "source": [
    "Sipariş.firma #gördüğümüz gibi burada örnek özelliğine eklediğimiz değer, sınıfımızı etkilemiyor."
   ]
  },
  {
   "cell_type": "code",
   "execution_count": 36,
   "metadata": {},
   "outputs": [],
   "source": [
    "# hatta kalem örneği için ek bir özellik daha tanımlayabiliriz, bu da sınıfımızı etkilemeyecektir.\n",
    "kalem.marka=\"Rotring\" # bir nitelik daha ekleyelim ve değer verelim"
   ]
  },
  {
   "cell_type": "code",
   "execution_count": 37,
   "metadata": {},
   "outputs": [
    {
     "data": {
      "text/plain": [
       "'Rotring'"
      ]
     },
     "execution_count": 37,
     "metadata": {},
     "output_type": "execute_result"
    }
   ],
   "source": [
    "kalem.marka"
   ]
  },
  {
   "cell_type": "code",
   "execution_count": 38,
   "metadata": {},
   "outputs": [
    {
     "ename": "AttributeError",
     "evalue": "type object 'Sipariş' has no attribute 'marka'",
     "output_type": "error",
     "traceback": [
      "\u001b[1;31m---------------------------------------------------------------------------\u001b[0m",
      "\u001b[1;31mAttributeError\u001b[0m                            Traceback (most recent call last)",
      "\u001b[1;32m<ipython-input-38-4923a506de95>\u001b[0m in \u001b[0;36m<module>\u001b[1;34m\u001b[0m\n\u001b[1;32m----> 1\u001b[1;33m \u001b[0mSipariş\u001b[0m\u001b[1;33m.\u001b[0m\u001b[0mmarka\u001b[0m \u001b[1;31m# görüleceği üzere Sipariş() sınıfına ait marka isminde bir attribute yok...\u001b[0m\u001b[1;33m\u001b[0m\u001b[1;33m\u001b[0m\u001b[0m\n\u001b[0m",
      "\u001b[1;31mAttributeError\u001b[0m: type object 'Sipariş' has no attribute 'marka'"
     ]
    }
   ],
   "source": [
    "Sipariş.marka # görüleceği üzere Sipariş() sınıfına ait marka isminde bir attribute yok..."
   ]
  },
  {
   "cell_type": "code",
   "execution_count": 2,
   "metadata": {},
   "outputs": [
    {
     "name": "stdout",
     "output_type": "stream",
     "text": [
      "[]\n",
      "\n",
      "0\n",
      "\n",
      "[]\n",
      "\n"
     ]
    }
   ],
   "source": [
    "#Başka bir örnek üzerinde çalışalım:\n",
    "class Çalışan():\n",
    "    kabiliyetleri = []\n",
    "    unvanı = ''\n",
    "    maaşı = 0\n",
    "    memleketi = ''\n",
    "    doğum_tarihi = ''\n",
    "\n",
    "#Yukarıdaki örneklerden biri olan Çalışan sınıfımızı yeniden tanımladık ve class attributes (sınıf nitelikleri) tanımladık\n",
    "#Birkaç tane örnek çıkaralım:\n",
    "ahmet=Çalışan #parantez kullanılmamasına dikkat\n",
    "mehmet=Çalışan #parantez kullanılmamasına dikkat\n",
    "ayşe=Çalışan #parantez kullanılmamasına dikkat\n",
    "#çıkardığımız örnekler üzerinden sınıf niteliklere erişelim\n",
    "print(ahmet.kabiliyetleri)\n",
    "print(ahmet.unvanı)\n",
    "\n",
    "print(mehmet.maaşı)\n",
    "print(mehmet.memleketi)\n",
    "\n",
    "print(ayşe.kabiliyetleri)\n",
    "print(ayşe.doğum_tarihi)"
   ]
  },
  {
   "cell_type": "code",
   "execution_count": 3,
   "metadata": {},
   "outputs": [],
   "source": [
    "#bu nitelikler üzerinde değişiklikler yapabiliyoruz:\n",
    "ahmet.unvanı=\"Şoför\""
   ]
  },
  {
   "cell_type": "code",
   "execution_count": 4,
   "metadata": {},
   "outputs": [
    {
     "data": {
      "text/plain": [
       "'Şoför'"
      ]
     },
     "execution_count": 4,
     "metadata": {},
     "output_type": "execute_result"
    }
   ],
   "source": [
    "ahmet.unvanı"
   ]
  },
  {
   "cell_type": "code",
   "execution_count": 5,
   "metadata": {},
   "outputs": [],
   "source": [
    "#kaabiliyetine bir değer ekleyelim\n",
    "ahmet.kabiliyetleri.append(\"prezentabl\")"
   ]
  },
  {
   "cell_type": "code",
   "execution_count": 6,
   "metadata": {},
   "outputs": [
    {
     "data": {
      "text/plain": [
       "['prezentabl']"
      ]
     },
     "execution_count": 6,
     "metadata": {},
     "output_type": "execute_result"
    }
   ],
   "source": [
    "#kontrol edelim\n",
    "ahmet.kabiliyetleri"
   ]
  },
  {
   "cell_type": "code",
   "execution_count": 7,
   "metadata": {},
   "outputs": [
    {
     "data": {
      "text/plain": [
       "'Şoför'"
      ]
     },
     "execution_count": 7,
     "metadata": {},
     "output_type": "execute_result"
    }
   ],
   "source": [
    "#başka bir örnek üzerinde kontrol edelim\n",
    "ayşe.unvanı"
   ]
  },
  {
   "cell_type": "code",
   "execution_count": 8,
   "metadata": {},
   "outputs": [
    {
     "data": {
      "text/plain": [
       "['prezentabl']"
      ]
     },
     "execution_count": 8,
     "metadata": {},
     "output_type": "execute_result"
    }
   ],
   "source": [
    "mehmet.kabiliyetleri"
   ]
  },
  {
   "cell_type": "code",
   "execution_count": 9,
   "metadata": {},
   "outputs": [
    {
     "data": {
      "text/plain": [
       "'Şoför'"
      ]
     },
     "execution_count": 9,
     "metadata": {},
     "output_type": "execute_result"
    }
   ],
   "source": [
    "#burada görüldüğü üzere ahmet örneği için yaptığımız düzenlemeler diğer üyelere ve sınıfa da eklenmiş\n",
    "#Bu bizim istediğimiz bir durum değil.\n",
    "Çalışan.unvanı"
   ]
  },
  {
   "cell_type": "raw",
   "metadata": {},
   "source": [
    "Aslında zaten yukarıda yaptığımız şu parantezsiz işlemler birer örnek çıkarma işlemi bile değil.\n",
    "ahmet=Çalışan \n",
    "mehmet=Çalışan \n",
    "ayşe=Çalışan"
   ]
  },
  {
   "cell_type": "markdown",
   "metadata": {},
   "source": [
    "Burada yapılan, Çalışan sınıfını farklı isimlerde değişkenlere atamak. Hepsi aynı objeyi, yani Çalışan sınıfını temsil ediyor. Birer örneği değil. Bu nedenle örnek çıkarma işleminde parantez kullanılmalıdır."
   ]
  },
  {
   "cell_type": "markdown",
   "metadata": {},
   "source": [
    "Şimdi aynı işlemleri parantez kullanarak yapalım:"
   ]
  },
  {
   "cell_type": "code",
   "execution_count": 11,
   "metadata": {},
   "outputs": [
    {
     "name": "stdout",
     "output_type": "stream",
     "text": [
      "[]\n",
      "0\n"
     ]
    }
   ],
   "source": [
    "class Çalışan():\n",
    "    kabiliyetleri = []\n",
    "    unvanı = ''\n",
    "    maaşı = 0\n",
    "    memleketi = ''\n",
    "    doğum_tarihi = ''\n",
    "    \n",
    "ahmet=Çalışan()\n",
    "mehmet=Çalışan()\n",
    "ayşe=Çalışan()\n",
    "print(ayşe.kabiliyetleri)\n",
    "print(ayşe.maaşı)"
   ]
  },
  {
   "cell_type": "code",
   "execution_count": 15,
   "metadata": {},
   "outputs": [
    {
     "name": "stdout",
     "output_type": "stream",
     "text": [
      "2500\n",
      "34\n",
      "['hırslı']\n"
     ]
    }
   ],
   "source": [
    "#şimdi ayşenin maaşını değiştirelim ve yaş adlı yeni bir nitelik ayrıca bir de kaabiliyet ekleyelim ve kontrol edelim.\n",
    "ayşe.maaşı=2500\n",
    "ayşe.yaş=34\n",
    "ayşe.kabiliyetleri.append(\"hırslı\")\n",
    "print(ayşe.maaşı)\n",
    "print(ayşe.yaş)\n",
    "print(ayşe.kabiliyetleri)"
   ]
  },
  {
   "cell_type": "code",
   "execution_count": 17,
   "metadata": {},
   "outputs": [
    {
     "name": "stdout",
     "output_type": "stream",
     "text": [
      "0\n",
      "0\n"
     ]
    },
    {
     "ename": "AttributeError",
     "evalue": "'Çalışan' object has no attribute 'yaş'",
     "output_type": "error",
     "traceback": [
      "\u001b[1;31m---------------------------------------------------------------------------\u001b[0m",
      "\u001b[1;31mAttributeError\u001b[0m                            Traceback (most recent call last)",
      "\u001b[1;32m<ipython-input-17-2ab300fac943>\u001b[0m in \u001b[0;36m<module>\u001b[1;34m\u001b[0m\n\u001b[0;32m      2\u001b[0m \u001b[0mprint\u001b[0m\u001b[1;33m(\u001b[0m\u001b[0mahmet\u001b[0m\u001b[1;33m.\u001b[0m\u001b[0mmaaşı\u001b[0m\u001b[1;33m)\u001b[0m\u001b[1;33m\u001b[0m\u001b[1;33m\u001b[0m\u001b[0m\n\u001b[0;32m      3\u001b[0m \u001b[0mprint\u001b[0m\u001b[1;33m(\u001b[0m\u001b[0mÇalışan\u001b[0m\u001b[1;33m.\u001b[0m\u001b[0mmaaşı\u001b[0m\u001b[1;33m)\u001b[0m\u001b[1;33m\u001b[0m\u001b[1;33m\u001b[0m\u001b[0m\n\u001b[1;32m----> 4\u001b[1;33m \u001b[0mprint\u001b[0m\u001b[1;33m(\u001b[0m\u001b[0mmehmet\u001b[0m\u001b[1;33m.\u001b[0m\u001b[0myaş\u001b[0m\u001b[1;33m)\u001b[0m\u001b[1;33m\u001b[0m\u001b[1;33m\u001b[0m\u001b[0m\n\u001b[0m",
      "\u001b[1;31mAttributeError\u001b[0m: 'Çalışan' object has no attribute 'yaş'"
     ]
    }
   ],
   "source": [
    "#Şimdi de diğer örnekleri veya Sınıfı etkilemiş mi bakalım?\n",
    "print(ahmet.maaşı)\n",
    "print(Çalışan.maaşı)\n",
    "print(mehmet.yaş)"
   ]
  },
  {
   "cell_type": "markdown",
   "metadata": {},
   "source": [
    "Görüldüğü gibi örnek üzerinde yaptığımız nitelik ekleme, niteliklerde değişiklik yapma gibi durumlar diğer örnekleri ve sınıfı etkilemedi.\n",
    "Ancak bir de kabiliyetleri niteliğine bakalım:"
   ]
  },
  {
   "cell_type": "code",
   "execution_count": 18,
   "metadata": {},
   "outputs": [
    {
     "name": "stdout",
     "output_type": "stream",
     "text": [
      "['hırslı']\n",
      "['hırslı']\n",
      "['hırslı']\n"
     ]
    }
   ],
   "source": [
    "print(ahmet.kabiliyetleri)\n",
    "print(mehmet.kabiliyetleri)\n",
    "print(Çalışan.kabiliyetleri)"
   ]
  },
  {
   "cell_type": "markdown",
   "metadata": {},
   "source": [
    "Peki neden böyle oldu? Neden diğer niteliklerde yaptığımız değişiklikler, hatta yeni nitelik eklememiz bile diğer örnekleri ve sınıfı etkilememişti. Çünkü aslında bunun sebebi şu diğer değişkenler immutable değişkenler ve biz onlar üzerinde değişiklik yaparken onları değiştirmiyoruz, yerine yenisini o örnek için koyuyoruz. Ancak kabiliyetler ise bir liste formunda olduğu için oraya eklediğimiz her bir değer bütün sınıf üyelerini etkiliyor. \n",
    "Böyle durumlar bizim ihtiyacımıza uygun değilse, örnek niteliklerini kullanmamız gerekiyor."
   ]
  },
  {
   "cell_type": "markdown",
   "metadata": {},
   "source": [
    "## örnek nitelikleri"
   ]
  },
  {
   "cell_type": "markdown",
   "metadata": {},
   "source": [
    "Eklediğimiz değerlerin veya özelliklerin tüm sınıfı ve sınıf örneklerini değiştirmesini istemiyorsak, sınıf özelliklerini değil örnek özelliklerini kullanmamız gerekecektir. Şimdiye kadar class attributes üzerinde işlem yaptık ancak instance attributes üzerinde işlem yapmamız gereken durumlar daha sık karşılaşılan durumlardır."
   ]
  },
  {
   "cell_type": "markdown",
   "metadata": {},
   "source": [
    "### \\__init__ fonksiyonu ve self"
   ]
  },
  {
   "cell_type": "code",
   "execution_count": 50,
   "metadata": {},
   "outputs": [],
   "source": [
    "#şimdiye tanımladığımız özellikler sınıf özellikleriydi ve şu şekilde tanımlıyorduk:\n",
    "class Sınıf():\n",
    "    sınıf_niteliği1 = 0\n",
    "    sınıf_niteliği2 = 1"
   ]
  },
  {
   "cell_type": "code",
   "execution_count": 51,
   "metadata": {},
   "outputs": [],
   "source": [
    "#örnek niteliklerini ise şu şekilde tanımlıyoruz:\n",
    "class Çalışan():\n",
    "    def __init__(self):\n",
    "        self.kabiliyetleri = []\n",
    "        self.unvanı=\"\"\n",
    "        self.yaşı=\"\""
   ]
  },
  {
   "cell_type": "raw",
   "metadata": {},
   "source": [
    "Burada kullandığımız __init__ ifadesi aslında bir fonksiyondur ve diğer fonksiyonlardan tek farkı class tanımlamalarında özel bir yerinin olmasıdır.\n",
    "Bu fonksiyonun görevi ise bir class tan bir instance oluşturduğumuz anda kendi altında tanımladığımız attribute ları oluşturulan instance için anlık olarak oluşturmaktır.\n",
    "self kelimesi ise, oluşturacağımız örneğe (instance) vereceğimiz adı(değişken) temsil eder. Ayrıca __init__ fonksiyonunun ilk parametresi her zaman self olmak zodundadır.\n",
    "Aşağıda ne demek istediğimizi tekrar anlatalım:"
   ]
  },
  {
   "cell_type": "code",
   "execution_count": 52,
   "metadata": {},
   "outputs": [],
   "source": [
    "class Çalışan(): #Çalışan isminde bir class tanımla\n",
    "    def __init__(self): #Çalışan classı örneklendiği zaman aşağıdakileri yap:\n",
    "        self.kabiliyetleri = [] #örneğe(adı belli olmadığı için self) kabiliyetleri özelliğini ekle."
   ]
  },
  {
   "cell_type": "code",
   "execution_count": 41,
   "metadata": {},
   "outputs": [
    {
     "name": "stdout",
     "output_type": "stream",
     "text": [
      "merhaba\n"
     ]
    }
   ],
   "source": [
    "class Çalışan():\n",
    "    selam = 'merhaba'\n",
    "    print(selam)\n",
    "#Bu classı tanımladığımız anda ekrana merhaba yazısı çıkacak,\n",
    "#çünkü class ların tanımlandıkları andan itibaren çalıştıklarını biliyoruz"
   ]
  },
  {
   "cell_type": "code",
   "execution_count": 20,
   "metadata": {},
   "outputs": [],
   "source": [
    "class Çalışan():\n",
    "    def __init__(self):\n",
    "        self.kabiliyetleri = []\n",
    "        print(self.kabiliyetleri)\n",
    "#Ama bu kodu çalıştırdığımızda ekrana bir çıktı almayız,\n",
    "#Bu kodun çalışması için instantiation(örnekleme) yapmamız gereklidir.\n",
    "#Çünkü self.kabiliyetleri bir sınıf niteliği değil bir örnek niteliğidir ve ancak örnekleme yapılırsa oluşur."
   ]
  },
  {
   "cell_type": "markdown",
   "metadata": {},
   "source": [
    "##### Burada önemli bir detay var dikkat:"
   ]
  },
  {
   "cell_type": "raw",
   "metadata": {},
   "source": [
    "ahmet=Çalışan\n",
    "Bu yaptığımız bir örneklem değildir. Çalışan sınıfını bir değişkene atamış oluyoruz aynen şunun gibi:\n",
    "\n",
    "sayılar=[1,2,3,4,5]\n",
    "a=sayılar\n",
    "Örneklem yapmak için parantez kullanmamız gerekir:\n",
    "\n",
    "Çalışan()\n",
    "Burada bir örneklem yapmış oluyoruz ama örneklemi bir değişkene atamadığımız için bir örnek çıkarmış olmuyoruz.\n",
    "\n",
    "ahmet=Çalışan()\n",
    "Burada ise bir örneklem yapıp ahmet adlı örneğini çıkarmış oluyoruz."
   ]
  },
  {
   "cell_type": "code",
   "execution_count": 43,
   "metadata": {},
   "outputs": [
    {
     "data": {
      "text/plain": [
       "__main__.Çalışan"
      ]
     },
     "execution_count": 43,
     "metadata": {},
     "output_type": "execute_result"
    }
   ],
   "source": [
    "Çalışan"
   ]
  },
  {
   "cell_type": "raw",
   "metadata": {},
   "source": [
    "Ayrıca örnek attribute(özellik/nitelik) larını class ile doğrudan kullanamayız,"
   ]
  },
  {
   "cell_type": "code",
   "execution_count": 58,
   "metadata": {},
   "outputs": [
    {
     "ename": "AttributeError",
     "evalue": "type object 'Çalışan' has no attribute 'kabiliyetleri'",
     "output_type": "error",
     "traceback": [
      "\u001b[1;31m---------------------------------------------------------------------------\u001b[0m",
      "\u001b[1;31mAttributeError\u001b[0m                            Traceback (most recent call last)",
      "\u001b[1;32m<ipython-input-58-ca4442510f14>\u001b[0m in \u001b[0;36m<module>\u001b[1;34m\u001b[0m\n\u001b[1;32m----> 1\u001b[1;33m \u001b[0mÇalışan\u001b[0m\u001b[1;33m.\u001b[0m\u001b[0mkabiliyetleri\u001b[0m\u001b[1;33m\u001b[0m\u001b[1;33m\u001b[0m\u001b[0m\n\u001b[0m",
      "\u001b[1;31mAttributeError\u001b[0m: type object 'Çalışan' has no attribute 'kabiliyetleri'"
     ]
    }
   ],
   "source": [
    "Çalışan.kabiliyetleri"
   ]
  },
  {
   "cell_type": "code",
   "execution_count": 21,
   "metadata": {},
   "outputs": [
    {
     "name": "stdout",
     "output_type": "stream",
     "text": [
      "[]\n"
     ]
    },
    {
     "data": {
      "text/plain": [
       "[]"
      ]
     },
     "execution_count": 21,
     "metadata": {},
     "output_type": "execute_result"
    }
   ],
   "source": [
    "Çalışan().kabiliyetleri #ancak parantez kullanarak... (Çünkü bir değişkene atamasak da bu da bir örneklemdir.)"
   ]
  },
  {
   "cell_type": "code",
   "execution_count": 77,
   "metadata": {},
   "outputs": [],
   "source": [
    "ahmet=Çalışan() #örneklem yaptık, örneğini çıkardık"
   ]
  },
  {
   "cell_type": "raw",
   "metadata": {},
   "source": [
    "Çalışan sınıfının bir örneğini çıkardık ve buna ahmet adını verdik. İşte tam bu anda __init__() fonksiyonu çalışmaya başladı ve ahmet örneği için, kabiliyetleri adlı boş bir örnek niteliği oluşturdu.\n",
    "Çalışan sınıfını oluştururken kullandığımız self kelimesi bildiğimiz gibi örnekleri temsil ediyor. Yani bu örneğimizde ahmet kelimesini temsil ediyor."
   ]
  },
  {
   "cell_type": "code",
   "execution_count": 83,
   "metadata": {},
   "outputs": [
    {
     "name": "stdout",
     "output_type": "stream",
     "text": [
      "[]\n"
     ]
    }
   ],
   "source": [
    "print(ahmet.kabiliyetleri) #self kelimesi burada ahmet kelimesini temsil ediyor"
   ]
  },
  {
   "cell_type": "code",
   "execution_count": 85,
   "metadata": {},
   "outputs": [
    {
     "ename": "TypeError",
     "evalue": "__init__() takes 0 positional arguments but 1 was given",
     "output_type": "error",
     "traceback": [
      "\u001b[1;31m---------------------------------------------------------------------------\u001b[0m",
      "\u001b[1;31mTypeError\u001b[0m                                 Traceback (most recent call last)",
      "\u001b[1;32m<ipython-input-85-f0bcc535a775>\u001b[0m in \u001b[0;36m<module>\u001b[1;34m\u001b[0m\n\u001b[0;32m      2\u001b[0m     \u001b[1;32mdef\u001b[0m \u001b[0m__init__\u001b[0m\u001b[1;33m(\u001b[0m\u001b[1;33m)\u001b[0m\u001b[1;33m:\u001b[0m \u001b[1;31m#self kullanmamış olsaydık\u001b[0m\u001b[1;33m\u001b[0m\u001b[1;33m\u001b[0m\u001b[0m\n\u001b[0;32m      3\u001b[0m         \u001b[0mkabiliyetleri\u001b[0m \u001b[1;33m=\u001b[0m \u001b[1;33m[\u001b[0m\u001b[1;33m]\u001b[0m \u001b[1;31m#burada da self kullanmamış olsaydık\u001b[0m\u001b[1;33m\u001b[0m\u001b[1;33m\u001b[0m\u001b[0m\n\u001b[1;32m----> 4\u001b[1;33m \u001b[0mahmet\u001b[0m \u001b[1;33m=\u001b[0m \u001b[0mÇalışan\u001b[0m\u001b[1;33m(\u001b[0m\u001b[1;33m)\u001b[0m\u001b[1;33m\u001b[0m\u001b[1;33m\u001b[0m\u001b[0m\n\u001b[0m\u001b[0;32m      5\u001b[0m \u001b[0mprint\u001b[0m\u001b[1;33m(\u001b[0m\u001b[0mahmet\u001b[0m\u001b[1;33m.\u001b[0m\u001b[0mkabiliyetleri\u001b[0m\u001b[1;33m)\u001b[0m \u001b[1;31m#bu şekilde bir kullanım yapamazdık\u001b[0m\u001b[1;33m\u001b[0m\u001b[1;33m\u001b[0m\u001b[0m\n",
      "\u001b[1;31mTypeError\u001b[0m: __init__() takes 0 positional arguments but 1 was given"
     ]
    }
   ],
   "source": [
    "class Çalışan():\n",
    "    def __init__(): #self kullanmamış olsaydık\n",
    "        kabiliyetleri = [] #burada da self kullanmamış olsaydık\n",
    "ahmet = Çalışan()\n",
    "print(ahmet.kabiliyetleri) #bu şekilde bir kullanım yapamazdık"
   ]
  },
  {
   "cell_type": "code",
   "execution_count": 89,
   "metadata": {},
   "outputs": [
    {
     "ename": "AttributeError",
     "evalue": "'Çalışan' object has no attribute 'kabiliyetleri'",
     "output_type": "error",
     "traceback": [
      "\u001b[1;31m---------------------------------------------------------------------------\u001b[0m",
      "\u001b[1;31mAttributeError\u001b[0m                            Traceback (most recent call last)",
      "\u001b[1;32m<ipython-input-89-c9d1c1e18443>\u001b[0m in \u001b[0;36m<module>\u001b[1;34m\u001b[0m\n\u001b[0;32m      4\u001b[0m \u001b[1;33m\u001b[0m\u001b[0m\n\u001b[0;32m      5\u001b[0m \u001b[0mahmet\u001b[0m \u001b[1;33m=\u001b[0m \u001b[0mÇalışan\u001b[0m\u001b[1;33m(\u001b[0m\u001b[1;33m)\u001b[0m\u001b[1;33m\u001b[0m\u001b[1;33m\u001b[0m\u001b[0m\n\u001b[1;32m----> 6\u001b[1;33m \u001b[0mprint\u001b[0m\u001b[1;33m(\u001b[0m\u001b[0mahmet\u001b[0m\u001b[1;33m.\u001b[0m\u001b[0mkabiliyetleri\u001b[0m\u001b[1;33m)\u001b[0m \u001b[1;31m#yine işe yaramaz\u001b[0m\u001b[1;33m\u001b[0m\u001b[1;33m\u001b[0m\u001b[0m\n\u001b[0m",
      "\u001b[1;31mAttributeError\u001b[0m: 'Çalışan' object has no attribute 'kabiliyetleri'"
     ]
    }
   ],
   "source": [
    "class Çalışan():\n",
    "    def __init__(self): #burada self kullanıp\n",
    "        kabiliyetleri = [] #burada self kullanmasaydık\n",
    "\n",
    "ahmet = Çalışan()\n",
    "print(ahmet.kabiliyetleri) #yine işe yaramaz"
   ]
  },
  {
   "cell_type": "code",
   "execution_count": 90,
   "metadata": {},
   "outputs": [],
   "source": [
    "class Çalışan():\n",
    "    personel = ['personel'] #sınıf özelliği\n",
    "\n",
    "    def __init__(self):\n",
    "        kabiliyetleri = [] #eksik tanımlanmış örnek niteliği, self yok\n",
    "mehmet=Çalışan()"
   ]
  },
  {
   "cell_type": "code",
   "execution_count": 93,
   "metadata": {},
   "outputs": [
    {
     "data": {
      "text/plain": [
       "['personel']"
      ]
     },
     "execution_count": 93,
     "metadata": {},
     "output_type": "execute_result"
    }
   ],
   "source": [
    "mehmet.personel #örnek üzerinden sınıf niteliğine ulaşılabiliyor"
   ]
  },
  {
   "cell_type": "code",
   "execution_count": 94,
   "metadata": {},
   "outputs": [
    {
     "ename": "AttributeError",
     "evalue": "'Çalışan' object has no attribute 'kabiliyetleri'",
     "output_type": "error",
     "traceback": [
      "\u001b[1;31m---------------------------------------------------------------------------\u001b[0m",
      "\u001b[1;31mAttributeError\u001b[0m                            Traceback (most recent call last)",
      "\u001b[1;32m<ipython-input-94-046c8a10d7a4>\u001b[0m in \u001b[0;36m<module>\u001b[1;34m\u001b[0m\n\u001b[1;32m----> 1\u001b[1;33m \u001b[0mmehmet\u001b[0m\u001b[1;33m.\u001b[0m\u001b[0mkabiliyetleri\u001b[0m \u001b[1;31m#ancak örnek niteliğinde self kullanmadığımız için ulaşamayız\u001b[0m\u001b[1;33m\u001b[0m\u001b[1;33m\u001b[0m\u001b[0m\n\u001b[0m",
      "\u001b[1;31mAttributeError\u001b[0m: 'Çalışan' object has no attribute 'kabiliyetleri'"
     ]
    }
   ],
   "source": [
    "mehmet.kabiliyetleri #ancak örnek niteliğinde self kullanmadığımız için ulaşamayız"
   ]
  },
  {
   "cell_type": "code",
   "execution_count": 95,
   "metadata": {},
   "outputs": [],
   "source": [
    "# Çalışma mekanizması-1\n",
    "class Çalışan():\n",
    "    kabiliyetleri = ['sınıf niteliği']\n",
    "\n",
    "    def __init__(self):\n",
    "        self.kabiliyetleri = ['örnek niteliği']\n",
    "hasan=Çalışan()"
   ]
  },
  {
   "cell_type": "code",
   "execution_count": 96,
   "metadata": {},
   "outputs": [
    {
     "data": {
      "text/plain": [
       "['örnek niteliği']"
      ]
     },
     "execution_count": 96,
     "metadata": {},
     "output_type": "execute_result"
    }
   ],
   "source": [
    "hasan.kabiliyetleri #python burada ilk önce __init__() fonksiyonu arar, varsa onun altında örnek nitelikleri içinde arar"
   ]
  },
  {
   "cell_type": "code",
   "execution_count": 97,
   "metadata": {},
   "outputs": [],
   "source": [
    "# Çalışma mekanizması-2\n",
    "class Çalışan():\n",
    "    kabiliyetleri = ['sınıf niteliği']\n",
    "\n",
    "    def __init__(self):\n",
    "        kabiliyetleri = ['örnek niteliği']\n",
    "hasan=Çalışan()"
   ]
  },
  {
   "cell_type": "code",
   "execution_count": 98,
   "metadata": {},
   "outputs": [
    {
     "data": {
      "text/plain": [
       "['sınıf niteliği']"
      ]
     },
     "execution_count": 98,
     "metadata": {},
     "output_type": "execute_result"
    }
   ],
   "source": [
    "hasan.kabiliyetleri #eğer __init__() içinde yoksa sınıf özelliklerinde arar"
   ]
  },
  {
   "cell_type": "code",
   "execution_count": 45,
   "metadata": {},
   "outputs": [
    {
     "name": "stdout",
     "output_type": "stream",
     "text": [
      "['sınıf niteliği']\n",
      "['örnek niteliği']\n",
      "['örnek niteliği']\n"
     ]
    }
   ],
   "source": [
    "class Çalışan():\n",
    "    kabiliyetleri = ['sınıf niteliği']\n",
    "\n",
    "    def __init__(self):\n",
    "        self.kabiliyetleri = ['örnek niteliği']\n",
    "\n",
    "#sınıf niteliğine erişmek için\n",
    "#sınıf adını kullanıyoruz\n",
    "print(Çalışan.kabiliyetleri)\n",
    "\n",
    "#örnek niteliğine erişmek için\n",
    "#örnek adını kullanıyoruz\n",
    "ahmet = Çalışan()\n",
    "print(ahmet.kabiliyetleri)\n",
    "print(Çalışan().kabiliyetleri) #bu da bir örneklemdir."
   ]
  },
  {
   "cell_type": "code",
   "execution_count": 102,
   "metadata": {},
   "outputs": [
    {
     "ename": "NameError",
     "evalue": "name 'self' is not defined",
     "output_type": "error",
     "traceback": [
      "\u001b[1;31m---------------------------------------------------------------------------\u001b[0m",
      "\u001b[1;31mNameError\u001b[0m                                 Traceback (most recent call last)",
      "\u001b[1;32m<ipython-input-102-5e17352707e5>\u001b[0m in \u001b[0;36m<module>\u001b[1;34m\u001b[0m\n\u001b[1;32m----> 1\u001b[1;33m \u001b[1;32mclass\u001b[0m \u001b[0mÇalışan\u001b[0m\u001b[1;33m(\u001b[0m\u001b[1;33m)\u001b[0m\u001b[1;33m:\u001b[0m\u001b[1;33m\u001b[0m\u001b[1;33m\u001b[0m\u001b[0m\n\u001b[0m\u001b[0;32m      2\u001b[0m     \u001b[0mself\u001b[0m\u001b[1;33m.\u001b[0m\u001b[0munvan\u001b[0m \u001b[1;33m=\u001b[0m \u001b[1;34m\"\"\u001b[0m \u001b[1;31m# Bu şekilde, yani fonksiyon dışında örnek niteliği tanımlanamaz\u001b[0m\u001b[1;33m\u001b[0m\u001b[1;33m\u001b[0m\u001b[0m\n\u001b[0;32m      3\u001b[0m \u001b[1;33m\u001b[0m\u001b[0m\n\u001b[0;32m      4\u001b[0m     \u001b[1;32mdef\u001b[0m \u001b[0m__init__\u001b[0m\u001b[1;33m(\u001b[0m\u001b[0mself\u001b[0m\u001b[1;33m)\u001b[0m\u001b[1;33m:\u001b[0m\u001b[1;33m\u001b[0m\u001b[1;33m\u001b[0m\u001b[0m\n\u001b[0;32m      5\u001b[0m         \u001b[0mself\u001b[0m\u001b[1;33m.\u001b[0m\u001b[0mkabiliyetleri\u001b[0m \u001b[1;33m=\u001b[0m \u001b[1;33m[\u001b[0m\u001b[1;33m]\u001b[0m\u001b[1;33m\u001b[0m\u001b[1;33m\u001b[0m\u001b[0m\n",
      "\u001b[1;32m<ipython-input-102-5e17352707e5>\u001b[0m in \u001b[0;36mÇalışan\u001b[1;34m()\u001b[0m\n\u001b[0;32m      1\u001b[0m \u001b[1;32mclass\u001b[0m \u001b[0mÇalışan\u001b[0m\u001b[1;33m(\u001b[0m\u001b[1;33m)\u001b[0m\u001b[1;33m:\u001b[0m\u001b[1;33m\u001b[0m\u001b[1;33m\u001b[0m\u001b[0m\n\u001b[1;32m----> 2\u001b[1;33m     \u001b[0mself\u001b[0m\u001b[1;33m.\u001b[0m\u001b[0munvan\u001b[0m \u001b[1;33m=\u001b[0m \u001b[1;34m\"\"\u001b[0m \u001b[1;31m# Bu şekilde, yani fonksiyon dışında örnek niteliği tanımlanamaz\u001b[0m\u001b[1;33m\u001b[0m\u001b[1;33m\u001b[0m\u001b[0m\n\u001b[0m\u001b[0;32m      3\u001b[0m \u001b[1;33m\u001b[0m\u001b[0m\n\u001b[0;32m      4\u001b[0m     \u001b[1;32mdef\u001b[0m \u001b[0m__init__\u001b[0m\u001b[1;33m(\u001b[0m\u001b[0mself\u001b[0m\u001b[1;33m)\u001b[0m\u001b[1;33m:\u001b[0m\u001b[1;33m\u001b[0m\u001b[1;33m\u001b[0m\u001b[0m\n\u001b[0;32m      5\u001b[0m         \u001b[0mself\u001b[0m\u001b[1;33m.\u001b[0m\u001b[0mkabiliyetleri\u001b[0m \u001b[1;33m=\u001b[0m \u001b[1;33m[\u001b[0m\u001b[1;33m]\u001b[0m\u001b[1;33m\u001b[0m\u001b[1;33m\u001b[0m\u001b[0m\n",
      "\u001b[1;31mNameError\u001b[0m: name 'self' is not defined"
     ]
    }
   ],
   "source": [
    "class Çalışan():\n",
    "    self.unvan = \"\" # Bu şekilde, yani fonksiyon dışında örnek niteliği tanımlanamaz\n",
    "\n",
    "    def __init__(self):\n",
    "        self.kabiliyetleri = []\n",
    "#self kelimesi, bir fonksiyonun içinde ve ilk sırada olduğu zaman anlam kazanır"
   ]
  },
  {
   "cell_type": "markdown",
   "metadata": {},
   "source": [
    "#### self kelimesi illa self olmak zorunda değildir. Bunun yerine istediğimiz başka bir kelime kullanabiliriz. Ama mantık aynıdır, fonksiyon içinde ilk sırada yer almalı ve özelliklerin başına eklenmelidir."
   ]
  },
  {
   "cell_type": "code",
   "execution_count": 115,
   "metadata": {},
   "outputs": [],
   "source": [
    "class Çalışan():\n",
    "    def __init__(ornek):\n",
    "        ornek.kabiliyetleri = []\n",
    "        ornek.unvanı=\"\"\n",
    "        ornek.yaşı=\"25\"\n",
    "# şeklinde bir kullanım da doğrudur, ancak self şeklinde yerleşmiş, kalıplaşmıştır\n",
    "fatma=Çalışan()"
   ]
  },
  {
   "cell_type": "code",
   "execution_count": 116,
   "metadata": {},
   "outputs": [
    {
     "name": "stdout",
     "output_type": "stream",
     "text": [
      "25\n"
     ]
    }
   ],
   "source": [
    "print(fatma.yaşı)"
   ]
  },
  {
   "cell_type": "markdown",
   "metadata": {},
   "source": [
    "## Örnek Metodları"
   ]
  },
  {
   "cell_type": "markdown",
   "metadata": {},
   "source": [
    "#### https://python-istihza.yazbel.com/nesne_tabanli_programlama2.html"
   ]
  },
  {
   "cell_type": "markdown",
   "metadata": {},
   "source": [
    "Örnek metodları aslında sınıf örnekleri için tanımladığımız birer fonksiyonlardır. Örnek Metodlarını (instance methods) aşağıdaki örnek üzerinden inceleyelim."
   ]
  },
  {
   "cell_type": "code",
   "execution_count": 8,
   "metadata": {},
   "outputs": [],
   "source": [
    "class Çalışan():\n",
    "    personel = []\n",
    "\n",
    "    def __init__(self, isim):\n",
    "        self.adı = isim\n",
    "        self.kabiliyetleri = []\n",
    "        self.personele_ekle()\n",
    "\n",
    "    def personele_ekle(self):\n",
    "        self.personel.append(self.adı)\n",
    "        print('{} adlı kişi personele eklendi'.format(self.adı))\n",
    "\n",
    "    def personeli_görüntüle(self):\n",
    "        print('Personel listesi:')\n",
    "        for kişi in self.personel:\n",
    "            print(kişi)\n",
    "\n",
    "    def kabiliyet_ekle(self, kabiliyet):\n",
    "        self.kabiliyetleri.append(kabiliyet)\n",
    "\n",
    "    def kabiliyetleri_görüntüle(self):\n",
    "        print('{} adlı kişinin kabiliyetleri:'.format(self.adı))\n",
    "        for kabiliyet in self.kabiliyetleri:\n",
    "            print(kabiliyet)"
   ]
  },
  {
   "cell_type": "raw",
   "metadata": {},
   "source": [
    "Burada görüldüğü gibi, Bir Çalışan sınıfı tanımladık, hemen altında liste tipinde bir sınıf özelliği (class attribute) tanımlayıp, __init__ fonksiyonu ile örnek (instance) niteliklerini(=özelliklerini=attributes) tanımladık."
   ]
  },
  {
   "cell_type": "code",
   "execution_count": 9,
   "metadata": {},
   "outputs": [
    {
     "name": "stdout",
     "output_type": "stream",
     "text": [
      "ahmet adlı kişi personele eklendi\n",
      "mehmet adlı kişi personele eklendi\n"
     ]
    }
   ],
   "source": [
    "#Şimdi iki adet instance çıkaralım:\n",
    "ç1=Çalışan(\"ahmet\")\n",
    "ç2=Çalışan(\"mehmet\")\n",
    "#Çalışan() adlı sınıfı sırasıyla ‘Ahmet’ ve ‘Mehmet’ parametreleri ile çağırarak ç1 ve ç2 adlı\n",
    "#iki farklı sınıf örneği oluşturmuş olduk."
   ]
  },
  {
   "cell_type": "markdown",
   "metadata": {},
   "source": [
    "Bu arada instantiation anında görüyoruz ki __init__ fonksiyonu devreye giriyor, bunu nasıl anlıyoruz? Ekrana gelen personel eklendi mesajı,  personele_ekle() fonksiyonu içinde çalışan bu mesajın __init__ içinden self.personele_ekle() şeklinde çağırıldığını görebiliyoruz."
   ]
  },
  {
   "cell_type": "code",
   "execution_count": 40,
   "metadata": {},
   "outputs": [
    {
     "data": {
      "text/plain": [
       "'ahmet'"
      ]
     },
     "execution_count": 40,
     "metadata": {},
     "output_type": "execute_result"
    }
   ],
   "source": [
    "#tanımladığımız sınıf niteliklerine örnekler üzerinden erişelim:\n",
    "ç1.adı"
   ]
  },
  {
   "cell_type": "code",
   "execution_count": 41,
   "metadata": {},
   "outputs": [
    {
     "data": {
      "text/plain": [
       "'mehmet'"
      ]
     },
     "execution_count": 41,
     "metadata": {},
     "output_type": "execute_result"
    }
   ],
   "source": [
    "ç2.adı"
   ]
  },
  {
   "cell_type": "code",
   "execution_count": 42,
   "metadata": {},
   "outputs": [],
   "source": [
    "#örnekler üzerinden bu niteliklerde değişiklik yapalım:\n",
    "ç1.adı=\"mahmut\" # init içindeki isim niteliği\n",
    "ç1.personel[0]=\"mahmut\" # class içindeki personel listesi niteliği"
   ]
  },
  {
   "cell_type": "code",
   "execution_count": 43,
   "metadata": {},
   "outputs": [
    {
     "data": {
      "text/plain": [
       "'mahmut'"
      ]
     },
     "execution_count": 43,
     "metadata": {},
     "output_type": "execute_result"
    }
   ],
   "source": [
    "ç1.adı"
   ]
  },
  {
   "cell_type": "code",
   "execution_count": 44,
   "metadata": {},
   "outputs": [
    {
     "data": {
      "text/plain": [
       "['mahmut', 'mehmet']"
      ]
     },
     "execution_count": 44,
     "metadata": {},
     "output_type": "execute_result"
    }
   ],
   "source": [
    "ç1.personel"
   ]
  },
  {
   "cell_type": "code",
   "execution_count": 45,
   "metadata": {},
   "outputs": [],
   "source": [
    "#tanımladığımız sınıf içindeki fonksiyonları kullanarak attribute değerlerini değiştirelim/ekleyelim:\n",
    "ç1.kabiliyetleri.append(\"girişken\")\n",
    "ç1.kabiliyetleri.append(\"konuşkan\")\n",
    "ç2.kabiliyetleri.append(\"ingilizce biliyor\")"
   ]
  },
  {
   "cell_type": "code",
   "execution_count": 46,
   "metadata": {},
   "outputs": [
    {
     "name": "stdout",
     "output_type": "stream",
     "text": [
      "['girişken', 'konuşkan']\n",
      "['ingilizce biliyor']\n"
     ]
    }
   ],
   "source": [
    "print(ç1.kabiliyetleri)\n",
    "print(ç2.kabiliyetleri)"
   ]
  },
  {
   "cell_type": "code",
   "execution_count": 47,
   "metadata": {},
   "outputs": [
    {
     "name": "stdout",
     "output_type": "stream",
     "text": [
      "Personel listesi:\n",
      "mahmut\n",
      "mehmet\n"
     ]
    }
   ],
   "source": [
    "#biliyoruz ki örneklerimiz özerinden sınıf özelliklerine de ulaşabiliriz.\n",
    "ç1.personeli_görüntüle()"
   ]
  },
  {
   "cell_type": "code",
   "execution_count": 48,
   "metadata": {},
   "outputs": [
    {
     "data": {
      "text/plain": [
       "['mahmut', 'mehmet']"
      ]
     },
     "execution_count": 48,
     "metadata": {},
     "output_type": "execute_result"
    }
   ],
   "source": [
    "ç1.personel"
   ]
  },
  {
   "cell_type": "code",
   "execution_count": 51,
   "metadata": {},
   "outputs": [],
   "source": [
    "#Şimdi örneğimize geri dönelim ve baştan inceleyelim:\n",
    "class Çalışan(): #sınıfımızı tanımladık\n",
    "    personel = [] #personel isminde ve liste tipinde bir class attribute ekledik\n",
    "#Sınıf niteliklerinin özelliği, o sınıfın bütün örnekleri tarafından paylaşılıyor olmasıdır. Yani herhangi bir \n",
    "#örneğin bu nitelik üzerinde yaptığı değişiklik, öteki örneklere de yansıyacaktır.Bu bazen istenen bir durumdur.\n",
    "    def __init__(self, isim): #class ve class attribute oluşturduktan sonra __init__ özel fonksiyonumuzu oluşturuyoruz.\n",
    "                                # Biliyoruz ki bu fonksiyon örnek oluşturulma anında çalışacak.\n",
    "        self.adı = isim # değerini isim değişkeninden alacak bir örnek nitelik oluşturduk\n",
    "\n",
    "#Burada sınıfımızı ‘ahmet’ adlı bir argümanla örneklemiştik.\n",
    "#İşte bu argüman, biraz önce __init__() fonksiyonunu tanımlarken belirttiğimiz isim parametresine\n",
    "#karşılık geliyor.\n",
    "#Dolayısıyla, bir sınıfı örneklerken kullanacağımız argümanları, bu __init__() fonksiyonunun parametreleri olarak tanımlıyoruz.\n",
    "#sonra da bu isim parametresini init fonksiyonunun içinde bir örnek niteliğnin değeri haline getiriyoruz.\n",
    "\n",
    "        self.kabiliyetleri = [] #liste biçiminde bir tane daha örnek niteliği oluşturduk\n",
    "#Daha sonra ise personele_ekle() şeklinde bir örnek metoduna (instance method) atıfta bulunuyoruz.\n",
    "        self.personele_ekle()\n",
    "#Örnek metodları, bir sınıfın örnekleri vasıtasıyla çağırılan fonksiyonlardır. İlk kelime her zaman self tir\n",
    "#ayrıca sınıf içinde bu fonksiyona atıfta bulunurken de yukarıdaki gibi başına self koyuyoruz.\n",
    "\n",
    "    def personele_ekle(self): #fonksiyonumuzu tanımladık\n",
    "        self.personel.append(self.adı) \n",
    "#burada personel sınıf niteliği değişkenine  ekleme yaparken yine örnek üzerinden erişeceğimiz için başına self ekledik.\n",
    "#buradaki kodu şöyle de yazabilirdik: Çalışan.personel.append(self.adı) \n",
    "        print('{} adlı kişi personele eklendi'.format(self.isim))\n",
    "    \n",
    "#diğer üç metodu da aynı şekilde tanımladık\n",
    "    def personeli_görüntüle(self):\n",
    "        print('Personel listesi:')\n",
    "        for kişi in self.personel:\n",
    "            print(kişi)\n",
    "\n",
    "    def kabiliyet_ekle(self, kabiliyet):\n",
    "        self.kabiliyetleri.append(kabiliyet)\n",
    "\n",
    "    def kabiliyetleri_görüntüle(self):\n",
    "        print('{} adlı kişinin kabiliyetleri:'.format(self.adı))\n",
    "        for kabiliyet in self.kabiliyetleri:\n",
    "            print(kabiliyet)\n"
   ]
  },
  {
   "cell_type": "code",
   "execution_count": 55,
   "metadata": {},
   "outputs": [
    {
     "name": "stdout",
     "output_type": "stream",
     "text": [
      "Bir kelime girin: Ahmede yolda giderken kamyon toslamış\n",
      "Ahmede yolda giderken kamyon toslamış kelimesinde 12 sesli 20 sessiz harf var.\n"
     ]
    }
   ],
   "source": [
    "class HarfSayacı:#class tanımladık\n",
    "    def __init__(self):#örnek niteliklerini tanımladık\n",
    "        self.sesli_harfler = 'aeıioöuü'\n",
    "        self.sessiz_harfler = 'bcçdfgğhjklmnprsştvyz'\n",
    "        self.sayaç_sesli = 0\n",
    "        self.sayaç_sessiz = 0\n",
    "\n",
    "    def kelime_sor(self):\n",
    "        return input('Bir kelime girin: ') #kelime_sor() fonksiyonunun döndüreceği değer\n",
    "\n",
    "    def seslidir(self, harf): #harf parametresi tanımladık\n",
    "        return harf in self.sesli_harfler #sesli harflerdeki her harfi döndürür\n",
    "\n",
    "    def sessizdir(self, harf):\n",
    "        return harf in self.sessiz_harfler #sessiz harfler içindeki her bir harfi döndürür\n",
    "\n",
    "    def artır(self):\n",
    "        for harf in self.kelime: #kelime içindeki her harf için\n",
    "            if self.seslidir(harf):#eğer sesli ise sesli sayacını 1 artırır\n",
    "                self.sayaç_sesli += 1\n",
    "            if self.sessizdir(harf):#eğer sessiz ise sessiz sayacını 1 artırır\n",
    "                self.sayaç_sessiz += 1\n",
    "        return (self.sayaç_sesli, self.sayaç_sessiz) # sesli ve sessiz harf sayacını döndürür\n",
    "\n",
    "    def ekrana_bas(self):\n",
    "        sesli, sessiz = self.artır()#artır fonksiyonunun döndürdüğü iki değeri sırasıyla sesli ve sessiz parametresine atar\n",
    "        mesaj = \"{} kelimesinde {} sesli {} sessiz harf var.\"\n",
    "        print(mesaj.format(self.kelime, sesli, sessiz))\n",
    "\n",
    "    def çalıştır(self):\n",
    "        self.kelime = self.kelime_sor()#kelime_sor fonksiyonunun döndürdüğü değeri kelime parametresine atar.\n",
    "        self.ekrana_bas()\n",
    "\n",
    "if __name__ == '__main__':#eğer bu kod dışarıdan çağırılmadıysa aşağıdakileri yapar\n",
    "    sayaç = HarfSayacı() #HarfSayacı sınıfından sayaç adıyla bir örnekleme yapar\n",
    "    sayaç.çalıştır() #çalıştır örnek metodunu çalıştırır"
   ]
  },
  {
   "cell_type": "code",
   "execution_count": 74,
   "metadata": {},
   "outputs": [],
   "source": [
    "class HarfSayacı:\n",
    "    def __init__(self):\n",
    "        self.sesli_harfler = 'aeıioöuü'\n",
    "        self.sessiz_harfler = 'bcçdfgğhjklmnprsştvyz'\n",
    "        self.sayaç_sesli = 0\n",
    "        self.sayaç_sessiz = 0\n",
    "\n",
    "    def seslidir(self, sesli):\n",
    "        return sesli in self.sesli_harfler\n",
    "\n",
    "    def sessizdir(self, sessiz):\n",
    "        return sessiz in self.sessiz_harfler\n",
    "\n",
    "    def artır(self):\n",
    "        for harf in self.metin:\n",
    "            if self.seslidir(harf):\n",
    "                self.sayaç_sesli += 1\n",
    "            if self.sessizdir(harf):\n",
    "                self.sayaç_sessiz += 1\n",
    "        return (self.sayaç_sesli, self.sayaç_sessiz)\n",
    "\n",
    "    def ekrana_bas(self):\n",
    "        sesli, sessiz = self.artır()\n",
    "        mesaj = \"{} kelimesinde {} sesli {} sessiz harf var.\"\n",
    "        print(mesaj.format(self.metin, sesli, sessiz))\n",
    "\n",
    "    def çalıştır(self):\n",
    "        self.metin = input(\"Bir Metin girin:\")\n",
    "        self.ekrana_bas()\n",
    "\n",
    "if __name__ == '__main__':\n",
    "    sayaç = HarfSayacı()"
   ]
  },
  {
   "cell_type": "markdown",
   "metadata": {},
   "source": [
    "## Sınıf Metodları"
   ]
  },
  {
   "cell_type": "markdown",
   "metadata": {},
   "source": [
    "Sınıflarda kullandığımız bazı metodlar da aynen sınıf nitelikleri gibi sınıf örnekleri ile doğrudan ilgili olmamakla birlite sınıfın geneli ile ilgili olabilir. Bu tarz durumlarda sınıf nitelikleri gibi örnek metodu yerine sınıf metodu kullanabiliriz."
   ]
  },
  {
   "cell_type": "code",
   "execution_count": 210,
   "metadata": {},
   "outputs": [],
   "source": [
    "class Çalışan():\n",
    "    personel = [] #sınıf niteliği (class attribute)\n",
    "\n",
    "    def __init__(self, isim): \n",
    "        #örnek nitelikleri (instance attributes)\n",
    "        self.isim = isim\n",
    "        self.kabiliyetleri = []\n",
    "        self.personele_ekle()\n",
    "\n",
    "    def personel_sayısını_görüntüle(self): #instance method\n",
    "        print(len(self.personel))\n",
    "\n",
    "    def personele_ekle(self): #instance method\n",
    "        self.personel.append(self.isim)\n",
    "        print('{} adlı kişi personele eklendi'.format(self.isim))\n",
    "\n",
    "    def personeli_görüntüle(self): #instance method\n",
    "        print('Personel listesi:')\n",
    "        for kişi in self.personel:\n",
    "            print(kişi)\n",
    "\n",
    "    def kabiliyet_ekle(self, kabiliyet): #instance method\n",
    "        self.kabiliyetleri.append(kabiliyet)\n",
    "\n",
    "    def kabiliyetleri_görüntüle(self): #instance method\n",
    "        print('{} adlı kişinin kabiliyetleri:'.format(self.isim))\n",
    "        for kabiliyet in self.kabiliyetleri:\n",
    "            print(kabiliyet)"
   ]
  },
  {
   "cell_type": "markdown",
   "metadata": {},
   "source": [
    "Yukarıdaki örnekte Çalışan adlı sınıfın personel listesi özelliğine ahmet adlı bir çalışan örneği üzerinden erişmek mantık hatası gibidir. Aynı şekilde personel_sayısı_görüntüle ya da personeli_görüntüle metodları da doğrudan bir örnekle değil de sınıfın tamamıyla ilgilidir."
   ]
  },
  {
   "cell_type": "code",
   "execution_count": 211,
   "metadata": {},
   "outputs": [
    {
     "name": "stdout",
     "output_type": "stream",
     "text": [
      "Ahmet Taşçı adlı kişi personele eklendi\n",
      "Murat Can Kurt adlı kişi personele eklendi\n",
      "Canan Atacan adlı kişi personele eklendi\n"
     ]
    }
   ],
   "source": [
    "Per01=Çalışan(\"Ahmet Taşçı\")#birkaç personel ekleyelim\n",
    "Per02=Çalışan(\"Murat Can Kurt\")\n",
    "Per03=Çalışan(\"Canan Atacan\")"
   ]
  },
  {
   "cell_type": "code",
   "execution_count": 9,
   "metadata": {},
   "outputs": [
    {
     "name": "stdout",
     "output_type": "stream",
     "text": [
      "3\n"
     ]
    }
   ],
   "source": [
    "Per03.personel_sayısını_görüntüle() #personel sayısına Per03 örneğinden erişebiliyoruz,"
   ]
  },
  {
   "cell_type": "code",
   "execution_count": 10,
   "metadata": {
    "scrolled": true
   },
   "outputs": [
    {
     "ename": "TypeError",
     "evalue": "personel_sayısını_görüntüle() missing 1 required positional argument: 'self'",
     "output_type": "error",
     "traceback": [
      "\u001b[1;31m---------------------------------------------------------------------------\u001b[0m",
      "\u001b[1;31mTypeError\u001b[0m                                 Traceback (most recent call last)",
      "\u001b[1;32m<ipython-input-10-78f68a0010eb>\u001b[0m in \u001b[0;36m<module>\u001b[1;34m\u001b[0m\n\u001b[1;32m----> 1\u001b[1;33m \u001b[0mÇalışan\u001b[0m\u001b[1;33m.\u001b[0m\u001b[0mpersonel_sayısını_görüntüle\u001b[0m\u001b[1;33m(\u001b[0m\u001b[1;33m)\u001b[0m \u001b[1;31m#ancak sınıf üzerinden erişemiyoruz, çünkü örnek metodu olarak tanımladık...\u001b[0m\u001b[1;33m\u001b[0m\u001b[1;33m\u001b[0m\u001b[0m\n\u001b[0m",
      "\u001b[1;31mTypeError\u001b[0m: personel_sayısını_görüntüle() missing 1 required positional argument: 'self'"
     ]
    }
   ],
   "source": [
    "Çalışan.personel_sayısını_görüntüle() #ancak sınıf üzerinden erişemiyoruz, çünkü örnek metodu olarak tanımladık..."
   ]
  },
  {
   "cell_type": "markdown",
   "metadata": {},
   "source": [
    "#### @classmethod bezeyicisi (decorator) ve cls"
   ]
  },
  {
   "cell_type": "markdown",
   "metadata": {},
   "source": [
    "İşte sınıf metodu tanımlamak için aşağıdaki gibi @classmethod bezeyicisini (decorator) kullanıyoruz."
   ]
  },
  {
   "cell_type": "code",
   "execution_count": 18,
   "metadata": {},
   "outputs": [
    {
     "name": "stdout",
     "output_type": "stream",
     "text": [
      "Ahmet Taşçı adlı kişi personele eklendi\n",
      "Murat Can Kurt adlı kişi personele eklendi\n",
      "Canan Atacan adlı kişi personele eklendi\n"
     ]
    }
   ],
   "source": [
    "class Çalışan():\n",
    "    personel = [] #sınıf niteliği (class attribute)\n",
    "\n",
    "    def __init__(self, isim): \n",
    "        #örnek nitelikleri (instance attributes)\n",
    "        self.isim = isim\n",
    "        self.kabiliyetleri = []\n",
    "        self.personele_ekle()\n",
    "    @classmethod            #bezeyici (decorator)\n",
    "    def personel_sayısını_görüntüle(cls): #class method self yerine cls kullandık\n",
    "        print(\"Toplam Personel Sayısı: \",len(cls.personel))\n",
    "\n",
    "    def personele_ekle(self): #instance method\n",
    "        self.personel.append(self.isim)\n",
    "        print('{} adlı kişi personele eklendi'.format(self.isim))\n",
    "    \n",
    "    @classmethod            #bezeyici(decorator)\n",
    "    def personeli_görüntüle(cls): #class method self yerine cls kullandık\n",
    "        print('Personel listesi:')\n",
    "        for kişi in cls.personel:\n",
    "            print(kişi)\n",
    "\n",
    "    def kabiliyet_ekle(self, kabiliyet): #instance method\n",
    "        self.kabiliyetleri.append(kabiliyet)\n",
    "\n",
    "    def kabiliyetleri_görüntüle(self): #instance method\n",
    "        print('{} adlı kişinin kabiliyetleri:'.format(self.isim))\n",
    "        for kabiliyet in self.kabiliyetleri:\n",
    "            print(kabiliyet)\n",
    "Per01=Çalışan(\"Ahmet Taşçı\")#birkaç personel ekleyelim\n",
    "Per02=Çalışan(\"Murat Can Kurt\")\n",
    "Per03=Çalışan(\"Canan Atacan\")"
   ]
  },
  {
   "cell_type": "markdown",
   "metadata": {},
   "source": [
    "Artık sınıf adı üzerinden bu metodlara erişebiliriz. Bu şekilde daha mantıklı ve düzenli oldu. Ayrıca burada dikkat edilecek bir husus da örnek metodlarının parametrelerinde kullandığımız self kelimesi yerine burada cls kullanmış olmamız. Bu cls kelimesi de aynı self gibi gelenekselleşmiş ve kalıplaşmış bir kelimedir ve  class metodları için kullanılır."
   ]
  },
  {
   "cell_type": "code",
   "execution_count": 19,
   "metadata": {},
   "outputs": [
    {
     "name": "stdout",
     "output_type": "stream",
     "text": [
      "Toplam Personel Sayısı:  3\n"
     ]
    }
   ],
   "source": [
    "Çalışan.personel_sayısını_görüntüle()"
   ]
  },
  {
   "cell_type": "code",
   "execution_count": 20,
   "metadata": {},
   "outputs": [
    {
     "name": "stdout",
     "output_type": "stream",
     "text": [
      "Personel listesi:\n",
      "Ahmet Taşçı\n",
      "Murat Can Kurt\n",
      "Canan Atacan\n"
     ]
    }
   ],
   "source": [
    "Çalışan.personeli_görüntüle()"
   ]
  },
  {
   "cell_type": "code",
   "execution_count": 21,
   "metadata": {},
   "outputs": [
    {
     "name": "stdout",
     "output_type": "stream",
     "text": [
      "Personel listesi:\n",
      "Ahmet Taşçı\n",
      "Murat Can Kurt\n",
      "Canan Atacan\n",
      "Toplam Personel Sayısı:  3\n"
     ]
    }
   ],
   "source": [
    "Per02.personeli_görüntüle() \n",
    "Per03.personel_sayısını_görüntüle()\n",
    "#Biliyoruz ki örnekler üzerinden hem örnek niteliklerine ve metodlarına, hem de class niteliklerine ve metodlarına erişebiliriz."
   ]
  },
  {
   "cell_type": "markdown",
   "metadata": {},
   "source": [
    "## Alternatif İnşaacılar (Alternative Constructors)"
   ]
  },
  {
   "cell_type": "markdown",
   "metadata": {},
   "source": [
    "Elimizde kitap bilgilerini isbn, yazar, kitap adı ve yayınevi bilgilerini her bir kitap için birer demet halinde içeren bir kitap veri tabanı listesi olsun. Bu kitaplar arasında isbn numarası, yayınevi vs. gibi istediğimiz ölçüte göre kitap araması yapan bir kod yazdığımızı düşünelim:"
   ]
  },
  {
   "cell_type": "code",
   "execution_count": 77,
   "metadata": {},
   "outputs": [],
   "source": [
    "liste = [('9789753424080', 'Greenberg', 'Sana Gül Bahçesi Vadetmedim', 'Metis'),\n",
    "         ('975872519X', 'Evren', 'Postmodern Bir Kız Sevdim', 'İthaki'),\n",
    "         ('9789754060409', 'Nietzsche', 'Böyle Buyurdu Zerdüşt', 'Cem')]"
   ]
  },
  {
   "cell_type": "markdown",
   "metadata": {},
   "source": [
    "###### Bu programımızı bir fonksiyon içinde if ve else döngüsü olarak yazabiliriz:"
   ]
  },
  {
   "cell_type": "code",
   "execution_count": 87,
   "metadata": {},
   "outputs": [],
   "source": [
    "def sorgula(ölçüt=None, ara=None):#iki parametreli fonksiyonumuza ölçüt=nerede arama yapılacağı, ara=aranacak metin\n",
    "    for li in liste: #Listedeki her bir demet için li diyelim:\n",
    "        if not ölçüt and not ara:#eğer her iki argüman da boş geçilirse\n",
    "            print(*li, sep=', ') #tüm listeyi yazdır.\n",
    "\n",
    "        elif ölçüt == 'isbn': #eğer ölçüt olarak isbn girilmişse,\n",
    "            if ara in li[0]: #her bir li demetinin 0 indeksinde ara\n",
    "                print(*li, sep=', ') \n",
    "\n",
    "        elif ölçüt == 'yazar': #eğer ölçüt olarak yazar girilmişse,\n",
    "            if ara in li[1]: #her bir li demetinin 1 indeksinde ara\n",
    "                print(*li, sep=', ')\n",
    "\n",
    "        elif ölçüt == 'eser':\n",
    "            if ara in li[2]:\n",
    "                print(*li, sep=', ')\n",
    "\n",
    "        elif ölçüt == 'yayınevi':\n",
    "            if ara in li[3]:\n",
    "                print(*li, sep=', ')"
   ]
  },
  {
   "cell_type": "code",
   "execution_count": 88,
   "metadata": {},
   "outputs": [
    {
     "name": "stdout",
     "output_type": "stream",
     "text": [
      "9789753424080, Greenberg, Sana Gül Bahçesi Vadetmedim, Metis\n",
      "975872519X, Evren, Postmodern Bir Kız Sevdim, İthaki\n",
      "9789754060409, Nietzsche, Böyle Buyurdu Zerdüşt, Cem\n"
     ]
    }
   ],
   "source": [
    "sorgula()"
   ]
  },
  {
   "cell_type": "code",
   "execution_count": 89,
   "metadata": {},
   "outputs": [
    {
     "name": "stdout",
     "output_type": "stream",
     "text": [
      "9789754060409, Nietzsche, Böyle Buyurdu Zerdüşt, Cem\n"
     ]
    }
   ],
   "source": [
    "sorgula(\"isbn\",\"6040\")"
   ]
  },
  {
   "cell_type": "code",
   "execution_count": 90,
   "metadata": {},
   "outputs": [
    {
     "name": "stdout",
     "output_type": "stream",
     "text": [
      "9789753424080, Greenberg, Sana Gül Bahçesi Vadetmedim, Metis\n"
     ]
    }
   ],
   "source": [
    "sorgula(\"yazar\",\"G\")"
   ]
  },
  {
   "cell_type": "markdown",
   "metadata": {},
   "source": [
    "###### Aynı Programı List Comprehension kullanarak daha kısa da yazabiliriz:"
   ]
  },
  {
   "cell_type": "code",
   "execution_count": 92,
   "metadata": {},
   "outputs": [],
   "source": [
    "def sorgula(ölçüt=\"\", ara=\"\"):\n",
    "    d = {'isbn'     : [li for li in liste if ara in li[0]],\n",
    "         'yazar'    : [li for li in liste if ara in li[1]],\n",
    "         'eser'     : [li for li in liste if ara in li[2]],\n",
    "         'yayınevi' : [li for li in liste if ara in li[3]]}\n",
    "\n",
    "    for öğe in d.get(ölçüt, liste):\n",
    "        print(*öğe, sep = ', ')"
   ]
  },
  {
   "cell_type": "code",
   "execution_count": 93,
   "metadata": {},
   "outputs": [
    {
     "name": "stdout",
     "output_type": "stream",
     "text": [
      "9789754060409, Nietzsche, Böyle Buyurdu Zerdüşt, Cem\n"
     ]
    }
   ],
   "source": [
    "sorgula(\"isbn\",\"6040\")"
   ]
  },
  {
   "cell_type": "code",
   "execution_count": 94,
   "metadata": {},
   "outputs": [
    {
     "name": "stdout",
     "output_type": "stream",
     "text": [
      "9789753424080, Greenberg, Sana Gül Bahçesi Vadetmedim, Metis\n"
     ]
    }
   ],
   "source": [
    "sorgula(\"yayınevi\",\"Met\")"
   ]
  },
  {
   "cell_type": "markdown",
   "metadata": {},
   "source": [
    "###### Hatta aynı list comprehension kısmını tekrar tekrar yazmak sıkıcı olabilir, bunun için bir fonksiyon daha tanımlayabiliriz:"
   ]
  },
  {
   "cell_type": "code",
   "execution_count": null,
   "metadata": {},
   "outputs": [],
   "source": [
    "def bul(değer, sıra):\n",
    "    return [li for li in liste if değer == li[sıra]]\n",
    "\n",
    "def sorgula(ölçüt=None, değer=None):\n",
    "    d = {'isbn'     : bul(değer, 0),\n",
    "         'yazar'    : bul(değer, 1),\n",
    "         'eser'     : bul(değer, 2),\n",
    "         'yayınevi' : bul(değer, 3)}\n",
    "\n",
    "    for öğe in d.get(ölçüt, liste):\n",
    "        print(*öğe, sep = ', ')"
   ]
  },
  {
   "cell_type": "markdown",
   "metadata": {},
   "source": [
    "###### bul(değer,sıra) kısmını da  tekrar tekrar yazmak sıkıcı olabilir, birde şöyle yapalım:"
   ]
  },
  {
   "cell_type": "code",
   "execution_count": 151,
   "metadata": {},
   "outputs": [],
   "source": [
    "def bul(ara, sıra):\n",
    "    return [li for li in liste if ara in li[sıra]]\n",
    "\n",
    "def sorgula(ölçüt=None, ara=None):\n",
    "    if not (ölçüt and ara):\n",
    "        for x in liste:\n",
    "            print(*x,sep=\", \")\n",
    "    else:\n",
    "        sıra=(\"isbn\",\"yazar\",\"eser\",\"yayınevi\").index(ölçüt) #ölçütün index numarası\n",
    "        print(*(bul(ara,sıra)[0]),sep=\", \")"
   ]
  },
  {
   "cell_type": "code",
   "execution_count": 153,
   "metadata": {},
   "outputs": [
    {
     "name": "stdout",
     "output_type": "stream",
     "text": [
      "9789754060409, Nietzsche, Böyle Buyurdu Zerdüşt, Cem\n"
     ]
    }
   ],
   "source": [
    "sorgula(\"isbn\",\"4060\")"
   ]
  },
  {
   "cell_type": "markdown",
   "metadata": {},
   "source": [
    "###### Aynı işi yapan kodları bir sınıf içinde de yazabiliriz:"
   ]
  },
  {
   "cell_type": "code",
   "execution_count": 165,
   "metadata": {},
   "outputs": [],
   "source": [
    "class Sorgu():\n",
    "    def __init__(self):\n",
    "        self.liste = [('9789753424080', 'Greenberg', 'Sana Gül Bahçesi Vadetmedim', 'Metis'),\n",
    "                      ('975872519X', 'Evren', 'Postmodern Bir Kız Sevdim', 'İthaki'),\n",
    "                      ('9789754060409', 'Nietzsche', 'Böyle Buyurdu Zerdüşt', 'Cem')]\n",
    "    def bul(self,ara, sıra):\n",
    "        return [li for li in self.liste if ara in li[sıra]]\n",
    "\n",
    "    def sorgula(self,ölçüt=None, ara=None):\n",
    "        if not (ölçüt and ara):\n",
    "            for x in self.liste:\n",
    "                print(*x,sep=\", \")\n",
    "        else:\n",
    "            sıra=(\"isbn\",\"yazar\",\"eser\",\"yayınevi\").index(ölçüt) #ölçütün index numarası\n",
    "            print(*(self.bul(ara,sıra)[0]),sep=\", \")"
   ]
  },
  {
   "cell_type": "code",
   "execution_count": 166,
   "metadata": {},
   "outputs": [
    {
     "name": "stdout",
     "output_type": "stream",
     "text": [
      "9789754060409, Nietzsche, Böyle Buyurdu Zerdüşt, Cem\n"
     ]
    }
   ],
   "source": [
    "klist=Sorgu()\n",
    "klist.sorgula(\"isbn\",\"4060\")"
   ]
  },
  {
   "cell_type": "markdown",
   "metadata": {},
   "source": [
    "Tabii ki bu sorgu işlemini class içinde tanımlamanın pek bir esprisi yok, ancak böyle bir işlemi yukarıda gördüğümüz gibi birçok farklı yöntemle yaptık. Asıl gelmek istediğimiz yöntem ise aşağıda..."
   ]
  },
  {
   "cell_type": "markdown",
   "metadata": {},
   "source": [
    "###### Alternatif inşa metodu (alternative construction) ile:"
   ]
  },
  {
   "cell_type": "code",
   "execution_count": 168,
   "metadata": {},
   "outputs": [],
   "source": [
    "class Sorgu():\n",
    "    def __init__(self, ara=None, sıra=None):\n",
    "        self.liste = [('9789753424080', 'Greenberg', 'Sana Gül Bahçesi Vadetmedim', 'Metis'),\n",
    "                      ('975872519X', 'Evren', 'Postmodern Bir Kız Sevdim', 'İthaki'),\n",
    "                      ('9789754060409', 'Nietzsche', 'Böyle Buyurdu Zerdüşt', 'Cem')]\n",
    "#Buraya kadar herşey aynı.\n",
    "\n",
    "        if not ara and not sıra:\n",
    "            l = self.liste #eğer parametreler boşsa listeyi olduğu gibi l adlı bir değişkene attık\n",
    "        else:\n",
    "            l = [li for li in self.liste if ara in li[sıra]] \n",
    "#aksi halde liste içindeki her bir li demetin sıra indexinde arama metninin geçip geçmediğine bakıyoruz.\n",
    "#soncucu l değişkenine atıyoruz.\n",
    "        for i in l: #l değişkenindeki her bir i için\n",
    "            print(*i, sep=', ') #i içindeki her bir öğeyi , ile ayırarak yazdır.\n",
    "\n",
    "    @classmethod\n",
    "    def isbnden(cls, isbn): #bir class metodu argüman olarak isbn numarasından bir parça alacak\n",
    "        cls(isbn, 0) #isbn parçasını ve 0 değerini örnek metodu init içindeki ara ve sıra parametrelerine gönderecek.\n",
    "\n",
    "    @classmethod\n",
    "    def yazardan(cls, yazar):\n",
    "        cls(yazar, 1)\n",
    "\n",
    "    @classmethod\n",
    "    def eserden(cls, eser):\n",
    "        cls(eser, 2)\n",
    "\n",
    "    @classmethod\n",
    "    def yayınevinden(cls, yayınevi):\n",
    "        cls(yayınevi, 3)"
   ]
  },
  {
   "cell_type": "code",
   "execution_count": 169,
   "metadata": {},
   "outputs": [
    {
     "name": "stdout",
     "output_type": "stream",
     "text": [
      "9789754060409, Nietzsche, Böyle Buyurdu Zerdüşt, Cem\n"
     ]
    }
   ],
   "source": [
    "Sorgu.isbnden(\"4060\")"
   ]
  },
  {
   "cell_type": "code",
   "execution_count": 178,
   "metadata": {},
   "outputs": [
    {
     "name": "stdout",
     "output_type": "stream",
     "text": [
      "9789753424080, Greenberg, Sana Gül Bahçesi Vadetmedim, Metis\n",
      "975872519X, Evren, Postmodern Bir Kız Sevdim, İthaki\n"
     ]
    }
   ],
   "source": [
    "Sorgu.yazardan(\"en\")"
   ]
  },
  {
   "cell_type": "code",
   "execution_count": 179,
   "metadata": {},
   "outputs": [
    {
     "name": "stdout",
     "output_type": "stream",
     "text": [
      "9789753424080, Greenberg, Sana Gül Bahçesi Vadetmedim, Metis\n",
      "975872519X, Evren, Postmodern Bir Kız Sevdim, İthaki\n",
      "9789754060409, Nietzsche, Böyle Buyurdu Zerdüşt, Cem\n"
     ]
    }
   ],
   "source": [
    "tümü=Sorgu()"
   ]
  },
  {
   "cell_type": "markdown",
   "metadata": {},
   "source": [
    "İşte Burada Kullandığımız yöntem alternatif inşaa yöntemidir. Sınıf metodlarını kullanarak alternatif nesneler elde ediyoruz. Normal şartlarda bir sınıfı __init__ fonksiyonuna verilen parametrelerle inşa ediyoruz, ancak burada sınıf metodlarını kullanarak inşa etmiş olduk."
   ]
  },
  {
   "cell_type": "code",
   "execution_count": 181,
   "metadata": {},
   "outputs": [],
   "source": [
    "class Sorgu():\n",
    "    def __init__(self, ara=None, sıra=None):\n",
    "        self.liste = [('9789753424080', 'Greenberg', 'Sana Gül Bahçesi Vadetmedim', 'Metis'),\n",
    "                      ('975872519X', 'Evren', 'Postmodern Bir Kız Sevdim', 'İthaki'),\n",
    "                      ('9789754060409', 'Nietzsche', 'Böyle Buyurdu Zerdüşt', 'Cem')]\n",
    "#Buraya kadar herşey aynı.\n",
    "\n",
    "        if not ara and not sıra:\n",
    "            l = self.liste #eğer parametreler boşsa listeyi olduğu gibi l adlı bir değişkene attık\n",
    "        else:\n",
    "            l = [li for li in self.liste if ara in li[sıra]] \n",
    "#aksi halde liste içindeki her bir li demetin sıra indexinde arama metninin geçip geçmediğine bakıyoruz.\n",
    "#soncucu l değişkenine atıyoruz.\n",
    "        for i in l: #l değişkenindeki her bir i için\n",
    "            print(*i, sep=', ') #i içindeki her bir öğeyi , ile ayırarak yazdır.\n",
    "\n",
    "    @classmethod\n",
    "    def isbnden(cls, isbn): #bir class metodu argüman olarak isbn numarasından bir parça alacak\n",
    "        cls(isbn, 0) #isbn parçasını ve 0 değerini örnek metodu init içindeki ara ve sıra parametrelerine gönderecek.\n",
    "\n",
    "    @classmethod\n",
    "    def yazardan(cls, yazar):\n",
    "        cls(yazar, 1)\n",
    "\n",
    "    @classmethod\n",
    "    def eserden(cls, eser):\n",
    "        cls(eser, 2)\n",
    "\n",
    "    @classmethod\n",
    "    def yayınevinden(cls, yayınevi):\n",
    "        cls(yayınevi, 3)"
   ]
  },
  {
   "cell_type": "code",
   "execution_count": 182,
   "metadata": {},
   "outputs": [
    {
     "name": "stdout",
     "output_type": "stream",
     "text": [
      "9789753424080, Greenberg, Sana Gül Bahçesi Vadetmedim, Metis\n",
      "975872519X, Evren, Postmodern Bir Kız Sevdim, İthaki\n",
      "9789754060409, Nietzsche, Böyle Buyurdu Zerdüşt, Cem\n"
     ]
    }
   ],
   "source": [
    "soru=Sorgu()"
   ]
  },
  {
   "cell_type": "markdown",
   "metadata": {},
   "source": [
    "Örnek olarak bir sisteme giriş yapmak için bir class kodumuz olsun:"
   ]
  },
  {
   "cell_type": "code",
   "execution_count": 185,
   "metadata": {},
   "outputs": [],
   "source": [
    "class Giriş():\n",
    "    def __init__(self, mesaj='Müşteri numaranız: '):\n",
    "        cevap = input(mesaj)\n",
    "        print('Hoşgeldiniz!')"
   ]
  },
  {
   "cell_type": "markdown",
   "metadata": {},
   "source": [
    "Eğer biz bu sisteme müşteri numarası yerine tc kimlin numarası ile ya da cep numarası gibi bilgilerle de giriş yapabilmek istiyosak burada class metodlarından faydalanabiliriz. Bu şekilde tanımladığımız sınıfı farklı parametrelerle çalıştırabilme imkanı elde etmiş oluyoruz."
   ]
  },
  {
   "cell_type": "code",
   "execution_count": 186,
   "metadata": {},
   "outputs": [],
   "source": [
    "class Giriş():\n",
    "    def __init__(self, mesaj='Müşteri numaranız: '):\n",
    "        cevap = input(mesaj)\n",
    "        print('Hoşgeldiniz!')\n",
    "\n",
    "    @classmethod\n",
    "    def cepno(cls):\n",
    "        mesaj = 'Lütfen cep telefonu numaranızı giriniz: '\n",
    "        cls(mesaj)\n",
    "\n",
    "    @classmethod\n",
    "    def tckn(cls):\n",
    "        mesaj = 'Lütfen TC kimlik numaranızı giriniz: '\n",
    "        cls(mesaj)"
   ]
  },
  {
   "cell_type": "code",
   "execution_count": 187,
   "metadata": {},
   "outputs": [
    {
     "name": "stdout",
     "output_type": "stream",
     "text": [
      "Lütfen TC kimlik numaranızı giriniz: aifgkshs\n",
      "Hoşgeldiniz!\n"
     ]
    }
   ],
   "source": [
    "Giriş.tckn()"
   ]
  },
  {
   "cell_type": "markdown",
   "metadata": {},
   "source": [
    "##### Standart kütüphanede bulunan datetime modülünün kaynak kodlarından şöyle bir örnek:"
   ]
  },
  {
   "cell_type": "code",
   "execution_count": 188,
   "metadata": {},
   "outputs": [],
   "source": [
    "class date:\n",
    "    __slots__ = '_year', '_month', '_day'\n",
    "\n",
    "    def __new__(cls, year, month=None, day=None):\n",
    "        if (isinstance(year, bytes) and len(year) == 4 and\n",
    "            1 <= year[2] <= 12 and month is None):  # Month is sane\n",
    "            # Pickle support\n",
    "            self = object.__new__(cls)\n",
    "            self.__setstate(year)\n",
    "            return self\n",
    "        _check_date_fields(year, month, day)\n",
    "        self = object.__new__(cls)\n",
    "        self._year = year\n",
    "        self._month = month\n",
    "        self._day = day\n",
    "        return self\n",
    "\n",
    "    @classmethod\n",
    "    def fromtimestamp(cls, t):\n",
    "        y, m, d, hh, mm, ss, weekday, jday, dst = _time.localtime(t)\n",
    "        return cls(y, m, d)\n",
    "\n",
    "    @classmethod\n",
    "    def today(cls):\n",
    "        t = _time.time()\n",
    "        return cls.fromtimestamp(t)\n",
    "\n",
    "    @classmethod\n",
    "    def fromordinal(cls, n):\n",
    "        y, m, d = _ord2ymd(n)\n",
    "        return cls(y, m, d)"
   ]
  },
  {
   "cell_type": "markdown",
   "metadata": {},
   "source": [
    "Gördüğümüz üzere 3 adet sınıf metodu bulunuyor. Normal kullanım şeklini biliyoruz ki(eski yöntemde __slots__ şimdi parametre):"
   ]
  },
  {
   "cell_type": "code",
   "execution_count": 196,
   "metadata": {},
   "outputs": [
    {
     "name": "stdout",
     "output_type": "stream",
     "text": [
      "2019-03-05\n"
     ]
    }
   ],
   "source": [
    "import datetime\n",
    "bugün=datetime.date(2019,3,5)\n",
    "print(bugün)"
   ]
  },
  {
   "cell_type": "markdown",
   "metadata": {},
   "source": [
    "İstersek today metodunu kullanarak da otomatik oluşturabiliriz..."
   ]
  },
  {
   "cell_type": "code",
   "execution_count": 198,
   "metadata": {},
   "outputs": [
    {
     "name": "stdout",
     "output_type": "stream",
     "text": [
      "2019-03-05\n"
     ]
    }
   ],
   "source": [
    "bugün=datetime.date.today()\n",
    "print(bugün)"
   ]
  },
  {
   "cell_type": "markdown",
   "metadata": {},
   "source": [
    "ya da fromtimestamp() metodu ile zaman damgası kullanarak tarih oluşturulabilir. Veyahut da elimizde tamsayı biçimli bir Gregoryen tarih verisi varsa bununla da bir tarih oluşturabiliriz."
   ]
  },
  {
   "cell_type": "code",
   "execution_count": 209,
   "metadata": {},
   "outputs": [
    {
     "name": "stdout",
     "output_type": "stream",
     "text": [
      "2019-03-05\n"
     ]
    }
   ],
   "source": [
    "tarih=datetime.date.fromordinal(737123)\n",
    "print(tarih)"
   ]
  },
  {
   "cell_type": "markdown",
   "metadata": {},
   "source": [
    "İşte bu sınıf metodlar aynı sınıfın farklı parametrelerle kullanımlarına imkan veren alternatif inşacılardır."
   ]
  },
  {
   "cell_type": "markdown",
   "metadata": {},
   "source": [
    "## Statik metodlar ve @staticmethod bezeyicisi"
   ]
  },
  {
   "cell_type": "markdown",
   "metadata": {},
   "source": [
    "Şimdiye kadar gördüğümüz nitelikler ve metodlar örnek metodları ve nitelikleri veya sınıf nitelik ve metodlarıydı, kullanım tercihlerimize göre bunları sınıf metodu/niteliği ya da örnek metodu/niteliği olarak tanımlıyorduk. Eğer her ikisi tarafından da erişime ihtiyacımız olmayan nitelikler varsa statik metodları kullanabiliriz."
   ]
  },
  {
   "cell_type": "markdown",
   "metadata": {},
   "source": [
    "### @staticmethod"
   ]
  },
  {
   "cell_type": "code",
   "execution_count": null,
   "metadata": {},
   "outputs": [],
   "source": [
    "class Sınıf():\n",
    "    sınıf_niteliği = 0\n",
    "\n",
    "    def __init__(self, veri):\n",
    "        self.veri = veri\n",
    "\n",
    "    def örnek_metodu(self):\n",
    "        return self.veri\n",
    "\n",
    "    @classmethod\n",
    "    def sınıf_metodu(cls):\n",
    "        return cls.sınıf_niteliği\n",
    "\n",
    "    @staticmethod\n",
    "    def statik_metot():\n",
    "        print('merhaba statik metot!')"
   ]
  },
  {
   "cell_type": "markdown",
   "metadata": {},
   "source": [
    "Burada örnek_metodu, self ile örnek niteliklerine sınıf_metodu ise cls ile sınıf niteliklerine erişiyoruz, @classmethod bezeyicisini de sınıf metodunu tanımlarken kullanıyorduk. Sınıf içinde tanımlayacağımız metod herhangi bir sınıf ya da örnek metodu üzerinde bir işlem yapmayacaksa @staticmethod ile statik_metodu tanımlıyoruz. Görüldüğü üzere self ya da cls gibi bir ilk parametreye de ihtiyacı yoktur."
   ]
  },
  {
   "cell_type": "markdown",
   "metadata": {},
   "source": [
    "Statik metodun ne örnek nitelikleri ne de sınıf nitelikleri ile işlem yapmaması ile demek istediğimiz, bir method classın içinde hiçbir koşula bağlı kalmaksızın hiçbir işleme katılmadan ve sonucundan etkilenmeden örneğin sadece \"Hoşgeldiniz...\" gibi bir metin yazdırıyorsa bunu statik metod olarak tanımlayabiliriz."
   ]
  },
  {
   "cell_type": "code",
   "execution_count": 212,
   "metadata": {},
   "outputs": [],
   "source": [
    "class Mat():\n",
    "    '''Matematik işlemleri yapmamızı sağlayan\n",
    "    bir sınıf.'''\n",
    "\n",
    "    @staticmethod\n",
    "    def pi():\n",
    "        return 22/7\n",
    "\n",
    "    @staticmethod\n",
    "    def karekök(sayı):\n",
    "        return sayı ** 0.5"
   ]
  },
  {
   "cell_type": "markdown",
   "metadata": {},
   "source": [
    "Görüldüğü gibi Mat() classı içinde tanımladığımız pi() ve karekök() metodlarının birbiriyle ya da sınıfın geri kalanıyla hiçbir alakaları yoktur. Kendi içlerinde verilen işlemi döndürürler. Bu metodları da hem Class üzerinden hem Örnek üzerinden çağırabiliriz."
   ]
  },
  {
   "cell_type": "code",
   "execution_count": 224,
   "metadata": {},
   "outputs": [
    {
     "data": {
      "text/plain": [
       "2.0"
      ]
     },
     "execution_count": 224,
     "metadata": {},
     "output_type": "execute_result"
    }
   ],
   "source": [
    "Mat.karekök(4) #sınıf üzerinden"
   ]
  },
  {
   "cell_type": "code",
   "execution_count": 225,
   "metadata": {},
   "outputs": [
    {
     "data": {
      "text/plain": [
       "3.142857142857143"
      ]
     },
     "execution_count": 225,
     "metadata": {},
     "output_type": "execute_result"
    }
   ],
   "source": [
    "m=Mat()\n",
    "m.pi() #örnek üzerinden"
   ]
  },
  {
   "cell_type": "markdown",
   "metadata": {},
   "source": [
    "Peki biz Mat() sınıfındaki bu metodlarımızı örnek metodu olarak tanımlasaydık ne olurdu?"
   ]
  },
  {
   "cell_type": "code",
   "execution_count": 227,
   "metadata": {},
   "outputs": [],
   "source": [
    "class Mat():\n",
    "    '''Matematik işlemleri yapmamızı sağlayan\n",
    "    bir sınıf.'''\n",
    "\n",
    "    def pi(self):\n",
    "        return 22/7\n",
    "\n",
    "    def karekök(self,sayı):\n",
    "        return sayı ** 0.5"
   ]
  },
  {
   "cell_type": "code",
   "execution_count": 234,
   "metadata": {},
   "outputs": [
    {
     "ename": "TypeError",
     "evalue": "pi() missing 1 required positional argument: 'self'",
     "output_type": "error",
     "traceback": [
      "\u001b[1;31m---------------------------------------------------------------------------\u001b[0m",
      "\u001b[1;31mTypeError\u001b[0m                                 Traceback (most recent call last)",
      "\u001b[1;32m<ipython-input-234-61cc9830f480>\u001b[0m in \u001b[0;36m<module>\u001b[1;34m\u001b[0m\n\u001b[1;32m----> 1\u001b[1;33m \u001b[0mMat\u001b[0m\u001b[1;33m.\u001b[0m\u001b[0mpi\u001b[0m\u001b[1;33m(\u001b[0m\u001b[1;33m)\u001b[0m\u001b[1;33m\u001b[0m\u001b[1;33m\u001b[0m\u001b[0m\n\u001b[0m\u001b[0;32m      2\u001b[0m \u001b[0mMat\u001b[0m\u001b[1;33m.\u001b[0m\u001b[0mkarekök\u001b[0m\u001b[1;33m(\u001b[0m\u001b[1;36m9\u001b[0m\u001b[1;33m)\u001b[0m \u001b[1;31m#görüleceği üzere bunları sınıf adı üzerinden kullanamıyoruz.\u001b[0m\u001b[1;33m\u001b[0m\u001b[1;33m\u001b[0m\u001b[0m\n",
      "\u001b[1;31mTypeError\u001b[0m: pi() missing 1 required positional argument: 'self'"
     ]
    }
   ],
   "source": [
    "Mat.pi()\n",
    "Mat.karekök(9) #görüleceği üzere bunları sınıf adı üzerinden kullanamıyoruz."
   ]
  },
  {
   "cell_type": "code",
   "execution_count": 235,
   "metadata": {},
   "outputs": [
    {
     "data": {
      "text/plain": [
       "3.142857142857143"
      ]
     },
     "execution_count": 235,
     "metadata": {},
     "output_type": "execute_result"
    }
   ],
   "source": [
    "islem=Mat()\n",
    "islem.pi() #sadece örnekler üzerinden kullanabiliyoruz."
   ]
  },
  {
   "cell_type": "code",
   "execution_count": 233,
   "metadata": {},
   "outputs": [
    {
     "data": {
      "text/plain": [
       "3.0"
      ]
     },
     "execution_count": 233,
     "metadata": {},
     "output_type": "execute_result"
    }
   ],
   "source": [
    "islem.karekök(9)"
   ]
  },
  {
   "cell_type": "markdown",
   "metadata": {},
   "source": [
    "Bir de Mat() sınıfındaki bu metodlarımızı sınıf metodu olarak tanımlayalım:"
   ]
  },
  {
   "cell_type": "code",
   "execution_count": 236,
   "metadata": {},
   "outputs": [],
   "source": [
    "class Mat():\n",
    "    '''Matematik işlemleri yapmamızı sağlayan\n",
    "    bir sınıf.'''\n",
    "    \n",
    "    @classmethod\n",
    "    def pi(cls):\n",
    "        return 22/7\n",
    "    \n",
    "    @classmethod\n",
    "    def karekök(cls,sayı):\n",
    "        return sayı ** 0.5"
   ]
  },
  {
   "cell_type": "code",
   "execution_count": 237,
   "metadata": {},
   "outputs": [
    {
     "data": {
      "text/plain": [
       "3.142857142857143"
      ]
     },
     "execution_count": 237,
     "metadata": {},
     "output_type": "execute_result"
    }
   ],
   "source": [
    "Mat.pi()#Sınıf adı üzerinden"
   ]
  },
  {
   "cell_type": "code",
   "execution_count": 242,
   "metadata": {},
   "outputs": [
    {
     "data": {
      "text/plain": [
       "4.0"
      ]
     },
     "execution_count": 242,
     "metadata": {},
     "output_type": "execute_result"
    }
   ],
   "source": [
    "Mat.karekök(16) #Sınıf adı üzerinden"
   ]
  },
  {
   "cell_type": "code",
   "execution_count": 240,
   "metadata": {},
   "outputs": [
    {
     "data": {
      "text/plain": [
       "3.142857142857143"
      ]
     },
     "execution_count": 240,
     "metadata": {},
     "output_type": "execute_result"
    }
   ],
   "source": [
    "işlem=Mat()\n",
    "işlem.pi() #örnek adı üzerinden"
   ]
  },
  {
   "cell_type": "code",
   "execution_count": 243,
   "metadata": {},
   "outputs": [
    {
     "data": {
      "text/plain": [
       "9.0"
      ]
     },
     "execution_count": 243,
     "metadata": {},
     "output_type": "execute_result"
    }
   ],
   "source": [
    "işlem.karekök(81) #örnek adı üzerinden"
   ]
  },
  {
   "cell_type": "markdown",
   "metadata": {},
   "source": [
    "Görüldüğü üzere Statik metodların kullanım açısından sınıf metodlarından pek de bir farkı yok, gereksiz yere cls kullanımını engelliyor ve de kodu okurken @staticmethod bezeyicisini gördüğümüzde bu metodun classın geri kalanıyla bir işlemi olmadığını anlayarak kod okumayı biraz daha kolaylaştırıyor diyebiliriz."
   ]
  },
  {
   "cell_type": "markdown",
   "metadata": {},
   "source": [
    "# Nesneler (Objects) , Nesne Nedir?"
   ]
  },
  {
   "cell_type": "markdown",
   "metadata": {},
   "source": [
    "Kabaca, Python’da belli birtakım metotlara ve/veya niteliklere sahip olan öğelere nesne adı verilir. Yani ‘nesne’ kelimesi, içinde birtakım metot ve/veya nitelikler barındıran öğeleri tanımlamak için kullanılan bir tabirden, basit bir isimlendirmeden ibarettir."
   ]
  },
  {
   "cell_type": "code",
   "execution_count": 246,
   "metadata": {},
   "outputs": [],
   "source": [
    "class Sınıf():\n",
    "    pass\n",
    "\n",
    "sınıf = Sınıf() #İşte bu satır ile bir nesne üretmiş olduk, ürettiğimiz nesnenin adı da \"sınıf\"\n",
    "#Teknik olarak ürettiğmiz \"sınıf örneği\" Sınıf isimli class ın bütün nitelik ve metodlarını barındıran bir nesnedir."
   ]
  },
  {
   "cell_type": "code",
   "execution_count": 249,
   "metadata": {},
   "outputs": [
    {
     "name": "stdout",
     "output_type": "stream",
     "text": [
      "['__class__', '__delattr__', '__dict__', '__dir__', '__doc__', '__eq__', '__format__', '__ge__', '__getattribute__', '__gt__', '__hash__', '__init__', '__init_subclass__', '__le__', '__lt__', '__module__', '__ne__', '__new__', '__reduce__', '__reduce_ex__', '__repr__', '__setattr__', '__sizeof__', '__str__', '__subclasshook__', '__weakref__']\n"
     ]
    }
   ],
   "source": [
    "print(dir(sınıf),sep=\", \")"
   ]
  },
  {
   "cell_type": "markdown",
   "metadata": {},
   "source": [
    "Görüldüğü gibi biz boş bir class tan yine boş bir sınıf örneği üretmiş olsak da sınıf nesnesi ön tanımlı olarak bir takım nitelik ve metodlara sahip. İşte Python'da bir takım nitelik ve metodlara sahip tüm öğelere \"nesne\" (object) denir."
   ]
  },
  {
   "cell_type": "markdown",
   "metadata": {},
   "source": [
    "###### Basit bir saldır-kaç oyunu örneği:"
   ]
  },
  {
   "cell_type": "code",
   "execution_count": 2,
   "metadata": {},
   "outputs": [
    {
     "name": "stdout",
     "output_type": "stream",
     "text": [
      "Şu anda rakibinizle karşı karşıyasınız.\n",
      "Yapmak istediğiniz hamle: \n",
      "Saldır:  s\n",
      "Kaç:     k\n",
      "Çık:     q\n",
      "\n",
      "> q\n",
      "Çıkılıyor...\n"
     ]
    },
    {
     "ename": "SystemExit",
     "evalue": "",
     "output_type": "error",
     "traceback": [
      "An exception has occurred, use %tb to see the full traceback.\n",
      "\u001b[1;31mSystemExit\u001b[0m\n"
     ]
    }
   ],
   "source": [
    "import time\n",
    "import random\n",
    "import sys\n",
    "\n",
    "class Oyuncu():\n",
    "    def __init__(self, isim, can=1, enerji=6):\n",
    "        self.isim = isim\n",
    "        self.darbe = 0\n",
    "        self.can = can\n",
    "        self.enerji = enerji\n",
    "\n",
    "    def mevcut_durumu_görüntüle(self):\n",
    "        print('darbe: ', self.darbe)\n",
    "        print('can: ', self.can)\n",
    "        print('enerji: ', self.enerji)\n",
    "\n",
    "    def saldır(self, rakip):\n",
    "        print('Bir saldırı gerçekleştirdiniz.')\n",
    "        print('Saldırı sürüyor. Bekleyiniz.')\n",
    "\n",
    "        for i in range(1):\n",
    "            time.sleep(.3)\n",
    "            print('.', end='', flush=True)\n",
    "\n",
    "        sonuç = self.saldırı_sonucunu_hesapla() # bu fonksiyondan gelecek olan 0,1 veya 2 değerlerinden biri sonuç olacak.\n",
    "\n",
    "        if sonuç == 0:\n",
    "            print('\\nSONUÇ: kazanan taraf yok')\n",
    "\n",
    "        if sonuç == 1:\n",
    "            print('\\nSONUÇ: rakibinizi darbelediniz')\n",
    "            self.darbele(rakip)\n",
    "\n",
    "        if sonuç == 2:\n",
    "            print('\\nSONUÇ: rakibinizden darbe aldınız')\n",
    "            self.darbele(self)\n",
    "\n",
    "    def saldırı_sonucunu_hesapla(self):\n",
    "         return random.randint(0, 2)\n",
    "\n",
    "    def kaç(self):\n",
    "        print('Kaçılıyor...')\n",
    "        for i in range(10):\n",
    "            time.sleep(.3)\n",
    "            print('\\n', flush=True)\n",
    "\n",
    "        print('Rakibiniz sizi yakaladı')\n",
    "\n",
    "    def darbele(self, darbelenen):\n",
    "        darbelenen.darbe += 1\n",
    "        darbelenen.enerji -= 1\n",
    "        if (darbelenen.darbe % 5) == 0:\n",
    "            darbelenen.can -= 1\n",
    "        if darbelenen.can < 1:\n",
    "            darbelenen.enerji = 0\n",
    "            print('Oyunu {} kazandı!'.format(self.isim))\n",
    "            self.oyundan_çık()\n",
    "\n",
    "    def oyundan_çık(self):\n",
    "        print('Çıkılıyor...')\n",
    "        sys.exit()\n",
    "\n",
    "##################################\n",
    "\n",
    "# Oyuncular\n",
    "siz = Oyuncu('Ahmet')\n",
    "rakip = Oyuncu('Mehmet')\n",
    "\n",
    "# Oyun başlangıcı\n",
    "while True:\n",
    "    print('Şu anda rakibinizle karşı karşıyasınız.',\n",
    "          'Yapmak istediğiniz hamle: ',\n",
    "          'Saldır:  s',\n",
    "          'Kaç:     k',\n",
    "          'Çık:     q', sep='\\n')\n",
    "\n",
    "    hamle = input('\\n> ')\n",
    "    if hamle == 's':\n",
    "        siz.saldır(rakip)\n",
    "\n",
    "        print('Rakibinizin durumu')\n",
    "        rakip.mevcut_durumu_görüntüle()\n",
    "\n",
    "        print('Sizin durumunuz')\n",
    "        siz.mevcut_durumu_görüntüle()\n",
    "\n",
    "    if hamle == 'k':\n",
    "        siz.kaç()\n",
    "\n",
    "    if hamle == 'q':\n",
    "        siz.oyundan_çık()"
   ]
  },
  {
   "cell_type": "markdown",
   "metadata": {},
   "source": [
    "## Her Şey Bir Nesnedir"
   ]
  },
  {
   "cell_type": "markdown",
   "metadata": {},
   "source": [
    "Python'da (if, def, and, or gibi deyim ve işleçler hariç) Python’da her şey bir nesnedir. Peki her şeyin nesne olması tam olarak ne anlama geliyor?"
   ]
  },
  {
   "cell_type": "code",
   "execution_count": 3,
   "metadata": {},
   "outputs": [
    {
     "data": {
      "text/plain": [
       "'murat'"
      ]
     },
     "execution_count": 3,
     "metadata": {},
     "output_type": "execute_result"
    }
   ],
   "source": [
    "\"murat\" #stringi bir nesnedir... Çünkü str sınıfının bir örneğidir aslında."
   ]
  },
  {
   "cell_type": "code",
   "execution_count": 5,
   "metadata": {},
   "outputs": [
    {
     "name": "stdout",
     "output_type": "stream",
     "text": [
      "['__add__', '__class__', '__contains__', '__delattr__', '__dir__', '__doc__', '__eq__', '__format__', '__ge__', '__getattribute__', '__getitem__', '__getnewargs__', '__gt__', '__hash__', '__init__', '__init_subclass__', '__iter__', '__le__', '__len__', '__lt__', '__mod__', '__mul__', '__ne__', '__new__', '__reduce__', '__reduce_ex__', '__repr__', '__rmod__', '__rmul__', '__setattr__', '__sizeof__', '__str__', '__subclasshook__', 'capitalize', 'casefold', 'center', 'count', 'encode', 'endswith', 'expandtabs', 'find', 'format', 'format_map', 'index', 'isalnum', 'isalpha', 'isascii', 'isdecimal', 'isdigit', 'isidentifier', 'islower', 'isnumeric', 'isprintable', 'isspace', 'istitle', 'isupper', 'join', 'ljust', 'lower', 'lstrip', 'maketrans', 'partition', 'replace', 'rfind', 'rindex', 'rjust', 'rpartition', 'rsplit', 'rstrip', 'split', 'splitlines', 'startswith', 'strip', 'swapcase', 'title', 'translate', 'upper', 'zfill']\n"
     ]
    }
   ],
   "source": [
    "print(dir(\"murat\"),sep=\",\") #görüldüğü üzere str() veri tipinin bütün özelliklerini ve metodlarını taşıyor."
   ]
  },
  {
   "cell_type": "code",
   "execution_count": 6,
   "metadata": {},
   "outputs": [
    {
     "name": "stdout",
     "output_type": "stream",
     "text": [
      "['__abs__', '__add__', '__and__', '__bool__', '__ceil__', '__class__', '__delattr__', '__dir__', '__divmod__', '__doc__', '__eq__', '__float__', '__floor__', '__floordiv__', '__format__', '__ge__', '__getattribute__', '__getnewargs__', '__gt__', '__hash__', '__index__', '__init__', '__init_subclass__', '__int__', '__invert__', '__le__', '__lshift__', '__lt__', '__mod__', '__mul__', '__ne__', '__neg__', '__new__', '__or__', '__pos__', '__pow__', '__radd__', '__rand__', '__rdivmod__', '__reduce__', '__reduce_ex__', '__repr__', '__rfloordiv__', '__rlshift__', '__rmod__', '__rmul__', '__ror__', '__round__', '__rpow__', '__rrshift__', '__rshift__', '__rsub__', '__rtruediv__', '__rxor__', '__setattr__', '__sizeof__', '__str__', '__sub__', '__subclasshook__', '__truediv__', '__trunc__', '__xor__', 'bit_length', 'conjugate', 'denominator', 'from_bytes', 'imag', 'numerator', 'real', 'to_bytes']\n"
     ]
    }
   ],
   "source": [
    "print(dir(2),sep=\",\") # 2 sayısı bir nesnedir."
   ]
  },
  {
   "cell_type": "markdown",
   "metadata": {},
   "source": [
    "## Birinci sınıf öğeler"
   ]
  },
  {
   "cell_type": "markdown",
   "metadata": {},
   "source": [
    "Programlama dillerinde herhangi bir öğenin birinci sınıf bir öğe olması, o öğenin, dil içindeki herhangi bir değer ile aynı kabiliyetlere sahip olması anlamına gelir. Birinci sınıf(first class) kavramı aslında sosyolojideki ile çok benzer bir anlama gelmektedir. Yani örnek olarak gelişmiş bir toplumda kadınların toplumda birinci sınıf vatandaşlar olması kavramı, kadınların da erkeklerin sahip olduğu tüm hak ve özelliklere sahip olması gibi."
   ]
  },
  {
   "cell_type": "raw",
   "metadata": {},
   "source": [
    "Yani Python’daki sınıflar şu özelliklere sahiptir:\n",
    "\n",
    "Başka bir fonksiyona veya sınıfa parametre olarak atanabilirler\n",
    "Bir fonksiyondan döndürülebilirler\n",
    "Bir değişkene atanabilirler\n",
    "Yani, bir öğenin ‘birinci sınıf’ olması demek, dil içindeki başka öğelerle yapabildiğiniz her şeyi o öğeyle de yapabilmeniz demektir."
   ]
  },
  {
   "cell_type": "markdown",
   "metadata": {},
   "source": [
    "# Sınıf Üyeleri"
   ]
  },
  {
   "cell_type": "code",
   "execution_count": null,
   "metadata": {},
   "outputs": [],
   "source": []
  }
 ],
 "metadata": {
  "kernelspec": {
   "display_name": "Python 3",
   "language": "python",
   "name": "python3"
  },
  "language_info": {
   "codemirror_mode": {
    "name": "ipython",
    "version": 3
   },
   "file_extension": ".py",
   "mimetype": "text/x-python",
   "name": "python",
   "nbconvert_exporter": "python",
   "pygments_lexer": "ipython3",
   "version": "3.7.6"
  }
 },
 "nbformat": 4,
 "nbformat_minor": 2
}
