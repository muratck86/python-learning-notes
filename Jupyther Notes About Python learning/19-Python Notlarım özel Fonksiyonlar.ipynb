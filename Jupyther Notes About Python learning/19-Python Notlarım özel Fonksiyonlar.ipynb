{
 "cells": [
  {
   "cell_type": "markdown",
   "metadata": {},
   "source": [
    "# ÖZEL FONKSİYONLAR"
   ]
  },
  {
   "cell_type": "raw",
   "metadata": {},
   "source": [
    "Python'da hazır tanımlı bulunmayan, kendimizin tanımlayıp kullandığımız fonksiyonlara özel fonksiyon (custom function) denir."
   ]
  },
  {
   "cell_type": "markdown",
   "metadata": {},
   "source": [
    "# Fonksiyon Tanımlama"
   ]
  },
  {
   "cell_type": "code",
   "execution_count": 3,
   "metadata": {},
   "outputs": [
    {
     "name": "stdout",
     "output_type": "stream",
     "text": [
      "------------------------------\n",
      "isim           :  Fırat\n",
      "soyisim        :  Özgül\n",
      "işletim sistemi:  Ubuntu\n",
      "şehir          :  Ankara\n",
      "------------------------------\n"
     ]
    }
   ],
   "source": [
    "#def anahtarından sonra oluşturulacak fonksiyonun adı ve parantez içinde oluşturmak istediğimiz parametreleri yazıp \":\" koyduk\n",
    "def kayıt_oluştur(isim, soyisim, işlsis, şehir):\n",
    "    \n",
    "    print(\"-\"*30)\n",
    "    print(\"isim           : \", isim)\n",
    "    print(\"soyisim        : \", soyisim)\n",
    "    print(\"işletim sistemi: \", işlsis)\n",
    "    print(\"şehir          : \", şehir)\n",
    "    print(\"-\"*30)\n",
    "#girintili bir şekilde fonksiyonun yapacağı işlemleri tanımladık, parametreleri aynı değişkenleri kullanır gibi kullandık.    \n",
    "\n",
    "#Fonksiyonumuzu çağıralım:\n",
    "kayıt_oluştur(\"Fırat\",\"Özgül\",\"Ubuntu\",\"Ankara\")"
   ]
  },
  {
   "cell_type": "code",
   "execution_count": 1,
   "metadata": {},
   "outputs": [
    {
     "name": "stdout",
     "output_type": "stream",
     "text": [
      "\n",
      "Sistemde kurulu Python'ın;\n",
      "\tana sürüm numarası: 3\n",
      "\talt sürüm numarası: 7\n",
      "\tminik sürüm numarası: 6\n",
      "\n",
      "Kullanılan işletim sisteminin;\n",
      "\tadı: win32\n"
     ]
    }
   ],
   "source": [
    "#Başka bir örnek olarak, parametresiz bir fonksiyon tanımlayalım, \n",
    "#Bu fonsiyon bize bilgisayarımızda kurulu olan Python'a ait sürüm bilgilerini göstersin.\n",
    "def sistem_bilgisi_göster():\n",
    "    import sys\n",
    "    print(\"\\nSistemde kurulu Python'ın;\")\n",
    "    print(\"\\tana sürüm numarası:\", sys.version_info.major)\n",
    "    print(\"\\talt sürüm numarası:\", sys.version_info.minor)\n",
    "    print(\"\\tminik sürüm numarası:\", sys.version_info.micro)\n",
    "\n",
    "    print(\"\\nKullanılan işletim sisteminin;\")\n",
    "    print(\"\\tadı:\", sys.platform)\n",
    "    \n",
    "#şimdi de fonksiyonumuzu çağıralım:\n",
    "sistem_bilgisi_göster()"
   ]
  },
  {
   "cell_type": "markdown",
   "metadata": {},
   "source": [
    "# Parametre ve Argümanlar"
   ]
  },
  {
   "cell_type": "markdown",
   "metadata": {},
   "source": [
    "Parametreler fonksiyonlarda parantez içinde tanımladığımız ve fonksiyon işlevlerini yerine getirirken kullanacağımız değişkenlere denir. Argüman ise bu fonksiyonları çağırdığımızda bu parametrelere verdiğimiz değerlere denir."
   ]
  },
  {
   "cell_type": "code",
   "execution_count": 6,
   "metadata": {},
   "outputs": [
    {
     "name": "stdout",
     "output_type": "stream",
     "text": [
      "deneme.txt adlı dosya /home/belgeler/yedekler adlı dizin içine kopyalandı!\n"
     ]
    }
   ],
   "source": [
    "#Örnek olarak aşağıdaki fonksiyonda kaynak_dosya ve hedef_dizin fonksiyonun birer parametresidir.\n",
    "def kopyala(kaynak_dosya, hedef_dizin):\n",
    "    çıktı = \"{} adlı dosya {} adlı dizin içine kopyalandı!\"\n",
    "    print(çıktı.format(kaynak_dosya, hedef_dizin))\n",
    "\n",
    "#Fonksiyonu çağırırken parametrelere verdiğimiz \"deneme.txt\" ve \"\"/home/belgeler/yedekler\" de bu parametrelerin argümanıdır.\n",
    "kopyala(\"deneme.txt\", \"/home/belgeler/yedekler\")"
   ]
  },
  {
   "cell_type": "markdown",
   "metadata": {},
   "source": [
    "## Sıralı (isimsiz) parametreler"
   ]
  },
  {
   "cell_type": "markdown",
   "metadata": {},
   "source": [
    "Bir fonksiyonun parametrelerinin sırası önemli ise, yani çağırırken vereceğimiz argümanları da aynı sıraya göre girmediğimizde işlem hatalı oluyorsa bunlara sıralı (ya da isimsiz) parametreler denir."
   ]
  },
  {
   "cell_type": "code",
   "execution_count": 7,
   "metadata": {},
   "outputs": [
    {
     "name": "stdout",
     "output_type": "stream",
     "text": [
      "------------------------------\n",
      "isim           :  Murat Can\n",
      "soyisim        :  Kurt\n",
      "işletim sistemi:  Diyarbakır\n",
      "şehir          :  Windows\n",
      "------------------------------\n"
     ]
    }
   ],
   "source": [
    "#Örnek olarak burada tanımlı fonksiyonu çağırırken işletim sistemi ile şehirin sırasını yanlış yazarsak çıktı da yanlış olur.\n",
    "def kayıt_oluştur(isim, soyisim, işlsis, şehir):\n",
    "    print(\"-\"*30)\n",
    "\n",
    "    print(\"isim           : \", isim)\n",
    "    print(\"soyisim        : \", soyisim)\n",
    "    print(\"işletim sistemi: \", işlsis)\n",
    "    print(\"şehir          : \", şehir)\n",
    "\n",
    "    print(\"-\"*30)\n",
    "kayıt_oluştur(\"Murat Can\",\"Kurt\",\"Diyarbakır\",\"Windows\")"
   ]
  },
  {
   "cell_type": "markdown",
   "metadata": {},
   "source": [
    "## İsimli parametreler"
   ]
  },
  {
   "cell_type": "markdown",
   "metadata": {},
   "source": [
    "Özellikle parametre sayısı fazla olan fonksiyonlarda sıralamayı akılda tutumak zor olabilir ya da hata ihtimali artar. Bu nedenle istersek parametreleri isimli kullanabiliriz. Bu durumda sıralamanın bir önemi kalmayacaktır."
   ]
  },
  {
   "cell_type": "code",
   "execution_count": 9,
   "metadata": {},
   "outputs": [
    {
     "name": "stdout",
     "output_type": "stream",
     "text": [
      "------------------------------\n",
      "isim           :  Murat Can\n",
      "soyisim        :  Kurt\n",
      "işletim sistemi:  Windows\n",
      "şehir          :  Diyarbakır\n",
      "------------------------------\n"
     ]
    }
   ],
   "source": [
    "def kayıt_oluştur(isim, soyisim, işlsis, şehir):\n",
    "    print(\"-\"*30)\n",
    "\n",
    "    print(\"isim           : \", isim)\n",
    "    print(\"soyisim        : \", soyisim)\n",
    "    print(\"işletim sistemi: \", işlsis)\n",
    "    print(\"şehir          : \", şehir)\n",
    "\n",
    "    print(\"-\"*30)\n",
    "kayıt_oluştur(isim=\"Murat Can\",şehir=\"Diyarbakır\",soyisim=\"Kurt\",işlsis=\"Windows\")"
   ]
  },
  {
   "cell_type": "markdown",
   "metadata": {},
   "source": [
    "## Varsayılan Değerli Parametreler"
   ]
  },
  {
   "cell_type": "markdown",
   "metadata": {},
   "source": [
    "Eğer bir parametrenin varsayılan değeri yoksa, parametrelere eksik argüman verildiğinde program hata verir. İstersek parametrelere varsayılan değerler vererek fonksiyonları sadece istediğimiz parametrelerle çağırabiliriz. Bu durumda fonksiyon argüman girmediğimiz parametreyi varsayılan argümanla kullanacaktır."
   ]
  },
  {
   "cell_type": "code",
   "execution_count": 10,
   "metadata": {},
   "outputs": [
    {
     "ename": "TypeError",
     "evalue": "kayıt_oluştur() missing 1 required positional argument: 'şehir'",
     "output_type": "error",
     "traceback": [
      "\u001b[1;31m---------------------------------------------------------------------------\u001b[0m",
      "\u001b[1;31mTypeError\u001b[0m                                 Traceback (most recent call last)",
      "\u001b[1;32m<ipython-input-10-946372a30d39>\u001b[0m in \u001b[0;36m<module>\u001b[1;34m\u001b[0m\n\u001b[0;32m      9\u001b[0m \u001b[1;33m\u001b[0m\u001b[0m\n\u001b[0;32m     10\u001b[0m     \u001b[0mprint\u001b[0m\u001b[1;33m(\u001b[0m\u001b[1;34m\"-\"\u001b[0m\u001b[1;33m*\u001b[0m\u001b[1;36m30\u001b[0m\u001b[1;33m)\u001b[0m\u001b[1;33m\u001b[0m\u001b[1;33m\u001b[0m\u001b[0m\n\u001b[1;32m---> 11\u001b[1;33m \u001b[0mkayıt_oluştur\u001b[0m\u001b[1;33m(\u001b[0m\u001b[0misim\u001b[0m\u001b[1;33m=\u001b[0m\u001b[1;34m\"Murat Can\"\u001b[0m\u001b[1;33m,\u001b[0m\u001b[0msoyisim\u001b[0m\u001b[1;33m=\u001b[0m\u001b[1;34m\"Kurt\"\u001b[0m\u001b[1;33m,\u001b[0m\u001b[0mişlsis\u001b[0m\u001b[1;33m=\u001b[0m\u001b[1;34m\"Windows\"\u001b[0m\u001b[1;33m)\u001b[0m\u001b[1;33m\u001b[0m\u001b[1;33m\u001b[0m\u001b[0m\n\u001b[0m",
      "\u001b[1;31mTypeError\u001b[0m: kayıt_oluştur() missing 1 required positional argument: 'şehir'"
     ]
    }
   ],
   "source": [
    "#Örnek olarak bu fonksiyonumuzu şehir bilgisi girmeden çağıralım\n",
    "def kayıt_oluştur(isim, soyisim, işlsis, şehir):\n",
    "    print(\"-\"*30)\n",
    "\n",
    "    print(\"isim           : \", isim)\n",
    "    print(\"soyisim        : \", soyisim)\n",
    "    print(\"işletim sistemi: \", işlsis)\n",
    "    print(\"şehir          : \", şehir)\n",
    "\n",
    "    print(\"-\"*30)\n",
    "kayıt_oluştur(isim=\"Murat Can\",soyisim=\"Kurt\",işlsis=\"Windows\")"
   ]
  },
  {
   "cell_type": "markdown",
   "metadata": {},
   "source": [
    "Görüldüğü gibi 1 argüman eksik diye hata verdi."
   ]
  },
  {
   "cell_type": "code",
   "execution_count": 11,
   "metadata": {},
   "outputs": [
    {
     "name": "stdout",
     "output_type": "stream",
     "text": [
      "------------------------------\n",
      "isim           :  Murat Can\n",
      "soyisim        :  Kurt\n",
      "işletim sistemi:  Bilgi Yok\n",
      "şehir          :  Bilgi Yok\n",
      "------------------------------\n"
     ]
    }
   ],
   "source": [
    "def kayıt_oluştur(isim=\"Bilgi Yok\", soyisim=\"Bilgi Yok\", işlsis=\"Bilgi Yok\", şehir=\"Bilgi Yok\"):\n",
    "    print(\"-\"*30)\n",
    "\n",
    "    print(\"isim           : \", isim)\n",
    "    print(\"soyisim        : \", soyisim)\n",
    "    print(\"işletim sistemi: \", işlsis)\n",
    "    print(\"şehir          : \", şehir)\n",
    "\n",
    "    print(\"-\"*30)\n",
    "kayıt_oluştur(isim=\"Murat Can\",soyisim=\"Kurt\")"
   ]
  },
  {
   "cell_type": "markdown",
   "metadata": {},
   "source": [
    "## Esnek sayıda isimsiz parametre belirleme"
   ]
  },
  {
   "cell_type": "markdown",
   "metadata": {},
   "source": [
    "Fonksiyonumuza kaç argüman verileceği belli değilse esnek sayıda parametre tanımlamak için başına * koyarız."
   ]
  },
  {
   "cell_type": "code",
   "execution_count": 14,
   "metadata": {},
   "outputs": [
    {
     "name": "stdout",
     "output_type": "stream",
     "text": [
      "(1, 2, 3, 4, 5)\n",
      "(1, 'Murat')\n"
     ]
    }
   ],
   "source": [
    "#örnek olarak kaç tane argüman girilirse onu yazdıran bir fonksiyon tanımlayalım.\n",
    "def fonksiyon(*parametreler):\n",
    "    print(parametreler)\n",
    "\n",
    "fonksiyon(1, 2, 3, 4, 5)\n",
    "fonksiyon(1,\"Murat\")"
   ]
  },
  {
   "cell_type": "code",
   "execution_count": 24,
   "metadata": {},
   "outputs": [
    {
     "name": "stdout",
     "output_type": "stream",
     "text": [
      "36\n",
      "0\n"
     ]
    }
   ],
   "source": [
    "def carpım(*sayılar):\n",
    "    sonuç=1\n",
    "    for i in sayılar:\n",
    "        sonuç*=i\n",
    "    print(sonuç)\n",
    "carpım(2,3,6)\n",
    "carpım(0,3,567)"
   ]
  },
  {
   "cell_type": "markdown",
   "metadata": {},
   "source": [
    "## Esnek sayıda isimli parametre belirleme"
   ]
  },
  {
   "cell_type": "markdown",
   "metadata": {},
   "source": [
    "Yine benzer şekilde değişken sayıda isimli parametre de belirleyebiliriz. Bunun için fonksiyon tanımında parametrenin başına ** koyarız."
   ]
  },
  {
   "cell_type": "code",
   "execution_count": 5,
   "metadata": {},
   "outputs": [
    {
     "name": "stdout",
     "output_type": "stream",
     "text": [
      "{'isim': 'Murat Can', 'Şehir': 'Diyarbakır', 'Meslek': 'Mühendis'}\n"
     ]
    }
   ],
   "source": [
    "#görüleceği üzere bu durumda parametreler sözlük olarak saklanmaktadır.\n",
    "def kayıt(**bilgiler):\n",
    "    print(bilgiler)\n",
    "kayıt(isim=\"Murat Can\",Şehir=\"Diyarbakır\",Meslek=\"Mühendis\")"
   ]
  },
  {
   "cell_type": "code",
   "execution_count": 2,
   "metadata": {},
   "outputs": [
    {
     "name": "stdout",
     "output_type": "stream",
     "text": [
      "------------------------------\n",
      "ad        : Murat Can\n",
      "soyad     : Kurt\n",
      "şehir     : Antalya\n",
      "yaş       : 33\n",
      "meslek    : İnşaat Mühendisi\n",
      "tel       : 05333213232\n",
      "------------------------------\n"
     ]
    }
   ],
   "source": [
    "def kayıt_oluştur(**bilgiler):\n",
    "    print(\"-\"*30)\n",
    "\n",
    "    for anahtar, değer in bilgiler.items():\n",
    "        print(\"{:<10}: {}\".format(anahtar, değer))\n",
    "\n",
    "    print(\"-\"*30)\n",
    "\n",
    "kayıt_oluştur(ad=\"Murat Can\", soyad=\"Kurt\", şehir=\"Antalya\",yaş=\"33\",meslek=\"İnşaat Mühendisi\", tel=\"05333213232\")"
   ]
  },
  {
   "cell_type": "markdown",
   "metadata": {},
   "source": [
    "##### tek yıldızlı ifadeler args olarak adlandırılıyor, çift yıldızlı ifadeler ise kwargs olarak adlandırılıyor."
   ]
  },
  {
   "cell_type": "code",
   "execution_count": 10,
   "metadata": {},
   "outputs": [
    {
     "name": "stdout",
     "output_type": "stream",
     "text": [
      "kitap = book\n",
      "bilgisayar = computer\n",
      "programlama = programming\n",
      "fonksiyon kelimesi sözlükte yok!\n"
     ]
    }
   ],
   "source": [
    "def karşılık_bul(*args, **kwargs):\n",
    "    for sözcük in args:\n",
    "        if sözcük in kwargs:\n",
    "            print(\"{} = {}\".format(sözcük, kwargs[sözcük]))\n",
    "        else:\n",
    "            print(\"{} kelimesi sözlükte yok!\".format(sözcük))\n",
    "\n",
    "\n",
    "sözlük = {\"kitap\"      : \"book\",\n",
    "          \"bilgisayar\" : \"computer\",\n",
    "          \"programlama\": \"programming\"}\n",
    "\n",
    "karşılık_bul(\"kitap\", \"bilgisayar\", \"programlama\", \"fonksiyon\",**sözlük)"
   ]
  },
  {
   "cell_type": "markdown",
   "metadata": {},
   "source": [
    "Şimdi print fonksiyonuna alternatif, print() fonksiyonu ile birebir aynı işi yapan ama start adlı isimli bir parametre sayesinde yazdırılacak şeyin başına istediğimiz karakteri koyan bir fonksiyon yazalım. Bu fonksiyonumuza yazdir() fonksiyonu diyelim:"
   ]
  },
  {
   "cell_type": "code",
   "execution_count": 40,
   "metadata": {
    "scrolled": true
   },
   "outputs": [
    {
     "name": "stdout",
     "output_type": "stream",
     "text": [
      "---Murat---\t---Can---\t---Kurt---\t"
     ]
    }
   ],
   "source": [
    "def yazdir(*ögeler, start='',**digerleri):\n",
    "    for öğe in ögeler:\n",
    "        print(start+öğe,**digerleri)\n",
    "\n",
    "yazdir(\"Murat\",\"Can\",\"Kurt\",start=\"---\",end=\"---\\t\")"
   ]
  },
  {
   "cell_type": "code",
   "execution_count": 36,
   "metadata": {},
   "outputs": [
    {
     "name": "stdout",
     "output_type": "stream",
     "text": [
      "#.öğe1\n",
      "#.öğe2\n",
      "#.öğe3\n"
     ]
    }
   ],
   "source": [
    "def bas(*args, start='', **kwargs):\n",
    "    for öğe in args:\n",
    "        print(start+öğe, **kwargs)\n",
    "\n",
    "bas('öğe1', 'öğe2', 'öğe3', start=\"#.\")"
   ]
  },
  {
   "cell_type": "markdown",
   "metadata": {},
   "source": [
    "Aynı örneği **kwargs kullanmadan yapmak isteseydik, print() fonksiyonunun bütün isimli parametrelerini yeniden tanımlamamız gerekirdi"
   ]
  },
  {
   "cell_type": "code",
   "execution_count": 42,
   "metadata": {},
   "outputs": [],
   "source": [
    "import sys\n",
    "\n",
    "def yazdir(*args, start='', sep=' ', end='\\n', file=sys.stdout, flush=False):\n",
    "    for öğe in args:\n",
    "        print(start+öğe, sep=sep, end=end, file=file, flush=flush)"
   ]
  },
  {
   "cell_type": "markdown",
   "metadata": {},
   "source": [
    "print() fonksiyonunun bütün isimli parametrelerini tek tek tanımladık, bu kodu uzun süre kullanacağımızı düşünelim, eğer bir gün Python geliştiricileri print() fonksiyonuna yeni bir parametre ekleyecek olurlarsa bu kodu yeniden düzenlememiz gerekir. Ama **kwargs kullanmış olsaydık buna gerek kalmazdı."
   ]
  },
  {
   "cell_type": "markdown",
   "metadata": {},
   "source": [
    "## return Deyimi"
   ]
  },
  {
   "cell_type": "code",
   "execution_count": 52,
   "metadata": {},
   "outputs": [
    {
     "name": "stdout",
     "output_type": "stream",
     "text": [
      "ismin ne? Murat\n",
      "Murat\n"
     ]
    }
   ],
   "source": [
    "def ismin_ne():\n",
    "    isim = input(\"ismin ne? \")\n",
    "    print(isim)\n",
    "ismin_ne()"
   ]
  },
  {
   "cell_type": "code",
   "execution_count": 55,
   "metadata": {},
   "outputs": [
    {
     "name": "stdout",
     "output_type": "stream",
     "text": [
      "ismin ne? Murat\n",
      "Murat\n"
     ]
    },
    {
     "ename": "TypeError",
     "evalue": "object of type 'NoneType' has no len()",
     "output_type": "error",
     "traceback": [
      "\u001b[1;31m---------------------------------------------------------------------------\u001b[0m",
      "\u001b[1;31mTypeError\u001b[0m                                 Traceback (most recent call last)",
      "\u001b[1;32m<ipython-input-55-33a9da5d0efb>\u001b[0m in \u001b[0;36m<module>\u001b[1;34m\u001b[0m\n\u001b[1;32m----> 1\u001b[1;33m \u001b[0mprint\u001b[0m\u001b[1;33m(\u001b[0m\u001b[1;34m\"Girilen isim {} harfli bir isimdir.\"\u001b[0m\u001b[1;33m.\u001b[0m\u001b[0mformat\u001b[0m\u001b[1;33m(\u001b[0m\u001b[0mlen\u001b[0m\u001b[1;33m(\u001b[0m\u001b[0mismin_ne\u001b[0m\u001b[1;33m(\u001b[0m\u001b[1;33m)\u001b[0m\u001b[1;33m)\u001b[0m\u001b[1;33m)\u001b[0m\u001b[1;33m)\u001b[0m\u001b[1;33m\u001b[0m\u001b[1;33m\u001b[0m\u001b[0m\n\u001b[0m",
      "\u001b[1;31mTypeError\u001b[0m: object of type 'NoneType' has no len()"
     ]
    }
   ],
   "source": [
    "print(\"Girilen isim {} harfli bir isimdir.\".format(len(ismin_ne())))"
   ]
  },
  {
   "cell_type": "markdown",
   "metadata": {},
   "source": [
    "Görüldüğü gibi fonksiyonumuzu başka bir yerde kullanamıyoruz, bu fonksiyon sadece aldığı ismi ekrana yazdırmaya yarıyor."
   ]
  },
  {
   "cell_type": "raw",
   "metadata": {},
   "source": [
    "Yukarıdaki fonksiyonun tek amacı kullanıcıdan aldığı kelimeyi(ismi?) ekrana yazdırmaktır. Ama biz fonksiyonlarımızda her zaman ekrana yazdırılacak bir çıktı ismeyebiliriz. Bir fonksiyonun çıktısını başka bir yerde kullanmak, bir değişkene atamak, başka bir fonksiyon çağırırken argüman olarak kullanmak vs. isteyebiliriz. işte bu işi return ile yapıyoruz."
   ]
  },
  {
   "cell_type": "code",
   "execution_count": 56,
   "metadata": {},
   "outputs": [
    {
     "name": "stdout",
     "output_type": "stream",
     "text": [
      "ismin ne? Murat\n",
      "Girilen isim 5 harfli bir isimdir.\n"
     ]
    }
   ],
   "source": [
    "#Aynı fonksiyonu bir de return ile yazalım:\n",
    "def ismin_ne():\n",
    "    isim = input(\"ismin ne? \")\n",
    "    return isim\n",
    "print(\"Girilen isim {} harfli bir isimdir.\".format(len(ismin_ne())))"
   ]
  },
  {
   "cell_type": "code",
   "execution_count": 64,
   "metadata": {},
   "outputs": [
    {
     "name": "stdout",
     "output_type": "stream",
     "text": [
      "sayıyı girin:-2\n",
      "eksi değerli sayı olmaz!\n"
     ]
    }
   ],
   "source": [
    "#bir fonksiyonda işlemler sırasında return deyimiyle karşılaşıldığı anda fonksiyon durur, sonraki hiçbir satır işlemez:\n",
    "def fonk():\n",
    "    n=int(input(\"sayıyı girin:\"))\n",
    "    if n < 0:\n",
    "        return 'eksi değerli sayı olmaz!'\n",
    "    else:\n",
    "        return n\n",
    "print(fonk())"
   ]
  },
  {
   "cell_type": "markdown",
   "metadata": {},
   "source": [
    "#### random modülü ile belirli bir aralıkta ve belirli sayıda rastgele sayı üreten bir fonksiyon yazalım"
   ]
  },
  {
   "cell_type": "code",
   "execution_count": 68,
   "metadata": {},
   "outputs": [],
   "source": [
    "import random\n",
    "\n",
    "def sayı_üret(başlangıç=0, bitiş=500, adet=6):\n",
    "    sayılar = set() #set= küme, sayılar adlı bir küme tanımladık.\n",
    "\n",
    "    while len(sayılar) < adet:\n",
    "        sayılar.add(random.randrange(başlangıç, bitiş)) # Kümelerin add metodu\n",
    "\n",
    "    return sayılar"
   ]
  },
  {
   "cell_type": "code",
   "execution_count": 69,
   "metadata": {},
   "outputs": [
    {
     "data": {
      "text/plain": [
       "{26, 98, 231, 292, 363, 376}"
      ]
     },
     "execution_count": 69,
     "metadata": {},
     "output_type": "execute_result"
    }
   ],
   "source": [
    "sayı_üret()"
   ]
  },
  {
   "cell_type": "code",
   "execution_count": 70,
   "metadata": {},
   "outputs": [
    {
     "data": {
      "text/plain": [
       "{461, 467, 470, 475, 489, 499}"
      ]
     },
     "execution_count": 70,
     "metadata": {},
     "output_type": "execute_result"
    }
   ],
   "source": [
    "sayı_üret(başlangıç=450)"
   ]
  },
  {
   "cell_type": "code",
   "execution_count": 72,
   "metadata": {},
   "outputs": [
    {
     "data": {
      "text/plain": [
       "{54, 69, 113, 125, 128, 129, 130, 135, 148, 161}"
      ]
     },
     "execution_count": 72,
     "metadata": {},
     "output_type": "execute_result"
    }
   ],
   "source": [
    "sayı_üret(bitiş=200,adet=10)"
   ]
  },
  {
   "cell_type": "markdown",
   "metadata": {},
   "source": [
    "## Fonksiyonların kapsamı ve global deyimi"
   ]
  },
  {
   "cell_type": "markdown",
   "metadata": {},
   "source": [
    "Python'da değişkenlerin, fonksiyonların ve sınıfların bir kapsamı vardır. Bu kapsama isim alanı (name space) denir. Bir fonksiyonun içinde tanımladığımız bir değişken lokal bir değişkendir ve sadece o fonksiyonun içinde varlığını sürdürür, fonksiyon dışında yok olur. Hatta fonksiyon dışında aynı isimde bir değişken olsa bile bunlar birbirlerine karışmazlar."
   ]
  },
  {
   "cell_type": "code",
   "execution_count": 74,
   "metadata": {},
   "outputs": [
    {
     "name": "stdout",
     "output_type": "stream",
     "text": [
      "fonksiyon içindeki x:  1\n",
      "fonksiyon dışındaki x:  0\n"
     ]
    }
   ],
   "source": [
    "x = 0\n",
    "\n",
    "def fonk():\n",
    "    x = 1\n",
    "    return x\n",
    "\n",
    "print('fonksiyon içindeki x: ', fonk())\n",
    "print('fonksiyon dışındaki x: ', x)"
   ]
  },
  {
   "cell_type": "markdown",
   "metadata": {},
   "source": [
    "Ancak fonksiyon içinde bir değişken tanımlamıyorsak, fonksyion dışında yani global isim alanında bir değişkeni kullanıyorsak o zaman fonksiyon içinden bu değişken üzerinde değişiklik yapabiliriz, tabi eğer değiştirilebilen türde bir veri tipindeyse.\n",
    "Bir fonksiyon içinde bir değişkenle işlem yapmak istediğimizde, python önce fonksiyon içinde lokal değişken olup olmadığına bakar, eğer lokal değişken yoksa o zaman global değişken üzerinde işlem yürütür."
   ]
  },
  {
   "cell_type": "code",
   "execution_count": 73,
   "metadata": {},
   "outputs": [
    {
     "name": "stdout",
     "output_type": "stream",
     "text": [
      "x'in ilk hali: []\n",
      "x'i değiştiriyoruz...\n",
      "x'in son hali:  [1]\n"
     ]
    }
   ],
   "source": [
    "x = []\n",
    "print('x\\'in ilk hali:', x)\n",
    "\n",
    "def değiştir():\n",
    "    print('x\\'i değiştiriyoruz...')\n",
    "    x.append(1)\n",
    "    return x\n",
    "\n",
    "değiştir()\n",
    "print('x\\'in son hali: ', x)"
   ]
  },
  {
   "cell_type": "markdown",
   "metadata": {},
   "source": [
    "Tüm bunlara rağmen fonksiyon dışında var olan bir değişkeni yani global bir değişkeni fonksiyon içinde \"yeniden\" tanımlayamayız. Aşağıdaki örneklerden de anlaşılacağı gibi:"
   ]
  },
  {
   "cell_type": "code",
   "execution_count": 76,
   "metadata": {
    "scrolled": true
   },
   "outputs": [
    {
     "ename": "UnboundLocalError",
     "evalue": "local variable 'isim' referenced before assignment",
     "output_type": "error",
     "traceback": [
      "\u001b[1;31m---------------------------------------------------------------------------\u001b[0m",
      "\u001b[1;31mUnboundLocalError\u001b[0m                         Traceback (most recent call last)",
      "\u001b[1;32m<ipython-input-76-f2f69ffbe19d>\u001b[0m in \u001b[0;36m<module>\u001b[1;34m\u001b[0m\n\u001b[0;32m      5\u001b[0m     \u001b[1;32mreturn\u001b[0m \u001b[0misim\u001b[0m\u001b[1;33m\u001b[0m\u001b[1;33m\u001b[0m\u001b[0m\n\u001b[0;32m      6\u001b[0m \u001b[1;33m\u001b[0m\u001b[0m\n\u001b[1;32m----> 7\u001b[1;33m \u001b[0mprint\u001b[0m\u001b[1;33m(\u001b[0m\u001b[0mfonk\u001b[0m\u001b[1;33m(\u001b[0m\u001b[1;33m)\u001b[0m\u001b[1;33m)\u001b[0m\u001b[1;33m\u001b[0m\u001b[1;33m\u001b[0m\u001b[0m\n\u001b[0m",
      "\u001b[1;32m<ipython-input-76-f2f69ffbe19d>\u001b[0m in \u001b[0;36mfonk\u001b[1;34m()\u001b[0m\n\u001b[0;32m      2\u001b[0m \u001b[1;33m\u001b[0m\u001b[0m\n\u001b[0;32m      3\u001b[0m \u001b[1;32mdef\u001b[0m \u001b[0mfonk\u001b[0m\u001b[1;33m(\u001b[0m\u001b[1;33m)\u001b[0m\u001b[1;33m:\u001b[0m\u001b[1;33m\u001b[0m\u001b[1;33m\u001b[0m\u001b[0m\n\u001b[1;32m----> 4\u001b[1;33m     \u001b[0misim\u001b[0m \u001b[1;33m+=\u001b[0m \u001b[1;34m' Özgül'\u001b[0m\u001b[1;33m\u001b[0m\u001b[1;33m\u001b[0m\u001b[0m\n\u001b[0m\u001b[0;32m      5\u001b[0m     \u001b[1;32mreturn\u001b[0m \u001b[0misim\u001b[0m\u001b[1;33m\u001b[0m\u001b[1;33m\u001b[0m\u001b[0m\n\u001b[0;32m      6\u001b[0m \u001b[1;33m\u001b[0m\u001b[0m\n",
      "\u001b[1;31mUnboundLocalError\u001b[0m: local variable 'isim' referenced before assignment"
     ]
    }
   ],
   "source": [
    "isim = 'Fırat'\n",
    "\n",
    "def fonk():\n",
    "    isim += ' Özgül'\n",
    "    return isim\n",
    "\n",
    "print(fonk())"
   ]
  },
  {
   "cell_type": "markdown",
   "metadata": {},
   "source": [
    "Buradaki hata mesajında, isim local değişkenine tanımlanmadan önce atıfta bulunulmuş denilmekte. Yani fonksiyon içinde bir değişken tanımlamadığımız zaman bu bir lokal değişkendir, bu tip bir \"yeniden\" tanımlama zaten var olan bir değişken gerektirir ancak böyle bir lokal değişken yoktur..."
   ]
  },
  {
   "cell_type": "code",
   "execution_count": 77,
   "metadata": {},
   "outputs": [
    {
     "ename": "UnboundLocalError",
     "evalue": "local variable 'isim_listesi' referenced before assignment",
     "output_type": "error",
     "traceback": [
      "\u001b[1;31m---------------------------------------------------------------------------\u001b[0m",
      "\u001b[1;31mUnboundLocalError\u001b[0m                         Traceback (most recent call last)",
      "\u001b[1;32m<ipython-input-77-f4cd6154d468>\u001b[0m in \u001b[0;36m<module>\u001b[1;34m\u001b[0m\n\u001b[0;32m      5\u001b[0m     \u001b[1;32mreturn\u001b[0m \u001b[0misim_listesi\u001b[0m\u001b[1;33m\u001b[0m\u001b[1;33m\u001b[0m\u001b[0m\n\u001b[0;32m      6\u001b[0m \u001b[1;33m\u001b[0m\u001b[0m\n\u001b[1;32m----> 7\u001b[1;33m \u001b[0mprint\u001b[0m\u001b[1;33m(\u001b[0m\u001b[0mfonk\u001b[0m\u001b[1;33m(\u001b[0m\u001b[1;33m)\u001b[0m\u001b[1;33m)\u001b[0m\u001b[1;33m\u001b[0m\u001b[1;33m\u001b[0m\u001b[0m\n\u001b[0m",
      "\u001b[1;32m<ipython-input-77-f4cd6154d468>\u001b[0m in \u001b[0;36mfonk\u001b[1;34m()\u001b[0m\n\u001b[0;32m      2\u001b[0m \u001b[1;33m\u001b[0m\u001b[0m\n\u001b[0;32m      3\u001b[0m \u001b[1;32mdef\u001b[0m \u001b[0mfonk\u001b[0m\u001b[1;33m(\u001b[0m\u001b[1;33m)\u001b[0m\u001b[1;33m:\u001b[0m\u001b[1;33m\u001b[0m\u001b[1;33m\u001b[0m\u001b[0m\n\u001b[1;32m----> 4\u001b[1;33m     \u001b[0misim_listesi\u001b[0m \u001b[1;33m+=\u001b[0m \u001b[1;33m[\u001b[0m\u001b[1;34m'Fırat Özgül'\u001b[0m\u001b[1;33m,\u001b[0m \u001b[1;34m'Orçun Kunek'\u001b[0m\u001b[1;33m]\u001b[0m\u001b[1;33m\u001b[0m\u001b[1;33m\u001b[0m\u001b[0m\n\u001b[0m\u001b[0;32m      5\u001b[0m     \u001b[1;32mreturn\u001b[0m \u001b[0misim_listesi\u001b[0m\u001b[1;33m\u001b[0m\u001b[1;33m\u001b[0m\u001b[0m\n\u001b[0;32m      6\u001b[0m \u001b[1;33m\u001b[0m\u001b[0m\n",
      "\u001b[1;31mUnboundLocalError\u001b[0m: local variable 'isim_listesi' referenced before assignment"
     ]
    }
   ],
   "source": [
    "isim_listesi = []\n",
    "\n",
    "def fonk():\n",
    "    isim_listesi += ['Fırat Özgül', 'Orçun Kunek']\n",
    "    return isim_listesi\n",
    "\n",
    "print(fonk())"
   ]
  },
  {
   "cell_type": "markdown",
   "metadata": {},
   "source": [
    "Bir fonksiyon içinde bir global değişkeni yeniden tanımlayarak üzerinde değişiklikler yapmak her ne kadar kaçınılması gereken bir tercihse de, bunu yapmanın yolu global deyimini kullanmaktır."
   ]
  },
  {
   "cell_type": "code",
   "execution_count": 82,
   "metadata": {},
   "outputs": [
    {
     "name": "stdout",
     "output_type": "stream",
     "text": [
      "['Fırat Özgül', 'Orçun Kunek']\n"
     ]
    }
   ],
   "source": [
    "isim_listesi = []\n",
    "\n",
    "def fonk():\n",
    "    global isim_listesi #değişkene atıfta bulunmadan önce global deyimini kullandık\n",
    "    isim_listesi += ['Fırat Özgül', 'Orçun Kunek']\n",
    "    return isim_listesi\n",
    "\n",
    "fonk()\n",
    "\n",
    "print(isim_listesi)"
   ]
  },
  {
   "cell_type": "code",
   "execution_count": null,
   "metadata": {},
   "outputs": [],
   "source": []
  }
 ],
 "metadata": {
  "kernelspec": {
   "display_name": "Python 3",
   "language": "python",
   "name": "python3"
  },
  "language_info": {
   "codemirror_mode": {
    "name": "ipython",
    "version": 3
   },
   "file_extension": ".py",
   "mimetype": "text/x-python",
   "name": "python",
   "nbconvert_exporter": "python",
   "pygments_lexer": "ipython3",
   "version": "3.7.6"
  }
 },
 "nbformat": 4,
 "nbformat_minor": 2
}
