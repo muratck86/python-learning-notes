{
 "cells": [
  {
   "cell_type": "markdown",
   "metadata": {},
   "source": [
    "# İşleçler (Operatörler) "
   ]
  },
  {
   "cell_type": "markdown",
   "metadata": {},
   "source": [
    "İngilizce’de operator adı verilen işleçler, sağında ve solunda bulunan değerler arasında bir ilişki kuran işaretlerdir. Bir işlecin sağında ve solunda bulunan değerlere ise işlenen (operand) adı veriyoruz."
   ]
  },
  {
   "cell_type": "markdown",
   "metadata": {},
   "source": [
    "## Aritmetik işleçler"
   ]
  },
  {
   "cell_type": "raw",
   "metadata": {},
   "source": [
    "+  topla\n",
    "-  çıkar\n",
    "*  çarp\n",
    "/  böl\n",
    "** kuvvet\n",
    "// bölüm (taban bölme)\n",
    "%  kalan (modülüs)"
   ]
  },
  {
   "cell_type": "markdown",
   "metadata": {},
   "source": [
    "Ancak burada + ve * işlecinin ayrıca bir görevi daha vardır. İşlenenler, yani opreand dediğimiz veriler sayısal değilse \"+\" işleci birleştirme anlamına gelirken, \"*\" işleci de tekrar anlamına gelir."
   ]
  },
  {
   "cell_type": "code",
   "execution_count": 2,
   "metadata": {},
   "outputs": [
    {
     "data": {
      "text/plain": [
       "'muratcankurt'"
      ]
     },
     "execution_count": 2,
     "metadata": {},
     "output_type": "execute_result"
    }
   ],
   "source": [
    "\"murat\" + \"can\" + \"kurt\""
   ]
  },
  {
   "cell_type": "code",
   "execution_count": 3,
   "metadata": {},
   "outputs": [
    {
     "data": {
      "text/plain": [
       "'muratmuratmuratmuratmurat'"
      ]
     },
     "execution_count": 3,
     "metadata": {},
     "output_type": "execute_result"
    }
   ],
   "source": [
    "\"murat\"*5"
   ]
  },
  {
   "cell_type": "markdown",
   "metadata": {},
   "source": [
    "### round() fonksiyonu"
   ]
  },
  {
   "cell_type": "markdown",
   "metadata": {},
   "source": [
    "Bu fonksiyon float sayıları yuvarlamaya yarar. İki parametre alır, birincisi yuvarlanacak sayı, ikincisi ise noktadan sonra kaç basamak olacağını belirtmek içindir."
   ]
  },
  {
   "cell_type": "code",
   "execution_count": 6,
   "metadata": {},
   "outputs": [
    {
     "data": {
      "text/plain": [
       "123"
      ]
     },
     "execution_count": 6,
     "metadata": {},
     "output_type": "execute_result"
    }
   ],
   "source": [
    "round(122.8872)"
   ]
  },
  {
   "cell_type": "code",
   "execution_count": 7,
   "metadata": {},
   "outputs": [
    {
     "data": {
      "text/plain": [
       "122.89"
      ]
     },
     "execution_count": 7,
     "metadata": {},
     "output_type": "execute_result"
    }
   ],
   "source": [
    "round(122.8872,2)"
   ]
  },
  {
   "cell_type": "markdown",
   "metadata": {},
   "source": [
    "### pow() Bu fonksiyon ise kuvvet almak ve kuvvetin bir sayıya bölümünden kalanı bulmak içindir."
   ]
  },
  {
   "cell_type": "markdown",
   "metadata": {},
   "source": [
    "Bu fonksiyon 3 parametre alır, 1. parametre kuvveti alınacak sayı, 2. parametre kuvvet, 3. parametre ise kuvveti hesaplanan sonucu 3. parametreye bölüp kalanı verir."
   ]
  },
  {
   "cell_type": "raw",
   "metadata": {},
   "source": [
    "Yani: pow(a,b,c)=(a**b)%c"
   ]
  },
  {
   "cell_type": "code",
   "execution_count": 8,
   "metadata": {},
   "outputs": [
    {
     "data": {
      "text/plain": [
       "1"
      ]
     },
     "execution_count": 8,
     "metadata": {},
     "output_type": "execute_result"
    }
   ],
   "source": [
    "pow(9,2,10)"
   ]
  },
  {
   "cell_type": "code",
   "execution_count": 9,
   "metadata": {},
   "outputs": [
    {
     "data": {
      "text/plain": [
       "81"
      ]
     },
     "execution_count": 9,
     "metadata": {},
     "output_type": "execute_result"
    }
   ],
   "source": [
    "pow(9,2)"
   ]
  },
  {
   "cell_type": "markdown",
   "metadata": {},
   "source": [
    "## Karşılaştırma İşleçleri"
   ]
  },
  {
   "cell_type": "raw",
   "metadata": {},
   "source": [
    "== eşittir\n",
    ">= büyük eşittir\n",
    "<= küçük eşittir\n",
    ">  büyüktür\n",
    "<  küçüktür\n",
    "!= eşit değildir"
   ]
  },
  {
   "cell_type": "markdown",
   "metadata": {},
   "source": [
    "#### if a>b>c: şeklinde bir kullanım doğrudur.\n",
    "#### if 90 <= x <= 100: bu şekilde bir kullanım da doğrudur."
   ]
  },
  {
   "cell_type": "markdown",
   "metadata": {},
   "source": [
    "## Bool işleçleri (Boolean)"
   ]
  },
  {
   "cell_type": "markdown",
   "metadata": {},
   "source": [
    "Bilgisayar bilimi iki adet değer üzerine kuruludur: 1 ve 0. Yani sırasıyla True ve False. Bilgisayar biliminde herhangi bir şeyin değeri ya True, ya da False‘tur. İşte bu True ve False olarak ifade edilen değerlere bool değerleri adı verilir (George Boole adlı İngiliz matematikçi ve filozofun adından). Türkçe olarak söylemek gerekirse, True değerinin karşılığı Doğru, False değerinin karşılığı ise Yanlış‘tır."
   ]
  },
  {
   "cell_type": "markdown",
   "metadata": {},
   "source": [
    "#### Bununla ilgili genel kuralımız şu: 0 (sayı olarak 0) değeri ve boş veri tipleri False‘tur. Bunlar dışında kalan her şey ise True‘dur."
   ]
  },
  {
   "cell_type": "code",
   "execution_count": 1,
   "metadata": {},
   "outputs": [
    {
     "name": "stdout",
     "output_type": "stream",
     "text": [
      "a: True \n",
      "b: False \n",
      "c: False \n",
      "d: False \n",
      "e: True \n",
      "f: True\n"
     ]
    }
   ],
   "source": [
    "a=\"0\" #true\n",
    "b=0 #false\n",
    "c=\"\" #false\n",
    "d=[] #false\n",
    "e=\" \" #true\n",
    "f=\"integer olan 0 ve boş veri dışındaki herşey\"\n",
    "print(\"a:\",bool (a),\"\\nb:\",bool (b),\"\\nc:\",bool (c),\"\\nd:\",bool (d),\"\\ne:\",bool (e),\"\\nf:\",bool (f))"
   ]
  },
  {
   "cell_type": "raw",
   "metadata": {},
   "source": [
    "and  ve     : iki karşılaştırma işlemini birlikte yapar, her ikisi de True ise True verir diğer durumlarda False verir.\n",
    "or   veya   : İki karşılaştırma işleminden en az biri True ise True verir her ikisi de False ise False verir.\n",
    "not  değili : yapılan karşılaştırma işlem veya işlemlerinin sonucu ne ise tersine çevirir."
   ]
  },
  {
   "cell_type": "markdown",
   "metadata": {},
   "source": [
    "## Değer Atama işleçleri"
   ]
  },
  {
   "cell_type": "raw",
   "metadata": {},
   "source": [
    "a = b   : a değişkenine b değerini atar.\n",
    "a += b  : a değişkenine b değerini ekleyerek atar. Yani yeni a değeri (eski a + b) olur.\n",
    "a -= b  : a değişkenine b değerini eksilterek atar. Yani yeni a değeri (eski a- b) olur.\n",
    "a /= b  : aynı mantıkla a değerini b değerine böler ve sonucu a değerine atar.\n",
    "a *= b  : aynı mantıkla a değerini b ile çarpar ve sonucu a değerine atar.\n",
    "a //= b : aynı mantık, taban bölme sonucunu a ya atar.\n",
    "a %= b  : b ile bölümden kalanı a değişkenine atar.\n",
    "a **= b : a**b sonucunu a değişkenine atar.    "
   ]
  },
  {
   "cell_type": "markdown",
   "metadata": {},
   "source": [
    "## Aitlik İşleçleri"
   ]
  },
  {
   "cell_type": "markdown",
   "metadata": {},
   "source": [
    "Aitlik işleçleri, bir karakter dizisi ya da sayının, herhangi bir veri tipi içinde bulunup bulunmadığını sorgulamamızı sağlayan işleçlerdir. İşleçleri dediğimize bakmayın aslında sadece bir tane aitlik işleci vardır: in işleci."
   ]
  },
  {
   "cell_type": "code",
   "execution_count": 24,
   "metadata": {},
   "outputs": [
    {
     "data": {
      "text/plain": [
       "True"
      ]
     },
     "execution_count": 24,
     "metadata": {},
     "output_type": "execute_result"
    }
   ],
   "source": [
    "a = \"murat\" #a değişkeni tanımladık ve veri olarak \"murat\" stringini atadık.\n",
    "\"u\" in a #a değişkeninin değerinde \"u\" varsa True döner."
   ]
  },
  {
   "cell_type": "markdown",
   "metadata": {},
   "source": [
    "## Kimlik İşleçleri"
   ]
  },
  {
   "cell_type": "markdown",
   "metadata": {},
   "source": [
    "Python her bir veri için ön bellekte benzersiz bir kimlik numarası üretir. Eğer bir veri küçükse ilk üretildiğinde bu ön bellekte depolanır ve o veriye aynı kimlik numarası ile ulaşır, ancak veri büyükse bunu ön bellekte depolamaz her ihtiyacı olduğunda yeniden oluşturur, bu nedenle de her seferinde bu verinin farklı bir kimlik numarası olur. Kimlik numarası = id (identification number)"
   ]
  },
  {
   "cell_type": "raw",
   "metadata": {},
   "source": [
    "id() işleci (aslında fonksiyon): parametresinin id numarasını verir.\n",
    "is işleci iki verinin id numarasını karşılaştırır ve aynıysa True verir."
   ]
  },
  {
   "cell_type": "code",
   "execution_count": 26,
   "metadata": {},
   "outputs": [
    {
     "data": {
      "text/plain": [
       "140724571388272"
      ]
     },
     "execution_count": 26,
     "metadata": {},
     "output_type": "execute_result"
    }
   ],
   "source": [
    "a = 50\n",
    "id (a)"
   ]
  },
  {
   "cell_type": "code",
   "execution_count": 27,
   "metadata": {},
   "outputs": [
    {
     "data": {
      "text/plain": [
       "140724571388272"
      ]
     },
     "execution_count": 27,
     "metadata": {},
     "output_type": "execute_result"
    }
   ],
   "source": [
    "id (50)"
   ]
  },
  {
   "cell_type": "code",
   "execution_count": 28,
   "metadata": {},
   "outputs": [
    {
     "data": {
      "text/plain": [
       "140724571388272"
      ]
     },
     "execution_count": 28,
     "metadata": {},
     "output_type": "execute_result"
    }
   ],
   "source": [
    "b=50\n",
    "id(b)"
   ]
  },
  {
   "cell_type": "code",
   "execution_count": 29,
   "metadata": {},
   "outputs": [],
   "source": [
    "c=\"Murat\""
   ]
  },
  {
   "cell_type": "code",
   "execution_count": 30,
   "metadata": {},
   "outputs": [
    {
     "data": {
      "text/plain": [
       "1988133684816"
      ]
     },
     "execution_count": 30,
     "metadata": {},
     "output_type": "execute_result"
    }
   ],
   "source": [
    "id(c)"
   ]
  },
  {
   "cell_type": "code",
   "execution_count": 31,
   "metadata": {},
   "outputs": [
    {
     "data": {
      "text/plain": [
       "1988133684816"
      ]
     },
     "execution_count": 31,
     "metadata": {},
     "output_type": "execute_result"
    }
   ],
   "source": [
    "id(\"Murat\")"
   ]
  },
  {
   "cell_type": "code",
   "execution_count": 32,
   "metadata": {},
   "outputs": [
    {
     "data": {
      "text/plain": [
       "True"
      ]
     },
     "execution_count": 32,
     "metadata": {},
     "output_type": "execute_result"
    }
   ],
   "source": [
    "a is b"
   ]
  },
  {
   "cell_type": "code",
   "execution_count": 33,
   "metadata": {},
   "outputs": [
    {
     "data": {
      "text/plain": [
       "False"
      ]
     },
     "execution_count": 33,
     "metadata": {},
     "output_type": "execute_result"
    }
   ],
   "source": [
    "a is c"
   ]
  },
  {
   "cell_type": "code",
   "execution_count": 34,
   "metadata": {},
   "outputs": [
    {
     "data": {
      "text/plain": [
       "1988132739888"
      ]
     },
     "execution_count": 34,
     "metadata": {},
     "output_type": "execute_result"
    }
   ],
   "source": [
    "a=1000\n",
    "id(a)"
   ]
  },
  {
   "cell_type": "code",
   "execution_count": 35,
   "metadata": {},
   "outputs": [
    {
     "data": {
      "text/plain": [
       "1988132737392"
      ]
     },
     "execution_count": 35,
     "metadata": {},
     "output_type": "execute_result"
    }
   ],
   "source": [
    "id(1000)"
   ]
  },
  {
   "cell_type": "code",
   "execution_count": 36,
   "metadata": {},
   "outputs": [
    {
     "data": {
      "text/plain": [
       "1988132737488"
      ]
     },
     "execution_count": 36,
     "metadata": {},
     "output_type": "execute_result"
    }
   ],
   "source": [
    "id(2000)"
   ]
  },
  {
   "cell_type": "code",
   "execution_count": 37,
   "metadata": {},
   "outputs": [
    {
     "data": {
      "text/plain": [
       "1988132738896"
      ]
     },
     "execution_count": 37,
     "metadata": {},
     "output_type": "execute_result"
    }
   ],
   "source": [
    "id(2000)"
   ]
  },
  {
   "cell_type": "code",
   "execution_count": 39,
   "metadata": {},
   "outputs": [
    {
     "data": {
      "text/plain": [
       "140724571389872"
      ]
     },
     "execution_count": 39,
     "metadata": {},
     "output_type": "execute_result"
    }
   ],
   "source": [
    "id (100)"
   ]
  },
  {
   "cell_type": "code",
   "execution_count": 40,
   "metadata": {},
   "outputs": [
    {
     "data": {
      "text/plain": [
       "140724571389872"
      ]
     },
     "execution_count": 40,
     "metadata": {},
     "output_type": "execute_result"
    }
   ],
   "source": [
    "id (100)"
   ]
  },
  {
   "cell_type": "code",
   "execution_count": 41,
   "metadata": {},
   "outputs": [
    {
     "data": {
      "text/plain": [
       "140724571388272"
      ]
     },
     "execution_count": 41,
     "metadata": {},
     "output_type": "execute_result"
    }
   ],
   "source": [
    "id(50)"
   ]
  },
  {
   "cell_type": "code",
   "execution_count": 3,
   "metadata": {},
   "outputs": [
    {
     "data": {
      "text/plain": [
       "False"
      ]
     },
     "execution_count": 3,
     "metadata": {},
     "output_type": "execute_result"
    }
   ],
   "source": [
    "35000 is 3500"
   ]
  },
  {
   "cell_type": "code",
   "execution_count": 50,
   "metadata": {},
   "outputs": [
    {
     "data": {
      "text/plain": [
       "True"
      ]
     },
     "execution_count": 50,
     "metadata": {},
     "output_type": "execute_result"
    }
   ],
   "source": [
    "isim = \"Ahmet\"\n",
    "isim is \"Ahmet\""
   ]
  },
  {
   "cell_type": "code",
   "execution_count": 15,
   "metadata": {},
   "outputs": [
    {
     "name": "stdout",
     "output_type": "stream",
     "text": [
      "\n",
      "Bu program Python Version 3.7.5 ile hazırlanmıştır.\n",
      "Sizin kullandığınız Python Version 4.3.2\n",
      "Versiyonlar aynı olmadığı için program düzgün çalışmayabilir.\n"
     ]
    }
   ],
   "source": [
    "#-*- coding: utf-8 -*-\n",
    "import sys\n",
    "versiyon_uymaz=u\"\"\"\n",
    "Bu program Python Version {}.{}.{} ile hazırlanmıştır.\n",
    "Sizin kullandığınız Python Version {}.{}.{}\n",
    "Versiyonlar aynı olmadığı için program düzgün çalışmayabilir.\"\"\"\n",
    "versiyon_ok=\"Programa Hoşgeldiniz.\"\n",
    "if sys.version_info.major <4:\n",
    "    print(versiyon_uymaz.format(3,7,5,4,3,2))\n",
    "elif sys.version_info.major==3 and sys.version_info.minor<3:\n",
    "    print(versiyon_uymaz.format(3,7,5,4,3,2))\n",
    "else:\n",
    "    print(versiyon_ok)"
   ]
  },
  {
   "cell_type": "code",
   "execution_count": null,
   "metadata": {},
   "outputs": [],
   "source": []
  }
 ],
 "metadata": {
  "kernelspec": {
   "display_name": "Python 3",
   "language": "python",
   "name": "python3"
  },
  "language_info": {
   "codemirror_mode": {
    "name": "ipython",
    "version": 3
   },
   "file_extension": ".py",
   "mimetype": "text/x-python",
   "name": "python",
   "nbconvert_exporter": "python",
   "pygments_lexer": "ipython3",
   "version": "3.7.6"
  }
 },
 "nbformat": 4,
 "nbformat_minor": 2
}
