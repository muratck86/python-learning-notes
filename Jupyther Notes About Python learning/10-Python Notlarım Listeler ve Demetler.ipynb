{
 "cells": [
  {
   "cell_type": "markdown",
   "metadata": {},
   "source": [
    "# Listeler"
   ]
  },
  {
   "cell_type": "code",
   "execution_count": 1,
   "metadata": {},
   "outputs": [
    {
     "name": "stdout",
     "output_type": "stream",
     "text": [
      "[1, 5, 3, 2]\n"
     ]
    },
    {
     "ename": "NameError",
     "evalue": "name 'liste' is not defined",
     "output_type": "error",
     "traceback": [
      "\u001b[1;31m---------------------------------------------------------------------------\u001b[0m",
      "\u001b[1;31mNameError\u001b[0m                                 Traceback (most recent call last)",
      "\u001b[1;32m<ipython-input-1-a8d5bfc0a31f>\u001b[0m in \u001b[0;36m<module>\u001b[1;34m\u001b[0m\n\u001b[0;32m      4\u001b[0m \u001b[0mprint\u001b[0m\u001b[1;33m(\u001b[0m\u001b[0mliste\u001b[0m\u001b[1;33m)\u001b[0m\u001b[1;33m\u001b[0m\u001b[1;33m\u001b[0m\u001b[0m\n\u001b[0;32m      5\u001b[0m \u001b[1;32mdel\u001b[0m \u001b[0mliste\u001b[0m\u001b[1;33m\u001b[0m\u001b[1;33m\u001b[0m\u001b[0m\n\u001b[1;32m----> 6\u001b[1;33m \u001b[0mprint\u001b[0m\u001b[1;33m(\u001b[0m\u001b[0mliste\u001b[0m\u001b[1;33m)\u001b[0m\u001b[1;33m\u001b[0m\u001b[1;33m\u001b[0m\u001b[0m\n\u001b[0m",
      "\u001b[1;31mNameError\u001b[0m: name 'liste' is not defined"
     ]
    }
   ],
   "source": [
    "#Listeden eleman silme ve listeyi tamamen silme\n",
    "liste = [1, 5, 3, 2, 9]\n",
    "del liste[-1]\n",
    "print(liste)\n",
    "del liste\n",
    "print(liste)"
   ]
  },
  {
   "cell_type": "markdown",
   "metadata": {},
   "source": [
    "### Lİste Üreteçleri (List Comprehension)"
   ]
  },
  {
   "cell_type": "code",
   "execution_count": 9,
   "metadata": {},
   "outputs": [],
   "source": [
    "# 0'dan 1000'e kadar olan sayıların listesi:\n",
    "liste=[i for i in range(1000)]\n",
    "#for döngüsü ile yapacak olursak:\n",
    "liste1=[]\n",
    "for i in range(1000):\n",
    "    liste+=[i]\n",
    "# Normal yöntem:\n",
    "liste2 = list(range(1000))"
   ]
  },
  {
   "cell_type": "code",
   "execution_count": 10,
   "metadata": {},
   "outputs": [],
   "source": [
    "#0'dan 1000'e kadar olan çift sayılar listesi:\n",
    "liste = [i for i in range(1000) if i % 2 == 0]\n",
    "#for döngüsü ile yapacak olursak:\n",
    "liste = []\n",
    "for i in range(1000):\n",
    "    if i % 2 == 0:\n",
    "        liste += [i]"
   ]
  },
  {
   "cell_type": "code",
   "execution_count": 18,
   "metadata": {},
   "outputs": [
    {
     "name": "stdout",
     "output_type": "stream",
     "text": [
      "[1, 2, 3, 4, 6, 8, 9, 12, 15, 18, 19, 23]\n",
      "[1, 2, 3, 4, 6, 8, 9, 12, 15, 18, 19, 23]\n"
     ]
    }
   ],
   "source": [
    "# iç içe geçmiş listeleri for döngüsü ile tek bir liste haline getirecek olursak:\n",
    "liste=[[1,2,3],[4,6,8],[9,12,15,18],[19,23]]\n",
    "tümü=[]\n",
    "for i in liste:\n",
    "    for j in i:\n",
    "        tümü+=[j]\n",
    "print(tümü)\n",
    "\n",
    "#aynı işlemi list comprehension ile yapalım:\n",
    "tümü1=[j for i in liste for j in i]\n",
    "print(tümü1)"
   ]
  },
  {
   "cell_type": "code",
   "execution_count": 37,
   "metadata": {},
   "outputs": [
    {
     "name": "stdout",
     "output_type": "stream",
     "text": [
      "[-1, -2, 0, 1, 2, 3, 4, 5, 6, 7, 8, 9, 10, 11, 12, 13, 14, 15, 16, 17, 18]\n"
     ]
    }
   ],
   "source": [
    "#biraz daha karıştıralım:\n",
    "liste2=[[[-1,-2]],[[0],[1,2],[3,4],[5,6]],[[7,8],[9,10],[11,12]],[[13,14],[15,16],[17,18]]] #şeklinde 3 aşamalı listemiz olsun.\n",
    "#en dıştaki listenin her bir öğesine i\n",
    "#bir alt seviyedeki her bir öğeye j\n",
    "#en iç seviyedeki her bir öğeye k diyelim:\n",
    "tümü2=[k for i in liste2 for j in i for k in j]\n",
    "print(tümü2)"
   ]
  },
  {
   "cell_type": "code",
   "execution_count": 2,
   "metadata": {},
   "outputs": [
    {
     "name": "stdout",
     "output_type": "stream",
     "text": [
      "[25, 26, 27]\n"
     ]
    }
   ],
   "source": [
    "liste1 = [[1, 2, 3],\n",
    "          [4, 5, 6],\n",
    "          [7, 8, 9],\n",
    "          [10, 11, 12],\n",
    "          [13, 14, 15],\n",
    "          [16, 17, 18],\n",
    "          [19, 20, 21],\n",
    "          [22, 23, 24],\n",
    "          [25, 26, 27],\n",
    "          [28, 29, 30],\n",
    "          [31, 32, 33]]\n",
    "\n",
    "liste2 = [1, 27, 88, 98, 50, 9, 28, 45, 54, 66, 61, 23, 10, 33,\n",
    "          22, 12, 6, 99, 63, 26, 87, 25, 77, 5, 16, 93, 99, 44,\n",
    "          59, 69, 34, 10, 60, 92, 61, 44, 5, 3, 23, 99, 79, 51,\n",
    "          89, 63, 53, 31, 76, 41, 49, 10, 88, 63, 55, 43, 40, 71,\n",
    "          16, 49, 78, 41, 35, 97, 33, 76, 25, 81, 15, 99, 64, 20,\n",
    "          33, 6, 89, 81, 44, 53, 59, 75, 27, 15, 64, 36, 72, 78,\n",
    "          34, 36, 20, 41, 41, 75, 56, 30, 86, 46, 9, 42, 21, 64,\n",
    "          26, 52, 77, 65, 64, 12, 38, 1, 35, 20, 73, 71, 37, 35,\n",
    "          72, 38, 100, 52, 16, 49, 79]\n",
    "\n",
    "\n",
    "#Liste1 içindeki hangi üçlü listenin, liste 2 içindeki sayılar arasında var olduğunu bulan bir kod yazalım:\n",
    "for i in liste1:\n",
    "    ortak=[]\n",
    "    z=0\n",
    "    while z<len(i):\n",
    "        if i[z] in liste2:\n",
    "            ortak+=[i[z]]\n",
    "        z+=1\n",
    "        if len(ortak) == len(i):\n",
    "            print(i)\n",
    "            break"
   ]
  },
  {
   "cell_type": "code",
   "execution_count": 3,
   "metadata": {},
   "outputs": [
    {
     "name": "stdout",
     "output_type": "stream",
     "text": [
      "[1, 3]\n",
      "[5, 6]\n",
      "[9]\n",
      "[10, 12]\n",
      "[15]\n",
      "[16]\n",
      "[20, 21]\n",
      "[22, 23]\n",
      "[25, 26, 27]\n",
      "[25, 26, 27]\n",
      "[28, 30]\n",
      "[31, 33]\n"
     ]
    }
   ],
   "source": [
    "#aynı İşi bir de list comprehension ile yapalım:\n",
    "for i in liste1:\n",
    "    ortak = [z for z in i if z in liste2]\n",
    "    print(ortak)\n",
    "    if len(ortak) == len(i):\n",
    "        print(i)"
   ]
  },
  {
   "cell_type": "markdown",
   "metadata": {},
   "source": [
    "# Demetler (tuple)"
   ]
  },
  {
   "cell_type": "code",
   "execution_count": 21,
   "metadata": {},
   "outputs": [
    {
     "name": "stdout",
     "output_type": "stream",
     "text": [
      "<class 'tuple'>\n",
      "<class 'tuple'>\n",
      "<class 'tuple'>\n",
      "('a', 'b', 'c', 'd', 'e', 'f', 'g')\n"
     ]
    }
   ],
   "source": [
    "demet = (\"ahmet\", \"mehmet\", 23, 45)\n",
    "demet1 = \"hasan\", \"ali\", 25, 40\n",
    "demet2 =tuple('abcdefg')\n",
    "print(type(demet))\n",
    "print(type(demet1))\n",
    "print(type(demet2))\n",
    "print(demet2)"
   ]
  },
  {
   "cell_type": "code",
   "execution_count": 24,
   "metadata": {},
   "outputs": [
    {
     "name": "stdout",
     "output_type": "stream",
     "text": [
      "('hacı', 'hüsrev', 'ökkeş', 'satılmış')\n"
     ]
    },
    {
     "data": {
      "text/plain": [
       "tuple"
      ]
     },
     "execution_count": 24,
     "metadata": {},
     "output_type": "execute_result"
    }
   ],
   "source": [
    "liste1=[\"hacı\",\"hüsrev\",\"ökkeş\",\"satılmış\"]\n",
    "demet3=tuple(liste1)\n",
    "print(demet3)\n",
    "type(demet3)"
   ]
  },
  {
   "cell_type": "code",
   "execution_count": 27,
   "metadata": {},
   "outputs": [],
   "source": [
    "#tek elemanlı bir demet oluşturacaksak:\n",
    "demet4 = ('ahmet',)\n",
    "#veya\n",
    "demet5=\"ahmet\","
   ]
  },
  {
   "cell_type": "code",
   "execution_count": 28,
   "metadata": {},
   "outputs": [
    {
     "name": "stdout",
     "output_type": "stream",
     "text": [
      "('ahmet', 'mehmet', 'selin')\n"
     ]
    }
   ],
   "source": [
    "demet6 = ('ahmet', 'mehmet')\n",
    "demet6 = demet6 + ('selin',)\n",
    "print(demet6)"
   ]
  },
  {
   "cell_type": "code",
   "execution_count": null,
   "metadata": {},
   "outputs": [],
   "source": []
  }
 ],
 "metadata": {
  "kernelspec": {
   "display_name": "Python 3",
   "language": "python",
   "name": "python3"
  },
  "language_info": {
   "codemirror_mode": {
    "name": "ipython",
    "version": 3
   },
   "file_extension": ".py",
   "mimetype": "text/x-python",
   "name": "python",
   "nbconvert_exporter": "python",
   "pygments_lexer": "ipython3",
   "version": "3.7.6"
  }
 },
 "nbformat": 4,
 "nbformat_minor": 2
}
