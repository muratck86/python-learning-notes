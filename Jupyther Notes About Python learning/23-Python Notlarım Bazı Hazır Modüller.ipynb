{
 "cells": [
  {
   "cell_type": "markdown",
   "metadata": {},
   "source": [
    "## random Modülü "
   ]
  },
  {
   "cell_type": "code",
   "execution_count": 2,
   "metadata": {},
   "outputs": [],
   "source": [
    "import random"
   ]
  },
  {
   "cell_type": "markdown",
   "metadata": {},
   "source": [
    "### sample() fonksiyonu"
   ]
  },
  {
   "cell_type": "markdown",
   "metadata": {},
   "source": [
    "Bu fonksiyon herhangi bir dizi içinden istediğimiz sayıda rastgele örnek almamızı sağlar."
   ]
  },
  {
   "cell_type": "code",
   "execution_count": 5,
   "metadata": {},
   "outputs": [
    {
     "data": {
      "text/plain": [
       "['zeynep', 'sevgi']"
      ]
     },
     "execution_count": 5,
     "metadata": {},
     "output_type": "execute_result"
    }
   ],
   "source": [
    "liste = [\"ahmet\", \"mehmet\", \"sevgi\", \"sevim\", \"selin\", \"zeynep\", \"selim\"]\n",
    "random.sample(liste, 2)"
   ]
  },
  {
   "cell_type": "code",
   "execution_count": 6,
   "metadata": {},
   "outputs": [
    {
     "data": {
      "text/plain": [
       "[1206, 682, 3763, 1953]"
      ]
     },
     "execution_count": 6,
     "metadata": {},
     "output_type": "execute_result"
    }
   ],
   "source": [
    "liste2=list(range(5000))\n",
    "random.sample(liste2,4)"
   ]
  },
  {
   "cell_type": "code",
   "execution_count": 7,
   "metadata": {},
   "outputs": [
    {
     "data": {
      "text/plain": [
       "[43, 34, 18]"
      ]
     },
     "execution_count": 7,
     "metadata": {},
     "output_type": "execute_result"
    }
   ],
   "source": [
    "random.sample(range(50),3)"
   ]
  },
  {
   "cell_type": "markdown",
   "metadata": {},
   "source": [
    "### shuffle() fonksiyonu"
   ]
  },
  {
   "cell_type": "markdown",
   "metadata": {},
   "source": [
    "Bu fonksiyon ise bir listedeki öğeleri rastgele karıştırmaya yarar."
   ]
  },
  {
   "cell_type": "code",
   "execution_count": 9,
   "metadata": {},
   "outputs": [
    {
     "data": {
      "text/plain": [
       "['mehmet', 'zeynep', 'sevgi', 'selim', 'selin', 'sevim', 'ahmet']"
      ]
     },
     "execution_count": 9,
     "metadata": {},
     "output_type": "execute_result"
    }
   ],
   "source": [
    "liste = [\"ahmet\", \"mehmet\", \"sevgi\", \"sevim\", \"selin\", \"zeynep\", \"selim\"]\n",
    "random.shuffle(liste)\n",
    "liste"
   ]
  },
  {
   "cell_type": "code",
   "execution_count": 23,
   "metadata": {
    "scrolled": true
   },
   "outputs": [
    {
     "name": "stdout",
     "output_type": "stream",
     "text": [
      "[0, 1, 2, 3, 4, 5, 6, 7, 8, 9, 10, 11, 12, 13, 14, 15, 16, 17, 18, 19, 20, 21, 22, 23, 24, 25, 26, 27, 28, 29, 30, 31, 32, 33, 34, 35, 36, 37, 38, 39, 40, 41, 42, 43, 44, 45, 46, 47, 48, 49, 50, 51, 52, 53, 54, 55, 56, 57, 58, 59, 60, 61, 62, 63, 64, 65, 66, 67, 68, 69, 70, 71, 72, 73, 74, 75, 76, 77, 78, 79, 80, 81, 82, 83, 84, 85, 86, 87, 88, 89, 90, 91, 92, 93, 94, 95, 96, 97, 98, 99, 100, 101, 102, 103, 104, 105, 106, 107, 108, 109, 110, 111, 112, 113, 114, 115, 116, 117, 118, 119, 120, 121, 122, 123, 124, 125, 126, 127]\n",
      "\n",
      "\n",
      "[122, 76, 119, 109, 6, 71, 21, 112, 106, 68, 4, 87, 50, 66, 79, 41, 19, 16, 124, 100, 38, 77, 95, 47, 91, 104, 15, 54, 55, 108, 23, 53, 36, 103, 28, 96, 63, 2, 85, 126, 113, 59, 58, 93, 1, 123, 86, 17, 35, 3, 25, 61, 75, 62, 5, 88, 10, 121, 118, 81, 8, 82, 51, 83, 24, 105, 31, 90, 11, 114, 102, 89, 107, 70, 22, 57, 7, 12, 39, 34, 125, 18, 32, 56, 69, 48, 101, 45, 60, 33, 110, 116, 80, 49, 14, 52, 97, 65, 30, 64, 111, 27, 94, 120, 74, 72, 67, 44, 73, 29, 78, 20, 43, 99, 40, 13, 98, 0, 9, 42, 26, 37, 127, 117, 115, 92, 84, 46]\n"
     ]
    }
   ],
   "source": [
    "sayılar=list(range(128))\n",
    "print(sayılar,end=\"\\n\"*3)\n",
    "random.shuffle(sayılar)\n",
    "print(sayılar)"
   ]
  },
  {
   "cell_type": "markdown",
   "metadata": {},
   "source": [
    "### randrange() fonksiyonu"
   ]
  },
  {
   "cell_type": "markdown",
   "metadata": {},
   "source": [
    "Bu fonksiyon belirtilen aralıkta rasgele sayı üretmemizi sağlar."
   ]
  },
  {
   "cell_type": "code",
   "execution_count": 24,
   "metadata": {},
   "outputs": [
    {
     "data": {
      "text/plain": [
       "2896"
      ]
     },
     "execution_count": 24,
     "metadata": {},
     "output_type": "execute_result"
    }
   ],
   "source": [
    "random.randrange(1500,3245)"
   ]
  },
  {
   "cell_type": "code",
   "execution_count": null,
   "metadata": {},
   "outputs": [],
   "source": []
  }
 ],
 "metadata": {
  "kernelspec": {
   "display_name": "Python 3",
   "language": "python",
   "name": "python3"
  },
  "language_info": {
   "codemirror_mode": {
    "name": "ipython",
    "version": 3
   },
   "file_extension": ".py",
   "mimetype": "text/x-python",
   "name": "python",
   "nbconvert_exporter": "python",
   "pygments_lexer": "ipython3",
   "version": "3.7.6"
  }
 },
 "nbformat": 4,
 "nbformat_minor": 2
}
