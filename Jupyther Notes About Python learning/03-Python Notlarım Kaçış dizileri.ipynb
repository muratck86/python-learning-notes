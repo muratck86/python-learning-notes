{
 "cells": [
  {
   "cell_type": "markdown",
   "metadata": {},
   "source": [
    "# KAÇIŞ DİZİLERİ"
   ]
  },
  {
   "cell_type": "markdown",
   "metadata": {},
   "source": [
    "# Ters Taksim \\"
   ]
  },
  {
   "cell_type": "code",
   "execution_count": 1,
   "metadata": {},
   "outputs": [
    {
     "name": "stdout",
     "output_type": "stream",
     "text": [
      "Yarın Adana'ya gidiyorum.\n",
      "\"book\" kelimesi Türkçede \"kitap\" anlamına gelir.\n"
     ]
    }
   ],
   "source": [
    "print('Yarın Adana\\'ya gidiyorum.')\n",
    "print(\"\\\"book\\\" kelimesi Türkçede \\\"kitap\\\" anlamına gelir.\")\n",
    "#Kendinden sonra gelen karakterin özelliğinin göz ardı edilmesini sağlar."
   ]
  },
  {
   "cell_type": "code",
   "execution_count": 2,
   "metadata": {},
   "outputs": [
    {
     "ename": "SyntaxError",
     "evalue": "invalid syntax (<ipython-input-2-a67420b4a3c4>, line 1)",
     "output_type": "error",
     "traceback": [
      "\u001b[1;36m  File \u001b[1;32m\"<ipython-input-2-a67420b4a3c4>\"\u001b[1;36m, line \u001b[1;32m1\u001b[0m\n\u001b[1;33m    print('Yarın Adana'ya gidiyorum.')\u001b[0m\n\u001b[1;37m                        ^\u001b[0m\n\u001b[1;31mSyntaxError\u001b[0m\u001b[1;31m:\u001b[0m invalid syntax\n"
     ]
    }
   ],
   "source": [
    "print('Yarın Adana'ya gidiyorum.')"
   ]
  },
  {
   "cell_type": "code",
   "execution_count": 5,
   "metadata": {},
   "outputs": [
    {
     "name": "stdout",
     "output_type": "stream",
     "text": [
      "Python 1990 yılında Guido Van Rossum tarafından geliştirilmeye başlanmış, oldukça güçlü ve yetenekli bir programlama dilidir.\n"
     ]
    }
   ],
   "source": [
    "print(\"Python 1990 yılında Guido Van Rossum \\\n",
    "tarafından geliştirilmeye başlanmış, oldukça \\\n",
    "güçlü ve yetenekli bir programlama dilidir.\")"
   ]
  },
  {
   "cell_type": "markdown",
   "metadata": {},
   "source": [
    "## Satır Başı \\n"
   ]
  },
  {
   "cell_type": "markdown",
   "metadata": {},
   "source": [
    "Python bunu gördüğü yerde işleme bir alt satır başından devam eder..."
   ]
  },
  {
   "cell_type": "code",
   "execution_count": 7,
   "metadata": {},
   "outputs": [
    {
     "name": "stdout",
     "output_type": "stream",
     "text": [
      "birinci satır\n",
      "ikinci satır\n",
      "üçüncü satır\n"
     ]
    }
   ],
   "source": [
    "print(\"birinci satır\\nikinci satır\\nüçüncü satır\")"
   ]
  },
  {
   "cell_type": "code",
   "execution_count": 10,
   "metadata": {},
   "outputs": [
    {
     "name": "stdout",
     "output_type": "stream",
     "text": [
      "Türkiye'de Özgür Yazılımın Geçmişi\n",
      "__________________________________\n"
     ]
    }
   ],
   "source": [
    "başlık = \"Türkiye'de Özgür Yazılımın Geçmişi\"\n",
    "print(başlık, \"\\n\", \"_\"*len(başlık), sep=\"\") #başlık metnini yaz, alt satıra geç başlık metni karakter sayısı kadar \"_\" koy"
   ]
  },
  {
   "cell_type": "markdown",
   "metadata": {},
   "source": [
    "## Sekme \\t"
   ]
  },
  {
   "cell_type": "code",
   "execution_count": 11,
   "metadata": {},
   "outputs": [
    {
     "name": "stdout",
     "output_type": "stream",
     "text": [
      "bir\tiki\tüç\n"
     ]
    }
   ],
   "source": [
    "print(\"bir\",\"iki\",\"üç\",sep=\"\\t\")"
   ]
  },
  {
   "cell_type": "markdown",
   "metadata": {},
   "source": [
    "## Zil Sesi \\a"
   ]
  },
  {
   "cell_type": "markdown",
   "metadata": {},
   "source": [
    "Bip sesi çıkarır ama her bilgisayarda çalışmaz"
   ]
  },
  {
   "cell_type": "markdown",
   "metadata": {},
   "source": [
    "## Aynı Satır Başı \\r"
   ]
  },
  {
   "cell_type": "markdown",
   "metadata": {},
   "source": [
    "Python bunu gördüğü yerde alt satıra geçmeden aynı satırın başına dönüp var olan metnin üzerine yazmaya başlar."
   ]
  },
  {
   "cell_type": "code",
   "execution_count": 14,
   "metadata": {},
   "outputs": [
    {
     "name": "stdout",
     "output_type": "stream",
     "text": [
      "Murat\r",
      "Can\n"
     ]
    }
   ],
   "source": [
    "print(\"Murat\\rCan\")#Murat yazacak ve sonra tekrar başa gelip can ile değiştirecek,\n",
    "#Murat kelimesi daha uzun olduğu için sondaki \"at\" kalacak ve başa \"Can\" geleceği için sonuç \"Canat\""
   ]
  },
  {
   "cell_type": "code",
   "execution_count": 15,
   "metadata": {},
   "outputs": [
    {
     "name": "stdout",
     "output_type": "stream",
     "text": [
      "Merhaba\r",
      "Zalim Dünya!\n"
     ]
    }
   ],
   "source": [
    "print(\"Merhaba\\rZalim Dünya!\")"
   ]
  },
  {
   "cell_type": "markdown",
   "metadata": {},
   "source": [
    "## Düşey Sekme \\v"
   ]
  },
  {
   "cell_type": "code",
   "execution_count": 18,
   "metadata": {},
   "outputs": [
    {
     "name": "stdout",
     "output_type": "stream",
     "text": [
      "düşey\u000b",
      "sekme\n"
     ]
    }
   ],
   "source": [
    "print(\"düşey\\vsekme\") #Her işletim sisteminde çalşmamaktadır."
   ]
  },
  {
   "cell_type": "markdown",
   "metadata": {},
   "source": [
    "## İmleç Kaydırma \\b"
   ]
  },
  {
   "cell_type": "code",
   "execution_count": 20,
   "metadata": {},
   "outputs": [
    {
     "name": "stdout",
     "output_type": "stream",
     "text": [
      "yahoo.com\b\n",
      "yahoo.com\b.uk\n"
     ]
    }
   ],
   "source": [
    "print(\"yahoo.com\\b\") #imleci bir karakter sola kaydırır.\n",
    "print(\"yahoo.com\\b.uk\")"
   ]
  },
  {
   "cell_type": "code",
   "execution_count": 30,
   "metadata": {},
   "outputs": [
    {
     "name": "stdout",
     "output_type": "stream",
     "text": [
      "istihza . com\n",
      "istihza \b. \bcom\n"
     ]
    }
   ],
   "source": [
    "print('istihza', '.', 'com')\n",
    "print('istihza', '\\b.', '\\bcom')"
   ]
  },
  {
   "cell_type": "markdown",
   "metadata": {},
   "source": [
    "## Küçük Unicode \\u"
   ]
  },
  {
   "cell_type": "markdown",
   "metadata": {},
   "source": [
    "Karakterlerin unicode sisteminde kısa kodunu girmek için kullanılır. 4 haneli kod girilir."
   ]
  },
  {
   "cell_type": "code",
   "execution_count": 35,
   "metadata": {},
   "outputs": [
    {
     "name": "stdout",
     "output_type": "stream",
     "text": [
      "İ\n",
      "p\n"
     ]
    }
   ],
   "source": [
    "print(\"\\u0130\")\n",
    "print(\"\\u0070\")"
   ]
  },
  {
   "cell_type": "markdown",
   "metadata": {},
   "source": [
    "## Büyük Unicode \\U"
   ]
  },
  {
   "cell_type": "markdown",
   "metadata": {},
   "source": [
    "Karakterlerin unicode sisteminde uzun kodlarını girmek için kullanılır. 8 haneli kod girilir."
   ]
  },
  {
   "cell_type": "code",
   "execution_count": 37,
   "metadata": {},
   "outputs": [
    {
     "name": "stdout",
     "output_type": "stream",
     "text": [
      "ı\n"
     ]
    }
   ],
   "source": [
    "print('\\U00000131')"
   ]
  },
  {
   "cell_type": "markdown",
   "metadata": {},
   "source": [
    "## Uzun Ad \\N"
   ]
  },
  {
   "cell_type": "markdown",
   "metadata": {},
   "source": [
    "Karakterin unicode benzersiz adı"
   ]
  },
  {
   "cell_type": "markdown",
   "metadata": {},
   "source": [
    "## Onaltılı Karakter \\x"
   ]
  },
  {
   "cell_type": "markdown",
   "metadata": {},
   "source": [
    "Girilen bir hexadecimal sayının karakter karşılığını verir."
   ]
  },
  {
   "cell_type": "code",
   "execution_count": 3,
   "metadata": {},
   "outputs": [
    {
     "name": "stdout",
     "output_type": "stream",
     "text": [
      "A\n"
     ]
    }
   ],
   "source": [
    "print(\"\\x41\") #A karakterinin kodu 65'tir. 65 ise hexadecimal sistemde 41'e karşılık gelir."
   ]
  },
  {
   "cell_type": "code",
   "execution_count": 1,
   "metadata": {},
   "outputs": [
    {
     "name": "stdout",
     "output_type": "stream",
     "text": [
      "0\n",
      "N\n"
     ]
    }
   ],
   "source": [
    "print(\"\\x30\")\n",
    "print(\"\\x4E\")"
   ]
  },
  {
   "cell_type": "markdown",
   "metadata": {},
   "source": [
    "## Etkisizleştirme r"
   ]
  },
  {
   "cell_type": "markdown",
   "metadata": {},
   "source": [
    "Bunun başında ters taksim yoktur, kullanımı diğer kaçış dizilerinden farklıdır. Bunun amacı diğer bütün kaçış dizilerinin görevini iptal ederek birer karakter olarak algılanmasını sağlamaktır."
   ]
  },
  {
   "cell_type": "markdown",
   "metadata": {},
   "source": [
    "Bütün bu kaçış dizinlerinin kullanımına dikkat etmek gerekir..."
   ]
  },
  {
   "cell_type": "code",
   "execution_count": 47,
   "metadata": {},
   "outputs": [
    {
     "name": "stdout",
     "output_type": "stream",
     "text": [
      "Kurulum dizini: C:\u0007ylar\n",
      "isan\toplam masraf\n"
     ]
    }
   ],
   "source": [
    "#Örneğin böyle bir şey yazdırmak isteyelim:\n",
    "print(\"Kurulum dizini: C:\\aylar\\nisan\\toplam masraf\")\n",
    "# Görüleceği üzere burada bir \\a, \\n, \\t gibi kaçış dizileri yer alıyor...."
   ]
  },
  {
   "cell_type": "markdown",
   "metadata": {},
   "source": [
    "Burada biz kaçış dizi kullanmak istemiyoruz... Bunun çözümü:"
   ]
  },
  {
   "cell_type": "code",
   "execution_count": 48,
   "metadata": {},
   "outputs": [
    {
     "name": "stdout",
     "output_type": "stream",
     "text": [
      "Kurulum dizini: C:\\aylar\\nisan\\toplam masraf\n"
     ]
    }
   ],
   "source": [
    "# Birinci çözüm, kaçış dizisini kaçış dizisi ile engellemek...\n",
    "print(\"Kurulum dizini: C:\\\\aylar\\\\nisan\\\\toplam masraf\")"
   ]
  },
  {
   "cell_type": "code",
   "execution_count": 49,
   "metadata": {},
   "outputs": [
    {
     "name": "stdout",
     "output_type": "stream",
     "text": [
      "Kurulum dizini: C:/aylar/nisan/toplam masraf\n"
     ]
    }
   ],
   "source": [
    "# İkinci çözüm, ters taksim yerine düz taksim kullanmak...\n",
    "print(\"Kurulum dizini: C:/aylar/nisan/toplam masraf\")"
   ]
  },
  {
   "cell_type": "code",
   "execution_count": 52,
   "metadata": {},
   "outputs": [
    {
     "name": "stdout",
     "output_type": "stream",
     "text": [
      "Kurulum dizini: C:\\aylar\\nisan\\toplam masraf\n"
     ]
    }
   ],
   "source": [
    "#Üçüncü çözüm r kullanarak kaçış dizilerini etkisizleştirmek...\n",
    "print(r\"Kurulum dizini: C:\\aylar\\nisan\\toplam masraf\")"
   ]
  },
  {
   "cell_type": "code",
   "execution_count": 53,
   "metadata": {},
   "outputs": [
    {
     "name": "stdout",
     "output_type": "stream",
     "text": [
      "Kaçış dizileri: \\, \n",
      ", \t, \u0007, \\, r\n"
     ]
    }
   ],
   "source": [
    "print(\"Kaçış dizileri: \\, \\n, \\t, \\a, \\\\, r\")"
   ]
  },
  {
   "cell_type": "code",
   "execution_count": 54,
   "metadata": {},
   "outputs": [
    {
     "name": "stdout",
     "output_type": "stream",
     "text": [
      "Kaçış dizileri: \\, \\n, \\t, \\a, \\\\, r\n"
     ]
    }
   ],
   "source": [
    "print(r\"Kaçış dizileri: \\, \\n, \\t, \\a, \\\\, r\")"
   ]
  },
  {
   "cell_type": "markdown",
   "metadata": {},
   "source": [
    "## kaçış dizilerinde dikkat edilmesi gerekenler"
   ]
  },
  {
   "cell_type": "raw",
   "metadata": {},
   "source": [
    "Kaçış dizilerinde string içinde yanlışlıkla kullanıma dikkat edilmelidir.\n",
    "Ayrıca \\r ile r kaçış dizisini birbiriyle karıştırmamak gerekir.\n",
    "String sonunda \\ kullanılırsa python string kapatma tırnağını algılamayacağı için string açık kalmış olacak, hata verecektir.\n",
    "String sonunda \\ kullanılırsa bunu r kullanımı da engellemeyecektir, yine hata verecektir."
   ]
  },
  {
   "cell_type": "code",
   "execution_count": 56,
   "metadata": {},
   "outputs": [
    {
     "ename": "SyntaxError",
     "evalue": "EOL while scanning string literal (<ipython-input-56-412ef11ab582>, line 1)",
     "output_type": "error",
     "traceback": [
      "\u001b[1;36m  File \u001b[1;32m\"<ipython-input-56-412ef11ab582>\"\u001b[1;36m, line \u001b[1;32m1\u001b[0m\n\u001b[1;33m    print(\"Kaçış dizisi: \\\")\u001b[0m\n\u001b[1;37m                            ^\u001b[0m\n\u001b[1;31mSyntaxError\u001b[0m\u001b[1;31m:\u001b[0m EOL while scanning string literal\n"
     ]
    }
   ],
   "source": [
    "print(\"Kaçış dizisi: \\\")"
   ]
  },
  {
   "cell_type": "code",
   "execution_count": 57,
   "metadata": {},
   "outputs": [
    {
     "ename": "SyntaxError",
     "evalue": "EOL while scanning string literal (<ipython-input-57-1954bb59844e>, line 1)",
     "output_type": "error",
     "traceback": [
      "\u001b[1;36m  File \u001b[1;32m\"<ipython-input-57-1954bb59844e>\"\u001b[1;36m, line \u001b[1;32m1\u001b[0m\n\u001b[1;33m    print(r\"Kaçış dizisi: \\\")\u001b[0m\n\u001b[1;37m                             ^\u001b[0m\n\u001b[1;31mSyntaxError\u001b[0m\u001b[1;31m:\u001b[0m EOL while scanning string literal\n"
     ]
    }
   ],
   "source": [
    "print(r\"Kaçış dizisi: \\\")"
   ]
  },
  {
   "cell_type": "code",
   "execution_count": 59,
   "metadata": {},
   "outputs": [
    {
     "name": "stdout",
     "output_type": "stream",
     "text": [
      "Kaçış dizisi: \\\n",
      "Kaçış dizisi: \\ \n"
     ]
    }
   ],
   "source": [
    "#Çözümler\n",
    "print(\"Kaçış dizisi: \\\\\")\n",
    "print(\"Kaçış dizisi: \\ \")"
   ]
  },
  {
   "cell_type": "code",
   "execution_count": null,
   "metadata": {},
   "outputs": [],
   "source": []
  }
 ],
 "metadata": {
  "kernelspec": {
   "display_name": "Python 3",
   "language": "python",
   "name": "python3"
  },
  "language_info": {
   "codemirror_mode": {
    "name": "ipython",
    "version": 3
   },
   "file_extension": ".py",
   "mimetype": "text/x-python",
   "name": "python",
   "nbconvert_exporter": "python",
   "pygments_lexer": "ipython3",
   "version": "3.7.6"
  }
 },
 "nbformat": 4,
 "nbformat_minor": 2
}
