{
 "cells": [
  {
   "cell_type": "markdown",
   "metadata": {},
   "source": [
    "# Modül Nedir?"
   ]
  },
  {
   "cell_type": "markdown",
   "metadata": {},
   "source": [
    "içinde bir takım fonksiyonlar, değişkenler ve özellikler barındıran python dosyalarıdır. Bu dosyaları kendi yazdığımız python programımıza çağırarak içindeki bu fonksiyonları vs. kullanabilme imkanımız vardır. Nasıl ki biz bir fonksiyonu bir defa tanımlayıp defalarca aynı programda kullanabiliyorsak, benzer şekilde bir fonksiyonu yazıp bir dosyaya kaydettiğimizde daha sonra o fonksyionu istediğimiz zaman istediğimiz program içine çağırabiliriz. İşte bu fonksiyonu kaydettiğimiz dosya bir modül oluyor."
   ]
  },
  {
   "cell_type": "markdown",
   "metadata": {},
   "source": [
    "Kendimiz istediğimiz zaman modül tanımlayıp kulanabiliriz, bunun dışında python geliştiricilerinin ya da başka programcıların yazdığı hazır modüller de bulunur."
   ]
  },
  {
   "cell_type": "markdown",
   "metadata": {},
   "source": [
    "## Hazır Modüller"
   ]
  },
  {
   "cell_type": "markdown",
   "metadata": {},
   "source": [
    "Standart Kütüphane Modülleri, gömülü fonksiyonlar gibi her python geliştiricileri tarafından yazılmış ve her an kullanabileceğimiz modüllerdir. Bir de başka programcıların hazırlayıp hizmete sunduğu üçüncü şahıs modülleri vardır."
   ]
  },
  {
   "cell_type": "markdown",
   "metadata": {},
   "source": [
    "https://docs.python.org/3/library/"
   ]
  },
  {
   "cell_type": "markdown",
   "metadata": {},
   "source": [
    "# Modüllerin içe aktarılması"
   ]
  },
  {
   "cell_type": "markdown",
   "metadata": {},
   "source": [
    "Modülleri kullanabilmek için önce (modül içindeki özellikleri kullanacağımız satırdan önce) içe aktarmamız gerekir. Bir modülü bir programda bir defa içeri aktarmamız yeterlidir."
   ]
  },
  {
   "cell_type": "markdown",
   "metadata": {},
   "source": [
    "## import modüladı"
   ]
  },
  {
   "cell_type": "markdown",
   "metadata": {},
   "source": [
    "Bir modül içindeki şeyleri kullanabilmek için önce o modülü içe aktarmamız gereklidir. Bunun çeşitli şekilleri olmakla birlikte ilk ve en sık kullanılan yöntem import yöntemidir."
   ]
  },
  {
   "cell_type": "raw",
   "metadata": {},
   "source": [
    "import modüladı"
   ]
  },
  {
   "cell_type": "markdown",
   "metadata": {},
   "source": [
    "Bir modülün içindeki fonksiyon ve nitelikleri vs. görmek için ise:\n"
   ]
  },
  {
   "cell_type": "raw",
   "metadata": {},
   "source": [
    "dir(modüladı)"
   ]
  },
  {
   "cell_type": "markdown",
   "metadata": {},
   "source": [
    "import ile içe aktardığımız modüldeki işlevleri, fonksiyon veya nitelik için \"işlemadı\" dersek şu şekilde kullanırız:"
   ]
  },
  {
   "cell_type": "raw",
   "metadata": {},
   "source": [
    "modüladı.işlemadı"
   ]
  },
  {
   "cell_type": "markdown",
   "metadata": {},
   "source": [
    "## import modül_adı as farklı_isim"
   ]
  },
  {
   "cell_type": "markdown",
   "metadata": {},
   "source": [
    "Modülün adını kendi belirleyeceğimiz başka bir takma isimle kullanmak için bu yöntemle içeri aktarabiliriz. Bu yöntemle içeri aktardığımız modülün içindeki bir özelliği kullanırken artık başına modülün kendi adını değil takma adını kullanabiliriz."
   ]
  },
  {
   "cell_type": "code",
   "execution_count": null,
   "metadata": {},
   "outputs": [],
   "source": [
    "import subprocess\n",
    "subprocess.call(\"notepad.exe\")"
   ]
  },
  {
   "cell_type": "code",
   "execution_count": null,
   "metadata": {},
   "outputs": [],
   "source": [
    "import subprocess as sp\n",
    "sp.call(\"notepad.exe\")"
   ]
  },
  {
   "cell_type": "markdown",
   "metadata": {},
   "source": [
    "## from modül_adı import isim1, isim2"
   ]
  },
  {
   "cell_type": "markdown",
   "metadata": {},
   "source": [
    "Bu içeri aktarma şeklinde, içeri aktarmak istediğimiz modüldeki sadece kullanacağımız isim1 ve isim2 adlı fonksiyonları veya özellikleri içeri aktarıyoruz, tüm modülü değil. Bu şekilde içeri aktardığımız isim1 ve isim2 yi kullanırken başına modüladı koymuyoruz. Direkt olarak isim1 isim2 olarak cağırıyoruz, çünkü aslında biz bu yöntemle modülü değil, modülün içindeki bu iki ismi içeri aktarmış oluyoruz."
   ]
  },
  {
   "cell_type": "code",
   "execution_count": 1,
   "metadata": {},
   "outputs": [
    {
     "data": {
      "text/plain": [
       "'nt'"
      ]
     },
     "execution_count": 1,
     "metadata": {},
     "output_type": "execute_result"
    }
   ],
   "source": [
    "from os import name\n",
    "name"
   ]
  },
  {
   "cell_type": "code",
   "execution_count": 2,
   "metadata": {},
   "outputs": [
    {
     "ename": "NameError",
     "evalue": "name 'os' is not defined",
     "output_type": "error",
     "traceback": [
      "\u001b[1;31m---------------------------------------------------------------------------\u001b[0m",
      "\u001b[1;31mNameError\u001b[0m                                 Traceback (most recent call last)",
      "\u001b[1;32m<ipython-input-2-2d8dd36a91b6>\u001b[0m in \u001b[0;36m<module>\u001b[1;34m\u001b[0m\n\u001b[1;32m----> 1\u001b[1;33m \u001b[0mos\u001b[0m\u001b[1;33m.\u001b[0m\u001b[0mname\u001b[0m\u001b[1;33m\u001b[0m\u001b[1;33m\u001b[0m\u001b[0m\n\u001b[0m",
      "\u001b[1;31mNameError\u001b[0m: name 'os' is not defined"
     ]
    }
   ],
   "source": [
    "os.name"
   ]
  },
  {
   "cell_type": "code",
   "execution_count": 3,
   "metadata": {},
   "outputs": [],
   "source": [
    "from os import name, listdir, getcwd"
   ]
  },
  {
   "cell_type": "code",
   "execution_count": 5,
   "metadata": {},
   "outputs": [
    {
     "data": {
      "text/plain": [
       "'C:\\\\Users\\\\kurtm\\\\Desktop\\\\Python çalışma notlarım'"
      ]
     },
     "execution_count": 5,
     "metadata": {},
     "output_type": "execute_result"
    }
   ],
   "source": [
    "getcwd()"
   ]
  },
  {
   "cell_type": "code",
   "execution_count": 6,
   "metadata": {
    "scrolled": false
   },
   "outputs": [
    {
     "data": {
      "text/plain": [
       "['.ipynb_checkpoints',\n",
       " '01-Phyton Notlarım Giriş.ipynb',\n",
       " '02-Phyton Notlarım Bazı Temel Fonksiyonlar ve print fonksiyonu(eksik).ipynb',\n",
       " '03-Python Notlarım Kaçış dizileri.ipynb',\n",
       " '04-Python Notlarım input(), eval(), exec() fonksiyonları ve format() metodu.ipynb',\n",
       " '05-Python Notlarım Koşullu Durumlar.ipynb',\n",
       " '06-Python Notlarım işleçler (Operatörler).ipynb',\n",
       " '07-Python Notlarım Döngüler (Loops).ipynb',\n",
       " '08-Python Notlarım Hata Yakalama.ipynb',\n",
       " '09-Python Notlarım Karakter Dizileri (strings).ipynb',\n",
       " '10-Python Notlarım Listeler ve Demetler.ipynb',\n",
       " '11-Python Notlarım Liste ve Demetlerin Metodları.ipynb',\n",
       " '12-Python Notlarım Sayma sistemleri.ipynb',\n",
       " '13-Python Notlarım Sayılar.ipynb',\n",
       " '14-Python Notlarım Dosyalarla Çalışma.ipynb',\n",
       " '15-Python Notlarım Karakter Kodlama.ipynb',\n",
       " '16-Python Notlarım Baytlar(Bytes) ve Bayt Dizileri (Bytearrays).ipynb',\n",
       " '17-Python Notlarım Sözlükler.ipynb',\n",
       " '18-Python Notlarım Kümeler (boş).ipynb',\n",
       " '19-Python Notlarım özel Fonksiyonlar.ipynb',\n",
       " '20-Python Notlarım Gömülü Fonksiyonlar.ipynb',\n",
       " '21-Python Notlarım lambda fonskiyonları ve recursive fonksyionlar.ipynb',\n",
       " '22-Python Notlarım Modüller.ipynb',\n",
       " '23-Python Notlarım Modüller.ipynb',\n",
       " 'deneme.html',\n",
       " 'falanca_dosya.txt',\n",
       " 'isimler1.txt',\n",
       " 'isimler2.txt',\n",
       " 'ornek.BMP',\n",
       " 'ornek.jpeg',\n",
       " 'ornek.pdf',\n",
       " 'ornek.png',\n",
       " 'Phyton Notlarım Bölüm1 ile 5.ipynb',\n",
       " 'Phyton Notlarım Bölüm6-10.ipynb',\n",
       " 'python notlarım özet bilgiler.ipynb',\n",
       " 'pythonbilgi.txt',\n",
       " 'sdgaf.txt',\n",
       " 'tahsilatlar.txt',\n",
       " 'tahsilatlar2.txt',\n",
       " 'çeşitli örnekler.ipynb']"
      ]
     },
     "execution_count": 6,
     "metadata": {},
     "output_type": "execute_result"
    }
   ],
   "source": [
    "listdir()"
   ]
  },
  {
   "cell_type": "markdown",
   "metadata": {},
   "source": [
    "NOT: Bu yöntemle bir modül içindeki herşeyi * joker karakteri kullanarak içeri aktarabiliriz, böylece modül içindekileri çağırırken her seferinde başına bir modül adı ya da kendi belirleyeceğimiz bir takma ad dahi kullanmamıza gerek kalmaz."
   ]
  },
  {
   "cell_type": "raw",
   "metadata": {},
   "source": [
    "from modül_adı import *"
   ]
  },
  {
   "cell_type": "markdown",
   "metadata": {},
   "source": [
    "## from modül_adı import isim as farklı_isim"
   ]
  },
  {
   "cell_type": "markdown",
   "metadata": {},
   "source": [
    "Bir modülün içindeki belli bir fonksiyon ya da niteliği kendi belirleyeceğimiz bir isimle çağırmak için kullanılan yöntemdir."
   ]
  },
  {
   "cell_type": "markdown",
   "metadata": {},
   "source": [
    "# Modül Tanımlama"
   ]
  },
  {
   "cell_type": "markdown",
   "metadata": {},
   "source": [
    "Aslında yazdığımız bütün py uzantılı python dosyaları birer modül sayılır. Ancak bazı modüller python dili ile yazılmamıştır ve bunların py uzantılı bir dosyaları dolayısıyla yoktur.\n",
    "Bir modülü tanımlamak için yazdığımız kodları bir py dosyasına kaydetmemiz yeterlidir. Ancak başka bir programda import etmek için ya aynı dizinde olmalı ya pythonun hazır modüllerinin bulunduğu dizinde olmalı ya da modülümüzün yolunu sys modülü içinde path içine eklemeliyiz."
   ]
  },
  {
   "cell_type": "markdown",
   "metadata": {},
   "source": [
    "Python'a bir import komutu gönderdiğimizde ilk önce programı çalıştırdığımız dizinde o modülü arar, bulamazsa sys.path içindeki dizinlerde arar, orada da bulamazsa ImportError verir."
   ]
  },
  {
   "cell_type": "code",
   "execution_count": 8,
   "metadata": {},
   "outputs": [
    {
     "data": {
      "text/plain": [
       "['C:\\\\Users\\\\kurtm\\\\Desktop\\\\Python çalışma notlarım',\n",
       " 'D:\\\\ProgramData\\\\Anaconda3\\\\python37.zip',\n",
       " 'D:\\\\ProgramData\\\\Anaconda3\\\\DLLs',\n",
       " 'D:\\\\ProgramData\\\\Anaconda3\\\\lib',\n",
       " 'D:\\\\ProgramData\\\\Anaconda3',\n",
       " '',\n",
       " 'D:\\\\ProgramData\\\\Anaconda3\\\\lib\\\\site-packages',\n",
       " 'D:\\\\ProgramData\\\\Anaconda3\\\\lib\\\\site-packages\\\\win32',\n",
       " 'D:\\\\ProgramData\\\\Anaconda3\\\\lib\\\\site-packages\\\\win32\\\\lib',\n",
       " 'D:\\\\ProgramData\\\\Anaconda3\\\\lib\\\\site-packages\\\\Pythonwin',\n",
       " 'D:\\\\ProgramData\\\\Anaconda3\\\\lib\\\\site-packages\\\\IPython\\\\extensions',\n",
       " 'C:\\\\Users\\\\kurtm\\\\.ipython']"
      ]
     },
     "execution_count": 8,
     "metadata": {},
     "output_type": "execute_result"
    }
   ],
   "source": [
    "import sys\n",
    "sys.path"
   ]
  },
  {
   "cell_type": "markdown",
   "metadata": {},
   "source": [
    "Görüldüğü gibi bu bir listedir. Herhangi bir listeye bir öğeyi nasıl ekliyorsak modülümüzün yolunu da aynı şekilde ekleriz."
   ]
  },
  {
   "cell_type": "code",
   "execution_count": 9,
   "metadata": {},
   "outputs": [],
   "source": [
    "sys.path.append(\"D/pythonmodullerim\")"
   ]
  },
  {
   "cell_type": "code",
   "execution_count": 10,
   "metadata": {},
   "outputs": [
    {
     "data": {
      "text/plain": [
       "['C:\\\\Users\\\\kurtm\\\\Desktop\\\\Python çalışma notlarım',\n",
       " 'D:\\\\ProgramData\\\\Anaconda3\\\\python37.zip',\n",
       " 'D:\\\\ProgramData\\\\Anaconda3\\\\DLLs',\n",
       " 'D:\\\\ProgramData\\\\Anaconda3\\\\lib',\n",
       " 'D:\\\\ProgramData\\\\Anaconda3',\n",
       " '',\n",
       " 'D:\\\\ProgramData\\\\Anaconda3\\\\lib\\\\site-packages',\n",
       " 'D:\\\\ProgramData\\\\Anaconda3\\\\lib\\\\site-packages\\\\win32',\n",
       " 'D:\\\\ProgramData\\\\Anaconda3\\\\lib\\\\site-packages\\\\win32\\\\lib',\n",
       " 'D:\\\\ProgramData\\\\Anaconda3\\\\lib\\\\site-packages\\\\Pythonwin',\n",
       " 'D:\\\\ProgramData\\\\Anaconda3\\\\lib\\\\site-packages\\\\IPython\\\\extensions',\n",
       " 'C:\\\\Users\\\\kurtm\\\\.ipython',\n",
       " 'D/pythonmodullerim']"
      ]
     },
     "execution_count": 10,
     "metadata": {},
     "output_type": "execute_result"
    }
   ],
   "source": [
    "sys.path"
   ]
  },
  {
   "cell_type": "markdown",
   "metadata": {},
   "source": [
    "Eğer modülümüzle aynı isimde başka bir modül bu listede daha üst sıradaki dizinlerden birinde yer alıyorsa o zaman o modül çalışır."
   ]
  },
  {
   "cell_type": "markdown",
   "metadata": {},
   "source": [
    "##### Aşağıdaki adreste python için yazılmış geniş bir 3. şahıs modül kütüphanesi bulunmaktadır."
   ]
  },
  {
   "cell_type": "markdown",
   "metadata": {},
   "source": [
    "https://pypi.python.org/pypi"
   ]
  },
  {
   "cell_type": "markdown",
   "metadata": {},
   "source": [
    "Aşağıdaki komut satırını kullanarak yukarıdaki adresteki modüllerden belirtileni kurabiiriz."
   ]
  },
  {
   "cell_type": "raw",
   "metadata": {},
   "source": [
    "pip3 install modül_adı"
   ]
  },
  {
   "cell_type": "markdown",
   "metadata": {},
   "source": [
    "# Modüllerin özel nitelikleri"
   ]
  },
  {
   "cell_type": "code",
   "execution_count": 1,
   "metadata": {},
   "outputs": [
    {
     "name": "stdout",
     "output_type": "stream",
     "text": [
      "Bir kelime girin: Murat can kurt\n",
      "Murat can kurt kelimesinde 4 sesli harf var.\n"
     ]
    }
   ],
   "source": [
    "sesli_harfler = 'aeıioöuü'\n",
    "sayaç = 0\n",
    "\n",
    "def kelime_sor():\n",
    "    return input('Bir kelime girin: ')\n",
    "\n",
    "def seslidir(harf):\n",
    "    return harf in sesli_harfler\n",
    "\n",
    "def artır(sayaç, kelime):\n",
    "    for harf in kelime:\n",
    "        if seslidir(harf):\n",
    "            sayaç += 1\n",
    "    return sayaç\n",
    "\n",
    "def ekrana_bas(kelime):\n",
    "    mesaj = \"{} kelimesinde {} sesli harf var.\"\n",
    "    print(mesaj.format(kelime, artır(sayaç, kelime)))\n",
    "\n",
    "def çalıştır():\n",
    "    kelime = kelime_sor()\n",
    "    ekrana_bas(kelime)\n",
    "\n",
    "if __name__ == '__main__': # Buradaki satır, yazdığımız kodların __name__ özelliğinin __main__ \n",
    "#vermesi durumunda fonksiyonumuzun çağırılmasına yarıyor, yani bu kodları kaydettiğimiz dosyayı modül\n",
    "#olarak başka bir dosyaya içeri aktardığımızda burada main yerine dosya adı yazacak ve alt satırdaki çalıştır() ifadesi\n",
    "#çağırılmamış olacak.\n",
    "    çalıştır()"
   ]
  },
  {
   "cell_type": "code",
   "execution_count": null,
   "metadata": {},
   "outputs": [],
   "source": []
  }
 ],
 "metadata": {
  "kernelspec": {
   "display_name": "Python 3",
   "language": "python",
   "name": "python3"
  },
  "language_info": {
   "codemirror_mode": {
    "name": "ipython",
    "version": 3
   },
   "file_extension": ".py",
   "mimetype": "text/x-python",
   "name": "python",
   "nbconvert_exporter": "python",
   "pygments_lexer": "ipython3",
   "version": "3.7.6"
  }
 },
 "nbformat": 4,
 "nbformat_minor": 2
}
