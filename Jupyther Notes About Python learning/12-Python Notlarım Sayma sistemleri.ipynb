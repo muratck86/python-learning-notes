{
 "cells": [
  {
   "cell_type": "code",
   "execution_count": 1,
   "metadata": {},
   "outputs": [
    {
     "name": "stdout",
     "output_type": "stream",
     "text": [
      "     onlu           sekizli        on altılı         ikili      \n",
      "       0               0               0               0       \n",
      "       1               1               1               1       \n",
      "       2               2               2              10       \n",
      "       3               3               3              11       \n",
      "       4               4               4              100      \n",
      "       5               5               5              101      \n",
      "       6               6               6              110      \n",
      "       7               7               7              111      \n",
      "       8              10               8             1000      \n",
      "       9              11               9             1001      \n",
      "      10              12               a             1010      \n",
      "      11              13               b             1011      \n",
      "      12              14               c             1100      \n",
      "      13              15               d             1101      \n",
      "      14              16               e             1110      \n",
      "      15              17               f             1111      \n",
      "      16              20              10             10000     \n",
      "      17              21              11             10001     \n",
      "      18              22              12             10010     \n",
      "      19              23              13             10011     \n",
      "      20              24              14             10100     \n",
      "      21              25              15             10101     \n",
      "      22              26              16             10110     \n",
      "      23              27              17             10111     \n",
      "      24              30              18             11000     \n",
      "      25              31              19             11001     \n",
      "      26              32              1a             11010     \n",
      "      27              33              1b             11011     \n",
      "      28              34              1c             11100     \n",
      "      29              35              1d             11101     \n",
      "      30              36              1e             11110     \n",
      "      31              37              1f             11111     \n",
      "      32              40              20            100000     \n"
     ]
    }
   ],
   "source": [
    "sayı_sistemleri = [\"onlu\", \"sekizli\", \"on altılı\", \"ikili\"]\n",
    "\n",
    "print((\"{:^15} \"*len(sayı_sistemleri)).format(*sayı_sistemleri))\n",
    "\n",
    "for i in range(33):\n",
    "    print(\"{0:^15} {0:^15o} {0:^15x} {0:^15b}\".format(i))"
   ]
  },
  {
   "cell_type": "markdown",
   "metadata": {},
   "source": [
    "# Fonksiyon Kullanarak Sayma Sistemleri arasında dönüşüm"
   ]
  },
  {
   "cell_type": "markdown",
   "metadata": {},
   "source": [
    "## bin()"
   ]
  },
  {
   "cell_type": "markdown",
   "metadata": {},
   "source": [
    "Bir sayıyı binary sayma sistemine dönüştürür, string formatında çıktı verir çıktının başına binary anlamına gelen 0b ekler."
   ]
  },
  {
   "cell_type": "code",
   "execution_count": 9,
   "metadata": {},
   "outputs": [
    {
     "name": "stdout",
     "output_type": "stream",
     "text": [
      "0b101\n",
      "101\n"
     ]
    }
   ],
   "source": [
    "ikili=bin(5)\n",
    "print(bin(5))\n",
    "print(bin(5)[2:])"
   ]
  },
  {
   "cell_type": "markdown",
   "metadata": {},
   "source": [
    "## hex()"
   ]
  },
  {
   "cell_type": "markdown",
   "metadata": {},
   "source": [
    "Bir sayıyı hexagonal(onaltılı) sayma sistemine dönüştürür, string formatında çıktı verir çıktının başına hexagonal anlamına gelen 0x ekler."
   ]
  },
  {
   "cell_type": "code",
   "execution_count": 11,
   "metadata": {},
   "outputs": [
    {
     "data": {
      "text/plain": [
       "'0x1c'"
      ]
     },
     "execution_count": 11,
     "metadata": {},
     "output_type": "execute_result"
    }
   ],
   "source": [
    "hex(28)"
   ]
  },
  {
   "cell_type": "code",
   "execution_count": 12,
   "metadata": {},
   "outputs": [
    {
     "data": {
      "text/plain": [
       "'1c'"
      ]
     },
     "execution_count": 12,
     "metadata": {},
     "output_type": "execute_result"
    }
   ],
   "source": [
    "hex(28)[2:]"
   ]
  },
  {
   "cell_type": "markdown",
   "metadata": {},
   "source": [
    "## int()"
   ]
  },
  {
   "cell_type": "markdown",
   "metadata": {},
   "source": [
    "Şimdiye kadar bildiklerimizin haricinde başka sayma sistemlerindeki sayıları onluk sisteme dönüştürür."
   ]
  },
  {
   "cell_type": "code",
   "execution_count": 14,
   "metadata": {},
   "outputs": [
    {
     "data": {
      "text/plain": [
       "284"
      ]
     },
     "execution_count": 14,
     "metadata": {},
     "output_type": "execute_result"
    }
   ],
   "source": [
    "int(\"11c\",16)"
   ]
  },
  {
   "cell_type": "code",
   "execution_count": 15,
   "metadata": {},
   "outputs": [
    {
     "data": {
      "text/plain": [
       "19"
      ]
     },
     "execution_count": 15,
     "metadata": {},
     "output_type": "execute_result"
    }
   ],
   "source": [
    "int(\"10011\",2)"
   ]
  },
  {
   "cell_type": "code",
   "execution_count": 16,
   "metadata": {},
   "outputs": [
    {
     "data": {
      "text/plain": [
       "65553"
      ]
     },
     "execution_count": 16,
     "metadata": {},
     "output_type": "execute_result"
    }
   ],
   "source": [
    "int(\"10011\",16)"
   ]
  },
  {
   "cell_type": "code",
   "execution_count": 17,
   "metadata": {},
   "outputs": [
    {
     "data": {
      "text/plain": [
       "4105"
      ]
     },
     "execution_count": 17,
     "metadata": {},
     "output_type": "execute_result"
    }
   ],
   "source": [
    "int(\"10011\",8)"
   ]
  },
  {
   "cell_type": "markdown",
   "metadata": {},
   "source": [
    "## oct()"
   ]
  },
  {
   "cell_type": "code",
   "execution_count": 18,
   "metadata": {},
   "outputs": [
    {
     "data": {
      "text/plain": [
       "'0o352'"
      ]
     },
     "execution_count": 18,
     "metadata": {},
     "output_type": "execute_result"
    }
   ],
   "source": [
    "oct(234)"
   ]
  },
  {
   "cell_type": "markdown",
   "metadata": {},
   "source": [
    "# Biçimlendirme yaparak sayma sistemleri arasında dönüşüm"
   ]
  },
  {
   "cell_type": "markdown",
   "metadata": {},
   "source": [
    "## b"
   ]
  },
  {
   "cell_type": "code",
   "execution_count": 20,
   "metadata": {},
   "outputs": [
    {
     "data": {
      "text/plain": [
       "'1100'"
      ]
     },
     "execution_count": 20,
     "metadata": {},
     "output_type": "execute_result"
    }
   ],
   "source": [
    "'{:b}'.format(12)"
   ]
  },
  {
   "cell_type": "markdown",
   "metadata": {},
   "source": [
    "## x"
   ]
  },
  {
   "cell_type": "code",
   "execution_count": 22,
   "metadata": {},
   "outputs": [
    {
     "data": {
      "text/plain": [
       "'4ee'"
      ]
     },
     "execution_count": 22,
     "metadata": {},
     "output_type": "execute_result"
    }
   ],
   "source": [
    "'{:x}'.format(1262)"
   ]
  },
  {
   "cell_type": "markdown",
   "metadata": {},
   "source": [
    "## o"
   ]
  },
  {
   "cell_type": "code",
   "execution_count": 23,
   "metadata": {},
   "outputs": [
    {
     "data": {
      "text/plain": [
       "'1536'"
      ]
     },
     "execution_count": 23,
     "metadata": {},
     "output_type": "execute_result"
    }
   ],
   "source": [
    "'{:o}'.format(862)"
   ]
  }
 ],
 "metadata": {
  "kernelspec": {
   "display_name": "Python 3",
   "language": "python",
   "name": "python3"
  },
  "language_info": {
   "codemirror_mode": {
    "name": "ipython",
    "version": 3
   },
   "file_extension": ".py",
   "mimetype": "text/x-python",
   "name": "python",
   "nbconvert_exporter": "python",
   "pygments_lexer": "ipython3",
   "version": "3.7.6"
  }
 },
 "nbformat": 4,
 "nbformat_minor": 2
}
