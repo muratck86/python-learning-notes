{
 "cells": [
  {
   "cell_type": "markdown",
   "metadata": {},
   "source": [
    "# Listelerin Metodları"
   ]
  },
  {
   "cell_type": "markdown",
   "metadata": {},
   "source": [
    "## append()"
   ]
  },
  {
   "cell_type": "markdown",
   "metadata": {},
   "source": [
    "Mevcut bir listeye (bu liste boş da olabilir) öğe ekelemeye yarar. Tek parametresi vardır ve tek bir öğe ekler."
   ]
  },
  {
   "cell_type": "code",
   "execution_count": 3,
   "metadata": {},
   "outputs": [
    {
     "data": {
      "text/plain": [
       "['Windows', 'GNU/Linux', 'Mac OS X', 'MS-DOS']"
      ]
     },
     "execution_count": 3,
     "metadata": {},
     "output_type": "execute_result"
    }
   ],
   "source": [
    "işletim_sistemleri = [\"Windows\", \"GNU/Linux\", \"Mac OS X\"]\n",
    "işletim_sistemleri.append(\"MS-DOS\")\n",
    "işletim_sistemleri"
   ]
  },
  {
   "cell_type": "code",
   "execution_count": 10,
   "metadata": {},
   "outputs": [
    {
     "data": {
      "text/plain": [
       "[1, 3, 4, [10, 11, 12]]"
      ]
     },
     "execution_count": 10,
     "metadata": {},
     "output_type": "execute_result"
    }
   ],
   "source": [
    "li1 = [1, 3, 4]\n",
    "li2 = [10, 11, 12]\n",
    "li1. append(li2)\n",
    "li1"
   ]
  },
  {
   "cell_type": "markdown",
   "metadata": {},
   "source": [
    "## extend()"
   ]
  },
  {
   "cell_type": "markdown",
   "metadata": {},
   "source": [
    "Bir Listeye bir iterable'daki tüm öğeleri eklemeye yarar. Tek parametre alır. (iterable: öğelerden oluşan ya da öğelere ayrılabilen veri tipidir. Örnek olarak listeler, demetler, stringler, range()"
   ]
  },
  {
   "cell_type": "code",
   "execution_count": 16,
   "metadata": {},
   "outputs": [
    {
     "name": "stdout",
     "output_type": "stream",
     "text": [
      "['Windows', 'GNU/Linux', 'Mac OS X', 'IPhone', 'Android', 'S60']\n"
     ]
    }
   ],
   "source": [
    "işletim_sistemleri = [\"Windows\", \"GNU/Linux\", \"Mac OS X\"]\n",
    "platformlar = [\"IPhone\", \"Android\", \"S60\"]\n",
    "işletim_sistemleri.extend(platformlar)\n",
    "print(işletim_sistemleri)"
   ]
  },
  {
   "cell_type": "code",
   "execution_count": 19,
   "metadata": {},
   "outputs": [
    {
     "name": "stdout",
     "output_type": "stream",
     "text": [
      "['Windows', 'GNU/Linux', 'Mac OS X', 0, 1, 2, 3, 4, 5, 6, 7, 8, 9]\n"
     ]
    }
   ],
   "source": [
    "işletim_sistemleri = [\"Windows\", \"GNU/Linux\", \"Mac OS X\"]\n",
    "platformlar = range(10)\n",
    "işletim_sistemleri.extend(platformlar)\n",
    "print(işletim_sistemleri)"
   ]
  },
  {
   "cell_type": "code",
   "execution_count": 20,
   "metadata": {},
   "outputs": [
    {
     "name": "stdout",
     "output_type": "stream",
     "text": [
      "['Windows', 'GNU/Linux', 'Mac OS X', 'A', 'n', 'd', 'r', 'o', 'i', 'd']\n"
     ]
    }
   ],
   "source": [
    "işletim_sistemleri = [\"Windows\", \"GNU/Linux\", \"Mac OS X\"]\n",
    "platformlar = \"Android\"\n",
    "işletim_sistemleri.extend(platformlar)\n",
    "print(işletim_sistemleri)"
   ]
  },
  {
   "cell_type": "markdown",
   "metadata": {},
   "source": [
    "## insert()\n"
   ]
  },
  {
   "cell_type": "markdown",
   "metadata": {},
   "source": [
    "Bir listeye istediğimiz index numarasına öğe eklememizi sağlayan metoddur. İki parametre alır, ilki eklemek istediğimiz index numarası ve ikincisi eklemek istediğimiz veridir."
   ]
  },
  {
   "cell_type": "code",
   "execution_count": 22,
   "metadata": {},
   "outputs": [
    {
     "name": "stdout",
     "output_type": "stream",
     "text": [
      "['Windows', ['IPhone', 'Android', 'S60'], 'GNU/Linux', 'Mac OS X']\n"
     ]
    }
   ],
   "source": [
    "işletim_sistemleri = [\"Windows\", \"GNU/Linux\", \"Mac OS X\"]\n",
    "platformlar = [\"IPhone\", \"Android\", \"S60\"]\n",
    "işletim_sistemleri.insert(1,platformlar)\n",
    "print(işletim_sistemleri)"
   ]
  },
  {
   "cell_type": "code",
   "execution_count": 32,
   "metadata": {},
   "outputs": [
    {
     "name": "stdout",
     "output_type": "stream",
     "text": [
      "['Windows', 'MS-DOS', 'GNU/Linux', 'Mac OS X']\n"
     ]
    }
   ],
   "source": [
    "işletim_sistemleri = [\"Windows\", \"GNU/Linux\", \"Mac OS X\"]\n",
    "işletim_sistemleri.insert(1,\"MS-DOS\")\n",
    "print(işletim_sistemleri)"
   ]
  },
  {
   "cell_type": "code",
   "execution_count": 36,
   "metadata": {},
   "outputs": [
    {
     "name": "stdout",
     "output_type": "stream",
     "text": [
      "['Windows', 'GNU/Linux', 'Mac OS X', 'Android']\n"
     ]
    }
   ],
   "source": [
    "işletim_sistemleri = [\"Windows\", \"GNU/Linux\", \"Mac OS X\"]\n",
    "platformlar = [\"IPhone\", \"Android\", \"S60\"]\n",
    "işletim_sistemleri.insert(3,platformlar[1])\n",
    "print(işletim_sistemleri)"
   ]
  },
  {
   "cell_type": "markdown",
   "metadata": {},
   "source": [
    "## remove()"
   ]
  },
  {
   "cell_type": "markdown",
   "metadata": {},
   "source": [
    "Belirtilen öğeyi listeden siler. Tek parametre alır"
   ]
  },
  {
   "cell_type": "code",
   "execution_count": 30,
   "metadata": {},
   "outputs": [
    {
     "name": "stdout",
     "output_type": "stream",
     "text": [
      "['GNU/Linux', 'Mac OS X']\n"
     ]
    }
   ],
   "source": [
    "işletim_sistemleri = [\"Windows\", \"GNU/Linux\", \"Mac OS X\"]\n",
    "işletim_sistemleri.remove(\"Windows\")\n",
    "print(işletim_sistemleri)"
   ]
  },
  {
   "cell_type": "code",
   "execution_count": 31,
   "metadata": {},
   "outputs": [
    {
     "name": "stdout",
     "output_type": "stream",
     "text": [
      "['GNU/Linux', 'Mac OS X']\n"
     ]
    }
   ],
   "source": [
    "işletim_sistemleri = [\"Windows\", \"GNU/Linux\", \"Mac OS X\"]\n",
    "işletim_sistemleri.remove(işletim_sistemleri[0])\n",
    "print(işletim_sistemleri)"
   ]
  },
  {
   "cell_type": "markdown",
   "metadata": {},
   "source": [
    "## reverse()"
   ]
  },
  {
   "cell_type": "markdown",
   "metadata": {},
   "source": [
    "Liste sıralamasını ters çevirmeye yarar. Hiç parametre almaz."
   ]
  },
  {
   "cell_type": "code",
   "execution_count": 41,
   "metadata": {},
   "outputs": [
    {
     "data": {
      "text/plain": [
       "[9, 8, 7, 6, 5, 4, 3, 2, 1, 0]"
      ]
     },
     "execution_count": 41,
     "metadata": {},
     "output_type": "execute_result"
    }
   ],
   "source": [
    "rakamlar=[0,1,2,3,4,5,6,7,8,9]\n",
    "rakamlar.reverse()\n",
    "rakamlar"
   ]
  },
  {
   "cell_type": "markdown",
   "metadata": {},
   "source": [
    "## pop()"
   ]
  },
  {
   "cell_type": "markdown",
   "metadata": {},
   "source": [
    "Bu metod bir parametre alır, parametresiz kullanımda listenin son öğesini siler, parametre ile kullanıldığında ise girilen index numarasındaki öğeyi siler. remove() ile aralarındaki fark: remove metodunda silinecek öğeyi parametreye gireriz, pop metodunda ise öğenin index numarasını. Ayrıca pop metodu silme işlemi yaptığı öğeyi ekrana bastırır."
   ]
  },
  {
   "cell_type": "code",
   "execution_count": 50,
   "metadata": {},
   "outputs": [
    {
     "data": {
      "text/plain": [
       "'Mac OS X'"
      ]
     },
     "execution_count": 50,
     "metadata": {},
     "output_type": "execute_result"
    }
   ],
   "source": [
    "işletim_sistemleri = [\"Windows\", \"GNU/Linux\", \"Mac OS X\"]\n",
    "işletim_sistemleri.pop()"
   ]
  },
  {
   "cell_type": "code",
   "execution_count": 52,
   "metadata": {},
   "outputs": [
    {
     "data": {
      "text/plain": [
       "'GNU/Linux'"
      ]
     },
     "execution_count": 52,
     "metadata": {},
     "output_type": "execute_result"
    }
   ],
   "source": [
    "işletim_sistemleri = [\"Windows\", \"GNU/Linux\", \"Mac OS X\"]\n",
    "işletim_sistemleri.pop(1)"
   ]
  },
  {
   "cell_type": "code",
   "execution_count": 56,
   "metadata": {},
   "outputs": [
    {
     "data": {
      "text/plain": [
       "'GNU/Linux'"
      ]
     },
     "execution_count": 56,
     "metadata": {},
     "output_type": "execute_result"
    }
   ],
   "source": [
    "işletim_sistemleri = [\"Windows\", \"GNU/Linux\", \"Mac OS X\"]\n",
    "işletim_sistemleri.pop(1)"
   ]
  },
  {
   "cell_type": "markdown",
   "metadata": {},
   "source": [
    "## sort()"
   ]
  },
  {
   "cell_type": "markdown",
   "metadata": {},
   "source": [
    "Bu metod listenin öğelerini yeniden sıralar, küçükten büyüğe ya da alfabetik sıralamaya sokar. İki adet parametre alabilir. İlki \"key\" adlı bir parametredir. Bu parametre ile sıralama için özel bir kural belirlenmişse, o kurala göre sıralama yaptırılır. ikinci parametre ise \"reverse\" adlı parametredir. Bu parametre sadece 2 değer alabilir. Varsayılan değeri False'dir. Eğer bu parametreye True değeri girersek, sıralamayı azalan sıralama şeklinde yapacakdır."
   ]
  },
  {
   "cell_type": "code",
   "execution_count": 59,
   "metadata": {},
   "outputs": [
    {
     "data": {
      "text/plain": [
       "[-4, 0, 2, 3.2, 5, 18]"
      ]
     },
     "execution_count": 59,
     "metadata": {},
     "output_type": "execute_result"
    }
   ],
   "source": [
    "liste=[2,5,0,18,-4,3.2]\n",
    "liste.sort()\n",
    "liste"
   ]
  },
  {
   "cell_type": "code",
   "execution_count": 61,
   "metadata": {},
   "outputs": [
    {
     "data": {
      "text/plain": [
       "[18, 5, 3.2, 2, 0, -4]"
      ]
     },
     "execution_count": 61,
     "metadata": {},
     "output_type": "execute_result"
    }
   ],
   "source": [
    "liste=[2,5,0,18,-4,3.2]\n",
    "liste.sort(reverse=True)\n",
    "liste"
   ]
  },
  {
   "cell_type": "code",
   "execution_count": 87,
   "metadata": {},
   "outputs": [
    {
     "data": {
      "text/plain": [
       "['Ahmet', 'Can', 'Işık', 'Çiğdem', 'İsmail', 'Şule']"
      ]
     },
     "execution_count": 87,
     "metadata": {},
     "output_type": "execute_result"
    }
   ],
   "source": [
    "#Bu fonksiyon görüleceği üzere türkçe karakterlerin sıralamasını yanlış yapıyor.\n",
    "isimler = [\"Ahmet\", \"Işık\", \"İsmail\", \"Çiğdem\", \"Can\", \"Şule\"]\n",
    "isimler.sort()\n",
    "isimler"
   ]
  },
  {
   "cell_type": "code",
   "execution_count": 89,
   "metadata": {},
   "outputs": [
    {
     "name": "stdout",
     "output_type": "stream",
     "text": [
      "['ahmet', 'can', 'çiğdem', 'ışık', 'ismail', 'şule']\n"
     ]
    }
   ],
   "source": [
    "# Bunu  sıralama hatasını düzeltmek için key parametresi ile düzenleme yapılabiir:\n",
    "\n",
    "harfler = \"abcçdefgğhıijklmnoöprsştuüvyz\"\n",
    "çevrim = {harf: harfler.index(harf) for harf in harfler}\n",
    "\n",
    "isimler = [\"ahmet\", \"ışık\", \"ismail\", \"çiğdem\", \"can\", \"şule\"]\n",
    "\n",
    "isimler.sort(key=lambda x: çevrim.get(x[0]))\n",
    "\n",
    "print(isimler)"
   ]
  },
  {
   "cell_type": "markdown",
   "metadata": {},
   "source": [
    "## copy()"
   ]
  },
  {
   "cell_type": "markdown",
   "metadata": {},
   "source": [
    "Listeyi kopyalamaya yarar."
   ]
  },
  {
   "cell_type": "code",
   "execution_count": 109,
   "metadata": {},
   "outputs": [],
   "source": [
    "liste=['ahmet', 'can', 'çiğdem', 'ışık', 'ismail','can', 'şule']\n",
    "liste2=liste.copy()"
   ]
  },
  {
   "cell_type": "markdown",
   "metadata": {},
   "source": [
    "## clear()"
   ]
  },
  {
   "cell_type": "markdown",
   "metadata": {},
   "source": [
    "Bir listenin içeriğini boşaltmaya yarar."
   ]
  },
  {
   "cell_type": "markdown",
   "metadata": {},
   "source": [
    "# Listelerin ve Demetlerin Ortak Metodları"
   ]
  },
  {
   "cell_type": "markdown",
   "metadata": {},
   "source": [
    "## count()"
   ]
  },
  {
   "cell_type": "markdown",
   "metadata": {},
   "source": [
    "Bu metodu da biliyoruz. Bir öğenin listede veya demette kaç adet olduğunu döndürür."
   ]
  },
  {
   "cell_type": "markdown",
   "metadata": {},
   "source": [
    "## index()"
   ]
  },
  {
   "cell_type": "markdown",
   "metadata": {},
   "source": [
    "Bu metodu da zaten biliyoruz. Toplam 3 parametre alabilir. İlk parametre index numarasını istediğimiz öğedir. İkinci parametre başlangıç parametresi ve son parametre ise bitiş parametresidir. Liste veya demet içinde aynı öğe birden fazla varsa ilk karşılaştığının indexini verir."
   ]
  },
  {
   "cell_type": "code",
   "execution_count": 116,
   "metadata": {},
   "outputs": [
    {
     "data": {
      "text/plain": [
       "1"
      ]
     },
     "execution_count": 116,
     "metadata": {},
     "output_type": "execute_result"
    }
   ],
   "source": [
    "demet=('ahmet', 'can', 'çiğdem', 'ışık', 'ismail', 'şule')\n",
    "demet.index(\"can\")"
   ]
  },
  {
   "cell_type": "code",
   "execution_count": 103,
   "metadata": {},
   "outputs": [
    {
     "ename": "ValueError",
     "evalue": "'ahmet' is not in list",
     "output_type": "error",
     "traceback": [
      "\u001b[1;31m---------------------------------------------------------------------------\u001b[0m",
      "\u001b[1;31mValueError\u001b[0m                                Traceback (most recent call last)",
      "\u001b[1;32m<ipython-input-103-ef5715c2b64b>\u001b[0m in \u001b[0;36m<module>\u001b[1;34m\u001b[0m\n\u001b[0;32m      1\u001b[0m \u001b[0mliste\u001b[0m\u001b[1;33m=\u001b[0m\u001b[1;33m[\u001b[0m\u001b[1;34m'ahmet'\u001b[0m\u001b[1;33m,\u001b[0m \u001b[1;34m'can'\u001b[0m\u001b[1;33m,\u001b[0m \u001b[1;34m'çiğdem'\u001b[0m\u001b[1;33m,\u001b[0m \u001b[1;34m'ışık'\u001b[0m\u001b[1;33m,\u001b[0m \u001b[1;34m'ismail'\u001b[0m\u001b[1;33m,\u001b[0m\u001b[1;34m'can'\u001b[0m\u001b[1;33m,\u001b[0m \u001b[1;34m'şule'\u001b[0m\u001b[1;33m]\u001b[0m\u001b[1;33m\u001b[0m\u001b[1;33m\u001b[0m\u001b[0m\n\u001b[1;32m----> 2\u001b[1;33m \u001b[0mliste\u001b[0m\u001b[1;33m.\u001b[0m\u001b[0mindex\u001b[0m\u001b[1;33m(\u001b[0m\u001b[1;34m\"ahmet\"\u001b[0m\u001b[1;33m,\u001b[0m\u001b[1;36m1\u001b[0m\u001b[1;33m,\u001b[0m\u001b[1;36m5\u001b[0m\u001b[1;33m)\u001b[0m\u001b[1;33m\u001b[0m\u001b[1;33m\u001b[0m\u001b[0m\n\u001b[0m",
      "\u001b[1;31mValueError\u001b[0m: 'ahmet' is not in list"
     ]
    }
   ],
   "source": [
    "liste=['ahmet', 'can', 'çiğdem', 'ışık', 'ismail','can', 'şule']\n",
    "liste.index(\"ahmet\",1,5)"
   ]
  },
  {
   "cell_type": "code",
   "execution_count": 100,
   "metadata": {},
   "outputs": [
    {
     "data": {
      "text/plain": [
       "1"
      ]
     },
     "execution_count": 100,
     "metadata": {},
     "output_type": "execute_result"
    }
   ],
   "source": [
    "liste=['ahmet', 'can', 'çiğdem', 'ışık', 'ismail','can', 'şule']\n",
    "liste.index(\"can\",1,6)"
   ]
  },
  {
   "cell_type": "code",
   "execution_count": 118,
   "metadata": {},
   "outputs": [
    {
     "data": {
      "text/plain": [
       "5"
      ]
     },
     "execution_count": 118,
     "metadata": {},
     "output_type": "execute_result"
    }
   ],
   "source": [
    "demet2=('ahmet', 'can', 'çiğdem', 'ışık', 'ismail','can', 'şule')\n",
    "demet2.index(\"can\",2,6)"
   ]
  }
 ],
 "metadata": {
  "kernelspec": {
   "display_name": "Python 3",
   "language": "python",
   "name": "python3"
  },
  "language_info": {
   "codemirror_mode": {
    "name": "ipython",
    "version": 3
   },
   "file_extension": ".py",
   "mimetype": "text/x-python",
   "name": "python",
   "nbconvert_exporter": "python",
   "pygments_lexer": "ipython3",
   "version": "3.7.6"
  }
 },
 "nbformat": 4,
 "nbformat_minor": 2
}
