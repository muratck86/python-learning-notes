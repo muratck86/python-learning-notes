{
 "cells": [
  {
   "cell_type": "markdown",
   "metadata": {},
   "source": [
    "# MİRAS ALMA (INHERITANCE)"
   ]
  },
  {
   "cell_type": "markdown",
   "metadata": {},
   "source": [
    "## Taban=Üst=Ebeveyn Sınıf(Base=Super=Parent Class)"
   ]
  },
  {
   "cell_type": "markdown",
   "metadata": {},
   "source": [
    "Yazacağımız program içinde birbiriyle birçok ortak özelliği ve metodları olan sınıflar tanımlarken her sınıf tanımında aynı kodları tekrar tekrar yazmamak için bütün bu sınıfların ortak özelliklerini topladığımız bir taban sınıf tanımlarız. Diğer bütün sınıfları bu taban sınıftan türetiriz."
   ]
  },
  {
   "cell_type": "markdown",
   "metadata": {},
   "source": [
    "Diyelim ki bir oyun yazıyoruz. Bu oyunda Asker, işçi, Yönetici gibi karakter çeşitlerimiz olsun ve bu karakterlerin hepsi hareket edebiliyor, puan kazanabiliyor ve belli bir hp ye sahip olsun. Bu üç karakter türü için ayrı ayrı sınıflarda aynı kodları tekrar tekrar yazmak yerine Karakterler isimli bir taban sınıfı oluşturabiliriz."
   ]
  },
  {
   "cell_type": "code",
   "execution_count": 2,
   "metadata": {},
   "outputs": [],
   "source": [
    "#aşağıda her karakter türü için ayrı ayrı sınıflar yazdık ve görüldüğü gibi hepsinde aynı kodlar tekrar ediyor.\n",
    "class Asker():\n",
    "    def __init__(self, isim, rütbe):\n",
    "        self.isim = isim\n",
    "        self.rütbe = rütbe\n",
    "        self.güç = 100\n",
    "\n",
    "    def hareket_et(self):\n",
    "        print('hareket ediliyor...')\n",
    "\n",
    "    def puan_kazan(self):\n",
    "        print('puan kazanıldı')\n",
    "\n",
    "    def puan_kaybet(self):\n",
    "        print('puan kaybedildi')\n",
    "\n",
    "class İşçi():\n",
    "    def __init__(self, isim, rütbe):\n",
    "        self.isim = isim\n",
    "        self.rütbe = rütbe\n",
    "        self.güç = 70\n",
    "\n",
    "    def hareket_et(self):\n",
    "        print('hareket ediliyor...')\n",
    "\n",
    "    def puan_kazan(self):\n",
    "        print('puan kazanıldı')\n",
    "\n",
    "    def puan_kaybet(self):\n",
    "        print('puan kaybedildi')\n",
    "\n",
    "class Yönetici():\n",
    "    def __init__(self, isim, rütbe):\n",
    "        self.isim = isim\n",
    "        self.rütbe = rütbe\n",
    "        self.güç = 20\n",
    "\n",
    "    def hareket_et(self):\n",
    "        print('hareket ediliyor...')\n",
    "\n",
    "    def puan_kazan(self):\n",
    "        print('puan kazanıldı')\n",
    "\n",
    "    def puan_kaybet(self):\n",
    "        print('puan kaybedildi')"
   ]
  },
  {
   "cell_type": "code",
   "execution_count": 3,
   "metadata": {},
   "outputs": [],
   "source": [
    "#Halbuki şöyle bir taban sınıf yazıp, karakterlerimizi bu taban sınıftan türetebiliriz.\n",
    "class Karakterler():\n",
    "    def __init__(self, isim, rütbe):\n",
    "        self.isim = isim\n",
    "        self.rütbe = rütbe\n",
    "        self.güç = 0\n",
    "\n",
    "    def hareket_et(self):\n",
    "        print('hareket ediliyor...')\n",
    "\n",
    "    def puan_kazan(self):\n",
    "        print('puan kazanıldı')\n",
    "\n",
    "    def puan_kaybet(self):\n",
    "        print('puan kaybedildi')"
   ]
  },
  {
   "cell_type": "markdown",
   "metadata": {},
   "source": [
    "## Alt Sınıf (Sub Class)"
   ]
  },
  {
   "cell_type": "markdown",
   "metadata": {},
   "source": [
    "Alt sınıflar taban sınıfın bütün metodlarını ve  özelliklerini miras yoluyla devralan sınıflardır. Bu şekilde taban sınıfta tanımlı bütün metod ve özelliklere alt sınıftan da ulaşabiliyoruz. Bu mekanizmaya kalıtım ya da miras alma (inheritence) denir."
   ]
  },
  {
   "cell_type": "code",
   "execution_count": 5,
   "metadata": {},
   "outputs": [],
   "source": [
    "#Şimdi \"Karakterler\" adlı taban sınıfımızdan Asker, Yönetici ve İşçi isimli alt sınıflar türetelim.\n",
    "class Asker(Karakterler):\n",
    "    pass\n",
    "class Yönetici(Karakterler):\n",
    "    pass\n",
    "class İşçi(Karakterler):\n",
    "    pass\n",
    "#Alt sınıfı oluştururken parantez içinde Üst sınıf adını yazdığımıza dikkat."
   ]
  },
  {
   "cell_type": "code",
   "execution_count": 7,
   "metadata": {},
   "outputs": [
    {
     "data": {
      "text/plain": [
       "'er'"
      ]
     },
     "execution_count": 7,
     "metadata": {},
     "output_type": "execute_result"
    }
   ],
   "source": [
    "ask1=Asker(\"demir yumruk\",\"er\")\n",
    "ask1.rütbe"
   ]
  },
  {
   "cell_type": "code",
   "execution_count": 9,
   "metadata": {},
   "outputs": [],
   "source": [
    "ask1.güç=100"
   ]
  },
  {
   "cell_type": "code",
   "execution_count": 10,
   "metadata": {},
   "outputs": [
    {
     "data": {
      "text/plain": [
       "100"
      ]
     },
     "execution_count": 10,
     "metadata": {},
     "output_type": "execute_result"
    }
   ],
   "source": [
    "ask1.güç"
   ]
  },
  {
   "cell_type": "code",
   "execution_count": 11,
   "metadata": {},
   "outputs": [],
   "source": [
    "yön1=Yönetici(\"8. Henry\",\"Kral\")\n",
    "yön1.güç=25"
   ]
  },
  {
   "cell_type": "code",
   "execution_count": 12,
   "metadata": {},
   "outputs": [
    {
     "data": {
      "text/plain": [
       "'Kral'"
      ]
     },
     "execution_count": 12,
     "metadata": {},
     "output_type": "execute_result"
    }
   ],
   "source": [
    "yön1.rütbe"
   ]
  },
  {
   "cell_type": "code",
   "execution_count": 13,
   "metadata": {},
   "outputs": [
    {
     "data": {
      "text/plain": [
       "'8. Henry'"
      ]
     },
     "execution_count": 13,
     "metadata": {},
     "output_type": "execute_result"
    }
   ],
   "source": [
    "yön1.isim"
   ]
  },
  {
   "cell_type": "code",
   "execution_count": 15,
   "metadata": {},
   "outputs": [
    {
     "name": "stdout",
     "output_type": "stream",
     "text": [
      "puan kazanıldı\n"
     ]
    }
   ],
   "source": [
    "yön1.puan_kazan()"
   ]
  },
  {
   "cell_type": "markdown",
   "metadata": {},
   "source": [
    "# Miras Alma Türleri"
   ]
  },
  {
   "cell_type": "raw",
   "metadata": {},
   "source": [
    "1-Taban sınıfın bütün nitelik ve metodları alt sınıfa olduğu gibi geçer\n",
    "2-Taban sınıfın bazı nitelik ve metodları alt sınıfta yeniden tanımlanır.\n",
    "3-Taban sınıfın bazı nitelik ve metodları alt sınıfta değişikliğe uğratılır."
   ]
  },
  {
   "cell_type": "markdown",
   "metadata": {},
   "source": [
    "İlk seçeneği zaten biraz önce gördük. Taban sınıfı türettirken parantez içine taban sınıfın adını yazıp bir değişiklik yapmadığımız zaman taban sınıfın bütün nitelik ve metodlarını olduğu gibi miras almış oluyorduk."
   ]
  },
  {
   "cell_type": "code",
   "execution_count": 17,
   "metadata": {},
   "outputs": [],
   "source": [
    "class Asker(Karakterler):\n",
    "    pass"
   ]
  },
  {
   "cell_type": "markdown",
   "metadata": {},
   "source": [
    "Tabii ki tanımladığımız alt sınıflar üst sınıfın tüm özelliklerini ve metodlarını olduğu gibi kullanacaksa bu miras almanın bir anlamı kalmazdı. Türettiğimiz alt sınıflara istediğimiz gibi ek nitelik ve metodlar tanımlayabiliriz."
   ]
  },
  {
   "cell_type": "code",
   "execution_count": 23,
   "metadata": {},
   "outputs": [],
   "source": [
    "class Asker(Karakterler):\n",
    "    asker_sayısı=0\n",
    "    def ozel_yetenek_kullan():\n",
    "        print(\"Özel yetenek Kullanıldı. Yeniden kullanmak için 30s bekleyin...\")"
   ]
  },
  {
   "cell_type": "code",
   "execution_count": 24,
   "metadata": {},
   "outputs": [],
   "source": [
    "class Yönetici(Karakterler):\n",
    "    def atom_bombası_gönder():\n",
    "        print(\"Atom Bombası fırlatıldı, hedefe 2dk...\")"
   ]
  },
  {
   "cell_type": "markdown",
   "metadata": {},
   "source": [
    "Alt sınıflar için metod ve özellik tanımı genel sınıf tanımıyla aynıdır. Metodlarımızı ve Niteliklerimizi aynı şekilde tanımlıyoruz."
   ]
  },
  {
   "cell_type": "markdown",
   "metadata": {},
   "source": [
    "##### Alt sınıflar için metod ve nitelik tanımlarken kural şudur:"
   ]
  },
  {
   "cell_type": "markdown",
   "metadata": {},
   "source": [
    "Eğer Aynı isimde metod ya da nitelik taban sınıfta yoksa, taban sınıftaki metod ve özelliklere ek olarak alt sınıfımıza tanımladığımız şey eklenir.\n",
    "Eğer Aynı isimde metod ya da nitelik taban sınıfta varsa, o zaman taban sınıftan o metod ya da nitelik alınmaz, alt sınıfınki kullanılır."
   ]
  },
  {
   "cell_type": "code",
   "execution_count": 27,
   "metadata": {},
   "outputs": [],
   "source": [
    "#______________________________________________________________________\n",
    "class Karakterler():  #Taban sınıf....\n",
    "    def __init__(self, isim, rütbe):\n",
    "        self.isim = isim\n",
    "        self.rütbe = rütbe\n",
    "        self.güç = 0\n",
    "\n",
    "    def hareket_et(self):\n",
    "        print('hareket ediliyor...')\n",
    "\n",
    "    def puan_kazan(self):\n",
    "        print('puan kazanıldı')\n",
    "\n",
    "    def puan_kaybet(self):\n",
    "        print('puan kaybedildi')\n",
    "#______________________________________________________________________\n",
    "        \n",
    "class Asker(Karakterler): #Alt sınıf...\n",
    "    asker_sayısı=0\n",
    "    def ozel_yetenek_kullan():\n",
    "        print(\"Özel yetenek Kullanıldı. Yeniden kullanmak için 30s bekleyin...\")\n",
    "    def hareket_et(self): #Taban sınıfta bulunan bir metodu burada da tanımladık...\n",
    "        print(\"Hedefe Varıldı!\")"
   ]
  },
  {
   "cell_type": "code",
   "execution_count": 28,
   "metadata": {},
   "outputs": [
    {
     "name": "stdout",
     "output_type": "stream",
     "text": [
      "Hedefe Varıldı!\n"
     ]
    }
   ],
   "source": [
    "ask1=Asker(\"ak47 ustası\",\"er\")\n",
    "ask1.hareket_et()"
   ]
  },
  {
   "cell_type": "markdown",
   "metadata": {},
   "source": [
    "Ya da diyelim ki her karakter türünün gücü farklı tanımlanmış olsun, elbette biz alt sınıfı oluşturduktan sonra örnekleyip güç değerini değiştirebiliriz ama biz bunu istemiyoruz. Biz her alt sınıf için belirli nitelik değerlerinin zaten tanımlı olmasını istiyoruz. Bunun için __init__ metodunu tanımlamamız gerekir."
   ]
  },
  {
   "cell_type": "code",
   "execution_count": 30,
   "metadata": {},
   "outputs": [
    {
     "data": {
      "text/plain": [
       "0"
      ]
     },
     "execution_count": 30,
     "metadata": {},
     "output_type": "execute_result"
    }
   ],
   "source": [
    "ask1.güç"
   ]
  },
  {
   "cell_type": "code",
   "execution_count": 32,
   "metadata": {},
   "outputs": [],
   "source": [
    "ask1.güç=100 #bu şekilde bir değişiklik istemiyoruz"
   ]
  },
  {
   "cell_type": "code",
   "execution_count": 33,
   "metadata": {},
   "outputs": [],
   "source": [
    "class Asker(Karakterler): #Alt sınıf...\n",
    "    asker_sayısı=0\n",
    "    def __init__(self,isim,rütbe):\n",
    "        self.güç=100\n",
    "class Yönetici(Karakterler):\n",
    "    def __init__(self,isim,rütbe):\n",
    "        self.güç=40\n",
    "class İşçi(Karakterler):\n",
    "    def __init__(self,isim,rütbe):\n",
    "        self.güç=25"
   ]
  },
  {
   "cell_type": "code",
   "execution_count": 34,
   "metadata": {},
   "outputs": [
    {
     "data": {
      "text/plain": [
       "100"
      ]
     },
     "execution_count": 34,
     "metadata": {},
     "output_type": "execute_result"
    }
   ],
   "source": [
    "ask1=Asker(\"SniperMaster\",\"Onbaşı\")\n",
    "ask1.güç"
   ]
  },
  {
   "cell_type": "code",
   "execution_count": 35,
   "metadata": {},
   "outputs": [
    {
     "ename": "AttributeError",
     "evalue": "'Asker' object has no attribute 'isim'",
     "output_type": "error",
     "traceback": [
      "\u001b[1;31m---------------------------------------------------------------------------\u001b[0m",
      "\u001b[1;31mAttributeError\u001b[0m                            Traceback (most recent call last)",
      "\u001b[1;32m<ipython-input-35-509a990c0931>\u001b[0m in \u001b[0;36m<module>\u001b[1;34m\u001b[0m\n\u001b[1;32m----> 1\u001b[1;33m \u001b[0mask1\u001b[0m\u001b[1;33m.\u001b[0m\u001b[0misim\u001b[0m\u001b[1;33m\u001b[0m\u001b[1;33m\u001b[0m\u001b[0m\n\u001b[0m",
      "\u001b[1;31mAttributeError\u001b[0m: 'Asker' object has no attribute 'isim'"
     ]
    }
   ],
   "source": [
    "ask1.isim"
   ]
  },
  {
   "cell_type": "markdown",
   "metadata": {},
   "source": [
    "Ne demiştik, bir nitelik ya da metodun aynı isimlisi alt sınıfta tanımlanmışsa bu nitelik ya da metod taban sınıftan miras alınmaz. Bu nedenle biz güç niteliğinin değerini yeniden tanımlamak için __init__ fonskiyonunu yeniden tanımladık ve bu nedenle diğer nitelikleri kaybettik. Aynı nitelikleri yeniden tanımlamak ise kod tekrarı olur ve miras alma mantığına ters."
   ]
  },
  {
   "cell_type": "markdown",
   "metadata": {},
   "source": [
    "### super() fonksiyonu kullanarak aynı isimli metod ve niteliklerin diğer özelliklerini üst sınıftan alma:"
   ]
  },
  {
   "cell_type": "code",
   "execution_count": 36,
   "metadata": {},
   "outputs": [],
   "source": [
    "#______________________________________________________________________\n",
    "class Karakterler():  #Taban sınıf....\n",
    "    def __init__(self, isim, rütbe):\n",
    "        self.isim = isim\n",
    "        self.rütbe = rütbe\n",
    "        self.güç = 0\n",
    "\n",
    "    def hareket_et(self):\n",
    "        print('hareket ediliyor...')\n",
    "\n",
    "    def puan_kazan(self):\n",
    "        print('puan kazanıldı')\n",
    "\n",
    "    def puan_kaybet(self):\n",
    "        print('puan kaybedildi')\n",
    "#______________________________________________________________________\n",
    "        \n",
    "class Asker(Karakterler): #Alt sınıf...\n",
    "    asker_sayısı=0\n",
    "    def __init__(self,isim,rütbe):\n",
    "        super().__init__(isim,rütbe) #super() metodunun kullanımı\n",
    "        self.güç=100\n",
    "    def ozel_yetenek_kullan():\n",
    "        print(\"Özel yetenek Kullanıldı. Yeniden kullanmak için 30s bekleyin...\")\n",
    "    def hareket_et(self): #Taban sınıfta bulunan bir metodu burada da tanımladık...\n",
    "        super().hareket_et() #super() metodunun kullanımı\n",
    "        print(\"Hedefe Varıldı!\")"
   ]
  },
  {
   "cell_type": "code",
   "execution_count": 37,
   "metadata": {},
   "outputs": [
    {
     "data": {
      "text/plain": [
       "100"
      ]
     },
     "execution_count": 37,
     "metadata": {},
     "output_type": "execute_result"
    }
   ],
   "source": [
    "ask1=Asker(\"SniperMaster\",\"onbaşı\")\n",
    "ask1.güç"
   ]
  },
  {
   "cell_type": "code",
   "execution_count": 38,
   "metadata": {},
   "outputs": [
    {
     "data": {
      "text/plain": [
       "'SniperMaster'"
      ]
     },
     "execution_count": 38,
     "metadata": {},
     "output_type": "execute_result"
    }
   ],
   "source": [
    "ask1.isim"
   ]
  },
  {
   "cell_type": "code",
   "execution_count": 39,
   "metadata": {},
   "outputs": [
    {
     "data": {
      "text/plain": [
       "'onbaşı'"
      ]
     },
     "execution_count": 39,
     "metadata": {},
     "output_type": "execute_result"
    }
   ],
   "source": [
    "ask1.rütbe"
   ]
  },
  {
   "cell_type": "code",
   "execution_count": 40,
   "metadata": {},
   "outputs": [
    {
     "name": "stdout",
     "output_type": "stream",
     "text": [
      "hareket ediliyor...\n",
      "Hedefe Varıldı!\n"
     ]
    }
   ],
   "source": [
    "ask1.hareket_et()"
   ]
  },
  {
   "cell_type": "raw",
   "metadata": {},
   "source": [
    "init metodunun üst sınıftan(super=üst) çağırılmasında parametreleri yeniden girmek de bir kod tekarı olduğu için bundan da kurtulabiliriz.\n",
    "Biz biliyoruz ki positional (sırası belli, sıralı argümanlar için) \"*\" kullanabiliyoruz ve isimli argümanlar için ise \"**\" kullanabiliyoruz."
   ]
  },
  {
   "cell_type": "code",
   "execution_count": 42,
   "metadata": {},
   "outputs": [],
   "source": [
    "class Asker(Karakterler): #Alt sınıf...\n",
    "    asker_sayısı=0\n",
    "    def __init__(self,*args,**kwargs): #burada keyword argüman yok ama yazarsak da bir zararı olmaz\n",
    "        super().__init__(*args,**kwargs) #super() metodunun kullanımı\n",
    "        self.güç=100\n",
    "    def ozel_yetenek_kullan():\n",
    "        print(\"Özel yetenek Kullanıldı. Yeniden kullanmak için 30s bekleyin...\")\n",
    "    def hareket_et(self): #Taban sınıfta bulunan bir metodu burada da tanımladık...\n",
    "        super().hareket_et() #super() metodunun kullanımı\n",
    "        print(\"Hedefe Varıldı!\")"
   ]
  },
  {
   "cell_type": "code",
   "execution_count": 43,
   "metadata": {},
   "outputs": [
    {
     "data": {
      "text/plain": [
       "100"
      ]
     },
     "execution_count": 43,
     "metadata": {},
     "output_type": "execute_result"
    }
   ],
   "source": [
    "ask2=Asker(\"Kiremit Nuri\",\"er\")\n",
    "ask2.güç"
   ]
  },
  {
   "cell_type": "code",
   "execution_count": 44,
   "metadata": {},
   "outputs": [
    {
     "data": {
      "text/plain": [
       "'Kiremit Nuri'"
      ]
     },
     "execution_count": 44,
     "metadata": {},
     "output_type": "execute_result"
    }
   ],
   "source": [
    "ask2.isim"
   ]
  },
  {
   "cell_type": "code",
   "execution_count": 45,
   "metadata": {},
   "outputs": [
    {
     "name": "stdout",
     "output_type": "stream",
     "text": [
      "hareket ediliyor...\n",
      "Hedefe Varıldı!\n"
     ]
    }
   ],
   "source": [
    "ask2.hareket_et()"
   ]
  },
  {
   "cell_type": "code",
   "execution_count": null,
   "metadata": {},
   "outputs": [],
   "source": []
  }
 ],
 "metadata": {
  "kernelspec": {
   "display_name": "Python 3",
   "language": "python",
   "name": "python3"
  },
  "language_info": {
   "codemirror_mode": {
    "name": "ipython",
    "version": 3
   },
   "file_extension": ".py",
   "mimetype": "text/x-python",
   "name": "python",
   "nbconvert_exporter": "python",
   "pygments_lexer": "ipython3",
   "version": "3.7.6"
  }
 },
 "nbformat": 4,
 "nbformat_minor": 2
}
