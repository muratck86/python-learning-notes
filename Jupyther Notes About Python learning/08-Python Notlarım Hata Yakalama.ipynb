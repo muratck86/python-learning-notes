{
 "cells": [
  {
   "cell_type": "markdown",
   "metadata": {},
   "source": [
    "# Hata Yakalama"
   ]
  },
  {
   "cell_type": "markdown",
   "metadata": {},
   "source": [
    "input değerimizin bir sayı olmasını bekliyoruz ve ona göre kodlarımızı yazdık diyelim. Kullanıcı bir harf girdiğinde program hata verecektir. Ama biz bu hatayı kendi istediğimiz şekilde vermesini, kullanıcı açısından daha anlaşılır bir hale getirmeyi isteriz."
   ]
  },
  {
   "cell_type": "code",
   "execution_count": 3,
   "metadata": {},
   "outputs": [
    {
     "name": "stdout",
     "output_type": "stream",
     "text": [
      "ilk sayı: 32\n",
      "ikinci sayı: 16\n",
      "32 + 16 = 48\n"
     ]
    }
   ],
   "source": [
    "#örneğin toplama yapan bir kodumuz olsun,\n",
    "a=int(input(\"ilk sayı: \"))\n",
    "b=int(input(\"ikinci sayı: \"))\n",
    "print(a,\"+\",b,\"=\",a+b)"
   ]
  },
  {
   "cell_type": "code",
   "execution_count": 4,
   "metadata": {},
   "outputs": [
    {
     "name": "stdout",
     "output_type": "stream",
     "text": [
      "ilk sayı: 32\n",
      "ikinci sayı: 25d\n"
     ]
    },
    {
     "ename": "ValueError",
     "evalue": "invalid literal for int() with base 10: '25d'",
     "output_type": "error",
     "traceback": [
      "\u001b[1;31m---------------------------------------------------------------------------\u001b[0m",
      "\u001b[1;31mValueError\u001b[0m                                Traceback (most recent call last)",
      "\u001b[1;32m<ipython-input-4-faafa1bd4ee8>\u001b[0m in \u001b[0;36m<module>\u001b[1;34m\u001b[0m\n\u001b[0;32m      1\u001b[0m \u001b[0ma\u001b[0m\u001b[1;33m=\u001b[0m\u001b[0mint\u001b[0m\u001b[1;33m(\u001b[0m\u001b[0minput\u001b[0m\u001b[1;33m(\u001b[0m\u001b[1;34m\"ilk sayı: \"\u001b[0m\u001b[1;33m)\u001b[0m\u001b[1;33m)\u001b[0m\u001b[1;33m\u001b[0m\u001b[1;33m\u001b[0m\u001b[0m\n\u001b[1;32m----> 2\u001b[1;33m \u001b[0mb\u001b[0m\u001b[1;33m=\u001b[0m\u001b[0mint\u001b[0m\u001b[1;33m(\u001b[0m\u001b[0minput\u001b[0m\u001b[1;33m(\u001b[0m\u001b[1;34m\"ikinci sayı: \"\u001b[0m\u001b[1;33m)\u001b[0m\u001b[1;33m)\u001b[0m\u001b[1;33m\u001b[0m\u001b[1;33m\u001b[0m\u001b[0m\n\u001b[0m\u001b[0;32m      3\u001b[0m \u001b[0mprint\u001b[0m\u001b[1;33m(\u001b[0m\u001b[0ma\u001b[0m\u001b[1;33m,\u001b[0m\u001b[1;34m\"+\"\u001b[0m\u001b[1;33m,\u001b[0m\u001b[0mb\u001b[0m\u001b[1;33m,\u001b[0m\u001b[1;34m\"=\"\u001b[0m\u001b[1;33m,\u001b[0m\u001b[0ma\u001b[0m\u001b[1;33m+\u001b[0m\u001b[0mb\u001b[0m\u001b[1;33m)\u001b[0m\u001b[1;33m\u001b[0m\u001b[1;33m\u001b[0m\u001b[0m\n",
      "\u001b[1;31mValueError\u001b[0m: invalid literal for int() with base 10: '25d'"
     ]
    }
   ],
   "source": [
    "a=int(input(\"ilk sayı: \"))\n",
    "b=int(input(\"ikinci sayı: \"))\n",
    "print(a,\"+\",b,\"=\",a+b)"
   ]
  },
  {
   "cell_type": "markdown",
   "metadata": {},
   "source": [
    "## Hata Türleri"
   ]
  },
  {
   "cell_type": "raw",
   "metadata": {},
   "source": [
    "1- Programcı Hataları (Error)\n",
    "2- Program Kusurları (Bug)\n",
    "3- İstisnalar (Exception)"
   ]
  },
  {
   "cell_type": "markdown",
   "metadata": {},
   "source": [
    "Programcı hataları genelde yazım hatalarından kaynaklanan hatalar olur, farketmesi kolaydır çünkü program hata verir."
   ]
  },
  {
   "cell_type": "markdown",
   "metadata": {},
   "source": [
    "Buglar ise programın çalışmasına engel olmadığı için farkedilmeleri zordur. Mesela toplama işlemi yapan yukarıdaki kodu düşünürsek:"
   ]
  },
  {
   "cell_type": "code",
   "execution_count": 7,
   "metadata": {},
   "outputs": [
    {
     "name": "stdout",
     "output_type": "stream",
     "text": [
      "ilk sayı: 32\n",
      "ikinci sayı: 16\n",
      "32 + 16 = 3216\n"
     ]
    }
   ],
   "source": [
    "a=input(\"ilk sayı: \")\n",
    "b=input(\"ikinci sayı: \")\n",
    "print(a,\"+\",b,\"=\",a+b)"
   ]
  },
  {
   "cell_type": "markdown",
   "metadata": {},
   "source": [
    "Yani bu tarz hatalar programın çalışma mantığndan kaynaklanan bir takım yanlışlıklardır. Yerine göre çok uzun zaman farkedilmeyebilir."
   ]
  },
  {
   "cell_type": "markdown",
   "metadata": {},
   "source": [
    "istisnalar, yani exception lar ise programın normal işleyişinin dışında beklenmeyen durumlar oluşmasıyla ortaya çıkan hatalardır. İlk örnekteki toplama işlemini bir daha hatırlarsak, kullanıcının sayı dışında bir giriş yapması beklenmeyen bir durumdur ve hata verir."
   ]
  },
  {
   "cell_type": "code",
   "execution_count": 3,
   "metadata": {},
   "outputs": [
    {
     "name": "stdout",
     "output_type": "stream",
     "text": [
      "ilk Sayı: 36\n",
      "İkinci Sayı: 12\n",
      "36 / 12 = 3.0\n"
     ]
    }
   ],
   "source": [
    "#Bölme işlemi yapan bir örnek yapalım:\n",
    "a=int(input(\"ilk Sayı: \"))\n",
    "b=int(input(\"İkinci Sayı: \"))\n",
    "print(a,\"/\",b,\"=\",a/b)"
   ]
  },
  {
   "cell_type": "markdown",
   "metadata": {},
   "source": [
    "Bölme işlemi yapan örneğimiz normalde gayet düzgün çalışıyor, ancak sayı dışında bir karakter girişi yapıldığını, ya da bir sayıyı 0 sayısına böylmeyi düşünelim"
   ]
  },
  {
   "cell_type": "code",
   "execution_count": 4,
   "metadata": {},
   "outputs": [
    {
     "name": "stdout",
     "output_type": "stream",
     "text": [
      "ilk Sayı: 52\n",
      "İkinci Sayı: 0\n"
     ]
    },
    {
     "ename": "ZeroDivisionError",
     "evalue": "division by zero",
     "output_type": "error",
     "traceback": [
      "\u001b[1;31m---------------------------------------------------------------------------\u001b[0m",
      "\u001b[1;31mZeroDivisionError\u001b[0m                         Traceback (most recent call last)",
      "\u001b[1;32m<ipython-input-4-bb964a24315f>\u001b[0m in \u001b[0;36m<module>\u001b[1;34m\u001b[0m\n\u001b[0;32m      1\u001b[0m \u001b[0ma\u001b[0m\u001b[1;33m=\u001b[0m\u001b[0mint\u001b[0m\u001b[1;33m(\u001b[0m\u001b[0minput\u001b[0m\u001b[1;33m(\u001b[0m\u001b[1;34m\"ilk Sayı: \"\u001b[0m\u001b[1;33m)\u001b[0m\u001b[1;33m)\u001b[0m\u001b[1;33m\u001b[0m\u001b[1;33m\u001b[0m\u001b[0m\n\u001b[0;32m      2\u001b[0m \u001b[0mb\u001b[0m\u001b[1;33m=\u001b[0m\u001b[0mint\u001b[0m\u001b[1;33m(\u001b[0m\u001b[0minput\u001b[0m\u001b[1;33m(\u001b[0m\u001b[1;34m\"İkinci Sayı: \"\u001b[0m\u001b[1;33m)\u001b[0m\u001b[1;33m)\u001b[0m\u001b[1;33m\u001b[0m\u001b[1;33m\u001b[0m\u001b[0m\n\u001b[1;32m----> 3\u001b[1;33m \u001b[0mprint\u001b[0m\u001b[1;33m(\u001b[0m\u001b[0ma\u001b[0m\u001b[1;33m,\u001b[0m\u001b[1;34m\"/\"\u001b[0m\u001b[1;33m,\u001b[0m\u001b[0mb\u001b[0m\u001b[1;33m,\u001b[0m\u001b[1;34m\"=\"\u001b[0m\u001b[1;33m,\u001b[0m\u001b[0ma\u001b[0m\u001b[1;33m/\u001b[0m\u001b[0mb\u001b[0m\u001b[1;33m)\u001b[0m\u001b[1;33m\u001b[0m\u001b[1;33m\u001b[0m\u001b[0m\n\u001b[0m",
      "\u001b[1;31mZeroDivisionError\u001b[0m: division by zero"
     ]
    }
   ],
   "source": [
    "a=int(input(\"ilk Sayı: \"))\n",
    "b=int(input(\"İkinci Sayı: \"))\n",
    "print(a,\"/\",b,\"=\",a/b)"
   ]
  },
  {
   "cell_type": "code",
   "execution_count": 5,
   "metadata": {},
   "outputs": [
    {
     "name": "stdout",
     "output_type": "stream",
     "text": [
      "ilk Sayı: 36\n",
      "İkinci Sayı: asd\n"
     ]
    },
    {
     "ename": "ValueError",
     "evalue": "invalid literal for int() with base 10: 'asd'",
     "output_type": "error",
     "traceback": [
      "\u001b[1;31m---------------------------------------------------------------------------\u001b[0m",
      "\u001b[1;31mValueError\u001b[0m                                Traceback (most recent call last)",
      "\u001b[1;32m<ipython-input-5-bb964a24315f>\u001b[0m in \u001b[0;36m<module>\u001b[1;34m\u001b[0m\n\u001b[0;32m      1\u001b[0m \u001b[0ma\u001b[0m\u001b[1;33m=\u001b[0m\u001b[0mint\u001b[0m\u001b[1;33m(\u001b[0m\u001b[0minput\u001b[0m\u001b[1;33m(\u001b[0m\u001b[1;34m\"ilk Sayı: \"\u001b[0m\u001b[1;33m)\u001b[0m\u001b[1;33m)\u001b[0m\u001b[1;33m\u001b[0m\u001b[1;33m\u001b[0m\u001b[0m\n\u001b[1;32m----> 2\u001b[1;33m \u001b[0mb\u001b[0m\u001b[1;33m=\u001b[0m\u001b[0mint\u001b[0m\u001b[1;33m(\u001b[0m\u001b[0minput\u001b[0m\u001b[1;33m(\u001b[0m\u001b[1;34m\"İkinci Sayı: \"\u001b[0m\u001b[1;33m)\u001b[0m\u001b[1;33m)\u001b[0m\u001b[1;33m\u001b[0m\u001b[1;33m\u001b[0m\u001b[0m\n\u001b[0m\u001b[0;32m      3\u001b[0m \u001b[0mprint\u001b[0m\u001b[1;33m(\u001b[0m\u001b[0ma\u001b[0m\u001b[1;33m,\u001b[0m\u001b[1;34m\"/\"\u001b[0m\u001b[1;33m,\u001b[0m\u001b[0mb\u001b[0m\u001b[1;33m,\u001b[0m\u001b[1;34m\"=\"\u001b[0m\u001b[1;33m,\u001b[0m\u001b[0ma\u001b[0m\u001b[1;33m/\u001b[0m\u001b[0mb\u001b[0m\u001b[1;33m)\u001b[0m\u001b[1;33m\u001b[0m\u001b[1;33m\u001b[0m\u001b[0m\n",
      "\u001b[1;31mValueError\u001b[0m: invalid literal for int() with base 10: 'asd'"
     ]
    }
   ],
   "source": [
    "a=int(input(\"ilk Sayı: \"))\n",
    "b=int(input(\"İkinci Sayı: \"))\n",
    "print(a,\"/\",b,\"=\",a/b)"
   ]
  },
  {
   "cell_type": "markdown",
   "metadata": {},
   "source": [
    "İşte Bu tarz durumlar istisnadır, kullanıcıdan beklenmeyen bu veri girişleri ValueError , ZeroDivisionError gibi exception hatalarına yol açar."
   ]
  },
  {
   "cell_type": "markdown",
   "metadata": {},
   "source": [
    "## try... except..."
   ]
  },
  {
   "cell_type": "markdown",
   "metadata": {},
   "source": [
    "Python'da bu hataları yakalamak için try....except... blokları kullanılır."
   ]
  },
  {
   "cell_type": "code",
   "execution_count": 7,
   "metadata": {},
   "outputs": [
    {
     "name": "stdout",
     "output_type": "stream",
     "text": [
      "ilk sayı: 15\n",
      "ikinci sayı: as\n",
      "Hatalı işlem! Lütfen sadece sayı giriniz...\n"
     ]
    }
   ],
   "source": [
    "a=input(\"ilk sayı: \")\n",
    "b=input(\"ikinci sayı: \")\n",
    "try:\n",
    "    a,b=int(a),int(b)\n",
    "    print(a,\"+\",b,\"=\",a+b)\n",
    "except ValueError:\n",
    "    print(\"Hatalı işlem! Lütfen sadece sayı giriniz...\")"
   ]
  },
  {
   "cell_type": "markdown",
   "metadata": {},
   "source": [
    "Peki aynı kodda birden fazla hata durumuna göre nasıl kullanacağız bu bloğu? Görelim..."
   ]
  },
  {
   "cell_type": "code",
   "execution_count": 9,
   "metadata": {},
   "outputs": [
    {
     "name": "stdout",
     "output_type": "stream",
     "text": [
      "ilk sayı: 12\n",
      "ikinci sayı: 0\n",
      "Hatalı işlem! Bir sayıyı 0'a bölemezsiniz. \n"
     ]
    }
   ],
   "source": [
    "a=input(\"ilk sayı: \")\n",
    "b=input(\"ikinci sayı: \")\n",
    "try:\n",
    "    a,b=int(a),int(b)\n",
    "    print(a,\"/\",b,\"=\",a/b)\n",
    "except ValueError:\n",
    "    print(\"Hatalı işlem! Lütfen sadece sayı giriniz...\")\n",
    "except ZeroDivisionError:\n",
    "    print(\"Hatalı işlem! Bir sayıyı 0'a bölemezsiniz. \")"
   ]
  },
  {
   "cell_type": "code",
   "execution_count": 1,
   "metadata": {},
   "outputs": [],
   "source": [
    "#İstersek her hata için ayrı except yazmak yerine bir yerde birleştirebiliri.z"
   ]
  },
  {
   "cell_type": "code",
   "execution_count": 4,
   "metadata": {},
   "outputs": [
    {
     "name": "stdout",
     "output_type": "stream",
     "text": [
      "ilk sayı: 26\n",
      "ikinci sayı: 4r\n",
      "Hatalı işlem! Lütfen geçerli değerler giriniz... \n"
     ]
    }
   ],
   "source": [
    "a=input(\"ilk sayı: \")\n",
    "b=input(\"ikinci sayı: \")\n",
    "try:\n",
    "    a,b=int(a),int(b)\n",
    "    print(a,\"/\",b,\"=\",a/b)\n",
    "except (ValueError,ZeroDivisionError): #Parantez kullandık \n",
    "    print(\"Hatalı işlem! Lütfen geçerli değerler giriniz... \") #Daha genel bir hata mesajı..."
   ]
  },
  {
   "cell_type": "markdown",
   "metadata": {},
   "source": [
    "Böylece bu tarz durumlarda programımızın hem daha anlaşılır bir hata mesajı vermesini, hem de çökmeyip çalışmaya devam etmesini sağlamış oluyoruz."
   ]
  },
  {
   "cell_type": "code",
   "execution_count": 11,
   "metadata": {},
   "outputs": [
    {
     "name": "stdout",
     "output_type": "stream",
     "text": [
      "ilk sayı: 156s\n",
      "ikinci sayı: sdf\n",
      "Hatalı işlem! Lütfen geçerli bir bilgi giriniz...\n"
     ]
    }
   ],
   "source": [
    "#Şu şekilde bir kullanım da mümkündür:\n",
    "a=input(\"ilk sayı: \")\n",
    "b=input(\"ikinci sayı: \")\n",
    "try:\n",
    "    a,b=int(a),int(b)\n",
    "    print(a,\"/\",b,\"=\",a/b)\n",
    "except (ValueError, ZeroDivisionError):\n",
    "    print(\"Hatalı işlem! Lütfen geçerli bir bilgi giriniz...\")"
   ]
  },
  {
   "cell_type": "markdown",
   "metadata": {},
   "source": [
    "## try....except...as..."
   ]
  },
  {
   "cell_type": "markdown",
   "metadata": {},
   "source": [
    "Bu kullanım ise hata mesajını bir değişkene tanımlayarak kullanımdır. Örnek olarak bölme işlemini alalım:"
   ]
  },
  {
   "cell_type": "code",
   "execution_count": 8,
   "metadata": {},
   "outputs": [
    {
     "name": "stdout",
     "output_type": "stream",
     "text": [
      "ilk sayı: d\n",
      "ikinci sayı: 2\n",
      "invalid literal for int() with base 10: 'd'\n"
     ]
    }
   ],
   "source": [
    "a=input(\"ilk sayı: \")\n",
    "b=input(\"ikinci sayı: \")\n",
    "try:\n",
    "    a,b=int(a),int(b)\n",
    "    print(a,\"/\",b,\"=\",a/b)\n",
    "except ValueError as hatamesajı:\n",
    "    print(hatamesajı)\n",
    "except ZeroDivisionError as hatamesajı2:\n",
    "    print(\"Hatalı işlem! Bir sayıyı 0'a bölemezsiniz.\\nOrijinal hata mesajı:\\n\",hatamesajı2)"
   ]
  },
  {
   "cell_type": "code",
   "execution_count": 2,
   "metadata": {},
   "outputs": [
    {
     "name": "stdout",
     "output_type": "stream",
     "text": [
      "ilk sayı: 84\n",
      "ikinci sayı: 0\n",
      "Hatalı işlem! Bir sayıyı 0'a bölemezsiniz.\n",
      "Orijinal hata mesajı:\n",
      " division by zero\n"
     ]
    }
   ],
   "source": [
    "a=input(\"ilk sayı: \")\n",
    "b=input(\"ikinci sayı: \")\n",
    "try:\n",
    "    a,b=int(a),int(b)\n",
    "    print(a,\"/\",b,\"=\",a/b)\n",
    "except ValueError as hatamesajı:\n",
    "    print(hatamesajı)\n",
    "except ZeroDivisionError as hatamesajı2:\n",
    "    print(\"Hatalı işlem! Bir sayıyı 0'a bölemezsiniz.\\nOrijinal hata mesajı:\\n\",hatamesajı2)"
   ]
  },
  {
   "cell_type": "code",
   "execution_count": 3,
   "metadata": {},
   "outputs": [
    {
     "name": "stdout",
     "output_type": "stream",
     "text": [
      "ilk sayı: 158\n",
      "ikinci sayı: adf\n",
      "Hatalı işlem! Lütfen geçerli bir bilgi giriniz...\n",
      "Hata Kodu: \n",
      " invalid literal for int() with base 10: 'adf'\n"
     ]
    }
   ],
   "source": [
    "a=input(\"ilk sayı: \")\n",
    "b=input(\"ikinci sayı: \")\n",
    "try:\n",
    "    a,b=int(a),int(b)\n",
    "    print(a,\"/\",b,\"=\",a/b)\n",
    "except (ValueError, ZeroDivisionError) as hata:\n",
    "    print(\"Hatalı işlem! Lütfen geçerli bir bilgi giriniz...\\nHata Kodu: \\n\",hata)"
   ]
  },
  {
   "cell_type": "markdown",
   "metadata": {},
   "source": [
    "## try...except...else..."
   ]
  },
  {
   "cell_type": "code",
   "execution_count": 11,
   "metadata": {},
   "outputs": [
    {
     "name": "stdout",
     "output_type": "stream",
     "text": [
      "Çıkmak için 'q' girin.\n",
      "ilk sayı: sdf\n",
      "Hatalı işlem! Lütfen sadece sayı giriniz...\n",
      "Hata Kodu: \n",
      " invalid literal for int() with base 10: 'sdf'\n",
      "Çıkmak için 'q' girin.\n",
      "ilk sayı: 155\n",
      "ikinci sayı: asd\n",
      "Hatalı işlem! Lütfen sadece sayı giriniz...\n",
      "Hata Kodu: \n",
      " invalid literal for int() with base 10: 'asd'\n",
      "Çıkmak için 'q' girin.\n",
      "ilk sayı: 165\n",
      "ikinci sayı: 0\n",
      "Hatalı İşlem! Lütfen 0'dan büyük bir sayı giriniz...\n",
      "Hata Kodu: \n",
      " division by zero\n",
      "Çıkmak için 'q' girin.\n",
      "ilk sayı: 14\n",
      "ikinci sayı: 2\n",
      "14 / 2 = 7.0\n",
      "Çıkmak için 'q' girin.\n",
      "ilk sayı: q\n",
      "Çıkış Yapıldı\n"
     ]
    }
   ],
   "source": [
    "while True:\n",
    "    a=(input(\"Çıkmak için 'q' girin.\\nilk sayı: \"))\n",
    "    if a==\"q\":\n",
    "        print(\"Çıkış Yapıldı\")\n",
    "        break\n",
    "    else:# Buraya kadar olan kısmı biliyoruz, klasik if bloğu\n",
    "        try:#ilk önce a ve b yi integer yapmayı dene,\n",
    "            a=int(a)\n",
    "            b=int(input(\"ikinci sayı: \"))           \n",
    "        except (ValueError) as hata: #sayı olamıyorsa aşağıdaki işlemi yap\n",
    "            print(\"Hatalı işlem! Lütfen sadece sayı giriniz...\\nHata Kodu: \\n\",hata)\n",
    "        else:#eğer integer olabiliyorsa o zaman,\n",
    "           try:#bölme işlemini yapmayı dene\n",
    "            print(a,\"/\",b,\"=\",a/b)\n",
    "           except ZeroDivisionError as hata0:#Sıfıra bölme hatası ile karşılaşırsan aşağıdakini yap.\n",
    "            print(\"Hatalı İşlem! Lütfen 0\\'dan büyük bir sayı giriniz...\\nHata Kodu: \\n\",hata0)"
   ]
  },
  {
   "cell_type": "markdown",
   "metadata": {},
   "source": [
    "Yani burada karşılaşabileceğimiz hata durumlarını tek bir try bloğunda çözmek gerine aşamalandırmış oluyoruz. İlk önce girilen verinin sayı olup olmadığına göre hareket edilecek, eğer sayıysa bölme işlemine geçilecek. Bu aşamada da 0'a bölme durumu çıkarsa bununla ilgili talimatlar yapılacak."
   ]
  },
  {
   "cell_type": "markdown",
   "metadata": {},
   "source": [
    "## try...except...finally..."
   ]
  },
  {
   "cell_type": "raw",
   "metadata": {},
   "source": [
    "try:\n",
    "    hata vermesini beklediğimiz işlemler\n",
    "except HataMesajı:\n",
    "    hata verdiğinde yapılacak işlemler\n",
    "finally:\n",
    "    hata verse de vermese de yapılacak işlemler"
   ]
  },
  {
   "cell_type": "markdown",
   "metadata": {},
   "source": [
    "## raise"
   ]
  },
  {
   "cell_type": "markdown",
   "metadata": {},
   "source": [
    "Bu yapı ise normalde hata oluşturmayacak olan kendi belirlediğimiz bir durum ortaya çıktığında bir hata mesajı gibi hata verip programı sonlandırmamıza yarayan bir yapıdır."
   ]
  },
  {
   "cell_type": "code",
   "execution_count": 3,
   "metadata": {},
   "outputs": [
    {
     "name": "stdout",
     "output_type": "stream",
     "text": [
      "Çıkmak için 'q' girin.\n",
      "ilk sayı: 15\n",
      "ikinci sayı: 6\n",
      "15 + 6 = 21\n",
      "Çıkmak için 'q' girin.\n",
      "ilk sayı: 2\n",
      "ikinci sayı: 0\n"
     ]
    },
    {
     "ename": "Exception",
     "evalue": "Bir sayıyı 0'la toplayamayan kişi hesap makinesini nasıl kullanabiliyor...Yürü Git!!!",
     "output_type": "error",
     "traceback": [
      "\u001b[1;31m---------------------------------------------------------------------------\u001b[0m",
      "\u001b[1;31mException\u001b[0m                                 Traceback (most recent call last)",
      "\u001b[1;32m<ipython-input-3-995d20006327>\u001b[0m in \u001b[0;36m<module>\u001b[1;34m\u001b[0m\n\u001b[0;32m      7\u001b[0m     \u001b[0mb\u001b[0m\u001b[1;33m=\u001b[0m\u001b[0mint\u001b[0m\u001b[1;33m(\u001b[0m\u001b[0minput\u001b[0m\u001b[1;33m(\u001b[0m\u001b[1;34m\"ikinci sayı: \"\u001b[0m\u001b[1;33m)\u001b[0m\u001b[1;33m)\u001b[0m\u001b[1;33m\u001b[0m\u001b[1;33m\u001b[0m\u001b[0m\n\u001b[0;32m      8\u001b[0m     \u001b[1;32mif\u001b[0m \u001b[0ma\u001b[0m\u001b[1;33m==\u001b[0m\u001b[1;36m0\u001b[0m \u001b[1;32mor\u001b[0m \u001b[0mb\u001b[0m\u001b[1;33m==\u001b[0m\u001b[1;36m0\u001b[0m\u001b[1;33m:\u001b[0m\u001b[1;33m\u001b[0m\u001b[1;33m\u001b[0m\u001b[0m\n\u001b[1;32m----> 9\u001b[1;33m         \u001b[1;32mraise\u001b[0m \u001b[0mException\u001b[0m\u001b[1;33m(\u001b[0m\u001b[1;34m\"Bir sayıyı 0'la toplayamayan kişi hesap makinesini nasıl kullanabiliyor...Yürü Git!!!\"\u001b[0m\u001b[1;33m)\u001b[0m\u001b[1;33m\u001b[0m\u001b[1;33m\u001b[0m\u001b[0m\n\u001b[0m\u001b[0;32m     10\u001b[0m     \u001b[0mprint\u001b[0m\u001b[1;33m(\u001b[0m\u001b[0ma\u001b[0m\u001b[1;33m,\u001b[0m\u001b[1;34m\"+\"\u001b[0m\u001b[1;33m,\u001b[0m\u001b[0mb\u001b[0m\u001b[1;33m,\u001b[0m\u001b[1;34m\"=\"\u001b[0m\u001b[1;33m,\u001b[0m\u001b[0ma\u001b[0m\u001b[1;33m+\u001b[0m\u001b[0mb\u001b[0m\u001b[1;33m)\u001b[0m\u001b[1;33m\u001b[0m\u001b[1;33m\u001b[0m\u001b[0m\n",
      "\u001b[1;31mException\u001b[0m: Bir sayıyı 0'la toplayamayan kişi hesap makinesini nasıl kullanabiliyor...Yürü Git!!!"
     ]
    }
   ],
   "source": [
    "#toplama işlemi üzerinde bir örnek yapalım:\n",
    "while True:\n",
    "    a=input(\"Çıkmak için 'q' girin.\\nilk sayı: \")\n",
    "    if a==\"q\":\n",
    "        break\n",
    "    a=int(a)\n",
    "    b=int(input(\"ikinci sayı: \"))\n",
    "    if a==0 or b==0:\n",
    "        raise Exception(\"Bir sayıyı 0'la toplayamayan kişi hesap makinesini nasıl kullanabiliyor...Yürü Git!!!\")\n",
    "    print(a,\"+\",b,\"=\",a+b)"
   ]
  },
  {
   "cell_type": "markdown",
   "metadata": {},
   "source": [
    "Burada Exception adlı genel hata mesajını kullandık. Bunun yerine sadece Python'da tanımlı (ValueError, ZeroDivisionError,IOError, TypeError vb.) hata mesajlarından birini kullanabiliriz. Tanımlı olmayan başka birşey kullanamayız."
   ]
  },
  {
   "cell_type": "code",
   "execution_count": 4,
   "metadata": {},
   "outputs": [
    {
     "name": "stdout",
     "output_type": "stream",
     "text": [
      "Parolanız: aş356\n"
     ]
    },
    {
     "ename": "TypeError",
     "evalue": "Parolada Türkçe karakter kullanılamaz!",
     "output_type": "error",
     "traceback": [
      "\u001b[1;31m---------------------------------------------------------------------------\u001b[0m",
      "\u001b[1;31mTypeError\u001b[0m                                 Traceback (most recent call last)",
      "\u001b[1;32m<ipython-input-4-db5d1406829f>\u001b[0m in \u001b[0;36m<module>\u001b[1;34m\u001b[0m\n\u001b[0;32m      5\u001b[0m \u001b[1;32mfor\u001b[0m \u001b[0mi\u001b[0m \u001b[1;32min\u001b[0m \u001b[0mparola\u001b[0m\u001b[1;33m:\u001b[0m\u001b[1;31m#giriş yapılan paroladaki karaklerlerin her biri için\u001b[0m\u001b[1;33m\u001b[0m\u001b[1;33m\u001b[0m\u001b[0m\n\u001b[0;32m      6\u001b[0m     \u001b[1;32mif\u001b[0m \u001b[0mi\u001b[0m \u001b[1;32min\u001b[0m \u001b[0mtr_karakter\u001b[0m\u001b[1;33m:\u001b[0m \u001b[1;31m#tr_karakter içinde varsa\u001b[0m\u001b[1;33m\u001b[0m\u001b[1;33m\u001b[0m\u001b[0m\n\u001b[1;32m----> 7\u001b[1;33m         \u001b[1;32mraise\u001b[0m \u001b[0mTypeError\u001b[0m\u001b[1;33m(\u001b[0m\u001b[1;34m\"Parolada Türkçe karakter kullanılamaz!\"\u001b[0m\u001b[1;33m)\u001b[0m\u001b[1;31m#bu hata mesajını ver ve sonlandır.\u001b[0m\u001b[1;33m\u001b[0m\u001b[1;33m\u001b[0m\u001b[0m\n\u001b[0m\u001b[0;32m      8\u001b[0m \u001b[1;31m#Burada TypeError kullandık, çünkü örneğimize en uyacak hata mesajı kodunun bu olduğunu düşündük.\u001b[0m\u001b[1;33m\u001b[0m\u001b[1;33m\u001b[0m\u001b[1;33m\u001b[0m\u001b[0m\n\u001b[0;32m      9\u001b[0m     \u001b[1;32melse\u001b[0m\u001b[1;33m:\u001b[0m\u001b[1;33m\u001b[0m\u001b[1;33m\u001b[0m\u001b[0m\n",
      "\u001b[1;31mTypeError\u001b[0m: Parolada Türkçe karakter kullanılamaz!"
     ]
    }
   ],
   "source": [
    "tr_karakter = \"şçğüöıİ\" #Türkçe karakterler\n",
    "\n",
    "parola = input(\"Parolanız: \") #parola girişi istedik\n",
    "\n",
    "for i in parola:#giriş yapılan paroladaki karaklerlerin her biri için\n",
    "    if i in tr_karakter: #tr_karakter içinde varsa\n",
    "        raise TypeError(\"Parolada Türkçe karakter kullanılamaz!\")#bu hata mesajını ver ve sonlandır.\n",
    "#Burada TypeError kullandık, çünkü örneğimize en uyacak hata mesajı kodunun bu olduğunu düşündük.\n",
    "    else:\n",
    "        pass\n",
    "\n",
    "print(\"Parola kabul edildi!\")"
   ]
  },
  {
   "cell_type": "code",
   "execution_count": 7,
   "metadata": {},
   "outputs": [
    {
     "name": "stdout",
     "output_type": "stream",
     "text": [
      "Çıkmak için 'q' girin.\n",
      "ilk sayı: 15\n",
      "ikinci sayı: 0\n",
      "Fonksiyon hata verdi\n"
     ]
    }
   ],
   "source": [
    "#istersek raise ile yazılmış (diyelim ki başkasının yazmış olduğu bir kod) hata kodlarını da try...except ile yakalayabiliriz.\n",
    "def toplama():\n",
    "    while True:\n",
    "        a=input(\"Çıkmak için 'q' girin.\\nilk sayı: \")\n",
    "        if a==\"q\":\n",
    "            break\n",
    "        a=int(a)\n",
    "        b=int(input(\"ikinci sayı: \"))\n",
    "        if a==0 or b==0:\n",
    "            raise Exception(\"Bir sayıyı 0'la toplayamayan kişi hesap makinesini nasıl kullanabiliyor...Yürü Git!!!\")\n",
    "        print(a,\"+\",b,\"=\",a+b)\n",
    "try:\n",
    "    toplama()\n",
    "except Exception:\n",
    "    print(\"Fonksiyon hata verdi\")"
   ]
  },
  {
   "cell_type": "code",
   "execution_count": 5,
   "metadata": {},
   "outputs": [
    {
     "name": "stdout",
     "output_type": "stream",
     "text": [
      "bölünecek sayı: 36\n",
      "bölen sayı: 0\n",
      "bir sayıyı 0'a bölemezsiniz\n"
     ]
    },
    {
     "ename": "ZeroDivisionError",
     "evalue": "division by zero",
     "output_type": "error",
     "traceback": [
      "\u001b[1;31m---------------------------------------------------------------------------\u001b[0m",
      "\u001b[1;31mZeroDivisionError\u001b[0m                         Traceback (most recent call last)",
      "\u001b[1;32m<ipython-input-5-378047b63f0d>\u001b[0m in \u001b[0;36m<module>\u001b[1;34m\u001b[0m\n\u001b[0;32m      3\u001b[0m     \u001b[0ma\u001b[0m \u001b[1;33m=\u001b[0m \u001b[0mint\u001b[0m\u001b[1;33m(\u001b[0m\u001b[0minput\u001b[0m\u001b[1;33m(\u001b[0m\u001b[1;34m\"bölünecek sayı: \"\u001b[0m\u001b[1;33m)\u001b[0m\u001b[1;33m)\u001b[0m\u001b[1;33m\u001b[0m\u001b[1;33m\u001b[0m\u001b[0m\n\u001b[0;32m      4\u001b[0m     \u001b[0mb\u001b[0m \u001b[1;33m=\u001b[0m \u001b[0mint\u001b[0m\u001b[1;33m(\u001b[0m\u001b[0minput\u001b[0m\u001b[1;33m(\u001b[0m\u001b[1;34m\"bölen sayı: \"\u001b[0m\u001b[1;33m)\u001b[0m\u001b[1;33m)\u001b[0m\u001b[1;33m\u001b[0m\u001b[1;33m\u001b[0m\u001b[0m\n\u001b[1;32m----> 5\u001b[1;33m     \u001b[0mprint\u001b[0m\u001b[1;33m(\u001b[0m\u001b[0ma\u001b[0m\u001b[1;33m/\u001b[0m\u001b[0mb\u001b[0m\u001b[1;33m)\u001b[0m\u001b[1;33m\u001b[0m\u001b[1;33m\u001b[0m\u001b[0m\n\u001b[0m\u001b[0;32m      6\u001b[0m \u001b[1;32mexcept\u001b[0m \u001b[0mZeroDivisionError\u001b[0m\u001b[1;33m:\u001b[0m\u001b[1;33m\u001b[0m\u001b[1;33m\u001b[0m\u001b[0m\n\u001b[0;32m      7\u001b[0m     \u001b[0mprint\u001b[0m\u001b[1;33m(\u001b[0m\u001b[1;34m\"bir sayıyı 0'a bölemezsiniz\"\u001b[0m\u001b[1;33m)\u001b[0m\u001b[1;33m\u001b[0m\u001b[1;33m\u001b[0m\u001b[0m\n",
      "\u001b[1;31mZeroDivisionError\u001b[0m: division by zero"
     ]
    }
   ],
   "source": [
    "#Bir de hatayı engellemeye değil hataya ek bilgi ilave etmeye yönelik şöyle bir kullanımı da var:\n",
    "try:\n",
    "    a = int(input(\"bölünecek sayı: \"))\n",
    "    b = int(input(\"bölen sayı: \"))\n",
    "    print(a/b)\n",
    "except ZeroDivisionError:\n",
    "    print(\"bir sayıyı 0'a bölemezsiniz\")\n",
    "    raise\n",
    "#burada raise kullanmasaydık bizim tanımladığımız hata mesajı gösterilecek ve program devam edecekti. Ama şimdi:"
   ]
  },
  {
   "cell_type": "markdown",
   "metadata": {},
   "source": [
    "## Bütün Hataları Yakalamak"
   ]
  },
  {
   "cell_type": "raw",
   "metadata": {},
   "source": [
    "try:\n",
    "    yaplacak işlemler......\n",
    "except:\n",
    "    hata mesajı ve yola devam..."
   ]
  },
  {
   "cell_type": "raw",
   "metadata": {},
   "source": [
    "try:\n",
    "    birtakım işlemler\n",
    "except ValueError: #karşılaşılabileceğimizi bildiğimiz bir hata türü ve bununla ilgili yapılacak işlemler.\n",
    "    print(\"Yanlış değer\")\n",
    "except ZeroDivisionError: #karşılaşılabileceğimizi bildiğimiz bir başka  hata türü ve bununla ilgili yapılacak işlemler.\n",
    "    print(\"Sıfıra bölme hatası\")\n",
    "except: #öngöremediğimi bir başka  hata türü ve bununla ilgili yapılacak işlemler.\n",
    "    print(\"Beklenmeyen bir hata oluştu!\")"
   ]
  },
  {
   "cell_type": "code",
   "execution_count": 2,
   "metadata": {},
   "outputs": [
    {
     "name": "stdout",
     "output_type": "stream",
     "text": [
      "Help on built-in function max in module builtins:\n",
      "\n",
      "max(...)\n",
      "    max(iterable, *[, default=obj, key=func]) -> value\n",
      "    max(arg1, arg2, *args, *[, key=func]) -> value\n",
      "    \n",
      "    With a single iterable argument, return its biggest item. The\n",
      "    default keyword-only argument specifies an object to return if\n",
      "    the provided iterable is empty.\n",
      "    With two or more arguments, return the largest argument.\n",
      "\n"
     ]
    }
   ],
   "source": [
    "help(max)"
   ]
  },
  {
   "cell_type": "code",
   "execution_count": 3,
   "metadata": {},
   "outputs": [
    {
     "name": "stdout",
     "output_type": "stream",
     "text": [
      "Help on built-in function min in module builtins:\n",
      "\n",
      "min(...)\n",
      "    min(iterable, *[, default=obj, key=func]) -> value\n",
      "    min(arg1, arg2, *args, *[, key=func]) -> value\n",
      "    \n",
      "    With a single iterable argument, return its smallest item. The\n",
      "    default keyword-only argument specifies an object to return if\n",
      "    the provided iterable is empty.\n",
      "    With two or more arguments, return the smallest argument.\n",
      "\n"
     ]
    }
   ],
   "source": [
    "help(min)"
   ]
  },
  {
   "cell_type": "code",
   "execution_count": 6,
   "metadata": {},
   "outputs": [
    {
     "name": "stdout",
     "output_type": "stream",
     "text": [
      "5 4 3 2\n"
     ]
    }
   ],
   "source": [
    "a=range(5,0,-1)\n",
    "print(*a)"
   ]
  },
  {
   "cell_type": "code",
   "execution_count": null,
   "metadata": {},
   "outputs": [],
   "source": []
  }
 ],
 "metadata": {
  "kernelspec": {
   "display_name": "Python 3",
   "language": "python",
   "name": "python3"
  },
  "language_info": {
   "codemirror_mode": {
    "name": "ipython",
    "version": 3
   },
   "file_extension": ".py",
   "mimetype": "text/x-python",
   "name": "python",
   "nbconvert_exporter": "python",
   "pygments_lexer": "ipython3",
   "version": "3.7.6"
  }
 },
 "nbformat": 4,
 "nbformat_minor": 2
}
