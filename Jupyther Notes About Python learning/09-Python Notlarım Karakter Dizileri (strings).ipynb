{
 "cells": [
  {
   "cell_type": "markdown",
   "metadata": {},
   "source": [
    "# KARAKTER DİZİLERİ"
   ]
  },
  {
   "cell_type": "code",
   "execution_count": 3,
   "metadata": {},
   "outputs": [
    {
     "name": "stdout",
     "output_type": "stream",
     "text": [
      "P\ty\tt\th\to\tn\n",
      "P\n",
      "y\n",
      "t\n",
      "h\n",
      "o\n",
      "n\n"
     ]
    }
   ],
   "source": [
    "metin=\"Python\"\n",
    "print(*metin,sep=\"\\t\")\n",
    "print(*metin,sep=\"\\n\")"
   ]
  },
  {
   "cell_type": "code",
   "execution_count": 4,
   "metadata": {},
   "outputs": [
    {
     "name": "stdout",
     "output_type": "stream",
     "text": [
      "Python\n"
     ]
    }
   ],
   "source": [
    "print(\"Pyt\"+\"hon\")"
   ]
  },
  {
   "cell_type": "code",
   "execution_count": 6,
   "metadata": {},
   "outputs": [
    {
     "name": "stdout",
     "output_type": "stream",
     "text": [
      "PythonPythonPythonPythonPython\n"
     ]
    }
   ],
   "source": [
    "print(metin*5)"
   ]
  },
  {
   "cell_type": "markdown",
   "metadata": {},
   "source": [
    "## Karakter dizilerinin (string) karakter sıra numaraları (index no)"
   ]
  },
  {
   "cell_type": "markdown",
   "metadata": {},
   "source": [
    "Sıra numaraları 0 dan başlar, yani ilk karakter 0'dır. Eğer istersek baştan sona değil, sondan başa doğru sıralamayı da kullanabiliriz. Sondan başa numaralandırma \"-1\" den başlar. Sıra numarası kullanımı köşeli parantez içine sıra numarası girerek yapılır."
   ]
  },
  {
   "cell_type": "code",
   "execution_count": null,
   "metadata": {},
   "outputs": [],
   "source": [
    "### print(metin[0])\n",
    "print(metin[1])\n",
    "print(metin[-6])\n",
    "print(metin[-5])"
   ]
  },
  {
   "cell_type": "code",
   "execution_count": 12,
   "metadata": {},
   "outputs": [
    {
     "name": "stdout",
     "output_type": "stream",
     "text": [
      "P\n",
      "y\n",
      "t\n",
      "h\n",
      "o\n",
      "n\n"
     ]
    }
   ],
   "source": [
    "for i in range(len(metin)):\n",
    "    print(metin[i])"
   ]
  },
  {
   "cell_type": "markdown",
   "metadata": {},
   "source": [
    "## string dilimlemek"
   ]
  },
  {
   "cell_type": "markdown",
   "metadata": {},
   "source": [
    "Stringleri sıra numaralarının aralıklarını belirterek parçlara ayırabiliriz. Bunun için yine soldan sağa ya da sağdan sola mantığına göre köşeli parantez içine başlangıç:bitiş değeri vererek kullanırız."
   ]
  },
  {
   "cell_type": "code",
   "execution_count": 26,
   "metadata": {},
   "outputs": [
    {
     "name": "stdout",
     "output_type": "stream",
     "text": [
      "istihza\n",
      "com\n",
      "www\n",
      "www.istihza\n",
      "istihza.com\n"
     ]
    }
   ],
   "source": [
    "site = \"www.istihza.com\"\n",
    "print(site[4:11])\n",
    "print(site[12:16])\n",
    "print(site[0:3])\n",
    "print(site[:11])\n",
    "print(site[4:])"
   ]
  },
  {
   "cell_type": "code",
   "execution_count": 24,
   "metadata": {},
   "outputs": [
    {
     "name": "stdout",
     "output_type": "stream",
     "text": [
      "hepsiburada\n"
     ]
    }
   ],
   "source": [
    "siteadres=\"www.hepsiburada.com\"\n",
    "adı=siteadres[4:-4]\n",
    "print(adı)"
   ]
  },
  {
   "cell_type": "markdown",
   "metadata": {},
   "source": [
    "## stringleri ters çevirmek, aralıklı işlemler"
   ]
  },
  {
   "cell_type": "code",
   "execution_count": 8,
   "metadata": {},
   "outputs": [
    {
     "name": "stdout",
     "output_type": "stream",
     "text": [
      "moc.adarubispeh.www\n",
      "adarubispeh\n"
     ]
    }
   ],
   "source": [
    "siteadres=\"www.hepsiburada.com\"\n",
    "print(siteadres[::-1])\n",
    "print(siteadres[-5:3:-1])"
   ]
  },
  {
   "cell_type": "code",
   "execution_count": 13,
   "metadata": {},
   "outputs": [
    {
     "name": "stdout",
     "output_type": "stream",
     "text": [
      "13579\n",
      "97531\n"
     ]
    }
   ],
   "source": [
    "metin=\"123456789\"\n",
    "print(metin[::2])\n",
    "print(metin[::-2])"
   ]
  },
  {
   "cell_type": "markdown",
   "metadata": {},
   "source": [
    "## reversed() fonksiyonu ile ters çevirmek"
   ]
  },
  {
   "cell_type": "code",
   "execution_count": 15,
   "metadata": {},
   "outputs": [
    {
     "data": {
      "text/plain": [
       "<reversed at 0x19203863d30>"
      ]
     },
     "execution_count": 15,
     "metadata": {},
     "output_type": "execute_result"
    }
   ],
   "source": [
    "metin=\"Sana Gül Bahçesi Vadetmedim\"\n",
    "reversed(metin)"
   ]
  },
  {
   "cell_type": "markdown",
   "metadata": {},
   "source": [
    "Burada görüldüğü gibi bir obje oluşturdu ama metni tersten yazdırmadı"
   ]
  },
  {
   "cell_type": "code",
   "execution_count": 17,
   "metadata": {},
   "outputs": [
    {
     "name": "stdout",
     "output_type": "stream",
     "text": [
      "<reversed object at 0x0000019203863CF8>\n"
     ]
    }
   ],
   "source": [
    "print(reversed(metin))"
   ]
  },
  {
   "cell_type": "code",
   "execution_count": 21,
   "metadata": {},
   "outputs": [
    {
     "name": "stdout",
     "output_type": "stream",
     "text": [
      "midemtedaV iseçhaB lüG anaS"
     ]
    }
   ],
   "source": [
    "for i in reversed(metin):\n",
    "    print (i,end=\"\")"
   ]
  },
  {
   "cell_type": "code",
   "execution_count": 23,
   "metadata": {},
   "outputs": [
    {
     "name": "stdout",
     "output_type": "stream",
     "text": [
      "midemtedaV iseçhaB lüG anaS\n"
     ]
    }
   ],
   "source": [
    "print(*reversed(metin),sep=\"\")"
   ]
  },
  {
   "cell_type": "markdown",
   "metadata": {},
   "source": [
    "## sorted() fonksiyonu ile alfabetik sıraya dizmek, "
   ]
  },
  {
   "cell_type": "code",
   "execution_count": 25,
   "metadata": {},
   "outputs": [
    {
     "data": {
      "text/plain": [
       "['a', 'i', 'k', 'p', 't']"
      ]
     },
     "execution_count": 25,
     "metadata": {},
     "output_type": "execute_result"
    }
   ],
   "source": [
    "sorted(\"kitap\")\n",
    "#bu fonksiyon bize liste tipinde çıktı verir"
   ]
  },
  {
   "cell_type": "code",
   "execution_count": 28,
   "metadata": {},
   "outputs": [
    {
     "name": "stdout",
     "output_type": "stream",
     "text": [
      "['a', 'i', 'k', 'p', 't']\n",
      "aikpt\n"
     ]
    }
   ],
   "source": [
    "print(sorted(\"kitap\"))\n",
    "print(*sorted(\"kitap\"), sep=\"\")"
   ]
  },
  {
   "cell_type": "code",
   "execution_count": 29,
   "metadata": {},
   "outputs": [
    {
     "name": "stdout",
     "output_type": "stream",
     "text": [
      "aikpt"
     ]
    }
   ],
   "source": [
    "for i in sorted(\"kitap\"):\n",
    "    print(i, end=\"\")"
   ]
  },
  {
   "cell_type": "code",
   "execution_count": 31,
   "metadata": {},
   "outputs": [
    {
     "name": "stdout",
     "output_type": "stream",
     "text": [
      "['e', 'i', 'k', 'ç', 'ç']\n"
     ]
    },
    {
     "data": {
      "text/plain": [
       "['ç', 'ç', 'e', 'i', 'k']"
      ]
     },
     "execution_count": 31,
     "metadata": {},
     "output_type": "execute_result"
    }
   ],
   "source": [
    "#bu fonksiyon Türkçe karakterlerin sıralamasını düzgün yapmaz:\n",
    "print(sorted(\"çiçek\"))\n",
    "#bu sorunu aşmak için:\n",
    "import locale\n",
    "locale.setlocale(locale.LC_ALL, \"Turkish_Turkey.1254\") #Windows için\n",
    "sorted(\"çiçek\", key=locale.strxfrm)"
   ]
  },
  {
   "cell_type": "markdown",
   "metadata": {},
   "source": [
    "Burada sorted() metodunun key adlı özel bir parametresine locale modülünden strxfrm değerini vererek Türkçeye duyarlı bir sıralama yapılmasını sağladık."
   ]
  },
  {
   "cell_type": "markdown",
   "metadata": {},
   "source": [
    "Dikkat!: Bu yöntem bile \"ı\" ve \"i\" harflerinin Türkçe'ye göre doğru sıralamasını yapmaz:"
   ]
  },
  {
   "cell_type": "code",
   "execution_count": 32,
   "metadata": {},
   "outputs": [
    {
     "data": {
      "text/plain": [
       "[' ', 'a', 'A', 'b', 'd', 'ğ', 'h', 'i', 'ı', 'ı', 'K', 'l', 'l', 'l', 'u']"
      ]
     },
     "execution_count": 32,
     "metadata": {},
     "output_type": "execute_result"
    }
   ],
   "source": [
    "import locale\n",
    "sorted(\"Abdullah Kiğılı\",key=locale.strxfrm)"
   ]
  },
  {
   "cell_type": "code",
   "execution_count": 33,
   "metadata": {},
   "outputs": [
    {
     "data": {
      "text/plain": [
       "['a', 'd', 'f', 'g', 'h', 'ı', 'i', 'k']"
      ]
     },
     "execution_count": 33,
     "metadata": {},
     "output_type": "execute_result"
    }
   ],
   "source": [
    "# Bu sorunu aşmak için, ya da kendimize göre bir sıralama şablonu oluşturmak için:\n",
    "harfler = \"abcçdefgğhıijklmnoöprsştuüvyz\"\n",
    "çevrim = {i: harfler.index(i) for i in harfler}\n",
    "#küme tipi bir veri oluşturduk ve her harfi key alıp, sıralamasını value olarak aldık\n",
    "sorted(\"afgdhkıi\", key=çevrim.get)#fonksiyona key parametresi sayesinde çevrim kümesinden sıralamayı almasını söyledik"
   ]
  },
  {
   "cell_type": "code",
   "execution_count": 34,
   "metadata": {},
   "outputs": [
    {
     "data": {
      "text/plain": [
       "{'a': 0,\n",
       " 'b': 1,\n",
       " 'c': 2,\n",
       " 'ç': 3,\n",
       " 'd': 4,\n",
       " 'e': 5,\n",
       " 'f': 6,\n",
       " 'g': 7,\n",
       " 'ğ': 8,\n",
       " 'h': 9,\n",
       " 'ı': 10,\n",
       " 'i': 11,\n",
       " 'j': 12,\n",
       " 'k': 13,\n",
       " 'l': 14,\n",
       " 'm': 15,\n",
       " 'n': 16,\n",
       " 'o': 17,\n",
       " 'ö': 18,\n",
       " 'p': 19,\n",
       " 'r': 20,\n",
       " 's': 21,\n",
       " 'ş': 22,\n",
       " 't': 23,\n",
       " 'u': 24,\n",
       " 'ü': 25,\n",
       " 'v': 26,\n",
       " 'y': 27,\n",
       " 'z': 28}"
      ]
     },
     "execution_count": 34,
     "metadata": {},
     "output_type": "execute_result"
    }
   ],
   "source": [
    "çevrim"
   ]
  },
  {
   "cell_type": "markdown",
   "metadata": {},
   "source": [
    "# Karakter dizileri üzerinde değişiklik yapmak"
   ]
  },
  {
   "cell_type": "markdown",
   "metadata": {},
   "source": [
    "Karakter dizileri sayılar gibi immutable denilen, yani üzerinde değişiklik yapılamayacak olan veri tiplerinden biridir. Bir defa tanımlandıktan sonra üzerinde değişiklik yapılamaz. Ancak burada öğrendiğimiz kesme, birleştirme vs.. yöntemlerle ilk tanımladığımız string üzerinde hiçbir değişiklik yapamadan, yeni stringler tanımlayarak ya da yeni aynı değişkene yeni stingi tanımlayarak sonuca ulaşabiliriz."
   ]
  },
  {
   "cell_type": "code",
   "execution_count": 36,
   "metadata": {},
   "outputs": [
    {
     "data": {
      "text/plain": [
       "'Elma'"
      ]
     },
     "execution_count": 36,
     "metadata": {},
     "output_type": "execute_result"
    }
   ],
   "source": [
    "meyve=\"elma\" #bu stringin baş harfini asla büyütemeyiz, ama başa harfi büyük yazılmış bir \"Elma\" strinig elde edebiliriz:\n",
    "\"E\"+meyve[1:]"
   ]
  },
  {
   "cell_type": "code",
   "execution_count": 39,
   "metadata": {},
   "outputs": [
    {
     "name": "stdout",
     "output_type": "stream",
     "text": [
      "http://www.google.com\n",
      "http://www.istihza.com\n",
      "http://www.yahoo.com\n",
      "http://www.gnu.org\n"
     ]
    }
   ],
   "source": [
    "site1 = \"www.google.com\"\n",
    "site2 = \"www.istihza.com\"\n",
    "site3 = \"www.yahoo.com\"\n",
    "site4 = \"www.gnu.org\"\n",
    "for i in site1, site2, site3, site4:\n",
    "    print(\"http://\", i, sep=\"\")"
   ]
  },
  {
   "cell_type": "code",
   "execution_count": 38,
   "metadata": {},
   "outputs": [
    {
     "name": "stdout",
     "output_type": "stream",
     "text": [
      "http://google.com\n",
      "http://istihza.com\n",
      "http://yahoo.com\n",
      "http://gnu.org\n"
     ]
    }
   ],
   "source": [
    "site1 = \"www.google.com\"\n",
    "site2 = \"www.istihza.com\"\n",
    "site3 = \"www.yahoo.com\"\n",
    "site4 = \"www.gnu.org\"\n",
    "for i in site1, site2, site3, site4:\n",
    "    print(\"http://\", i[4:], sep=\"\")"
   ]
  },
  {
   "cell_type": "markdown",
   "metadata": {},
   "source": [
    "Görüleceği üzere buradaki hiçbir durumda ilk tanımladığımız string değişikliğe uğramadı, hatta print ile istediğimiz metni elde etmiş olsak da bu fonksiyon ile yazdırdığımız metin bir defaya mahsustu, sonra artık o metne ulaşmak için aynı işlemleri tekrar yapmakdan  başka yol yok..."
   ]
  },
  {
   "cell_type": "code",
   "execution_count": 40,
   "metadata": {},
   "outputs": [
    {
     "data": {
      "text/plain": [
       "'www.google.com'"
      ]
     },
     "execution_count": 40,
     "metadata": {},
     "output_type": "execute_result"
    }
   ],
   "source": [
    "site1"
   ]
  },
  {
   "cell_type": "code",
   "execution_count": 46,
   "metadata": {},
   "outputs": [
    {
     "name": "stdout",
     "output_type": "stream",
     "text": [
      "Elma\n"
     ]
    }
   ],
   "source": [
    "metin=\"elma\"\n",
    "metin=\"E\"+metin[1:]#metin değişkenindeki \"elma\" stingini değiştirmedik, metin değişkenine yeniden değer verdik.\n",
    "print(metin)"
   ]
  },
  {
   "cell_type": "code",
   "execution_count": 47,
   "metadata": {},
   "outputs": [
    {
     "name": "stdout",
     "output_type": "stream",
     "text": [
      "sesli harfler:  iau\n",
      "sessiz harfler:  stnbl\n"
     ]
    }
   ],
   "source": [
    "sesli_harfler = \"aeıioöuü\"\n",
    "sessiz_harfler = \"bcçdfgğhjklmnprsştvyz\"\n",
    "\n",
    "sesliler = \"\"\n",
    "sessizler = \"\"\n",
    "\n",
    "kelime = \"istanbul\" #Bu kelimedeki sesli ve sessiz harfleri ayırıp iki ayrı string oluşturacağız.\n",
    "\n",
    "for i in kelime:\n",
    "    if i in sesli_harfler:\n",
    "        sesliler += i #burada sesliler değişkenine tanımlı stringi her defasında yeniden tanımlıyoruz.\n",
    "    else:\n",
    "        sessizler += i #burada sessizler değişkenine tanımlı stringi her defasında yeniden tanımlıyoruz.\n",
    "\n",
    "print(\"sesli harfler: \", sesliler)\n",
    "print(\"sessiz harfler: \", sessizler)"
   ]
  },
  {
   "cell_type": "markdown",
   "metadata": {},
   "source": [
    "# dir () fonksiyonu"
   ]
  },
  {
   "cell_type": "markdown",
   "metadata": {},
   "source": [
    "Bu fonksiyon Python'daki bir nesnenin özellikleri hakkında bilgi veren bir fonksiyondur. Nesnenin içindeki metodların listesini sunar."
   ]
  },
  {
   "cell_type": "code",
   "execution_count": 51,
   "metadata": {},
   "outputs": [
    {
     "data": {
      "text/plain": [
       "['__add__',\n",
       " '__class__',\n",
       " '__contains__',\n",
       " '__delattr__',\n",
       " '__dir__',\n",
       " '__doc__',\n",
       " '__eq__',\n",
       " '__format__',\n",
       " '__ge__',\n",
       " '__getattribute__',\n",
       " '__getitem__',\n",
       " '__getnewargs__',\n",
       " '__gt__',\n",
       " '__hash__',\n",
       " '__init__',\n",
       " '__init_subclass__',\n",
       " '__iter__',\n",
       " '__le__',\n",
       " '__len__',\n",
       " '__lt__',\n",
       " '__mod__',\n",
       " '__mul__',\n",
       " '__ne__',\n",
       " '__new__',\n",
       " '__reduce__',\n",
       " '__reduce_ex__',\n",
       " '__repr__',\n",
       " '__rmod__',\n",
       " '__rmul__',\n",
       " '__setattr__',\n",
       " '__sizeof__',\n",
       " '__str__',\n",
       " '__subclasshook__',\n",
       " 'capitalize',\n",
       " 'casefold',\n",
       " 'center',\n",
       " 'count',\n",
       " 'encode',\n",
       " 'endswith',\n",
       " 'expandtabs',\n",
       " 'find',\n",
       " 'format',\n",
       " 'format_map',\n",
       " 'index',\n",
       " 'isalnum',\n",
       " 'isalpha',\n",
       " 'isascii',\n",
       " 'isdecimal',\n",
       " 'isdigit',\n",
       " 'isidentifier',\n",
       " 'islower',\n",
       " 'isnumeric',\n",
       " 'isprintable',\n",
       " 'isspace',\n",
       " 'istitle',\n",
       " 'isupper',\n",
       " 'join',\n",
       " 'ljust',\n",
       " 'lower',\n",
       " 'lstrip',\n",
       " 'maketrans',\n",
       " 'partition',\n",
       " 'replace',\n",
       " 'rfind',\n",
       " 'rindex',\n",
       " 'rjust',\n",
       " 'rpartition',\n",
       " 'rsplit',\n",
       " 'rstrip',\n",
       " 'split',\n",
       " 'splitlines',\n",
       " 'startswith',\n",
       " 'strip',\n",
       " 'swapcase',\n",
       " 'title',\n",
       " 'translate',\n",
       " 'upper',\n",
       " 'zfill']"
      ]
     },
     "execution_count": 51,
     "metadata": {},
     "output_type": "execute_result"
    }
   ],
   "source": [
    "dir(str) #Bu şekilde stringlerin bütün özelliklerinin listesine erişiriz\n",
    "# bu fonksiyona parametre olarak ne girersek onun metodlarını listeleyecektir.\n",
    "#dir(str)=dir(\"\")=dir(\"herhangi bir string, ya da değeri string olan herhangi bir değişken\") hepsi aynıdır.\n",
    "#dir(int)=dir(0)=dir(90449)=dir(değeri int olan değişken adı)"
   ]
  },
  {
   "cell_type": "code",
   "execution_count": 58,
   "metadata": {},
   "outputs": [
    {
     "name": "stdout",
     "output_type": "stream",
     "text": [
      "1 - capitalize\n",
      "2 - casefold\n",
      "3 - center\n",
      "4 - count\n",
      "5 - encode\n",
      "6 - endswith\n",
      "7 - expandtabs\n",
      "8 - find\n",
      "9 - format\n",
      "10 - format_map\n",
      "11 - index\n",
      "12 - isalnum\n",
      "13 - isalpha\n",
      "14 - isascii\n",
      "15 - isdecimal\n",
      "16 - isdigit\n",
      "17 - isidentifier\n",
      "18 - islower\n",
      "19 - isnumeric\n",
      "20 - isprintable\n",
      "21 - isspace\n",
      "22 - istitle\n",
      "23 - isupper\n",
      "24 - join\n",
      "25 - ljust\n",
      "26 - lower\n",
      "27 - lstrip\n",
      "28 - maketrans\n",
      "29 - partition\n",
      "30 - replace\n",
      "31 - rfind\n",
      "32 - rindex\n",
      "33 - rjust\n",
      "34 - rpartition\n",
      "35 - rsplit\n",
      "36 - rstrip\n",
      "37 - split\n",
      "38 - splitlines\n",
      "39 - startswith\n",
      "40 - strip\n",
      "41 - swapcase\n",
      "42 - title\n",
      "43 - translate\n",
      "44 - upper\n",
      "45 - zfill\n",
      "Toplam: 45 adet\n"
     ]
    }
   ],
   "source": [
    "#Bizim stringler için ilgilendiğimiz metodlar, başında sonunda \"__\" olmayanlardır. Bunları listeleyelim:\n",
    "sayaç = 0\n",
    "for i in dir(\"\"):\n",
    "    if \"_\" not in i[0]:\n",
    "        sayaç += 1\n",
    "        print(sayaç,\"-\",i)\n",
    "print(\"Toplam:\",sayaç,\"adet\")"
   ]
  },
  {
   "cell_type": "markdown",
   "metadata": {},
   "source": [
    "# enumerate() fonksiyonu"
   ]
  },
  {
   "cell_type": "markdown",
   "metadata": {},
   "source": [
    "En son dir() fonksiyonu ile stringlere ait metodları listelerken numaralandırma yapmıştık. Aslında bu numaralandırma işlemi için kullanılan bir de enumerate() fonksiyonu vardır."
   ]
  },
  {
   "cell_type": "code",
   "execution_count": 59,
   "metadata": {},
   "outputs": [
    {
     "data": {
      "text/plain": [
       "<enumerate at 0x192038fdab0>"
      ]
     },
     "execution_count": 59,
     "metadata": {},
     "output_type": "execute_result"
    }
   ],
   "source": [
    "enumerate(\"murat\")"
   ]
  },
  {
   "cell_type": "markdown",
   "metadata": {},
   "source": [
    "Görüldüğü üzere enumerate fonksiyonu da range(), ve reversed() fonksiyonları gibi bu da bir enumerate nesnesi oluşturuyor."
   ]
  },
  {
   "cell_type": "code",
   "execution_count": 62,
   "metadata": {},
   "outputs": [
    {
     "name": "stdout",
     "output_type": "stream",
     "text": [
      "(0, 'm') (1, 'u') (2, 'r') (3, 'a') (4, 't')\n"
     ]
    }
   ],
   "source": [
    "print(*enumerate(\"murat\"))"
   ]
  },
  {
   "cell_type": "code",
   "execution_count": 63,
   "metadata": {
    "scrolled": true
   },
   "outputs": [
    {
     "name": "stdout",
     "output_type": "stream",
     "text": [
      "(0, 'm')\n",
      "(1, 'u')\n",
      "(2, 'r')\n",
      "(3, 'a')\n",
      "(4, 't')\n"
     ]
    }
   ],
   "source": [
    "for i in enumerate(\"murat\"):\n",
    "     print(i)"
   ]
  },
  {
   "cell_type": "code",
   "execution_count": 66,
   "metadata": {},
   "outputs": [
    {
     "name": "stdout",
     "output_type": "stream",
     "text": [
      "33 capitalize\n",
      "34 casefold\n",
      "35 center\n",
      "36 count\n",
      "37 encode\n",
      "38 endswith\n",
      "39 expandtabs\n",
      "40 find\n",
      "41 format\n",
      "42 format_map\n",
      "43 index\n",
      "44 isalnum\n",
      "45 isalpha\n",
      "46 isascii\n",
      "47 isdecimal\n",
      "48 isdigit\n",
      "49 isidentifier\n",
      "50 islower\n",
      "51 isnumeric\n",
      "52 isprintable\n",
      "53 isspace\n",
      "54 istitle\n",
      "55 isupper\n",
      "56 join\n",
      "57 ljust\n",
      "58 lower\n",
      "59 lstrip\n",
      "60 maketrans\n",
      "61 partition\n",
      "62 replace\n",
      "63 rfind\n",
      "64 rindex\n",
      "65 rjust\n",
      "66 rpartition\n",
      "67 rsplit\n",
      "68 rstrip\n",
      "69 split\n",
      "70 splitlines\n",
      "71 startswith\n",
      "72 strip\n",
      "73 swapcase\n",
      "74 title\n",
      "75 translate\n",
      "76 upper\n",
      "77 zfill\n"
     ]
    }
   ],
   "source": [
    "for sıra, metot in enumerate(dir(\"\")):\n",
    "    if metot[0]!=\"_\":\n",
    "        print(sıra, metot)"
   ]
  },
  {
   "cell_type": "code",
   "execution_count": 68,
   "metadata": {},
   "outputs": [
    {
     "name": "stdout",
     "output_type": "stream",
     "text": [
      "(1, 'm')\n",
      "(2, 'u')\n",
      "(3, 'r')\n",
      "(4, 'a')\n",
      "(5, 't')\n"
     ]
    }
   ],
   "source": [
    "#istersek sıra numarasını fonksiyona ikinci bir parametre vererek başka bir sayıdan başlatabiliriz\n",
    "for i in enumerate(\"murat\",1):\n",
    "     print(i)"
   ]
  },
  {
   "cell_type": "markdown",
   "metadata": {},
   "source": [
    "# help () fonksiyonu"
   ]
  },
  {
   "cell_type": "markdown",
   "metadata": {},
   "source": [
    "Bir fonksiyonla ilgili hızlıca yardım almak için kullanılan fonksiyondur, iki şekilde kullanımı vardır. Parametresiz kullanımda bize yardım almak istediğimiz nesneyi sorar. Ya da help() içine istediğimiz objeyi parametre olarak göndeririz."
   ]
  },
  {
   "cell_type": "code",
   "execution_count": 70,
   "metadata": {},
   "outputs": [
    {
     "name": "stdout",
     "output_type": "stream",
     "text": [
      "\n",
      "Welcome to Python 3.7's help utility!\n",
      "\n",
      "If this is your first time using Python, you should definitely check out\n",
      "the tutorial on the Internet at https://docs.python.org/3.7/tutorial/.\n",
      "\n",
      "Enter the name of any module, keyword, or topic to get help on writing\n",
      "Python programs and using Python modules.  To quit this help utility and\n",
      "return to the interpreter, just type \"quit\".\n",
      "\n",
      "To get a list of available modules, keywords, symbols, or topics, type\n",
      "\"modules\", \"keywords\", \"symbols\", or \"topics\".  Each module also comes\n",
      "with a one-line summary of what it does; to list the modules whose name\n",
      "or summary contain a given string such as \"spam\", type \"modules spam\".\n",
      "\n",
      "help> dir\n",
      "Help on built-in function dir in module builtins:\n",
      "\n",
      "dir(...)\n",
      "    dir([object]) -> list of strings\n",
      "    \n",
      "    If called without an argument, return the names in the current scope.\n",
      "    Else, return an alphabetized list of names comprising (some of) the attributes\n",
      "    of the given object, and of attributes reachable from it.\n",
      "    If the object supplies a method named __dir__, it will be used; otherwise\n",
      "    the default dir() logic is used and returns:\n",
      "      for a module object: the module's attributes.\n",
      "      for a class object:  its attributes, and recursively the attributes\n",
      "        of its bases.\n",
      "      for any other object: its attributes, its class's attributes, and\n",
      "        recursively the attributes of its class's base classes.\n",
      "\n",
      "help> len\n",
      "Help on built-in function len in module builtins:\n",
      "\n",
      "len(obj, /)\n",
      "    Return the number of items in a container.\n",
      "\n",
      "help> \n",
      "\n",
      "You are now leaving help and returning to the Python interpreter.\n",
      "If you want to ask for help on a particular object directly from the\n",
      "interpreter, you can type \"help(object)\".  Executing \"help('string')\"\n",
      "has the same effect as typing a particular string at the help> prompt.\n"
     ]
    }
   ],
   "source": [
    "help()"
   ]
  },
  {
   "cell_type": "code",
   "execution_count": 72,
   "metadata": {},
   "outputs": [
    {
     "name": "stdout",
     "output_type": "stream",
     "text": [
      "Help on built-in function len in module builtins:\n",
      "\n",
      "len(obj, /)\n",
      "    Return the number of items in a container.\n",
      "\n"
     ]
    }
   ],
   "source": [
    "help(len)"
   ]
  },
  {
   "cell_type": "markdown",
   "metadata": {},
   "source": [
    "# Karakter Dizilerinin Metodları"
   ]
  },
  {
   "cell_type": "markdown",
   "metadata": {},
   "source": [
    "## replace()"
   ]
  },
  {
   "cell_type": "markdown",
   "metadata": {},
   "source": [
    "Bu parametre bir string içindeki karakterlerin içerdiği parametrelere göre değiştirmeye yarar. Üç parametre alabilir, ilki değiştirilecek olan karakter(ler), ikincisi yerine gelecek olan(lar), üçüncüsü bu işlemin kaç defa yapılacağıdir."
   ]
  },
  {
   "cell_type": "markdown",
   "metadata": {},
   "source": [
    "Unutulmamalıdır ki stringler immutable, yani değiştirilemez verilerdir. Bu nedenle bu metod aslında asıl string üzerinde değişiklik yapmaz, ondan yola çıkarak yeni veriler oluşturur."
   ]
  },
  {
   "cell_type": "code",
   "execution_count": 74,
   "metadata": {},
   "outputs": [
    {
     "data": {
      "text/plain": [
       "'Elma'"
      ]
     },
     "execution_count": 74,
     "metadata": {},
     "output_type": "execute_result"
    }
   ],
   "source": [
    "meyve=\"elma\"\n",
    "meyve.replace(\"e\",\"E\")"
   ]
  },
  {
   "cell_type": "code",
   "execution_count": 75,
   "metadata": {},
   "outputs": [
    {
     "data": {
      "text/plain": [
       "'lma'"
      ]
     },
     "execution_count": 75,
     "metadata": {},
     "output_type": "execute_result"
    }
   ],
   "source": [
    "meyve.replace(\"e\",\"\")"
   ]
  },
  {
   "cell_type": "code",
   "execution_count": 76,
   "metadata": {},
   "outputs": [
    {
     "data": {
      "text/plain": [
       "'mEmlEkEt'"
      ]
     },
     "execution_count": 76,
     "metadata": {},
     "output_type": "execute_result"
    }
   ],
   "source": [
    "isim=\"memleket\"\n",
    "isim.replace(\"e\",\"E\")"
   ]
  },
  {
   "cell_type": "code",
   "execution_count": 78,
   "metadata": {},
   "outputs": [
    {
     "data": {
      "text/plain": [
       "'mEmlEket'"
      ]
     },
     "execution_count": 78,
     "metadata": {},
     "output_type": "execute_result"
    }
   ],
   "source": [
    "isim=\"memleket\"\n",
    "isim.replace(\"e\",\"E\",2)"
   ]
  },
  {
   "cell_type": "code",
   "execution_count": 79,
   "metadata": {},
   "outputs": [
    {
     "data": {
      "text/plain": [
       "'memleKET'"
      ]
     },
     "execution_count": 79,
     "metadata": {},
     "output_type": "execute_result"
    }
   ],
   "source": [
    "\"memleket\".replace(\"ket\",\"KET\")"
   ]
  },
  {
   "cell_type": "code",
   "execution_count": 80,
   "metadata": {},
   "outputs": [
    {
     "name": "stdout",
     "output_type": "stream",
     "text": [
      "Alma\n",
      "elma\n"
     ]
    }
   ],
   "source": [
    "#stringler immutable yani değiştirilemez veriler olduğunu unutmamak gerekir.\n",
    "meyve=\"elma\"\n",
    "print(meyve.replace(\"e\",\"A\"))\n",
    "print(meyve)"
   ]
  },
  {
   "cell_type": "markdown",
   "metadata": {},
   "source": [
    "## split()"
   ]
  },
  {
   "cell_type": "markdown",
   "metadata": {},
   "source": [
    "Split metodu stringleri bölmeye yarayan metoddur. İki adet parametre alabilir. İlk parametre ile stringleri hangi karakteri gördüğünde bölmesi gerektiği, ikinci parametre ise kaç defa bölmesi gerektiğidir.\n",
    "İlk parametrenin varsayılan değeri \" \" yani boşluk karakteridir. Yani bu metoda parametre girilmezse strigi kaç boşluk varsa o kadar böler."
   ]
  },
  {
   "cell_type": "code",
   "execution_count": 83,
   "metadata": {},
   "outputs": [
    {
     "name": "stdout",
     "output_type": "stream",
     "text": [
      "İstanbul,\n",
      "Antalya,\n",
      "İzmir,\n",
      "Ankara,\n",
      "Konya\n"
     ]
    }
   ],
   "source": [
    "cümle=\"İstanbul, Antalya, İzmir, Ankara, Konya\"\n",
    "for i in cümle.split():\n",
    "    print(i)"
   ]
  },
  {
   "cell_type": "code",
   "execution_count": 85,
   "metadata": {},
   "outputs": [
    {
     "name": "stdout",
     "output_type": "stream",
     "text": [
      "İstanbul\n",
      "Antalya\n",
      "İzmir\n",
      "Ankara\n",
      "Konya\n"
     ]
    }
   ],
   "source": [
    "cümle=\"İstanbul, Antalya, İzmir, Ankara, Konya\"\n",
    "for i in cümle.split(\", \"):\n",
    "    print(i)"
   ]
  },
  {
   "cell_type": "code",
   "execution_count": 86,
   "metadata": {},
   "outputs": [
    {
     "name": "stdout",
     "output_type": "stream",
     "text": [
      "İstanbul\n",
      "Antalya, İzmir, Ankara, Konya\n"
     ]
    }
   ],
   "source": [
    "cümle=\"İstanbul, Antalya, İzmir, Ankara, Konya\"\n",
    "for i in cümle.split(\", \",1):\n",
    "    print(i)"
   ]
  },
  {
   "cell_type": "code",
   "execution_count": 88,
   "metadata": {},
   "outputs": [
    {
     "name": "stdout",
     "output_type": "stream",
     "text": [
      "İstanbul\n",
      "Antalya\n",
      "İzmir\n",
      "Ankara, Konya\n"
     ]
    }
   ],
   "source": [
    "cümle=\"İstanbul, Antalya, İzmir, Ankara, Konya\"\n",
    "for i in cümle.split(\", \",3):\n",
    "    print(i)"
   ]
  },
  {
   "cell_type": "code",
   "execution_count": 94,
   "metadata": {},
   "outputs": [
    {
     "name": "stdout",
     "output_type": "stream",
     "text": [
      "T.B.M.M."
     ]
    }
   ],
   "source": [
    "cümle=\"Türkiye Büyük Millet Meclisi\"\n",
    "for i in cümle.split():\n",
    "    print(i[0]+\".\",end=\"\")"
   ]
  },
  {
   "cell_type": "code",
   "execution_count": 1,
   "metadata": {},
   "outputs": [
    {
     "name": "stdout",
     "output_type": "stream",
     "text": [
      "3.7.6 (default, Jan  8 2020, 20:23:39) [MSC v.1916 64 bit (AMD64)]\n"
     ]
    }
   ],
   "source": [
    "import sys\n",
    "sürüm=sys.version\n",
    "print(sürüm)"
   ]
  },
  {
   "cell_type": "code",
   "execution_count": 2,
   "metadata": {},
   "outputs": [
    {
     "name": "stdout",
     "output_type": "stream",
     "text": [
      "['3.7.6', '(default,', 'Jan', '8', '2020,', '20:23:39)', '[MSC', 'v.1916', '64', 'bit', '(AMD64)]']\n"
     ]
    }
   ],
   "source": [
    "import sys\n",
    "sürüm=sys.version\n",
    "print(sürüm.split())"
   ]
  },
  {
   "cell_type": "code",
   "execution_count": 5,
   "metadata": {},
   "outputs": [
    {
     "name": "stdout",
     "output_type": "stream",
     "text": [
      "3.7.1\n"
     ]
    }
   ],
   "source": [
    "#Bilgisayardaki yüklü Python sürümü...\n",
    "import sys\n",
    "sürüm=sys.version\n",
    "print(sürüm.split()[0])"
   ]
  },
  {
   "cell_type": "markdown",
   "metadata": {},
   "source": [
    "## rsplit()"
   ]
  },
  {
   "cell_type": "markdown",
   "metadata": {},
   "source": [
    "Bu metodun split() metodundan tek farkı işlemi sağdan sola doğru yapmasıdır."
   ]
  },
  {
   "cell_type": "code",
   "execution_count": 11,
   "metadata": {},
   "outputs": [
    {
     "name": "stdout",
     "output_type": "stream",
     "text": [
      "İstanbul\n",
      "Antalya, İzmir, Ankara, Konya\n"
     ]
    }
   ],
   "source": [
    "cümle=\"İstanbul, Antalya, İzmir, Ankara, Konya\"\n",
    "for i in (cümle.split(\", \",1)):\n",
    "    print (i)"
   ]
  },
  {
   "cell_type": "code",
   "execution_count": 12,
   "metadata": {},
   "outputs": [
    {
     "name": "stdout",
     "output_type": "stream",
     "text": [
      "İstanbul, Antalya, İzmir, Ankara\n",
      "Konya\n"
     ]
    }
   ],
   "source": [
    "cümle=\"İstanbul, Antalya, İzmir, Ankara, Konya\"\n",
    "for i in (cümle.rsplit(\", \",1)):\n",
    "    print (i)"
   ]
  },
  {
   "cell_type": "markdown",
   "metadata": {},
   "source": [
    "## splitlines()"
   ]
  },
  {
   "cell_type": "markdown",
   "metadata": {},
   "source": [
    "Bu metod ise stringleri satır satır ayırmaya yarar. Tek parametre alır, buna da True ya da False değerleri verilebilir. Varsayılan değeri False'dir. Bu değer True Yapılırsa satır sonlarına \\n kaçış dizisini ekler."
   ]
  },
  {
   "cell_type": "code",
   "execution_count": 16,
   "metadata": {},
   "outputs": [
    {
     "name": "stdout",
     "output_type": "stream",
     "text": [
      "['Python programlama dili Guido Van Rossum adlı Hollandalı bir programcı', \"tarafından 90'lı yılların başında geliştirilmeye başlanmıştır. Çoğu insan, isminin\", 'Python olmasına bakarak, bu programlama dilinin, adını piton yılanından aldığını', 'düşünür. Ancak zannedildiğinin aksine bu programlama dilinin adı piton yılanından', 'gelmez. Guido Van Rossum bu programlama dilini, The Monty Python adlı bir İngiliz', \"komedi grubunun, Monty Python's Flying Circus adlı gösterisinden esinlenerek\", 'adlandırmıştır. Ancak her ne kadar gerçek böyle olsa da, Python programlama', 'dilinin pek çok yerde bir yılan figürü ile temsil edilmesi neredeyse bir gelenek', 'halini almıştır diyebiliriz.']\n"
     ]
    }
   ],
   "source": [
    "metin = \"\"\"Python programlama dili Guido Van Rossum adlı Hollandalı bir programcı\n",
    "tarafından 90'lı yılların başında geliştirilmeye başlanmıştır. Çoğu insan, isminin\n",
    "Python olmasına bakarak, bu programlama dilinin, adını piton yılanından aldığını\n",
    "düşünür. Ancak zannedildiğinin aksine bu programlama dilinin adı piton yılanından\n",
    "gelmez. Guido Van Rossum bu programlama dilini, The Monty Python adlı bir İngiliz\n",
    "komedi grubunun, Monty Python's Flying Circus adlı gösterisinden esinlenerek\n",
    "adlandırmıştır. Ancak her ne kadar gerçek böyle olsa da, Python programlama\n",
    "dilinin pek çok yerde bir yılan figürü ile temsil edilmesi neredeyse bir gelenek\n",
    "halini almıştır diyebiliriz.\"\"\"\n",
    "print(metin.splitlines())"
   ]
  },
  {
   "cell_type": "code",
   "execution_count": 17,
   "metadata": {},
   "outputs": [
    {
     "name": "stdout",
     "output_type": "stream",
     "text": [
      "['Python programlama dili Guido Van Rossum adlı Hollandalı bir programcı\\n', \"tarafından 90'lı yılların başında geliştirilmeye başlanmıştır. Çoğu insan, isminin\\n\", 'Python olmasına bakarak, bu programlama dilinin, adını piton yılanından aldığını\\n', 'düşünür. Ancak zannedildiğinin aksine bu programlama dilinin adı piton yılanından\\n', 'gelmez. Guido Van Rossum bu programlama dilini, The Monty Python adlı bir İngiliz\\n', \"komedi grubunun, Monty Python's Flying Circus adlı gösterisinden esinlenerek\\n\", 'adlandırmıştır. Ancak her ne kadar gerçek böyle olsa da, Python programlama\\n', 'dilinin pek çok yerde bir yılan figürü ile temsil edilmesi neredeyse bir gelenek\\n', 'halini almıştır diyebiliriz.']\n"
     ]
    }
   ],
   "source": [
    "print(metin.splitlines(True))"
   ]
  },
  {
   "cell_type": "markdown",
   "metadata": {},
   "source": [
    "## lower()"
   ]
  },
  {
   "cell_type": "markdown",
   "metadata": {},
   "source": [
    "Herhangi bir stringi küçük harfe dönüştürmeye yarar."
   ]
  },
  {
   "cell_type": "code",
   "execution_count": 6,
   "metadata": {},
   "outputs": [
    {
     "name": "stdout",
     "output_type": "stream",
     "text": [
      "Help on built-in function lower:\n",
      "\n",
      "lower() method of builtins.str instance\n",
      "    Return a copy of the string converted to lowercase.\n",
      "\n"
     ]
    }
   ],
   "source": [
    "help(\"\".lower)"
   ]
  },
  {
   "cell_type": "code",
   "execution_count": 24,
   "metadata": {},
   "outputs": [
    {
     "name": "stdout",
     "output_type": "stream",
     "text": [
      "Aradığınız kişinin adı ve soyadı: aHMEt ÖZ\n",
      "email: aoz@hmail.com\n",
      "tel  : 02121231212\n",
      "şehir: istanbul\n"
     ]
    }
   ],
   "source": [
    "#Buraya isim soyisim girilecek ama kullanıcının nerede büyük harf, nerede küçük harf kullanacağını bilemiyoruz.\n",
    "kişi = input(\"Aradığınız kişinin adı ve soyadı: \")\n",
    "kişi = kişi.lower() #girilen stringi tamamı küçük harfe çevirip yeniden aynı değişkene atadık.\n",
    "\n",
    "if kişi == \"ahmet öz\":\n",
    "    print(\"email: aoz@hmail.com\")\n",
    "    print(\"tel  : 02121231212\")\n",
    "    print(\"şehir: istanbul\")\n",
    "\n",
    "elif kişi == \"mehmet söz\":\n",
    "    print(\"email: msoz@zmail.com\")\n",
    "    print(\"tel  : 03121231212\")\n",
    "    print(\"şehir: ankara\")\n",
    "\n",
    "elif kişi == \"mahmut göz\":\n",
    "    print(\"email: mgoz@jmail.com\")\n",
    "    print(\"tel  : 02161231212\")\n",
    "    print(\"şehir: istanbul\")\n",
    "\n",
    "else:\n",
    "    print(\"Aradığınız kişi veritabanında yok!\")"
   ]
  },
  {
   "cell_type": "markdown",
   "metadata": {},
   "source": [
    "Türkçe karakterlerden I, İ harflerinde sorun var, I harfini \"ı\" olarak değil \"i\" olarak küçültüyor, İ harfinde ise hata veriyor, bunu nasıl düzelteceğiz?"
   ]
  },
  {
   "cell_type": "code",
   "execution_count": 34,
   "metadata": {},
   "outputs": [
    {
     "name": "stdout",
     "output_type": "stream",
     "text": [
      "isparta\n"
     ]
    }
   ],
   "source": [
    "sehirler=\"ISPARTA\"\n",
    "sehirler=(sehirler.lower())\n",
    "print(sehirler)"
   ]
  },
  {
   "cell_type": "code",
   "execution_count": 28,
   "metadata": {},
   "outputs": [
    {
     "name": "stdout",
     "output_type": "stream",
     "text": [
      "i̇stanbul\n"
     ]
    }
   ],
   "source": [
    "sehirler=\"İSTANBUL\"\n",
    "sehirler=(sehirler.lower())\n",
    "print(sehirler)"
   ]
  },
  {
   "cell_type": "code",
   "execution_count": 31,
   "metadata": {},
   "outputs": [
    {
     "name": "stdout",
     "output_type": "stream",
     "text": [
      "istanbul,izmir,diyarbakır,ısparta,ağrı\n"
     ]
    }
   ],
   "source": [
    "sehirler=\"İSTANBUL,İZMİR,DİYARBAKIR,ISPARTA,AĞRI\"\n",
    "sehirler=sehirler.replace(\"I\",\"ı\")\n",
    "sehirler=sehirler.replace(\"İ\",\"i\")\n",
    "print(sehirler.lower())"
   ]
  },
  {
   "cell_type": "code",
   "execution_count": 33,
   "metadata": {},
   "outputs": [
    {
     "name": "stdout",
     "output_type": "stream",
     "text": [
      "istanbul,izmir,diyarbakır,ısparta,ağrı\n"
     ]
    }
   ],
   "source": [
    "sehirler=\"İSTANBUL,İZMİR,DİYARBAKIR,ISPARTA,AĞRI\"\n",
    "sehirler=sehirler.replace(\"I\",\"ı\").replace(\"İ\",\"i\")\n",
    "print(sehirler.lower())"
   ]
  },
  {
   "cell_type": "markdown",
   "metadata": {},
   "source": [
    "## upper() metodu"
   ]
  },
  {
   "cell_type": "markdown",
   "metadata": {},
   "source": [
    "Bu da lower() metodunun tam tersini yapar; bütün karakterleri büyük harfe çevirir. \"I\" ve \"İ\" harfi ile ilgili sorun ve çözümü aynı şekilde bu metod için de geçerlidir."
   ]
  },
  {
   "cell_type": "code",
   "execution_count": 36,
   "metadata": {},
   "outputs": [
    {
     "name": "stdout",
     "output_type": "stream",
     "text": [
      "İSTANBUL, İZRMİR, DİYARBAKIR,AĞRI,ADIYAMAN\n"
     ]
    }
   ],
   "source": [
    "sehirler=\"istanbul, izrmir, diyarbakır,ağrı,adıyaman\"\n",
    "sehirler=sehirler.replace(\"ı\",\"I\").replace(\"i\",\"İ\")\n",
    "print(sehirler.upper())"
   ]
  },
  {
   "cell_type": "markdown",
   "metadata": {},
   "source": [
    "## islower() ve isupper() metodları"
   ]
  },
  {
   "cell_type": "markdown",
   "metadata": {},
   "source": [
    "Bu metodlar birer değiştirici metod değil, sorgulayıcı metodlardır. Bunların amacı bir stringin tamamen küçük harften ya da tamamen büyük harften oluşup oluşmadığını sorgulamaktır. True ya da False döndürürler."
   ]
  },
  {
   "cell_type": "code",
   "execution_count": 45,
   "metadata": {},
   "outputs": [
    {
     "data": {
      "text/plain": [
       "True"
      ]
     },
     "execution_count": 45,
     "metadata": {},
     "output_type": "execute_result"
    }
   ],
   "source": [
    "\"adana\".islower()"
   ]
  },
  {
   "cell_type": "code",
   "execution_count": 47,
   "metadata": {},
   "outputs": [
    {
     "data": {
      "text/plain": [
       "False"
      ]
     },
     "execution_count": 47,
     "metadata": {},
     "output_type": "execute_result"
    }
   ],
   "source": [
    "\"Adana\".islower()#tüm harfler küçükse True verir"
   ]
  },
  {
   "cell_type": "code",
   "execution_count": 48,
   "metadata": {},
   "outputs": [
    {
     "data": {
      "text/plain": [
       "False"
      ]
     },
     "execution_count": 48,
     "metadata": {},
     "output_type": "execute_result"
    }
   ],
   "source": [
    "\"Adana\".isupper()"
   ]
  },
  {
   "cell_type": "code",
   "execution_count": 49,
   "metadata": {},
   "outputs": [
    {
     "data": {
      "text/plain": [
       "True"
      ]
     },
     "execution_count": 49,
     "metadata": {},
     "output_type": "execute_result"
    }
   ],
   "source": [
    "\"ADANA\".isupper()"
   ]
  },
  {
   "cell_type": "markdown",
   "metadata": {},
   "source": [
    "## endswith() ve startswith() metodları"
   ]
  },
  {
   "cell_type": "markdown",
   "metadata": {},
   "source": [
    "endswith() bir stringin sonunu, startswith() ise başını sorgular. Yani endswith() metodu bir stringin belirlediğimiz bir stringle bitip bitmediğine göre, startswith() ise belirlediğimiz bir stringle başlayıp başlamadığına göre True ya da False döndüren sorgulayıcı birer metoddur."
   ]
  },
  {
   "cell_type": "code",
   "execution_count": 51,
   "metadata": {},
   "outputs": [
    {
     "data": {
      "text/plain": [
       "True"
      ]
     },
     "execution_count": 51,
     "metadata": {},
     "output_type": "execute_result"
    }
   ],
   "source": [
    "\"Python\".endswith(\"n\")"
   ]
  },
  {
   "cell_type": "code",
   "execution_count": 52,
   "metadata": {},
   "outputs": [
    {
     "name": "stdout",
     "output_type": "stream",
     "text": [
      "tkinter.mp3\n",
      "sarki.mp3\n",
      "falanca.mp3\n",
      "c++.mp3\n"
     ]
    }
   ],
   "source": [
    "d1 = \"python.ogg\"\n",
    "d2 = \"tkinter.mp3\"\n",
    "d3 = \"pygtk.ogg\"\n",
    "d4 = \"movie.avi\"\n",
    "d5 = \"sarki.mp3\"\n",
    "d6 = \"filanca.ogg\"\n",
    "d7 = \"falanca.mp3\"\n",
    "d8 = \"dosya.avi\"\n",
    "d9 = \"perl.ogg\"\n",
    "d10 = \"c.avi\"\n",
    "d11 = \"c++.mp3\"\n",
    "\n",
    "for i in d1, d2, d3, d4, d5, d6, d7, d8, d9, d10, d11:\n",
    "    if i.endswith(\".mp3\"):\n",
    "        print(i)"
   ]
  },
  {
   "cell_type": "code",
   "execution_count": 53,
   "metadata": {},
   "outputs": [
    {
     "data": {
      "text/plain": [
       "True"
      ]
     },
     "execution_count": 53,
     "metadata": {},
     "output_type": "execute_result"
    }
   ],
   "source": [
    "kardiz = \"python\"\n",
    "kardiz.startswith(\"p\")"
   ]
  },
  {
   "cell_type": "code",
   "execution_count": 57,
   "metadata": {},
   "outputs": [
    {
     "name": "stdout",
     "output_type": "stream",
     "text": [
      "mehmet aksu\n",
      "mehmet şimşek\n",
      "mehmet ali köse\n"
     ]
    }
   ],
   "source": [
    "ad1=\"murat can kurt\"\n",
    "ad2=\"mehmet aksu\"\n",
    "ad3=\"fatma başkale\"\n",
    "ad4=\"melek kurt\"\n",
    "ad5=\"mehmet şimşek\"\n",
    "ad6=\"mustafa aksakal\"\n",
    "ad7=\"mehmet ali köse\"\n",
    "ad8=\"meliha bak\"\n",
    "ad9=\"ercan tosun\"\n",
    "ad10=\"emin dorak\"\n",
    "ad11=\"merve kurt\"\n",
    "\n",
    "for i in ad1, ad2, ad3, ad4, ad5, ad6, ad7, ad8, ad9, ad10, ad11:\n",
    "    if i.startswith(\"mehmet\"):\n",
    "        print(i)"
   ]
  },
  {
   "cell_type": "markdown",
   "metadata": {},
   "source": [
    "## capitalize() metodu"
   ]
  },
  {
   "cell_type": "markdown",
   "metadata": {},
   "source": [
    "Bu metod stringin sadece ilk harfini (her kelimenin değil) büyük harf yapmaya yarayan değiştirici bir metoddur. Bu stringin de \"ı\" ve \"İ\" harfiyle problemi vardır. Dikkat!: eğer string içinde başka yerlerde büyük harf varsa onları küçük harfe çevirir."
   ]
  },
  {
   "cell_type": "code",
   "execution_count": 71,
   "metadata": {},
   "outputs": [
    {
     "name": "stdout",
     "output_type": "stream",
     "text": [
      "İstanbul büyükşehir belediyesi\n"
     ]
    }
   ],
   "source": [
    "kardiz = \"istanbul BÜYÜKşehir belediyesi\"\n",
    "\n",
    "if kardiz.startswith(\"i\"):\n",
    "    kardiz = \"İ\" + kardiz[1:]\n",
    "\n",
    "kardiz = kardiz.capitalize()\n",
    "\n",
    "print(kardiz)"
   ]
  },
  {
   "cell_type": "markdown",
   "metadata": {},
   "source": [
    "## title() metodu"
   ]
  },
  {
   "cell_type": "markdown",
   "metadata": {},
   "source": [
    "Bu metod ise stringin her kelimesinin baş harfini büyütmeye yarar. Yine malum(\"ı,i\") harflerle problemi vardır. Dikkat!: eğer string içinde başka yerlerde büyük harf varsa onları küçük harfe çevirir."
   ]
  },
  {
   "cell_type": "code",
   "execution_count": 72,
   "metadata": {},
   "outputs": [
    {
     "name": "stdout",
     "output_type": "stream",
     "text": [
      "Python Programlama Dilidir\n"
     ]
    }
   ],
   "source": [
    "a = \"python pROGRAmlama dilidir\"\n",
    "print(a.title())"
   ]
  },
  {
   "cell_type": "code",
   "execution_count": 85,
   "metadata": {},
   "outputs": [
    {
     "name": "stdout",
     "output_type": "stream",
     "text": [
      "On İki Adam Bugün Irak Yoldan Geldi Ve İşler Zor. "
     ]
    }
   ],
   "source": [
    "kardiz=\"on iki adam bugün ırak yoldan geldi ve işler zor.\"\n",
    "kardiz=kardiz.split()\n",
    "for i in kardiz:\n",
    "    if i[0]==\"i\":\n",
    "        i=i.replace(\"i\",\"İ\",1)\n",
    "    elif i[0]==\"ı\":\n",
    "        i=i.replace(\"ı\",\"I\",1)\n",
    "        i=i.title()\n",
    "    print(i.title(),end=\" \")"
   ]
  },
  {
   "cell_type": "code",
   "execution_count": 86,
   "metadata": {},
   "outputs": [
    {
     "name": "stdout",
     "output_type": "stream",
     "text": [
      "On İki Adam Bugün Irak Yoldan Geldi Ve İşler Zor. "
     ]
    }
   ],
   "source": [
    "kardiz = \"on iki adam bugün ırak yoldan geldi ve işler zor.\"\n",
    "\n",
    "for kelime in kardiz.split():\n",
    "    if kelime.startswith(\"i\"):\n",
    "        kelime = \"İ\" + kelime[1:]\n",
    "\n",
    "    kelime = kelime.title()\n",
    "\n",
    "    print(kelime, end=\" \")"
   ]
  },
  {
   "cell_type": "markdown",
   "metadata": {},
   "source": [
    "## swapcase()¶ metodu"
   ]
  },
  {
   "cell_type": "markdown",
   "metadata": {},
   "source": [
    "Bu metod büyük harfleri küçük, küçük harfleri büyük harfe çevirmeye yarayan bir metoddur. Yine aynı Türkçe karakterlerle aynı sorunu vardır."
   ]
  },
  {
   "cell_type": "code",
   "execution_count": 87,
   "metadata": {},
   "outputs": [
    {
     "name": "stdout",
     "output_type": "stream",
     "text": [
      "İSTANBUL\n"
     ]
    }
   ],
   "source": [
    "kardiz = \"istanbul\"\n",
    "\n",
    "for i in kardiz:\n",
    "    if i == 'İ':\n",
    "        kardiz = kardiz.replace('İ', 'i')\n",
    "    elif i == 'i':\n",
    "        kardiz = kardiz.replace('i', 'İ')\n",
    "    else:\n",
    "        kardiz = kardiz.replace(i, i.swapcase())\n",
    "\n",
    "print(kardiz)"
   ]
  },
  {
   "cell_type": "markdown",
   "metadata": {},
   "source": [
    "## casefold() metodu"
   ]
  },
  {
   "cell_type": "markdown",
   "metadata": {},
   "source": [
    "Stringin büyük küçük harf duyarsız bir versiyonunu oluşturur. Aslında bir nevi tüm harfleri küçük harfe çevirir."
   ]
  },
  {
   "cell_type": "code",
   "execution_count": 88,
   "metadata": {},
   "outputs": [
    {
     "data": {
      "text/plain": [
       "'istanbul'"
      ]
     },
     "execution_count": 88,
     "metadata": {},
     "output_type": "execute_result"
    }
   ],
   "source": [
    "\"iSTaNBuL\".casefold()"
   ]
  },
  {
   "cell_type": "code",
   "execution_count": 90,
   "metadata": {},
   "outputs": [
    {
     "name": "stdout",
     "output_type": "stream",
     "text": [
      "Help on method_descriptor:\n",
      "\n",
      "casefold(self, /)\n",
      "    Return a version of the string suitable for caseless comparisons.\n",
      "\n"
     ]
    }
   ],
   "source": [
    "help(str.casefold)"
   ]
  },
  {
   "cell_type": "code",
   "execution_count": 98,
   "metadata": {},
   "outputs": [
    {
     "name": "stdout",
     "output_type": "stream",
     "text": [
      "Doğru\n"
     ]
    }
   ],
   "source": [
    "if \"iSTaNBuL\".casefold()==\"iSTANBUL\".casefold():\n",
    "    print(\"Doğru\")\n",
    "else:\n",
    "    print(\"Yanlış\")"
   ]
  },
  {
   "cell_type": "markdown",
   "metadata": {},
   "source": [
    "## strip(), lstrip(), rstrip() metodları"
   ]
  },
  {
   "cell_type": "markdown",
   "metadata": {},
   "source": [
    "Bu metod eğer parametre verilmemişse bir stringin başında ve sonunda bulunan belli başlı kaçış dizilerini siler, eğer parametre olarak herhangi bir karakter ya da string verilmişse onları siler. strip() stringin her iki tarafı için işlemi yaparken, rstring() sağdakileri, lstring() soldakileri siler."
   ]
  },
  {
   "cell_type": "code",
   "execution_count": 99,
   "metadata": {},
   "outputs": [
    {
     "name": "stdout",
     "output_type": "stream",
     "text": [
      "Help on method_descriptor:\n",
      "\n",
      "strip(self, chars=None, /)\n",
      "    Return a copy of the string with leading and trailing whitespace remove.\n",
      "    \n",
      "    If chars is given and not None, remove characters in chars instead.\n",
      "\n"
     ]
    }
   ],
   "source": [
    "help(str.strip)"
   ]
  },
  {
   "cell_type": "code",
   "execution_count": 104,
   "metadata": {},
   "outputs": [
    {
     "data": {
      "text/plain": [
       "'Python'"
      ]
     },
     "execution_count": 104,
     "metadata": {},
     "output_type": "execute_result"
    }
   ],
   "source": [
    "kardiz=\"\\tPython\\n\"\n",
    "kardiz.strip()"
   ]
  },
  {
   "cell_type": "markdown",
   "metadata": {},
   "source": [
    "## join() Metodu"
   ]
  },
  {
   "cell_type": "markdown",
   "metadata": {},
   "source": [
    "Bu metod split() metodunun yaptığı işin tersini yapar yani, stringleri birleştirmeye yarar. Bu stringler liste, ya da demet içinde de olabilir. Kullanım şekli ise: \"arada kullanılacak karakterler\".join(birleştirilecek stringler)"
   ]
  },
  {
   "cell_type": "code",
   "execution_count": 2,
   "metadata": {},
   "outputs": [
    {
     "data": {
      "text/plain": [
       "'Beşiktaş Jimnastik Kulübü'"
      ]
     },
     "execution_count": 2,
     "metadata": {},
     "output_type": "execute_result"
    }
   ],
   "source": [
    "[\"Beşiktaş\",\"Jimnastik\",\"Kulübü\"]\n",
    "\" \".join([\"Beşiktaş\",\"Jimnastik\",\"Kulübü\"])"
   ]
  },
  {
   "cell_type": "code",
   "execution_count": 3,
   "metadata": {},
   "outputs": [
    {
     "data": {
      "text/plain": [
       "'Beşiktaş---Jimnastik---Kulübü'"
      ]
     },
     "execution_count": 3,
     "metadata": {},
     "output_type": "execute_result"
    }
   ],
   "source": [
    "bjk=[\"Beşiktaş\",\"Jimnastik\",\"Kulübü\"]\n",
    "\"---\".join(bjk)"
   ]
  },
  {
   "cell_type": "code",
   "execution_count": 7,
   "metadata": {},
   "outputs": [
    {
     "data": {
      "text/plain": [
       "'Adana\\nAnkara\\nİstanbul\\nYozgat'"
      ]
     },
     "execution_count": 7,
     "metadata": {},
     "output_type": "execute_result"
    }
   ],
   "source": [
    "sehirler=[\"Adana\",\"Ankara\",\"İstanbul\",\"Yozgat\"]\n",
    "sehirler=\"\\n\".join(sehirler)\n",
    "sehirler"
   ]
  },
  {
   "cell_type": "markdown",
   "metadata": {},
   "source": [
    "## count() metodu"
   ]
  },
  {
   "cell_type": "raw",
   "metadata": {},
   "source": [
    "Bu sorgulayıcı metod bir string içinde bir karakter ya da stringin kaç defa geçtiğini döndürür. Kullanım Şekli:\n",
    "\"string\".count(\"sayılacak olan\",başlama indexno,bitiş indexno)"
   ]
  },
  {
   "cell_type": "code",
   "execution_count": 20,
   "metadata": {},
   "outputs": [
    {
     "data": {
      "text/plain": [
       "6"
      ]
     },
     "execution_count": 20,
     "metadata": {},
     "output_type": "execute_result"
    }
   ],
   "source": [
    "\"Python programlama dili dünyada çok yaygın kullanılan dillerden biridir.\".count(\"d\")"
   ]
  },
  {
   "cell_type": "code",
   "execution_count": 12,
   "metadata": {},
   "outputs": [
    {
     "name": "stdout",
     "output_type": "stream",
     "text": [
      "\"Python programlama dili dünyada çok yaygın kullanılan dillerden biridir.\"cümlesinde d harfi 6 defa geçmektedir.\n"
     ]
    }
   ],
   "source": [
    "cümle=\"Python programlama dili dünyada çok yaygın kullanılan dillerden biridir.\"\n",
    "print(\"\\\"{}\\\"cümlesinde {} harfi {} defa geçmektedir.\".format(cümle,\"d\",cümle.count(\"d\")))"
   ]
  },
  {
   "cell_type": "code",
   "execution_count": 13,
   "metadata": {},
   "outputs": [
    {
     "name": "stdout",
     "output_type": "stream",
     "text": [
      "1\n"
     ]
    }
   ],
   "source": [
    "cümle=\"Python programlama dili dünyada çok yaygın kullanılan dillerden biridir.\"\n",
    "print(cümle.count(\"g\",10,20))#sadece 10. index(dahil) ile 20. index(hariç)arasındaki \"g\" harflerini sayar. "
   ]
  },
  {
   "cell_type": "code",
   "execution_count": 17,
   "metadata": {},
   "outputs": [
    {
     "name": "stdout",
     "output_type": "stream",
     "text": [
      "Herhangi bir kelime: adana\n",
      "a harfi adana kelimesinde 3 kez geçiyor!\n",
      "d harfi adana kelimesinde 1 kez geçiyor!\n",
      "n harfi adana kelimesinde 1 kez geçiyor!\n"
     ]
    }
   ],
   "source": [
    "kelime = input(\"Herhangi bir kelime: \")\n",
    "sayaç = \"\"\n",
    "\n",
    "for harf in kelime:\n",
    "    if harf not in sayaç:\n",
    "        sayaç += harf\n",
    "\n",
    "for harf in sayaç:\n",
    "    print(\"{} harfi {} kelimesinde {} kez geçiyor!\".format(harf,\n",
    "                                                           kelime,\n",
    "                                                           kelime.count(harf)))"
   ]
  },
  {
   "cell_type": "code",
   "execution_count": 21,
   "metadata": {},
   "outputs": [
    {
     "data": {
      "text/plain": [
       "3"
      ]
     },
     "execution_count": 21,
     "metadata": {},
     "output_type": "execute_result"
    }
   ],
   "source": [
    "\"Kara kara gözler kara elmas gibiler\".count(\"ra\")"
   ]
  },
  {
   "cell_type": "markdown",
   "metadata": {},
   "source": [
    "## index() ve rindex() metodları"
   ]
  },
  {
   "cell_type": "markdown",
   "metadata": {},
   "source": [
    "Bu metod bir stringde istenilen karakterin sıra numarasını, yani index numarasını döndürür. index numaraları 0 dan başlar. İlk karakterin index numarası 0'dır. Ayrıca bu metodun da aynı count gibi 3 parametresi vardır. İlki aranacak karakter, ikincisi aramaya başlanacak index no(dahil) , üçüncüsü aramayı sonlandıracak index no(dahil değil)."
   ]
  },
  {
   "cell_type": "markdown",
   "metadata": {},
   "source": [
    "Burada dikkat edilmesi gereken bir husus, bu metod aranan karakteri ilk bulduğu index numarasını verir ve aramayı durdurur. Yani birden fazla aynı karakter stringde varsa, sadece ilk karşısına çıkanın index numarasını verir."
   ]
  },
  {
   "cell_type": "markdown",
   "metadata": {},
   "source": [
    "rindex() metodu ise aynı işlemi sağdan sola doğru yapar, ancak burada dikkat edilecek husus şudur ki, index sıralaması değişmez. Yani index metodu 0,1,2,3....i diye ararken rindex metodu i,i-1,....3,,2,1,0 gibi arar."
   ]
  },
  {
   "cell_type": "code",
   "execution_count": 23,
   "metadata": {},
   "outputs": [
    {
     "data": {
      "text/plain": [
       "0"
      ]
     },
     "execution_count": 23,
     "metadata": {},
     "output_type": "execute_result"
    }
   ],
   "source": [
    "\"adana\".index(\"a\") # ilk karşısına çıkacak olan \"a\" harfinin index numarasını yani 0 döndürür"
   ]
  },
  {
   "cell_type": "code",
   "execution_count": 24,
   "metadata": {},
   "outputs": [
    {
     "data": {
      "text/plain": [
       "4"
      ]
     },
     "execution_count": 24,
     "metadata": {},
     "output_type": "execute_result"
    }
   ],
   "source": [
    "\"adana\".rindex(\"a\") #ilk karşısına çıkacak olan \"a\" harfinin index numarasını, yani 4 döndürür."
   ]
  },
  {
   "cell_type": "code",
   "execution_count": 25,
   "metadata": {},
   "outputs": [
    {
     "data": {
      "text/plain": [
       "2"
      ]
     },
     "execution_count": 25,
     "metadata": {},
     "output_type": "execute_result"
    }
   ],
   "source": [
    "kardiz = \"adana\"\n",
    "kardiz.index(\"a\", 1, 3)"
   ]
  },
  {
   "cell_type": "code",
   "execution_count": 26,
   "metadata": {},
   "outputs": [
    {
     "name": "stdout",
     "output_type": "stream",
     "text": [
      "0\n",
      "2\n",
      "2\n",
      "4\n",
      "4\n"
     ]
    }
   ],
   "source": [
    "#stringdeki her karakterin index numaralarını sorgulayalım:\n",
    "kardiz = \"adana\"\n",
    "kardiz=\"adana\"\n",
    "print(kardiz.index(\"a\", 0))\n",
    "print(kardiz.index(\"a\", 1))\n",
    "print(kardiz.index(\"a\", 2))\n",
    "print(kardiz.index(\"a\", 3))\n",
    "print(kardiz.index(\"a\", 4))"
   ]
  },
  {
   "cell_type": "markdown",
   "metadata": {},
   "source": [
    "görüldüğü gibi burada 2. indexteki a ve 4. indexteki a 2 defa geldi,"
   ]
  },
  {
   "cell_type": "code",
   "execution_count": 38,
   "metadata": {},
   "outputs": [
    {
     "name": "stdout",
     "output_type": "stream",
     "text": [
      "Metin girin: adana\n",
      "Aradığınız harf: a\n",
      "0\n",
      "2\n",
      "2\n",
      "4\n",
      "4\n"
     ]
    }
   ],
   "source": [
    "#önce yukarıdaki işi daha genel bir kodla yapalım:\n",
    "kardiz = input(\"Metin girin: \")\n",
    "harf = input(\"Aradığınız harf: \")\n",
    "\n",
    "for i in range(len(kardiz)):\n",
    "    print(kardiz.index(harf, i))"
   ]
  },
  {
   "cell_type": "markdown",
   "metadata": {},
   "source": [
    "görüldüğü gibi burada da 2. indexteki a ve 4. indexteki a 2 defa geldi, bu sorunu da çözmek için:"
   ]
  },
  {
   "cell_type": "code",
   "execution_count": 47,
   "metadata": {},
   "outputs": [
    {
     "name": "stdout",
     "output_type": "stream",
     "text": [
      "Metin girin: adana\n",
      "Aradığınız harf: a\n",
      "0\n",
      "2\n",
      "4\n"
     ]
    }
   ],
   "source": [
    "#kodumuzu şu şekilde geliştirebiliriz:\n",
    "kardiz = input(\"Metin girin: \")\n",
    "harf = input(\"Aradığınız harf: \")\n",
    "\n",
    "for i in range(len(kardiz)):\n",
    "    if i == kardiz.index(harf, i):\n",
    "        print(i)"
   ]
  },
  {
   "cell_type": "code",
   "execution_count": 49,
   "metadata": {},
   "outputs": [
    {
     "name": "stdout",
     "output_type": "stream",
     "text": [
      "Sorgulamak istediğiniz metin: adana\n",
      "Sorgulanacak harf: a\n",
      "0\n",
      "2\n",
      "4\n"
     ]
    }
   ],
   "source": [
    "#alternatif olarak şöyle birşey de yapabiliriz:\n",
    "kardiz=input(\"Sorgulamak istediğiniz metin: \")\n",
    "harf=input(\"Sorgulanacak harf: \")\n",
    "basla=0\n",
    "for i in kardiz:\n",
    "    if harf==i:\n",
    "        karno=kardiz.index(i,basla)\n",
    "        basla=karno+1\n",
    "        print(karno)"
   ]
  },
  {
   "cell_type": "markdown",
   "metadata": {},
   "source": [
    "## find() ve rfind() metodları"
   ]
  },
  {
   "cell_type": "markdown",
   "metadata": {},
   "source": [
    "Bu iki metod da index() ve rindex() ile aynı işi yapar aradaki tek fark bunlar stringde olmayan bir karakter sorgulandığında -1 döndürür ama index() ve rindex() metodları ValueError hatası verir."
   ]
  },
  {
   "cell_type": "markdown",
   "metadata": {},
   "source": [
    "## center() metodu"
   ]
  },
  {
   "cell_type": "markdown",
   "metadata": {},
   "source": [
    "Bu metod karakter dizilerini ortalamak için kullanılır. İki parametre alır, Birinci parametreye bu parametreye değer olarak stringin sağında ve solunda kalacak boşluk dahil stringin toplam uzunluğu girilir. İKinci parametreye ise stringin sağını ve solunu neyle dolduracağımızı girebiliriz."
   ]
  },
  {
   "cell_type": "code",
   "execution_count": 62,
   "metadata": {},
   "outputs": [
    {
     "data": {
      "text/plain": [
       "'       python       '"
      ]
     },
     "execution_count": 62,
     "metadata": {},
     "output_type": "execute_result"
    }
   ],
   "source": [
    "\"python\".center(20)"
   ]
  },
  {
   "cell_type": "code",
   "execution_count": 63,
   "metadata": {},
   "outputs": [
    {
     "data": {
      "text/plain": [
       "'                 python                 '"
      ]
     },
     "execution_count": 63,
     "metadata": {},
     "output_type": "execute_result"
    }
   ],
   "source": [
    "\"python\".center(40)"
   ]
  },
  {
   "cell_type": "code",
   "execution_count": 64,
   "metadata": {},
   "outputs": [
    {
     "data": {
      "text/plain": [
       "'_________________python_________________'"
      ]
     },
     "execution_count": 64,
     "metadata": {},
     "output_type": "execute_result"
    }
   ],
   "source": [
    "\"python\".center(40,\"_\")"
   ]
  },
  {
   "cell_type": "markdown",
   "metadata": {},
   "source": [
    "## rjust() ve ljust() metodları"
   ]
  },
  {
   "cell_type": "markdown",
   "metadata": {},
   "source": [
    "rjust: sağa yaslama, ljust: sola yaslama. İlk parametre string uzunluğu, ikinci parametre stringden geriye kalan kısmı neyle dolduracağımız."
   ]
  },
  {
   "cell_type": "code",
   "execution_count": 65,
   "metadata": {},
   "outputs": [
    {
     "data": {
      "text/plain": [
       "'Tel No:.............'"
      ]
     },
     "execution_count": 65,
     "metadata": {},
     "output_type": "execute_result"
    }
   ],
   "source": [
    "\"Tel No:\".ljust(20,\".\")"
   ]
  },
  {
   "cell_type": "code",
   "execution_count": 66,
   "metadata": {},
   "outputs": [
    {
     "data": {
      "text/plain": [
       "'.............Tel No:'"
      ]
     },
     "execution_count": 66,
     "metadata": {},
     "output_type": "execute_result"
    }
   ],
   "source": [
    "\"Tel No:\".rjust(20,\".\")"
   ]
  },
  {
   "cell_type": "code",
   "execution_count": 73,
   "metadata": {},
   "outputs": [
    {
     "name": "stdout",
     "output_type": "stream",
     "text": [
      "Fonksiyonlar......................................:15\n",
      "Metodlar..........................................:22\n",
      "Veri Tipleri......................................:36\n",
      "Sınıflar..........................................:45\n"
     ]
    }
   ],
   "source": [
    "baslıklar=[\"Fonksiyonlar\",\"Metodlar\",\"Veri Tipleri\",\"Sınıflar\"]\n",
    "sayfa=[\"15\",\"22\",\"36\",\"45\"]\n",
    "y=0\n",
    "for i in baslıklar:\n",
    "    print(i.ljust(50,\".\")+\":\"+sayfa[y])\n",
    "    y+=1"
   ]
  },
  {
   "cell_type": "code",
   "execution_count": 71,
   "metadata": {},
   "outputs": [
    {
     "name": "stdout",
     "output_type": "stream",
     "text": [
      "15......................................Fonksiyonlar\n",
      "22..........................................Metodlar\n",
      "36......................................Veri Tipleri\n",
      "45..........................................Sınıflar\n"
     ]
    }
   ],
   "source": [
    "baslıklar=[\"Fonksiyonlar\",\"Metodlar\",\"Veri Tipleri\",\"Sınıflar\"]\n",
    "sayfa=[\"15\",\"22\",\"36\",\"45\"]\n",
    "y=0\n",
    "for i in baslıklar:\n",
    "    print(sayfa[y]+i.rjust(50,\".\"))\n",
    "    y+=1"
   ]
  },
  {
   "cell_type": "markdown",
   "metadata": {},
   "source": [
    "## zfill() metodu"
   ]
  },
  {
   "cell_type": "markdown",
   "metadata": {},
   "source": [
    "Bu metod stringlerin başına 0 ekleyerek parametresine verdiğimiz karakter uzunluğuna tamamlar."
   ]
  },
  {
   "cell_type": "code",
   "execution_count": 74,
   "metadata": {},
   "outputs": [
    {
     "name": "stdout",
     "output_type": "stream",
     "text": [
      "00\n",
      "01\n",
      "02\n",
      "03\n",
      "04\n",
      "05\n",
      "06\n",
      "07\n",
      "08\n",
      "09\n",
      "10\n"
     ]
    }
   ],
   "source": [
    "for i in range(11):\n",
    "     print(str(i).zfill(2))"
   ]
  },
  {
   "cell_type": "markdown",
   "metadata": {},
   "source": [
    "## partition() ve rpartition metodları"
   ]
  },
  {
   "cell_type": "markdown",
   "metadata": {},
   "source": [
    "Bu metodlar bir stringi parametre olarak verdiğimiz stringin sağnda ve solunda kalanlar olarak üçe böler. partition() soldan sağa doğru bakar, rpartition() sağdan sola doğru bakar ve parametredeki stringi ilk bulduğu yerden böler."
   ]
  },
  {
   "cell_type": "code",
   "execution_count": 75,
   "metadata": {},
   "outputs": [
    {
     "data": {
      "text/plain": [
       "('ist', 'an', 'bul')"
      ]
     },
     "execution_count": 75,
     "metadata": {},
     "output_type": "execute_result"
    }
   ],
   "source": [
    "\"istanbul\".partition(\"an\")"
   ]
  },
  {
   "cell_type": "code",
   "execution_count": 77,
   "metadata": {},
   "outputs": [
    {
     "data": {
      "text/plain": [
       "('k', 'a', 'bare')"
      ]
     },
     "execution_count": 77,
     "metadata": {},
     "output_type": "execute_result"
    }
   ],
   "source": [
    "\"kabare\".partition(\"a\")"
   ]
  },
  {
   "cell_type": "code",
   "execution_count": 78,
   "metadata": {},
   "outputs": [
    {
     "data": {
      "text/plain": [
       "('kab', 'a', 're')"
      ]
     },
     "execution_count": 78,
     "metadata": {},
     "output_type": "execute_result"
    }
   ],
   "source": [
    "\"kabare\".rpartition(\"a\")"
   ]
  },
  {
   "cell_type": "code",
   "execution_count": 79,
   "metadata": {},
   "outputs": [
    {
     "data": {
      "text/plain": [
       "('kabare', '', '')"
      ]
     },
     "execution_count": 79,
     "metadata": {},
     "output_type": "execute_result"
    }
   ],
   "source": [
    "\"kabare\".partition(\"z\")"
   ]
  },
  {
   "cell_type": "code",
   "execution_count": 80,
   "metadata": {},
   "outputs": [
    {
     "data": {
      "text/plain": [
       "('', '', 'kabare')"
      ]
     },
     "execution_count": 80,
     "metadata": {},
     "output_type": "execute_result"
    }
   ],
   "source": [
    "\"kabare\".rpartition(\"z\")"
   ]
  },
  {
   "cell_type": "code",
   "execution_count": 81,
   "metadata": {},
   "outputs": [
    {
     "data": {
      "text/plain": [
       "('', 'k', 'abare')"
      ]
     },
     "execution_count": 81,
     "metadata": {},
     "output_type": "execute_result"
    }
   ],
   "source": [
    "\"kabare\".partition(\"k\")"
   ]
  },
  {
   "cell_type": "code",
   "execution_count": 82,
   "metadata": {},
   "outputs": [
    {
     "data": {
      "text/plain": [
       "('', '', 'kabare')"
      ]
     },
     "execution_count": 82,
     "metadata": {},
     "output_type": "execute_result"
    }
   ],
   "source": [
    "\"kabare\".rpartition(\"z\")"
   ]
  },
  {
   "cell_type": "markdown",
   "metadata": {},
   "source": [
    "## encode() metodu"
   ]
  },
  {
   "cell_type": "markdown",
   "metadata": {},
   "source": [
    "Bu metodla stringleri istedğimiz kodlama sistemine göre kodlayabiliriz. Python 3.x versiyonlarında varsayılan kodlama utf-8 dir."
   ]
  },
  {
   "cell_type": "code",
   "execution_count": 84,
   "metadata": {},
   "outputs": [
    {
     "data": {
      "text/plain": [
       "b'\\xe7i\\xe7ek'"
      ]
     },
     "execution_count": 84,
     "metadata": {},
     "output_type": "execute_result"
    }
   ],
   "source": [
    "\"çiçek\".encode(\"cp1254\")"
   ]
  },
  {
   "cell_type": "code",
   "execution_count": 86,
   "metadata": {},
   "outputs": [
    {
     "data": {
      "text/plain": [
       "b'cicek'"
      ]
     },
     "execution_count": 86,
     "metadata": {},
     "output_type": "execute_result"
    }
   ],
   "source": [
    "\"cicek\".encode(\"ASCII\")"
   ]
  },
  {
   "cell_type": "markdown",
   "metadata": {},
   "source": [
    "## expandtabs() metodu"
   ]
  },
  {
   "cell_type": "markdown",
   "metadata": {},
   "source": [
    "Bu metod stringlerin içindeki sekme boşluklarını artırmaya yarar"
   ]
  },
  {
   "cell_type": "code",
   "execution_count": 93,
   "metadata": {},
   "outputs": [
    {
     "name": "stdout",
     "output_type": "stream",
     "text": [
      "armut\tbir\tmeyvedir\n"
     ]
    }
   ],
   "source": [
    "print(\"armut\\tbir\\tmeyvedir\")"
   ]
  },
  {
   "cell_type": "code",
   "execution_count": 92,
   "metadata": {},
   "outputs": [
    {
     "name": "stdout",
     "output_type": "stream",
     "text": [
      "armut          bir            meyvedir\n"
     ]
    }
   ],
   "source": [
    "print(\"armut\\tbir\\tmeyvedir\".expandtabs(15))"
   ]
  },
  {
   "cell_type": "markdown",
   "metadata": {},
   "source": [
    "## str.maketrans() ve translate() metodları"
   ]
  },
  {
   "cell_type": "markdown",
   "metadata": {},
   "source": [
    "Bu kodlar genelde birlikte kullanılır. Bir stringdeki belirli karakterleri bizim belirleyeceğimiz şekilde değiştirmeye yarar. Bu iki metodu örnek üzerinde daha iyi anlayabiliriz."
   ]
  },
  {
   "cell_type": "raw",
   "metadata": {},
   "source": [
    "Diyelim ki elimizde bir metin var ve bu metni içindeki Türkçe'ye özgü karakterlerden arındırıp İngiliz alfabesindeki en yakın karşılıkları ile değiştirmek istiyoruz. Bu sık karşılaşılan bir durum."
   ]
  },
  {
   "cell_type": "code",
   "execution_count": 3,
   "metadata": {},
   "outputs": [
    {
     "name": "stdout",
     "output_type": "stream",
     "text": [
      "Metni girin: Bildiğiniz gibi, internet üzerinde bazen Türkçe karakterleri kullanamıyoruz.\n",
      "Bildiginiz gibi, internet uzerinde bazen Turkce karakterleri kullanamiyoruz.\n",
      "{231: 99, 287: 103, 305: 105, 246: 111, 351: 115, 252: 117, 199: 67, 286: 71, 304: 73, 214: 79, 350: 83, 220: 85}\n"
     ]
    }
   ],
   "source": [
    "#Örneğin şu cümleyi ele alalım:\n",
    "#Bildiğiniz gibi, internet üzerinde bazen Türkçe karakterleri kullanamıyoruz.\n",
    "kaynak=\"çğıöşüÇĞİÖŞÜ\"\n",
    "hedef=\"cgiosuCGIOSU\"\n",
    "ceviri_tablosu=str.maketrans(kaynak,hedef)#bu metod {kaynak:hedef} karakter kodlarından oluşan bir küme oluşturdu\n",
    "metin=input(\"Metni girin: \")\n",
    "print(metin.translate(ceviri_tablosu))\n",
    "print(ceviri_tablosu)"
   ]
  },
  {
   "cell_type": "code",
   "execution_count": 1,
   "metadata": {},
   "outputs": [
    {
     "name": "stdout",
     "output_type": "stream",
     "text": [
      "Q klavye ile yazılmış metni girin: Bfjflrk öa kdhsı yteua idjslyd bdcusldvdj ks?\n",
      "Bakalım bu metin doğru şekilde çevrilecek mi?\n"
     ]
    }
   ],
   "source": [
    "#Başka bir örnek olarak, F klavyeye alışık biri dalgınlıkla Q klavyede şu metni yazmış olsun, onu düzeltelim.\n",
    "q_duzeni=\"qwertyuıopğüasdfghjklşi,zxcvbnmöç.\"\n",
    "f_duzeni=\"fgğıodrnhpqwuieaütkmlyşxjövcçzsb.,\"\n",
    "q_metin=input(\"Q klavye ile yazılmış metni girin: \")\n",
    "ceviri_tablosu=str.maketrans(q_duzeni,f_duzeni)\n",
    "f_metin=q_metin.translate(ceviri_tablosu)\n",
    "print(f_metin)"
   ]
  },
  {
   "cell_type": "markdown",
   "metadata": {},
   "source": [
    "str.maketrans() meteodu toplamda üç parametre alır, eğer sadece ilk parametre kullanılacaksa bu bir sözlük olmalıdır. Eğer ilk iki parametre kullanılacaksa bunlar aynı uzunlukta iki string olmalıdır. Üçüncü parametre ise karşısında none değeri olan anahtarlardan oluşan bir sözlük çevirisi meydana getirir."
   ]
  },
  {
   "cell_type": "markdown",
   "metadata": {},
   "source": [
    "Burada istersek str.maketrans metoduna iki ayrı string parametresi vermek yerine direkt olarak tek parametre olarak sözlük de verebiliriz. Aynı sonuç çıkacaktır."
   ]
  },
  {
   "cell_type": "code",
   "execution_count": 15,
   "metadata": {},
   "outputs": [
    {
     "name": "stdout",
     "output_type": "stream",
     "text": [
      "{'q': 'f', 'w': 'g', 'e': 'ğ', 'r': 'ı', 't': 'o', 'y': 'd', 'u': 'r', 'ı': 'n', 'o': 'h', 'p': 'p', 'ğ': 'q', 'ü': 'w', 'a': 'u', 's': 'i', 'd': 'e', 'f': 'a', 'g': 'ü', 'h': 't', 'j': 'k', 'k': 'm', 'l': 'l', 'ş': 'y', 'i': 'ş', ',': 'x', 'z': 'j', 'x': 'ö', 'c': 'v', 'v': 'c', 'b': 'ç', 'n': 'z', 'm': 's', 'ö': 'b', 'ç': '.', '.': ','}\n"
     ]
    }
   ],
   "source": [
    "q_duzeni=\"qwertyuıopğüasdfghjklşi,zxcvbnmöç.\"\n",
    "f_duzeni=\"fgğıodrnhpqwuieaütkmlyşxjövcçzsb.,\"\n",
    "sozluk={}\n",
    "#önce q ve f klavye düzenlerini bir sözlüğe çevirelim:\n",
    "for i in q_duzeni:\n",
    "    sozluk[i]=f_duzeni[q_duzeni.index(i)]\n",
    "print(sozluk)"
   ]
  },
  {
   "cell_type": "code",
   "execution_count": 16,
   "metadata": {},
   "outputs": [
    {
     "name": "stdout",
     "output_type": "stream",
     "text": [
      "Bakalım bu metin doğru şekilde çevrilecek mi?\n"
     ]
    }
   ],
   "source": [
    "#Şimdi oluşturduğumuz sözlükle aynı işlemleri yapalım:\n",
    "q_metin=\"Bfjflrk öa kdhsı yteua idjslyd bdcusldvdj ks?\"\n",
    "ceviri_tablosu=str.maketrans(sozluk)\n",
    "f_metin=q_metin.translate(ceviri_tablosu)\n",
    "print(f_metin)"
   ]
  },
  {
   "cell_type": "code",
   "execution_count": 57,
   "metadata": {},
   "outputs": [
    {
     "name": "stdout",
     "output_type": "stream",
     "text": [
      "Birinci Yöntem Sonucu:\n",
      " B prgrmlm dl Gd Vn Rssm dl Hllndl br\n",
      "prgrmc trfndn 90'l yllrn bşnd glştrlmy bşlnmştr.\n",
      "Çğ nsn, smnn Pythn lmsn bkrk, b prgrmlm dlnn, dn\n",
      "ptn ylnndn ldğn dşnr. nck znndldğnn ksn b\n",
      "prgrmlm dlnn d ptn ylnndn glmz. Gd Vn Rssm b\n",
      "prgrmlm dln, Th Mnty Pythn dl br nglz kmd grbnn, Mnty\n",
      "Pythn's Flyng Crcs dl gstrsndn snlnrk dlndrmştr. nck\n",
      "hr n kdr grçk byl ls d, Pythn prgrmlm dlnn pk çk yrd\n",
      "br yln fgr l tmsl dlms nrdys br glnk hln lmştr\n",
      "dyblrz.\n",
      "İkinci Yöntem Sonucu:\n",
      " B prgrmlm dl Gd Vn Rssm dl Hllndl br\n",
      "prgrmc trfndn 90'l yllrn bşnd glştrlmy bşlnmştr.\n",
      "Çğ nsn, smnn Pythn lmsn bkrk, b prgrmlm dlnn, dn\n",
      "ptn ylnndn ldğn dşnr. nck znndldğnn ksn b\n",
      "prgrmlm dlnn d ptn ylnndn glmz. Gd Vn Rssm b\n",
      "prgrmlm dln, Th Mnty Pythn dl br nglz kmd grbnn, Mnty\n",
      "Pythn's Flyng Crcs dl gstrsndn snlnrk dlndrmştr. nck\n",
      "hr n kdr grçk byl ls d, Pythn prgrmlm dlnn pk çk yrd\n",
      "br yln fgr l tmsl dlms nrdys br glnk hln lmştr\n",
      "dyblrz.\n",
      "Üçüncü Yöntem Sonucu: \n",
      " B prgrmlm dl Gd Vn Rssm dl Hllndl br\n",
      "prgrmc trfndn 90'l yllrn bşnd glştrlmy bşlnmştr.\n",
      "Çğ nsn, smnn Pythn lmsn bkrk, b prgrmlm dlnn, dn\n",
      "ptn ylnndn ldğn dşnr. nck znndldğnn ksn b\n",
      "prgrmlm dlnn d ptn ylnndn glmz. Gd Vn Rssm b\n",
      "prgrmlm dln, Th Mnty Pythn dl br nglz kmd grbnn, Mnty\n",
      "Pythn's Flyng Crcs dl gstrsndn snlnrk dlndrmştr. nck\n",
      "hr n kdr grçk byl ls d, Pythn prgrmlm dlnn pk çk yrd\n",
      "br yln fgr l tmsl dlms nrdys br glnk hln lmştr\n",
      "dyblrz.\n",
      "Dördüncü Yöntem Sonucu: \n",
      " B prgrmlm dl Gd Vn Rssm dl Hllndl br\n",
      "prgrmc trfndn 90'l yllrn bşnd glştrlmy bşlnmştr.\n",
      "Çğ nsn, smnn Pythn lmsn bkrk, b prgrmlm dlnn, dn\n",
      "ptn ylnndn ldğn dşnr. nck znndldğnn ksn b\n",
      "prgrmlm dlnn d ptn ylnndn glmz. Gd Vn Rssm b\n",
      "prgrmlm dln, Th Mnty Pythn dl br nglz kmd grbnn, Mnty\n",
      "Pythn's Flyng Crcs dl gstrsndn snlnrk dlndrmştr. nck\n",
      "hr n kdr grçk byl ls d, Pythn prgrmlm dlnn pk çk yrd\n",
      "br yln fgr l tmsl dlms nrdys br glnk hln lmştr\n",
      "dyblrz.\n"
     ]
    }
   ],
   "source": [
    "#Bir metin içindeki tüm sesli harfleri silelim diyelim,\n",
    "metin=metin1 = \"\"\"Bu programlama dili Guido Van Rossum adlı Hollandalı bir\n",
    "programcı tarafından 90'lı yılların başında geliştirilmeye başlanmıştır.\n",
    "Çoğu insan, isminin Python olmasına bakarak, bu programlama dilinin, adını\n",
    "piton yılanından aldığını düşünür. Ancak zannedildiğinin aksine bu\n",
    "programlama dilinin adı piton yılanından gelmez. Guido Van Rossum bu\n",
    "programlama dilini, The Monty Python adlı bir İngiliz komedi grubunun, Monty\n",
    "Python's Flying Circus adlı gösterisinden esinlenerek adlandırmıştır. Ancak\n",
    "her ne kadar gerçek böyle olsa da, Python programlama dilinin pek çok yerde\n",
    "bir yılan figürü ile temsil edilmesi neredeyse bir gelenek halini almıştır\n",
    "diyebiliriz.\"\"\"\n",
    "\n",
    "#Bunu şu şekilde yapabiliriz:\n",
    "sesli_harfler=\"aeıioöuüAEIİOÖUÜ\"\n",
    "for i in sesli_harfler:\n",
    "    if i in metin:\n",
    "        metin=metin.replace(i,\"\")\n",
    "print(\"Birinci Yöntem Sonucu:\\n\",metin)\n",
    "\n",
    "#İkinci yöntem:\n",
    "sozluk2=dict()\n",
    "sesli_harfler=\"aeıioöuüAEIİOÖUÜ\"\n",
    "for i in sesli_harfler:\n",
    "    sozluk2[i]=\"\"       #Değerleri \"\" olan anahtarlardan oluşan bir sözlük oluşturuyoruz.\n",
    "cevir=str.maketrans(sozluk2)\n",
    "print(\"İkinci Yöntem Sonucu:\\n\",metin1.translate(cevir))\n",
    "\n",
    "#üçüncü Yöntem:\n",
    "sesli_harfler=\"aeıioöuüAEIİOÖUÜ\"\n",
    "yeni_metin = \"\"\n",
    "for i in metin1:\n",
    "    if not i in sesli_harfler:\n",
    "        yeni_metin += i\n",
    "print(\"Üçüncü Yöntem Sonucu: \\n\",yeni_metin)\n",
    "\n",
    "#dördüncü Yöntem:\n",
    "sesli_harfler=\"aeıioöuüAEIİOÖUÜ\"\n",
    "ceviritab=str.maketrans(\"\",\"\",sesli_harfler)#üçüncü parametreyi kullanıyoruz.\n",
    "print(\"Dördüncü Yöntem Sonucu: \\n\",metin1.translate(ceviritab))"
   ]
  },
  {
   "cell_type": "code",
   "execution_count": 63,
   "metadata": {},
   "outputs": [
    {
     "name": "stdout",
     "output_type": "stream",
     "text": [
      "CMYLMZ\n"
     ]
    }
   ],
   "source": [
    "#str.maketrans() metodunun çalışma şekli ile ilgili basit bir örnek:\n",
    "metin=\"cem yılmaz\"\n",
    "kaynak=\"cmylmz\"\n",
    "hedef=kaynak.upper()\n",
    "silinecek=\"e ıa\"\n",
    "ceviri=str.maketrans(kaynak,hedef,silinecek)\n",
    "metin=metin.translate(ceviri)\n",
    "print(metin)"
   ]
  },
  {
   "cell_type": "markdown",
   "metadata": {},
   "source": [
    "## isalpha() metodu"
   ]
  },
  {
   "cell_type": "markdown",
   "metadata": {},
   "source": [
    "Bir stringin içindeki tüm karakterlerin alfabetik (yani harf) olup olmadığını sorgular. True ya da False verir."
   ]
  },
  {
   "cell_type": "code",
   "execution_count": 64,
   "metadata": {},
   "outputs": [
    {
     "data": {
      "text/plain": [
       "False"
      ]
     },
     "execution_count": 64,
     "metadata": {},
     "output_type": "execute_result"
    }
   ],
   "source": [
    "\"kezban \".isalpha()"
   ]
  },
  {
   "cell_type": "code",
   "execution_count": 65,
   "metadata": {},
   "outputs": [
    {
     "data": {
      "text/plain": [
       "True"
      ]
     },
     "execution_count": 65,
     "metadata": {},
     "output_type": "execute_result"
    }
   ],
   "source": [
    "\"kezban\".isalpha()"
   ]
  },
  {
   "cell_type": "code",
   "execution_count": 66,
   "metadata": {},
   "outputs": [
    {
     "data": {
      "text/plain": [
       "False"
      ]
     },
     "execution_count": 66,
     "metadata": {},
     "output_type": "execute_result"
    }
   ],
   "source": [
    "\"kezb4n\".isalpha()"
   ]
  },
  {
   "cell_type": "markdown",
   "metadata": {},
   "source": [
    "## isdigit() metodu"
   ]
  },
  {
   "cell_type": "markdown",
   "metadata": {},
   "source": [
    "Bu da stringin tüm karakterlerin sayısal karakterler olup olmadığını sorgular."
   ]
  },
  {
   "cell_type": "code",
   "execution_count": 77,
   "metadata": {},
   "outputs": [
    {
     "data": {
      "text/plain": [
       "False"
      ]
     },
     "execution_count": 77,
     "metadata": {},
     "output_type": "execute_result"
    }
   ],
   "source": [
    "\"12345.6000\".isdigit()"
   ]
  },
  {
   "cell_type": "code",
   "execution_count": 68,
   "metadata": {},
   "outputs": [
    {
     "data": {
      "text/plain": [
       "False"
      ]
     },
     "execution_count": 68,
     "metadata": {},
     "output_type": "execute_result"
    }
   ],
   "source": [
    "\"21345654300  \".isdigit()"
   ]
  },
  {
   "cell_type": "code",
   "execution_count": 78,
   "metadata": {},
   "outputs": [
    {
     "data": {
      "text/plain": [
       "True"
      ]
     },
     "execution_count": 78,
     "metadata": {},
     "output_type": "execute_result"
    }
   ],
   "source": [
    "\"934785430\".isdigit()"
   ]
  },
  {
   "cell_type": "markdown",
   "metadata": {},
   "source": [
    "## isalnum() metodu"
   ]
  },
  {
   "cell_type": "markdown",
   "metadata": {},
   "source": [
    "Bir stringin tüm karakterlerinin alfanumerik, yani rakam ve harflerden oluşup oluşmadığını sorgular."
   ]
  },
  {
   "cell_type": "code",
   "execution_count": 69,
   "metadata": {},
   "outputs": [
    {
     "data": {
      "text/plain": [
       "True"
      ]
     },
     "execution_count": 69,
     "metadata": {},
     "output_type": "execute_result"
    }
   ],
   "source": [
    "\"12abs50\".isalnum()"
   ]
  },
  {
   "cell_type": "code",
   "execution_count": 70,
   "metadata": {},
   "outputs": [
    {
     "data": {
      "text/plain": [
       "False"
      ]
     },
     "execution_count": 70,
     "metadata": {},
     "output_type": "execute_result"
    }
   ],
   "source": [
    "\"1234fhşpsş9  \".isalnum()"
   ]
  },
  {
   "cell_type": "markdown",
   "metadata": {},
   "source": [
    "## isdecimal() metodu"
   ]
  },
  {
   "cell_type": "markdown",
   "metadata": {},
   "source": [
    "Bir stringin onluk sayı olup olmadığını sorgular."
   ]
  },
  {
   "cell_type": "code",
   "execution_count": 75,
   "metadata": {},
   "outputs": [
    {
     "data": {
      "text/plain": [
       "True"
      ]
     },
     "execution_count": 75,
     "metadata": {},
     "output_type": "execute_result"
    }
   ],
   "source": [
    "\"0001536165\".isdecimal()"
   ]
  },
  {
   "cell_type": "code",
   "execution_count": 76,
   "metadata": {},
   "outputs": [
    {
     "data": {
      "text/plain": [
       "False"
      ]
     },
     "execution_count": 76,
     "metadata": {},
     "output_type": "execute_result"
    }
   ],
   "source": [
    "\"1536165.5146\".isdecimal()"
   ]
  },
  {
   "cell_type": "markdown",
   "metadata": {},
   "source": [
    "## isidentifier() metodu"
   ]
  },
  {
   "cell_type": "markdown",
   "metadata": {},
   "source": [
    "Bir sitringin geçerli bir tanımlayıcı, yani değişken, fonksiyon adı, modül adı olabilmek için uygun olup olmadığını sorgular"
   ]
  },
  {
   "cell_type": "code",
   "execution_count": 80,
   "metadata": {},
   "outputs": [
    {
     "data": {
      "text/plain": [
       "False"
      ]
     },
     "execution_count": 80,
     "metadata": {},
     "output_type": "execute_result"
    }
   ],
   "source": [
    "\"12adam\".isidentifier()"
   ]
  },
  {
   "cell_type": "code",
   "execution_count": 83,
   "metadata": {},
   "outputs": [
    {
     "data": {
      "text/plain": [
       "True"
      ]
     },
     "execution_count": 83,
     "metadata": {},
     "output_type": "execute_result"
    }
   ],
   "source": [
    "\"liste2\".isidentifier()"
   ]
  },
  {
   "cell_type": "code",
   "execution_count": 85,
   "metadata": {},
   "outputs": [
    {
     "name": "stdout",
     "output_type": "stream",
     "text": [
      "Help on method_descriptor:\n",
      "\n",
      "isidentifier(self, /)\n",
      "    Return True if the string is a valid Python identifier, False otherwise.\n",
      "    \n",
      "    Use keyword.iskeyword() to test for reserved identifiers such as \"def\" and\n",
      "    \"class\".\n",
      "\n"
     ]
    }
   ],
   "source": [
    "help(str.isidentifier)"
   ]
  },
  {
   "cell_type": "markdown",
   "metadata": {},
   "source": [
    "## isnumeric(), isspace() metodları"
   ]
  },
  {
   "cell_type": "markdown",
   "metadata": {},
   "source": [
    "Stringin tamamen nümerik, diğeri de tamamen boşluklardan oluşup oluşmadığına göre True ya da False döndürür."
   ]
  },
  {
   "cell_type": "markdown",
   "metadata": {},
   "source": [
    "## isprintable()"
   ]
  },
  {
   "cell_type": "markdown",
   "metadata": {},
   "source": [
    "Bir stringin yazdırılabilir olup olmadığına göre sonuç döndürür."
   ]
  },
  {
   "cell_type": "code",
   "execution_count": 87,
   "metadata": {},
   "outputs": [
    {
     "data": {
      "text/plain": [
       "False"
      ]
     },
     "execution_count": 87,
     "metadata": {},
     "output_type": "execute_result"
    }
   ],
   "source": [
    "\"\\t\\n\\r\".isprintable()"
   ]
  },
  {
   "cell_type": "markdown",
   "metadata": {},
   "source": [
    "# Karakter Dizilerini Biçimlendirme"
   ]
  },
  {
   "cell_type": "markdown",
   "metadata": {},
   "source": [
    "## % ile biçimlendirme (eski yöntem)"
   ]
  },
  {
   "cell_type": "markdown",
   "metadata": {},
   "source": [
    "Python'un 3.x sürümlerinden önce kullanılan yöntem"
   ]
  },
  {
   "cell_type": "markdown",
   "metadata": {},
   "source": [
    "### % işaretinin s biçimlendirme karakteri"
   ]
  },
  {
   "cell_type": "markdown",
   "metadata": {},
   "source": [
    "% ile birlikte en çok kullanılan biçimlendirme karakteridir. String kelimesinden gelir. %s yapısı bir karakter dizisini temsil ettiği için dışarıda da buna denk gelen veri karakter dizisi ya da karakter dizisine çevrilebilecek bir veri olmalıdır."
   ]
  },
  {
   "cell_type": "code",
   "execution_count": 88,
   "metadata": {},
   "outputs": [
    {
     "name": "stdout",
     "output_type": "stream",
     "text": [
      "parola: 123456\n",
      "Girdiğiniz parola (123456) kurallara uygun bir paroladır!\n"
     ]
    }
   ],
   "source": [
    "parola = input(\"parola: \")\n",
    "print(\"Girdiğiniz parola (%s) kurallara uygun bir paroladır!\" %parola)"
   ]
  },
  {
   "cell_type": "code",
   "execution_count": 89,
   "metadata": {},
   "outputs": [
    {
     "name": "stdout",
     "output_type": "stream",
     "text": [
      "Python ve Django iyi bir ikilidir!\n"
     ]
    }
   ],
   "source": [
    "print(\"%s ve %s iyi bir ikilidir!\" %(\"Python\", \"Django\"))"
   ]
  },
  {
   "cell_type": "code",
   "execution_count": 97,
   "metadata": {},
   "outputs": [
    {
     "name": "stdout",
     "output_type": "stream",
     "text": [
      "1. karakter: 'M'\n",
      "2. karakter: 'u'\n",
      "3. karakter: 'r'\n",
      "4. karakter: 'a'\n",
      "5. karakter: 't'\n",
      "6. karakter: 'c'\n",
      "7. karakter: 'a'\n",
      "8. karakter: 'n'\n"
     ]
    }
   ],
   "source": [
    "kardiz = \"Muratcan\"\n",
    "for sıra, karakter in enumerate(kardiz, 1):\n",
    "    print(\"%s. karakter: '%s'\" %(sıra, karakter))"
   ]
  },
  {
   "cell_type": "markdown",
   "metadata": {},
   "source": [
    "\"%s\" yapısı string içinde yer tutar, ve string dışında \"%\" dan sonra gelen değeri oraya alır, eğer tek bir değer varsa string dışında paranteze gerek yoktur, ama birden fazla ise parantez gereklidir."
   ]
  },
  {
   "cell_type": "code",
   "execution_count": 111,
   "metadata": {},
   "outputs": [
    {
     "name": "stdout",
     "output_type": "stream",
     "text": [
      "%0\n",
      "%10\n",
      "%20\n",
      "%30\n",
      "%40\n",
      "%50\n",
      "%60\n",
      "%70\n",
      "%80\n",
      "%90\n"
     ]
    }
   ],
   "source": [
    "#% karakterini nasıl bastıracağız?\n",
    "for i in range(10):\n",
    "    print(\"%%%s\" %int(i*10))\n",
    "#Burada % işaretini elde edebilmek için % den sonra yine % kullandık, sonra da %s geldi"
   ]
  },
  {
   "cell_type": "code",
   "execution_count": 109,
   "metadata": {},
   "outputs": [
    {
     "name": "stdout",
     "output_type": "stream",
     "text": [
      "Karakter dizilerinin toplam 78 adet metodu vardır\n"
     ]
    }
   ],
   "source": [
    "print(\"Karakter dizilerinin toplam %s adet metodu vardır\" %len(dir(str)))"
   ]
  },
  {
   "cell_type": "code",
   "execution_count": 7,
   "metadata": {},
   "outputs": [
    {
     "name": "stdout",
     "output_type": "stream",
     "text": [
      "|          murat|\n"
     ]
    }
   ],
   "source": [
    "print(\"|%15s|\" %\"murat\") #Burada % ile s arasındaki 15 sayısı bu yer tutucuya sabit 15 karakterlik yer ayırdığımızı gösterir."
   ]
  },
  {
   "cell_type": "code",
   "execution_count": 118,
   "metadata": {},
   "outputs": [
    {
     "name": "stdout",
     "output_type": "stream",
     "text": [
      "|          murat|\n"
     ]
    }
   ],
   "source": [
    "#yukarıdakinin aynısını bir de rjust() metodu ile yapalım:\n",
    "print(\"|%s|\" %\"murat\".rjust(15))"
   ]
  },
  {
   "cell_type": "code",
   "execution_count": 119,
   "metadata": {},
   "outputs": [
    {
     "name": "stdout",
     "output_type": "stream",
     "text": [
      "|murat          |\n"
     ]
    }
   ],
   "source": [
    "#sola yaslamak için?\n",
    "print(\"|%-15s|\" %\"murat\")"
   ]
  },
  {
   "cell_type": "code",
   "execution_count": 122,
   "metadata": {},
   "outputs": [
    {
     "name": "stdout",
     "output_type": "stream",
     "text": [
      "elma deposunda 25 kilo elma kaldı\n"
     ]
    }
   ],
   "source": [
    "print(\"%(ürün)s deposunda %(miktar)s kilo %(ürün)s kaldı\" %{\"miktar\": 25,\"ürün\": \"elma\"})"
   ]
  },
  {
   "cell_type": "raw",
   "metadata": {},
   "source": [
    "Buradaki yapı: \"%(değişken_adı)s\" % {\"değişken_adı\": \"değişken_değeri\"} (yani burada string dışında sözlük kullanılır)"
   ]
  },
  {
   "cell_type": "markdown",
   "metadata": {},
   "source": [
    "### % işaretinin d  veya i biçimlendirme karakteri"
   ]
  },
  {
   "cell_type": "markdown",
   "metadata": {},
   "source": [
    "d veya i arasında hiçbir fark yoktur ikisi de aynıdır. Tam sayıları (integer) temsil eden karakterdir. Tam sayıya çevrilebilen veri yapılarını kullanabiliriz."
   ]
  },
  {
   "cell_type": "code",
   "execution_count": 129,
   "metadata": {},
   "outputs": [
    {
     "name": "stdout",
     "output_type": "stream",
     "text": [
      "Şubat ayı bu yıl 28 gün çekiyor\n"
     ]
    }
   ],
   "source": [
    "print(\"Şubat ayı bu yıl %d gün çekiyor\" %28)"
   ]
  },
  {
   "cell_type": "code",
   "execution_count": 131,
   "metadata": {},
   "outputs": [
    {
     "name": "stdout",
     "output_type": "stream",
     "text": [
      "Şubat ayı bu yıl 28 gün çekiyor\n"
     ]
    }
   ],
   "source": [
    "#Aslında bunu s ile de yazabilirdik:\n",
    "print(\"Şubat ayı bu yıl %s gün çekiyor\" %28) #çünkü sayılar stringe çevrilebilen verilerdir."
   ]
  },
  {
   "cell_type": "code",
   "execution_count": 132,
   "metadata": {},
   "outputs": [
    {
     "name": "stdout",
     "output_type": "stream",
     "text": [
      "13\n"
     ]
    }
   ],
   "source": [
    "print(\"%d\" %13.5)"
   ]
  },
  {
   "cell_type": "raw",
   "metadata": {},
   "source": [
    "Yine burada da % ile d arasına sayılar girerek çeşitli işlemler yapılabilir.\n",
    "%(- varsa sola,yoksa sağa yasla)(sayının karakter genişliği).(sol tarafına kaç 0 koyulacağı)d"
   ]
  },
  {
   "cell_type": "code",
   "execution_count": 140,
   "metadata": {},
   "outputs": [
    {
     "name": "stdout",
     "output_type": "stream",
     "text": [
      "Sayımız:35'\n"
     ]
    }
   ],
   "source": [
    "sayı=35\n",
    "print(\"Sayımız:%d'\"%sayı)"
   ]
  },
  {
   "cell_type": "code",
   "execution_count": 141,
   "metadata": {},
   "outputs": [
    {
     "name": "stdout",
     "output_type": "stream",
     "text": [
      "Sayımız:                  35'\n"
     ]
    }
   ],
   "source": [
    "print(\"Sayımız:%20d'\"%sayı)"
   ]
  },
  {
   "cell_type": "code",
   "execution_count": 142,
   "metadata": {},
   "outputs": [
    {
     "name": "stdout",
     "output_type": "stream",
     "text": [
      "Sayımız:35                  '\n"
     ]
    }
   ],
   "source": [
    "print(\"Sayımız:%-20d'\"%sayı)"
   ]
  },
  {
   "cell_type": "code",
   "execution_count": 143,
   "metadata": {},
   "outputs": [
    {
     "name": "stdout",
     "output_type": "stream",
     "text": [
      "Sayımız:                  35'\n"
     ]
    }
   ],
   "source": [
    "print(\"Sayımız:%20.d'\"%sayı)"
   ]
  },
  {
   "cell_type": "code",
   "execution_count": 144,
   "metadata": {},
   "outputs": [
    {
     "name": "stdout",
     "output_type": "stream",
     "text": [
      "Sayımız:               00035'\n"
     ]
    }
   ],
   "source": [
    "print(\"Sayımız:%20.5d'\"%sayı)"
   ]
  },
  {
   "cell_type": "code",
   "execution_count": 145,
   "metadata": {},
   "outputs": [
    {
     "name": "stdout",
     "output_type": "stream",
     "text": [
      "Sayımız:00035               '\n"
     ]
    }
   ],
   "source": [
    "print(\"Sayımız:%-20.5d'\"%sayı)"
   ]
  },
  {
   "cell_type": "code",
   "execution_count": 147,
   "metadata": {},
   "outputs": [
    {
     "name": "stdout",
     "output_type": "stream",
     "text": [
      "Sayımız:00035'\n"
     ]
    }
   ],
   "source": [
    "print(\"Sayımız:%.5d'\"%sayı)"
   ]
  },
  {
   "cell_type": "code",
   "execution_count": 150,
   "metadata": {},
   "outputs": [
    {
     "name": "stdout",
     "output_type": "stream",
     "text": [
      "Sayımız:00035'\n"
     ]
    }
   ],
   "source": [
    "print(\"Sayımız:%05d'\"%sayı)"
   ]
  },
  {
   "cell_type": "code",
   "execution_count": 151,
   "metadata": {},
   "outputs": [
    {
     "name": "stdout",
     "output_type": "stream",
     "text": [
      "Sayımız:   35'\n"
     ]
    }
   ],
   "source": [
    "print(\"Sayımız:%5d'\"%sayı)"
   ]
  },
  {
   "cell_type": "markdown",
   "metadata": {},
   "source": [
    "### o biçimlendirme karakteri"
   ]
  },
  {
   "cell_type": "markdown",
   "metadata": {},
   "source": [
    "Bu karakter oktal(sekizli) sistemde sayıları temsil eder, onluk sistemde verdiğimiz sayının oktal sistemdeki karşılığını verir. "
   ]
  },
  {
   "cell_type": "code",
   "execution_count": 153,
   "metadata": {},
   "outputs": [
    {
     "name": "stdout",
     "output_type": "stream",
     "text": [
      "10 sayısının sekizli düzendeki karşılığı 12 sayısıdır.\n"
     ]
    }
   ],
   "source": [
    "sayı=10\n",
    "print(\"%i sayısının sekizli düzendeki karşılığı %o sayısıdır.\" %(sayı,sayı))"
   ]
  },
  {
   "cell_type": "markdown",
   "metadata": {},
   "source": [
    "Diğer yöntemlerdeki biçimlendirme özelliklerinin hepsi bunda da geçerlidir."
   ]
  },
  {
   "cell_type": "markdown",
   "metadata": {},
   "source": [
    "### x ve X biçimlendirme karakteri"
   ]
  },
  {
   "cell_type": "markdown",
   "metadata": {},
   "source": [
    "hexadecimal (onaltılı) sistemde sayıları temsil eder. Diğer yöntemlerdeki biçimlendirme özelliklerinin hepsi bunda da geçerlidir. x onaltılı sistemdeki harfleri küçük verir, X ise büyük verir."
   ]
  },
  {
   "cell_type": "markdown",
   "metadata": {},
   "source": [
    "### f biçimlendirme karakteri"
   ]
  },
  {
   "cell_type": "markdown",
   "metadata": {},
   "source": [
    "f karakteri float veri tipini temsil eder. Diğer yöntemlerdeki biçimlendirme özellikleri bunda da geçerlidir."
   ]
  },
  {
   "cell_type": "code",
   "execution_count": 157,
   "metadata": {},
   "outputs": [
    {
     "name": "stdout",
     "output_type": "stream",
     "text": [
      "Dolar 6.471000 TL olmuş...\n"
     ]
    }
   ],
   "source": [
    "print(\"Dolar %f TL olmuş...\" %6.4710) #Burada varsayılan olarak noktadan sonra 6 hane gelir."
   ]
  },
  {
   "cell_type": "code",
   "execution_count": 158,
   "metadata": {},
   "outputs": [
    {
     "name": "stdout",
     "output_type": "stream",
     "text": [
      "Dolar 6.47 TL olmuş...\n"
     ]
    }
   ],
   "source": [
    "print(\"Dolar %.2f TL olmuş...\" %6.4710) #Bu şekilde istediğimiz hane sayısına düşürebiliriz"
   ]
  },
  {
   "cell_type": "markdown",
   "metadata": {},
   "source": [
    "### c biçimlendirme karakteri"
   ]
  },
  {
   "cell_type": "markdown",
   "metadata": {},
   "source": [
    "c sadece bir karakter ya da sayı alır, alacağı sayı ASCII tablosunda karşılığı olan bir sayı olmalıdır ve bu sayıya karşılık karakter değerini verir. Diğer yöntemlerdeki biçimlendirme özellikleri bunda da geçerlidir."
   ]
  },
  {
   "cell_type": "code",
   "execution_count": 160,
   "metadata": {},
   "outputs": [
    {
     "name": "stdout",
     "output_type": "stream",
     "text": [
      "h\n"
     ]
    }
   ],
   "source": [
    "print(\"%c\"%\"h\")"
   ]
  },
  {
   "cell_type": "code",
   "execution_count": 161,
   "metadata": {},
   "outputs": [
    {
     "name": "stdout",
     "output_type": "stream",
     "text": [
      "v\n"
     ]
    }
   ],
   "source": [
    "print(\"%c\"%118)"
   ]
  },
  {
   "cell_type": "markdown",
   "metadata": {},
   "source": [
    "## % biçimlendirmesi ile ilgili örnek"
   ]
  },
  {
   "cell_type": "markdown",
   "metadata": {},
   "source": [
    "dir(str) ile bütün metodlarını alt alta listeleyen girdi üzerinde biraz çalışalım ve üç kolon halinde yazdıralım."
   ]
  },
  {
   "cell_type": "code",
   "execution_count": 175,
   "metadata": {},
   "outputs": [
    {
     "name": "stdout",
     "output_type": "stream",
     "text": [
      "\n",
      "0 __add__                  1 __class__                2 __contains__             \n",
      "3 __delattr__              4 __dir__                  5 __doc__                  \n",
      "6 __eq__                   7 __format__               8 __ge__                   \n",
      "9 __getattribute__         10 __getitem__              11 __getnewargs__           \n",
      "12 __gt__                   13 __hash__                 14 __init__                 \n",
      "15 __init_subclass__        16 __iter__                 17 __le__                   \n",
      "18 __len__                  19 __lt__                   20 __mod__                  \n",
      "21 __mul__                  22 __ne__                   23 __new__                  \n",
      "24 __reduce__               25 __reduce_ex__            26 __repr__                 \n",
      "27 __rmod__                 28 __rmul__                 29 __setattr__              \n",
      "30 __sizeof__               31 __str__                  32 __subclasshook__         \n",
      "33 capitalize               34 casefold                 35 center                   \n",
      "36 count                    37 encode                   38 endswith                 \n",
      "39 expandtabs               40 find                     41 format                   \n",
      "42 format_map               43 index                    44 isalnum                  \n",
      "45 isalpha                  46 isascii                  47 isdecimal                \n",
      "48 isdigit                  49 isidentifier             50 islower                  \n",
      "51 isnumeric                52 isprintable              53 isspace                  \n",
      "54 istitle                  55 isupper                  56 join                     \n",
      "57 ljust                    58 lower                    59 lstrip                   \n",
      "60 maketrans                61 partition                62 replace                  \n",
      "63 rfind                    64 rindex                   65 rjust                    \n",
      "66 rpartition               67 rsplit                   68 rstrip                   \n",
      "69 split                    70 splitlines               71 startswith               \n",
      "72 strip                    73 swapcase                 74 title                    \n",
      "75 translate                76 upper                    77 zfill                    "
     ]
    }
   ],
   "source": [
    "for sıra, karakter in enumerate(dir(str)):\n",
    "    if sıra % 3 == 0:\n",
    "        print(\"\\n\", end=\"\")\n",
    "    print(\"%s %-25s\" %(sıra,karakter),end=\"\")"
   ]
  },
  {
   "cell_type": "code",
   "execution_count": 176,
   "metadata": {},
   "outputs": [
    {
     "name": "stdout",
     "output_type": "stream",
     "text": [
      "    0    0    0\n",
      "    1    1    1\n",
      "    2    2    2\n",
      "    3    3    3\n",
      "    4    4    4\n",
      "    5    5    5\n",
      "    6    6    6\n",
      "    7    7    7\n",
      "    8   10    8\n",
      "    9   11    9\n",
      "   10   12    a\n",
      "   11   13    b\n",
      "   12   14    c\n",
      "   13   15    d\n",
      "   14   16    e\n",
      "   15   17    f\n",
      "   16   20   10\n",
      "   17   21   11\n",
      "   18   22   12\n",
      "   19   23   13\n"
     ]
    }
   ],
   "source": [
    "for i in range(20):\n",
    "    print(\"%5d%5o%5x\" %(i, i, i))#20 ye kdar olan sayıların oktal ve hexadecimal değerleri"
   ]
  },
  {
   "cell_type": "code",
   "execution_count": 177,
   "metadata": {},
   "outputs": [
    {
     "name": "stdout",
     "output_type": "stream",
     "text": [
      "    0    0    0\n",
      "    1    1    1\n",
      "    2    2    2\n",
      "    3    3    3\n",
      "    4    4    4\n",
      "    5    5    5\n",
      "    6    6    6\n",
      "    7    7    7\n",
      "    8   10    8\n",
      "    9   11    9\n",
      "   10   12    a\n",
      "   11   13    b\n",
      "   12   14    c\n",
      "   13   15    d\n",
      "   14   16    e\n",
      "   15   17    f\n",
      "   16   20   10\n",
      "   17   21   11\n",
      "   18   22   12\n",
      "   19   23   13\n"
     ]
    }
   ],
   "source": [
    "for i in range(20):\n",
    "    print(\"%(deger)5d%(deger)5o%(deger)5x\" %({\"deger\": i}))"
   ]
  },
  {
   "cell_type": "markdown",
   "metadata": {},
   "source": [
    "## .format() metodu ile biçimlendirme (yeni yöntem)"
   ]
  },
  {
   "cell_type": "markdown",
   "metadata": {},
   "source": [
    "Python'un 3.x sürümlerinde çıkmış yeni yöntemdir. Temel kullanımı:"
   ]
  },
  {
   "cell_type": "code",
   "execution_count": 178,
   "metadata": {},
   "outputs": [
    {
     "name": "stdout",
     "output_type": "stream",
     "text": [
      "Django ve Python iyi bir ikilidir!\n"
     ]
    }
   ],
   "source": [
    "print(\"{} ve {} iyi bir ikilidir!\".format(\"Django\", \"Python\"))"
   ]
  },
  {
   "cell_type": "code",
   "execution_count": 179,
   "metadata": {},
   "outputs": [
    {
     "name": "stdout",
     "output_type": "stream",
     "text": [
      "Kalkış yeri: ADANA\n",
      "Varış yeri: ANKARA\n",
      "İsim ve soyisim: Murat Can Kurt\n",
      "Bilet sayısı: 2\n",
      "ADANA noktasından ANKARA noktasına, 14:30 hareket saatli sefer için Murat Can Kurt adına 2 adet bilet ayrılmıştır!\n"
     ]
    }
   ],
   "source": [
    "kalkış       = input(\"Kalkış yeri: \")\n",
    "varış        = input(\"Varış yeri: \")\n",
    "isim_soyisim = input(\"İsim ve soyisim: \")\n",
    "bilet_sayısı = input(\"Bilet sayısı: \")\n",
    "\n",
    "metin = \"{} noktasından {} noktasına, 14:30 hareket saatli \\\n",
    "sefer için {} adına {} adet bilet ayrılmıştır!\"\n",
    "\n",
    "print(metin.format(kalkış, varış, isim_soyisim, bilet_sayısı))"
   ]
  },
  {
   "cell_type": "code",
   "execution_count": 8,
   "metadata": {},
   "outputs": [],
   "source": [
    "kodlama  = \"utf-8\"\n",
    "site_adı = \"Python Programlama Dili\"\n",
    "dosya    = open(\"deneme.html\", \"w\", encoding=kodlama)\n",
    "içerik   = \"\"\"\n",
    "<html>\n",
    "\n",
    "<head>\n",
    "    <meta http-equiv=\"Content-Type\" content=\"text/html; charset={}\" />\n",
    "    <title>{}</title>\n",
    "</head>\n",
    "\n",
    "<body>\n",
    "    <h1>murat.com web sitesine hoş geldiniz!</h1>\n",
    "    <p><b>{}</b> için bir Python öğrenme projesi...</p>\n",
    "</body>\n",
    "\n",
    "</html>\n",
    "\"\"\"\n",
    "\n",
    "print(içerik.format(kodlama, site_adı, site_adı), file=dosya)\n",
    "\n",
    "dosya.close()"
   ]
  },
  {
   "cell_type": "code",
   "execution_count": 182,
   "metadata": {},
   "outputs": [
    {
     "data": {
      "text/plain": [
       "'Fırat Özgül'"
      ]
     },
     "execution_count": 182,
     "metadata": {},
     "output_type": "execute_result"
    }
   ],
   "source": [
    "\"{0} {1}\".format(\"Fırat\", \"Özgül\")"
   ]
  },
  {
   "cell_type": "code",
   "execution_count": 184,
   "metadata": {},
   "outputs": [
    {
     "data": {
      "text/plain": [
       "'Fırat Özgül'"
      ]
     },
     "execution_count": 184,
     "metadata": {},
     "output_type": "execute_result"
    }
   ],
   "source": [
    "\"{1} {0}\".format(\"Özgül\",\"Fırat\") #istediğimiz sıraya göre alabiliriz"
   ]
  },
  {
   "cell_type": "code",
   "execution_count": 186,
   "metadata": {},
   "outputs": [
    {
     "data": {
      "text/plain": [
       "'Fırat Özgül (Özgül Fırat)'"
      ]
     },
     "execution_count": 186,
     "metadata": {},
     "output_type": "execute_result"
    }
   ],
   "source": [
    "\"{0} {1} ({1} {0})\".format(\"Fırat\", \"Özgül\") #sayıları tekrar tekrar yazarak aynı değeri kullanabiliriz"
   ]
  },
  {
   "cell_type": "code",
   "execution_count": 188,
   "metadata": {},
   "outputs": [
    {
     "name": "stdout",
     "output_type": "stream",
     "text": [
      "python dersleri\n"
     ]
    }
   ],
   "source": [
    "dil=\"python\"\n",
    "print(\"{} dersleri\".format(dil)) "
   ]
  },
  {
   "cell_type": "code",
   "execution_count": 191,
   "metadata": {},
   "outputs": [
    {
     "name": "stdout",
     "output_type": "stream",
     "text": [
      "ingilizce dersleri\n"
     ]
    }
   ],
   "source": [
    "print(\"{dil} dersleri\".format(dil=\"ingilizce\")) #"
   ]
  },
  {
   "cell_type": "code",
   "execution_count": 193,
   "metadata": {},
   "outputs": [
    {
     "name": "stdout",
     "output_type": "stream",
     "text": [
      "\n",
      "<html>\n",
      "\n",
      "<head>\n",
      "    <meta http-equiv=\"Content-Type\" content=\"text/html; charset=utf-8\" />\n",
      "    <title>Python Programlama Dili</title>\n",
      "</head>\n",
      "\n",
      "<body>\n",
      "    <h1>murat.com web sitesine hoş geldiniz!</h1>\n",
      "    <p><b>Python Programlama Dili</b> için bir çalışma projesi...</p>\n",
      "</body>\n",
      "\n",
      "</html>\n",
      "\n"
     ]
    }
   ],
   "source": [
    "sayfa = \"\"\"\n",
    "<html>\n",
    "\n",
    "<head>\n",
    "    <meta http-equiv=\"Content-Type\" content=\"text/html; charset=utf-8\" />\n",
    "    <title>{konu}</title>\n",
    "</head>\n",
    "\n",
    "<body>\n",
    "    <h1>murat.com web sitesine hoş geldiniz!</h1>\n",
    "    <p><b>{konu}</b> için bir çalışma projesi...</p>\n",
    "</body>\n",
    "\n",
    "</html>\n",
    "\"\"\"\n",
    "\n",
    "print(sayfa.format(konu=\"Python Programlama Dili\"))"
   ]
  },
  {
   "cell_type": "code",
   "execution_count": 198,
   "metadata": {},
   "outputs": [
    {
     "name": "stdout",
     "output_type": "stream",
     "text": [
      "|          murat|\n"
     ]
    }
   ],
   "source": [
    "print(\"|{:>15}|\".format(\"murat\")) #15 karakterlik bir alanda, stringi sağa yasla (> işareti)"
   ]
  },
  {
   "cell_type": "code",
   "execution_count": 199,
   "metadata": {},
   "outputs": [
    {
     "name": "stdout",
     "output_type": "stream",
     "text": [
      "|murat                         |\n"
     ]
    }
   ],
   "source": [
    "print(\"|{:<30}|\".format(\"murat\")) "
   ]
  },
  {
   "cell_type": "code",
   "execution_count": 200,
   "metadata": {},
   "outputs": [
    {
     "name": "stdout",
     "output_type": "stream",
     "text": [
      "|                      murat                       |\n"
     ]
    }
   ],
   "source": [
    "print(\"|{:^50}|\".format(\"murat\"))"
   ]
  },
  {
   "cell_type": "raw",
   "metadata": {},
   "source": [
    "> sağa yasla\n",
    "< sola yasla\n",
    "^ ortala"
   ]
  },
  {
   "cell_type": "code",
   "execution_count": 202,
   "metadata": {},
   "outputs": [
    {
     "name": "stdout",
     "output_type": "stream",
     "text": [
      "\n",
      "0-__add__             1-__class__           2-__contains__        \n",
      "3-__delattr__         4-__dir__             5-__doc__             \n",
      "6-__eq__              7-__format__          8-__ge__              \n",
      "9-__getattribute__    10-__getitem__         11-__getnewargs__      \n",
      "12-__gt__              13-__hash__            14-__init__            \n",
      "15-__init_subclass__   16-__iter__            17-__le__              \n",
      "18-__len__             19-__lt__              20-__mod__             \n",
      "21-__mul__             22-__ne__              23-__new__             \n",
      "24-__reduce__          25-__reduce_ex__       26-__repr__            \n",
      "27-__rmod__            28-__rmul__            29-__setattr__         \n",
      "30-__sizeof__          31-__str__             32-__subclasshook__    \n",
      "33-capitalize          34-casefold            35-center              \n",
      "36-count               37-encode              38-endswith            \n",
      "39-expandtabs          40-find                41-format              \n",
      "42-format_map          43-index               44-isalnum             \n",
      "45-isalpha             46-isascii             47-isdecimal           \n",
      "48-isdigit             49-isidentifier        50-islower             \n",
      "51-isnumeric           52-isprintable         53-isspace             \n",
      "54-istitle             55-isupper             56-join                \n",
      "57-ljust               58-lower               59-lstrip              \n",
      "60-maketrans           61-partition           62-replace             \n",
      "63-rfind               64-rindex              65-rjust               \n",
      "66-rpartition          67-rsplit              68-rstrip              \n",
      "69-split               70-splitlines          71-startswith          \n",
      "72-strip               73-swapcase            74-title               \n",
      "75-translate           76-upper               77-zfill               "
     ]
    }
   ],
   "source": [
    "for sıra, karakter in enumerate(dir(str)):\n",
    "    if sıra % 3 == 0:\n",
    "        print(\"\\n\", end=\"\")\n",
    "    print(\"{}-{:<20}\".format(sıra,karakter), end=\"\")"
   ]
  },
  {
   "cell_type": "markdown",
   "metadata": {},
   "source": [
    "### Biçimlendirme Karakterleri"
   ]
  },
  {
   "cell_type": "markdown",
   "metadata": {},
   "source": [
    "Biçimlendirme karakterlerinin hemen hepsi % yöntemindeki karakterlerdir yalnız kullanımları biraz farklılık gösterir."
   ]
  },
  {
   "cell_type": "raw",
   "metadata": {},
   "source": [
    "s karakteri stringler içindir, .format metodunu stringlerle sınırlandırmış oluruz, string dışı veri hata döndürür.\n",
    "d karakteri sayılar içindir, sayı dışında kullanım hata döndürür.\n",
    "c karakteri 0 ile 256 arasındaki sayıların ASCII tablosundaki karşılıklarını verir.\n",
    "f karakteri float sayılar içindir.\n",
    "x ve X karakterleri hexadecimal sayılar\n",
    "o karakteri oktal sayılar\n",
    "b karakteri binary yani ikili sistem sayıları temsil eder.\n",
    ", karakteri sayıların basamak gruplarına ayırma işlemini yapar.\n",
    "Bunların kullanım şekilleri {:s} gibi :ardından gelir."
   ]
  },
  {
   "cell_type": "code",
   "execution_count": 205,
   "metadata": {},
   "outputs": [
    {
     "name": "stdout",
     "output_type": "stream",
     "text": [
      "karakter dizisi\n"
     ]
    }
   ],
   "source": [
    "print(\"{:s}\".format(\"karakter dizisi\"))"
   ]
  },
  {
   "cell_type": "code",
   "execution_count": 206,
   "metadata": {},
   "outputs": [
    {
     "name": "stdout",
     "output_type": "stream",
     "text": [
      "¥\n"
     ]
    }
   ],
   "source": [
    "print(\"{:c}\".format(165))"
   ]
  },
  {
   "cell_type": "code",
   "execution_count": 207,
   "metadata": {},
   "outputs": [
    {
     "name": "stdout",
     "output_type": "stream",
     "text": [
      "65,658,464,163,146\n"
     ]
    }
   ],
   "source": [
    "print(\"{:,d}\".format(65658464163146))"
   ]
  },
  {
   "cell_type": "code",
   "execution_count": 234,
   "metadata": {},
   "outputs": [
    {
     "name": "stdout",
     "output_type": "stream",
     "text": [
      "'-155'\n",
      "'125854'\n",
      "'125854'\n",
      "'95.685000'\n",
      "'95.69'\n",
      "'35''\n"
     ]
    }
   ],
   "source": [
    "print(\"'{3:}'\\n'{0:d}'\\n'{0:}'\\n'{2:f}'\\n'{2:.2f}'\\n'{1:,}''\".format(125854,35,95.685,-155))"
   ]
  },
  {
   "cell_type": "code",
   "execution_count": 238,
   "metadata": {},
   "outputs": [
    {
     "name": "stdout",
     "output_type": "stream",
     "text": [
      "'           -155'\n",
      "'         125854'\n",
      "'         125854'\n",
      "'      95.685000'\n",
      "'          95.69'\n",
      "'             35''\n"
     ]
    }
   ],
   "source": [
    "print(\"'{3:15d}'\\n'{0:15d}'\\n'{0:15}'\\n'{2:15f}'\\n'{2:15.2f}'\\n'{1:15,d}''\".format(125854,35,95.685,-155))"
   ]
  },
  {
   "cell_type": "code",
   "execution_count": 241,
   "metadata": {},
   "outputs": [
    {
     "name": "stdout",
     "output_type": "stream",
     "text": [
      "'     -155      '\n",
      "'125854         '\n",
      "'         125854'\n",
      "'      95.685000'\n",
      "'          95.69'\n",
      "'35             ''\n"
     ]
    }
   ],
   "source": [
    "print(\"'{3:^15d}'\\n'{0:<15d}'\\n'{0:15}'\\n'{2:>15f}'\\n'{2:15.2f}'\\n'{1:<15,d}''\".format(125854,35,95.685,-155))"
   ]
  },
  {
   "cell_type": "code",
   "execution_count": 259,
   "metadata": {},
   "outputs": [
    {
     "name": "stdout",
     "output_type": "stream",
     "text": [
      "'     -155      '\n",
      "'125854         '\n",
      "'         125854'\n",
      "'      95.685000'\n",
      "'          95.69'\n",
      "'35             ''\n"
     ]
    }
   ],
   "source": [
    "print(\"'{3:^15d}'\\n'{0:<15d}'\\n'{0:15}'\\n'{2:>15f}'\\n'{2:15.2f}'\\n'{1:<15,d}''\".format(125854,35,95.685,-155))"
   ]
  },
  {
   "cell_type": "code",
   "execution_count": 210,
   "metadata": {},
   "outputs": [
    {
     "data": {
      "text/plain": [
       "'000000000010101'"
      ]
     },
     "execution_count": 210,
     "metadata": {},
     "output_type": "execute_result"
    }
   ],
   "source": [
    "\"{:015b}\".format(21)"
   ]
  },
  {
   "cell_type": "code",
   "execution_count": 260,
   "metadata": {},
   "outputs": [
    {
     "name": "stdout",
     "output_type": "stream",
     "text": [
      "Selam Buğra!\n"
     ]
    }
   ],
   "source": [
    "isim = 'Buğra'\n",
    "print('Selam {kime}!'.format(kime=isim))"
   ]
  },
  {
   "cell_type": "markdown",
   "metadata": {},
   "source": [
    "# f-string "
   ]
  },
  {
   "cell_type": "markdown",
   "metadata": {},
   "source": [
    "Python 3.6 versiyonuyla kullanıma giren f-string yapısı .format kullanımına çok benzer."
   ]
  },
  {
   "cell_type": "code",
   "execution_count": 261,
   "metadata": {},
   "outputs": [
    {
     "data": {
      "text/plain": [
       "'Selam Dünya'"
      ]
     },
     "execution_count": 261,
     "metadata": {},
     "output_type": "execute_result"
    }
   ],
   "source": [
    "f\"Selam Dünya\" # en basit anlamda bir f-stringdir."
   ]
  },
  {
   "cell_type": "code",
   "execution_count": 263,
   "metadata": {},
   "outputs": [
    {
     "name": "stdout",
     "output_type": "stream",
     "text": [
      "Selam Buğra!\n"
     ]
    }
   ],
   "source": [
    "isim = 'Buğra'\n",
    "print(f'Selam {isim}!')#.format() metoduna çok benziyor, ama görüldüğü gibi .format kısmını yazmadık..."
   ]
  },
  {
   "cell_type": "markdown",
   "metadata": {},
   "source": [
    "Buradan da anlaşılacağı üzere artık harici bir .format() düzenlemesine gerek kalmadan işlemler {} içinde yapılabiliyor."
   ]
  },
  {
   "cell_type": "code",
   "execution_count": 264,
   "metadata": {},
   "outputs": [
    {
     "data": {
      "text/plain": [
       "'Onun adı Buğra ve o 18 yaşında.'"
      ]
     },
     "execution_count": 264,
     "metadata": {},
     "output_type": "execute_result"
    }
   ],
   "source": [
    "isim = 'Buğra'\n",
    "yas = 18\n",
    "f'Onun adı {isim} ve o {yas} yaşında.'"
   ]
  },
  {
   "cell_type": "code",
   "execution_count": 265,
   "metadata": {},
   "outputs": [
    {
     "data": {
      "text/plain": [
       "'Onun adı Buğra ve o 18 yaşında.'"
      ]
     },
     "execution_count": 265,
     "metadata": {},
     "output_type": "execute_result"
    }
   ],
   "source": [
    "isim = 'Buğra' #Aynı örneği .format ile yapsaydık\n",
    "yas = 18\n",
    "\"Onun adı {} ve o {} yaşında.\".format(isim, yas)"
   ]
  },
  {
   "cell_type": "code",
   "execution_count": 267,
   "metadata": {},
   "outputs": [
    {
     "data": {
      "text/plain": [
       "'Rakamların toplamı 17 eder.'"
      ]
     },
     "execution_count": 267,
     "metadata": {},
     "output_type": "execute_result"
    }
   ],
   "source": [
    "a=5\n",
    "b=12\n",
    "f\"Rakamların toplamı {a+b} eder.\""
   ]
  },
  {
   "cell_type": "code",
   "execution_count": 270,
   "metadata": {},
   "outputs": [
    {
     "name": "stdout",
     "output_type": "stream",
     "text": [
      "İlk sayı: 28\n",
      "İkinci sayı: 32\n",
      "Girdiğiniz işlem:\n",
      "28 + 32 = 60\n"
     ]
    }
   ],
   "source": [
    "a=int(input(\"İlk sayı: \"))\n",
    "b=int(input(\"İkinci sayı: \"))\n",
    "print(f\"Girdiğiniz işlem:\\n{a} + {b} = {a+b}\")"
   ]
  },
  {
   "cell_type": "code",
   "execution_count": 293,
   "metadata": {},
   "outputs": [
    {
     "name": "stdout",
     "output_type": "stream",
     "text": [
      "Birinci sayıyı girin: 65\n",
      "İkinci sayıyı girin: 95\n"
     ]
    },
    {
     "data": {
      "text/plain": [
       "'Sayıların toplamı 160 eder.'"
      ]
     },
     "execution_count": 293,
     "metadata": {},
     "output_type": "execute_result"
    }
   ],
   "source": [
    "f'Sayıların toplamı { int(input(\"Birinci sayıyı girin: \")) + int(input(\"İkinci sayıyı girin: \")) } eder.'"
   ]
  },
  {
   "cell_type": "code",
   "execution_count": null,
   "metadata": {},
   "outputs": [],
   "source": []
  }
 ],
 "metadata": {
  "kernelspec": {
   "display_name": "Python 3",
   "language": "python",
   "name": "python3"
  },
  "language_info": {
   "codemirror_mode": {
    "name": "ipython",
    "version": 3
   },
   "file_extension": ".py",
   "mimetype": "text/x-python",
   "name": "python",
   "nbconvert_exporter": "python",
   "pygments_lexer": "ipython3",
   "version": "3.7.6"
  }
 },
 "nbformat": 4,
 "nbformat_minor": 2
}
