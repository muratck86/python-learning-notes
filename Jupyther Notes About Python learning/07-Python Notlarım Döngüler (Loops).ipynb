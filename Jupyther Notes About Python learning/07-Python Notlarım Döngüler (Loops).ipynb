{
 "cells": [
  {
   "cell_type": "markdown",
   "metadata": {},
   "source": [
    "# while Döngüsü"
   ]
  },
  {
   "cell_type": "raw",
   "metadata": {},
   "source": [
    "while sınama:\n",
    "    yapılacak işlem1\n",
    "    yapılacak işlem2\n",
    "    yapılacak işlem3\n",
    "    ...\n",
    "    ...\n",
    "#while sınama: Burada while kelimesinden sonra bir mantıksal sınama verilir ve mantıksal sınama cevabı True olduğu sürece işem 1 den başlar ve sona gelince her defasında başa sarar. Bunun sonsuza kadar böyle gitmesi istenmiyorsa yapılacak işlemler içinde while sınamasının sonucunu False yapacak bir takım işlemler tanımlanır ve bunun sonucunda döngü biter."
   ]
  },
  {
   "cell_type": "code",
   "execution_count": 6,
   "metadata": {},
   "outputs": [
    {
     "name": "stdout",
     "output_type": "stream",
     "text": [
      "1'den 10'a kadar sayılar:\n",
      "\n",
      "\n",
      "1\n",
      "2\n",
      "3\n",
      "4\n",
      "5\n",
      "6\n",
      "7\n",
      "8\n",
      "9\n",
      "10\n"
     ]
    }
   ],
   "source": [
    "print(\"1'den 10'a kadar sayılar:\\n\\n\")\n",
    "say=0\n",
    "while say<10:\n",
    "    say+=1\n",
    "    print(say)"
   ]
  },
  {
   "cell_type": "raw",
   "metadata": {},
   "source": [
    "while True:\n",
    "    Yapılacak işlem1\n",
    "    yapılacak işlem2\n",
    "    yapılacak işlem3\n",
    "    break\n",
    "Burada ise sınama verilmemiştir, işlemleri sırayla yapar ve sona geldiğinde tekrar başa dönerek tekrarlar, ta ki işlemlerden birinde \"break\" ile karşılaşana kadar."
   ]
  },
  {
   "cell_type": "code",
   "execution_count": 3,
   "metadata": {},
   "outputs": [
    {
     "name": "stdout",
     "output_type": "stream",
     "text": [
      "Nasılsınız, iyi misiniz?klaşd\n",
      "Nasılsınız, iyi misiniz?murat\n",
      "Nasılsınız, iyi misiniz?iyiyim\n",
      "Nasılsınız, iyi misiniz?kötüyüm\n",
      "Nasılsınız, iyi misiniz?ortayım\n",
      "Nasılsınız, iyi misiniz?q\n"
     ]
    }
   ],
   "source": [
    "while True:\n",
    "    soru = input(\"Nasılsınız, iyi misiniz?\")\n",
    "\n",
    "    #Eğer kullanıcı 'q' tuşuna basarsa...\n",
    "    if soru == \"q\":\n",
    "        break #döngüyü kır ve programdan çık.\n",
    "# Burada kullanıcı q girerse if bloğundaki işlem geçerli olacak ve döngü bitecek.\n",
    "# Kullanıcı q dışında bir karakter girdiği sürece aynı soruyu tekrar soracak."
   ]
  },
  {
   "cell_type": "code",
   "execution_count": 3,
   "metadata": {},
   "outputs": [
    {
     "name": "stdout",
     "output_type": "stream",
     "text": [
      "Bir parola belirleyin: \n",
      "parola bölümü boş geçilemez!\n",
      "Bir parola belirleyin: ah\n",
      "parola 8 karakterden uzun 3 karakterden kısa olmamalı\n",
      "Bir parola belirleyin: ahmetkaya\n",
      "parola 8 karakterden uzun 3 karakterden kısa olmamalı\n",
      "Bir parola belirleyin: ahmet\n",
      "Yeni parolanız ahmet\n"
     ]
    }
   ],
   "source": [
    "while True:\n",
    "    parola = input(\"Bir parola belirleyin: \")\n",
    "\n",
    "    if not parola:# yani parola alanı True değilse, yani parola \"\" ise, yani kullanıcı parola yazmadan entera basarsa\n",
    "        print(\"parola bölümü boş geçilemez!\")\n",
    "\n",
    "    elif len(parola) > 8 or len(parola) < 3:\n",
    "        print(\"parola 8 karakterden uzun 3 karakterden kısa olmamalı\")\n",
    "\n",
    "    else:\n",
    "        print(\"Yeni parolanız\", parola)\n",
    "        break"
   ]
  },
  {
   "cell_type": "code",
   "execution_count": 1,
   "metadata": {},
   "outputs": [
    {
     "name": "stdout",
     "output_type": "stream",
     "text": [
      "\n",
      "Basit bir hesap makinesi uygulaması.\n",
      "\n",
      "İşleçler:\n",
      "\n",
      "    +   toplama\n",
      "    -   çıkarma\n",
      "    *   çarpma\n",
      "    /   bölme\n",
      "\n",
      "Yapmak istediğiniz işlemi yazıp ENTER\n",
      "tuşuna basın. (Örneğin 23 ve 46 sayılarını\n",
      "çarpmak için 23 * 46 yazdıktan sonra\n",
      "ENTER tuşuna basın.)\n",
      "\n",
      "İşleminiz: q\n",
      "çıkılıyor...\n"
     ]
    }
   ],
   "source": [
    "izinli_karakterler = \"0123456789+-/*= \"\n",
    "\n",
    "print(\"\"\"\n",
    "Basit bir hesap makinesi uygulaması.\n",
    "\n",
    "İşleçler:\n",
    "\n",
    "    +   toplama\n",
    "    -   çıkarma\n",
    "    *   çarpma\n",
    "    /   bölme\n",
    "\n",
    "Yapmak istediğiniz işlemi yazıp ENTER\n",
    "tuşuna basın. (Örneğin 23 ve 46 sayılarını\n",
    "çarpmak için 23 * 46 yazdıktan sonra\n",
    "ENTER tuşuna basın.)\n",
    "\"\"\")\n",
    "\n",
    "while True:\n",
    "    islem = input(\"İşleminiz: \")\n",
    "    if islem == \"q\":\n",
    "        print(\"çıkılıyor...\")\n",
    "        break\n",
    "\n",
    "    for s in islem:\n",
    "        if s not in izinli_karakterler:\n",
    "            print(\"Neyin peşindesin?! Beni mi hackleyeceksin? sadece dört işlem yapılabilecek bir giriş yapılabilir!\")\n",
    "            quit()\n",
    "\n",
    "    sonuc = eval(islem)\n",
    "\n",
    "    print(sonuc)"
   ]
  },
  {
   "cell_type": "markdown",
   "metadata": {},
   "source": [
    "# for döngüsü"
   ]
  },
  {
   "cell_type": "raw",
   "metadata": {},
   "source": [
    "for başka_bir_değişken_adı in değişken:\n",
    "    yapılacak_işlem1\n",
    "    yapılacak_işlem2\n",
    "    ...\n",
    " \n",
    "# burada for döngüsü \"değişken\" içindeki her bir öğeyi sırayla \"başka_bir_değişken_adı\" adlı değişkene atayarak, bu \"başka_bir_değişken_adı\" adlı değişkenin her bir değeri için içinde bulunan işlemleri sırayla gerçekleştirir. Ta ki son \"değişken\" içindeki son öğe için de işlemler yapılana kadar."
   ]
  },
  {
   "cell_type": "code",
   "execution_count": 7,
   "metadata": {},
   "outputs": [
    {
     "name": "stdout",
     "output_type": "stream",
     "text": [
      "ş\n",
      "ç\n",
      "ö\n",
      "ğ\n",
      "ü\n",
      "İ\n",
      "ı\n"
     ]
    }
   ],
   "source": [
    "tr_harfler = \"şçöğüİı\"\n",
    "\n",
    "for harf in tr_harfler:\n",
    "    print(harf)\n",
    "#tr_harfler isimli değişken içindeki her bir karakteri sırayla harf adlı değişkene atayacak ve bu harf\n",
    "#adlı değişkenin her bir değeri için print(harf) fonksiyonunu çağıracak..."
   ]
  },
  {
   "cell_type": "markdown",
   "metadata": {},
   "source": [
    "String veya öğelerden oluşmayan veri tipleri üzerine döngü kurulamaz. Örneğin bir sayı üzerine döngü kurulamaz."
   ]
  },
  {
   "cell_type": "code",
   "execution_count": 1,
   "metadata": {},
   "outputs": [
    {
     "name": "stdout",
     "output_type": "stream",
     "text": [
      "Parolanız: aşkddh\n",
      "parolada Türkçe karakter kullanılamaz\n"
     ]
    }
   ],
   "source": [
    "tr_harfler = \"şçöğüİı\" #Türkçeye özgü karakterleri tanımladık\n",
    "\n",
    "parola = input(\"Parolanız: \") #kullanıcıdan parola değişkenine bir girdi istedik\n",
    "\n",
    "for karakter in parola: #parola değişkenindeki her bir karakter için,\n",
    "    if karakter in tr_harfler: #eğer sözkonusu karakter türkçeye özgü karakterlerin içinde varsa,\n",
    "        print(\"parolada Türkçe karakter kullanılamaz\") #bunu yazdır."
   ]
  },
  {
   "cell_type": "markdown",
   "metadata": {},
   "source": [
    "# Döngülerde kullandığımız yardımcı araçlar"
   ]
  },
  {
   "cell_type": "markdown",
   "metadata": {},
   "source": [
    "## range() fonksiyonu"
   ]
  },
  {
   "cell_type": "raw",
   "metadata": {},
   "source": [
    "range(ilk_sayı, son_sayı) #Dikkat: Burada ilk sayı dahil, son sayı dahil değildir.\n",
    "range(sayı) #Burada ilk sayı belirtilmemiş oluyor yani budurumda ilk sayı 0 alınır."
   ]
  },
  {
   "cell_type": "code",
   "execution_count": 1,
   "metadata": {},
   "outputs": [
    {
     "name": "stdout",
     "output_type": "stream",
     "text": [
      "parola belirleyin: as\n",
      "parola 8 karakterden uzun 3 karakterden kısa olmamalı\n",
      "parola belirleyin: 123456789\n",
      "parola 8 karakterden uzun 3 karakterden kısa olmamalı\n",
      "parola belirleyin: 12345678\n",
      "Yeni parolanız 12345678\n"
     ]
    }
   ],
   "source": [
    "while True:\n",
    "    parola = input(\"parola belirleyin: \")\n",
    "\n",
    "    if not parola:\n",
    "        print(\"parola bölümü boş geçilemez!\")\n",
    "\n",
    "    elif len(parola) in range(3, 9): #eğer parolanın uzunluğu 3 ile 8 karakter\n",
    "        #aralığında ise...\n",
    "        print(\"Yeni parolanız\", parola)\n",
    "        break\n",
    "\n",
    "    else:\n",
    "        print(\"parola 8 karakterden uzun 3 karakterden kısa olmamalı\")"
   ]
  },
  {
   "cell_type": "code",
   "execution_count": 4,
   "metadata": {},
   "outputs": [
    {
     "name": "stdout",
     "output_type": "stream",
     "text": [
      "parola belirleyin: sa\n",
      "parola 8 karakterden uzun 3 karakterden kısa olmamalı\n",
      "parola belirleyin: ahmetkaya\n",
      "parola 8 karakterden uzun 3 karakterden kısa olmamalı\n",
      "parola belirleyin: ca\n",
      "parolayı 3 kez yanlış girdiniz. Lütfen 30 dakika sonra tekrar deneyin!\n"
     ]
    }
   ],
   "source": [
    "for i in range(3):\n",
    "    parola = input(\"parola belirleyin: \")\n",
    "    if i == 2:\n",
    "        print(\"parolayı 3 kez yanlış girdiniz.\",\n",
    "        \"Lütfen 30 dakika sonra tekrar deneyin!\")\n",
    "\n",
    "    elif not parola:\n",
    "        print(\"parola bölümü boş geçilemez!\")\n",
    "\n",
    "    elif len(parola) in range(3, 8):\n",
    "        print(\"Yeni parolanız\", parola)\n",
    "        break\n",
    "\n",
    "    else:\n",
    "        print(\"parola 8 karakterden uzun 3 karakterden kısa olmamalı\")"
   ]
  },
  {
   "cell_type": "markdown",
   "metadata": {},
   "source": [
    "#### range(ilk sayı,son sayı,atlama miktarı)"
   ]
  },
  {
   "cell_type": "code",
   "execution_count": 5,
   "metadata": {},
   "outputs": [
    {
     "name": "stdout",
     "output_type": "stream",
     "text": [
      "range(1, 67, 2)\n"
     ]
    }
   ],
   "source": [
    "#range aralığındaki sayıları normal şekilde yazdıramayız:\n",
    "print(range(1,67,2))"
   ]
  },
  {
   "cell_type": "code",
   "execution_count": 6,
   "metadata": {},
   "outputs": [
    {
     "name": "stdout",
     "output_type": "stream",
     "text": [
      "range(2, 30, 3)\n"
     ]
    }
   ],
   "source": [
    "a=range(2,30,3)\n",
    "print(a)"
   ]
  },
  {
   "cell_type": "code",
   "execution_count": 13,
   "metadata": {},
   "outputs": [
    {
     "name": "stdout",
     "output_type": "stream",
     "text": [
      "2 5 8 11 14 17 20 23 26 29\n",
      "2 5 8 11 14 17 20 23 26 29\n",
      "30\t28\t26\t24\t22\t20\t18\t16\t14\t12\t10\t8\t6\t4\n",
      "2,5,8,11,14,17,20,23,26,29\n"
     ]
    }
   ],
   "source": [
    "# Ancak yıldızlı şeklinde yazdırabiliriz\n",
    "a=range(2,30,3)\n",
    "print(*range(2,30,3))\n",
    "print(*a)\n",
    "print(*range(30,2,-2),sep=\"\\t\")\n",
    "print(*a,sep=\",\")"
   ]
  },
  {
   "cell_type": "markdown",
   "metadata": {},
   "source": [
    "## pass deyimi"
   ]
  },
  {
   "cell_type": "code",
   "execution_count": 14,
   "metadata": {},
   "outputs": [
    {
     "name": "stdout",
     "output_type": "stream",
     "text": [
      "parola belirleyin: \n",
      "parola belirleyin: \n",
      "parola belirleyin: \n",
      "parola belirleyin: ah\n",
      "parola 8 karakterden uzun 3 karakterden kısa olmamalı\n",
      "parola belirleyin: \n",
      "parola belirleyin: ahmet\n",
      "Yeni parolanız ahmet\n"
     ]
    }
   ],
   "source": [
    "while True:\n",
    "    parola = input(\"parola belirleyin: \")\n",
    "\n",
    "    if not parola:\n",
    "        pass           #Eğer kullanıcı parola yerine birşey girmeden entera basarsa, görmezden gel, pas geç devam et\n",
    "\n",
    "    elif len(parola) in range(3, 8): #eğer parolanın uzunluğu 3 ile 8 karakter\n",
    "        #aralığında ise...\n",
    "        print(\"Yeni parolanız\", parola)\n",
    "        break\n",
    "\n",
    "    else:\n",
    "        print(\"parola 8 karakterden uzun 3 karakterden kısa olmamalı\")"
   ]
  },
  {
   "cell_type": "markdown",
   "metadata": {},
   "source": [
    "## break Deyimi"
   ]
  },
  {
   "cell_type": "raw",
   "metadata": {},
   "source": [
    "Her zaman döngü içinde kullanılır ve kullanıldığı yerde döngüyü bitirir."
   ]
  },
  {
   "cell_type": "markdown",
   "metadata": {},
   "source": [
    "## continue deyimi"
   ]
  },
  {
   "cell_type": "raw",
   "metadata": {},
   "source": [
    "Her zaman döngü içinde kullanılır ve kullanıldığı yerde kendinden sonraki adımları(mevcut turda) iptal edip,\n",
    "döngüyü bir sonraki tur için baştan başlatır."
   ]
  },
  {
   "cell_type": "markdown",
   "metadata": {},
   "source": [
    "### pass ile continue farkı"
   ]
  },
  {
   "cell_type": "raw",
   "metadata": {},
   "source": [
    "pass: kendi adımını es geçip sonraki adımlara devam etmesini sağlar.\n",
    "continue: kendinden sonraki adımları o döngü için es geçip döngüyü bir sonraki tur için yeniden başlatır."
   ]
  },
  {
   "cell_type": "code",
   "execution_count": 2,
   "metadata": {},
   "outputs": [
    {
     "name": "stdout",
     "output_type": "stream",
     "text": [
      "Bir sayı girin: e\n",
      "Bir sayı girin: asa\n",
      "Bir sayı girin: asdg\n",
      "En fazla üç haneli bir sayı girebilirsiniz.\n",
      "Bir sayı girin: a\n",
      "Bir sayı girin: iptal\n"
     ]
    }
   ],
   "source": [
    "while True:\n",
    "    s = input(\"Bir sayı girin: \")\n",
    "    if s == \"iptal\":\n",
    "        break\n",
    "\n",
    "    if len(s) <= 3:\n",
    "        continue\n",
    "\n",
    "    print(\"En fazla üç haneli bir sayı girebilirsiniz.\")"
   ]
  },
  {
   "cell_type": "code",
   "execution_count": 3,
   "metadata": {},
   "outputs": [
    {
     "name": "stdout",
     "output_type": "stream",
     "text": [
      "Bir sayı girin: a\n",
      "En fazla üç haneli bir sayı girebilirsiniz.\n",
      "Bir sayı girin: as\n",
      "En fazla üç haneli bir sayı girebilirsiniz.\n",
      "Bir sayı girin: asa\n",
      "En fazla üç haneli bir sayı girebilirsiniz.\n",
      "Bir sayı girin: iptal\n"
     ]
    }
   ],
   "source": [
    "while True:\n",
    "    s = input(\"Bir sayı girin: \")\n",
    "    if s == \"iptal\":\n",
    "        break\n",
    "\n",
    "    if len(s) <= 3:\n",
    "        pass\n",
    "\n",
    "    print(\"En fazla üç haneli bir sayı girebilirsiniz.\")"
   ]
  },
  {
   "cell_type": "code",
   "execution_count": 1,
   "metadata": {},
   "outputs": [
    {
     "name": "stdout",
     "output_type": "stream",
     "text": [
      "parola belirleyin: \n",
      "parola belirleyin: \n",
      "parola belirleyin: as\n",
      "parola 8 karakterden uzun 3 karakterden kısa olmamalı\n",
      "parola belirleyin: ahmetkaya\n",
      "parola 8 karakterden uzun 3 karakterden kısa olmamalı\n",
      "parola belirleyin: \n",
      "parola belirleyin: quit\n",
      "Yeni parolanız quit\n"
     ]
    }
   ],
   "source": [
    "while True:\n",
    "    parola = input(\"parola belirleyin: \")\n",
    "\n",
    "    if not parola:\n",
    "        continue\n",
    "\n",
    "    elif len(parola) in range(3, 8):\n",
    "        print(\"Yeni parolanız\", parola)\n",
    "        break\n",
    "\n",
    "    else:\n",
    "        print(\"parola 8 karakterden uzun 3 karakterden kısa olmamalı\")"
   ]
  },
  {
   "cell_type": "markdown",
   "metadata": {},
   "source": [
    "## Örnekler"
   ]
  },
  {
   "cell_type": "markdown",
   "metadata": {},
   "source": [
    "### İki metni karşılaştırıp birinde olup diğerinde olmayan karakterleri bulma"
   ]
  },
  {
   "cell_type": "code",
   "execution_count": 7,
   "metadata": {},
   "outputs": [
    {
     "name": "stdout",
     "output_type": "stream",
     "text": [
      "l\n",
      "p\n",
      "ğ\n"
     ]
    }
   ],
   "source": [
    "ilk_metin=\"wertfghjasdfghjyuıoasdfghjwertyuıfghjltyuıopğsdfgertyu\"\n",
    "ikinci_metin=\"wertyuıoasdfghjxcvbnmdfghjrtyuxcvbdfghertyuvbnmfghwertyu\"\n",
    "for s in ilk_metin: #ilk_metin'deki, 's' adını verdiğimiz bütün öğeler için\n",
    "    if not s in ikinci_metin: #eğer 's' adlı bu öğe ikinci_metin'de yoksa\n",
    "        print(s) #'s' adlı öğeyi ekrana bas"
   ]
  },
  {
   "cell_type": "code",
   "execution_count": 8,
   "metadata": {},
   "outputs": [
    {
     "name": "stdout",
     "output_type": "stream",
     "text": [
      "x\n",
      "c\n",
      "v\n",
      "b\n",
      "n\n",
      "m\n",
      "x\n",
      "c\n",
      "v\n",
      "b\n",
      "v\n",
      "b\n",
      "n\n",
      "m\n"
     ]
    }
   ],
   "source": [
    "ilk_metin=\"qwertfghjasdfghjyuıopğasdfghjkqwertyuıfghjklştyuıopğsdfgertyu\"\n",
    "ikinci_metin=\"wertyuıoasdfghjxcvbnmdfghjrtyuxcvbdfghertyuvbnmfghwertyu\"\n",
    "for s in ikinci_metin: \n",
    "    if not s in ilk_metin: \n",
    "        print(s) "
   ]
  },
  {
   "cell_type": "code",
   "execution_count": 10,
   "metadata": {},
   "outputs": [
    {
     "name": "stdout",
     "output_type": "stream",
     "text": [
      "x\n",
      "c\n",
      "v\n",
      "b\n",
      "n\n",
      "m\n"
     ]
    }
   ],
   "source": [
    "#karakterlerin tekrar etmemesini sağlamak için:\n",
    "fark = \"\" #isminde boş bir str oluşturduk.\n",
    "\n",
    "for s in ikinci_metin: #ikinci metindeki sırasıyla her harfin,\n",
    "    if not s in ilk_metin: #ilk metinde olmadığını tespit ettiysek,\n",
    "        if not s in fark: #eğer bu karakter fark değişkeninde yoksa,\n",
    "            fark += s #ekle\n",
    "print(*fark,sep=\"\\n\")"
   ]
  },
  {
   "cell_type": "markdown",
   "metadata": {},
   "source": [
    "### İki dosyadaki isimleri karşılaştırıp birinde olup diğerinde olmayanları bulma"
   ]
  },
  {
   "cell_type": "code",
   "execution_count": 12,
   "metadata": {},
   "outputs": [
    {
     "name": "stdout",
     "output_type": "stream",
     "text": [
      "Gürsel\n",
      "\n",
      "Sami\n",
      "\n",
      "Tülay\n",
      "\n",
      "Derya\n",
      "\n",
      "Tezcan\n",
      "\n",
      "Özkan\n",
      "\n",
      "Özcan\n",
      "\n",
      "Dilek\n"
     ]
    }
   ],
   "source": [
    "d1 = open(\"isimler1.txt\", encoding=\"utf-8\") # dosyayı açıyoruz, encoding parametresini Türkçe karakterlerde sıkıntı varsa kul.\n",
    "d1_satırlar = d1.readlines() # satırları okuyoruz\n",
    "\n",
    "d2 = open(\"isimler2.txt\", encoding=\"utf-8\")\n",
    "d2_satırlar = d2.readlines()\n",
    "\n",
    "for i in d2_satırlar:\n",
    "    if not i in d1_satırlar:\n",
    "        print(i)\n",
    "\n",
    "d1.close()\n",
    "d2.close()"
   ]
  },
  {
   "cell_type": "markdown",
   "metadata": {},
   "source": [
    "### Karakter Dizisindeki Karakterleri Sayma¶"
   ]
  },
  {
   "cell_type": "code",
   "execution_count": 15,
   "metadata": {},
   "outputs": [
    {
     "name": "stdout",
     "output_type": "stream",
     "text": [
      "Sorgulamak istediğiniz harf: a\n",
      "58\n"
     ]
    }
   ],
   "source": [
    "metin = \"\"\"Bu programlama dili Guido Van Rossum adlı Hollandalı bir programcı\n",
    "tarafından 90’lı yılların başında geliştirilmeye başlanmıştır. Çoğu insan,\n",
    "isminin Python olmasına aldanarak, bu programlama dilinin, adını piton\n",
    "yılanından aldığını düşünür. Ancak zannedildiğinin aksine bu programlama dilinin\n",
    "adı piton yılanından gelmez. Guido Van Rossum bu programlama dilini, The Monty\n",
    "Python adlı bir İngiliz komedi grubunun, Monty Python’s Flying Circus adlı\n",
    "gösterisinden esinlenerek adlandırmıştır. Ancak her ne kadar gerçek böyle olsa\n",
    "da, Python programlama dilinin pek çok yerde bir yılan figürü ile temsil\n",
    "edilmesi neredeyse bir gelenek halini almıştır.\"\"\"\n",
    "\n",
    "harf = input(\"Sorgulamak istediğiniz harf: \")\n",
    "\n",
    "sayı =0\n",
    "\n",
    "for s in metin:\n",
    "    if harf == s:\n",
    "        sayı +=1\n",
    "\n",
    "print(sayı)"
   ]
  },
  {
   "cell_type": "code",
   "execution_count": null,
   "metadata": {},
   "outputs": [],
   "source": []
  }
 ],
 "metadata": {
  "kernelspec": {
   "display_name": "Python 3",
   "language": "python",
   "name": "python3"
  },
  "language_info": {
   "codemirror_mode": {
    "name": "ipython",
    "version": 3
   },
   "file_extension": ".py",
   "mimetype": "text/x-python",
   "name": "python",
   "nbconvert_exporter": "python",
   "pygments_lexer": "ipython3",
   "version": "3.7.6"
  }
 },
 "nbformat": 4,
 "nbformat_minor": 2
}
