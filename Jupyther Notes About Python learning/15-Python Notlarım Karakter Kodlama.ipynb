{
 "cells": [
  {
   "cell_type": "markdown",
   "metadata": {},
   "source": [
    "# En yaygın kullanılan Kod çözücüler"
   ]
  },
  {
   "cell_type": "code",
   "execution_count": 1,
   "metadata": {},
   "outputs": [
    {
     "data": {
      "text/plain": [
       "'cp1254'"
      ]
     },
     "execution_count": 1,
     "metadata": {},
     "output_type": "execute_result"
    }
   ],
   "source": [
    "import locale\n",
    "locale.getpreferredencoding()"
   ]
  },
  {
   "cell_type": "markdown",
   "metadata": {},
   "source": [
    "#### Windowsta standart kod çözücü cp1254 olduğu için özellikle türkçe karakterler python'da dosya işlemlerinde sorun çıkarabilir. Bu nedenle open fonksiyonunu her zaman encoding parametrseinde utf 8 ile belirtmek gerekir."
   ]
  },
  {
   "cell_type": "raw",
   "metadata": {},
   "source": [
    "f = open(dosya, encoding='utf-8')"
   ]
  },
  {
   "cell_type": "markdown",
   "metadata": {},
   "source": [
    "Açmak istediğimiz dosya cp1254 ile kodlanmışsa biz bu dosyayı açarken cp1254 değil de başka bir kod çözücü belirtirsek karakterlerin görüntülenmesinde sıkıntı yaşarız ya da hata alabiliriz."
   ]
  },
  {
   "cell_type": "markdown",
   "metadata": {},
   "source": [
    "Açmak istediğimiz dosyanın karakterleri encoding metodunda belirttiğimiz çözücü ile çözülemiyorsa python hata verir ve programı sonlandırır. Ancak biz buna rağmen programın çökmeyip devam etmesini tercih etmek isteyebiliriz. Bubun için errors parametresini kullanırız. Bu parametrenin 4 farklı değeri vardır."
   ]
  },
  {
   "cell_type": "raw",
   "metadata": {},
   "source": [
    "\"strict\" değeri, varsayılan değerdir, karakter temsil edilemiyorsa hata verir ve çöker.\n",
    "'ignore' değeri, temsil edilemeyen karakteri görmezden gelir.\n",
    "'replace' değeri ile temsil edilemeyen karakterlerinyerine \"?\" koyulur\n",
    "'xmlcharrefreplace' değeri ile temsil edilemeyen karakterin xml karşılığı koyulur."
   ]
  },
  {
   "cell_type": "code",
   "execution_count": 2,
   "metadata": {},
   "outputs": [
    {
     "ename": "UnicodeEncodeError",
     "evalue": "'ascii' codec can't encode character '\\xfc' in position 4: ordinal not in range(128)",
     "output_type": "error",
     "traceback": [
      "\u001b[1;31m---------------------------------------------------------------------------\u001b[0m",
      "\u001b[1;31mUnicodeEncodeError\u001b[0m                        Traceback (most recent call last)",
      "\u001b[1;32m<ipython-input-2-8e74e1e4470f>\u001b[0m in \u001b[0;36m<module>\u001b[1;34m\u001b[0m\n\u001b[1;32m----> 1\u001b[1;33m \u001b[1;34m\"bu Türkçe bir cümledir.\"\u001b[0m\u001b[1;33m.\u001b[0m\u001b[0mencode\u001b[0m\u001b[1;33m(\u001b[0m\u001b[1;34m\"ascii\"\u001b[0m\u001b[1;33m,\u001b[0m \u001b[0merrors\u001b[0m\u001b[1;33m=\u001b[0m\u001b[1;34m\"strict\"\u001b[0m\u001b[1;33m)\u001b[0m\u001b[1;33m\u001b[0m\u001b[1;33m\u001b[0m\u001b[0m\n\u001b[0m",
      "\u001b[1;31mUnicodeEncodeError\u001b[0m: 'ascii' codec can't encode character '\\xfc' in position 4: ordinal not in range(128)"
     ]
    }
   ],
   "source": [
    "\"bu Türkçe bir cümledir.\".encode(\"ascii\", errors=\"strict\")"
   ]
  },
  {
   "cell_type": "code",
   "execution_count": 3,
   "metadata": {},
   "outputs": [
    {
     "ename": "UnicodeEncodeError",
     "evalue": "'ascii' codec can't encode character '\\xfc' in position 4: ordinal not in range(128)",
     "output_type": "error",
     "traceback": [
      "\u001b[1;31m---------------------------------------------------------------------------\u001b[0m",
      "\u001b[1;31mUnicodeEncodeError\u001b[0m                        Traceback (most recent call last)",
      "\u001b[1;32m<ipython-input-3-541250bdc343>\u001b[0m in \u001b[0;36m<module>\u001b[1;34m\u001b[0m\n\u001b[1;32m----> 1\u001b[1;33m \u001b[1;34m\"bu Türkçe bir cümledir.\"\u001b[0m\u001b[1;33m.\u001b[0m\u001b[0mencode\u001b[0m\u001b[1;33m(\u001b[0m\u001b[1;34m\"ascii\"\u001b[0m\u001b[1;33m)\u001b[0m\u001b[1;33m\u001b[0m\u001b[1;33m\u001b[0m\u001b[0m\n\u001b[0m",
      "\u001b[1;31mUnicodeEncodeError\u001b[0m: 'ascii' codec can't encode character '\\xfc' in position 4: ordinal not in range(128)"
     ]
    }
   ],
   "source": [
    "\"bu Türkçe bir cümledir.\".encode(\"ascii\")"
   ]
  },
  {
   "cell_type": "code",
   "execution_count": 19,
   "metadata": {},
   "outputs": [
    {
     "data": {
      "text/plain": [
       "b'bu Trke bir cmledir.'"
      ]
     },
     "execution_count": 19,
     "metadata": {},
     "output_type": "execute_result"
    }
   ],
   "source": [
    "\"bu Türkçe bir cümledir.\".encode(\"ascii\", errors=\"ignore\")"
   ]
  },
  {
   "cell_type": "code",
   "execution_count": 5,
   "metadata": {},
   "outputs": [
    {
     "data": {
      "text/plain": [
       "b'bu T?rk?e bir c?mledir.'"
      ]
     },
     "execution_count": 5,
     "metadata": {},
     "output_type": "execute_result"
    }
   ],
   "source": [
    "\"bu Türkçe bir cümledir.\".encode(\"ascii\", errors=\"replace\")"
   ]
  },
  {
   "cell_type": "code",
   "execution_count": 7,
   "metadata": {},
   "outputs": [
    {
     "data": {
      "text/plain": [
       "b'bu T&#252;rk&#231;e bir c&#252;mledir.'"
      ]
     },
     "execution_count": 7,
     "metadata": {},
     "output_type": "execute_result"
    }
   ],
   "source": [
    "\"bu Türkçe bir cümledir.\".encode(\"ascii\", errors=\"xmlcharrefreplace\")"
   ]
  },
  {
   "cell_type": "markdown",
   "metadata": {},
   "source": [
    "### dosya açarken de aynı şey geçerlidir."
   ]
  },
  {
   "cell_type": "code",
   "execution_count": 25,
   "metadata": {},
   "outputs": [
    {
     "name": "stdout",
     "output_type": "stream",
     "text": [
      "Satlm Satar: 550 TL\n",
      "Murat Can Kurt: 1500 TL\n",
      "Abuzer Kadayf:\t*2 10500 TL\n",
      "Hamit Kaya: 2250 TL\n",
      "Telat Tasdemir: 5000 TL\n",
      "Yusuf Arpak: 3500 TL\n",
      "Ali Gms: 5000 TL\n",
      "Seyhan Yildiz: 4250 TL\n",
      "Yusuf Davaz: 2500\n",
      "deneme: 2500\n",
      "Cuma Kaya: 1500 TL\n",
      "Murat Can Kurt: 1500 TL\n",
      "Hamit Kaya: 2250 TL\n",
      "Telat Tasdemir: 5000 TL\n",
      "Yusuf Arpak: 3500 TL\n",
      "Ali Gms: 5000 TL\n",
      "Seyhan Yildiz: 4250 TL\n",
      "Yusuf Davaz: 2500\n",
      "deneme: 2500\n",
      "\n"
     ]
    }
   ],
   "source": [
    "f = open(\"tahsilatlar.txt\", encoding='utf-8', errors='ignore')\n",
    "print(f.read())\n",
    "f.close()"
   ]
  },
  {
   "cell_type": "code",
   "execution_count": 26,
   "metadata": {},
   "outputs": [
    {
     "name": "stdout",
     "output_type": "stream",
     "text": [
      "Sat�lm�� Satar: 550 TL\n",
      "Murat Can Kurt: 1500 TL\n",
      "Abuzer Kaday�f:\t*2 10500 TL\n",
      "Hamit Kaya: 2250 TL\n",
      "Telat Tasdemir: 5000 TL\n",
      "Yusuf Arpak: 3500 TL\n",
      "Ali G�m�s: 5000 TL\n",
      "Seyhan Yildiz: 4250 TL\n",
      "Yusuf Davaz: 2500\n",
      "deneme: 2500\n",
      "Cuma Kaya: 1500 TL\n",
      "Murat Can Kurt: 1500 TL\n",
      "Hamit Kaya: 2250 TL\n",
      "Telat Tasdemir: 5000 TL\n",
      "Yusuf Arpak: 3500 TL\n",
      "Ali G�m�s: 5000 TL\n",
      "Seyhan Yildiz: 4250 TL\n",
      "Yusuf Davaz: 2500\n",
      "deneme: 2500\n",
      "\n"
     ]
    }
   ],
   "source": [
    "f = open(\"tahsilatlar.txt\", encoding='utf-8', errors='replace')\n",
    "print(f.read())\n",
    "f.close()"
   ]
  },
  {
   "cell_type": "markdown",
   "metadata": {},
   "source": [
    "open() fonksionunun errors parametresi xmlcharrefreplace değerini kabul etmez"
   ]
  },
  {
   "cell_type": "code",
   "execution_count": null,
   "metadata": {},
   "outputs": [],
   "source": []
  }
 ],
 "metadata": {
  "kernelspec": {
   "display_name": "Python 3",
   "language": "python",
   "name": "python3"
  },
  "language_info": {
   "codemirror_mode": {
    "name": "ipython",
    "version": 3
   },
   "file_extension": ".py",
   "mimetype": "text/x-python",
   "name": "python",
   "nbconvert_exporter": "python",
   "pygments_lexer": "ipython3",
   "version": "3.7.6"
  }
 },
 "nbformat": 4,
 "nbformat_minor": 2
}
