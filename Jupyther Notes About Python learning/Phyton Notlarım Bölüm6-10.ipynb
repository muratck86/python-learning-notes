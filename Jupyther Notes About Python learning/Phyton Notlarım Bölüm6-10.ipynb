{
 "cells": [
  {
   "cell_type": "markdown",
   "metadata": {},
   "source": [
    "# Fonksiyonlar"
   ]
  },
  {
   "cell_type": "markdown",
   "metadata": {},
   "source": [
    "## Metodlar"
   ]
  },
  {
   "cell_type": "raw",
   "metadata": {},
   "source": [
    "Phytonda veri tiplerini oluşturan her bir değişken, yani tanımaldığımız değişkenlerin her biri birer object olarak sınıflandırılıyor. Metodlar ise bu objelerin sonuna eklenerek objelerle ilgili çeşitli işlemler yapmayı sağlayan özellikler.\n",
    "Daha önceki çalışmalarda kullandığımız; .format(), .append(), .pop() gibi -object.method(değerler(opsiyonel))- şeklinde kullanığımız özelliklerin hepsi birer metoddur. "
   ]
  },
  {
   "cell_type": "code",
   "execution_count": 1,
   "metadata": {},
   "outputs": [
    {
     "name": "stdout",
     "output_type": "stream",
     "text": [
      "[1, 'murat', 2, 3, 4, 5]\n"
     ]
    }
   ],
   "source": [
    "liste=[1,2,3,4,5]\n",
    "liste.insert(1,\"murat\")\n",
    "#aşağıda görüldüğü üzere listeye 1 indexinden sonra \"murat\" elemanını ekliyor.\n",
    "print(liste)"
   ]
  },
  {
   "cell_type": "code",
   "execution_count": 2,
   "metadata": {},
   "outputs": [
    {
     "data": {
      "text/plain": [
       "6"
      ]
     },
     "execution_count": 2,
     "metadata": {},
     "output_type": "execute_result"
    }
   ],
   "source": [
    "liste=[1,2,3,4,5,6]\n",
    "liste.pop()"
   ]
  },
  {
   "cell_type": "raw",
   "metadata": {},
   "source": [
    "Bir objenin metotlarını görmek için tanımlanmış olan objenin sonuna \".\" koyup \"tab\" tuşuna basarsak o obje türüne ait metodları listeleyecektir. Ayrıca metodlarla ilgili yardım almak için help(obje.metod) yazabiliriz."
   ]
  },
  {
   "cell_type": "code",
   "execution_count": 3,
   "metadata": {},
   "outputs": [
    {
     "name": "stdout",
     "output_type": "stream",
     "text": [
      "Help on built-in function insert:\n",
      "\n",
      "insert(index, object, /) method of builtins.list instance\n",
      "    Insert object before index.\n",
      "\n"
     ]
    }
   ],
   "source": [
    "help(liste.insert)"
   ]
  },
  {
   "cell_type": "markdown",
   "metadata": {},
   "source": [
    "## Fonksiyonlar"
   ]
  },
  {
   "cell_type": "raw",
   "metadata": {},
   "source": [
    "Fonksiyonlar programlamada belli işlevleri olan ve tekrar tekrar kullandığımız yapılardır. Örneğin buraya kadar kullandığımız input() , print(), type() gibi işlevler birer fonksiyondur. Fonksiyonlar bir defa tanımlanır ve tekrar tekrar kullanılırlar.\n",
    "Eğer fonksiyonlar, phyton geliştiricileri tarafından tanımlanmış, zaten var olan hazır fonksiyonlarsa (print(), input() gibi), bunlara gömülü fonksiyon (built-in function) denir.\n",
    "Kendimiz de fonksiyon tanımlayabiliriz. Bu tip kendimiz tanımladığımız fonksiyonlara ise user-defined function denir."
   ]
  },
  {
   "cell_type": "raw",
   "metadata": {},
   "source": [
    "Fonksiyonlar def (define) komutu kullanılarak tanımlanır:\n",
    "tanımlayacağımız fonksiyonun adı \"meyve_sikacagi\" olsun,\n",
    "def meyve_sikacagi(parametre1,parametre2,....(opsiyonel)):\n",
    "    Fonksiyon bloğu (burada fonksiyonun yapacağı işlemler tanımlanır.)\n",
    "    Opsiyonel olarak dönüş değeri tanımlanır."
   ]
  },
  {
   "cell_type": "code",
   "execution_count": 3,
   "metadata": {},
   "outputs": [],
   "source": [
    "#selamla isminde parametresiz bir fonksiyon tanımlayalım\n",
    "def selamla():\n",
    "    print(\"Merhaba Dünya\")\n",
    "    print(\"phytondan selamlar\")"
   ]
  },
  {
   "cell_type": "raw",
   "metadata": {},
   "source": [
    "Fonksiyonumuzu tanımladık, ancak kullanmadığımız sürece fonksiyon hiçbir iş yapmaz.\n",
    "Programlamada bir fonksiyonu çalıştırmaya fonksiyon çağırma (function call), denir."
   ]
  },
  {
   "cell_type": "code",
   "execution_count": 5,
   "metadata": {},
   "outputs": [
    {
     "name": "stdout",
     "output_type": "stream",
     "text": [
      "Merhaba Dünya\n",
      "phytondan selamlar\n"
     ]
    }
   ],
   "source": [
    "selamla()"
   ]
  },
  {
   "cell_type": "code",
   "execution_count": 7,
   "metadata": {},
   "outputs": [
    {
     "ename": "TypeError",
     "evalue": "selamla() takes 0 positional arguments but 1 was given",
     "output_type": "error",
     "traceback": [
      "\u001b[1;31m---------------------------------------------------------------------------\u001b[0m",
      "\u001b[1;31mTypeError\u001b[0m                                 Traceback (most recent call last)",
      "\u001b[1;32m<ipython-input-7-4e30649ed8fc>\u001b[0m in \u001b[0;36m<module>\u001b[1;34m\u001b[0m\n\u001b[0;32m      1\u001b[0m \u001b[1;31m#bu fonksiyona parametre argümanı girecek olursak:\u001b[0m\u001b[1;33m\u001b[0m\u001b[1;33m\u001b[0m\u001b[1;33m\u001b[0m\u001b[0m\n\u001b[1;32m----> 2\u001b[1;33m \u001b[0mselamla\u001b[0m\u001b[1;33m(\u001b[0m\u001b[1;34m\"ahmet\"\u001b[0m\u001b[1;33m)\u001b[0m\u001b[1;33m\u001b[0m\u001b[1;33m\u001b[0m\u001b[0m\n\u001b[0m\u001b[0;32m      3\u001b[0m \u001b[1;31m#görüleceği üzere bu fonksiyon 0 adet argüman alabilir ama 1 adet argüman girilmiş şeklinde bir hata\u001b[0m\u001b[1;33m\u001b[0m\u001b[1;33m\u001b[0m\u001b[1;33m\u001b[0m\u001b[0m\n",
      "\u001b[1;31mTypeError\u001b[0m: selamla() takes 0 positional arguments but 1 was given"
     ]
    }
   ],
   "source": [
    "#bu fonksiyona parametre argümanı girecek olursak:\n",
    "selamla(\"ahmet\")\n",
    "#görüleceği üzere bu fonksiyon 0 adet argüman alabilir ama 1 adet argüman girilmiş şeklinde bir hata"
   ]
  },
  {
   "cell_type": "code",
   "execution_count": 9,
   "metadata": {},
   "outputs": [],
   "source": [
    "#argüman alan bir fonksiyon tanımlayalım.\n",
    "def selamla(isim):\n",
    "    print(\"Merhaba\",isim,\"\\nNasılsın?\")"
   ]
  },
  {
   "cell_type": "code",
   "execution_count": 13,
   "metadata": {},
   "outputs": [
    {
     "name": "stdout",
     "output_type": "stream",
     "text": [
      "Merhaba Murat \n",
      "Nasılsın?\n"
     ]
    }
   ],
   "source": [
    "selamla(\"Murat\")"
   ]
  },
  {
   "cell_type": "code",
   "execution_count": 14,
   "metadata": {},
   "outputs": [
    {
     "name": "stdout",
     "output_type": "stream",
     "text": [
      "Merhaba Murat \n",
      "Nasılsın?\n",
      "Merhaba Murat \n",
      "Nasılsın?\n",
      "Merhaba Murat \n",
      "Nasılsın?\n",
      "Merhaba Murat \n",
      "Nasılsın?\n",
      "Merhaba Murat \n",
      "Nasılsın?\n"
     ]
    }
   ],
   "source": [
    "#fonksiyonlarımızı istediğimiz yerde istediğimiz kadar çağırabiliriz. Bu bizi tekrar tekrar kod yazmaktan kurtaracaktır.\n",
    "selamla(\"Murat\")\n",
    "selamla(\"Murat\")\n",
    "selamla(\"Murat\")\n",
    "selamla(\"Murat\")\n",
    "selamla(\"Murat\")"
   ]
  },
  {
   "cell_type": "raw",
   "metadata": {},
   "source": [
    "Yukarıdaki örnekte gördüğümüz fonksiyonumuzda \"isim\" olarak tanımladığımız değişkene parametre diyoruz.\n",
    "Yine selamla() fonksiyonumuza ait isim parametremize tanımladığımız \"Murat\" değeri de argüman oluyor."
   ]
  },
  {
   "cell_type": "code",
   "execution_count": 15,
   "metadata": {},
   "outputs": [
    {
     "name": "stdout",
     "output_type": "stream",
     "text": [
      "Toplam = 12\n"
     ]
    }
   ],
   "source": [
    "#girilen üç sayıyı toplayan bir fonksiyon tanımlayıp çağıralım\n",
    "def topla(a,b,c):\n",
    "    print(\"Toplam =\",a+b+c)\n",
    "    #fonksiyonumuzu tanımladık, şimdi çağıralım\n",
    "topla(3,4,5)"
   ]
  },
  {
   "cell_type": "code",
   "execution_count": 16,
   "metadata": {},
   "outputs": [
    {
     "name": "stdout",
     "output_type": "stream",
     "text": [
      "Toplam = murat can kurt\n"
     ]
    }
   ],
   "source": [
    "topla(\"murat \",\"can \",\"kurt\")"
   ]
  },
  {
   "cell_type": "code",
   "execution_count": 17,
   "metadata": {},
   "outputs": [
    {
     "name": "stdout",
     "output_type": "stream",
     "text": [
      "Toplam = 90\n"
     ]
    }
   ],
   "source": [
    "topla(10,30,50)"
   ]
  },
  {
   "cell_type": "code",
   "execution_count": 46,
   "metadata": {},
   "outputs": [],
   "source": [
    "#şimdi de faktöriyel hesabı yapan bir fonksiyon yazalım\n",
    "def faktoriyel(a):\n",
    "    fakt=1\n",
    "    b=a\n",
    "    if a==0:\n",
    "        print(\"{}! = {}\".format(b,fakt))\n",
    "    else:\n",
    "        while a>=1:\n",
    "            fakt*=a\n",
    "            a-=1\n",
    "        print(\"{}! = {}\".format(b,fakt))"
   ]
  },
  {
   "cell_type": "code",
   "execution_count": 41,
   "metadata": {},
   "outputs": [
    {
     "name": "stdout",
     "output_type": "stream",
     "text": [
      "0! = 1\n",
      "0! = 1\n"
     ]
    }
   ],
   "source": [
    "faktoriyel(0)"
   ]
  },
  {
   "cell_type": "code",
   "execution_count": 50,
   "metadata": {},
   "outputs": [
    {
     "name": "stdout",
     "output_type": "stream",
     "text": [
      "1! = 1\n"
     ]
    }
   ],
   "source": [
    "faktoriyel(1)"
   ]
  },
  {
   "cell_type": "code",
   "execution_count": 49,
   "metadata": {},
   "outputs": [
    {
     "name": "stdout",
     "output_type": "stream",
     "text": [
      "2! = 2\n"
     ]
    }
   ],
   "source": [
    "faktoriyel(2)"
   ]
  },
  {
   "cell_type": "code",
   "execution_count": 48,
   "metadata": {},
   "outputs": [
    {
     "name": "stdout",
     "output_type": "stream",
     "text": [
      "3! = 6\n"
     ]
    }
   ],
   "source": [
    "faktoriyel(3)"
   ]
  },
  {
   "cell_type": "code",
   "execution_count": 47,
   "metadata": {},
   "outputs": [
    {
     "name": "stdout",
     "output_type": "stream",
     "text": [
      "5! = 120\n"
     ]
    }
   ],
   "source": [
    "faktoriyel(5)"
   ]
  },
  {
   "cell_type": "markdown",
   "metadata": {},
   "source": [
    "## Fonksiyonlarda Return"
   ]
  },
  {
   "cell_type": "raw",
   "metadata": {},
   "source": [
    "return ifadesi fonksiyonların değer döndürmesini sağlayan ifadedir. Bu ifade olmadan fonksiyonların ürettikleri değerler boşa gider. \n",
    "Fonksiyon bir meyve sıkacağı gibi düşünürsek, parametreler sıkmak istediğimiz meyve çeşidi olurdu. return olmadan fonksiyon, sıktığı meyve suyunu boşa akıtan bir meyve sıkacağı gibidir. Meyve suyunun içine akacağı bir kap koymamız gerekir :)\n",
    "Böylece fonksiyonlarımızı başka fonksiyonlarda kullanabilir, değişkenlere çağırabiliriz.."
   ]
  },
  {
   "cell_type": "code",
   "execution_count": 7,
   "metadata": {},
   "outputs": [],
   "source": [
    "def toplama(a,b,c):#birinci fonksiyonu tanımladık girilecek 3 sayının toplamını yazdıracak fonksiyon.\n",
    "    toplam=a+b+c\n",
    "    print(\"Toplam:\",toplam)\n",
    "def ikiylecarp(sayi): #ikinci fonksiyonu tanımladık girilecek sayının iki ile çarpımını yazdıracak fonksiyon.\n",
    "    print(\"Çarpım:\",sayi*2)"
   ]
  },
  {
   "cell_type": "code",
   "execution_count": 8,
   "metadata": {},
   "outputs": [
    {
     "name": "stdout",
     "output_type": "stream",
     "text": [
      "Toplam: 27\n"
     ]
    }
   ],
   "source": [
    "toplama(12,10,5)"
   ]
  },
  {
   "cell_type": "code",
   "execution_count": 4,
   "metadata": {},
   "outputs": [
    {
     "name": "stdout",
     "output_type": "stream",
     "text": [
      "Çarpım: 10\n"
     ]
    }
   ],
   "source": [
    "ikiylecarp(5)"
   ]
  },
  {
   "cell_type": "code",
   "execution_count": 5,
   "metadata": {},
   "outputs": [
    {
     "name": "stdout",
     "output_type": "stream",
     "text": [
      "Çarpım: 10\n"
     ]
    }
   ],
   "source": [
    "ornek=5\n",
    "ikiylecarp(ornek)"
   ]
  },
  {
   "cell_type": "code",
   "execution_count": 9,
   "metadata": {},
   "outputs": [
    {
     "name": "stdout",
     "output_type": "stream",
     "text": [
      "Toplam: 35\n"
     ]
    },
    {
     "ename": "TypeError",
     "evalue": "unsupported operand type(s) for *: 'NoneType' and 'int'",
     "output_type": "error",
     "traceback": [
      "\u001b[1;31m---------------------------------------------------------------------------\u001b[0m",
      "\u001b[1;31mTypeError\u001b[0m                                 Traceback (most recent call last)",
      "\u001b[1;32m<ipython-input-9-dd86b842e3fb>\u001b[0m in \u001b[0;36m<module>\u001b[1;34m\u001b[0m\n\u001b[0;32m      1\u001b[0m \u001b[1;31m#peki ikiylecarp fonksiyonuna toplama fonksiyonunun sonucunu cağırsak ne olur?\u001b[0m\u001b[1;33m\u001b[0m\u001b[1;33m\u001b[0m\u001b[1;33m\u001b[0m\u001b[0m\n\u001b[1;32m----> 2\u001b[1;33m \u001b[0mikiylecarp\u001b[0m\u001b[1;33m(\u001b[0m\u001b[0mtoplama\u001b[0m\u001b[1;33m(\u001b[0m\u001b[1;36m10\u001b[0m\u001b[1;33m,\u001b[0m\u001b[1;36m5\u001b[0m\u001b[1;33m,\u001b[0m\u001b[1;36m20\u001b[0m\u001b[1;33m)\u001b[0m\u001b[1;33m)\u001b[0m\u001b[1;33m\u001b[0m\u001b[1;33m\u001b[0m\u001b[0m\n\u001b[0m",
      "\u001b[1;32m<ipython-input-7-297a3924fb2c>\u001b[0m in \u001b[0;36mikiylecarp\u001b[1;34m(sayi)\u001b[0m\n\u001b[0;32m      3\u001b[0m     \u001b[0mprint\u001b[0m\u001b[1;33m(\u001b[0m\u001b[1;34m\"Toplam:\"\u001b[0m\u001b[1;33m,\u001b[0m\u001b[0mtoplam\u001b[0m\u001b[1;33m)\u001b[0m\u001b[1;33m\u001b[0m\u001b[1;33m\u001b[0m\u001b[0m\n\u001b[0;32m      4\u001b[0m \u001b[1;32mdef\u001b[0m \u001b[0mikiylecarp\u001b[0m\u001b[1;33m(\u001b[0m\u001b[0msayi\u001b[0m\u001b[1;33m)\u001b[0m\u001b[1;33m:\u001b[0m \u001b[1;31m#ikinci fonksiyonu tanımladık girilecek sayının iki ile çarpımını yazdıracak fonksiyon.\u001b[0m\u001b[1;33m\u001b[0m\u001b[1;33m\u001b[0m\u001b[0m\n\u001b[1;32m----> 5\u001b[1;33m     \u001b[0mprint\u001b[0m\u001b[1;33m(\u001b[0m\u001b[1;34m\"Çarpım:\"\u001b[0m\u001b[1;33m,\u001b[0m\u001b[0msayi\u001b[0m\u001b[1;33m*\u001b[0m\u001b[1;36m2\u001b[0m\u001b[1;33m)\u001b[0m\u001b[1;33m\u001b[0m\u001b[1;33m\u001b[0m\u001b[0m\n\u001b[0m",
      "\u001b[1;31mTypeError\u001b[0m: unsupported operand type(s) for *: 'NoneType' and 'int'"
     ]
    }
   ],
   "source": [
    "#peki ikiylecarp fonksiyonuna toplama fonksiyonunun sonucunu cağırsak ne olur?\n",
    "ikiylecarp(toplama(10,5,20))"
   ]
  },
  {
   "cell_type": "raw",
   "metadata": {},
   "source": [
    "görüldüğü gibi ik fonksiyon çalışıyor, fonksiyon içinde print komutu olduğu için işlem sonucunu yazdırıyor olsa da ikiylecarp fonksiyonuna değer döndürmüyor..."
   ]
  },
  {
   "cell_type": "code",
   "execution_count": 10,
   "metadata": {},
   "outputs": [
    {
     "name": "stdout",
     "output_type": "stream",
     "text": [
      "Toplam: 12\n"
     ]
    },
    {
     "ename": "NameError",
     "evalue": "name 'toplam' is not defined",
     "output_type": "error",
     "traceback": [
      "\u001b[1;31m---------------------------------------------------------------------------\u001b[0m",
      "\u001b[1;31mNameError\u001b[0m                                 Traceback (most recent call last)",
      "\u001b[1;32m<ipython-input-10-e9ed71cabd01>\u001b[0m in \u001b[0;36m<module>\u001b[1;34m\u001b[0m\n\u001b[0;32m      1\u001b[0m \u001b[0mtoplama\u001b[0m\u001b[1;33m(\u001b[0m\u001b[1;36m3\u001b[0m\u001b[1;33m,\u001b[0m\u001b[1;36m4\u001b[0m\u001b[1;33m,\u001b[0m\u001b[1;36m5\u001b[0m\u001b[1;33m)\u001b[0m\u001b[1;33m\u001b[0m\u001b[1;33m\u001b[0m\u001b[0m\n\u001b[1;32m----> 2\u001b[1;33m \u001b[0mikiylecarp\u001b[0m\u001b[1;33m(\u001b[0m\u001b[0mtoplam\u001b[0m\u001b[1;33m)\u001b[0m\u001b[1;33m\u001b[0m\u001b[1;33m\u001b[0m\u001b[0m\n\u001b[0m",
      "\u001b[1;31mNameError\u001b[0m: name 'toplam' is not defined"
     ]
    }
   ],
   "source": [
    "toplama(3,4,5)\n",
    "ikiylecarp(toplam) #birinci fonskiyon içinde tanımladığımız toplam değişkenini çağırsak?"
   ]
  },
  {
   "cell_type": "raw",
   "metadata": {},
   "source": [
    "toplam tanımlı değil."
   ]
  },
  {
   "cell_type": "code",
   "execution_count": 11,
   "metadata": {},
   "outputs": [
    {
     "name": "stdout",
     "output_type": "stream",
     "text": [
      "Toplam: 12\n"
     ]
    },
    {
     "ename": "TypeError",
     "evalue": "unsupported operand type(s) for *: 'NoneType' and 'int'",
     "output_type": "error",
     "traceback": [
      "\u001b[1;31m---------------------------------------------------------------------------\u001b[0m",
      "\u001b[1;31mTypeError\u001b[0m                                 Traceback (most recent call last)",
      "\u001b[1;32m<ipython-input-11-b12d172c9904>\u001b[0m in \u001b[0;36m<module>\u001b[1;34m\u001b[0m\n\u001b[0;32m      1\u001b[0m \u001b[0msonuc\u001b[0m\u001b[1;33m=\u001b[0m\u001b[0mtoplama\u001b[0m\u001b[1;33m(\u001b[0m\u001b[1;36m3\u001b[0m\u001b[1;33m,\u001b[0m\u001b[1;36m4\u001b[0m\u001b[1;33m,\u001b[0m\u001b[1;36m5\u001b[0m\u001b[1;33m)\u001b[0m\u001b[1;33m\u001b[0m\u001b[1;33m\u001b[0m\u001b[0m\n\u001b[1;32m----> 2\u001b[1;33m \u001b[0mikiylecarp\u001b[0m\u001b[1;33m(\u001b[0m\u001b[0msonuc\u001b[0m\u001b[1;33m)\u001b[0m\u001b[1;33m\u001b[0m\u001b[1;33m\u001b[0m\u001b[0m\n\u001b[0m",
      "\u001b[1;32m<ipython-input-7-297a3924fb2c>\u001b[0m in \u001b[0;36mikiylecarp\u001b[1;34m(sayi)\u001b[0m\n\u001b[0;32m      3\u001b[0m     \u001b[0mprint\u001b[0m\u001b[1;33m(\u001b[0m\u001b[1;34m\"Toplam:\"\u001b[0m\u001b[1;33m,\u001b[0m\u001b[0mtoplam\u001b[0m\u001b[1;33m)\u001b[0m\u001b[1;33m\u001b[0m\u001b[1;33m\u001b[0m\u001b[0m\n\u001b[0;32m      4\u001b[0m \u001b[1;32mdef\u001b[0m \u001b[0mikiylecarp\u001b[0m\u001b[1;33m(\u001b[0m\u001b[0msayi\u001b[0m\u001b[1;33m)\u001b[0m\u001b[1;33m:\u001b[0m \u001b[1;31m#ikinci fonksiyonu tanımladık girilecek sayının iki ile çarpımını yazdıracak fonksiyon.\u001b[0m\u001b[1;33m\u001b[0m\u001b[1;33m\u001b[0m\u001b[0m\n\u001b[1;32m----> 5\u001b[1;33m     \u001b[0mprint\u001b[0m\u001b[1;33m(\u001b[0m\u001b[1;34m\"Çarpım:\"\u001b[0m\u001b[1;33m,\u001b[0m\u001b[0msayi\u001b[0m\u001b[1;33m*\u001b[0m\u001b[1;36m2\u001b[0m\u001b[1;33m)\u001b[0m\u001b[1;33m\u001b[0m\u001b[1;33m\u001b[0m\u001b[0m\n\u001b[0m",
      "\u001b[1;31mTypeError\u001b[0m: unsupported operand type(s) for *: 'NoneType' and 'int'"
     ]
    }
   ],
   "source": [
    "sonuc=toplama(3,4,5)\n",
    "ikiylecarp(sonuc)"
   ]
  },
  {
   "cell_type": "code",
   "execution_count": 12,
   "metadata": {},
   "outputs": [
    {
     "ename": "SyntaxError",
     "evalue": "invalid syntax (<ipython-input-12-903e4fc5e576>, line 1)",
     "output_type": "error",
     "traceback": [
      "\u001b[1;36m  File \u001b[1;32m\"<ipython-input-12-903e4fc5e576>\"\u001b[1;36m, line \u001b[1;32m1\u001b[0m\n\u001b[1;33m    NoneType ve int arasında işlem yapmak için desteklenmeyen operatör...\u001b[0m\n\u001b[1;37m              ^\u001b[0m\n\u001b[1;31mSyntaxError\u001b[0m\u001b[1;31m:\u001b[0m invalid syntax\n"
     ]
    }
   ],
   "source": [
    "NoneType ve int arasında işlem yapmak için desteklenmeyen operatör...\n",
    "NoneType dediği ikinci fonksiyondaki sayı değişkeninin değeri, yani sonuc "
   ]
  },
  {
   "cell_type": "code",
   "execution_count": 13,
   "metadata": {},
   "outputs": [
    {
     "data": {
      "text/plain": [
       "NoneType"
      ]
     },
     "execution_count": 13,
     "metadata": {},
     "output_type": "execute_result"
    }
   ],
   "source": [
    "type(sonuc)"
   ]
  },
  {
   "cell_type": "code",
   "execution_count": 14,
   "metadata": {},
   "outputs": [],
   "source": [
    "def toplama(a,b,c):\n",
    "    return a+b+c #return kullanımı\n",
    "def ikiylecarp(sayi):\n",
    "    return sayi*2"
   ]
  },
  {
   "cell_type": "code",
   "execution_count": 18,
   "metadata": {},
   "outputs": [
    {
     "name": "stdout",
     "output_type": "stream",
     "text": [
      "Toplam = 27\n"
     ]
    }
   ],
   "source": [
    "toplam=toplama(5,10,12)\n",
    "print(\"Toplam =\",toplam)"
   ]
  },
  {
   "cell_type": "code",
   "execution_count": 19,
   "metadata": {},
   "outputs": [
    {
     "name": "stdout",
     "output_type": "stream",
     "text": [
      "54\n"
     ]
    }
   ],
   "source": [
    "print(ikiylecarp(toplam))"
   ]
  },
  {
   "cell_type": "raw",
   "metadata": {},
   "source": [
    "return sayesinde fonksiyonlar değerleri çağırıldıkları yere döndürür."
   ]
  },
  {
   "cell_type": "code",
   "execution_count": 20,
   "metadata": {},
   "outputs": [],
   "source": [
    "def uclecarp(a):\n",
    "    print(\"1. fonksiyon çalıştı\",a*3)\n",
    "    return a*3\n",
    "def ikiyletopla(a):\n",
    "    print(\"2. fonksiyon çalıştı\",a+2)\n",
    "    return a+2\n",
    "def dordebol(a):\n",
    "    print(\"3. fonksiyon çalıştı\",a/4)\n",
    "    return a/4"
   ]
  },
  {
   "cell_type": "code",
   "execution_count": 21,
   "metadata": {},
   "outputs": [
    {
     "name": "stdout",
     "output_type": "stream",
     "text": [
      "1. fonksiyon çalıştı 15\n",
      "2. fonksiyon çalıştı 17\n",
      "3. fonksiyon çalıştı 4.25\n",
      "4.25\n"
     ]
    }
   ],
   "source": [
    "print(dordebol(ikiyletopla(uclecarp(5))))"
   ]
  },
  {
   "cell_type": "raw",
   "metadata": {},
   "source": [
    "#return ifadesi herzaman fonksiyonun son ifadesidir. Bu ifadeden sonraki satıra girilecek hiçbir işlem yapılmaz."
   ]
  },
  {
   "cell_type": "code",
   "execution_count": 23,
   "metadata": {},
   "outputs": [],
   "source": [
    "def toplama(a,b,c):\n",
    "    return a+b+c\n",
    "    print(\"Toplam=\",a+b+c)"
   ]
  },
  {
   "cell_type": "code",
   "execution_count": 24,
   "metadata": {},
   "outputs": [
    {
     "data": {
      "text/plain": [
       "97"
      ]
     },
     "execution_count": 24,
     "metadata": {},
     "output_type": "execute_result"
    }
   ],
   "source": [
    "toplama(25,30,42)"
   ]
  },
  {
   "cell_type": "raw",
   "metadata": {},
   "source": [
    "return kullanılmadan oluşturulmuş olan fonksiyonlara void function denir."
   ]
  },
  {
   "cell_type": "markdown",
   "metadata": {},
   "source": [
    "## Fonksiyonlarda Parametre Türleri"
   ]
  },
  {
   "cell_type": "markdown",
   "metadata": {},
   "source": [
    "### Parametrelerin varsayılan değerleri:"
   ]
  },
  {
   "cell_type": "raw",
   "metadata": {},
   "source": [
    "Bir fonksiyon tanımlarken fonksiyonumuzun parametrelerine varsayılan değer vermediysek, o fonksiyonu argümansız kullanamayız, hata verir. Varsayılan değer verildiğinde ise fonksiyonu çağırırken parametreye argüman vermediğimizde varsayılan değer üzerinden işlem yapar."
   ]
  },
  {
   "cell_type": "code",
   "execution_count": 31,
   "metadata": {},
   "outputs": [],
   "source": [
    "def selamla(isim):# önce şimdiye kadar yaptığımız gibi varsayılan değer olmadan parametre tanımlayalım.\n",
    "    print(\"Merhaba\",isim)"
   ]
  },
  {
   "cell_type": "code",
   "execution_count": 32,
   "metadata": {},
   "outputs": [
    {
     "name": "stdout",
     "output_type": "stream",
     "text": [
      "Merhaba Murat\n"
     ]
    }
   ],
   "source": [
    "selamla(\"Murat\")#fonksiyonumuzu \"Murat\" argümanı ile çağıralım."
   ]
  },
  {
   "cell_type": "code",
   "execution_count": 33,
   "metadata": {},
   "outputs": [
    {
     "name": "stdout",
     "output_type": "stream",
     "text": [
      "Merhaba Melek\n"
     ]
    }
   ],
   "source": [
    "selamla(\"Melek\")"
   ]
  },
  {
   "cell_type": "code",
   "execution_count": 29,
   "metadata": {},
   "outputs": [
    {
     "ename": "TypeError",
     "evalue": "selamla() missing 1 required positional argument: 'isim'",
     "output_type": "error",
     "traceback": [
      "\u001b[1;31m---------------------------------------------------------------------------\u001b[0m",
      "\u001b[1;31mTypeError\u001b[0m                                 Traceback (most recent call last)",
      "\u001b[1;32m<ipython-input-29-70d60d7267b4>\u001b[0m in \u001b[0;36m<module>\u001b[1;34m\u001b[0m\n\u001b[1;32m----> 1\u001b[1;33m \u001b[0mselamla\u001b[0m\u001b[1;33m(\u001b[0m\u001b[1;33m)\u001b[0m \u001b[1;31m#argümansız çağıralım:\u001b[0m\u001b[1;33m\u001b[0m\u001b[1;33m\u001b[0m\u001b[0m\n\u001b[0m",
      "\u001b[1;31mTypeError\u001b[0m: selamla() missing 1 required positional argument: 'isim'"
     ]
    }
   ],
   "source": [
    "selamla() #argümansız çağıralım:"
   ]
  },
  {
   "cell_type": "code",
   "execution_count": 34,
   "metadata": {},
   "outputs": [],
   "source": [
    "def selamla(isim=\"İsimsiz\"): #varsayılan argüman bu şekilde tanımlanıyor.\n",
    "    print(\"Merhaba\",isim)"
   ]
  },
  {
   "cell_type": "code",
   "execution_count": 35,
   "metadata": {},
   "outputs": [
    {
     "name": "stdout",
     "output_type": "stream",
     "text": [
      "Merhaba İsimsiz\n"
     ]
    }
   ],
   "source": [
    "selamla() #şimdi yine argüman vermeden çağıralım,"
   ]
  },
  {
   "cell_type": "code",
   "execution_count": 36,
   "metadata": {},
   "outputs": [
    {
     "name": "stdout",
     "output_type": "stream",
     "text": [
      "Merhaba Murat\n"
     ]
    }
   ],
   "source": [
    "selamla(\"Murat\")"
   ]
  },
  {
   "cell_type": "raw",
   "metadata": {},
   "source": [
    "Birden fazla parametremiz olduğunda nasıl varsayılan değer vereceğiz?"
   ]
  },
  {
   "cell_type": "code",
   "execution_count": 41,
   "metadata": {},
   "outputs": [],
   "source": [
    "def bilgiler(ad=\"---\",soyad=\"---\",numara=\"---\"):#üç parametreli bir fonksiyon tanımlayalım, hepsininvarsayılan değerleri \"---\"\"\n",
    "    print(\"Adı:\",ad,\"\\nSoyadı:\",soyad,\"\\nNumarası:\",numara)#bu bilgileri sep=\"\\n\" parametresi sayesinde alt alta yazdıralım."
   ]
  },
  {
   "cell_type": "code",
   "execution_count": 42,
   "metadata": {},
   "outputs": [
    {
     "name": "stdout",
     "output_type": "stream",
     "text": [
      "Adı: --- \n",
      "Soyadı: --- \n",
      "Numarası: ---\n"
     ]
    }
   ],
   "source": [
    "bilgiler()#argüman vermeden yazdıralım"
   ]
  },
  {
   "cell_type": "code",
   "execution_count": 46,
   "metadata": {},
   "outputs": [
    {
     "name": "stdout",
     "output_type": "stream",
     "text": [
      "Adı: Murat Can \n",
      "Soyadı: Kurt \n",
      "Numarası: 123464\n"
     ]
    }
   ],
   "source": [
    "bilgiler(\"Murat Can\",\"Kurt\",\"123464\")#burada dikkat edilmesi gereken değerleri parametre sırasına göre vermek."
   ]
  },
  {
   "cell_type": "code",
   "execution_count": 47,
   "metadata": {},
   "outputs": [
    {
     "name": "stdout",
     "output_type": "stream",
     "text": [
      "Adı: Murat Can \n",
      "Soyadı: --- \n",
      "Numarası: 356565\n"
     ]
    }
   ],
   "source": [
    "bilgiler(ad=\"Murat Can\",numara=\"356565\") #sadece istediğimiz parametrelere argüman verebiliriz."
   ]
  },
  {
   "cell_type": "raw",
   "metadata": {},
   "source": [
    "Şu ana kadar gördüğümüz konularda da built-in fonksiyonlara ait parametreleri kullanmıştık. Önceden tanımlanmış, hazır olmalarından başka hiçbir farkları yoktur."
   ]
  },
  {
   "cell_type": "code",
   "execution_count": 49,
   "metadata": {},
   "outputs": [
    {
     "name": "stdout",
     "output_type": "stream",
     "text": [
      "Murat\n",
      "Can\n",
      "Kurt\n"
     ]
    }
   ],
   "source": [
    "print(\"Murat\",\"Can\",\"Kurt\",sep=\"\\n\") #burada kullandığımız \"sep\" print fonksiyonunun bir parametresidir."
   ]
  },
  {
   "cell_type": "code",
   "execution_count": 50,
   "metadata": {},
   "outputs": [
    {
     "name": "stdout",
     "output_type": "stream",
     "text": [
      "Help on built-in function print in module builtins:\n",
      "\n",
      "print(...)\n",
      "    print(value, ..., sep=' ', end='\\n', file=sys.stdout, flush=False)\n",
      "    \n",
      "    Prints the values to a stream, or to sys.stdout by default.\n",
      "    Optional keyword arguments:\n",
      "    file:  a file-like object (stream); defaults to the current sys.stdout.\n",
      "    sep:   string inserted between values, default a space.\n",
      "    end:   string appended after the last value, default a newline.\n",
      "    flush: whether to forcibly flush the stream.\n",
      "\n"
     ]
    }
   ],
   "source": [
    "help(print) #print fonksiyonunun tüm parametrelerine bakmak için help ile fonksiyonun özelliklerine bakalım."
   ]
  },
  {
   "cell_type": "raw",
   "metadata": {},
   "source": [
    "value parametresi varsayılansız olarak verilmiş\n",
    "sep parametresinin varsayılanı boşluk karakteri\n",
    "end parametresinin varsayılanı satır alta geçme.\n",
    "\n",
    "gibi diğer parametrelere sahip olduğunu görüyoruz."
   ]
  },
  {
   "cell_type": "code",
   "execution_count": 51,
   "metadata": {},
   "outputs": [
    {
     "name": "stdout",
     "output_type": "stream",
     "text": [
      "Help on function selamla in module __main__:\n",
      "\n",
      "selamla(isim='İsimsiz')\n",
      "\n"
     ]
    }
   ],
   "source": [
    "help(selamla)"
   ]
  },
  {
   "cell_type": "code",
   "execution_count": 52,
   "metadata": {},
   "outputs": [
    {
     "name": "stdout",
     "output_type": "stream",
     "text": [
      "Help on function bilgiler in module __main__:\n",
      "\n",
      "bilgiler(ad='---', soyad='---', numara='---')\n",
      "\n"
     ]
    }
   ],
   "source": [
    "help(bilgiler)"
   ]
  },
  {
   "cell_type": "markdown",
   "metadata": {},
   "source": [
    "### Esnek sayıda parametreye ihtiyacımız varsa?"
   ]
  },
  {
   "cell_type": "code",
   "execution_count": 54,
   "metadata": {},
   "outputs": [],
   "source": [
    "def toplam(a,b,c):#3 parametresi ve varsayılanı olmayan bir fonksiyon tanımlayalım\n",
    "    print(\"Toplam=\",a+b+c)"
   ]
  },
  {
   "cell_type": "raw",
   "metadata": {},
   "source": [
    "4 adet sayıyı toplamak için ne yapacağız peki?"
   ]
  },
  {
   "cell_type": "code",
   "execution_count": 57,
   "metadata": {},
   "outputs": [
    {
     "ename": "TypeError",
     "evalue": "toplam() takes 3 positional arguments but 4 were given",
     "output_type": "error",
     "traceback": [
      "\u001b[1;31m---------------------------------------------------------------------------\u001b[0m",
      "\u001b[1;31mTypeError\u001b[0m                                 Traceback (most recent call last)",
      "\u001b[1;32m<ipython-input-57-051a5a8ff8a7>\u001b[0m in \u001b[0;36m<module>\u001b[1;34m\u001b[0m\n\u001b[1;32m----> 1\u001b[1;33m \u001b[0mtoplam\u001b[0m\u001b[1;33m(\u001b[0m\u001b[1;36m3\u001b[0m\u001b[1;33m,\u001b[0m\u001b[1;36m5\u001b[0m\u001b[1;33m,\u001b[0m\u001b[1;36m8\u001b[0m\u001b[1;33m,\u001b[0m\u001b[1;36m10\u001b[0m\u001b[1;33m)\u001b[0m\u001b[1;33m\u001b[0m\u001b[1;33m\u001b[0m\u001b[0m\n\u001b[0m",
      "\u001b[1;31mTypeError\u001b[0m: toplam() takes 3 positional arguments but 4 were given"
     ]
    }
   ],
   "source": [
    "toplam(3,5,8,10)"
   ]
  },
  {
   "cell_type": "raw",
   "metadata": {},
   "source": [
    "görüldüğü gibi hata 3 argüman alabildiğini ancak 4 argüman girildiğini söylüyor."
   ]
  },
  {
   "cell_type": "code",
   "execution_count": 58,
   "metadata": {},
   "outputs": [
    {
     "ename": "TypeError",
     "evalue": "toplam() missing 1 required positional argument: 'c'",
     "output_type": "error",
     "traceback": [
      "\u001b[1;31m---------------------------------------------------------------------------\u001b[0m",
      "\u001b[1;31mTypeError\u001b[0m                                 Traceback (most recent call last)",
      "\u001b[1;32m<ipython-input-58-89ce1ec01e5d>\u001b[0m in \u001b[0;36m<module>\u001b[1;34m\u001b[0m\n\u001b[1;32m----> 1\u001b[1;33m \u001b[0mtoplam\u001b[0m\u001b[1;33m(\u001b[0m\u001b[1;36m15\u001b[0m\u001b[1;33m,\u001b[0m\u001b[1;36m8\u001b[0m\u001b[1;33m)\u001b[0m \u001b[1;31m#üç adet değil iki adet sayıyı toplamak istiyorsak ne yapacağız?\u001b[0m\u001b[1;33m\u001b[0m\u001b[1;33m\u001b[0m\u001b[0m\n\u001b[0m",
      "\u001b[1;31mTypeError\u001b[0m: toplam() missing 1 required positional argument: 'c'"
     ]
    }
   ],
   "source": [
    "toplam(15,8) #üç adet değil iki adet sayıyı toplamak istiyorsak ne yapacağız?"
   ]
  },
  {
   "cell_type": "raw",
   "metadata": {},
   "source": [
    "burada da görüldüğü gibi 1 argüman eksiktir diye hata veriyor."
   ]
  },
  {
   "cell_type": "raw",
   "metadata": {},
   "source": [
    "Görüldüğü üzere bazen sabit bir parametre sayısı işimize yaramıyor.\n",
    "Peki ihtiyaca göre değişken sayıda parametresi olan fonksiyon nasıl tanımlanır?"
   ]
  },
  {
   "cell_type": "code",
   "execution_count": 21,
   "metadata": {},
   "outputs": [],
   "source": [
    "def toplama(*a):\n",
    "    toplam=0\n",
    "    print(\"Toplanacak sayılar:\",a)\n",
    "    for i in a:\n",
    "        toplam +=i\n",
    "    return toplam"
   ]
  },
  {
   "cell_type": "code",
   "execution_count": 22,
   "metadata": {},
   "outputs": [
    {
     "name": "stdout",
     "output_type": "stream",
     "text": [
      "Toplanacak sayılar: (15, 1)\n"
     ]
    },
    {
     "data": {
      "text/plain": [
       "16"
      ]
     },
     "execution_count": 22,
     "metadata": {},
     "output_type": "execute_result"
    }
   ],
   "source": [
    "toplama(15,1)"
   ]
  },
  {
   "cell_type": "code",
   "execution_count": 77,
   "metadata": {},
   "outputs": [
    {
     "name": "stdout",
     "output_type": "stream",
     "text": [
      "Toplanacak sayılar: ()\n"
     ]
    },
    {
     "data": {
      "text/plain": [
       "0"
      ]
     },
     "execution_count": 77,
     "metadata": {},
     "output_type": "execute_result"
    }
   ],
   "source": [
    "toplama()"
   ]
  },
  {
   "cell_type": "code",
   "execution_count": 78,
   "metadata": {},
   "outputs": [
    {
     "name": "stdout",
     "output_type": "stream",
     "text": [
      "Toplanacak sayılar: (3, 5, 12, 8, 36, 87)\n"
     ]
    },
    {
     "data": {
      "text/plain": [
       "151"
      ]
     },
     "execution_count": 78,
     "metadata": {},
     "output_type": "execute_result"
    }
   ],
   "source": [
    "toplama(3,5,12,8,36,87)"
   ]
  },
  {
   "cell_type": "raw",
   "metadata": {},
   "source": [
    "print() fonksiyonunda da aynı şekilde esnek parametre sayısı durumu olduğu için print(1,2,a,\"murat\") gibi istediğimiz kadar argüman verebiliyoruz."
   ]
  },
  {
   "cell_type": "code",
   "execution_count": 79,
   "metadata": {},
   "outputs": [
    {
     "name": "stdout",
     "output_type": "stream",
     "text": [
      "Help on function toplama in module __main__:\n",
      "\n",
      "toplama(*a)\n",
      "\n"
     ]
    }
   ],
   "source": [
    "help(toplama)"
   ]
  },
  {
   "cell_type": "markdown",
   "metadata": {},
   "source": [
    "## global ve local değişkenler"
   ]
  },
  {
   "cell_type": "raw",
   "metadata": {},
   "source": [
    "Phytonda her bir değişkenin, fonksiyonun ve sınıf(class)ların (ileride göreceğiz) bir kapsamı (scope) vardır.\n",
    "Her bir değişken bir isim alanında (namespace) tanımlanır ve bu isim alanı değişkenin nerelerde var olduğunu, geçerli olduğunu belirler."
   ]
  },
  {
   "cell_type": "raw",
   "metadata": {},
   "source": [
    "Fonksiyonlarda tanımlanan değişkenler local değişkenlerdir ve fonksiyon kapsamında var olur ve geçerli olurlar. Sadece o fonksiyona özgüdürler, başka bir yerden erişilemezler, fonksiyon bittiğinde ise daha önceki örneklerde de farkedilebileceği gibi silinip yok olurlar.\n",
    "Global değişkenler ise tanımlandıkları andan itibaren her kapsamda, yani her yerden kullanılabilirler."
   ]
  },
  {
   "cell_type": "code",
   "execution_count": 83,
   "metadata": {},
   "outputs": [
    {
     "name": "stdout",
     "output_type": "stream",
     "text": [
      "10\n"
     ]
    },
    {
     "ename": "NameError",
     "evalue": "name 'a' is not defined",
     "output_type": "error",
     "traceback": [
      "\u001b[1;31m---------------------------------------------------------------------------\u001b[0m",
      "\u001b[1;31mNameError\u001b[0m                                 Traceback (most recent call last)",
      "\u001b[1;32m<ipython-input-83-f810e56a757f>\u001b[0m in \u001b[0;36m<module>\u001b[1;34m\u001b[0m\n\u001b[0;32m      3\u001b[0m     \u001b[0mprint\u001b[0m\u001b[1;33m(\u001b[0m\u001b[0ma\u001b[0m\u001b[1;33m)\u001b[0m \u001b[1;31m#fonksiyon bloğunda bir işlem\u001b[0m\u001b[1;33m\u001b[0m\u001b[1;33m\u001b[0m\u001b[0m\n\u001b[0;32m      4\u001b[0m \u001b[0mfonksiyon\u001b[0m\u001b[1;33m(\u001b[0m\u001b[1;33m)\u001b[0m\u001b[1;33m\u001b[0m\u001b[1;33m\u001b[0m\u001b[0m\n\u001b[1;32m----> 5\u001b[1;33m \u001b[0mprint\u001b[0m\u001b[1;33m(\u001b[0m\u001b[0ma\u001b[0m\u001b[1;33m)\u001b[0m \u001b[1;31m#fonksiyon dışında bir işlem\u001b[0m\u001b[1;33m\u001b[0m\u001b[1;33m\u001b[0m\u001b[0m\n\u001b[0m",
      "\u001b[1;31mNameError\u001b[0m: name 'a' is not defined"
     ]
    }
   ],
   "source": [
    "def fonksiyon():\n",
    "    a=10 # local namespace de bir değişken\n",
    "    print(a) #fonksiyon bloğunda bir işlem\n",
    "fonksiyon()\n",
    "print(a) #fonksiyon dışında bir işlem"
   ]
  },
  {
   "cell_type": "markdown",
   "metadata": {},
   "source": [
    "fonksiyon dışındaki print(a) kodu hata verdi. Hata mesajı: a tanımlı değil..."
   ]
  },
  {
   "cell_type": "markdown",
   "metadata": {},
   "source": [
    "Burada fonksiyon içindeki a değişkeni bir yerel değişkendir."
   ]
  },
  {
   "cell_type": "markdown",
   "metadata": {},
   "source": [
    "Global değişkene örnek verecek olursak, şu ana kadar fonksiyonlarımız dışında tanımladığımız tüm değişkenler aslında global değişkendir."
   ]
  },
  {
   "cell_type": "code",
   "execution_count": 84,
   "metadata": {},
   "outputs": [
    {
     "name": "stdout",
     "output_type": "stream",
     "text": [
      "Murat\n"
     ]
    }
   ],
   "source": [
    "a=\"Murat\" #global isim alanında bir değişken\n",
    "def fonksiyon():\n",
    "    print(a)\n",
    "fonksiyon()"
   ]
  },
  {
   "cell_type": "markdown",
   "metadata": {},
   "source": [
    "Görüldüğü gibi global değişkeni fonksiyon içinde de kullanabiliyoruz."
   ]
  },
  {
   "cell_type": "code",
   "execution_count": 85,
   "metadata": {},
   "outputs": [
    {
     "ename": "UnboundLocalError",
     "evalue": "local variable 'a' referenced before assignment",
     "output_type": "error",
     "traceback": [
      "\u001b[1;31m---------------------------------------------------------------------------\u001b[0m",
      "\u001b[1;31mUnboundLocalError\u001b[0m                         Traceback (most recent call last)",
      "\u001b[1;32m<ipython-input-85-e256ed9295ee>\u001b[0m in \u001b[0;36m<module>\u001b[1;34m\u001b[0m\n\u001b[0;32m      3\u001b[0m     \u001b[0ma\u001b[0m\u001b[1;33m-=\u001b[0m\u001b[1;36m5\u001b[0m\u001b[1;33m\u001b[0m\u001b[1;33m\u001b[0m\u001b[0m\n\u001b[0;32m      4\u001b[0m     \u001b[0mprint\u001b[0m\u001b[1;33m(\u001b[0m\u001b[0ma\u001b[0m\u001b[1;33m)\u001b[0m\u001b[1;33m\u001b[0m\u001b[1;33m\u001b[0m\u001b[0m\n\u001b[1;32m----> 5\u001b[1;33m \u001b[0mfonksiyon\u001b[0m\u001b[1;33m(\u001b[0m\u001b[1;33m)\u001b[0m\u001b[1;33m\u001b[0m\u001b[1;33m\u001b[0m\u001b[0m\n\u001b[0m",
      "\u001b[1;32m<ipython-input-85-e256ed9295ee>\u001b[0m in \u001b[0;36mfonksiyon\u001b[1;34m()\u001b[0m\n\u001b[0;32m      1\u001b[0m \u001b[0ma\u001b[0m\u001b[1;33m=\u001b[0m\u001b[1;36m15\u001b[0m\u001b[1;33m\u001b[0m\u001b[1;33m\u001b[0m\u001b[0m\n\u001b[0;32m      2\u001b[0m \u001b[1;32mdef\u001b[0m \u001b[0mfonksiyon\u001b[0m\u001b[1;33m(\u001b[0m\u001b[1;33m)\u001b[0m\u001b[1;33m:\u001b[0m\u001b[1;33m\u001b[0m\u001b[1;33m\u001b[0m\u001b[0m\n\u001b[1;32m----> 3\u001b[1;33m     \u001b[0ma\u001b[0m\u001b[1;33m-=\u001b[0m\u001b[1;36m5\u001b[0m\u001b[1;33m\u001b[0m\u001b[1;33m\u001b[0m\u001b[0m\n\u001b[0m\u001b[0;32m      4\u001b[0m     \u001b[0mprint\u001b[0m\u001b[1;33m(\u001b[0m\u001b[0ma\u001b[0m\u001b[1;33m)\u001b[0m\u001b[1;33m\u001b[0m\u001b[1;33m\u001b[0m\u001b[0m\n\u001b[0;32m      5\u001b[0m \u001b[0mfonksiyon\u001b[0m\u001b[1;33m(\u001b[0m\u001b[1;33m)\u001b[0m\u001b[1;33m\u001b[0m\u001b[1;33m\u001b[0m\u001b[0m\n",
      "\u001b[1;31mUnboundLocalError\u001b[0m: local variable 'a' referenced before assignment"
     ]
    }
   ],
   "source": [
    "a=15\n",
    "def fonksiyon():\n",
    "    a-=5\n",
    "    print(a)\n",
    "fonksiyon()"
   ]
  },
  {
   "cell_type": "markdown",
   "metadata": {},
   "source": [
    "Burada ise görüleceği üzere global değişkeni fonksiyon içinde değiştiremiyoruz, hata mesajında a yerel değişkeni tanımlanmadan işlem yapılıyor diyor."
   ]
  },
  {
   "cell_type": "code",
   "execution_count": 88,
   "metadata": {},
   "outputs": [
    {
     "ename": "UnboundLocalError",
     "evalue": "local variable 'a' referenced before assignment",
     "output_type": "error",
     "traceback": [
      "\u001b[1;31m---------------------------------------------------------------------------\u001b[0m",
      "\u001b[1;31mUnboundLocalError\u001b[0m                         Traceback (most recent call last)",
      "\u001b[1;32m<ipython-input-88-e1325113e420>\u001b[0m in \u001b[0;36m<module>\u001b[1;34m\u001b[0m\n\u001b[0;32m      3\u001b[0m     \u001b[0mprint\u001b[0m\u001b[1;33m(\u001b[0m\u001b[0ma\u001b[0m\u001b[1;33m)\u001b[0m\u001b[1;33m\u001b[0m\u001b[1;33m\u001b[0m\u001b[0m\n\u001b[0;32m      4\u001b[0m     \u001b[0ma\u001b[0m\u001b[1;33m=\u001b[0m\u001b[0ma\u001b[0m\u001b[1;33m+\u001b[0m\u001b[1;36m5\u001b[0m\u001b[1;33m\u001b[0m\u001b[1;33m\u001b[0m\u001b[0m\n\u001b[1;32m----> 5\u001b[1;33m \u001b[0mfonksiyon\u001b[0m\u001b[1;33m(\u001b[0m\u001b[1;33m)\u001b[0m\u001b[1;33m\u001b[0m\u001b[1;33m\u001b[0m\u001b[0m\n\u001b[0m",
      "\u001b[1;32m<ipython-input-88-e1325113e420>\u001b[0m in \u001b[0;36mfonksiyon\u001b[1;34m()\u001b[0m\n\u001b[0;32m      1\u001b[0m \u001b[0ma\u001b[0m\u001b[1;33m=\u001b[0m\u001b[1;36m15\u001b[0m\u001b[1;33m\u001b[0m\u001b[1;33m\u001b[0m\u001b[0m\n\u001b[0;32m      2\u001b[0m \u001b[1;32mdef\u001b[0m \u001b[0mfonksiyon\u001b[0m\u001b[1;33m(\u001b[0m\u001b[1;33m)\u001b[0m\u001b[1;33m:\u001b[0m\u001b[1;33m\u001b[0m\u001b[1;33m\u001b[0m\u001b[0m\n\u001b[1;32m----> 3\u001b[1;33m     \u001b[0mprint\u001b[0m\u001b[1;33m(\u001b[0m\u001b[0ma\u001b[0m\u001b[1;33m)\u001b[0m\u001b[1;33m\u001b[0m\u001b[1;33m\u001b[0m\u001b[0m\n\u001b[0m\u001b[0;32m      4\u001b[0m     \u001b[0ma\u001b[0m\u001b[1;33m=\u001b[0m\u001b[0ma\u001b[0m\u001b[1;33m+\u001b[0m\u001b[1;36m5\u001b[0m\u001b[1;33m\u001b[0m\u001b[1;33m\u001b[0m\u001b[0m\n\u001b[0;32m      5\u001b[0m \u001b[0mfonksiyon\u001b[0m\u001b[1;33m(\u001b[0m\u001b[1;33m)\u001b[0m\u001b[1;33m\u001b[0m\u001b[1;33m\u001b[0m\u001b[0m\n",
      "\u001b[1;31mUnboundLocalError\u001b[0m: local variable 'a' referenced before assignment"
     ]
    }
   ],
   "source": [
    "a=15\n",
    "def fonksiyon():\n",
    "    print(a)\n",
    "    a=a+5\n",
    "fonksiyon()"
   ]
  },
  {
   "cell_type": "code",
   "execution_count": 90,
   "metadata": {},
   "outputs": [
    {
     "name": "stdout",
     "output_type": "stream",
     "text": [
      "5\n",
      "15\n"
     ]
    }
   ],
   "source": [
    "a=15\n",
    "def fonksiyon():\n",
    "    a=5\n",
    "    print(a)\n",
    "fonksiyon()\n",
    "print(a)"
   ]
  },
  {
   "cell_type": "markdown",
   "metadata": {},
   "source": [
    "Yukarıdaki örneklerden anlıyoruz ki, aslında biz fonksiyon içinde global değişkenle işlem yapmıyoruz, çağırabiliyoruz, global değişkenin değerini aynı isimde bir yerel değişken oluşturup ona atayabiliyoruz, ama görüldüğü üzere fonksiyonlar global değişkenler üzerinde bu şekilde işlem yapmıyor."
   ]
  },
  {
   "cell_type": "markdown",
   "metadata": {},
   "source": [
    "### global ifadesi"
   ]
  },
  {
   "cell_type": "markdown",
   "metadata": {},
   "source": [
    "fonksiyonlar gibi local isim alanında global değişkenlerle işlem yapmak için bu ifadeyi kullanıyoruz yani,"
   ]
  },
  {
   "cell_type": "code",
   "execution_count": 94,
   "metadata": {},
   "outputs": [
    {
     "name": "stdout",
     "output_type": "stream",
     "text": [
      "20\n",
      "20\n"
     ]
    }
   ],
   "source": [
    "#az önce hata veren örneğimiz.\n",
    "a=15 #a global değişkenin değeri 15 verdik\n",
    "def fonksiyon():\n",
    "    global a #fonksiyonumuza a diye bir değişkenden bahsedersem bunun global a olduğunu anla ve bunun üzerinde çalış diyoruz\n",
    "    a=a+5 #global a değişkenini 5 artırıyoruz\n",
    "    print(a) #fonksiyon bloğunda print\n",
    "fonksiyon()\n",
    "print(a) #global isim alanında print"
   ]
  },
  {
   "cell_type": "markdown",
   "metadata": {},
   "source": [
    "## Lambda ifadeleri"
   ]
  },
  {
   "cell_type": "markdown",
   "metadata": {},
   "source": [
    "Lambda ifadeleri (ifade=expression) fonksiyon oluşturmak için kullanılan pratik bir yöntemdir."
   ]
  },
  {
   "cell_type": "markdown",
   "metadata": {},
   "source": [
    "###### Bu yöntemle fonksiyon oluşturmak, list comprehension ile benzerlik göstermektedir. Bu nedenle birkaç örnekle önce list comprehension yöntemini hatırlayalım."
   ]
  },
  {
   "cell_type": "code",
   "execution_count": 107,
   "metadata": {},
   "outputs": [
    {
     "data": {
      "text/plain": [
       "[2, 4, 6, 8, 10]"
      ]
     },
     "execution_count": 107,
     "metadata": {},
     "output_type": "execute_result"
    }
   ],
   "source": [
    "liste1=[1,2,3,4,5] #bir liste oluşturduk.\n",
    "liste2=[] #boş bir liste oluşturduk.\n",
    "for i in liste1:\n",
    "    liste2.append(i*2) #klasik yöntem\n",
    "liste2"
   ]
  },
  {
   "cell_type": "code",
   "execution_count": 109,
   "metadata": {},
   "outputs": [
    {
     "data": {
      "text/plain": [
       "[2, 4, 6, 8, 10]"
      ]
     },
     "execution_count": 109,
     "metadata": {},
     "output_type": "execute_result"
    }
   ],
   "source": [
    "liste3=[1,2,3,4,5]\n",
    "liste4=[i*2 for i in liste3] #list comprehension yöntemi\n",
    "liste4"
   ]
  },
  {
   "cell_type": "markdown",
   "metadata": {},
   "source": [
    "###### İşte fonksiyonları da yukarıdaki gibi tek satırda oluşturabiliriz. Kullanım şekli:\n",
    " fonksiyon adı= lambda parametre1,parametre2,......:işlem"
   ]
  },
  {
   "cell_type": "markdown",
   "metadata": {},
   "source": [
    "Örnek olarak ikiyle çarpma fonksiyonu yazalım"
   ]
  },
  {
   "cell_type": "code",
   "execution_count": 111,
   "metadata": {},
   "outputs": [
    {
     "data": {
      "text/plain": [
       "10"
      ]
     },
     "execution_count": 111,
     "metadata": {},
     "output_type": "execute_result"
    }
   ],
   "source": [
    "def ikiylecarp(x): #bildiğimiz yöntem\n",
    "    return x*2\n",
    "ikiylecarp(5)"
   ]
  },
  {
   "cell_type": "code",
   "execution_count": 113,
   "metadata": {},
   "outputs": [
    {
     "data": {
      "text/plain": [
       "16"
      ]
     },
     "execution_count": 113,
     "metadata": {},
     "output_type": "execute_result"
    }
   ],
   "source": [
    "ikiylecarpma=lambda x:x*2 #lambda yöntemi\n",
    "ikiylecarpma(8)"
   ]
  },
  {
   "cell_type": "code",
   "execution_count": 114,
   "metadata": {},
   "outputs": [
    {
     "data": {
      "text/plain": [
       "50"
      ]
     },
     "execution_count": 114,
     "metadata": {},
     "output_type": "execute_result"
    }
   ],
   "source": [
    "# 3 sayıyı toplayan fonksiyon klasik yötem\n",
    "def toplam(a,b,c):\n",
    "    return a+b+c\n",
    "toplam(45,3,2)"
   ]
  },
  {
   "cell_type": "code",
   "execution_count": 115,
   "metadata": {},
   "outputs": [
    {
     "data": {
      "text/plain": [
       "10"
      ]
     },
     "execution_count": 115,
     "metadata": {},
     "output_type": "execute_result"
    }
   ],
   "source": [
    "# 3 sayıyı toplayan fonksiyon lambda yöntemi\n",
    "toplama=lambda a,b,c,:a+b+c\n",
    "toplama(3,2,5)"
   ]
  },
  {
   "cell_type": "code",
   "execution_count": 116,
   "metadata": {},
   "outputs": [
    {
     "data": {
      "text/plain": [
       "'TARUM'"
      ]
     },
     "execution_count": 116,
     "metadata": {},
     "output_type": "execute_result"
    }
   ],
   "source": [
    "#bir stringi ters çevirme klasik\n",
    "def terscevir(a):\n",
    "    return a[::-1]\n",
    "terscevir(\"MURAT\")"
   ]
  },
  {
   "cell_type": "code",
   "execution_count": 123,
   "metadata": {},
   "outputs": [
    {
     "name": "stdout",
     "output_type": "stream",
     "text": [
      "EM PLEH DOG\n"
     ]
    }
   ],
   "source": [
    "#stringi ters çevirme lambda\n",
    "terscevirme=lambda d:d[::-1]\n",
    "terscevirme(\"god help me\")\n",
    "print(terscevirme(\"GOD HELP ME\"))"
   ]
  },
  {
   "cell_type": "code",
   "execution_count": 132,
   "metadata": {},
   "outputs": [
    {
     "name": "stdout",
     "output_type": "stream",
     "text": [
      "False\n",
      "True\n"
     ]
    }
   ],
   "source": [
    "#sayı çift mi?\n",
    "def cift(g): #klasik\n",
    "    return g%2==0\n",
    "print(cift(13))\n",
    "ciftmi=lambda h:h%2==0 #lambda\n",
    "ciftmi(8)\n",
    "print(ciftmi(8))"
   ]
  },
  {
   "cell_type": "markdown",
   "metadata": {},
   "source": [
    "İşte lambda ifadesini bu şekilde küçük fonksiyonlar için kullanabiliriz. lambda ifadelerini özellikle kısa bir fonksiyonu def ifadesiyle yazmanın zahmetli olduğu zamanlarda kullanılabilir."
   ]
  },
  {
   "cell_type": "code",
   "execution_count": 23,
   "metadata": {},
   "outputs": [
    {
     "ename": "SyntaxError",
     "evalue": "invalid syntax (<ipython-input-23-39088975d64d>, line 1)",
     "output_type": "error",
     "traceback": [
      "\u001b[1;36m  File \u001b[1;32m\"<ipython-input-23-39088975d64d>\"\u001b[1;36m, line \u001b[1;32m1\u001b[0m\n\u001b[1;33m    hepsinitopla=lambda *s:\u001b[0m\n\u001b[1;37m                           ^\u001b[0m\n\u001b[1;31mSyntaxError\u001b[0m\u001b[1;31m:\u001b[0m invalid syntax\n"
     ]
    }
   ],
   "source": [
    "hepsinitopla=lambda *s:\n",
    "hepsinitopla(56,45,34,23,32)"
   ]
  },
  {
   "cell_type": "code",
   "execution_count": 1,
   "metadata": {},
   "outputs": [
    {
     "name": "stdout",
     "output_type": "stream",
     "text": [
      "Help on class list in module builtins:\n",
      "\n",
      "class list(object)\n",
      " |  list(iterable=(), /)\n",
      " |  \n",
      " |  Built-in mutable sequence.\n",
      " |  \n",
      " |  If no argument is given, the constructor creates a new empty list.\n",
      " |  The argument must be an iterable if specified.\n",
      " |  \n",
      " |  Methods defined here:\n",
      " |  \n",
      " |  __add__(self, value, /)\n",
      " |      Return self+value.\n",
      " |  \n",
      " |  __contains__(self, key, /)\n",
      " |      Return key in self.\n",
      " |  \n",
      " |  __delitem__(self, key, /)\n",
      " |      Delete self[key].\n",
      " |  \n",
      " |  __eq__(self, value, /)\n",
      " |      Return self==value.\n",
      " |  \n",
      " |  __ge__(self, value, /)\n",
      " |      Return self>=value.\n",
      " |  \n",
      " |  __getattribute__(self, name, /)\n",
      " |      Return getattr(self, name).\n",
      " |  \n",
      " |  __getitem__(...)\n",
      " |      x.__getitem__(y) <==> x[y]\n",
      " |  \n",
      " |  __gt__(self, value, /)\n",
      " |      Return self>value.\n",
      " |  \n",
      " |  __iadd__(self, value, /)\n",
      " |      Implement self+=value.\n",
      " |  \n",
      " |  __imul__(self, value, /)\n",
      " |      Implement self*=value.\n",
      " |  \n",
      " |  __init__(self, /, *args, **kwargs)\n",
      " |      Initialize self.  See help(type(self)) for accurate signature.\n",
      " |  \n",
      " |  __iter__(self, /)\n",
      " |      Implement iter(self).\n",
      " |  \n",
      " |  __le__(self, value, /)\n",
      " |      Return self<=value.\n",
      " |  \n",
      " |  __len__(self, /)\n",
      " |      Return len(self).\n",
      " |  \n",
      " |  __lt__(self, value, /)\n",
      " |      Return self<value.\n",
      " |  \n",
      " |  __mul__(self, value, /)\n",
      " |      Return self*value.\n",
      " |  \n",
      " |  __ne__(self, value, /)\n",
      " |      Return self!=value.\n",
      " |  \n",
      " |  __repr__(self, /)\n",
      " |      Return repr(self).\n",
      " |  \n",
      " |  __reversed__(self, /)\n",
      " |      Return a reverse iterator over the list.\n",
      " |  \n",
      " |  __rmul__(self, value, /)\n",
      " |      Return value*self.\n",
      " |  \n",
      " |  __setitem__(self, key, value, /)\n",
      " |      Set self[key] to value.\n",
      " |  \n",
      " |  __sizeof__(self, /)\n",
      " |      Return the size of the list in memory, in bytes.\n",
      " |  \n",
      " |  append(self, object, /)\n",
      " |      Append object to the end of the list.\n",
      " |  \n",
      " |  clear(self, /)\n",
      " |      Remove all items from list.\n",
      " |  \n",
      " |  copy(self, /)\n",
      " |      Return a shallow copy of the list.\n",
      " |  \n",
      " |  count(self, value, /)\n",
      " |      Return number of occurrences of value.\n",
      " |  \n",
      " |  extend(self, iterable, /)\n",
      " |      Extend list by appending elements from the iterable.\n",
      " |  \n",
      " |  index(self, value, start=0, stop=9223372036854775807, /)\n",
      " |      Return first index of value.\n",
      " |      \n",
      " |      Raises ValueError if the value is not present.\n",
      " |  \n",
      " |  insert(self, index, object, /)\n",
      " |      Insert object before index.\n",
      " |  \n",
      " |  pop(self, index=-1, /)\n",
      " |      Remove and return item at index (default last).\n",
      " |      \n",
      " |      Raises IndexError if list is empty or index is out of range.\n",
      " |  \n",
      " |  remove(self, value, /)\n",
      " |      Remove first occurrence of value.\n",
      " |      \n",
      " |      Raises ValueError if the value is not present.\n",
      " |  \n",
      " |  reverse(self, /)\n",
      " |      Reverse *IN PLACE*.\n",
      " |  \n",
      " |  sort(self, /, *, key=None, reverse=False)\n",
      " |      Stable sort *IN PLACE*.\n",
      " |  \n",
      " |  ----------------------------------------------------------------------\n",
      " |  Static methods defined here:\n",
      " |  \n",
      " |  __new__(*args, **kwargs) from builtins.type\n",
      " |      Create and return a new object.  See help(type) for accurate signature.\n",
      " |  \n",
      " |  ----------------------------------------------------------------------\n",
      " |  Data and other attributes defined here:\n",
      " |  \n",
      " |  __hash__ = None\n",
      "\n"
     ]
    }
   ],
   "source": [
    "help(list)"
   ]
  },
  {
   "cell_type": "code",
   "execution_count": 9,
   "metadata": {},
   "outputs": [
    {
     "data": {
      "text/plain": [
       "{'mehmet': '12345', 'lale': '12345'}"
      ]
     },
     "execution_count": 9,
     "metadata": {},
     "output_type": "execute_result"
    }
   ],
   "source": [
    "users={\"ahmet\":\"12345\",\"mehmet\":\"12345\",\"lale\":\"12345\"}\n",
    "users.pop(\"ahmet\",\"Bulunamadı\")\n",
    "users"
   ]
  },
  {
   "cell_type": "code",
   "execution_count": 6,
   "metadata": {},
   "outputs": [
    {
     "name": "stdout",
     "output_type": "stream",
     "text": [
      "Help on dict object:\n",
      "\n",
      "class dict(object)\n",
      " |  dict() -> new empty dictionary\n",
      " |  dict(mapping) -> new dictionary initialized from a mapping object's\n",
      " |      (key, value) pairs\n",
      " |  dict(iterable) -> new dictionary initialized as if via:\n",
      " |      d = {}\n",
      " |      for k, v in iterable:\n",
      " |          d[k] = v\n",
      " |  dict(**kwargs) -> new dictionary initialized with the name=value pairs\n",
      " |      in the keyword argument list.  For example:  dict(one=1, two=2)\n",
      " |  \n",
      " |  Methods defined here:\n",
      " |  \n",
      " |  __contains__(self, key, /)\n",
      " |      True if the dictionary has the specified key, else False.\n",
      " |  \n",
      " |  __delitem__(self, key, /)\n",
      " |      Delete self[key].\n",
      " |  \n",
      " |  __eq__(self, value, /)\n",
      " |      Return self==value.\n",
      " |  \n",
      " |  __ge__(self, value, /)\n",
      " |      Return self>=value.\n",
      " |  \n",
      " |  __getattribute__(self, name, /)\n",
      " |      Return getattr(self, name).\n",
      " |  \n",
      " |  __getitem__(...)\n",
      " |      x.__getitem__(y) <==> x[y]\n",
      " |  \n",
      " |  __gt__(self, value, /)\n",
      " |      Return self>value.\n",
      " |  \n",
      " |  __init__(self, /, *args, **kwargs)\n",
      " |      Initialize self.  See help(type(self)) for accurate signature.\n",
      " |  \n",
      " |  __iter__(self, /)\n",
      " |      Implement iter(self).\n",
      " |  \n",
      " |  __le__(self, value, /)\n",
      " |      Return self<=value.\n",
      " |  \n",
      " |  __len__(self, /)\n",
      " |      Return len(self).\n",
      " |  \n",
      " |  __lt__(self, value, /)\n",
      " |      Return self<value.\n",
      " |  \n",
      " |  __ne__(self, value, /)\n",
      " |      Return self!=value.\n",
      " |  \n",
      " |  __repr__(self, /)\n",
      " |      Return repr(self).\n",
      " |  \n",
      " |  __setitem__(self, key, value, /)\n",
      " |      Set self[key] to value.\n",
      " |  \n",
      " |  __sizeof__(...)\n",
      " |      D.__sizeof__() -> size of D in memory, in bytes\n",
      " |  \n",
      " |  clear(...)\n",
      " |      D.clear() -> None.  Remove all items from D.\n",
      " |  \n",
      " |  copy(...)\n",
      " |      D.copy() -> a shallow copy of D\n",
      " |  \n",
      " |  get(self, key, default=None, /)\n",
      " |      Return the value for key if key is in the dictionary, else default.\n",
      " |  \n",
      " |  items(...)\n",
      " |      D.items() -> a set-like object providing a view on D's items\n",
      " |  \n",
      " |  keys(...)\n",
      " |      D.keys() -> a set-like object providing a view on D's keys\n",
      " |  \n",
      " |  pop(...)\n",
      " |      D.pop(k[,d]) -> v, remove specified key and return the corresponding value.\n",
      " |      If key is not found, d is returned if given, otherwise KeyError is raised\n",
      " |  \n",
      " |  popitem(...)\n",
      " |      D.popitem() -> (k, v), remove and return some (key, value) pair as a\n",
      " |      2-tuple; but raise KeyError if D is empty.\n",
      " |  \n",
      " |  setdefault(self, key, default=None, /)\n",
      " |      Insert key with a value of default if key is not in the dictionary.\n",
      " |      \n",
      " |      Return the value for key if key is in the dictionary, else default.\n",
      " |  \n",
      " |  update(...)\n",
      " |      D.update([E, ]**F) -> None.  Update D from dict/iterable E and F.\n",
      " |      If E is present and has a .keys() method, then does:  for k in E: D[k] = E[k]\n",
      " |      If E is present and lacks a .keys() method, then does:  for k, v in E: D[k] = v\n",
      " |      In either case, this is followed by: for k in F:  D[k] = F[k]\n",
      " |  \n",
      " |  values(...)\n",
      " |      D.values() -> an object providing a view on D's values\n",
      " |  \n",
      " |  ----------------------------------------------------------------------\n",
      " |  Class methods defined here:\n",
      " |  \n",
      " |  fromkeys(iterable, value=None, /) from builtins.type\n",
      " |      Create a new dictionary with keys from iterable and values set to value.\n",
      " |  \n",
      " |  ----------------------------------------------------------------------\n",
      " |  Static methods defined here:\n",
      " |  \n",
      " |  __new__(*args, **kwargs) from builtins.type\n",
      " |      Create and return a new object.  See help(type) for accurate signature.\n",
      " |  \n",
      " |  ----------------------------------------------------------------------\n",
      " |  Data and other attributes defined here:\n",
      " |  \n",
      " |  __hash__ = None\n",
      "\n"
     ]
    }
   ],
   "source": [
    "help(users)"
   ]
  },
  {
   "cell_type": "markdown",
   "metadata": {},
   "source": [
    "# Modüller"
   ]
  },
  {
   "cell_type": "raw",
   "metadata": {},
   "source": [
    "Pythonda aslında herbir dosya bir modüldür ve her bir modül içinde fonksiyonlar, sınıflar ve objeler barındırır. Biz de bu modülleri programımıza dahil ederek içindeki fonksiyonlardan, sınıflardan ve objelerden faydalanabiliriz."
   ]
  },
  {
   "cell_type": "markdown",
   "metadata": {},
   "source": [
    "### Bir modülü kullanmak için 1. yöntem"
   ]
  },
  {
   "cell_type": "raw",
   "metadata": {},
   "source": [
    "import moduladı\n",
    "yazmamız yeterli. Bu yöntemle modüldeki fonksiyonların tamamını içeri aktarmış oluruz. Daha sonra modüldeki fonksiyonları çağırmak için,\n",
    "moduladı.fonksiyon(parametresi)\n",
    "şeklinde giriş yapmamız gerekir."
   ]
  },
  {
   "cell_type": "raw",
   "metadata": {},
   "source": [
    "import ettiğimiz bir moduldeki fonksiyonların listesini görmek için,\n",
    "dir(moduladı) fonksiyonunu kullanırız.\n",
    "Ayrıca modül içindeki açıklamaları, modül fonksiyonlarının özelliklerini görmek için de,\n",
    "help(moduladı) fonksiyonunu, ya da modül içindeki belli bir fonksiyonun açıklamalarını görmek için ise,\n",
    "help(moduladı.fonksiyon) şeklinde giriş yapabiliriz.\n",
    "İstersek modülü kendi programımız içinde farklı bir adla kullanabiliriz. Bunun için,\n",
    "import moduladı as kullanmak_istediğimiz_moduladı"
   ]
  },
  {
   "cell_type": "code",
   "execution_count": 1,
   "metadata": {},
   "outputs": [],
   "source": [
    "import math"
   ]
  },
  {
   "cell_type": "code",
   "execution_count": 2,
   "metadata": {},
   "outputs": [
    {
     "name": "stdout",
     "output_type": "stream",
     "text": [
      "Help on built-in module math:\n",
      "\n",
      "NAME\n",
      "    math\n",
      "\n",
      "DESCRIPTION\n",
      "    This module is always available.  It provides access to the\n",
      "    mathematical functions defined by the C standard.\n",
      "\n",
      "FUNCTIONS\n",
      "    acos(x, /)\n",
      "        Return the arc cosine (measured in radians) of x.\n",
      "    \n",
      "    acosh(x, /)\n",
      "        Return the inverse hyperbolic cosine of x.\n",
      "    \n",
      "    asin(x, /)\n",
      "        Return the arc sine (measured in radians) of x.\n",
      "    \n",
      "    asinh(x, /)\n",
      "        Return the inverse hyperbolic sine of x.\n",
      "    \n",
      "    atan(x, /)\n",
      "        Return the arc tangent (measured in radians) of x.\n",
      "    \n",
      "    atan2(y, x, /)\n",
      "        Return the arc tangent (measured in radians) of y/x.\n",
      "        \n",
      "        Unlike atan(y/x), the signs of both x and y are considered.\n",
      "    \n",
      "    atanh(x, /)\n",
      "        Return the inverse hyperbolic tangent of x.\n",
      "    \n",
      "    ceil(x, /)\n",
      "        Return the ceiling of x as an Integral.\n",
      "        \n",
      "        This is the smallest integer >= x.\n",
      "    \n",
      "    copysign(x, y, /)\n",
      "        Return a float with the magnitude (absolute value) of x but the sign of y.\n",
      "        \n",
      "        On platforms that support signed zeros, copysign(1.0, -0.0)\n",
      "        returns -1.0.\n",
      "    \n",
      "    cos(x, /)\n",
      "        Return the cosine of x (measured in radians).\n",
      "    \n",
      "    cosh(x, /)\n",
      "        Return the hyperbolic cosine of x.\n",
      "    \n",
      "    degrees(x, /)\n",
      "        Convert angle x from radians to degrees.\n",
      "    \n",
      "    erf(x, /)\n",
      "        Error function at x.\n",
      "    \n",
      "    erfc(x, /)\n",
      "        Complementary error function at x.\n",
      "    \n",
      "    exp(x, /)\n",
      "        Return e raised to the power of x.\n",
      "    \n",
      "    expm1(x, /)\n",
      "        Return exp(x)-1.\n",
      "        \n",
      "        This function avoids the loss of precision involved in the direct evaluation of exp(x)-1 for small x.\n",
      "    \n",
      "    fabs(x, /)\n",
      "        Return the absolute value of the float x.\n",
      "    \n",
      "    factorial(x, /)\n",
      "        Find x!.\n",
      "        \n",
      "        Raise a ValueError if x is negative or non-integral.\n",
      "    \n",
      "    floor(x, /)\n",
      "        Return the floor of x as an Integral.\n",
      "        \n",
      "        This is the largest integer <= x.\n",
      "    \n",
      "    fmod(x, y, /)\n",
      "        Return fmod(x, y), according to platform C.\n",
      "        \n",
      "        x % y may differ.\n",
      "    \n",
      "    frexp(x, /)\n",
      "        Return the mantissa and exponent of x, as pair (m, e).\n",
      "        \n",
      "        m is a float and e is an int, such that x = m * 2.**e.\n",
      "        If x is 0, m and e are both 0.  Else 0.5 <= abs(m) < 1.0.\n",
      "    \n",
      "    fsum(seq, /)\n",
      "        Return an accurate floating point sum of values in the iterable seq.\n",
      "        \n",
      "        Assumes IEEE-754 floating point arithmetic.\n",
      "    \n",
      "    gamma(x, /)\n",
      "        Gamma function at x.\n",
      "    \n",
      "    gcd(x, y, /)\n",
      "        greatest common divisor of x and y\n",
      "    \n",
      "    hypot(x, y, /)\n",
      "        Return the Euclidean distance, sqrt(x*x + y*y).\n",
      "    \n",
      "    isclose(a, b, *, rel_tol=1e-09, abs_tol=0.0)\n",
      "        Determine whether two floating point numbers are close in value.\n",
      "        \n",
      "          rel_tol\n",
      "            maximum difference for being considered \"close\", relative to the\n",
      "            magnitude of the input values\n",
      "          abs_tol\n",
      "            maximum difference for being considered \"close\", regardless of the\n",
      "            magnitude of the input values\n",
      "        \n",
      "        Return True if a is close in value to b, and False otherwise.\n",
      "        \n",
      "        For the values to be considered close, the difference between them\n",
      "        must be smaller than at least one of the tolerances.\n",
      "        \n",
      "        -inf, inf and NaN behave similarly to the IEEE 754 Standard.  That\n",
      "        is, NaN is not close to anything, even itself.  inf and -inf are\n",
      "        only close to themselves.\n",
      "    \n",
      "    isfinite(x, /)\n",
      "        Return True if x is neither an infinity nor a NaN, and False otherwise.\n",
      "    \n",
      "    isinf(x, /)\n",
      "        Return True if x is a positive or negative infinity, and False otherwise.\n",
      "    \n",
      "    isnan(x, /)\n",
      "        Return True if x is a NaN (not a number), and False otherwise.\n",
      "    \n",
      "    ldexp(x, i, /)\n",
      "        Return x * (2**i).\n",
      "        \n",
      "        This is essentially the inverse of frexp().\n",
      "    \n",
      "    lgamma(x, /)\n",
      "        Natural logarithm of absolute value of Gamma function at x.\n",
      "    \n",
      "    log(...)\n",
      "        log(x, [base=math.e])\n",
      "        Return the logarithm of x to the given base.\n",
      "        \n",
      "        If the base not specified, returns the natural logarithm (base e) of x.\n",
      "    \n",
      "    log10(x, /)\n",
      "        Return the base 10 logarithm of x.\n",
      "    \n",
      "    log1p(x, /)\n",
      "        Return the natural logarithm of 1+x (base e).\n",
      "        \n",
      "        The result is computed in a way which is accurate for x near zero.\n",
      "    \n",
      "    log2(x, /)\n",
      "        Return the base 2 logarithm of x.\n",
      "    \n",
      "    modf(x, /)\n",
      "        Return the fractional and integer parts of x.\n",
      "        \n",
      "        Both results carry the sign of x and are floats.\n",
      "    \n",
      "    pow(x, y, /)\n",
      "        Return x**y (x to the power of y).\n",
      "    \n",
      "    radians(x, /)\n",
      "        Convert angle x from degrees to radians.\n",
      "    \n",
      "    remainder(x, y, /)\n",
      "        Difference between x and the closest integer multiple of y.\n",
      "        \n",
      "        Return x - n*y where n*y is the closest integer multiple of y.\n",
      "        In the case where x is exactly halfway between two multiples of\n",
      "        y, the nearest even value of n is used. The result is always exact.\n",
      "    \n",
      "    sin(x, /)\n",
      "        Return the sine of x (measured in radians).\n",
      "    \n",
      "    sinh(x, /)\n",
      "        Return the hyperbolic sine of x.\n",
      "    \n",
      "    sqrt(x, /)\n",
      "        Return the square root of x.\n",
      "    \n",
      "    tan(x, /)\n",
      "        Return the tangent of x (measured in radians).\n",
      "    \n",
      "    tanh(x, /)\n",
      "        Return the hyperbolic tangent of x.\n",
      "    \n",
      "    trunc(x, /)\n",
      "        Truncates the Real x to the nearest Integral toward 0.\n",
      "        \n",
      "        Uses the __trunc__ magic method.\n",
      "\n",
      "DATA\n",
      "    e = 2.718281828459045\n",
      "    inf = inf\n",
      "    nan = nan\n",
      "    pi = 3.141592653589793\n",
      "    tau = 6.283185307179586\n",
      "\n",
      "FILE\n",
      "    (built-in)\n",
      "\n",
      "\n"
     ]
    }
   ],
   "source": [
    "help(math)"
   ]
  },
  {
   "cell_type": "code",
   "execution_count": 3,
   "metadata": {},
   "outputs": [
    {
     "name": "stdout",
     "output_type": "stream",
     "text": [
      "Help on built-in function factorial in module math:\n",
      "\n",
      "factorial(x, /)\n",
      "    Find x!.\n",
      "    \n",
      "    Raise a ValueError if x is negative or non-integral.\n",
      "\n"
     ]
    }
   ],
   "source": [
    "help(math.factorial)"
   ]
  },
  {
   "cell_type": "code",
   "execution_count": 4,
   "metadata": {},
   "outputs": [
    {
     "data": {
      "text/plain": [
       "120"
      ]
     },
     "execution_count": 4,
     "metadata": {},
     "output_type": "execute_result"
    }
   ],
   "source": [
    "math.factorial(5)"
   ]
  },
  {
   "cell_type": "code",
   "execution_count": 5,
   "metadata": {},
   "outputs": [],
   "source": [
    "import math as matematik"
   ]
  },
  {
   "cell_type": "code",
   "execution_count": 6,
   "metadata": {},
   "outputs": [
    {
     "data": {
      "text/plain": [
       "720"
      ]
     },
     "execution_count": 6,
     "metadata": {},
     "output_type": "execute_result"
    }
   ],
   "source": [
    "matematik.factorial(6)"
   ]
  },
  {
   "cell_type": "code",
   "execution_count": 7,
   "metadata": {},
   "outputs": [
    {
     "data": {
      "text/plain": [
       "720"
      ]
     },
     "execution_count": 7,
     "metadata": {},
     "output_type": "execute_result"
    }
   ],
   "source": [
    "math.factorial(6)"
   ]
  },
  {
   "cell_type": "markdown",
   "metadata": {},
   "source": [
    "### Modülleri kullanmanın ikinci yöntemi"
   ]
  },
  {
   "cell_type": "raw",
   "metadata": {},
   "source": [
    "from moduladı import istediğimiz_fonksiyonlar\n",
    "Burada dikkat edilecek olan, bu yöntemle sadece istediğimiz fonksiyonları içeri alıyoruz. İstersek aynı yöntemle tüm fonksiyonları da joker karakter ile şu şekilde içeri alabiliriz:\n",
    "from moduladı import *"
   ]
  },
  {
   "cell_type": "raw",
   "metadata": {},
   "source": [
    "Yukarıdaki örneklerde math modülünü tümden içeri aktardığımız için kerneli yeniden başlatıp, bir modülün sadece belirli fonksiyonlarını import etmeden önce farkı anlamak için ceil fonksiyonunu deneyelim."
   ]
  },
  {
   "cell_type": "code",
   "execution_count": 8,
   "metadata": {},
   "outputs": [
    {
     "name": "stdout",
     "output_type": "stream",
     "text": [
      "Help on built-in function ceil in module math:\n",
      "\n",
      "ceil(x, /)\n",
      "    Return the ceiling of x as an Integral.\n",
      "    \n",
      "    This is the smallest integer >= x.\n",
      "\n"
     ]
    }
   ],
   "source": [
    "help(math.ceil)"
   ]
  },
  {
   "cell_type": "code",
   "execution_count": 12,
   "metadata": {},
   "outputs": [
    {
     "data": {
      "text/plain": [
       "4"
      ]
     },
     "execution_count": 12,
     "metadata": {},
     "output_type": "execute_result"
    }
   ],
   "source": [
    "math.ceil(3.655)"
   ]
  },
  {
   "cell_type": "raw",
   "metadata": {},
   "source": [
    "kernel yeniden başlatalım"
   ]
  },
  {
   "cell_type": "code",
   "execution_count": 1,
   "metadata": {},
   "outputs": [
    {
     "data": {
      "text/plain": [
       "120"
      ]
     },
     "execution_count": 1,
     "metadata": {},
     "output_type": "execute_result"
    }
   ],
   "source": [
    "from math import factorial,floor #sadece bu iki fonksiyonu import ediyoruz.\n",
    "factorial(5)"
   ]
  },
  {
   "cell_type": "code",
   "execution_count": 2,
   "metadata": {},
   "outputs": [
    {
     "data": {
      "text/plain": [
       "6"
      ]
     },
     "execution_count": 2,
     "metadata": {},
     "output_type": "execute_result"
    }
   ],
   "source": [
    "floor(6.324)"
   ]
  },
  {
   "cell_type": "code",
   "execution_count": 4,
   "metadata": {},
   "outputs": [
    {
     "ename": "NameError",
     "evalue": "name 'ceil' is not defined",
     "output_type": "error",
     "traceback": [
      "\u001b[1;31m---------------------------------------------------------------------------\u001b[0m",
      "\u001b[1;31mNameError\u001b[0m                                 Traceback (most recent call last)",
      "\u001b[1;32m<ipython-input-4-107c946362b2>\u001b[0m in \u001b[0;36m<module>\u001b[1;34m\u001b[0m\n\u001b[1;32m----> 1\u001b[1;33m \u001b[0mceil\u001b[0m\u001b[1;33m(\u001b[0m\u001b[1;36m5.75\u001b[0m\u001b[1;33m)\u001b[0m \u001b[1;31m#bu fonksiyonu dahil etmediğimiz için hata verecek\u001b[0m\u001b[1;33m\u001b[0m\u001b[1;33m\u001b[0m\u001b[0m\n\u001b[0m",
      "\u001b[1;31mNameError\u001b[0m: name 'ceil' is not defined"
     ]
    }
   ],
   "source": [
    "ceil(5.75) #bu fonksiyonu dahil etmediğimiz için hata verecek"
   ]
  },
  {
   "cell_type": "raw",
   "metadata": {},
   "source": [
    "İki yöntemin farklarından biri de görüldüğü gibi ikinci yöntemde fonksiyonları çağırırken başına modül adı yazmamız gerekmiyor."
   ]
  },
  {
   "cell_type": "raw",
   "metadata": {},
   "source": [
    "Eğer cağırdığımız modülde bizim zaten var olan bir fonksiyonumuzla aynı isimde başka bir fonksiyon varsa, python son gördüğü fonksiyonu kullanır."
   ]
  },
  {
   "cell_type": "raw",
   "metadata": {},
   "source": [
    "Kernel Restart edip bir factorial fonksiyonu tanımlayalım ve sonra math modülünü import edelim, bakalım hangi fonksiyonu çalıştıracak"
   ]
  },
  {
   "cell_type": "code",
   "execution_count": 1,
   "metadata": {},
   "outputs": [],
   "source": [
    "def factorial(x):\n",
    "    print(\"Zaten var olan kendi fonksiyonum\")\n",
    "    factorial=1\n",
    "    if (x == 0 or x == 1):\n",
    "        return 1\n",
    "    while (x >= 1):\n",
    "        factorial *= x\n",
    "        x -= 1\n",
    "    return factorial\n",
    "#fonksiyonumuzu tanımladık, şimdi deneme için çalıştıralım"
   ]
  },
  {
   "cell_type": "code",
   "execution_count": 2,
   "metadata": {},
   "outputs": [
    {
     "name": "stdout",
     "output_type": "stream",
     "text": [
      "Zaten var olan kendi fonksiyonum\n"
     ]
    },
    {
     "data": {
      "text/plain": [
       "120"
      ]
     },
     "execution_count": 2,
     "metadata": {},
     "output_type": "execute_result"
    }
   ],
   "source": [
    "factorial(5)"
   ]
  },
  {
   "cell_type": "code",
   "execution_count": 3,
   "metadata": {},
   "outputs": [],
   "source": [
    "from math import *"
   ]
  },
  {
   "cell_type": "code",
   "execution_count": 4,
   "metadata": {},
   "outputs": [
    {
     "data": {
      "text/plain": [
       "720"
      ]
     },
     "execution_count": 4,
     "metadata": {},
     "output_type": "execute_result"
    }
   ],
   "source": [
    "factorial(6) "
   ]
  },
  {
   "cell_type": "raw",
   "metadata": {},
   "source": [
    "en son math içindeki fonksiyonu gördüğü için benim fonksiyonumu kullanmadı."
   ]
  },
  {
   "cell_type": "markdown",
   "metadata": {},
   "source": [
    "### Kendi Modüllerimizi yazmak"
   ]
  },
  {
   "cell_type": "raw",
   "metadata": {},
   "source": [
    "Herhangi bir py dosyasına istediğimiz fonksiyonları tanımlıyoruz ve kaydediyor. Sonra başka bir py dosyasının içine bunu modül olarak import etmek için her iki dosyanın aynı klasörde olması yeterlidir. Eğer oluşturduğumuz modül dosyasını heryerden import edebilmek istiyorsak o zaman modül dosyamızı python37 klasörünün içindeki lib klasörünün içine kaydetmemiz gerekiyor."
   ]
  },
  {
   "cell_type": "markdown",
   "metadata": {},
   "source": [
    "# Nesne Tabanlı Programlama"
   ]
  },
  {
   "cell_type": "markdown",
   "metadata": {},
   "source": [
    "## Giriş"
   ]
  },
  {
   "cell_type": "markdown",
   "metadata": {},
   "source": [
    "### Nesne (object) Nedir?"
   ]
  },
  {
   "cell_type": "raw",
   "metadata": {},
   "source": [
    "Örneğin bir tane televizyon kumandasını düşünelim. Bu kumandanın kendi içinde değişik özellikleri (attribute) ve fonksiyonları(metod) bulunuyor. Örneğin, kumandanın markası, tuşları aslında bu kumandanın özellikleridir(attribute). Kumandanın kırmızı tuşuna bastığımızda televizyonun kapanması ve sesi kapatma tuşuna bastığımızda televizyonun sesinin kapanması bu kumandanın metodlarıdır. Bunun gibi Pythondaki aslında her şey bir objedir."
   ]
  },
  {
   "cell_type": "code",
   "execution_count": 2,
   "metadata": {},
   "outputs": [],
   "source": [
    "liste=[2,5,\"a\",8] #bir objedir\n",
    "liste.append(\"b\") # objenin bir metodudur..."
   ]
  },
  {
   "cell_type": "raw",
   "metadata": {},
   "source": [
    "sözlükler, demetler, fonksiyonlar hepsi birer objedir."
   ]
  },
  {
   "cell_type": "markdown",
   "metadata": {},
   "source": [
    "## Sınıflar"
   ]
  },
  {
   "cell_type": "raw",
   "metadata": {},
   "source": [
    "Kendi veri tiplerimizi oluşturmak ve bu veri tiplerinden objeler üretmemiz için tasarladığımız yapıya sınıf veya ingilizce ismiyle class diyoruz."
   ]
  },
  {
   "cell_type": "markdown",
   "metadata": {},
   "source": [
    "### class anahtar kelimesi"
   ]
  },
  {
   "cell_type": "raw",
   "metadata": {},
   "source": [
    "Sınıflar objelerimizi oluştururken objelerin özelliklerini ve metodlarını tanımladığımız bir yapıdır ve her bir objemiz bu yapıya göre üretilir."
   ]
  },
  {
   "cell_type": "code",
   "execution_count": 24,
   "metadata": {},
   "outputs": [
    {
     "data": {
      "text/plain": [
       "'\\nobje_ismi=sınıf_ismi(parametreler(opsiyoneller))\\n'"
      ]
     },
     "execution_count": 24,
     "metadata": {},
     "output_type": "execute_result"
    }
   ],
   "source": [
    "class arabalar(): \n",
    "    marka=\"Hyundai\"\n",
    "    model=\"ix35\"\n",
    "    renk=\"siyah\"\n",
    "    kasa=\"suv\"  #en basit haliyle bu şekilde üretilir. Bu da benzer formdaki diğer ifaler gibi, bir bloktur.\n",
    "#Bu şekilde sınıfımızı tanımlamış olduk, şimdi bu sınıfı kullanarak bir obje üretelim.\n",
    "#Objeler şu şekilde üretiliyor:\n",
    "\"\"\"\n",
    "obje_ismi=sınıf_ismi(parametreler(opsiyoneller))\n",
    "\"\"\""
   ]
  },
  {
   "cell_type": "code",
   "execution_count": 16,
   "metadata": {},
   "outputs": [
    {
     "data": {
      "text/plain": [
       "<__main__.arabalar at 0x1dd1a421438>"
      ]
     },
     "execution_count": 16,
     "metadata": {},
     "output_type": "execute_result"
    }
   ],
   "source": [
    "araba1=arabalar() # arabalar veri tipinde bir araba1 objesi oluşturduk\n",
    "araba1"
   ]
  },
  {
   "cell_type": "code",
   "execution_count": 17,
   "metadata": {},
   "outputs": [
    {
     "data": {
      "text/plain": [
       "__main__.arabalar"
      ]
     },
     "execution_count": 17,
     "metadata": {},
     "output_type": "execute_result"
    }
   ],
   "source": [
    "type(araba1) #oluşturduğumuz araba1 objesinin tipini sorgulayalım"
   ]
  },
  {
   "cell_type": "raw",
   "metadata": {},
   "source": [
    "araba1 objesi arabalar sınıfında tanımladığımız bütün özelliklere (attributes) sahiptir.\n",
    "obje_ismi.özellik\n",
    "şeklinde özelliklere ulaşılır."
   ]
  },
  {
   "cell_type": "code",
   "execution_count": 19,
   "metadata": {},
   "outputs": [
    {
     "data": {
      "text/plain": [
       "'Hyundai'"
      ]
     },
     "execution_count": 19,
     "metadata": {},
     "output_type": "execute_result"
    }
   ],
   "source": [
    "araba1.marka"
   ]
  },
  {
   "cell_type": "code",
   "execution_count": 20,
   "metadata": {},
   "outputs": [
    {
     "data": {
      "text/plain": [
       "'siyah'"
      ]
     },
     "execution_count": 20,
     "metadata": {},
     "output_type": "execute_result"
    }
   ],
   "source": [
    "araba1.renk"
   ]
  },
  {
   "cell_type": "code",
   "execution_count": 21,
   "metadata": {},
   "outputs": [],
   "source": [
    "araba2=arabalar()"
   ]
  },
  {
   "cell_type": "code",
   "execution_count": 22,
   "metadata": {},
   "outputs": [
    {
     "data": {
      "text/plain": [
       "<__main__.arabalar at 0x1dd1a4215c0>"
      ]
     },
     "execution_count": 22,
     "metadata": {},
     "output_type": "execute_result"
    }
   ],
   "source": [
    "araba2"
   ]
  },
  {
   "cell_type": "code",
   "execution_count": 23,
   "metadata": {},
   "outputs": [
    {
     "data": {
      "text/plain": [
       "'Hyundai'"
      ]
     },
     "execution_count": 23,
     "metadata": {},
     "output_type": "execute_result"
    }
   ],
   "source": [
    "araba2.marka"
   ]
  },
  {
   "cell_type": "code",
   "execution_count": 24,
   "metadata": {},
   "outputs": [
    {
     "data": {
      "text/plain": [
       "'ix35'"
      ]
     },
     "execution_count": 24,
     "metadata": {},
     "output_type": "execute_result"
    }
   ],
   "source": [
    "araba2.model"
   ]
  },
  {
   "cell_type": "code",
   "execution_count": 25,
   "metadata": {},
   "outputs": [
    {
     "data": {
      "text/plain": [
       "'siyah'"
      ]
     },
     "execution_count": 25,
     "metadata": {},
     "output_type": "execute_result"
    }
   ],
   "source": [
    "araba2.renk"
   ]
  },
  {
   "cell_type": "raw",
   "metadata": {},
   "source": [
    "Dikkat edileceği gibi oluşturduğumuz bu objelerin özelliklerinin değerleri hep aynıdır.\n",
    "sınıf: \"arabalar\"\n",
    "obje:\"araba1\"\n",
    "özellik:\"marka\"\n",
    "değer: \"hyundai\"\n",
    "Bunun nedeni, aslında bu özelliklerin birer sınıf özelliği olmasıdır. Yani bir obje oluşturduğumuzda bu özellikler ve bunlara ait değerler varsayılan olarak gelir.\n",
    "Bu özelliklere ve değerlerine bir obje oluşturmadan da ulaşabiliriz:\n",
    "arabalar.marka\n",
    "arabalar.renk\n",
    "Yani objelerle aynı..."
   ]
  },
  {
   "cell_type": "code",
   "execution_count": 26,
   "metadata": {},
   "outputs": [
    {
     "data": {
      "text/plain": [
       "'Hyundai'"
      ]
     },
     "execution_count": 26,
     "metadata": {},
     "output_type": "execute_result"
    }
   ],
   "source": [
    "arabalar.marka"
   ]
  },
  {
   "cell_type": "code",
   "execution_count": 27,
   "metadata": {},
   "outputs": [
    {
     "data": {
      "text/plain": [
       "'ix35'"
      ]
     },
     "execution_count": 27,
     "metadata": {},
     "output_type": "execute_result"
    }
   ],
   "source": [
    "arabalar.model"
   ]
  },
  {
   "cell_type": "raw",
   "metadata": {},
   "source": [
    "Bir objeyi oluştururken başlangıçta farklı değerler verebilmek için \n",
    "__init()__\n",
    "özel metodu kullanılır"
   ]
  },
  {
   "cell_type": "code",
   "execution_count": 28,
   "metadata": {},
   "outputs": [
    {
     "data": {
      "text/plain": [
       "['__class__',\n",
       " '__delattr__',\n",
       " '__dict__',\n",
       " '__dir__',\n",
       " '__doc__',\n",
       " '__eq__',\n",
       " '__format__',\n",
       " '__ge__',\n",
       " '__getattribute__',\n",
       " '__gt__',\n",
       " '__hash__',\n",
       " '__init__',\n",
       " '__init_subclass__',\n",
       " '__le__',\n",
       " '__lt__',\n",
       " '__module__',\n",
       " '__ne__',\n",
       " '__new__',\n",
       " '__reduce__',\n",
       " '__reduce_ex__',\n",
       " '__repr__',\n",
       " '__setattr__',\n",
       " '__sizeof__',\n",
       " '__str__',\n",
       " '__subclasshook__',\n",
       " '__weakref__',\n",
       " 'kasa',\n",
       " 'marka',\n",
       " 'model',\n",
       " 'renk']"
      ]
     },
     "execution_count": 28,
     "metadata": {},
     "output_type": "execute_result"
    }
   ],
   "source": [
    "dir(araba1) #Fonksiynunu kullanarak, öncelikle araba1 içinde neler olduğuna bakalım."
   ]
  },
  {
   "cell_type": "raw",
   "metadata": {},
   "source": [
    "Bu listede objeye ait tüm özellik ve metotları görüyoruz. Burada bizim tanımladığımız özellikler de var, ancak metodları biz tanımlamadık, bu metodlar kullanıcı tarafından özel olarak tanımlanmadıkları durumda python tarafından varsayılan olarak tanımlanan metodlardır. Bu varsayılan metodlar arasında init de görülmektedir. Eğer init metodunu biz özel olarak kendimiz tanımlarsak, objeleri ilk oluştururken farklı değerler kullanabiliriz.\n",
    "init metodu pythonda yapıcı (constructor) fonksiyon olarak tanımlanmaktadır. Objeler oluşturulurken otomatik olarak ilk çağırılan fonksiyondur."
   ]
  },
  {
   "cell_type": "code",
   "execution_count": 29,
   "metadata": {},
   "outputs": [],
   "source": [
    "class araba():\n",
    "    #şimdilik özlliklere ihtiyaç duymuyoruz.\n",
    "    def __init__(self):\n",
    "        print(\"init fonksiyonu çağırıldı\")"
   ]
  },
  {
   "cell_type": "code",
   "execution_count": 30,
   "metadata": {},
   "outputs": [
    {
     "name": "stdout",
     "output_type": "stream",
     "text": [
      "init fonksiyonu çağırıldı\n"
     ]
    }
   ],
   "source": [
    "araba1=araba() #araba1 objesini bu şekilde tanımladığımızda otomatik olarak init fonksiyonu da çağırılıyor..."
   ]
  },
  {
   "cell_type": "raw",
   "metadata": {},
   "source": [
    "Burada self anahtar kelimesi objeyi oluşturduğumuz zaman o objeyi gösteren bir referanstır ve metodlarımızda en başta bulunması gereken bir parametredir. Yani biz bir objenin bütün özelliklerini ve metodlarını bu referans üzerinden kullanabiliriz.\n",
    "Bunu daha iyi anlamak için, objelerimize özellikler ekleyelim:"
   ]
  },
  {
   "cell_type": "code",
   "execution_count": 53,
   "metadata": {},
   "outputs": [],
   "source": [
    "class araba():\n",
    "    def __init__(self,markası,modeli,rengi,kasa_tipi): #parametrelerimiz bunlar, değerlerini ise obje oluştururken göndereceğiz\n",
    "        self.marka=markası #self.özellik_ismi=parametre değeri şeklinde objemizin marka özelliğine değeri atıyoruz.\n",
    "        self.model=modeli #self.özellik_ismi=parametre değeri şeklinde objemizin model özelliğine değeri atıyoruz.\n",
    "        self.renk=rengi #...\n",
    "        self.kasa=kasa_tipi #...\n",
    "#class tanımladık, şimdi objelerimizi oluşturalım:"
   ]
  },
  {
   "cell_type": "code",
   "execution_count": 54,
   "metadata": {},
   "outputs": [],
   "source": [
    "araba1=araba(\"Hyundai\",\"ix35\",\"siyah\",\"SUV\") #eksik tanımlama yapamıyoruz."
   ]
  },
  {
   "cell_type": "code",
   "execution_count": 55,
   "metadata": {},
   "outputs": [],
   "source": [
    "araba2=araba(\"Ford\",\"P100\",\"Beyaz\",\"Kamyonet\") #eksik tanımlama yapamıyoruz"
   ]
  },
  {
   "cell_type": "code",
   "execution_count": 56,
   "metadata": {},
   "outputs": [
    {
     "name": "stdout",
     "output_type": "stream",
     "text": [
      "Help on araba in module __main__ object:\n",
      "\n",
      "class araba(builtins.object)\n",
      " |  araba(markası, modeli, rengi, kasa_tipi)\n",
      " |  \n",
      " |  Methods defined here:\n",
      " |  \n",
      " |  __init__(self, markası, modeli, rengi, kasa_tipi)\n",
      " |      Initialize self.  See help(type(self)) for accurate signature.\n",
      " |  \n",
      " |  ----------------------------------------------------------------------\n",
      " |  Data descriptors defined here:\n",
      " |  \n",
      " |  __dict__\n",
      " |      dictionary for instance variables (if defined)\n",
      " |  \n",
      " |  __weakref__\n",
      " |      list of weak references to the object (if defined)\n",
      "\n"
     ]
    }
   ],
   "source": [
    "help(araba1)"
   ]
  },
  {
   "cell_type": "code",
   "execution_count": 58,
   "metadata": {},
   "outputs": [
    {
     "data": {
      "text/plain": [
       "'ix35'"
      ]
     },
     "execution_count": 58,
     "metadata": {},
     "output_type": "execute_result"
    }
   ],
   "source": [
    "araba1.model"
   ]
  },
  {
   "cell_type": "code",
   "execution_count": 59,
   "metadata": {},
   "outputs": [
    {
     "data": {
      "text/plain": [
       "'Kamyonet'"
      ]
     },
     "execution_count": 59,
     "metadata": {},
     "output_type": "execute_result"
    }
   ],
   "source": [
    "araba2.kasa"
   ]
  },
  {
   "cell_type": "raw",
   "metadata": {},
   "source": [
    "Yukarıdaki örneklerde eksik tanımlama yapamıyorduk çünkü metodların varsayılan değerleri yoktu:"
   ]
  },
  {
   "cell_type": "code",
   "execution_count": 60,
   "metadata": {},
   "outputs": [],
   "source": [
    "class bimsblok():\n",
    "    def __init__(self,kalınlık=15,yukseklik=19,uzunluk=40,odacık=3,lambdadegeri=0.8):\n",
    "        bimsblok.thick=kalınlık\n",
    "        bimsblok.height=yukseklik\n",
    "        bimsblok.length=uzunluk\n",
    "        bimsblok.gap=odacık\n",
    "        bimsblok.heat=lambdadegeri"
   ]
  },
  {
   "cell_type": "code",
   "execution_count": 63,
   "metadata": {},
   "outputs": [],
   "source": [
    "SW20likblok=bimsblok(kalınlık=20,odacık=5,lambdadegeri=0.7)"
   ]
  },
  {
   "cell_type": "code",
   "execution_count": 65,
   "metadata": {},
   "outputs": [
    {
     "data": {
      "text/plain": [
       "19"
      ]
     },
     "execution_count": 65,
     "metadata": {},
     "output_type": "execute_result"
    }
   ],
   "source": [
    "SW20likblok.height"
   ]
  },
  {
   "cell_type": "code",
   "execution_count": 66,
   "metadata": {},
   "outputs": [
    {
     "data": {
      "text/plain": [
       "20"
      ]
     },
     "execution_count": 66,
     "metadata": {},
     "output_type": "execute_result"
    }
   ],
   "source": [
    "SW20likblok.thick"
   ]
  },
  {
   "cell_type": "markdown",
   "metadata": {},
   "source": [
    "## Nesne Tabanlı programlamada Metodlar"
   ]
  },
  {
   "cell_type": "code",
   "execution_count": 82,
   "metadata": {},
   "outputs": [
    {
     "data": {
      "text/plain": [
       "['python', 'fortran', 'matlab']"
      ]
     },
     "execution_count": 82,
     "metadata": {},
     "output_type": "execute_result"
    }
   ],
   "source": [
    "#buraya kadar bildiklerimizi bir örnekle işleyelim:\n",
    "class Yazılımcı():\n",
    "    isimlist=[]\n",
    "    def __init__(self,isim,soyisim,tel,maaş,diller):\n",
    "        self.ad=isim\n",
    "        self.soyad=soyisim\n",
    "        self.no=tel\n",
    "        self.maas=maaş\n",
    "        self.dil=diller\n",
    "No001=Yazılımcı(\"Murat\",\"Kurt\",345665,32456,[\"python\",\"fortran\",\"matlab\"])\n",
    "No002=Yazılımcı(\"Mehmet\",\"Abbas\",347654,9767,[\"python\",\"C++\",\"java\"])\n",
    "No001.dil"
   ]
  },
  {
   "cell_type": "code",
   "execution_count": 83,
   "metadata": {},
   "outputs": [
    {
     "data": {
      "text/plain": [
       "'Mehmet'"
      ]
     },
     "execution_count": 83,
     "metadata": {},
     "output_type": "execute_result"
    }
   ],
   "source": [
    "No002.ad"
   ]
  },
  {
   "cell_type": "code",
   "execution_count": 86,
   "metadata": {},
   "outputs": [
    {
     "name": "stdout",
     "output_type": "stream",
     "text": [
      "Yazılımcı Bilgileri:\n",
      "        Adı: Murat\n",
      "        Soyadı: Kurt\n",
      "        Tel: 345665\n",
      "        Maaşı: 32456\n",
      "        Bildiği Diller: ['python', 'fortran', 'matlab']\n"
     ]
    }
   ],
   "source": [
    "#Buraya kadar olanları biliyoruz, şimdi metodlara geçelim. Mesela bilgilerigoster isimli bir metod tanımlayalım:\n",
    "class Yazılımcı():\n",
    "    isimlist=[]\n",
    "    def __init__(self,isim,soyisim,tel,maaş,diller):\n",
    "        self.ad=isim\n",
    "        self.soyad=soyisim\n",
    "        self.no=tel\n",
    "        self.maas=maaş\n",
    "        self.dil=diller\n",
    "    def bilgileri_goster(self):\n",
    "        print(\"\"\"Yazılımcı Bilgileri:\n",
    "        Adı: {}\n",
    "        Soyadı: {}\n",
    "        Tel: {}\n",
    "        Maaşı: {}\n",
    "        Bildiği Diller: {}\"\"\".format(self.ad,self.soyad,self.no,self.maas,self.dil))\n",
    "        \n",
    "No001=Yazılımcı(\"Murat\",\"Kurt\",345665,32456,[\"python\",\"fortran\",\"matlab\"])\n",
    "No002=Yazılımcı(\"Mehmet\",\"Abbas\",347654,9767,[\"python\",\"C++\",\"java\"])\n",
    "No001.bilgileri_goster()\n",
    "#Metodlarımızı yazarken dikkat etmemiz gerek nokta, her metodun birinci parametresinin self referansı olması gerektiğidir.\n",
    "#Ayrıca objelerimizin özelliklerine mutlaka self referansıyla erişmemiz gerekiyor. "
   ]
  },
  {
   "cell_type": "code",
   "execution_count": 94,
   "metadata": {},
   "outputs": [
    {
     "name": "stdout",
     "output_type": "stream",
     "text": [
      "Yazılımcı Bilgileri:\n",
      "        Adı: Murat\n",
      "        Soyadı: Kurt\n",
      "        Tel: 345665\n",
      "        Maaşı: 5000\n",
      "        Bildiği Diller: ['python', 'fortran', 'matlab']\n"
     ]
    }
   ],
   "source": [
    "#Bu classımıza 2 metod daha ekleyelim.\n",
    "class Yazılımcı():\n",
    "    isimlist=[]\n",
    "    def __init__(self,isim,soyisim,tel,maaş,diller):\n",
    "        self.ad=isim\n",
    "        self.soyad=soyisim\n",
    "        self.no=tel\n",
    "        self.maas=maaş\n",
    "        self.dil=diller\n",
    "    def bilgileri_goster(self):\n",
    "        print(\"\"\"Yazılımcı Bilgileri:\n",
    "        Adı: {}\n",
    "        Soyadı: {}\n",
    "        Tel: {}\n",
    "        Maaşı: {}\n",
    "        Bildiği Diller: {}\"\"\".format(self.ad,self.soyad,self.no,self.maas,self.dil))\n",
    "    def dil_ekle(self):\n",
    "        self.dil.append(input(\"Eklenecek Dil: \"))\n",
    "    def maas_artır(self):\n",
    "        self.maas+=float(input(\"Maaş artırma miktarı: \"))\n",
    "No001=Yazılımcı(\"Murat\",\"Kurt\",345665,5000,[\"python\",\"fortran\",\"matlab\"])\n",
    "No002=Yazılımcı(\"Mehmet\",\"Abbas\",347654,4500,[\"python\",\"C++\",\"java\"])\n",
    "No001.bilgileri_goster()"
   ]
  },
  {
   "cell_type": "code",
   "execution_count": 95,
   "metadata": {},
   "outputs": [
    {
     "name": "stdout",
     "output_type": "stream",
     "text": [
      "Eklenecek Dil: C\n"
     ]
    }
   ],
   "source": [
    "#metodlarımızı çağıralım:\n",
    "No001.dil_ekle()"
   ]
  },
  {
   "cell_type": "code",
   "execution_count": 96,
   "metadata": {},
   "outputs": [
    {
     "name": "stdout",
     "output_type": "stream",
     "text": [
      "Yazılımcı Bilgileri:\n",
      "        Adı: Murat\n",
      "        Soyadı: Kurt\n",
      "        Tel: 345665\n",
      "        Maaşı: 5000\n",
      "        Bildiği Diller: ['python', 'fortran', 'matlab', 'C']\n"
     ]
    }
   ],
   "source": [
    "No001.bilgileri_goster()"
   ]
  },
  {
   "cell_type": "markdown",
   "metadata": {},
   "source": [
    "Görüleceği üzere dil eklendi"
   ]
  },
  {
   "cell_type": "code",
   "execution_count": 97,
   "metadata": {},
   "outputs": [
    {
     "name": "stdout",
     "output_type": "stream",
     "text": [
      "Maaş artırma miktarı: 250\n"
     ]
    }
   ],
   "source": [
    "No002.maas_artır()"
   ]
  },
  {
   "cell_type": "code",
   "execution_count": 98,
   "metadata": {},
   "outputs": [
    {
     "name": "stdout",
     "output_type": "stream",
     "text": [
      "Yazılımcı Bilgileri:\n",
      "        Adı: Mehmet\n",
      "        Soyadı: Abbas\n",
      "        Tel: 347654\n",
      "        Maaşı: 4750.0\n",
      "        Bildiği Diller: ['python', 'C++', 'java']\n"
     ]
    }
   ],
   "source": [
    "No002.bilgileri_goster()"
   ]
  },
  {
   "cell_type": "markdown",
   "metadata": {},
   "source": [
    "Buradan da görüyoruz ki diğer metodumuz olan maaş artırma da sorunsuz çalışıyor"
   ]
  },
  {
   "cell_type": "code",
   "execution_count": 102,
   "metadata": {},
   "outputs": [
    {
     "name": "stdout",
     "output_type": "stream",
     "text": [
      "[]\n"
     ]
    }
   ],
   "source": [
    "print(No001.isimlist) #Görüleceği üzere isimlist şeklinde oluşturduğumuz class attribute boş."
   ]
  },
  {
   "cell_type": "code",
   "execution_count": 128,
   "metadata": {},
   "outputs": [
    {
     "name": "stdout",
     "output_type": "stream",
     "text": [
      "['Murat', 'Mehmet']\n"
     ]
    }
   ],
   "source": [
    "#Eklenen her yazılımcının adını bu listeye ekleyen bir metod yazalım.\n",
    "class Yazılımcı():\n",
    "    isimlist=[]\n",
    "    def __init__(self,isim,soyisim,tel,maaş,diller):\n",
    "        self.ad=isim\n",
    "        self.soyad=soyisim\n",
    "        self.no=tel\n",
    "        self.maas=maaş\n",
    "        self.dil=diller\n",
    "        self.isim_ekle()\n",
    "    def bilgileri_goster(self):\n",
    "        print(\"\"\"Yazılımcı Bilgileri:\n",
    "        Adı: {}\n",
    "        Soyadı: {}\n",
    "        Tel: {}\n",
    "        Maaşı: {}\n",
    "        Bildiği Diller: {}\"\"\".format(self.ad,self.soyad,self.no,self.maas,self.dil))\n",
    "    def dil_ekle(self,dil):\n",
    "        self.dil.append(dil)#giriş yöntemini değiştirelim\n",
    "    def maas_artır(self,artis):\n",
    "        self.maas+=float(artis)\n",
    "    def isim_ekle(self):\n",
    "        self.isimlist.append(self.ad)\n",
    "    def isimleri_yazdir(self):\n",
    "        print(self.isimlist)\n",
    "No001=Yazılımcı(\"Murat\",\"Kurt\",345665,5000,[\"python\",\"fortran\",\"matlab\"])\n",
    "No002=Yazılımcı(\"Mehmet\",\"Abbas\",347654,4500,[\"python\",\"C++\",\"java\"])\n",
    "No001.isimleri_yazdir()"
   ]
  },
  {
   "cell_type": "code",
   "execution_count": 129,
   "metadata": {},
   "outputs": [
    {
     "name": "stdout",
     "output_type": "stream",
     "text": [
      "Yazılımcı Bilgileri:\n",
      "        Adı: Murat\n",
      "        Soyadı: Kurt\n",
      "        Tel: 345665\n",
      "        Maaşı: 5000\n",
      "        Bildiği Diller: ['python', 'fortran', 'matlab', 'C']\n",
      "Yazılımcı Bilgileri:\n",
      "        Adı: Mehmet\n",
      "        Soyadı: Abbas\n",
      "        Tel: 347654\n",
      "        Maaşı: 5000.0\n",
      "        Bildiği Diller: ['python', 'C++', 'java']\n",
      "None None\n"
     ]
    }
   ],
   "source": [
    "No001.dil_ekle(\"C\")\n",
    "No002.maas_artır(500)\n",
    "print(Yazılımcı.bilgileri_goster(No001),No002.bilgileri_goster())"
   ]
  },
  {
   "cell_type": "markdown",
   "metadata": {},
   "source": [
    "## Kalıtım-Inheritance (miras)"
   ]
  },
  {
   "cell_type": "markdown",
   "metadata": {},
   "source": [
    "Kalıtım (inheritance) nesne tabanlı programlamada, bir class tanımlarken aynı kodları tekrar yazmak yerine zaten var olan başka bir class içindeki metodları ve fonksiyonları vs. kullanmak için başvurulan yöntemdir. Bu yöntemle bir class içindekiler başka bir class tarafından komple devralınabildiği gibi, farklı özellik ve fonksiyonlar ayrıca da yazılabilir."
   ]
  },
  {
   "cell_type": "code",
   "execution_count": 11,
   "metadata": {},
   "outputs": [
    {
     "name": "stdout",
     "output_type": "stream",
     "text": [
      "Çalışan bilgisi tanımlandı\n"
     ]
    }
   ],
   "source": [
    "#bir şirketteki personeller için bir Çalışan sınıfı oluşturup bu sınıftan faydalanarak \n",
    "#Yöneticiler için ayrı, İşçiler için ayrı sınıflar tanımlayacağımızı düşünelim.\n",
    "class Çalışan():\n",
    "    def __init__(self,isim,maaş,departman):\n",
    "        print(\"Çalışan bilgisi tanımlandı\")\n",
    "        self.isim=isim\n",
    "        self.maaş=maaş\n",
    "        self.departman=departman\n",
    "    def bilgilerigöster(self):\n",
    "        print(\"Çalışan Bilgileri:\\nAdı: {}\\nMaaşı: {}\\nDepartmanı: {}\".format(self.isim,self.maaş,self.departman))\n",
    "    def departmandeğiştir(self):\n",
    "        self.departman=input(\"Yeni departman: \")\n",
    "\n",
    "#Çalışan sınıfımızı tanımladık, şimdi bazı metodlarını test edelim, çalışan ekleyelim....\n",
    "\n",
    "No001=Çalışan(\"Murat Kurt\",5500,\"Tasarım\")"
   ]
  },
  {
   "cell_type": "code",
   "execution_count": 12,
   "metadata": {},
   "outputs": [
    {
     "name": "stdout",
     "output_type": "stream",
     "text": [
      "Çalışan Bilgileri:\n",
      "Adı: Murat Kurt\n",
      "Maaşı: 5500\n",
      "Departmanı: Tasarım\n"
     ]
    }
   ],
   "source": [
    "No001.bilgilerigöster()"
   ]
  },
  {
   "cell_type": "code",
   "execution_count": 13,
   "metadata": {},
   "outputs": [
    {
     "name": "stdout",
     "output_type": "stream",
     "text": [
      "Yeni departman: Proje Yönetimi\n"
     ]
    }
   ],
   "source": [
    "No001.departmandeğiştir()"
   ]
  },
  {
   "cell_type": "code",
   "execution_count": 14,
   "metadata": {
    "scrolled": true
   },
   "outputs": [
    {
     "name": "stdout",
     "output_type": "stream",
     "text": [
      "Çalışan Bilgileri:\n",
      "Adı: Murat Kurt\n",
      "Maaşı: 5500\n",
      "Departmanı: Proje Yönetimi\n"
     ]
    }
   ],
   "source": [
    "No001.bilgilerigöster()"
   ]
  },
  {
   "cell_type": "code",
   "execution_count": 1,
   "metadata": {
    "scrolled": true
   },
   "outputs": [],
   "source": [
    "#Şimdi de bu çalışan sınıfını kullanarak, yönetici çalışanlar için ayrı bir class oluşturalım ama bunu inheritance ile yapalım\n",
    "#ama önce Çalışan sınıfımızı burada yeniden tanımlayalım:\n",
    "class Çalışan():\n",
    "    def __init__(self,isim,maaş,departman):\n",
    "        print(\"Çalışan bilgisi tanımlandı\")\n",
    "        self.isim=isim\n",
    "        self.maaş=maaş\n",
    "        self.departman=departman\n",
    "    def bilgilerigöster(self):\n",
    "        print(\"Çalışan Bilgileri:\\nAdı: {}\\nMaaşı: {}\\nDepartmanı: {}\".format(self.isim,self.maaş,self.departman))\n",
    "    def departmandeğiştir(self):\n",
    "        self.departman=input(\"Yeni departman: \")\n",
    "\n",
    "        #şimdi de miras alacak classımız:\n",
    "class Yönetici(Çalışan): #aslında bu kadar. Çalışan sınıfının tüm özelliklerini ve metodlarını Yönetici sınıfı miras aldı.\n",
    "    pass #bu anahtar kelimeyi kullanmazsak python hata verecek, bir nevi class tanımlamanın eksik kaldığını algılayacak\n",
    "#pass anahtar kelimesini örneğin bir fonksiyon veya classın içeriğini sonra tanımlayacaksak geçici olarak kullanırız."
   ]
  },
  {
   "cell_type": "code",
   "execution_count": 2,
   "metadata": {},
   "outputs": [
    {
     "name": "stdout",
     "output_type": "stream",
     "text": [
      "Çalışan bilgisi tanımlandı\n"
     ]
    }
   ],
   "source": [
    "#bir yönetici ekleyerek deneyelim\n",
    "Y01=Yönetici(\"Murat Can Kurt\",5500,\"Proje Yönetimi\")"
   ]
  },
  {
   "cell_type": "markdown",
   "metadata": {},
   "source": [
    "Burada çalışan bilgisi tanımlandı mesajı zaten Çalışan sınıfının init fonksiyonunun çalıştığını bize gösteriyor."
   ]
  },
  {
   "cell_type": "code",
   "execution_count": 3,
   "metadata": {},
   "outputs": [
    {
     "name": "stdout",
     "output_type": "stream",
     "text": [
      "Çalışan Bilgileri:\n",
      "Adı: Murat Can Kurt\n",
      "Maaşı: 5500\n",
      "Departmanı: Proje Yönetimi\n"
     ]
    }
   ],
   "source": [
    "Y01.bilgilerigöster()"
   ]
  },
  {
   "cell_type": "code",
   "execution_count": 10,
   "metadata": {},
   "outputs": [
    {
     "name": "stdout",
     "output_type": "stream",
     "text": [
      "Çalışan bilgisi tanımlandı\n"
     ]
    }
   ],
   "source": [
    "#Eh, bütün özelliklerimizi ebeveynimizden olduğu gibi almıyoruz ya...\n",
    "#Yönetici classı için fazladan metod veya özellik gibi şeyler ekleyebiliriz, örneğin zap yapmak için bir metod...\n",
    "#Önce Çalışan class tanımlayalım:\n",
    "class Çalışan():\n",
    "    def __init__(self,isim,maaş,departman):\n",
    "        print(\"Çalışan bilgisi tanımlandı\")\n",
    "        self.isim=isim\n",
    "        self.maaş=maaş\n",
    "        self.departman=departman\n",
    "    def bilgilerigöster(self):\n",
    "        print(\"Çalışan Bilgileri:\\nAdı: {}\\nMaaşı: {}\\nDepartmanı: {}\".format(self.isim,self.maaş,self.departman))\n",
    "    def departmandeğiştir(self):\n",
    "        self.departman=input(\"Yeni departman: \")\n",
    "\n",
    "#Şimdi Yönetici class miras alalım ve zam_yap Metodu tanımlayalım\n",
    "class Yönetici(Çalışan):\n",
    "    def zam_yap(self,zam_miktarı):\n",
    "        self.maaş += zam_miktarı\n",
    "        print(\"\\nÇalışanın Yeni Maaşı:\",self.maaş)\n",
    "\n",
    "#Bir adet Y01 çalşanı örnekleyelim:\n",
    "Y01=Yönetici(\"Murat Can Kurt\",5500,\"Proje Yönetimi\")"
   ]
  },
  {
   "cell_type": "code",
   "execution_count": 11,
   "metadata": {},
   "outputs": [
    {
     "name": "stdout",
     "output_type": "stream",
     "text": [
      "Çalışan Bilgileri:\n",
      "Adı: Murat Can Kurt\n",
      "Maaşı: 5500\n",
      "Departmanı: Proje Yönetimi\n",
      "\n",
      "Çalışanın Yeni Maaşı: 6000\n"
     ]
    }
   ],
   "source": [
    "#şimdi bu yeni metodumuzu var olan Y01 çalışanı üzerinde deneyelim:\n",
    "Y01.bilgilerigöster()\n",
    "Y01.zam_yap(500)"
   ]
  },
  {
   "cell_type": "markdown",
   "metadata": {},
   "source": [
    "### İptal Etme (Overriding)"
   ]
  },
  {
   "cell_type": "markdown",
   "metadata": {},
   "source": [
    "Miras aldığımız metodları biraz değiştirmek, attribute eklemek vs. gibi sebeplerle mirasçı class içinde yeniden tanımlarsak, ki bu bazen gerekebilir, python mirasçı içindeki aynı isimli metodla çalışacaktır. Buna overriding denir. Mesela, Yönetici sınıfına yeni bir attribute eklemek için __init__ metodunu override edelim:"
   ]
  },
  {
   "cell_type": "code",
   "execution_count": 14,
   "metadata": {},
   "outputs": [
    {
     "name": "stdout",
     "output_type": "stream",
     "text": [
      "Yönetici bilgisi tanımlandı\n",
      "Çalışan Bilgileri:\n",
      "Adı: Murat Can Kurt\n",
      "Maaşı: 5500\n",
      "Departmanı: Şantiye Şefi\n"
     ]
    }
   ],
   "source": [
    "class Çalışan():\n",
    "    def __init__(self,isim,maaş,departman):\n",
    "        print(\"Çalışan bilgisi tanımlandı\")\n",
    "        self.isim=isim\n",
    "        self.maaş=maaş\n",
    "        self.departman=departman\n",
    "    def bilgilerigöster(self):\n",
    "        print(\"Çalışan Bilgileri:\\nAdı: {}\\nMaaşı: {}\\nDepartmanı: {}\".format(self.isim,self.maaş,self.departman))\n",
    "    def departmandeğiştir(self):\n",
    "        self.departman=input(\"Yeni departman: \")\n",
    "\n",
    "#Şimdi Yönetici class miras almış ve zam_yap Metodu tanımlamıştık, şimdi __init__ metodunu da ekleyelim:\n",
    "class Yönetici(Çalışan):\n",
    "    def __init__(self,isim,maaş,departman,ustbirim): #yönetici örneğinin bağlı olduğu üst birimi tanımlamak için ekledik\n",
    "        print(\"Yönetici bilgisi tanımlandı\")\n",
    "#Bu arada init metodları arasında bir fark olması için print içine Çalışan yerine Yönetici kelimesi kullandık.\n",
    "#Böylece hangi init metodu çalıştığını görebileceğiz.\n",
    "        self.isim=isim\n",
    "        self.maaş=maaş\n",
    "        self.departman=departman\n",
    "        self.ustbirim=ustbirim #üstbirim attribute ekledik\n",
    "\n",
    "    def zam_yap(self,zam_miktarı):\n",
    "        self.maaş += zam_miktarı\n",
    "        print(\"\\nÇalışanın Yeni Maaşı:\",self.maaş)\n",
    "#örnekleme (instantiation) yapalım:\n",
    "Y01=Yönetici(\"Murat Can Kurt\",5500,\"Şantiye Şefi\",\"Proje Müdürü\")\n",
    "#bilgileri göster metodu ile deneyelim:\n",
    "Y01.bilgilerigöster()"
   ]
  },
  {
   "cell_type": "markdown",
   "metadata": {},
   "source": [
    "Görüldüğü gibi \"Çalışan bilgisi tanımlandı\" mesajı yerine \"Yönetici bilgisi tanımlandı\" mesajı verdiğine göre Çalışan classı içindeki init metodunu override etmiş olduk.\n",
    "Ancak Çalışan bilgileri içinde Bağlı olduğu birim bilgisi bulunmuyor, bunu düzeltmek için bilgilerigöster metodunu da override edelim:"
   ]
  },
  {
   "cell_type": "code",
   "execution_count": 17,
   "metadata": {},
   "outputs": [
    {
     "name": "stdout",
     "output_type": "stream",
     "text": [
      "Yönetici bilgisi tanımlandı\n",
      "Çalışan Bilgileri:\n",
      "        Adı: Murat Can Kurt\n",
      "        Maaşı: 5500\n",
      "        Departmanı: Şantiye Şefi\n",
      "        Bağlı olduğu üst birim: Proje Müdürü\n"
     ]
    }
   ],
   "source": [
    "class Yönetici(Çalışan):\n",
    "    def __init__(self,isim,maaş,departman,ustbirim): \n",
    "        print(\"Yönetici bilgisi tanımlandı\")\n",
    "        self.isim=isim\n",
    "        self.maaş=maaş\n",
    "        self.departman=departman\n",
    "        self.ustbirim=ustbirim\n",
    "    def bilgilerigöster(self): #fonksiyonumuzu burada yeniden tanımladık.\n",
    "        print(\"\"\"Çalışan Bilgileri:\n",
    "        Adı: {}\n",
    "        Maaşı: {}\n",
    "        Departmanı: {}\n",
    "        Bağlı olduğu üst birim: {}\"\"\".format(self.isim,self.maaş,self.departman,self.ustbirim))\n",
    "#şimdi de kontrol edelim\n",
    "Y01=Yönetici(\"Murat Can Kurt\",5500,\"Şantiye Şefi\",\"Proje Müdürü\")\n",
    "#bilgileri göster metodu ile deneyelim:\n",
    "Y01.bilgilerigöster()"
   ]
  },
  {
   "cell_type": "markdown",
   "metadata": {},
   "source": [
    "## super() anahtar kelimesi (fonksiyonu?)"
   ]
  },
  {
   "cell_type": "raw",
   "metadata": {},
   "source": [
    "Override ettiğimiz metodları miras class içinden kullanmamızı sağlar. Örneğin init fonksiyonuna bir attribute eklemek istiyorsak init fonksiyonunu override edip bütün attribute ları yeniden tanımlamamıza gerek yok. Yani bu anahtar ile miras aldığımız sınıfın metodlarını alt sınıflardan kullanmamızı sağlar"
   ]
  },
  {
   "cell_type": "code",
   "execution_count": 20,
   "metadata": {},
   "outputs": [
    {
     "name": "stdout",
     "output_type": "stream",
     "text": [
      "Çalışan bilgisi tanımlandı\n",
      "Yönetici bilgisi tanımlandı\n"
     ]
    }
   ],
   "source": [
    "#Çalışan class ımızı yeniden oluşturalım:\n",
    "class Çalışan():\n",
    "    def __init__(self,isim,maaş,departman):\n",
    "        print(\"Çalışan bilgisi tanımlandı\")\n",
    "        self.isim=isim\n",
    "        self.maaş=maaş\n",
    "        self.departman=departman\n",
    "    def bilgilerigöster(self):\n",
    "        print(\"Çalışan Bilgileri:\\nAdı: {}\\nMaaşı: {}\\nDepartmanı: {}\".format(self.isim,self.maaş,self.departman))\n",
    "    def departmandeğiştir(self):\n",
    "        self.departman=input(\"Yeni departman: \")\n",
    "\n",
    "#Yönetici metodumuzu mirasçı  olarak tanımlayalım\n",
    "class Yönetici(Çalışan):\n",
    "    def __init__(self,isim,maaş,departman,ustbirim): #buraya kadar herşey aynı...\n",
    "        \n",
    "        super().__init__(isim,maaş,departman)\n",
    "# işte bu anahtar ile isim, maaş ve departman attribute larını miras aldığımız class tan çağırıyoruz\n",
    "\n",
    "        print(\"Yönetici bilgisi tanımlandı\")\n",
    "    \n",
    "        self.ustbirim=ustbirim #diğer üç niteliği miras aldığımız classtan çağırdığımız için sadece bunu tanımladık\n",
    "        \n",
    "    def bilgilerigöster(self):\n",
    "        print(\"\"\"Çalışan Bilgileri:\n",
    "        Adı: {}\n",
    "        Maaşı: {}\n",
    "        Departmanı: {}\n",
    "        Bağlı olduğu üst birim: {}\"\"\".format(self.isim,self.maaş,self.departman,self.ustbirim))\n",
    "\n",
    "#şimdi de örnekleme yaparak kontrol edelim:\n",
    "Y01=Yönetici(\"Murat Can Kurt\",5500,\"Şantiye Şefi\",\"Proje Müdürü\")"
   ]
  },
  {
   "cell_type": "markdown",
   "metadata": {},
   "source": [
    "Burada hem \"Çalışan bilgisi tanımlandı\" hem \"Yönetici bilgisi tanımlandı\" mesajlarının gelmesi olayı açıklar nitelikte"
   ]
  },
  {
   "cell_type": "code",
   "execution_count": 21,
   "metadata": {},
   "outputs": [
    {
     "name": "stdout",
     "output_type": "stream",
     "text": [
      "Çalışan Bilgileri:\n",
      "        Adı: Murat Can Kurt\n",
      "        Maaşı: 5500\n",
      "        Departmanı: Şantiye Şefi\n",
      "        Bağlı olduğu üst birim: Proje Müdürü\n"
     ]
    }
   ],
   "source": [
    "Y01.bilgilerigöster()"
   ]
  },
  {
   "cell_type": "markdown",
   "metadata": {},
   "source": [
    "## Özel Metodlar"
   ]
  },
  {
   "cell_type": "markdown",
   "metadata": {},
   "source": [
    "Özel metodlar, kendimizin class ları tanımlarken tanımlamadığımız halde her class ta kendiliğinden bulunan metodlardır. Bu metodların *çoğu*  biz tanımlamasak bile python tarafından varsayılan olarak tanımlanır. Bu metodları biz tanımladığımız zaman python varsayılan olarak kendi tanımladığı metod yerine bizimkini kullanır.\n",
    "Örnek olarak init metodunu biliyoruz, örnekleme anında kendiliğinden çalışan metodumuz."
   ]
  },
  {
   "cell_type": "code",
   "execution_count": 33,
   "metadata": {},
   "outputs": [
    {
     "name": "stdout",
     "output_type": "stream",
     "text": [
      "<__main__.Kitap object at 0x000001FBA920B4E0>\n"
     ]
    }
   ],
   "source": [
    "#Örnek olarak bir Kitap sınıfı tanımlayalım\n",
    "class Kitap():\n",
    "    pass\n",
    "\n",
    "#örnekleme yapıtığımız anda __init__ metodu çağırılıyor...\n",
    "Kitapno1=Kitap()\n",
    "\n",
    "#örnek olarak print() ile Kitapno1 örneğimizi yazdıralım:\n",
    "print(Kitapno1) # print fonksiyonunu kullandığımızda __str__ metodu çaılştırılır, eğer biz tanımlarsak bizimki çalışır.\n",
    "#Pythonun kendi kendi metodu aşağıdaki gibi bir çıktı verir..."
   ]
  },
  {
   "cell_type": "code",
   "execution_count": 27,
   "metadata": {},
   "outputs": [
    {
     "ename": "TypeError",
     "evalue": "object of type 'Kitap' has no len()",
     "output_type": "error",
     "traceback": [
      "\u001b[1;31m---------------------------------------------------------------------------\u001b[0m",
      "\u001b[1;31mTypeError\u001b[0m                                 Traceback (most recent call last)",
      "\u001b[1;32m<ipython-input-27-8ccc94e6c720>\u001b[0m in \u001b[0;36m<module>\u001b[1;34m\u001b[0m\n\u001b[1;32m----> 1\u001b[1;33m \u001b[0mlen\u001b[0m\u001b[1;33m(\u001b[0m\u001b[0mKitapno1\u001b[0m\u001b[1;33m)\u001b[0m \u001b[1;31m#burada ise __len__ metodunu çağıracak ama tanımlı değil, bu metodu bizim tanımlamamız gerekiyor.\u001b[0m\u001b[1;33m\u001b[0m\u001b[1;33m\u001b[0m\u001b[0m\n\u001b[0m",
      "\u001b[1;31mTypeError\u001b[0m: object of type 'Kitap' has no len()"
     ]
    }
   ],
   "source": [
    "len(Kitapno1) #burada ise __len__ metodunu çağıracak ama tanımlı değil, bu metodu bizim tanımlamamız gerekiyor."
   ]
  },
  {
   "cell_type": "code",
   "execution_count": 34,
   "metadata": {},
   "outputs": [],
   "source": [
    "del Kitapno1 #burada ise objeyi silecek ve __del__ metodunu çağıracaktır"
   ]
  },
  {
   "cell_type": "code",
   "execution_count": 35,
   "metadata": {},
   "outputs": [
    {
     "ename": "NameError",
     "evalue": "name 'Kitapno1' is not defined",
     "output_type": "error",
     "traceback": [
      "\u001b[1;31m---------------------------------------------------------------------------\u001b[0m",
      "\u001b[1;31mNameError\u001b[0m                                 Traceback (most recent call last)",
      "\u001b[1;32m<ipython-input-35-aa9df649a49d>\u001b[0m in \u001b[0;36m<module>\u001b[1;34m\u001b[0m\n\u001b[1;32m----> 1\u001b[1;33m \u001b[0mKitapno1\u001b[0m\u001b[1;33m\u001b[0m\u001b[1;33m\u001b[0m\u001b[0m\n\u001b[0m",
      "\u001b[1;31mNameError\u001b[0m: name 'Kitapno1' is not defined"
     ]
    }
   ],
   "source": [
    "Kitapno1"
   ]
  },
  {
   "cell_type": "markdown",
   "metadata": {},
   "source": [
    "### __init__ metodunu zaten biliyoruz"
   ]
  },
  {
   "cell_type": "code",
   "execution_count": 44,
   "metadata": {},
   "outputs": [
    {
     "name": "stdout",
     "output_type": "stream",
     "text": [
      "Kitap Kütüphaneye Eklendi\n"
     ]
    }
   ],
   "source": [
    "class Kitap():\n",
    "    def __init__(self,isim,yazar,sayfa,tür):\n",
    "        self.isim=isim\n",
    "        self.yazar=yazar\n",
    "        self.sayfa=sayfa\n",
    "        self.tür=tür\n",
    "        print(\"Kitap Kütüphaneye Eklendi\")\n",
    "\n",
    "kitap01=Kitap(\"Elon Musk\",\"Ashlee Wance\",642,\"Biyografi\")\n",
    "#örnekleme yapıldığı anda init fonksiyonunun çağırıldığını aşağıdaki mesajdan anlayabiliriz."
   ]
  },
  {
   "cell_type": "markdown",
   "metadata": {},
   "source": [
    "### __str__ metodu"
   ]
  },
  {
   "cell_type": "code",
   "execution_count": 45,
   "metadata": {},
   "outputs": [
    {
     "name": "stdout",
     "output_type": "stream",
     "text": [
      "<__main__.Kitap object at 0x000001FBA9502898>\n"
     ]
    }
   ],
   "source": [
    "#Normalde print(kitap01) ifadesi ekrana şöyle bir çıktı veriyor:\n",
    "print(kitap01)"
   ]
  },
  {
   "cell_type": "code",
   "execution_count": 48,
   "metadata": {},
   "outputs": [
    {
     "name": "stdout",
     "output_type": "stream",
     "text": [
      "Kitap Kütüphaneye Eklendi\n"
     ]
    }
   ],
   "source": [
    "#bildiğimiz gibi print() fonksiyonu kullanıldığında python __str__ metodunu arıyordu,\n",
    "#dolayısıyla biz bu metodu düzenlersek daha anlaşılır bir çıktı alabiliriz.\n",
    "class Kitap():\n",
    "    def __init__(self,isim,yazar,sayfa,tür):\n",
    "        self.isim=isim\n",
    "        self.yazar=yazar\n",
    "        self.sayfa=sayfa\n",
    "        self.tür=tür\n",
    "        print(\"Kitap Kütüphaneye Eklendi\")\n",
    "    def __str__(self):\n",
    "        return (\"\"\"Kitap Bilgileri...\n",
    "        Adı:            {}\n",
    "        Yazarı:         {}\n",
    "        Sayfa sayısı:   {}\n",
    "        Türü:           {}\"\"\".format(self.isim,self.yazar,self.sayfa,self.tür))\n",
    "#şimdi bir daha instantiation yapıp print fonksiyonunu çağıralım:\n",
    "kitap01=Kitap(\"Elon Musk\",\"Ashlee Wance\",642,\"Biyografi\")"
   ]
  },
  {
   "cell_type": "code",
   "execution_count": 49,
   "metadata": {},
   "outputs": [
    {
     "name": "stdout",
     "output_type": "stream",
     "text": [
      "Kitap Bilgileri...\n",
      "        Adı:            Elon Musk\n",
      "        Yazarı:         Ashlee Wance\n",
      "        Sayfa sayısı:   642\n",
      "        Türü:           Biyografi\n"
     ]
    }
   ],
   "source": [
    "print(kitap01)"
   ]
  },
  {
   "cell_type": "markdown",
   "metadata": {},
   "source": [
    "### len metodu "
   ]
  },
  {
   "cell_type": "markdown",
   "metadata": {},
   "source": [
    "Bu metod biz tanımlamazsak varsayılan olarak tanımlanan bir metod değil, bunu bizim tanımlamamız gerekiyor"
   ]
  },
  {
   "cell_type": "code",
   "execution_count": 52,
   "metadata": {},
   "outputs": [],
   "source": [
    "class Kitap():\n",
    "    def __init__(self,isim,yazar,sayfa,tür):\n",
    "        self.isim=isim\n",
    "        self.yazar=yazar\n",
    "        self.sayfa=sayfa\n",
    "        self.tür=tür\n",
    "        print(\"Kitap Kütüphaneye Eklendi\")\n",
    "    def __str__(self):\n",
    "        return (\"\"\"Kitap Bilgileri...\n",
    "        Adı:            {}\n",
    "        Yazarı:         {}\n",
    "        Sayfa sayısı:   {}\n",
    "        Türü:           {}\"\"\".format(self.isim,self.yazar,self.sayfa,self.tür))\n",
    "    def __len__(self):\n",
    "        return self.sayfa\n",
    "#burada görüldüğü gibi len metodunun neyi döndüreceği tamamen bize kalmış, ben kitabın sayfa sayısını mantıklı bulum"
   ]
  },
  {
   "cell_type": "code",
   "execution_count": 56,
   "metadata": {},
   "outputs": [
    {
     "name": "stdout",
     "output_type": "stream",
     "text": [
      "Kitap Kütüphaneye Eklendi\n"
     ]
    }
   ],
   "source": [
    "kitap01=Kitap(\"Elon Musk\",\"Ashlee Wance\",642,\"Biyografi\")"
   ]
  },
  {
   "cell_type": "code",
   "execution_count": 57,
   "metadata": {},
   "outputs": [
    {
     "data": {
      "text/plain": [
       "642"
      ]
     },
     "execution_count": 57,
     "metadata": {},
     "output_type": "execute_result"
    }
   ],
   "source": [
    "len(kitap01)"
   ]
  },
  {
   "cell_type": "markdown",
   "metadata": {},
   "source": [
    "### del metodu"
   ]
  },
  {
   "cell_type": "markdown",
   "metadata": {},
   "source": [
    "Bu metoda ise pythonda bir objeyi silmek için kullanılır. Bunu kendimiz tanımlarsak, objeyi silmesinin yanında artı özellikler kazandırabiliriz."
   ]
  },
  {
   "cell_type": "code",
   "execution_count": 61,
   "metadata": {},
   "outputs": [
    {
     "name": "stdout",
     "output_type": "stream",
     "text": [
      "Kitap Kütüphaneye Eklendi\n"
     ]
    }
   ],
   "source": [
    "class Kitap():\n",
    "    def __init__(self,isim,yazar,sayfa,tür):\n",
    "        self.isim=isim\n",
    "        self.yazar=yazar\n",
    "        self.sayfa=sayfa\n",
    "        self.tür=tür\n",
    "        print(\"Kitap Kütüphaneye Eklendi\")\n",
    "    def __str__(self):\n",
    "        return (\"\"\"Kitap Bilgileri...\n",
    "        Adı:            {}\n",
    "        Yazarı:         {}\n",
    "        Sayfa sayısı:   {}\n",
    "        Türü:           {}\"\"\".format(self.isim,self.yazar,self.sayfa,self.tür))\n",
    "    def __len__(self):\n",
    "        return self.sayfa\n",
    "    def __del__(self):\n",
    "        print(\"Kitap Kütüphaneden Silindi...\")\n",
    "#bu metodu tanımladığımız için artık bir örneği del ile sildiğimizde böyle bir mesaj verecek.\n",
    "kitap01=Kitap(\"Elon Musk\",\"Ashlee Wance\",642,\"Biyografi\")"
   ]
  },
  {
   "cell_type": "code",
   "execution_count": 65,
   "metadata": {},
   "outputs": [],
   "source": [
    "del kitap01"
   ]
  },
  {
   "cell_type": "code",
   "execution_count": 66,
   "metadata": {},
   "outputs": [
    {
     "ename": "NameError",
     "evalue": "name 'kitap01' is not defined",
     "output_type": "error",
     "traceback": [
      "\u001b[1;31m---------------------------------------------------------------------------\u001b[0m",
      "\u001b[1;31mNameError\u001b[0m                                 Traceback (most recent call last)",
      "\u001b[1;32m<ipython-input-66-786d2185f7d8>\u001b[0m in \u001b[0;36m<module>\u001b[1;34m\u001b[0m\n\u001b[1;32m----> 1\u001b[1;33m \u001b[0mkitap01\u001b[0m\u001b[1;33m\u001b[0m\u001b[1;33m\u001b[0m\u001b[0m\n\u001b[0m",
      "\u001b[1;31mNameError\u001b[0m: name 'kitap01' is not defined"
     ]
    }
   ],
   "source": [
    "kitap01"
   ]
  },
  {
   "cell_type": "markdown",
   "metadata": {},
   "source": [
    "Özel metorlarla ilgili kaynak web sitesi:"
   ]
  },
  {
   "cell_type": "markdown",
   "metadata": {},
   "source": [
    "http://www.diveintopython3.net/special-method-names.html"
   ]
  },
  {
   "cell_type": "markdown",
   "metadata": {},
   "source": [
    "### Başka kaynaklardan örnekler"
   ]
  },
  {
   "cell_type": "code",
   "execution_count": 80,
   "metadata": {},
   "outputs": [
    {
     "name": "stdout",
     "output_type": "stream",
     "text": [
      "My car is moving wiht 2000 motor power \n"
     ]
    }
   ],
   "source": [
    "# örnekler\n",
    "class Car():\n",
    "    def __init__(self,motor_power_param):\n",
    "        self.motor_power = motor_power_param\n",
    "    def move(self):\n",
    "        print(\"My car is moving wiht {} motor power \".format(self.motor_power))\n",
    "my_volvo_var = Car(2000)\n",
    "my_volvo_var.move()"
   ]
  },
  {
   "cell_type": "code",
   "execution_count": 81,
   "metadata": {},
   "outputs": [
    {
     "name": "stdout",
     "output_type": "stream",
     "text": [
      "4\n"
     ]
    }
   ],
   "source": [
    "class Car():\n",
    "    wheel = 4\n",
    "    def __init__(self,motor_power_param):\n",
    "        self.motor_power = motor_power_param\n",
    "    def move(self):\n",
    "        print(\"My car is moving wiht {} motor power \".format(self.motor_power))\n",
    "my_volvo_var = Car(1600)\n",
    "print(my_volvo_var.wheel)"
   ]
  },
  {
   "cell_type": "code",
   "execution_count": 84,
   "metadata": {},
   "outputs": [
    {
     "name": "stdout",
     "output_type": "stream",
     "text": [
      "<class '__main__.Book'>\n"
     ]
    }
   ],
   "source": [
    "class Book():\n",
    "    def __init__(self,page):\n",
    "       self.page = page\n",
    "book = Book(100)\n",
    "print(Book) # sınıfı doğrudan yazdırmak istediğimizde şu şekilde yazdıracak:"
   ]
  },
  {
   "cell_type": "code",
   "execution_count": 85,
   "metadata": {},
   "outputs": [
    {
     "name": "stdout",
     "output_type": "stream",
     "text": [
      "Page = 100\n"
     ]
    }
   ],
   "source": [
    "class Book():\n",
    "    def __init__(self,page):\n",
    "       self.page = page\n",
    "    def __str__(self): #__str__ metodu ile bu yazdırma işini düzenleyebiliriz\n",
    "        return \"Page = {}\".format(self.page)\n",
    "book = Book(100)\n",
    "print(book)"
   ]
  },
  {
   "cell_type": "code",
   "execution_count": 98,
   "metadata": {},
   "outputs": [
    {
     "name": "stdout",
     "output_type": "stream",
     "text": [
      "İsim:  Ahmet \n",
      "Yaş:  18 \n",
      "\n",
      "İsim:  Mehmet \n",
      "Yaş:  21 \n",
      "\n",
      "Toplam Oyuncu Sayısı: 2\n"
     ]
    }
   ],
   "source": [
    "# başka bir örnek\n",
    "#---------------------------------------------------------------------------\n",
    "class Oyuncu:\n",
    "    oyuncuSayisi = 0\n",
    "    isim = \"\"\n",
    "    yas = 0\n",
    "\n",
    "    # __init__ metodu constructorumuz; Oyuncu sınıfına ait yeni bir\n",
    "    # nesne oluşturulduğunda otomatik olarak çağrılan fonksiyon.\n",
    "    def __init__(self, isim, yas):\n",
    "        self.isim = isim\n",
    "        self.yas = yas\n",
    "        Oyuncu.oyuncuSayisi += 1\n",
    "\n",
    "    # cağıran nesnenin bilgilerini gösterecek olan fonksiyonumuz\n",
    "    def oyuncuyuGoster(self):\n",
    "        print(\"İsim: \", self.isim,  \"\\nYaş: \", self.yas, \"\\n\")\n",
    "#----------------------------------------------------------------------------\n",
    "# şimdi de oyuncu ekleyelim\n",
    "# Oyuncu sınıfımızın ilk nesnesini oluşturuyoruz.\n",
    "# Parametre olarak önceden belirlenen isim ve yaş değerlerini yolluyoruz.\n",
    "oyuncu1 = Oyuncu(\"Ahmet\", 18)\n",
    "\n",
    "# Oyuncu sınıfımızın ikinci nesnesini oluşturuyoruz.\n",
    "oyuncu2 = Oyuncu(\"Mehmet\", 21)\n",
    "#----------------------------------------------------------------------------\n",
    "# Oluşturduğumuz nesnelerin bilgilerini önceden oluşturduğumuz fonksiyon\n",
    "# ile gösteriyoruz.\n",
    "oyuncu1.oyuncuyuGoster()\n",
    "oyuncu2.oyuncuyuGoster()\n",
    "\n",
    "# Toplam oyuncu sayısını gösteriyoruz.\n",
    "print(\"Toplam Oyuncu Sayısı: %d\"%Oyuncu.oyuncuSayisi) #burada \"%d\"% kullanımı var"
   ]
  },
  {
   "cell_type": "markdown",
   "metadata": {},
   "source": [
    "#### class ile fonksionların en önemli farklarından biri de, fonksiyonlar çağırılmadıkları sürece çalışmazlar. Ancak classlar tanımlandıkları anda çalışırlar."
   ]
  },
  {
   "cell_type": "raw",
   "metadata": {},
   "source": [
    "Örnek olarak, bir modül import ettiğimizde modüldeki fonksiyonları çağırmamız gerekir. Ama modülde class varsa kendiliğinden çalışır."
   ]
  },
  {
   "cell_type": "code",
   "execution_count": 1,
   "metadata": {},
   "outputs": [
    {
     "name": "stdout",
     "output_type": "stream",
     "text": [
      "Bu Deneme classı tanımlandığı anda kendiliğinden çalışır.\n"
     ]
    }
   ],
   "source": [
    "class Deneme:\n",
    "    print(\"Bu Deneme classı tanımlandığı anda kendiliğinden çalışır.\")"
   ]
  },
  {
   "cell_type": "code",
   "execution_count": 4,
   "metadata": {},
   "outputs": [
    {
     "data": {
      "text/plain": [
       "10"
      ]
     },
     "execution_count": 4,
     "metadata": {},
     "output_type": "execute_result"
    }
   ],
   "source": [
    "i=5\n",
    "i+5"
   ]
  },
  {
   "cell_type": "code",
   "execution_count": null,
   "metadata": {},
   "outputs": [],
   "source": []
  }
 ],
 "metadata": {
  "kernelspec": {
   "display_name": "Python 3",
   "language": "python",
   "name": "python3"
  },
  "language_info": {
   "codemirror_mode": {
    "name": "ipython",
    "version": 3
   },
   "file_extension": ".py",
   "mimetype": "text/x-python",
   "name": "python",
   "nbconvert_exporter": "python",
   "pygments_lexer": "ipython3",
   "version": "3.7.6"
  }
 },
 "nbformat": 4,
 "nbformat_minor": 2
}
