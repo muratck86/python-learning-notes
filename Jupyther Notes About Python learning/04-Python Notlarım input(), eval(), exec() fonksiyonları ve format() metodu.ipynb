{
 "cells": [
  {
   "cell_type": "markdown",
   "metadata": {},
   "source": [
    "# input() fonksiyonu"
   ]
  },
  {
   "cell_type": "markdown",
   "metadata": {},
   "source": [
    "Kullanıcıdan veri girişi almak için kullanılan fonksiyondur."
   ]
  },
  {
   "cell_type": "code",
   "execution_count": 2,
   "metadata": {},
   "outputs": [
    {
     "name": "stdout",
     "output_type": "stream",
     "text": [
      "İsminiz nedir? Murat\n",
      "Merhaba Murat!\n"
     ]
    }
   ],
   "source": [
    "isim = input(\"İsminiz nedir? \")\n",
    "\n",
    "print(\"Merhaba\", isim, end=\"!\\n\")"
   ]
  },
  {
   "cell_type": "markdown",
   "metadata": {},
   "source": [
    "## Tip Dönüşümleri"
   ]
  },
  {
   "cell_type": "markdown",
   "metadata": {},
   "source": [
    "input() fonksiyonu ile kullanıcıdan alınan veri her zaman string olarak gelir, biz gelen bu str verisini ihtiyacımıza göre başka veri tiplerine dönüştürmeden işlem yapamayız."
   ]
  },
  {
   "cell_type": "code",
   "execution_count": 4,
   "metadata": {},
   "outputs": [
    {
     "name": "stdout",
     "output_type": "stream",
     "text": [
      "Herhangi bir veri girin: [\"a\",\"b\",\"c\",\"d\"]\n",
      "[\"a\",\"b\",\"c\",\"d\"] Girdiğiniz verinin tipi:  <class 'str'>\n"
     ]
    }
   ],
   "source": [
    "#Kullanıcıdan herhangi bir veri girmesini istiyoruz\n",
    "sayı = input(\"Herhangi bir veri girin: \")\n",
    "\n",
    "#Kullanıcının girdiği verinin tipini bir\n",
    "#değişkene atıyoruz\n",
    "tip = type(sayı)\n",
    "\n",
    "#Son olarak kullanıcının girdiği verinin tipini\n",
    "#ekrana basıyoruz.\n",
    "print(sayı,\"Girdiğiniz verinin tipi: \", tip)"
   ]
  },
  {
   "cell_type": "markdown",
   "metadata": {},
   "source": [
    "### int() fonksiyonu"
   ]
  },
  {
   "cell_type": "markdown",
   "metadata": {},
   "source": [
    "Bir veriyi, eğer sayı formatında yazılmışsa  tam sayıya dönüştürür. Sayı formatında yazılmamışsa yani harf, boşluk, özel karakter vs içeriyorsa hata verir. Sadece rakamlardan ve negatifse başında \"-\" den oluşan tamsayı formundaki verileri tam sayıya çevirir. Ayrıca bu fonksiyon float yani ondalıklı sayı tipindeki verileri de ondalık kısmını silerek tam sayıya çevirir."
   ]
  },
  {
   "cell_type": "code",
   "execution_count": 16,
   "metadata": {},
   "outputs": [
    {
     "name": "stdout",
     "output_type": "stream",
     "text": [
      "1258 -35 38 543\n"
     ]
    }
   ],
   "source": [
    "a=int(\"1258\")\n",
    "b=int(\"-35\")\n",
    "c=int(38.7)\n",
    "d=int(\"543\")\n",
    "print(a,b,c,d)"
   ]
  },
  {
   "cell_type": "markdown",
   "metadata": {},
   "source": [
    "### str() fonksiyonu"
   ]
  },
  {
   "cell_type": "markdown",
   "metadata": {},
   "source": [
    "Herhangi bir veriyi string tipine, yani karakter dizisine çevirir."
   ]
  },
  {
   "cell_type": "markdown",
   "metadata": {},
   "source": [
    "### float () fonksiyonu"
   ]
  },
  {
   "cell_type": "markdown",
   "metadata": {},
   "source": [
    "Bu fonksiyon ise tam ya da ondalıklı sayı formunda olan stringleri ve int formundaki verileri ondalıklı sayıya çevirir."
   ]
  },
  {
   "cell_type": "markdown",
   "metadata": {},
   "source": [
    "### complex() fonksiyonu"
   ]
  },
  {
   "cell_type": "markdown",
   "metadata": {},
   "source": [
    "int veya float tipine dönüştürülmeye uygun bir stringi, ya da karmaşık sayı formunda yazılmış bir stringi(örnek: 23+3j) veya zaten int veya float olan sayıları karmaşık sayıya dönüştürmeye yarar."
   ]
  },
  {
   "cell_type": "code",
   "execution_count": 10,
   "metadata": {},
   "outputs": [
    {
     "name": "stdout",
     "output_type": "stream",
     "text": [
      "(12+2j) (125.5+0j) (-18+0j) (16+0j)\n"
     ]
    }
   ],
   "source": [
    "a=\"12+2j\"\n",
    "b=125.5\n",
    "c=-18\n",
    "d=\"16\"\n",
    "a,b,c,d=complex(a),complex(b),complex(c),complex(d)\n",
    "print(a,b,c,d)"
   ]
  },
  {
   "cell_type": "markdown",
   "metadata": {},
   "source": [
    "# eval () fonksiyonu"
   ]
  },
  {
   "cell_type": "markdown",
   "metadata": {},
   "source": [
    "Bu fonksiyonun en kısa anlamı evaluate yani değerlendirmeye tabi tutmak, işleme sokmak, işlemektir. Yani input ile girilen işlemi ya da parametresine girilen değişkeni değerlendirmeye alıp sonuç verir."
   ]
  },
  {
   "cell_type": "code",
   "execution_count": 1,
   "metadata": {},
   "outputs": [
    {
     "name": "stdout",
     "output_type": "stream",
     "text": [
      "Yapıacak işlemi giriniz: 23+45\n",
      "İşlem sonucu:  68\n"
     ]
    }
   ],
   "source": [
    "islem=input(\"Yapıacak işlemi giriniz: \")\n",
    "sonuc=eval(islem)\n",
    "print(\"İşlem sonucu: \",sonuc)"
   ]
  },
  {
   "cell_type": "markdown",
   "metadata": {},
   "source": [
    "Yukarıda görüldüğü gibi input ile girilen bir stringin içinde sayılar olduğunu, bu sayılar arasında toplama işleci olduğunu algılayıp, işlem sonucunu hesaplamaktadır. İşte bir veriyi bu şekilde değerlendirmeye alan yani evaluate eden fonksiyondur."
   ]
  },
  {
   "cell_type": "code",
   "execution_count": 2,
   "metadata": {},
   "outputs": [
    {
     "name": "stdout",
     "output_type": "stream",
     "text": [
      "Yapıacak işlemi giriniz: 3**4\n",
      "İşlem sonucu:  81\n"
     ]
    }
   ],
   "source": [
    "islem=input(\"Yapıacak işlemi giriniz: \")\n",
    "sonuc=eval(islem)\n",
    "print(\"İşlem sonucu: \",sonuc)"
   ]
  },
  {
   "cell_type": "code",
   "execution_count": 4,
   "metadata": {},
   "outputs": [
    {
     "name": "stdout",
     "output_type": "stream",
     "text": [
      "Yapıacak işlemi giriniz: 65//18\n",
      "İşlem sonucu:  3\n"
     ]
    }
   ],
   "source": [
    "islem=input(\"Yapıacak işlemi giriniz: \")\n",
    "sonuc=eval(islem)\n",
    "print(\"İşlem sonucu: \",sonuc)"
   ]
  },
  {
   "cell_type": "markdown",
   "metadata": {},
   "source": [
    "İşte eval() fonksiyonu, kullanıcının girdiği her veriyi bir Python komutu olarak algılar ve bu veriyi işleme sokar."
   ]
  },
  {
   "cell_type": "markdown",
   "metadata": {},
   "source": [
    "#### İşte bu yüzden bu fonksiyon çok tehlikelidir, yazdığımız programlarda güvenlik açığına yol açabilir, her türlü tehlikeye açıktır."
   ]
  },
  {
   "cell_type": "code",
   "execution_count": 6,
   "metadata": {
    "scrolled": true
   },
   "outputs": [
    {
     "name": "stdout",
     "output_type": "stream",
     "text": [
      "Yapıacak işlemi giriniz: print(\"Merhaba Python!\")\n",
      "Merhaba Python!\n",
      "İşlem sonucu:  None\n"
     ]
    }
   ],
   "source": [
    "islem=input(\"Yapıacak işlemi giriniz: \")\n",
    "sonuc=eval(islem)\n",
    "print(\"İşlem sonucu: \",sonuc)"
   ]
  },
  {
   "cell_type": "markdown",
   "metadata": {},
   "source": [
    "Yukarıdaki örnekte de görüldüğü üzere bu fonksiyon sayesinde kullanıcıdan biz matematiksel işlem girmesini beklerken, komut satırı girerek programımızı hackleyebilir. Bu nedenle eval() fonksiyonuna direk veri göndermek yerine önce veriyi belirli kontroller ve süzgeçlerden geçirmek gerekir."
   ]
  },
  {
   "cell_type": "markdown",
   "metadata": {},
   "source": [
    "# exec() fonksiyonu"
   ]
  },
  {
   "cell_type": "markdown",
   "metadata": {},
   "source": [
    "Anlamı execute olan bu fonksiyon da eval() gibidir ancak eval() fonksiyonunun yapamadığı bazı işlemleri yapabilir. Örneğin değişken tanımlama gibi işlemler."
   ]
  },
  {
   "cell_type": "code",
   "execution_count": 12,
   "metadata": {},
   "outputs": [
    {
     "name": "stdout",
     "output_type": "stream",
     "text": [
      "Yapıacak işlemi giriniz: A=45\n",
      "45\n"
     ]
    }
   ],
   "source": [
    "islem=input(\"Yapıacak işlemi giriniz: \")\n",
    "exec(islem)\n",
    "print(A)"
   ]
  },
  {
   "cell_type": "markdown",
   "metadata": {},
   "source": [
    "#### Bu fonksiyon da eval() gibi çok tehlikelidir, yazdığımız programlarda güvenlik açığına yol açabilir, her türlü tehlikeye açıktır."
   ]
  },
  {
   "cell_type": "markdown",
   "metadata": {},
   "source": [
    "# format() Metodu"
   ]
  },
  {
   "cell_type": "code",
   "execution_count": 1,
   "metadata": {},
   "outputs": [
    {
     "name": "stdout",
     "output_type": "stream",
     "text": [
      "Üniversite: Süleyman Demirel\n",
      "Fakülte: Mühendislik ve Mimarlık Fakültesi\n",
      "Bölüm Şehri: Isparta\n",
      "Bölüm: İnşaat Mühendisliği\n",
      "Öğrenci No: 0511001070\n",
      "Yıl: 2020\n",
      "Yarıyıl: 1\n",
      "Tarih: 09/10/2020\n",
      "İsim: Murat Can Kurt\n",
      "Mahalle: Bahçelievler\n",
      "Sokak: 133\n",
      "Apartman adı: Avcı\n",
      "Kapı No: 15\n",
      "Adres İlçe: Merkez\n",
      "Adres ili: Isparta\n",
      "Ek adı: Sağlık Raporu\n",
      "\n",
      "T.C\n",
      "Süleyman Demirel ÜNİVERSİTESİ Mühendislik ve Mimarlık Fakültesi DEKANLIĞINA\n",
      "Isparta\n",
      "\n",
      "    Fakülteniz İnşaat Mühendisliği Bölümü, 0511001070 nolu öğrencisiyim. Ekte sunmuş olduğum belgede\n",
      "belirtilen mazeretim nedeniyle 2020 Eğitim-Öğretim yılı 1. yarıyılında öğretime\n",
      "ara izni (kayıt dondurma) istiyorum.\n",
      "    Gereğini ve bilgilerinizi arz ederim.\n",
      "                                                    09/10/2020\n",
      "                                                    Murat Can Kurt\n",
      "                                                    \n",
      "ADRES:\n",
      "Bahçelievler Mah.\n",
      "133 Sk. Avcı No:15\n",
      "Merkez/Isparta\n",
      "EKLER:\n",
      "Sağlık Raporu\n",
      "\n"
     ]
    }
   ],
   "source": [
    "dilekce=\"\"\"\n",
    "T.C\n",
    "{} ÜNİVERSİTESİ {} DEKANLIĞINA\n",
    "{}\n",
    "\n",
    "    Fakülteniz {} Bölümü, {} nolu öğrencisiyim. Ekte sunmuş olduğum belgede\n",
    "belirtilen mazeretim nedeniyle {} Eğitim-Öğretim yılı {}. yarıyılında öğretime\n",
    "ara izni (kayıt dondurma) istiyorum.\n",
    "    Gereğini ve bilgilerinizi arz ederim.\n",
    "                                                    {}\n",
    "                                                    {}\n",
    "                                                    \n",
    "ADRES:\n",
    "{} Mah.\n",
    "{} Sk. {} No:{}\n",
    "{}/{}\n",
    "EKLER:\n",
    "{}\n",
    "\"\"\"\n",
    "üni=input(\"Üniversite: \")\n",
    "fak=input(\"Fakülte: \")\n",
    "ünisehir=input(\"Bölüm Şehri: \")\n",
    "bölüm=input(\"Bölüm: \")\n",
    "no=input(\"Öğrenci No: \")\n",
    "yıl=input(\"Yıl: \")\n",
    "yary=input(\"Yarıyıl: \")\n",
    "tarih=input(\"Tarih: \")\n",
    "isim=input(\"İsim: \")\n",
    "mah=input(\"Mahalle: \")\n",
    "sok=input(\"Sokak: \")\n",
    "ap=input(\"Apartman adı: \")\n",
    "Kno=input(\"Kapı No: \")\n",
    "ilce=input(\"Adres İlçe: \")\n",
    "il=input(\"Adres ili: \")\n",
    "ek=input(\"Ek adı: \")\n",
    "print(dilekce.format(üni,fak,ünisehir,bölüm,no,yıl,yary,tarih,isim,mah,sok,ap,Kno,ilce,il,ek))"
   ]
  },
  {
   "cell_type": "code",
   "execution_count": null,
   "metadata": {},
   "outputs": [],
   "source": []
  }
 ],
 "metadata": {
  "kernelspec": {
   "display_name": "Python 3",
   "language": "python",
   "name": "python3"
  },
  "language_info": {
   "codemirror_mode": {
    "name": "ipython",
    "version": 3
   },
   "file_extension": ".py",
   "mimetype": "text/x-python",
   "name": "python",
   "nbconvert_exporter": "python",
   "pygments_lexer": "ipython3",
   "version": "3.7.6"
  }
 },
 "nbformat": 4,
 "nbformat_minor": 2
}
