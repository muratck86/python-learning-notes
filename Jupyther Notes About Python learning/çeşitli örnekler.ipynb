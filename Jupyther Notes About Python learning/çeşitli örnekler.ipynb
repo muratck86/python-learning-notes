{
 "cells": [
  {
   "cell_type": "raw",
   "metadata": {},
   "source": [
    "Eğer aranan isim telefon defterinde varsa, kullanıcıyı bilgilendiriyoruz. Ama eğer eğer isim defterde yoksa, programımız hata veriyor. Bunu önlemek için şöyle bir kod yazabilirsiniz:"
   ]
  },
  {
   "cell_type": "code",
   "execution_count": 2,
   "metadata": {},
   "outputs": [
    {
     "name": "stdout",
     "output_type": "stream",
     "text": [
      "Telefon numarasını öğrenmek için bir kişi adı girin: akd\n",
      "Aradığınız kişi telefon rehberinde yok!\n"
     ]
    }
   ],
   "source": [
    "telefon_defteri = {\"ahmet öz\" : \"0532 532 32 32\",\n",
    "                   \"mehmet su\": \"0543 543 42 42\",\n",
    "                   \"seda naz\" : \"0533 533 33 33\",\n",
    "                   \"eda ala\"  : \"0212 212 12 12\"}\n",
    "\n",
    "kişi = input(\"Telefon numarasını öğrenmek için bir kişi adı girin: \")\n",
    "\n",
    "if kişi in telefon_defteri:\n",
    "    cevap = \"{} adlı kişinin telefon numarası: {}\"\n",
    "    print(cevap.format(kişi, telefon_defteri[kişi]))\n",
    "else:\n",
    "    print(\"Aradığınız kişi telefon rehberinde yok!\")"
   ]
  },
  {
   "cell_type": "code",
   "execution_count": 13,
   "metadata": {},
   "outputs": [
    {
     "name": "stdout",
     "output_type": "stream",
     "text": [
      "liste1: [1, 2, 3, 4, 5]\n",
      "demet1: ('a', 'b', 'c', 'd', 'e')\n",
      "string1: abcde\n",
      "string2: a---b---c---d---e\n",
      "string3: 12345\n"
     ]
    }
   ],
   "source": [
    "sozluk={\"a\":1,\"b\":2,\"c\":3,\"d\":4,\"e\":5}\n",
    "liste1=list(sozluk.values())\n",
    "print (\"liste1:\",liste1)\n",
    "demet1=tuple(sozluk.keys())\n",
    "print (\"demet1:\",demet1)\n",
    "string1=\"\".join(sozluk.keys())\n",
    "print (\"string1:\",string1)\n",
    "string2=\"---\".join(sozluk.keys())\n",
    "print(\"string2:\",string2)\n",
    "string3 = \"\".join([str(i) for i in sozluk.values()])\n",
    "print (\"string3:\",string3)"
   ]
  },
  {
   "cell_type": "raw",
   "metadata": {},
   "source": [
    "sozluk={\"a\":1,\"b\":2,\"c\":3,\"d\":4,\"e\":5}\n",
    "string3 = \"\".join([str(i) for i in sozluk.values()])"
   ]
  },
  {
   "cell_type": "code",
   "execution_count": 22,
   "metadata": {},
   "outputs": [
    {
     "name": "stdout",
     "output_type": "stream",
     "text": [
      "Lütfen anlamını öğrenmek istediğiniz kelimeyi yazınız:dil\n",
      "language\n"
     ]
    }
   ],
   "source": [
    "ing_sözlük = {\"dil\": \"language\", \"bilgisayar\": \"computer\", \"masa\": \"table\"}\n",
    "sorgu = input(\"Lütfen anlamını öğrenmek istediğiniz kelimeyi yazınız:\")\n",
    "if sorgu in ing_sözlük:\n",
    "    print(ing_sözlük[sorgu])\n",
    "else:\n",
    "    print(\"Bu kelime veritabanımızda yoktur!\")"
   ]
  },
  {
   "cell_type": "code",
   "execution_count": 21,
   "metadata": {},
   "outputs": [
    {
     "name": "stdout",
     "output_type": "stream",
     "text": [
      "Lütfen anlamını öğrenmek istediğiniz kelimeyi yazınız:asdf\n",
      "Bu kelime veritabanımızda yoktur!\n"
     ]
    }
   ],
   "source": [
    "ing_sözlük = {\"dil\": \"language\", \"bilgisayar\": \"computer\", \"masa\": \"table\"}\n",
    "sorgu = input(\"Lütfen anlamını öğrenmek istediğiniz kelimeyi yazınız:\")\n",
    "if sorgu not in ing_sözlük:\n",
    "    print(\"Bu kelime veritabanımızda yoktur!\")\n",
    "else:\n",
    "    print(ing_sözlük[sorgu])"
   ]
  },
  {
   "cell_type": "code",
   "execution_count": 31,
   "metadata": {},
   "outputs": [
    {
     "name": "stdout",
     "output_type": "stream",
     "text": [
      "{'dil': 'language', 'bilgisayar': 'computer', 'masa': 'table', 'elma': 'apple'}\n",
      "{'dil': 'language', 'bilgisayar': 'computer', 'masa': 'table', 'elma': 'apple'}\n"
     ]
    }
   ],
   "source": [
    "ing_sözlük = {\"dil\": \"language\", \"bilgisayar\": \"computer\", \"masa\": \"table\"}\n",
    "ing_dictionary=ing_sözlük\n",
    "ing_sözlük[\"elma\"]=\"apple\"\n",
    "print(ing_sözlük)\n",
    "print(ing_dictionary)"
   ]
  },
  {
   "cell_type": "code",
   "execution_count": 32,
   "metadata": {},
   "outputs": [
    {
     "name": "stdout",
     "output_type": "stream",
     "text": [
      "{'dil': 'language', 'bilgisayar': 'computer', 'masa': 'table', 'elma': 'apple'}\n",
      "{'dil': 'language', 'bilgisayar': 'computer', 'masa': 'table'}\n"
     ]
    }
   ],
   "source": [
    "ing_sözlük = {\"dil\": \"language\", \"bilgisayar\": \"computer\", \"masa\": \"table\"}\n",
    "ing_dictionary=ing_sözlük.copy()\n",
    "ing_sözlük[\"elma\"]=\"apple\"\n",
    "print(ing_sözlük)\n",
    "print(ing_dictionary)"
   ]
  },
  {
   "cell_type": "code",
   "execution_count": 2,
   "metadata": {},
   "outputs": [
    {
     "name": "stdout",
     "output_type": "stream",
     "text": [
      "zattarazubbu\n"
     ]
    }
   ],
   "source": [
    "a=str.casefold(\"zaTTarazUbbu\")\n",
    "b=\"zattarazubbu\"\n",
    "if a==b:\n",
    "    print(a)"
   ]
  },
  {
   "cell_type": "code",
   "execution_count": 4,
   "metadata": {},
   "outputs": [
    {
     "name": "stdout",
     "output_type": "stream",
     "text": [
      "Zattarazubbu\n"
     ]
    }
   ],
   "source": [
    "c=str.capitalize(b)\n",
    "print(c)"
   ]
  },
  {
   "cell_type": "code",
   "execution_count": 5,
   "metadata": {},
   "outputs": [
    {
     "name": "stdout",
     "output_type": "stream",
     "text": [
      "ZATTARAZUBBU\n"
     ]
    }
   ],
   "source": [
    "d=str.upper(b)\n",
    "print(d)"
   ]
  },
  {
   "cell_type": "code",
   "execution_count": 6,
   "metadata": {},
   "outputs": [
    {
     "name": "stdout",
     "output_type": "stream",
     "text": [
      "zattarazubbu\n"
     ]
    }
   ],
   "source": [
    "e=str.lower(d)\n",
    "print(e)"
   ]
  },
  {
   "cell_type": "code",
   "execution_count": 13,
   "metadata": {},
   "outputs": [
    {
     "name": "stdout",
     "output_type": "stream",
     "text": [
      "Bir metin girin: wqtase\n",
      "1--- wqtase metninde 2 sesli harf var.\n",
      "Bir metin girin: edhfcjg\n",
      "2--- edhfcjg metninde 1 sesli harf var.\n",
      "Bir metin girin: trhcfgv\n",
      "3--- trhcfgv metin 0 sesli harf var.\n",
      "Bir metin girin: n\n",
      "4--- n metninde 0 sesli harf var.\n",
      "Bir metin girin: iğpj\n",
      "5--- iğpj kelimesinde 1 sesli harf var.\n"
     ]
    }
   ],
   "source": [
    "#Sesli harf sayacı\n",
    "#-------------------------------------------------\n",
    "sesli_harfler = 'aeıioöuü'\n",
    "sayaç = 0\n",
    "\n",
    "kelime = input('Bir metin girin: ')\n",
    "\n",
    "for harf in kelime:\n",
    "    if harf in sesli_harfler:\n",
    "        sayaç += 1\n",
    "\n",
    "mesaj = '{} metninde {} sesli harf var.'\n",
    "print(\"1---\",mesaj.format(kelime, sayaç))\n",
    "#-------------------------------------------------\n",
    "\n",
    "\n",
    "#aynı kodun fonksiyon versiyonu\n",
    "#-------------------------------------------------\n",
    "sesli_harfler = 'aeıioöuü'\n",
    "sayaç = 0\n",
    "\n",
    "kelime = input('Bir metin girin: ')\n",
    "\n",
    "def seslidir(harf):\n",
    "    return harf in sesli_harfler\n",
    "\n",
    "for harf in kelime:\n",
    "    if seslidir(harf):\n",
    "        sayaç += 1\n",
    "\n",
    "mesaj = '{} metninde {} sesli harf var.'\n",
    "print(\"2---\",mesaj.format(kelime, sayaç))\n",
    "#--------------------------------------------------\n",
    "\n",
    "#aynı kodun başka bir fonksiyon versiyonu\n",
    "#--------------------------------------------------\n",
    "sesli_harfler = 'aeıioöuü'\n",
    "sayaç = 0\n",
    "\n",
    "kelime = input('Bir metin girin: ')\n",
    "\n",
    "def seslidir(harf):\n",
    "    return harf in sesli_harfler\n",
    "\n",
    "def artır():\n",
    "    global sayaç\n",
    "    for harf in kelime:\n",
    "        if seslidir(harf):\n",
    "            sayaç += 1\n",
    "    return sayaç\n",
    "\n",
    "mesaj = '{} metin {} sesli harf var.'\n",
    "print(\"3---\",mesaj.format(kelime, artır()))\n",
    "#---------------------------------------------------\n",
    "\n",
    "\n",
    "#aynı kod, daha da fonksiyonlaştırılmış hali\n",
    "#---------------------------------------------------\n",
    "sesli_harfler = 'aeıioöuü'\n",
    "sayaç = 0\n",
    "\n",
    "def kelime_sor():\n",
    "    return input('Bir metin girin: ')\n",
    "\n",
    "def seslidir(harf):\n",
    "    return harf in sesli_harfler\n",
    "\n",
    "def artır(sayaç, kelime):\n",
    "    for harf in kelime:\n",
    "        if seslidir(harf):\n",
    "            sayaç += 1\n",
    "    return sayaç\n",
    "\n",
    "def ekrana_bas(kelime):\n",
    "    mesaj = \"{} metninde {} sesli harf var.\"\n",
    "    print(\"4---\",mesaj.format(kelime, artır(sayaç, kelime)))\n",
    "\n",
    "def çalıştır():\n",
    "    kelime = kelime_sor()\n",
    "    ekrana_bas(kelime)\n",
    "\n",
    "çalıştır()\n",
    "#---------------------------------------------------\n",
    "\n",
    "#aynı kod, class kullanılarak yazılmış hali\n",
    "#---------------------------------------------------\n",
    "class HarfSayacı:\n",
    "    def __init__(self):\n",
    "        self.sesli_harfler = 'aeıioöuü'\n",
    "        self.sayaç = 0\n",
    "\n",
    "    def kelime_sor(self):\n",
    "        return input('Bir metin girin: ')\n",
    "\n",
    "    def seslidir(self, harf):\n",
    "        return harf in self.sesli_harfler\n",
    "\n",
    "    def artır(self):\n",
    "        for harf in self.kelime:\n",
    "            if self.seslidir(harf):\n",
    "                self.sayaç += 1\n",
    "        return self.sayaç\n",
    "\n",
    "    def ekrana_bas(self):\n",
    "        mesaj = \"{} kelimesinde {} sesli harf var.\"\n",
    "        sesli_harf_sayısı = self.artır()\n",
    "        print(\"5---\",mesaj.format(self.kelime, sesli_harf_sayısı))\n",
    "\n",
    "    def çalıştır(self):\n",
    "        self.kelime = self.kelime_sor()\n",
    "        self.ekrana_bas()\n",
    "\n",
    "if __name__ == '__main__':\n",
    "    sayaç = HarfSayacı()\n",
    "    sayaç.çalıştır()"
   ]
  },
  {
   "cell_type": "code",
   "execution_count": 1,
   "metadata": {},
   "outputs": [
    {
     "name": "stdout",
     "output_type": "stream",
     "text": [
      "Programa Hoşgeldiniz.\n"
     ]
    }
   ],
   "source": [
    "#-*- coding: utf-8 -*-\n",
    "import sys\n",
    "versiyon_uymaz=u\"\"\"\n",
    "Bu program Python Version {}.{}.{} ile hazırlanmıştır.\n",
    "Sizin kullandığınız Python Version {}.{}.{}\n",
    "Versiyonlar aynı olmadığı için program düzgün çalışmaya bilir.\"\"\"\n",
    "versiyon_ok=\"Programa Hoşgeldiniz.\"\n",
    "if sys.version_info.major <3:\n",
    "    print(versiyon_uymaz)\n",
    "elif sys.version_info.major==3 and sys.version_info.minor<3:\n",
    "    print(versiyon_uymaz)\n",
    "else:\n",
    "    print(versiyon_ok)"
   ]
  },
  {
   "cell_type": "code",
   "execution_count": 2,
   "metadata": {},
   "outputs": [
    {
     "data": {
      "text/plain": [
       "['murat', 'can', 'kurt']"
      ]
     },
     "execution_count": 2,
     "metadata": {},
     "output_type": "execute_result"
    }
   ],
   "source": [
    "a=\"murat,can,kurt\"\n",
    "liste = a.split(\",\")\n",
    "liste"
   ]
  },
  {
   "cell_type": "code",
   "execution_count": null,
   "metadata": {},
   "outputs": [],
   "source": []
  }
 ],
 "metadata": {
  "kernelspec": {
   "display_name": "Python 3",
   "language": "python",
   "name": "python3"
  },
  "language_info": {
   "codemirror_mode": {
    "name": "ipython",
    "version": 3
   },
   "file_extension": ".py",
   "mimetype": "text/x-python",
   "name": "python",
   "nbconvert_exporter": "python",
   "pygments_lexer": "ipython3",
   "version": "3.7.6"
  }
 },
 "nbformat": 4,
 "nbformat_minor": 2
}
