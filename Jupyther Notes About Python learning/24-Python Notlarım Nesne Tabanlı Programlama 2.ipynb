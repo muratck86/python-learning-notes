{
 "cells": [
  {
   "cell_type": "markdown",
   "metadata": {},
   "source": [
    "## @property bezeyicisi (decorator)"
   ]
  },
  {
   "cell_type": "markdown",
   "metadata": {},
   "source": [
    "Bildiğimiz gibi bir sınıf içinde verileri tutan değişkenlere nitelik ya da özellik (attribute) diyoruz. Sınıf içinde tanımladığımz fonksiyonlara ise sınıf ya da örnek metodu diyoruz."
   ]
  },
  {
   "cell_type": "code",
   "execution_count": 1,
   "metadata": {},
   "outputs": [],
   "source": [
    "class Falanca():\n",
    "    nitelik = 'nitelik' #sınıf niteliği\n",
    "\n",
    "    def __init__(self): #özel metod\n",
    "        self.nitelik = 'nitelik' #örnek niteliği\n",
    "        \n",
    "    def örnek_fonk(self): #örnek metodu\n",
    "        pass\n",
    "\n",
    "    @classmethod\n",
    "    def sınıf_fonk(cls): #sınıf metodu\n",
    "        pass\n",
    "\n",
    "    @staticmethod\n",
    "    def statik_fonk(): #statik metod\n",
    "        pass"
   ]
  },
  {
   "cell_type": "markdown",
   "metadata": {},
   "source": [
    "Yine bildiğimiz gibi yapılacak işlemlerin karmaşıklığı ile ilgili farkların yanında kullanım açısından da nitelikler ve metodlar arasında farklar vardır. Niteliklere \"=\" işleci ile atama yolu ile değer değiştiriyoruz, Metodlarda ise böyle birşey söz konusu değildir. Metodlarla parametre alıyorsa parametre yoluyla iletişim kurarız."
   ]
  },
  {
   "cell_type": "code",
   "execution_count": 3,
   "metadata": {},
   "outputs": [],
   "source": [
    "sınıf=Falanca\n",
    "sınıf.nitelik=\"yeni nitelik\""
   ]
  },
  {
   "cell_type": "code",
   "execution_count": 5,
   "metadata": {},
   "outputs": [
    {
     "ename": "SyntaxError",
     "evalue": "can't assign to function call (<ipython-input-5-c4beef42243e>, line 1)",
     "output_type": "error",
     "traceback": [
      "\u001b[1;36m  File \u001b[1;32m\"<ipython-input-5-c4beef42243e>\"\u001b[1;36m, line \u001b[1;32m1\u001b[0m\n\u001b[1;33m    sınıf.örnek_fonk()=\"yeni\"\u001b[0m\n\u001b[1;37m                             ^\u001b[0m\n\u001b[1;31mSyntaxError\u001b[0m\u001b[1;31m:\u001b[0m can't assign to function call\n"
     ]
    }
   ],
   "source": [
    "sınıf.örnek_fonk()=\"yeni\""
   ]
  },
  {
   "cell_type": "markdown",
   "metadata": {},
   "source": [
    "#### İşte @property bezeyicisi ile bir metodu bezeyerek onun nitelik gibi davranmasını sağlayabiliriz. "
   ]
  },
  {
   "cell_type": "code",
   "execution_count": 10,
   "metadata": {},
   "outputs": [
    {
     "data": {
      "text/plain": [
       "'0.1'"
      ]
     },
     "execution_count": 10,
     "metadata": {},
     "output_type": "execute_result"
    }
   ],
   "source": [
    "class Program():\n",
    "    def __init__(self):\n",
    "        pass\n",
    "\n",
    "    def versiyon(self):\n",
    "        return '0.1'\n",
    "prog=Program()\n",
    "prog.versiyon()"
   ]
  },
  {
   "cell_type": "code",
   "execution_count": 12,
   "metadata": {},
   "outputs": [
    {
     "data": {
      "text/plain": [
       "'0.1'"
      ]
     },
     "execution_count": 12,
     "metadata": {},
     "output_type": "execute_result"
    }
   ],
   "source": [
    "class Program():\n",
    "    def __init__(self):\n",
    "        pass\n",
    "\n",
    "    @property #sadece bu satırı ekledik. Böylece versiyon metodunu nitelik haline getirmiş olduk.\n",
    "    def versiyon(self):\n",
    "        return '0.1'\n",
    "prog=Program()\n",
    "prog.versiyon"
   ]
  },
  {
   "cell_type": "markdown",
   "metadata": {},
   "source": [
    "Neden böyle bir işleme ihtiyaç duyulabilir?"
   ]
  },
  {
   "cell_type": "code",
   "execution_count": 19,
   "metadata": {},
   "outputs": [
    {
     "data": {
      "text/plain": [
       "0"
      ]
     },
     "execution_count": 19,
     "metadata": {},
     "output_type": "execute_result"
    }
   ],
   "source": [
    "#Diyelim ki aşağıdaki gibi bir programımız var...\n",
    "class Program():\n",
    "    def __init__(self):\n",
    "        self.data = 0\n",
    "pr=Program()\n",
    "pr.data #data niteliğini kullanıyoruz..."
   ]
  },
  {
   "cell_type": "code",
   "execution_count": 20,
   "metadata": {},
   "outputs": [],
   "source": [
    "pr.data=1 #gerekirse değiştiriyoruz..."
   ]
  },
  {
   "cell_type": "code",
   "execution_count": 24,
   "metadata": {},
   "outputs": [],
   "source": [
    "#programda güncelleme yaptığımızda yeni versiyonda artık data yerine veri kelimesini kullanmaya karar verdik diyelim.\n",
    "class Program():\n",
    "    def __init__(self):\n",
    "        self.veri = 0\n",
    "#Bu durumda programı eskiden beri kullananların \"data\" kullanarak oluşturdukları programları bozmuş olduk.\n",
    "#Geriye dönük uyumluluk (backwards compatibility) yok..."
   ]
  },
  {
   "cell_type": "code",
   "execution_count": 31,
   "metadata": {},
   "outputs": [
    {
     "data": {
      "text/plain": [
       "0"
      ]
     },
     "execution_count": 31,
     "metadata": {},
     "output_type": "execute_result"
    }
   ],
   "source": [
    "class Program():\n",
    "    def __init__(self):\n",
    "        self.veri = 0\n",
    "\n",
    "    @property\n",
    "    def data(self):\n",
    "        return self.veri\n",
    "\n",
    "#Bu şekilde, self.data niteliğine yapılan bütün çağrılar data() adlı metot vasıtasıyla self.veri niteliğine yönlendirilecek. \n",
    "#Böylece geriye dönük uyumluluğu da sağlamış olduk. Yeni kullanıcılar \"veri\" kullanabilir, eskilerin yazdıkları da\n",
    "#@property sayesinde çöp olmamış oldu.\n",
    "p=Program()\n",
    "p.data"
   ]
  },
  {
   "cell_type": "code",
   "execution_count": 33,
   "metadata": {},
   "outputs": [
    {
     "data": {
      "text/plain": [
       "5"
      ]
     },
     "execution_count": 33,
     "metadata": {},
     "output_type": "execute_result"
    }
   ],
   "source": [
    "p.veri=5\n",
    "p.data"
   ]
  },
  {
   "cell_type": "markdown",
   "metadata": {},
   "source": [
    "### @property bezeyicisinin değer döndürmesi özelliği..."
   ]
  },
  {
   "cell_type": "markdown",
   "metadata": {},
   "source": [
    "@property bezeyicisinin bu özelliği yanında çok önemli bir özelliği getirir:"
   ]
  },
  {
   "cell_type": "code",
   "execution_count": 35,
   "metadata": {},
   "outputs": [
    {
     "ename": "AttributeError",
     "evalue": "can't set attribute",
     "output_type": "error",
     "traceback": [
      "\u001b[1;31m---------------------------------------------------------------------------\u001b[0m",
      "\u001b[1;31mAttributeError\u001b[0m                            Traceback (most recent call last)",
      "\u001b[1;32m<ipython-input-35-dbed69f39eb6>\u001b[0m in \u001b[0;36m<module>\u001b[1;34m\u001b[0m\n\u001b[0;32m      1\u001b[0m \u001b[1;31m#yukarıdaki programımızda \"veri\" niteliğinin değerini @property niteliği olan \"data\" kullanarak kdeğiştirelim...\u001b[0m\u001b[1;33m\u001b[0m\u001b[1;33m\u001b[0m\u001b[1;33m\u001b[0m\u001b[0m\n\u001b[1;32m----> 2\u001b[1;33m \u001b[0mp\u001b[0m\u001b[1;33m.\u001b[0m\u001b[0mdata\u001b[0m\u001b[1;33m=\u001b[0m\u001b[1;36m10\u001b[0m\u001b[1;33m\u001b[0m\u001b[1;33m\u001b[0m\u001b[0m\n\u001b[0m",
      "\u001b[1;31mAttributeError\u001b[0m: can't set attribute"
     ]
    }
   ],
   "source": [
    "#yukarıdaki programımızda \"veri\" niteliğinin değerini @property niteliği olan \"data\" kullanarak kdeğiştirelim...\n",
    "p.data=10"
   ]
  },
  {
   "cell_type": "markdown",
   "metadata": {},
   "source": [
    "Görüldüğü gibi bu bezeyici ile salt okunur nitelikler oluşturuyor. Bu özellik kullanılarak kullanıcıların değiştirmesini istemediğimiz salt okunur değişkenler oluşturabiliriz. İşte bu @property bezeyicisinin değer döndürmesi özelliğidir."
   ]
  },
  {
   "cell_type": "markdown",
   "metadata": {},
   "source": [
    "### @property bezeyicisinin değer ataması özelliği..."
   ]
  },
  {
   "cell_type": "code",
   "execution_count": 37,
   "metadata": {},
   "outputs": [],
   "source": [
    "class Program():\n",
    "    def __init__(self):\n",
    "        self.veri = 0\n",
    "\n",
    "    @property\n",
    "    def data(self):\n",
    "        return self.veri\n",
    "#Buraya kadar olan işlemi biliyoruz. Eskiden \"data\" ismiyle kullandığımız niteliğin adını programımızın yeni versiyonunda\n",
    "#\"veri\" olarak değiştirmiştik. Geriye dönük uyumluluk açısından eski adının da hala kullanılabilir olması için @property \n",
    "#bezeyicisini kullanmıştık. Ancak biliyoruz ki bu şekilde niteliğimiz ancak salt okunur şekilde ulaşılabilir oldu.\n",
    "    @data.setter\n",
    "    def data(self,yeni_deger):\n",
    "        self.veri=yeni_deger\n",
    "        return self.veri\n",
    "#İşte @property bezyicisinin özel setter bezeyicisi ile yeni bir fonksiyon tanımlayarak bunu gerçekleştirmiş oluyoruz."
   ]
  },
  {
   "cell_type": "code",
   "execution_count": 39,
   "metadata": {},
   "outputs": [
    {
     "data": {
      "text/plain": [
       "12"
      ]
     },
     "execution_count": 39,
     "metadata": {},
     "output_type": "execute_result"
    }
   ],
   "source": [
    "pr=Program()\n",
    "pr.data=12\n",
    "pr.veri"
   ]
  },
  {
   "cell_type": "code",
   "execution_count": 40,
   "metadata": {},
   "outputs": [],
   "source": [
    "#özel setter bezeyicisini kullanarak veri doğrulama gibi ek özellikler de ekleyebiliriz. Örneğin \"veri\" değişkenimizin sadece\n",
    "#çift sayılar alan bir nitelik olması gerektiğini varsayalım. Kullanıcı tek sayı girdiğinde kabul etmeyip uyarı versin..."
   ]
  },
  {
   "cell_type": "code",
   "execution_count": 77,
   "metadata": {},
   "outputs": [],
   "source": [
    "class Program():\n",
    "    def __init__(self):\n",
    "        self.veri = 0\n",
    "\n",
    "    @property\n",
    "    def data(self):\n",
    "        return self.veri\n",
    "    @data.setter\n",
    "    def data(self,yeni_deger):\n",
    "        if yeni_deger%2==0:\n",
    "            self.veri=yeni_deger\n",
    "        else:\n",
    "            print(\"Girdiğiniz sayı çift sayı değil...\")\n",
    "        return self.veri"
   ]
  },
  {
   "cell_type": "code",
   "execution_count": 78,
   "metadata": {},
   "outputs": [
    {
     "name": "stdout",
     "output_type": "stream",
     "text": [
      "Girdiğiniz sayı çift sayı değil...\n"
     ]
    }
   ],
   "source": [
    "pr=Program()\n",
    "pr.data=3"
   ]
  },
  {
   "cell_type": "code",
   "execution_count": 79,
   "metadata": {},
   "outputs": [
    {
     "data": {
      "text/plain": [
       "6"
      ]
     },
     "execution_count": 79,
     "metadata": {},
     "output_type": "execute_result"
    }
   ],
   "source": [
    "pr.data=6\n",
    "pr.data"
   ]
  },
  {
   "cell_type": "code",
   "execution_count": 83,
   "metadata": {},
   "outputs": [
    {
     "data": {
      "text/plain": [
       "6"
      ]
     },
     "execution_count": 83,
     "metadata": {},
     "output_type": "execute_result"
    }
   ],
   "source": [
    "pr.data"
   ]
  },
  {
   "cell_type": "markdown",
   "metadata": {},
   "source": [
    "### @property bezeyicisinin değer silme özelliği..."
   ]
  },
  {
   "cell_type": "code",
   "execution_count": 84,
   "metadata": {},
   "outputs": [],
   "source": [
    "class Program():\n",
    "    def __init__(self):\n",
    "        self.veri = 0\n",
    "\n",
    "    @property\n",
    "    def data(self):\n",
    "        return self.veri\n",
    "    @data.setter\n",
    "    def data(self,yeni_deger):\n",
    "        if yeni_deger%2==0:\n",
    "            self.veri=yeni_deger\n",
    "        else:\n",
    "            print(\"Girdiğiniz sayı çift sayı değil...\")\n",
    "        return self.veri\n",
    "    @data.deleter\n",
    "    def data(self):\n",
    "        del self.veri"
   ]
  },
  {
   "cell_type": "code",
   "execution_count": 85,
   "metadata": {},
   "outputs": [],
   "source": [
    "pr=Program()"
   ]
  },
  {
   "cell_type": "code",
   "execution_count": 86,
   "metadata": {},
   "outputs": [],
   "source": [
    "pr.data=6"
   ]
  },
  {
   "cell_type": "code",
   "execution_count": 87,
   "metadata": {},
   "outputs": [
    {
     "data": {
      "text/plain": [
       "6"
      ]
     },
     "execution_count": 87,
     "metadata": {},
     "output_type": "execute_result"
    }
   ],
   "source": [
    "pr.data"
   ]
  },
  {
   "cell_type": "code",
   "execution_count": 88,
   "metadata": {},
   "outputs": [],
   "source": [
    "del pr.data"
   ]
  },
  {
   "cell_type": "code",
   "execution_count": 89,
   "metadata": {},
   "outputs": [
    {
     "ename": "AttributeError",
     "evalue": "'Program' object has no attribute 'veri'",
     "output_type": "error",
     "traceback": [
      "\u001b[1;31m---------------------------------------------------------------------------\u001b[0m",
      "\u001b[1;31mAttributeError\u001b[0m                            Traceback (most recent call last)",
      "\u001b[1;32m<ipython-input-89-7ab12aa7e77e>\u001b[0m in \u001b[0;36m<module>\u001b[1;34m\u001b[0m\n\u001b[1;32m----> 1\u001b[1;33m \u001b[0mpr\u001b[0m\u001b[1;33m.\u001b[0m\u001b[0mdata\u001b[0m\u001b[1;33m\u001b[0m\u001b[1;33m\u001b[0m\u001b[0m\n\u001b[0m",
      "\u001b[1;32m<ipython-input-84-b54d1f8d0133>\u001b[0m in \u001b[0;36mdata\u001b[1;34m(self)\u001b[0m\n\u001b[0;32m      5\u001b[0m     \u001b[1;33m@\u001b[0m\u001b[0mproperty\u001b[0m\u001b[1;33m\u001b[0m\u001b[1;33m\u001b[0m\u001b[0m\n\u001b[0;32m      6\u001b[0m     \u001b[1;32mdef\u001b[0m \u001b[0mdata\u001b[0m\u001b[1;33m(\u001b[0m\u001b[0mself\u001b[0m\u001b[1;33m)\u001b[0m\u001b[1;33m:\u001b[0m\u001b[1;33m\u001b[0m\u001b[1;33m\u001b[0m\u001b[0m\n\u001b[1;32m----> 7\u001b[1;33m         \u001b[1;32mreturn\u001b[0m \u001b[0mself\u001b[0m\u001b[1;33m.\u001b[0m\u001b[0mveri\u001b[0m\u001b[1;33m\u001b[0m\u001b[1;33m\u001b[0m\u001b[0m\n\u001b[0m\u001b[0;32m      8\u001b[0m     \u001b[1;33m@\u001b[0m\u001b[0mdata\u001b[0m\u001b[1;33m.\u001b[0m\u001b[0msetter\u001b[0m\u001b[1;33m\u001b[0m\u001b[1;33m\u001b[0m\u001b[0m\n\u001b[0;32m      9\u001b[0m     \u001b[1;32mdef\u001b[0m \u001b[0mdata\u001b[0m\u001b[1;33m(\u001b[0m\u001b[0mself\u001b[0m\u001b[1;33m,\u001b[0m\u001b[0myeni_deger\u001b[0m\u001b[1;33m)\u001b[0m\u001b[1;33m:\u001b[0m\u001b[1;33m\u001b[0m\u001b[1;33m\u001b[0m\u001b[0m\n",
      "\u001b[1;31mAttributeError\u001b[0m: 'Program' object has no attribute 'veri'"
     ]
    }
   ],
   "source": [
    "pr.data"
   ]
  },
  {
   "cell_type": "code",
   "execution_count": 44,
   "metadata": {},
   "outputs": [],
   "source": [
    "class Çalışan():\n",
    "    personel = []\n",
    "\n",
    "    def __init__(self, isim):\n",
    "        self.isim = isim\n",
    "        self.kabiliyetleri = []\n",
    "\n",
    "    def personele_ekle(self):\n",
    "        self.personel.append(self.isim)\n",
    "        print('{} adlı kişi personele eklendi'.format(self.isim))\n",
    "\n",
    "    def personeli_görüntüle(self):\n",
    "        print('Personel listesi:')\n",
    "        for kişi in self.personel:\n",
    "            print(kişi)\n",
    "\n",
    "    def kabiliyet_ekle(self, kabiliyet):\n",
    "        self.kabiliyetleri.append(kabiliyet)\n",
    "\n",
    "    def kabiliyetleri_görüntüle(self):\n",
    "        print('{} adlı kişinin kabiliyetleri:'.format(self.isim))\n",
    "        for kabiliyet in self.kabiliyetleri:\n",
    "            print(kabiliyet)\n",
    "a=Çalışan(\"ahmet\")"
   ]
  },
  {
   "cell_type": "code",
   "execution_count": 51,
   "metadata": {},
   "outputs": [
    {
     "name": "stdout",
     "output_type": "stream",
     "text": [
      "ahmet adlı kişi personele eklendi\n"
     ]
    }
   ],
   "source": [
    "a.personele_ekle()"
   ]
  },
  {
   "cell_type": "code",
   "execution_count": 69,
   "metadata": {},
   "outputs": [
    {
     "data": {
      "text/plain": [
       "0"
      ]
     },
     "execution_count": 69,
     "metadata": {},
     "output_type": "execute_result"
    }
   ],
   "source": [
    "class Program():\n",
    "    def __init__(self):\n",
    "        self.data = 0\n",
    "    @property\n",
    "    def veri(self):\n",
    "        return self.data\n",
    "p=Program()\n",
    "p.data"
   ]
  },
  {
   "cell_type": "code",
   "execution_count": 79,
   "metadata": {},
   "outputs": [],
   "source": [
    "class Program():\n",
    "    def __init__(self):\n",
    "        self.veri = 0\n",
    "\n",
    "    @property\n",
    "    def data(self):\n",
    "        return self.veri\n",
    "pr=Program()"
   ]
  },
  {
   "cell_type": "code",
   "execution_count": 80,
   "metadata": {},
   "outputs": [
    {
     "data": {
      "text/plain": [
       "0"
      ]
     },
     "execution_count": 80,
     "metadata": {},
     "output_type": "execute_result"
    }
   ],
   "source": [
    "pr.data"
   ]
  },
  {
   "cell_type": "code",
   "execution_count": 81,
   "metadata": {},
   "outputs": [
    {
     "data": {
      "text/plain": [
       "0"
      ]
     },
     "execution_count": 81,
     "metadata": {},
     "output_type": "execute_result"
    }
   ],
   "source": [
    "pr.veri"
   ]
  },
  {
   "cell_type": "code",
   "execution_count": 82,
   "metadata": {},
   "outputs": [
    {
     "ename": "AttributeError",
     "evalue": "can't set attribute",
     "output_type": "error",
     "traceback": [
      "\u001b[1;31m---------------------------------------------------------------------------\u001b[0m",
      "\u001b[1;31mAttributeError\u001b[0m                            Traceback (most recent call last)",
      "\u001b[1;32m<ipython-input-82-8c7037cbfe3c>\u001b[0m in \u001b[0;36m<module>\u001b[1;34m\u001b[0m\n\u001b[1;32m----> 1\u001b[1;33m \u001b[0mpr\u001b[0m\u001b[1;33m.\u001b[0m\u001b[0mdata\u001b[0m\u001b[1;33m=\u001b[0m\u001b[1;36m2\u001b[0m\u001b[1;33m\u001b[0m\u001b[1;33m\u001b[0m\u001b[0m\n\u001b[0m",
      "\u001b[1;31mAttributeError\u001b[0m: can't set attribute"
     ]
    }
   ],
   "source": [
    "pr.data=2"
   ]
  },
  {
   "cell_type": "code",
   "execution_count": 93,
   "metadata": {},
   "outputs": [
    {
     "ename": "AttributeError",
     "evalue": "can't set attribute",
     "output_type": "error",
     "traceback": [
      "\u001b[1;31m---------------------------------------------------------------------------\u001b[0m",
      "\u001b[1;31mAttributeError\u001b[0m                            Traceback (most recent call last)",
      "\u001b[1;32m<ipython-input-93-a3e741d9f553>\u001b[0m in \u001b[0;36m<module>\u001b[1;34m\u001b[0m\n\u001b[0;32m      8\u001b[0m \u001b[0mp\u001b[0m\u001b[1;33m=\u001b[0m\u001b[0mProgram\u001b[0m\u001b[1;33m(\u001b[0m\u001b[1;33m)\u001b[0m\u001b[1;33m\u001b[0m\u001b[1;33m\u001b[0m\u001b[0m\n\u001b[0;32m      9\u001b[0m \u001b[0mp\u001b[0m\u001b[1;33m.\u001b[0m\u001b[0m_sayı\u001b[0m\u001b[1;33m=\u001b[0m\u001b[1;36m1\u001b[0m\u001b[1;33m\u001b[0m\u001b[1;33m\u001b[0m\u001b[0m\n\u001b[1;32m---> 10\u001b[1;33m \u001b[0mp\u001b[0m\u001b[1;33m.\u001b[0m\u001b[0msayı\u001b[0m\u001b[1;33m=\u001b[0m\u001b[1;36m3\u001b[0m\u001b[1;33m\u001b[0m\u001b[1;33m\u001b[0m\u001b[0m\n\u001b[0m",
      "\u001b[1;31mAttributeError\u001b[0m: can't set attribute"
     ]
    }
   ],
   "source": [
    "class Program():\n",
    "    def __init__(self):\n",
    "        self._sayı = 0\n",
    "    @property\n",
    "    def sayı(self):\n",
    "        return self._sayı\n",
    "    \n",
    "p=Program()\n",
    "p._sayı=1\n",
    "p.sayı=3"
   ]
  },
  {
   "cell_type": "code",
   "execution_count": 97,
   "metadata": {},
   "outputs": [],
   "source": [
    "class Oyuncu():\n",
    "    def __init__(self, isim, rütbe):\n",
    "        self.isim = isim\n",
    "        self.rütbe = rütbe\n",
    "        self.güç = 0\n",
    "\n",
    "    def hareket_et(self):\n",
    "        print('hareket ediliyor...')\n",
    "\n",
    "    def puan_kazan(self):\n",
    "        print('puan kazanıldı')\n",
    "\n",
    "    def puan_kaybet(self):\n",
    "        print('puan kaybedildi')\n",
    "        \n",
    "pl1=Oyuncu(\"Mehmet\",\"Lv1\")\n",
    "pl1.memleket=\"Muş\""
   ]
  },
  {
   "cell_type": "code",
   "execution_count": 98,
   "metadata": {
    "scrolled": true
   },
   "outputs": [
    {
     "data": {
      "text/plain": [
       "['__class__',\n",
       " '__delattr__',\n",
       " '__dict__',\n",
       " '__dir__',\n",
       " '__doc__',\n",
       " '__eq__',\n",
       " '__format__',\n",
       " '__ge__',\n",
       " '__getattribute__',\n",
       " '__gt__',\n",
       " '__hash__',\n",
       " '__init__',\n",
       " '__init_subclass__',\n",
       " '__le__',\n",
       " '__lt__',\n",
       " '__module__',\n",
       " '__ne__',\n",
       " '__new__',\n",
       " '__reduce__',\n",
       " '__reduce_ex__',\n",
       " '__repr__',\n",
       " '__setattr__',\n",
       " '__sizeof__',\n",
       " '__str__',\n",
       " '__subclasshook__',\n",
       " '__weakref__',\n",
       " 'güç',\n",
       " 'hareket_et',\n",
       " 'isim',\n",
       " 'memleket',\n",
       " 'puan_kaybet',\n",
       " 'puan_kazan',\n",
       " 'rütbe']"
      ]
     },
     "execution_count": 98,
     "metadata": {},
     "output_type": "execute_result"
    }
   ],
   "source": [
    "dir(pl1)"
   ]
  },
  {
   "cell_type": "code",
   "execution_count": 106,
   "metadata": {},
   "outputs": [
    {
     "data": {
      "text/plain": [
       "<__main__.Oyuncu at 0x205f852e588>"
      ]
     },
     "execution_count": 106,
     "metadata": {},
     "output_type": "execute_result"
    }
   ],
   "source": [
    "pl2=Oyuncu(\"Hasan\",\"Lv1\")\n",
    "pl3=(pl1)\n",
    "pl3"
   ]
  },
  {
   "cell_type": "code",
   "execution_count": 1,
   "metadata": {},
   "outputs": [],
   "source": [
    "import tkinter as tk\n",
    "\n",
    "pencere = tk.Tk()\n",
    "pencere.geometry('200x70')\n",
    "\n",
    "etiket = tk.Label(text='Merhaba Zalim \\nDünya')\n",
    "etiket.pack()\n",
    "\n",
    "düğme = tk.Button(text='Tamam canım', command=pencere.destroy)\n",
    "düğme.pack()\n",
    "\n",
    "pencere.mainloop()"
   ]
  },
  {
   "cell_type": "code",
   "execution_count": 119,
   "metadata": {},
   "outputs": [],
   "source": [
    "import tkinter as tk\n",
    "\n",
    "pencere = tk.Tk()\n",
    "\n",
    "def çıkış():\n",
    "    etiket['text'] = 'Elveda zalim dünya...'\n",
    "    düğme['text'] = 'Bekleyin...'\n",
    "    düğme['state'] = 'disabled'\n",
    "    pencere.after(2000, pencere.destroy)\n",
    "\n",
    "etiket = tk.Label(text='Merhaba Zalim Dünya')\n",
    "etiket.pack()\n",
    "\n",
    "düğme = tk.Button(text='Çık', command=çıkış)\n",
    "düğme.pack()\n",
    "\n",
    "pencere.protocol('WM_DELETE_WINDOW', çıkış)\n",
    "\n",
    "pencere.mainloop()"
   ]
  },
  {
   "cell_type": "code",
   "execution_count": 2,
   "metadata": {},
   "outputs": [],
   "source": [
    "import tkinter as tk\n",
    "\n",
    "class Pencere(tk.Tk):\n",
    "    def __init__(self):\n",
    "        super().__init__()\n",
    "        self.protocol('WM_DELETE_WINDOW', self.çıkış)\n",
    "\n",
    "        self.etiket = tk.Label(text='Merhaba Zalim Dünya')\n",
    "        self.etiket.pack()\n",
    "\n",
    "        self.düğme = tk.Button(text='Çık', command=self.çıkış)\n",
    "        self.düğme.pack()\n",
    "\n",
    "    def çıkış(self):\n",
    "        self.etiket['text'] = 'Elveda zalim dünya...'\n",
    "        self.düğme['text'] = 'Bekleyin...'\n",
    "        self.düğme['state'] = 'disabled'\n",
    "        self.after(2000, self.destroy)\n",
    "\n",
    "pencere = Pencere()\n",
    "pencere.mainloop()"
   ]
  },
  {
   "cell_type": "code",
   "execution_count": null,
   "metadata": {},
   "outputs": [],
   "source": []
  }
 ],
 "metadata": {
  "kernelspec": {
   "display_name": "Python 3",
   "language": "python",
   "name": "python3"
  },
  "language_info": {
   "codemirror_mode": {
    "name": "ipython",
    "version": 3
   },
   "file_extension": ".py",
   "mimetype": "text/x-python",
   "name": "python",
   "nbconvert_exporter": "python",
   "pygments_lexer": "ipython3",
   "version": "3.7.6"
  }
 },
 "nbformat": 4,
 "nbformat_minor": 2
}
